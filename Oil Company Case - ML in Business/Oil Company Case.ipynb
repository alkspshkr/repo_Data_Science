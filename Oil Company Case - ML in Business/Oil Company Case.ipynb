{
 "cells": [
  {
   "cell_type": "markdown",
   "metadata": {},
   "source": [
    "# Выбор локации для скважины"
   ]
  },
  {
   "cell_type": "markdown",
   "metadata": {},
   "source": [
    "Допустим, вы работаете в добывающей компании «ГлавРосГосНефть». Нужно решить, где бурить новую скважину.\n",
    "\n",
    "Вам предоставлены пробы нефти в трёх регионах: в каждом 10 000 месторождений, где измерили качество нефти и объём её запасов. Постройте модель машинного обучения, которая поможет определить регион, где добыча принесёт наибольшую прибыль. Проанализируйте возможную прибыль и риски техникой *Bootstrap.*\n",
    "\n",
    "Шаги для выбора локации:\n",
    "\n",
    "- В избранном регионе ищут месторождения, для каждого определяют значения признаков;\n",
    "- Строят модель и оценивают объём запасов;\n",
    "- Выбирают месторождения с самым высокими оценками значений. Количество месторождений зависит от бюджета компании и стоимости разработки одной скважины;\n",
    "- Прибыль равна суммарной прибыли отобранных месторождений."
   ]
  },
  {
   "cell_type": "markdown",
   "metadata": {},
   "source": [
    "**Содержание исследования**\n",
    "\n",
    "1. [Загрузка и подготовка данных](#1)\n",
    "2. [Предобработка данных](#2)\n",
    "    * [Поиск дубликатов](#2_1)\n",
    "    * [Удаление лишней информации для обучения](#2_2)\n",
    "    * [Аномальные значения в целевом признаке](#2_3)\n",
    "3. [Обучение и проверка модели](#3)\n",
    "4. [Подготовка к расчету прибыли](#4)\n",
    "5. [Расчет прибыли и рисков](#5)\n",
    "6. [Общий вывод](#6)"
   ]
  },
  {
   "cell_type": "markdown",
   "metadata": {},
   "source": [
    "## Загрузка и подготовка данных <a id=\"1\"></a>"
   ]
  },
  {
   "cell_type": "code",
   "execution_count": 1,
   "metadata": {},
   "outputs": [],
   "source": [
    "# загрузка модулей для работы с датасетом\n",
    "import pandas as pd\n",
    "import numpy as np"
   ]
  },
  {
   "cell_type": "code",
   "execution_count": 2,
   "metadata": {},
   "outputs": [],
   "source": [
    "# загрузка модулей для работы с МашОбом\n",
    "from sklearn.linear_model import LinearRegression\n",
    "from sklearn.metrics import mean_squared_error\n",
    "from sklearn.model_selection import train_test_split"
   ]
  },
  {
   "cell_type": "markdown",
   "metadata": {},
   "source": [
    "<div class=\"alert alert-block alert-success\">\n",
    "<b>Успех:</b> Импорты и описание на месте\n",
    "    \n",
    "  \n",
    "</div>\n"
   ]
  },
  {
   "cell_type": "markdown",
   "metadata": {},
   "source": [
    "Познакомимся с нашими данными:"
   ]
  },
  {
   "cell_type": "code",
   "execution_count": 3,
   "metadata": {},
   "outputs": [],
   "source": [
    "region_0 = pd.read_csv('https://code.s3.yandex.net/datasets/geo_data_0.csv')\n",
    "region_1 = pd.read_csv('https://code.s3.yandex.net/datasets/geo_data_1.csv')\n",
    "region_2 = pd.read_csv('https://code.s3.yandex.net/datasets/geo_data_2.csv')"
   ]
  },
  {
   "cell_type": "code",
   "execution_count": 4,
   "metadata": {},
   "outputs": [],
   "source": [
    "def take_info(df: pd.DataFrame, info: str):\n",
    "    if info == 'info':\n",
    "        display(df.head())\n",
    "        df.info()\n",
    "        display(df.describe())\n",
    "    elif info == 'dup':\n",
    "        print(f'Количество дубликатов: {df.duplicated().sum()}')"
   ]
  },
  {
   "cell_type": "markdown",
   "metadata": {},
   "source": [
    "**Первый регион**"
   ]
  },
  {
   "cell_type": "code",
   "execution_count": 5,
   "metadata": {},
   "outputs": [
    {
     "data": {
      "text/html": [
       "<div>\n",
       "<style scoped>\n",
       "    .dataframe tbody tr th:only-of-type {\n",
       "        vertical-align: middle;\n",
       "    }\n",
       "\n",
       "    .dataframe tbody tr th {\n",
       "        vertical-align: top;\n",
       "    }\n",
       "\n",
       "    .dataframe thead th {\n",
       "        text-align: right;\n",
       "    }\n",
       "</style>\n",
       "<table border=\"1\" class=\"dataframe\">\n",
       "  <thead>\n",
       "    <tr style=\"text-align: right;\">\n",
       "      <th></th>\n",
       "      <th>id</th>\n",
       "      <th>f0</th>\n",
       "      <th>f1</th>\n",
       "      <th>f2</th>\n",
       "      <th>product</th>\n",
       "    </tr>\n",
       "  </thead>\n",
       "  <tbody>\n",
       "    <tr>\n",
       "      <th>0</th>\n",
       "      <td>txEyH</td>\n",
       "      <td>0.705745</td>\n",
       "      <td>-0.497823</td>\n",
       "      <td>1.221170</td>\n",
       "      <td>105.280062</td>\n",
       "    </tr>\n",
       "    <tr>\n",
       "      <th>1</th>\n",
       "      <td>2acmU</td>\n",
       "      <td>1.334711</td>\n",
       "      <td>-0.340164</td>\n",
       "      <td>4.365080</td>\n",
       "      <td>73.037750</td>\n",
       "    </tr>\n",
       "    <tr>\n",
       "      <th>2</th>\n",
       "      <td>409Wp</td>\n",
       "      <td>1.022732</td>\n",
       "      <td>0.151990</td>\n",
       "      <td>1.419926</td>\n",
       "      <td>85.265647</td>\n",
       "    </tr>\n",
       "    <tr>\n",
       "      <th>3</th>\n",
       "      <td>iJLyR</td>\n",
       "      <td>-0.032172</td>\n",
       "      <td>0.139033</td>\n",
       "      <td>2.978566</td>\n",
       "      <td>168.620776</td>\n",
       "    </tr>\n",
       "    <tr>\n",
       "      <th>4</th>\n",
       "      <td>Xdl7t</td>\n",
       "      <td>1.988431</td>\n",
       "      <td>0.155413</td>\n",
       "      <td>4.751769</td>\n",
       "      <td>154.036647</td>\n",
       "    </tr>\n",
       "  </tbody>\n",
       "</table>\n",
       "</div>"
      ],
      "text/plain": [
       "      id        f0        f1        f2     product\n",
       "0  txEyH  0.705745 -0.497823  1.221170  105.280062\n",
       "1  2acmU  1.334711 -0.340164  4.365080   73.037750\n",
       "2  409Wp  1.022732  0.151990  1.419926   85.265647\n",
       "3  iJLyR -0.032172  0.139033  2.978566  168.620776\n",
       "4  Xdl7t  1.988431  0.155413  4.751769  154.036647"
      ]
     },
     "metadata": {},
     "output_type": "display_data"
    },
    {
     "name": "stdout",
     "output_type": "stream",
     "text": [
      "<class 'pandas.core.frame.DataFrame'>\n",
      "RangeIndex: 100000 entries, 0 to 99999\n",
      "Data columns (total 5 columns):\n",
      " #   Column   Non-Null Count   Dtype  \n",
      "---  ------   --------------   -----  \n",
      " 0   id       100000 non-null  object \n",
      " 1   f0       100000 non-null  float64\n",
      " 2   f1       100000 non-null  float64\n",
      " 3   f2       100000 non-null  float64\n",
      " 4   product  100000 non-null  float64\n",
      "dtypes: float64(4), object(1)\n",
      "memory usage: 3.8+ MB\n"
     ]
    },
    {
     "data": {
      "text/html": [
       "<div>\n",
       "<style scoped>\n",
       "    .dataframe tbody tr th:only-of-type {\n",
       "        vertical-align: middle;\n",
       "    }\n",
       "\n",
       "    .dataframe tbody tr th {\n",
       "        vertical-align: top;\n",
       "    }\n",
       "\n",
       "    .dataframe thead th {\n",
       "        text-align: right;\n",
       "    }\n",
       "</style>\n",
       "<table border=\"1\" class=\"dataframe\">\n",
       "  <thead>\n",
       "    <tr style=\"text-align: right;\">\n",
       "      <th></th>\n",
       "      <th>f0</th>\n",
       "      <th>f1</th>\n",
       "      <th>f2</th>\n",
       "      <th>product</th>\n",
       "    </tr>\n",
       "  </thead>\n",
       "  <tbody>\n",
       "    <tr>\n",
       "      <th>count</th>\n",
       "      <td>100000.000000</td>\n",
       "      <td>100000.000000</td>\n",
       "      <td>100000.000000</td>\n",
       "      <td>100000.000000</td>\n",
       "    </tr>\n",
       "    <tr>\n",
       "      <th>mean</th>\n",
       "      <td>0.500419</td>\n",
       "      <td>0.250143</td>\n",
       "      <td>2.502647</td>\n",
       "      <td>92.500000</td>\n",
       "    </tr>\n",
       "    <tr>\n",
       "      <th>std</th>\n",
       "      <td>0.871832</td>\n",
       "      <td>0.504433</td>\n",
       "      <td>3.248248</td>\n",
       "      <td>44.288691</td>\n",
       "    </tr>\n",
       "    <tr>\n",
       "      <th>min</th>\n",
       "      <td>-1.408605</td>\n",
       "      <td>-0.848218</td>\n",
       "      <td>-12.088328</td>\n",
       "      <td>0.000000</td>\n",
       "    </tr>\n",
       "    <tr>\n",
       "      <th>25%</th>\n",
       "      <td>-0.072580</td>\n",
       "      <td>-0.200881</td>\n",
       "      <td>0.287748</td>\n",
       "      <td>56.497507</td>\n",
       "    </tr>\n",
       "    <tr>\n",
       "      <th>50%</th>\n",
       "      <td>0.502360</td>\n",
       "      <td>0.250252</td>\n",
       "      <td>2.515969</td>\n",
       "      <td>91.849972</td>\n",
       "    </tr>\n",
       "    <tr>\n",
       "      <th>75%</th>\n",
       "      <td>1.073581</td>\n",
       "      <td>0.700646</td>\n",
       "      <td>4.715088</td>\n",
       "      <td>128.564089</td>\n",
       "    </tr>\n",
       "    <tr>\n",
       "      <th>max</th>\n",
       "      <td>2.362331</td>\n",
       "      <td>1.343769</td>\n",
       "      <td>16.003790</td>\n",
       "      <td>185.364347</td>\n",
       "    </tr>\n",
       "  </tbody>\n",
       "</table>\n",
       "</div>"
      ],
      "text/plain": [
       "                  f0             f1             f2        product\n",
       "count  100000.000000  100000.000000  100000.000000  100000.000000\n",
       "mean        0.500419       0.250143       2.502647      92.500000\n",
       "std         0.871832       0.504433       3.248248      44.288691\n",
       "min        -1.408605      -0.848218     -12.088328       0.000000\n",
       "25%        -0.072580      -0.200881       0.287748      56.497507\n",
       "50%         0.502360       0.250252       2.515969      91.849972\n",
       "75%         1.073581       0.700646       4.715088     128.564089\n",
       "max         2.362331       1.343769      16.003790     185.364347"
      ]
     },
     "metadata": {},
     "output_type": "display_data"
    }
   ],
   "source": [
    "take_info(region_0, 'info')"
   ]
  },
  {
   "cell_type": "markdown",
   "metadata": {},
   "source": [
    "**Второй регион**"
   ]
  },
  {
   "cell_type": "code",
   "execution_count": 6,
   "metadata": {},
   "outputs": [
    {
     "data": {
      "text/html": [
       "<div>\n",
       "<style scoped>\n",
       "    .dataframe tbody tr th:only-of-type {\n",
       "        vertical-align: middle;\n",
       "    }\n",
       "\n",
       "    .dataframe tbody tr th {\n",
       "        vertical-align: top;\n",
       "    }\n",
       "\n",
       "    .dataframe thead th {\n",
       "        text-align: right;\n",
       "    }\n",
       "</style>\n",
       "<table border=\"1\" class=\"dataframe\">\n",
       "  <thead>\n",
       "    <tr style=\"text-align: right;\">\n",
       "      <th></th>\n",
       "      <th>id</th>\n",
       "      <th>f0</th>\n",
       "      <th>f1</th>\n",
       "      <th>f2</th>\n",
       "      <th>product</th>\n",
       "    </tr>\n",
       "  </thead>\n",
       "  <tbody>\n",
       "    <tr>\n",
       "      <th>0</th>\n",
       "      <td>kBEdx</td>\n",
       "      <td>-15.001348</td>\n",
       "      <td>-8.276000</td>\n",
       "      <td>-0.005876</td>\n",
       "      <td>3.179103</td>\n",
       "    </tr>\n",
       "    <tr>\n",
       "      <th>1</th>\n",
       "      <td>62mP7</td>\n",
       "      <td>14.272088</td>\n",
       "      <td>-3.475083</td>\n",
       "      <td>0.999183</td>\n",
       "      <td>26.953261</td>\n",
       "    </tr>\n",
       "    <tr>\n",
       "      <th>2</th>\n",
       "      <td>vyE1P</td>\n",
       "      <td>6.263187</td>\n",
       "      <td>-5.948386</td>\n",
       "      <td>5.001160</td>\n",
       "      <td>134.766305</td>\n",
       "    </tr>\n",
       "    <tr>\n",
       "      <th>3</th>\n",
       "      <td>KcrkZ</td>\n",
       "      <td>-13.081196</td>\n",
       "      <td>-11.506057</td>\n",
       "      <td>4.999415</td>\n",
       "      <td>137.945408</td>\n",
       "    </tr>\n",
       "    <tr>\n",
       "      <th>4</th>\n",
       "      <td>AHL4O</td>\n",
       "      <td>12.702195</td>\n",
       "      <td>-8.147433</td>\n",
       "      <td>5.004363</td>\n",
       "      <td>134.766305</td>\n",
       "    </tr>\n",
       "  </tbody>\n",
       "</table>\n",
       "</div>"
      ],
      "text/plain": [
       "      id         f0         f1        f2     product\n",
       "0  kBEdx -15.001348  -8.276000 -0.005876    3.179103\n",
       "1  62mP7  14.272088  -3.475083  0.999183   26.953261\n",
       "2  vyE1P   6.263187  -5.948386  5.001160  134.766305\n",
       "3  KcrkZ -13.081196 -11.506057  4.999415  137.945408\n",
       "4  AHL4O  12.702195  -8.147433  5.004363  134.766305"
      ]
     },
     "metadata": {},
     "output_type": "display_data"
    },
    {
     "name": "stdout",
     "output_type": "stream",
     "text": [
      "<class 'pandas.core.frame.DataFrame'>\n",
      "RangeIndex: 100000 entries, 0 to 99999\n",
      "Data columns (total 5 columns):\n",
      " #   Column   Non-Null Count   Dtype  \n",
      "---  ------   --------------   -----  \n",
      " 0   id       100000 non-null  object \n",
      " 1   f0       100000 non-null  float64\n",
      " 2   f1       100000 non-null  float64\n",
      " 3   f2       100000 non-null  float64\n",
      " 4   product  100000 non-null  float64\n",
      "dtypes: float64(4), object(1)\n",
      "memory usage: 3.8+ MB\n"
     ]
    },
    {
     "data": {
      "text/html": [
       "<div>\n",
       "<style scoped>\n",
       "    .dataframe tbody tr th:only-of-type {\n",
       "        vertical-align: middle;\n",
       "    }\n",
       "\n",
       "    .dataframe tbody tr th {\n",
       "        vertical-align: top;\n",
       "    }\n",
       "\n",
       "    .dataframe thead th {\n",
       "        text-align: right;\n",
       "    }\n",
       "</style>\n",
       "<table border=\"1\" class=\"dataframe\">\n",
       "  <thead>\n",
       "    <tr style=\"text-align: right;\">\n",
       "      <th></th>\n",
       "      <th>f0</th>\n",
       "      <th>f1</th>\n",
       "      <th>f2</th>\n",
       "      <th>product</th>\n",
       "    </tr>\n",
       "  </thead>\n",
       "  <tbody>\n",
       "    <tr>\n",
       "      <th>count</th>\n",
       "      <td>100000.000000</td>\n",
       "      <td>100000.000000</td>\n",
       "      <td>100000.000000</td>\n",
       "      <td>100000.000000</td>\n",
       "    </tr>\n",
       "    <tr>\n",
       "      <th>mean</th>\n",
       "      <td>1.141296</td>\n",
       "      <td>-4.796579</td>\n",
       "      <td>2.494541</td>\n",
       "      <td>68.825000</td>\n",
       "    </tr>\n",
       "    <tr>\n",
       "      <th>std</th>\n",
       "      <td>8.965932</td>\n",
       "      <td>5.119872</td>\n",
       "      <td>1.703572</td>\n",
       "      <td>45.944423</td>\n",
       "    </tr>\n",
       "    <tr>\n",
       "      <th>min</th>\n",
       "      <td>-31.609576</td>\n",
       "      <td>-26.358598</td>\n",
       "      <td>-0.018144</td>\n",
       "      <td>0.000000</td>\n",
       "    </tr>\n",
       "    <tr>\n",
       "      <th>25%</th>\n",
       "      <td>-6.298551</td>\n",
       "      <td>-8.267985</td>\n",
       "      <td>1.000021</td>\n",
       "      <td>26.953261</td>\n",
       "    </tr>\n",
       "    <tr>\n",
       "      <th>50%</th>\n",
       "      <td>1.153055</td>\n",
       "      <td>-4.813172</td>\n",
       "      <td>2.011479</td>\n",
       "      <td>57.085625</td>\n",
       "    </tr>\n",
       "    <tr>\n",
       "      <th>75%</th>\n",
       "      <td>8.621015</td>\n",
       "      <td>-1.332816</td>\n",
       "      <td>3.999904</td>\n",
       "      <td>107.813044</td>\n",
       "    </tr>\n",
       "    <tr>\n",
       "      <th>max</th>\n",
       "      <td>29.421755</td>\n",
       "      <td>18.734063</td>\n",
       "      <td>5.019721</td>\n",
       "      <td>137.945408</td>\n",
       "    </tr>\n",
       "  </tbody>\n",
       "</table>\n",
       "</div>"
      ],
      "text/plain": [
       "                  f0             f1             f2        product\n",
       "count  100000.000000  100000.000000  100000.000000  100000.000000\n",
       "mean        1.141296      -4.796579       2.494541      68.825000\n",
       "std         8.965932       5.119872       1.703572      45.944423\n",
       "min       -31.609576     -26.358598      -0.018144       0.000000\n",
       "25%        -6.298551      -8.267985       1.000021      26.953261\n",
       "50%         1.153055      -4.813172       2.011479      57.085625\n",
       "75%         8.621015      -1.332816       3.999904     107.813044\n",
       "max        29.421755      18.734063       5.019721     137.945408"
      ]
     },
     "metadata": {},
     "output_type": "display_data"
    }
   ],
   "source": [
    "take_info(region_1, 'info')"
   ]
  },
  {
   "cell_type": "markdown",
   "metadata": {},
   "source": [
    "**Третий регион**"
   ]
  },
  {
   "cell_type": "code",
   "execution_count": 7,
   "metadata": {},
   "outputs": [
    {
     "data": {
      "text/html": [
       "<div>\n",
       "<style scoped>\n",
       "    .dataframe tbody tr th:only-of-type {\n",
       "        vertical-align: middle;\n",
       "    }\n",
       "\n",
       "    .dataframe tbody tr th {\n",
       "        vertical-align: top;\n",
       "    }\n",
       "\n",
       "    .dataframe thead th {\n",
       "        text-align: right;\n",
       "    }\n",
       "</style>\n",
       "<table border=\"1\" class=\"dataframe\">\n",
       "  <thead>\n",
       "    <tr style=\"text-align: right;\">\n",
       "      <th></th>\n",
       "      <th>id</th>\n",
       "      <th>f0</th>\n",
       "      <th>f1</th>\n",
       "      <th>f2</th>\n",
       "      <th>product</th>\n",
       "    </tr>\n",
       "  </thead>\n",
       "  <tbody>\n",
       "    <tr>\n",
       "      <th>0</th>\n",
       "      <td>fwXo0</td>\n",
       "      <td>-1.146987</td>\n",
       "      <td>0.963328</td>\n",
       "      <td>-0.828965</td>\n",
       "      <td>27.758673</td>\n",
       "    </tr>\n",
       "    <tr>\n",
       "      <th>1</th>\n",
       "      <td>WJtFt</td>\n",
       "      <td>0.262778</td>\n",
       "      <td>0.269839</td>\n",
       "      <td>-2.530187</td>\n",
       "      <td>56.069697</td>\n",
       "    </tr>\n",
       "    <tr>\n",
       "      <th>2</th>\n",
       "      <td>ovLUW</td>\n",
       "      <td>0.194587</td>\n",
       "      <td>0.289035</td>\n",
       "      <td>-5.586433</td>\n",
       "      <td>62.871910</td>\n",
       "    </tr>\n",
       "    <tr>\n",
       "      <th>3</th>\n",
       "      <td>q6cA6</td>\n",
       "      <td>2.236060</td>\n",
       "      <td>-0.553760</td>\n",
       "      <td>0.930038</td>\n",
       "      <td>114.572842</td>\n",
       "    </tr>\n",
       "    <tr>\n",
       "      <th>4</th>\n",
       "      <td>WPMUX</td>\n",
       "      <td>-0.515993</td>\n",
       "      <td>1.716266</td>\n",
       "      <td>5.899011</td>\n",
       "      <td>149.600746</td>\n",
       "    </tr>\n",
       "  </tbody>\n",
       "</table>\n",
       "</div>"
      ],
      "text/plain": [
       "      id        f0        f1        f2     product\n",
       "0  fwXo0 -1.146987  0.963328 -0.828965   27.758673\n",
       "1  WJtFt  0.262778  0.269839 -2.530187   56.069697\n",
       "2  ovLUW  0.194587  0.289035 -5.586433   62.871910\n",
       "3  q6cA6  2.236060 -0.553760  0.930038  114.572842\n",
       "4  WPMUX -0.515993  1.716266  5.899011  149.600746"
      ]
     },
     "metadata": {},
     "output_type": "display_data"
    },
    {
     "name": "stdout",
     "output_type": "stream",
     "text": [
      "<class 'pandas.core.frame.DataFrame'>\n",
      "RangeIndex: 100000 entries, 0 to 99999\n",
      "Data columns (total 5 columns):\n",
      " #   Column   Non-Null Count   Dtype  \n",
      "---  ------   --------------   -----  \n",
      " 0   id       100000 non-null  object \n",
      " 1   f0       100000 non-null  float64\n",
      " 2   f1       100000 non-null  float64\n",
      " 3   f2       100000 non-null  float64\n",
      " 4   product  100000 non-null  float64\n",
      "dtypes: float64(4), object(1)\n",
      "memory usage: 3.8+ MB\n"
     ]
    },
    {
     "data": {
      "text/html": [
       "<div>\n",
       "<style scoped>\n",
       "    .dataframe tbody tr th:only-of-type {\n",
       "        vertical-align: middle;\n",
       "    }\n",
       "\n",
       "    .dataframe tbody tr th {\n",
       "        vertical-align: top;\n",
       "    }\n",
       "\n",
       "    .dataframe thead th {\n",
       "        text-align: right;\n",
       "    }\n",
       "</style>\n",
       "<table border=\"1\" class=\"dataframe\">\n",
       "  <thead>\n",
       "    <tr style=\"text-align: right;\">\n",
       "      <th></th>\n",
       "      <th>f0</th>\n",
       "      <th>f1</th>\n",
       "      <th>f2</th>\n",
       "      <th>product</th>\n",
       "    </tr>\n",
       "  </thead>\n",
       "  <tbody>\n",
       "    <tr>\n",
       "      <th>count</th>\n",
       "      <td>100000.000000</td>\n",
       "      <td>100000.000000</td>\n",
       "      <td>100000.000000</td>\n",
       "      <td>100000.000000</td>\n",
       "    </tr>\n",
       "    <tr>\n",
       "      <th>mean</th>\n",
       "      <td>0.002023</td>\n",
       "      <td>-0.002081</td>\n",
       "      <td>2.495128</td>\n",
       "      <td>95.000000</td>\n",
       "    </tr>\n",
       "    <tr>\n",
       "      <th>std</th>\n",
       "      <td>1.732045</td>\n",
       "      <td>1.730417</td>\n",
       "      <td>3.473445</td>\n",
       "      <td>44.749921</td>\n",
       "    </tr>\n",
       "    <tr>\n",
       "      <th>min</th>\n",
       "      <td>-8.760004</td>\n",
       "      <td>-7.084020</td>\n",
       "      <td>-11.970335</td>\n",
       "      <td>0.000000</td>\n",
       "    </tr>\n",
       "    <tr>\n",
       "      <th>25%</th>\n",
       "      <td>-1.162288</td>\n",
       "      <td>-1.174820</td>\n",
       "      <td>0.130359</td>\n",
       "      <td>59.450441</td>\n",
       "    </tr>\n",
       "    <tr>\n",
       "      <th>50%</th>\n",
       "      <td>0.009424</td>\n",
       "      <td>-0.009482</td>\n",
       "      <td>2.484236</td>\n",
       "      <td>94.925613</td>\n",
       "    </tr>\n",
       "    <tr>\n",
       "      <th>75%</th>\n",
       "      <td>1.158535</td>\n",
       "      <td>1.163678</td>\n",
       "      <td>4.858794</td>\n",
       "      <td>130.595027</td>\n",
       "    </tr>\n",
       "    <tr>\n",
       "      <th>max</th>\n",
       "      <td>7.238262</td>\n",
       "      <td>7.844801</td>\n",
       "      <td>16.739402</td>\n",
       "      <td>190.029838</td>\n",
       "    </tr>\n",
       "  </tbody>\n",
       "</table>\n",
       "</div>"
      ],
      "text/plain": [
       "                  f0             f1             f2        product\n",
       "count  100000.000000  100000.000000  100000.000000  100000.000000\n",
       "mean        0.002023      -0.002081       2.495128      95.000000\n",
       "std         1.732045       1.730417       3.473445      44.749921\n",
       "min        -8.760004      -7.084020     -11.970335       0.000000\n",
       "25%        -1.162288      -1.174820       0.130359      59.450441\n",
       "50%         0.009424      -0.009482       2.484236      94.925613\n",
       "75%         1.158535       1.163678       4.858794     130.595027\n",
       "max         7.238262       7.844801      16.739402     190.029838"
      ]
     },
     "metadata": {},
     "output_type": "display_data"
    }
   ],
   "source": [
    "take_info(region_2, 'info')"
   ]
  },
  {
   "cell_type": "markdown",
   "metadata": {},
   "source": [
    "Информация о данных:\n",
    "\n",
    "* `id` - уникальный идентификатор скважины;\n",
    "* `f0`, `f1`, `f2` - три признака точек;\n",
    "* `product` - объем запасов в скважине (тыс. баррелей)"
   ]
  },
  {
   "cell_type": "markdown",
   "metadata": {},
   "source": [
    "**Вывод**\n",
    "\n",
    "В процессе знакомства с данными определили следующее:\n",
    "* для обучения модели имеются лишние признаки (столбец `id`). Необходимо его удалить для всех регионов;\n",
    "* по целевому признаку лидером по объему скважин является третий регион. Более того, медианное значение целевого признака данного региона больше среди вссх остальных регионов, что говорит нам о том, что предположительно, этот регион имеет больше всего запасов в скважинах.\n",
    "* имеется нулевое значение целевого признака во всех регионах - необходимо разобраться, почему у нас есть нулевые значения и выбрать наиболее подходящий способ для устранения проблемы."
   ]
  },
  {
   "cell_type": "markdown",
   "metadata": {},
   "source": [
    "## Предобработка данных <a id=\"2\"></a>"
   ]
  },
  {
   "cell_type": "markdown",
   "metadata": {},
   "source": [
    "### Поиск дубликатов<a id=\"2_1\"></a>"
   ]
  },
  {
   "cell_type": "markdown",
   "metadata": {},
   "source": [
    "Для начала проверим все датасеты на наличие дубликатов "
   ]
  },
  {
   "cell_type": "markdown",
   "metadata": {},
   "source": [
    "**Первый регион**"
   ]
  },
  {
   "cell_type": "code",
   "execution_count": 8,
   "metadata": {},
   "outputs": [
    {
     "name": "stdout",
     "output_type": "stream",
     "text": [
      "Количество дубликатов: 0\n"
     ]
    }
   ],
   "source": [
    "take_info(region_0, 'dup')"
   ]
  },
  {
   "cell_type": "markdown",
   "metadata": {},
   "source": [
    "**Второй регион**"
   ]
  },
  {
   "cell_type": "code",
   "execution_count": 9,
   "metadata": {
    "scrolled": true
   },
   "outputs": [
    {
     "name": "stdout",
     "output_type": "stream",
     "text": [
      "Количество дубликатов: 0\n"
     ]
    }
   ],
   "source": [
    "take_info(region_1, 'dup')"
   ]
  },
  {
   "cell_type": "markdown",
   "metadata": {},
   "source": [
    "**Третий регион**"
   ]
  },
  {
   "cell_type": "code",
   "execution_count": 10,
   "metadata": {},
   "outputs": [
    {
     "name": "stdout",
     "output_type": "stream",
     "text": [
      "Количество дубликатов: 0\n"
     ]
    }
   ],
   "source": [
    "take_info(region_2, 'dup')"
   ]
  },
  {
   "cell_type": "markdown",
   "metadata": {},
   "source": [
    "### Удаление лишней информации для обучения <a id=\"2_2\"></a>"
   ]
  },
  {
   "cell_type": "markdown",
   "metadata": {},
   "source": [
    "Так как явных дубликатов в датасетах нет, то удалим признак `id`:"
   ]
  },
  {
   "cell_type": "code",
   "execution_count": 11,
   "metadata": {},
   "outputs": [],
   "source": [
    "region_0 = region_0.drop('id', 1)\n",
    "region_1 = region_1.drop('id', 1)\n",
    "region_2 = region_2.drop('id', 1)"
   ]
  },
  {
   "cell_type": "markdown",
   "metadata": {},
   "source": [
    "Убедимся в том, что этот столбец удален:"
   ]
  },
  {
   "cell_type": "code",
   "execution_count": 12,
   "metadata": {},
   "outputs": [
    {
     "name": "stdout",
     "output_type": "stream",
     "text": [
      "Первый регион\n",
      "Index(['f0', 'f1', 'f2', 'product'], dtype='object')\n",
      "Второй регион\n",
      "Index(['f0', 'f1', 'f2', 'product'], dtype='object')\n",
      "Третий регион\n",
      "Index(['f0', 'f1', 'f2', 'product'], dtype='object')\n"
     ]
    }
   ],
   "source": [
    "list_to_col = [region_0, region_1, region_2]\n",
    "list_str = ['Первый регион', 'Второй регион', 'Третий регион']\n",
    "for i in range(len(list_to_col)):\n",
    "    print(f'{list_str[i]}')\n",
    "    print(f'{list_to_col[i].columns}')"
   ]
  },
  {
   "cell_type": "markdown",
   "metadata": {},
   "source": [
    "Столбец во всех столбцах удален, рассмотрим на нулевые знанчения в целевом признаке."
   ]
  },
  {
   "cell_type": "markdown",
   "metadata": {},
   "source": [
    "### Аномальные значения в целевом признаке<a id=\"2_3\"></a>"
   ]
  },
  {
   "cell_type": "markdown",
   "metadata": {},
   "source": [
    "Рассмотрим все регионы.\n",
    "\n",
    "**Первый регион**:"
   ]
  },
  {
   "cell_type": "code",
   "execution_count": 13,
   "metadata": {
    "scrolled": true
   },
   "outputs": [
    {
     "data": {
      "text/html": [
       "<div>\n",
       "<style scoped>\n",
       "    .dataframe tbody tr th:only-of-type {\n",
       "        vertical-align: middle;\n",
       "    }\n",
       "\n",
       "    .dataframe tbody tr th {\n",
       "        vertical-align: top;\n",
       "    }\n",
       "\n",
       "    .dataframe thead th {\n",
       "        text-align: right;\n",
       "    }\n",
       "</style>\n",
       "<table border=\"1\" class=\"dataframe\">\n",
       "  <thead>\n",
       "    <tr style=\"text-align: right;\">\n",
       "      <th></th>\n",
       "      <th>f0</th>\n",
       "      <th>f1</th>\n",
       "      <th>f2</th>\n",
       "      <th>product</th>\n",
       "    </tr>\n",
       "  </thead>\n",
       "  <tbody>\n",
       "    <tr>\n",
       "      <th>57263</th>\n",
       "      <td>-0.702064</td>\n",
       "      <td>0.375992</td>\n",
       "      <td>0.236572</td>\n",
       "      <td>0.0</td>\n",
       "    </tr>\n",
       "  </tbody>\n",
       "</table>\n",
       "</div>"
      ],
      "text/plain": [
       "             f0        f1        f2  product\n",
       "57263 -0.702064  0.375992  0.236572      0.0"
      ]
     },
     "execution_count": 13,
     "metadata": {},
     "output_type": "execute_result"
    }
   ],
   "source": [
    "region_0[region_0['product'] == 0.0]"
   ]
  },
  {
   "cell_type": "markdown",
   "metadata": {},
   "source": [
    "**Второй регион**:"
   ]
  },
  {
   "cell_type": "code",
   "execution_count": 14,
   "metadata": {
    "scrolled": true
   },
   "outputs": [
    {
     "data": {
      "text/html": [
       "<div>\n",
       "<style scoped>\n",
       "    .dataframe tbody tr th:only-of-type {\n",
       "        vertical-align: middle;\n",
       "    }\n",
       "\n",
       "    .dataframe tbody tr th {\n",
       "        vertical-align: top;\n",
       "    }\n",
       "\n",
       "    .dataframe thead th {\n",
       "        text-align: right;\n",
       "    }\n",
       "</style>\n",
       "<table border=\"1\" class=\"dataframe\">\n",
       "  <thead>\n",
       "    <tr style=\"text-align: right;\">\n",
       "      <th></th>\n",
       "      <th>f0</th>\n",
       "      <th>f1</th>\n",
       "      <th>f2</th>\n",
       "      <th>product</th>\n",
       "    </tr>\n",
       "  </thead>\n",
       "  <tbody>\n",
       "    <tr>\n",
       "      <th>11</th>\n",
       "      <td>16.320755</td>\n",
       "      <td>-0.562946</td>\n",
       "      <td>-0.001783</td>\n",
       "      <td>0.0</td>\n",
       "    </tr>\n",
       "    <tr>\n",
       "      <th>13</th>\n",
       "      <td>6.695604</td>\n",
       "      <td>-0.749449</td>\n",
       "      <td>-0.007630</td>\n",
       "      <td>0.0</td>\n",
       "    </tr>\n",
       "    <tr>\n",
       "      <th>62</th>\n",
       "      <td>21.418478</td>\n",
       "      <td>-5.134490</td>\n",
       "      <td>-0.002836</td>\n",
       "      <td>0.0</td>\n",
       "    </tr>\n",
       "    <tr>\n",
       "      <th>63</th>\n",
       "      <td>6.822701</td>\n",
       "      <td>3.104979</td>\n",
       "      <td>-0.000723</td>\n",
       "      <td>0.0</td>\n",
       "    </tr>\n",
       "    <tr>\n",
       "      <th>77</th>\n",
       "      <td>6.750150</td>\n",
       "      <td>-11.893512</td>\n",
       "      <td>-0.001601</td>\n",
       "      <td>0.0</td>\n",
       "    </tr>\n",
       "    <tr>\n",
       "      <th>...</th>\n",
       "      <td>...</td>\n",
       "      <td>...</td>\n",
       "      <td>...</td>\n",
       "      <td>...</td>\n",
       "    </tr>\n",
       "    <tr>\n",
       "      <th>99936</th>\n",
       "      <td>5.085749</td>\n",
       "      <td>-3.980305</td>\n",
       "      <td>0.005063</td>\n",
       "      <td>0.0</td>\n",
       "    </tr>\n",
       "    <tr>\n",
       "      <th>99948</th>\n",
       "      <td>8.277805</td>\n",
       "      <td>-9.178818</td>\n",
       "      <td>0.003275</td>\n",
       "      <td>0.0</td>\n",
       "    </tr>\n",
       "    <tr>\n",
       "      <th>99956</th>\n",
       "      <td>13.343983</td>\n",
       "      <td>-1.290200</td>\n",
       "      <td>0.005980</td>\n",
       "      <td>0.0</td>\n",
       "    </tr>\n",
       "    <tr>\n",
       "      <th>99961</th>\n",
       "      <td>13.854163</td>\n",
       "      <td>-11.528089</td>\n",
       "      <td>-0.005556</td>\n",
       "      <td>0.0</td>\n",
       "    </tr>\n",
       "    <tr>\n",
       "      <th>99973</th>\n",
       "      <td>12.698645</td>\n",
       "      <td>-4.384673</td>\n",
       "      <td>-0.002600</td>\n",
       "      <td>0.0</td>\n",
       "    </tr>\n",
       "  </tbody>\n",
       "</table>\n",
       "<p>8235 rows × 4 columns</p>\n",
       "</div>"
      ],
      "text/plain": [
       "              f0         f1        f2  product\n",
       "11     16.320755  -0.562946 -0.001783      0.0\n",
       "13      6.695604  -0.749449 -0.007630      0.0\n",
       "62     21.418478  -5.134490 -0.002836      0.0\n",
       "63      6.822701   3.104979 -0.000723      0.0\n",
       "77      6.750150 -11.893512 -0.001601      0.0\n",
       "...          ...        ...       ...      ...\n",
       "99936   5.085749  -3.980305  0.005063      0.0\n",
       "99948   8.277805  -9.178818  0.003275      0.0\n",
       "99956  13.343983  -1.290200  0.005980      0.0\n",
       "99961  13.854163 -11.528089 -0.005556      0.0\n",
       "99973  12.698645  -4.384673 -0.002600      0.0\n",
       "\n",
       "[8235 rows x 4 columns]"
      ]
     },
     "execution_count": 14,
     "metadata": {},
     "output_type": "execute_result"
    }
   ],
   "source": [
    "region_1[region_1['product'] == 0.0]"
   ]
  },
  {
   "cell_type": "markdown",
   "metadata": {},
   "source": [
    "**Третий регион**:"
   ]
  },
  {
   "cell_type": "code",
   "execution_count": 15,
   "metadata": {},
   "outputs": [
    {
     "data": {
      "text/html": [
       "<div>\n",
       "<style scoped>\n",
       "    .dataframe tbody tr th:only-of-type {\n",
       "        vertical-align: middle;\n",
       "    }\n",
       "\n",
       "    .dataframe tbody tr th {\n",
       "        vertical-align: top;\n",
       "    }\n",
       "\n",
       "    .dataframe thead th {\n",
       "        text-align: right;\n",
       "    }\n",
       "</style>\n",
       "<table border=\"1\" class=\"dataframe\">\n",
       "  <thead>\n",
       "    <tr style=\"text-align: right;\">\n",
       "      <th></th>\n",
       "      <th>f0</th>\n",
       "      <th>f1</th>\n",
       "      <th>f2</th>\n",
       "      <th>product</th>\n",
       "    </tr>\n",
       "  </thead>\n",
       "  <tbody>\n",
       "    <tr>\n",
       "      <th>68149</th>\n",
       "      <td>-0.865596</td>\n",
       "      <td>-1.615247</td>\n",
       "      <td>-4.126441</td>\n",
       "      <td>0.0</td>\n",
       "    </tr>\n",
       "  </tbody>\n",
       "</table>\n",
       "</div>"
      ],
      "text/plain": [
       "             f0        f1        f2  product\n",
       "68149 -0.865596 -1.615247 -4.126441      0.0"
      ]
     },
     "execution_count": 15,
     "metadata": {},
     "output_type": "execute_result"
    }
   ],
   "source": [
    "region_2[region_2['product'] == 0.0]"
   ]
  },
  {
   "cell_type": "markdown",
   "metadata": {},
   "source": [
    "Видим, что второй регион имеет наименьшие показатели по целевому признаку. Это связано с тем, что в данных по скважинам в этом регионе имеет больше всего нулевых объемов скважин.\n",
    "Причина возникновения нулей: вероятнее всего, это уже разработанные скважины, в которых, предположительно, уже нет запасов.\n",
    "Поэтому, оставляем эти значения как есть."
   ]
  },
  {
   "cell_type": "markdown",
   "metadata": {},
   "source": [
    "**Вывод**\n",
    "\n",
    "В процессе предобработки данных сделали следующее:\n",
    "* удалили столбец `id` со всех датасетов\n",
    "* оставили нулевые значения целевого признака.\n",
    "\n",
    "Теперь приступим к обучению и проверке модели."
   ]
  },
  {
   "cell_type": "markdown",
   "metadata": {},
   "source": [
    "## Обучение и проверка модели<a id=\"3\"></a>"
   ]
  },
  {
   "cell_type": "code",
   "execution_count": 16,
   "metadata": {},
   "outputs": [],
   "source": [
    "def model(df: pd.DataFrame, num: int):\n",
    "    # формируем фичи и прогнозируемый признак\n",
    "    feature = df.drop('product', axis = 1)\n",
    "    target = df['product']\n",
    "    # делаем разбивку по выборкам\n",
    "    # пропорции: обучающая - 75%, валидационная - 25%\n",
    "    feature_train, feature_valid, target_train, target_valid = (\n",
    "    train_test_split(feature, target, test_size = .25, random_state = 12345))\n",
    "    # модель - линейная регрессия\n",
    "    model = LinearRegression()\n",
    "    model.fit(feature_train, target_train)\n",
    "    predictions = model.predict(feature_valid)\n",
    "    # расчет RMSE \n",
    "    rmse = mean_squared_error(target_valid, predictions) ** 0.5\n",
    "    prediction = pd.Series(predictions)\n",
    "    # вывод необходимых значений на экран\n",
    "    print_res(rmse, prediction, num)\n",
    "    # сохранение всех показателей\n",
    "    return prediction, target_valid"
   ]
  },
  {
   "cell_type": "code",
   "execution_count": 17,
   "metadata": {},
   "outputs": [],
   "source": [
    "def print_res(rmse: float, prediction: pd.Series, num: int):\n",
    "    print(f'Средний запас предсказанного сырья в регионе №{num}: {prediction.mean():.3f}')\n",
    "    print(f'Показатель RMSE: в регионе №{num}: {rmse:.3f}')"
   ]
  },
  {
   "cell_type": "markdown",
   "metadata": {},
   "source": [
    "**Первый регион**:"
   ]
  },
  {
   "cell_type": "code",
   "execution_count": 18,
   "metadata": {
    "scrolled": true
   },
   "outputs": [
    {
     "name": "stdout",
     "output_type": "stream",
     "text": [
      "Средний запас предсказанного сырья в регионе №1: 92.593\n",
      "Показатель RMSE: в регионе №1: 37.579\n"
     ]
    }
   ],
   "source": [
    "prediction_0, target_0 = model(region_0, 1)"
   ]
  },
  {
   "cell_type": "markdown",
   "metadata": {},
   "source": [
    "**Второй регион**:"
   ]
  },
  {
   "cell_type": "code",
   "execution_count": 19,
   "metadata": {
    "scrolled": true
   },
   "outputs": [
    {
     "name": "stdout",
     "output_type": "stream",
     "text": [
      "Средний запас предсказанного сырья в регионе №2: 68.729\n",
      "Показатель RMSE: в регионе №2: 0.893\n"
     ]
    }
   ],
   "source": [
    "prediction_1, target_1 = model(region_1, 2)"
   ]
  },
  {
   "cell_type": "markdown",
   "metadata": {},
   "source": [
    "**Третий регион**:"
   ]
  },
  {
   "cell_type": "code",
   "execution_count": 20,
   "metadata": {
    "scrolled": true
   },
   "outputs": [
    {
     "name": "stdout",
     "output_type": "stream",
     "text": [
      "Средний запас предсказанного сырья в регионе №3: 94.965\n",
      "Показатель RMSE: в регионе №3: 40.030\n"
     ]
    }
   ],
   "source": [
    "prediction_2, target_2 = model(region_2, 3)"
   ]
  },
  {
   "cell_type": "markdown",
   "metadata": {},
   "source": [
    "**Вывод**\n",
    "\n",
    "В процессе обучения и получения прогнозов целевого показателя, а также получения необходимых метрик получили следующее:\n",
    "* получили прогнозы и правильные ответы\n",
    "* по офлайн-метрике RMSE установили, что модель лучше всего предсказала значения целевого показателя для второго региона. Предположительно, это связано с тем, что второй регион имеет показатели хуже, по сравнению с другими регионами и поэтому в датасете этого региона меньше выбивающихся значений, которые могут повлиять на значение метрики. \n",
    "* по регионам по среднему предсказанного сырья больше всего во втором регионе. Однако и метрику rmse имеет больше всех."
   ]
  },
  {
   "cell_type": "markdown",
   "metadata": {},
   "source": [
    "Теперь приступим к подготовке к расчету прибыли"
   ]
  },
  {
   "cell_type": "markdown",
   "metadata": {},
   "source": [
    "## Подготовка к расчёту прибыли<a id=\"4\"></a>"
   ]
  },
  {
   "cell_type": "markdown",
   "metadata": {},
   "source": [
    "Расчитаем достаточный объем сырья для безубыточной разработки скважины. Прежде чем проводить расчеты определим константные значения."
   ]
  },
  {
   "cell_type": "code",
   "execution_count": 21,
   "metadata": {},
   "outputs": [],
   "source": [
    "# все необходимые константны пишем капсом\n",
    "# чтобы различать переменные от констант\n",
    "\n",
    "# выделяемый бюджет на регион: 10 млрд. руб.\n",
    "BUDGET = 10_000_000_000\n",
    "# лучшие скважины\n",
    "BEST_BOREHOLES = 200\n",
    "# доход с одной скважины (450 тыс. руб. за единицу продукта)\n",
    "INCOME = 450_000\n",
    "# количество исследуемых скважин\n",
    "BOREHOLES = 500\n",
    "# уровень риска (2.5%)\n",
    "RISK_LOSS = .025 * 100"
   ]
  },
  {
   "cell_type": "markdown",
   "metadata": {},
   "source": [
    "Теперь посчитаем объем сырья для безубыточной разработки скважины. Для этого необходимо определить следующее: \n",
    "стоимость на одну \"лучшую\" точку: разделить бюджет на разработку скважин для каждого региона на количество лучших точек."
   ]
  },
  {
   "cell_type": "code",
   "execution_count": 22,
   "metadata": {},
   "outputs": [
    {
     "name": "stdout",
     "output_type": "stream",
     "text": [
      "Стоимость разработки одной скважины: 50000000.0\n"
     ]
    }
   ],
   "source": [
    "DEVELOP_COST = BUDGET / BEST_BOREHOLES\n",
    "print(f'Стоимость разработки одной скважины: {DEVELOP_COST}')"
   ]
  },
  {
   "cell_type": "markdown",
   "metadata": {},
   "source": [
    "Зная стоимость разработки одной скважины и какой доход может приносить одна скважина, посчитаем объем сырья, при котором скважина будет безубыточна: стоимость разработки одной скважины разделить на доход с одной скважины."
   ]
  },
  {
   "cell_type": "code",
   "execution_count": 23,
   "metadata": {},
   "outputs": [
    {
     "name": "stdout",
     "output_type": "stream",
     "text": [
      "Объем сырья, при котором скважина будет безубыточна: 111.111 т. баррелей\n"
     ]
    }
   ],
   "source": [
    "BOREHOLE_VOLUME = DEVELOP_COST / INCOME\n",
    "print(f'Объем сырья, при котором скважина будет безубыточна: {BOREHOLE_VOLUME:.3f} т. баррелей')"
   ]
  },
  {
   "cell_type": "markdown",
   "metadata": {},
   "source": [
    "После того, как получили объем сырья, при котором скважина будет безубыточна, сравним полученный результат с данными из рассматриваемых регионов:"
   ]
  },
  {
   "cell_type": "markdown",
   "metadata": {},
   "source": [
    "**Первый регион**:"
   ]
  },
  {
   "cell_type": "code",
   "execution_count": 24,
   "metadata": {},
   "outputs": [
    {
     "name": "stdout",
     "output_type": "stream",
     "text": [
      "Средний запас сырья в первом регионе: 92.07859674082927\n"
     ]
    }
   ],
   "source": [
    "print(f'Средний запас сырья в первом регионе: {target_0.mean()}')"
   ]
  },
  {
   "cell_type": "code",
   "execution_count": 25,
   "metadata": {},
   "outputs": [
    {
     "name": "stdout",
     "output_type": "stream",
     "text": [
      "Средний запас сырья во втором регионе: 68.72313602435997\n"
     ]
    }
   ],
   "source": [
    "print(f'Средний запас сырья во втором регионе: {target_1.mean()}')"
   ]
  },
  {
   "cell_type": "code",
   "execution_count": 26,
   "metadata": {},
   "outputs": [
    {
     "name": "stdout",
     "output_type": "stream",
     "text": [
      "Средний запас сырья в третьем регионе: 94.88423280885438\n"
     ]
    }
   ],
   "source": [
    "print(f'Средний запас сырья в третьем регионе: {target_2.mean()}')"
   ]
  },
  {
   "cell_type": "markdown",
   "metadata": {},
   "source": [
    "На основе полученных расчетов установили, что все регионы, которые участвуют в исследовании - убыточны. Поэтому необходимо рассматривать только лучшие скважины во всех регионах.\n",
    "\n",
    "Теперь посчитаем прибыль по выбранным скважинам и предсказаниям моделей."
   ]
  },
  {
   "cell_type": "markdown",
   "metadata": {},
   "source": [
    "<div class=\"alert alert-block alert-success\">\n",
    "<b>Успех:</b> Значение для безубыточной разработки посчитано верно, с выводом согласен\n",
    "    \n",
    "  \n",
    "</div>"
   ]
  },
  {
   "cell_type": "code",
   "execution_count": 27,
   "metadata": {},
   "outputs": [],
   "source": [
    "def revenue(predictions: pd.Series, target: pd.Series):\n",
    "    # делаем сброс индексов для предсказаний и целевого признака\n",
    "    predictions = predictions.reset_index(drop = True)\n",
    "    target = target.reset_index(drop = True)\n",
    "    # сортируем наши прогнозы по убыванию\n",
    "    predict_sorted = predictions.sort_values(ascending = False)\n",
    "    # выбираем 200 лучших скважин на основе прогноза:\n",
    "    best_target = target[predict_sorted.index][:BEST_BOREHOLES]\n",
    "    # получаем прибыль со скважины \n",
    "    #(доход за единицу продукта * сумму объема лучших скважин) - бюджет на разработку\n",
    "    profit = ((INCOME*best_target.sum()) - BUDGET)/1e6\n",
    "    return profit"
   ]
  },
  {
   "cell_type": "code",
   "execution_count": 28,
   "metadata": {},
   "outputs": [],
   "source": [
    "def print_profit(prediction:pd.Series, target:pd.Series, num):\n",
    "    print(f'Прибыль за сырье из скважин в регионе №{num}: {revenue(prediction, target):.3f}, млн. руб')"
   ]
  },
  {
   "cell_type": "markdown",
   "metadata": {},
   "source": [
    "**Первый регион**"
   ]
  },
  {
   "cell_type": "code",
   "execution_count": 29,
   "metadata": {},
   "outputs": [
    {
     "name": "stdout",
     "output_type": "stream",
     "text": [
      "Прибыль за сырье из скважин в регионе №1: 3320.826, млн. руб\n"
     ]
    }
   ],
   "source": [
    "print_profit(prediction_0, target_0, 1)"
   ]
  },
  {
   "cell_type": "markdown",
   "metadata": {},
   "source": [
    "**Второй регион**"
   ]
  },
  {
   "cell_type": "code",
   "execution_count": 30,
   "metadata": {
    "scrolled": true
   },
   "outputs": [
    {
     "name": "stdout",
     "output_type": "stream",
     "text": [
      "Прибыль за сырье из скважин в регионе №2: 2415.087, млн. руб\n"
     ]
    }
   ],
   "source": [
    "print_profit(prediction_1, target_1, 2)"
   ]
  },
  {
   "cell_type": "markdown",
   "metadata": {},
   "source": [
    "**Третий регион**"
   ]
  },
  {
   "cell_type": "code",
   "execution_count": 31,
   "metadata": {},
   "outputs": [
    {
     "name": "stdout",
     "output_type": "stream",
     "text": [
      "Прибыль за сырье из скважин в регионе №3: 2710.350, млн. руб\n"
     ]
    }
   ],
   "source": [
    "print_profit(prediction_2, target_2, 3)"
   ]
  },
  {
   "cell_type": "markdown",
   "metadata": {},
   "source": [
    "**Вывод**\n",
    "\n",
    "После расчета функции для определения прибыли по предсказаниям, определили, что наиболее прибыльным регионом оказался первый регион - его выручка составляет более 3 млрд. руб.\n",
    "\n",
    "Самый худший показатель прибыльности у второго региона. Его прибыль составляет менее 2.5 млрд. руб.\n",
    "\n",
    "После того, как посчитали прибыль для наших регионов. Перейдем к расчету прибыли, рисков, определению доверительного интервала. \n",
    "\n",
    "Для этого будем проводить эксперимент с реализацией техники Bootstrap. Для этого определим следующее:\n",
    "* количество экспериментов: 1000\n",
    "* количество элементов в подвыборке: 500\n",
    "* с этой подвыборкой считаем ключевую метрику: потенциальную прибыль\n",
    "* определяем доверительный интервал, в котором может с заданной вероятностью находиться истинное среднее значение прибыли с региона\n",
    "* считаем долю риска (случаи, когда наша разработка скважин убыточна)\n",
    "* считаем среднюю прибыль по региону\n",
    "\n",
    "Теперь перейдем к нашему эксперименту."
   ]
  },
  {
   "cell_type": "markdown",
   "metadata": {},
   "source": [
    "## Расчёт прибыли и рисков <a id=\"5\"></a>"
   ]
  },
  {
   "cell_type": "code",
   "execution_count": 32,
   "metadata": {},
   "outputs": [],
   "source": [
    "def bootstrap(prediction: pd.Series, target: pd.Series, num = BOREHOLES):\n",
    "    \n",
    "    state = np.random.RandomState(12345)\n",
    "    profit_val = []\n",
    "    \n",
    "    target = target.reset_index(drop = True)\n",
    "    prediction = prediction.reset_index(drop = True)\n",
    "    \n",
    "    for i in range(1000):\n",
    "        # формируем подвыборки:\n",
    "        subsample_target = target.sample(n = num, replace = True, random_state = state)\n",
    "        subsample_pred = prediction[subsample_target.index]\n",
    "        # считаем ключевую метрику бизнеса\n",
    "        profit_val.append(\n",
    "        revenue(subsample_pred, subsample_target))\n",
    "        \n",
    "    profit = pd.Series(profit_val)\n",
    "    mean_profit = profit.mean()\n",
    "    (lower, upper) = (profit.quantile(.025), profit.quantile(.975))\n",
    "    # уровень риска можно посчитать так:\n",
    "    # risk_level = len(list(filter(lambda x: x < 0, profit))) / len(profit)\n",
    "    # а можно посчитать сумму истинных предикатов\n",
    "    risk_level = ((profit < 0).sum() / len(profit)) * 100\n",
    "    return (lower, upper), mean_profit, risk_level"
   ]
  },
  {
   "cell_type": "code",
   "execution_count": 33,
   "metadata": {},
   "outputs": [],
   "source": [
    "def print_bootstrap_res(prediction: pd.Series, \n",
    "                       target: pd.Series,\n",
    "                        num: int):\n",
    "    (lower, upper), mean_profit, risk_level = bootstrap(prediction, target)\n",
    "    print(f'Основные результаты эксперимента для региона №{num}:')\n",
    "    print(f'95%-ый доверительный интервал ключевой метрики: {(lower, upper)} млн. руб')\n",
    "    print(f'Средняя прибыль: {mean_profit:.3f} млн. руб')\n",
    "    print(f'Риск убытков: {risk_level:.2}%')\n",
    "    if risk_level > RISK_LOSS:\n",
    "        print('Вероятность риска высокая, регион не подходит')\n",
    "    else:\n",
    "        print('Вероятность риска низкая, обратите внимание на среднюю прибыль')"
   ]
  },
  {
   "cell_type": "code",
   "execution_count": 34,
   "metadata": {},
   "outputs": [
    {
     "name": "stdout",
     "output_type": "stream",
     "text": [
      "Основные результаты эксперимента для региона №1:\n",
      "95%-ый доверительный интервал ключевой метрики: (-111.21554589049526, 909.7669415534225) млн. руб\n",
      "Средняя прибыль: 396.165 млн. руб\n",
      "Риск убытков: 6.9%\n",
      "Вероятность риска высокая, регион не подходит\n"
     ]
    }
   ],
   "source": [
    "print_bootstrap_res(prediction_0, target_0, 1)"
   ]
  },
  {
   "cell_type": "code",
   "execution_count": 35,
   "metadata": {},
   "outputs": [
    {
     "name": "stdout",
     "output_type": "stream",
     "text": [
      "Основные результаты эксперимента для региона №2:\n",
      "95%-ый доверительный интервал ключевой метрики: (33.820509398983624, 852.2894538660361) млн. руб\n",
      "Средняя прибыль: 456.045 млн. руб\n",
      "Риск убытков: 1.5%\n",
      "Вероятность риска низкая, обратите внимание на среднюю прибыль\n"
     ]
    }
   ],
   "source": [
    "print_bootstrap_res(prediction_1, target_1, 2)"
   ]
  },
  {
   "cell_type": "code",
   "execution_count": 36,
   "metadata": {},
   "outputs": [
    {
     "name": "stdout",
     "output_type": "stream",
     "text": [
      "Основные результаты эксперимента для региона №3:\n",
      "95%-ый доверительный интервал ключевой метрики: (-163.3504133956011, 950.3595749237995) млн. руб\n",
      "Средняя прибыль: 404.404 млн. руб\n",
      "Риск убытков: 7.6%\n",
      "Вероятность риска высокая, регион не подходит\n"
     ]
    }
   ],
   "source": [
    "print_bootstrap_res(prediction_2, target_2, 3)"
   ]
  },
  {
   "cell_type": "markdown",
   "metadata": {},
   "source": [
    "На основе полученных результатов видим, что второй регион - единственный из всех регионов, чей процент риска убытка от добычи в нем удовлетворяет требованиям ТЗ: вероятность риска меньше 2.5%. Более того, этот регион имеет наибольшую среднюю прибыль по сравнению с другими рассматриваемыми регионами."
   ]
  },
  {
   "cell_type": "markdown",
   "metadata": {},
   "source": [
    "## Общий вывод <a id=\"6\"></a>"
   ]
  },
  {
   "cell_type": "markdown",
   "metadata": {},
   "source": [
    "Была дана задача: построить модель для определения региона, где добыча принесёт наибольшую прибыль. Проанализировать возможную прибыль и риски техникой Bootstrap.\n",
    "\n",
    "Для выполнения задания были данные по трем регионам.\n",
    "\n",
    "В процессе знакомства с данными увидели следующие проблемы:\n",
    "\n",
    "* имеются лишние для обучения данные (столбец `id`);\n",
    "* в целевой метрике имеются нулевые значения объема сырья;\n",
    "\n",
    "После предобработки данных получили следующие результаты:\n",
    "\n",
    "* столбец `id` удален для всех регионов;\n",
    "* нулевые значения оставили как есть, предположили, что у нас это разработанные скважины.\n",
    "\n",
    "Далее разработали модель машинного обучения на основе линейной регресии, для которой задали следующие параметры:\n",
    "\n",
    "* признаки: столбцы `f0`, `f1`, `f2`;\n",
    "* целевой признак: столбец `product`.\n",
    "\n",
    "* размер признаков - 75% от общего размера выборки;\n",
    "* размер целевого признака - 25% от общего размера выборки.\n",
    "\n",
    "После обучения модели и проверки офлайн-метрики RMSE получили следующие результаты:\n",
    "\n",
    "* по офлайн-метрике RMSE установили, что модель лучше всего предсказала значения целевого показателя для второго региона. Предположительно, это связано с тем, что второй регион имеет показатели хуже, по сравнению с другими регионами и поэтому в датасете этого региона меньше выбивающихся значений, которые могут повлиять на значение метрики. \n",
    "* по регионам по среднему предсказанного сырья больше всего во втором регионе. Однако и метрику rmse имеет больше всех.\n",
    "\n",
    "Далее определили минимальный объем сырья, при котором наша скважина будет безубыточна: 111.111 т. баррель. Затем сравнили полученный результат со средним объемом сырья для каждого региона и определили следующие выводы:\n",
    "\n",
    "* Все регионы, которые участвуют в исследовании - убыточны; \n",
    "* Необходимо рассматривать только лучшие скважины во всех регионах.\n",
    "\n",
    "Для определения потенциальной прибыли со скважин для каждого региона посчитали прибыль для 200 скважин, чей прогнозируемый объем максимален. Получили следующее:\n",
    "\n",
    "* наиболее прибыльным регионом оказался первый регион - его выручка составляет более 3 млрд. руб.\n",
    "* самый худший показатель прибыльности у второго региона. Его прибыль составляет менее 2.5 млрд. руб.\n",
    "\n",
    "После того, как определили потенциальную прибыль, приступили к реализации эксперимента выбора наиболее прибыльного региона с помощью техники Bootstrap. Использованы для эксперимента следующие параметры:\n",
    "\n",
    "* количество экспериментов: 1000\n",
    "* количество элементов в подвыборке: 500\n",
    "* с этой подвыборкой считаем ключевую метрику: потенциальную прибыль\n",
    "* определяем доверительный интервал, в котором может с заданной вероятностью находиться истинное среднее значение прибыли с региона\n",
    "* считаем долю риска (случаи, когда наша разработка скважин убыточна)\n",
    "* считаем среднюю прибыль по региону\n",
    "\n",
    "В результате получили следующее:\n",
    "\n",
    "**Второй регион - единственный из всех регионов, чей процент риска убытка от добычи в нем удовлетворяет требованиям ТЗ: вероятность риска меньше 2.5%. Более того, этот регион имеет наибольшую среднюю прибыль по сравнению с другими рассматриваемыми регионами.**"
   ]
  }
 ],
 "metadata": {
  "ExecuteTimeLog": [
   {
    "duration": 508,
    "start_time": "2022-03-26T18:36:47.355Z"
   },
   {
    "duration": 1477,
    "start_time": "2022-03-26T18:39:07.267Z"
   },
   {
    "duration": 4,
    "start_time": "2022-03-26T18:43:45.461Z"
   },
   {
    "duration": 22,
    "start_time": "2022-03-26T18:43:58.276Z"
   },
   {
    "duration": 4,
    "start_time": "2022-03-26T18:44:08.084Z"
   },
   {
    "duration": 37,
    "start_time": "2022-03-26T18:44:08.725Z"
   },
   {
    "duration": 29,
    "start_time": "2022-03-26T18:45:28.075Z"
   },
   {
    "duration": 31,
    "start_time": "2022-03-26T18:48:01.391Z"
   },
   {
    "duration": 4,
    "start_time": "2022-03-26T18:54:38.459Z"
   },
   {
    "duration": 65,
    "start_time": "2022-03-26T18:54:40.008Z"
   },
   {
    "duration": 5,
    "start_time": "2022-03-26T18:55:08.617Z"
   },
   {
    "duration": 132,
    "start_time": "2022-03-26T18:55:09.644Z"
   },
   {
    "duration": 4,
    "start_time": "2022-03-26T18:55:46.776Z"
   },
   {
    "duration": 59,
    "start_time": "2022-03-26T18:55:48.008Z"
   },
   {
    "duration": 45,
    "start_time": "2022-03-26T18:56:08.426Z"
   },
   {
    "duration": 4,
    "start_time": "2022-03-26T18:56:25.350Z"
   },
   {
    "duration": 65,
    "start_time": "2022-03-26T18:56:26.615Z"
   },
   {
    "duration": 3,
    "start_time": "2022-03-26T18:56:41.219Z"
   },
   {
    "duration": 71,
    "start_time": "2022-03-26T18:56:42.266Z"
   },
   {
    "duration": 71,
    "start_time": "2022-03-26T18:56:59.524Z"
   },
   {
    "duration": 5,
    "start_time": "2022-03-26T18:57:16.552Z"
   },
   {
    "duration": 66,
    "start_time": "2022-03-26T18:57:17.826Z"
   },
   {
    "duration": 19,
    "start_time": "2022-03-26T18:57:48.288Z"
   },
   {
    "duration": 4,
    "start_time": "2022-03-26T18:58:02.026Z"
   },
   {
    "duration": 19,
    "start_time": "2022-03-26T18:58:03.603Z"
   },
   {
    "duration": 68,
    "start_time": "2022-03-26T18:58:04.066Z"
   },
   {
    "duration": 63,
    "start_time": "2022-03-26T19:02:59.269Z"
   },
   {
    "duration": 5,
    "start_time": "2022-03-26T19:16:17.765Z"
   },
   {
    "duration": 68,
    "start_time": "2022-03-26T19:16:47.671Z"
   },
   {
    "duration": 64,
    "start_time": "2022-03-26T19:16:50.694Z"
   },
   {
    "duration": 64,
    "start_time": "2022-03-26T19:16:53.244Z"
   },
   {
    "duration": 114,
    "start_time": "2022-03-26T19:17:16.367Z"
   },
   {
    "duration": 7,
    "start_time": "2022-03-26T19:18:00.071Z"
   },
   {
    "duration": 90,
    "start_time": "2022-03-26T19:18:05.813Z"
   },
   {
    "duration": 82,
    "start_time": "2022-03-26T19:18:32.297Z"
   },
   {
    "duration": 70,
    "start_time": "2022-03-26T19:20:19.934Z"
   },
   {
    "duration": 169,
    "start_time": "2022-03-26T19:22:48.103Z"
   },
   {
    "duration": 9,
    "start_time": "2022-03-26T19:23:05.258Z"
   },
   {
    "duration": 19,
    "start_time": "2022-03-26T19:27:37.603Z"
   },
   {
    "duration": 9,
    "start_time": "2022-03-26T19:27:48.408Z"
   },
   {
    "duration": 19,
    "start_time": "2022-03-26T19:27:49.582Z"
   },
   {
    "duration": 9,
    "start_time": "2022-03-26T19:28:06.404Z"
   },
   {
    "duration": 19,
    "start_time": "2022-03-26T19:28:07.653Z"
   },
   {
    "duration": 9,
    "start_time": "2022-03-26T19:28:14.023Z"
   },
   {
    "duration": 9,
    "start_time": "2022-03-26T19:28:45.069Z"
   },
   {
    "duration": 19,
    "start_time": "2022-03-26T19:28:47.305Z"
   },
   {
    "duration": 13,
    "start_time": "2022-03-26T19:29:50.028Z"
   },
   {
    "duration": 14,
    "start_time": "2022-03-26T19:29:51.241Z"
   },
   {
    "duration": 5,
    "start_time": "2022-03-26T19:30:00.114Z"
   },
   {
    "duration": 6,
    "start_time": "2022-03-26T19:32:19.913Z"
   },
   {
    "duration": 19,
    "start_time": "2022-03-26T19:32:44.615Z"
   },
   {
    "duration": 7,
    "start_time": "2022-03-26T19:34:58.320Z"
   },
   {
    "duration": 2958,
    "start_time": "2022-03-26T19:41:23.208Z"
   },
   {
    "duration": 2664,
    "start_time": "2022-03-26T19:41:37.885Z"
   },
   {
    "duration": 17,
    "start_time": "2022-03-26T19:42:11.242Z"
   },
   {
    "duration": 2688,
    "start_time": "2022-03-26T19:42:31.510Z"
   },
   {
    "duration": 2719,
    "start_time": "2022-03-26T19:43:05.015Z"
   },
   {
    "duration": 10,
    "start_time": "2022-03-26T19:43:19.698Z"
   },
   {
    "duration": 13,
    "start_time": "2022-03-26T19:45:21.324Z"
   },
   {
    "duration": 17,
    "start_time": "2022-03-26T19:45:48.678Z"
   },
   {
    "duration": 2613,
    "start_time": "2022-03-26T19:46:45.621Z"
   },
   {
    "duration": 17,
    "start_time": "2022-03-26T19:47:22.539Z"
   },
   {
    "duration": 12,
    "start_time": "2022-03-26T19:48:33.234Z"
   },
   {
    "duration": 4,
    "start_time": "2022-03-26T20:17:13.501Z"
   },
   {
    "duration": 4,
    "start_time": "2022-03-26T20:18:30.316Z"
   },
   {
    "duration": 6,
    "start_time": "2022-03-26T20:18:44.954Z"
   },
   {
    "duration": 4,
    "start_time": "2022-03-26T20:21:17.330Z"
   },
   {
    "duration": 4,
    "start_time": "2022-03-26T20:24:11.075Z"
   },
   {
    "duration": 6,
    "start_time": "2022-03-26T20:30:00.365Z"
   },
   {
    "duration": 7,
    "start_time": "2022-03-26T20:31:46.084Z"
   },
   {
    "duration": 78,
    "start_time": "2022-03-26T20:32:01.016Z"
   },
   {
    "duration": 6,
    "start_time": "2022-03-26T20:33:06.927Z"
   },
   {
    "duration": 182,
    "start_time": "2022-03-26T20:33:07.562Z"
   },
   {
    "duration": 6,
    "start_time": "2022-03-26T20:35:17.420Z"
   },
   {
    "duration": 118,
    "start_time": "2022-03-26T20:35:17.428Z"
   },
   {
    "duration": 7,
    "start_time": "2022-03-26T20:41:11.205Z"
   },
   {
    "duration": 88,
    "start_time": "2022-03-26T20:41:12.859Z"
   },
   {
    "duration": 27,
    "start_time": "2022-03-26T20:42:09.397Z"
   },
   {
    "duration": 30,
    "start_time": "2022-03-26T20:42:34.746Z"
   },
   {
    "duration": 27,
    "start_time": "2022-03-26T20:44:57.790Z"
   },
   {
    "duration": 5,
    "start_time": "2022-03-26T20:47:04.970Z"
   },
   {
    "duration": 24,
    "start_time": "2022-03-26T20:47:06.818Z"
   },
   {
    "duration": 25,
    "start_time": "2022-03-26T20:47:08.299Z"
   },
   {
    "duration": 26,
    "start_time": "2022-03-26T20:47:09.063Z"
   },
   {
    "duration": 7,
    "start_time": "2022-03-26T20:48:54.982Z"
   },
   {
    "duration": 28,
    "start_time": "2022-03-26T20:48:56.524Z"
   },
   {
    "duration": 28,
    "start_time": "2022-03-26T20:48:59.142Z"
   },
   {
    "duration": 51,
    "start_time": "2022-03-26T20:48:59.895Z"
   },
   {
    "duration": 8,
    "start_time": "2022-03-26T20:49:08.563Z"
   },
   {
    "duration": 8,
    "start_time": "2022-03-26T20:49:31.264Z"
   },
   {
    "duration": 4,
    "start_time": "2022-03-26T20:51:49.042Z"
   },
   {
    "duration": 7,
    "start_time": "2022-03-26T20:52:13.979Z"
   },
   {
    "duration": 4,
    "start_time": "2022-03-26T20:52:14.594Z"
   },
   {
    "duration": 145,
    "start_time": "2022-03-26T20:52:15.302Z"
   },
   {
    "duration": 5,
    "start_time": "2022-03-26T20:52:47.094Z"
   },
   {
    "duration": 165,
    "start_time": "2022-03-26T20:52:47.791Z"
   },
   {
    "duration": 4,
    "start_time": "2022-03-26T20:52:54.339Z"
   },
   {
    "duration": 7,
    "start_time": "2022-03-26T20:52:56.181Z"
   },
   {
    "duration": 248,
    "start_time": "2022-03-26T20:52:58.597Z"
   },
   {
    "duration": 5,
    "start_time": "2022-03-26T20:53:13.786Z"
   },
   {
    "duration": 32,
    "start_time": "2022-03-26T20:53:14.288Z"
   },
   {
    "duration": 7,
    "start_time": "2022-03-26T20:53:22.397Z"
   },
   {
    "duration": 12,
    "start_time": "2022-03-26T20:53:23.109Z"
   },
   {
    "duration": 4,
    "start_time": "2022-03-26T20:53:36.486Z"
   },
   {
    "duration": 46,
    "start_time": "2022-03-26T20:53:37.510Z"
   },
   {
    "duration": 7,
    "start_time": "2022-03-26T20:53:40.098Z"
   },
   {
    "duration": 5,
    "start_time": "2022-03-26T20:53:41.132Z"
   },
   {
    "duration": 28,
    "start_time": "2022-03-26T20:53:41.854Z"
   },
   {
    "duration": 6,
    "start_time": "2022-03-26T20:53:45.220Z"
   },
   {
    "duration": 4,
    "start_time": "2022-03-26T20:53:45.751Z"
   },
   {
    "duration": 28,
    "start_time": "2022-03-26T20:53:46.848Z"
   },
   {
    "duration": 6,
    "start_time": "2022-03-26T20:54:01.811Z"
   },
   {
    "duration": 4,
    "start_time": "2022-03-26T20:54:02.363Z"
   },
   {
    "duration": 27,
    "start_time": "2022-03-26T20:54:02.923Z"
   },
   {
    "duration": 36,
    "start_time": "2022-03-26T20:54:03.842Z"
   },
   {
    "duration": 31,
    "start_time": "2022-03-26T20:54:04.739Z"
   },
   {
    "duration": 556,
    "start_time": "2022-03-26T20:54:48.526Z"
   },
   {
    "duration": 1038,
    "start_time": "2022-03-26T20:54:49.085Z"
   },
   {
    "duration": 2368,
    "start_time": "2022-03-26T20:54:50.126Z"
   },
   {
    "duration": 6,
    "start_time": "2022-03-26T20:54:52.497Z"
   },
   {
    "duration": 94,
    "start_time": "2022-03-26T20:54:52.506Z"
   },
   {
    "duration": 87,
    "start_time": "2022-03-26T20:54:52.602Z"
   },
   {
    "duration": 99,
    "start_time": "2022-03-26T20:54:52.692Z"
   },
   {
    "duration": 76,
    "start_time": "2022-03-26T20:54:52.793Z"
   },
   {
    "duration": 71,
    "start_time": "2022-03-26T20:54:52.872Z"
   },
   {
    "duration": 67,
    "start_time": "2022-03-26T20:54:52.947Z"
   },
   {
    "duration": 35,
    "start_time": "2022-03-26T20:54:53.017Z"
   },
   {
    "duration": 12,
    "start_time": "2022-03-26T20:54:53.054Z"
   },
   {
    "duration": 18,
    "start_time": "2022-03-26T20:54:53.069Z"
   },
   {
    "duration": 17,
    "start_time": "2022-03-26T20:54:53.089Z"
   },
   {
    "duration": 45,
    "start_time": "2022-03-26T20:54:53.108Z"
   },
   {
    "duration": 7,
    "start_time": "2022-03-26T20:54:53.155Z"
   },
   {
    "duration": 5,
    "start_time": "2022-03-26T20:54:53.164Z"
   },
   {
    "duration": 81,
    "start_time": "2022-03-26T20:54:53.171Z"
   },
   {
    "duration": 28,
    "start_time": "2022-03-26T20:54:53.344Z"
   },
   {
    "duration": 120,
    "start_time": "2022-03-26T20:54:53.442Z"
   },
   {
    "duration": 30,
    "start_time": "2022-03-26T20:56:34.255Z"
   },
   {
    "duration": 4,
    "start_time": "2022-03-26T21:31:33.860Z"
   },
   {
    "duration": 4,
    "start_time": "2022-03-26T21:33:06.027Z"
   },
   {
    "duration": 4,
    "start_time": "2022-03-26T21:38:48.081Z"
   },
   {
    "duration": 5,
    "start_time": "2022-03-26T21:43:19.492Z"
   },
   {
    "duration": 4,
    "start_time": "2022-03-26T21:43:29.029Z"
   },
   {
    "duration": 4,
    "start_time": "2022-03-26T21:43:47.353Z"
   },
   {
    "duration": 5,
    "start_time": "2022-03-26T21:44:03.789Z"
   },
   {
    "duration": 26,
    "start_time": "2022-03-26T21:50:36.339Z"
   },
   {
    "duration": 27,
    "start_time": "2022-03-26T21:50:47.689Z"
   },
   {
    "duration": 27,
    "start_time": "2022-03-26T21:50:52.144Z"
   },
   {
    "duration": 7,
    "start_time": "2022-03-26T21:51:06.460Z"
   },
   {
    "duration": 5,
    "start_time": "2022-03-26T21:51:20.426Z"
   },
   {
    "duration": 6,
    "start_time": "2022-03-26T21:51:44.767Z"
   },
   {
    "duration": 5,
    "start_time": "2022-03-26T21:52:05.797Z"
   },
   {
    "duration": 5,
    "start_time": "2022-03-26T22:11:47.428Z"
   },
   {
    "duration": 11,
    "start_time": "2022-03-26T22:12:15.362Z"
   },
   {
    "duration": 6,
    "start_time": "2022-03-26T22:14:49.435Z"
   },
   {
    "duration": 12,
    "start_time": "2022-03-26T22:14:50.021Z"
   },
   {
    "duration": 164,
    "start_time": "2022-03-26T22:21:41.948Z"
   },
   {
    "duration": 10,
    "start_time": "2022-03-26T22:21:47.319Z"
   },
   {
    "duration": 12,
    "start_time": "2022-03-26T22:22:00.055Z"
   },
   {
    "duration": 5,
    "start_time": "2022-03-26T22:23:44.765Z"
   },
   {
    "duration": 137,
    "start_time": "2022-03-26T22:24:04.493Z"
   },
   {
    "duration": 4,
    "start_time": "2022-03-26T22:24:11.244Z"
   },
   {
    "duration": 5,
    "start_time": "2022-03-26T22:24:22.769Z"
   },
   {
    "duration": 4,
    "start_time": "2022-03-26T22:24:23.291Z"
   },
   {
    "duration": 11,
    "start_time": "2022-03-26T22:24:25.344Z"
   },
   {
    "duration": 11,
    "start_time": "2022-03-26T22:25:12.777Z"
   },
   {
    "duration": 11,
    "start_time": "2022-03-26T22:25:16.665Z"
   },
   {
    "duration": 12,
    "start_time": "2022-03-26T22:25:26.500Z"
   },
   {
    "duration": 12,
    "start_time": "2022-03-26T22:25:58.626Z"
   },
   {
    "duration": 6,
    "start_time": "2022-03-26T22:44:44.531Z"
   },
   {
    "duration": 7,
    "start_time": "2022-03-26T22:50:02.911Z"
   },
   {
    "duration": 5,
    "start_time": "2022-03-26T23:10:27.043Z"
   },
   {
    "duration": 11,
    "start_time": "2022-03-26T23:10:45.577Z"
   },
   {
    "duration": 21,
    "start_time": "2022-03-26T23:10:52.184Z"
   },
   {
    "duration": 6,
    "start_time": "2022-03-26T23:11:23.045Z"
   },
   {
    "duration": 5,
    "start_time": "2022-03-26T23:11:23.716Z"
   },
   {
    "duration": 34,
    "start_time": "2022-03-26T23:11:24.372Z"
   },
   {
    "duration": 7,
    "start_time": "2022-03-26T23:12:37.403Z"
   },
   {
    "duration": 6,
    "start_time": "2022-03-26T23:12:37.828Z"
   },
   {
    "duration": 23,
    "start_time": "2022-03-26T23:12:38.533Z"
   },
   {
    "duration": 6,
    "start_time": "2022-03-26T23:12:52.126Z"
   },
   {
    "duration": 12,
    "start_time": "2022-03-26T23:12:53.539Z"
   },
   {
    "duration": 12,
    "start_time": "2022-03-26T23:13:26.843Z"
   },
   {
    "duration": 5,
    "start_time": "2022-03-26T23:14:21.748Z"
   },
   {
    "duration": 4,
    "start_time": "2022-03-26T23:14:22.435Z"
   },
   {
    "duration": 32,
    "start_time": "2022-03-26T23:14:23.751Z"
   },
   {
    "duration": 10,
    "start_time": "2022-03-26T23:15:42.266Z"
   },
   {
    "duration": 5,
    "start_time": "2022-03-26T23:15:42.956Z"
   },
   {
    "duration": 2367,
    "start_time": "2022-03-26T23:15:43.688Z"
   },
   {
    "duration": 2573,
    "start_time": "2022-03-26T23:15:56.260Z"
   },
   {
    "duration": 2397,
    "start_time": "2022-03-26T23:16:49.049Z"
   },
   {
    "duration": 34,
    "start_time": "2022-03-26T23:17:32.085Z"
   },
   {
    "duration": 5,
    "start_time": "2022-03-26T23:19:17.047Z"
   },
   {
    "duration": 4,
    "start_time": "2022-03-26T23:19:17.919Z"
   },
   {
    "duration": 14,
    "start_time": "2022-03-26T23:19:20.323Z"
   },
   {
    "duration": 11,
    "start_time": "2022-03-26T23:19:24.691Z"
   },
   {
    "duration": 11,
    "start_time": "2022-03-26T23:19:29.510Z"
   },
   {
    "duration": 7,
    "start_time": "2022-03-26T23:23:05.432Z"
   },
   {
    "duration": 5,
    "start_time": "2022-03-26T23:23:06.096Z"
   },
   {
    "duration": 1776,
    "start_time": "2022-03-26T23:23:06.759Z"
   },
   {
    "duration": 1776,
    "start_time": "2022-03-26T23:23:17.245Z"
   },
   {
    "duration": 2200,
    "start_time": "2022-03-26T23:23:29.914Z"
   },
   {
    "duration": 7,
    "start_time": "2022-03-26T23:24:38.198Z"
   },
   {
    "duration": 5,
    "start_time": "2022-03-26T23:24:38.976Z"
   },
   {
    "duration": 1772,
    "start_time": "2022-03-26T23:24:39.659Z"
   },
   {
    "duration": 1767,
    "start_time": "2022-03-26T23:24:45.676Z"
   },
   {
    "duration": 1784,
    "start_time": "2022-03-26T23:24:51.052Z"
   },
   {
    "duration": 7,
    "start_time": "2022-03-26T23:26:18.941Z"
   },
   {
    "duration": 6,
    "start_time": "2022-03-26T23:26:20.000Z"
   },
   {
    "duration": 1989,
    "start_time": "2022-03-26T23:26:20.728Z"
   },
   {
    "duration": 2067,
    "start_time": "2022-03-26T23:26:26.589Z"
   },
   {
    "duration": 1936,
    "start_time": "2022-03-26T23:26:33.519Z"
   },
   {
    "duration": 5,
    "start_time": "2022-03-26T23:31:08.644Z"
   },
   {
    "duration": 1944,
    "start_time": "2022-03-26T23:31:09.340Z"
   },
   {
    "duration": 6,
    "start_time": "2022-03-26T23:31:14.674Z"
   },
   {
    "duration": 1921,
    "start_time": "2022-03-26T23:31:15.323Z"
   },
   {
    "duration": 6,
    "start_time": "2022-03-26T23:31:21.541Z"
   },
   {
    "duration": 1970,
    "start_time": "2022-03-26T23:31:22.015Z"
   },
   {
    "duration": 6,
    "start_time": "2022-03-26T23:32:37.169Z"
   },
   {
    "duration": 7,
    "start_time": "2022-03-26T23:32:40.704Z"
   },
   {
    "duration": 5,
    "start_time": "2022-03-26T23:32:41.444Z"
   },
   {
    "duration": 1938,
    "start_time": "2022-03-26T23:32:41.957Z"
   },
   {
    "duration": 5,
    "start_time": "2022-03-26T23:33:27.998Z"
   },
   {
    "duration": 8,
    "start_time": "2022-03-26T23:33:29.885Z"
   },
   {
    "duration": 2092,
    "start_time": "2022-03-26T23:33:33.554Z"
   },
   {
    "duration": 5,
    "start_time": "2022-03-26T23:33:41.687Z"
   },
   {
    "duration": 1957,
    "start_time": "2022-03-26T23:33:42.232Z"
   },
   {
    "duration": 9,
    "start_time": "2022-03-26T23:33:52.573Z"
   },
   {
    "duration": 5,
    "start_time": "2022-03-26T23:33:53.103Z"
   },
   {
    "duration": 1939,
    "start_time": "2022-03-26T23:33:55.033Z"
   },
   {
    "duration": 8,
    "start_time": "2022-03-26T23:36:20.665Z"
   },
   {
    "duration": 6,
    "start_time": "2022-03-26T23:36:21.296Z"
   },
   {
    "duration": 1658,
    "start_time": "2022-03-26T23:36:22.329Z"
   },
   {
    "duration": 1611,
    "start_time": "2022-03-26T23:36:25.812Z"
   },
   {
    "duration": 1784,
    "start_time": "2022-03-26T23:36:28.488Z"
   },
   {
    "duration": 7,
    "start_time": "2022-03-26T23:36:53.869Z"
   },
   {
    "duration": 6,
    "start_time": "2022-03-26T23:38:10.719Z"
   },
   {
    "duration": 6,
    "start_time": "2022-03-26T23:38:24.900Z"
   },
   {
    "duration": 1611,
    "start_time": "2022-03-26T23:38:25.861Z"
   },
   {
    "duration": 8,
    "start_time": "2022-03-26T23:40:37.774Z"
   },
   {
    "duration": 6,
    "start_time": "2022-03-26T23:40:38.252Z"
   },
   {
    "duration": 1634,
    "start_time": "2022-03-26T23:40:38.696Z"
   },
   {
    "duration": 5,
    "start_time": "2022-03-26T23:40:48.175Z"
   },
   {
    "duration": 1580,
    "start_time": "2022-03-26T23:40:48.183Z"
   },
   {
    "duration": 1612,
    "start_time": "2022-03-26T23:40:49.766Z"
   },
   {
    "duration": 1606,
    "start_time": "2022-03-26T23:40:51.380Z"
   },
   {
    "duration": 6,
    "start_time": "2022-03-26T23:44:47.590Z"
   },
   {
    "duration": 1616,
    "start_time": "2022-03-26T23:44:48.230Z"
   },
   {
    "duration": 1693,
    "start_time": "2022-03-26T23:44:54.582Z"
   },
   {
    "duration": 5,
    "start_time": "2022-03-26T23:45:22.921Z"
   },
   {
    "duration": 6,
    "start_time": "2022-03-26T23:45:28.720Z"
   },
   {
    "duration": 1586,
    "start_time": "2022-03-26T23:45:29.753Z"
   },
   {
    "duration": 1589,
    "start_time": "2022-03-26T23:45:32.233Z"
   },
   {
    "duration": 1610,
    "start_time": "2022-03-26T23:45:36.205Z"
   },
   {
    "duration": 470,
    "start_time": "2022-03-27T00:23:45.270Z"
   },
   {
    "duration": 987,
    "start_time": "2022-03-27T00:23:45.744Z"
   },
   {
    "duration": 1201,
    "start_time": "2022-03-27T00:23:46.733Z"
   },
   {
    "duration": 5,
    "start_time": "2022-03-27T00:23:47.938Z"
   },
   {
    "duration": 99,
    "start_time": "2022-03-27T00:23:47.945Z"
   },
   {
    "duration": 68,
    "start_time": "2022-03-27T00:23:48.046Z"
   },
   {
    "duration": 91,
    "start_time": "2022-03-27T00:23:48.117Z"
   },
   {
    "duration": 91,
    "start_time": "2022-03-27T00:23:48.211Z"
   },
   {
    "duration": 85,
    "start_time": "2022-03-27T00:23:48.305Z"
   },
   {
    "duration": 77,
    "start_time": "2022-03-27T00:23:48.396Z"
   },
   {
    "duration": 17,
    "start_time": "2022-03-27T00:23:48.476Z"
   },
   {
    "duration": 13,
    "start_time": "2022-03-27T00:23:48.496Z"
   },
   {
    "duration": 43,
    "start_time": "2022-03-27T00:23:48.512Z"
   },
   {
    "duration": 20,
    "start_time": "2022-03-27T00:23:48.557Z"
   },
   {
    "duration": 14,
    "start_time": "2022-03-27T00:23:48.579Z"
   },
   {
    "duration": 8,
    "start_time": "2022-03-27T00:23:48.595Z"
   },
   {
    "duration": 6,
    "start_time": "2022-03-27T00:23:48.642Z"
   },
   {
    "duration": 96,
    "start_time": "2022-03-27T00:23:48.651Z"
   },
   {
    "duration": 119,
    "start_time": "2022-03-27T00:23:48.750Z"
   },
   {
    "duration": 118,
    "start_time": "2022-03-27T00:23:48.945Z"
   },
   {
    "duration": 78,
    "start_time": "2022-03-27T00:23:49.067Z"
   },
   {
    "duration": 98,
    "start_time": "2022-03-27T00:23:49.149Z"
   },
   {
    "duration": 9,
    "start_time": "2022-03-27T00:23:49.250Z"
   },
   {
    "duration": 9,
    "start_time": "2022-03-27T00:23:49.261Z"
   },
   {
    "duration": 8,
    "start_time": "2022-03-27T00:23:49.272Z"
   },
   {
    "duration": 7,
    "start_time": "2022-03-27T00:23:49.282Z"
   },
   {
    "duration": 5,
    "start_time": "2022-03-27T00:23:49.292Z"
   },
   {
    "duration": 44,
    "start_time": "2022-03-27T00:23:49.300Z"
   },
   {
    "duration": 12,
    "start_time": "2022-03-27T00:23:49.346Z"
   },
   {
    "duration": 13,
    "start_time": "2022-03-27T00:23:49.360Z"
   },
   {
    "duration": 11,
    "start_time": "2022-03-27T00:23:49.375Z"
   },
   {
    "duration": 7,
    "start_time": "2022-03-27T00:23:49.388Z"
   },
   {
    "duration": 51,
    "start_time": "2022-03-27T00:23:49.397Z"
   },
   {
    "duration": 1604,
    "start_time": "2022-03-27T00:23:49.449Z"
   },
   {
    "duration": 1577,
    "start_time": "2022-03-27T00:23:51.055Z"
   },
   {
    "duration": 1566,
    "start_time": "2022-03-27T00:23:52.635Z"
   }
  ],
  "kernelspec": {
   "display_name": "Python 3 (ipykernel)",
   "language": "python",
   "name": "python3"
  },
  "language_info": {
   "codemirror_mode": {
    "name": "ipython",
    "version": 3
   },
   "file_extension": ".py",
   "mimetype": "text/x-python",
   "name": "python",
   "nbconvert_exporter": "python",
   "pygments_lexer": "ipython3",
   "version": "3.9.5"
  },
  "toc": {
   "base_numbering": 1,
   "nav_menu": {},
   "number_sections": true,
   "sideBar": true,
   "skip_h1_title": true,
   "title_cell": "Table of Contents",
   "title_sidebar": "Contents",
   "toc_cell": false,
   "toc_position": {},
   "toc_section_display": true,
   "toc_window_display": false
  }
 },
 "nbformat": 4,
 "nbformat_minor": 2
}
