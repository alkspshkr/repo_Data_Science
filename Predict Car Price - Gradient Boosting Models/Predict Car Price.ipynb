{
 "cells": [
  {
   "cell_type": "markdown",
   "id": "1871c313",
   "metadata": {
    "id": "1871c313"
   },
   "source": [
    "# Проектная работа"
   ]
  },
  {
   "cell_type": "markdown",
   "id": "cd3ca013",
   "metadata": {},
   "source": [
    "## Содержание\n",
    "\n",
    "1. [Знакомство с данными](#1)\n",
    "2. [Предобработка данных](#2)\n",
    "3. [Обучение моделей](#3)\n",
    "4. [Анализ результатов](#4)\n",
    "5. [Общий вывод](#5)"
   ]
  },
  {
   "cell_type": "markdown",
   "id": "e434ce0f",
   "metadata": {
    "id": "e434ce0f"
   },
   "source": [
    "## Описание проекта\n",
    "\n",
    "Сервис по продаже автомобилей \"Не бит, не крашен\" разрабатывает новое приложение для привлечения новых клиентов. В нем можно быстро узнать рыночную стоимость своего автомобиля.\n",
    "\n",
    "Необходимо построить модель для определения стоимости\n",
    "\n",
    "Заказчку важны:\n",
    "\n",
    "* качество предсказания;\n",
    "* скорость предсказания;\n",
    "* время обучения."
   ]
  },
  {
   "cell_type": "markdown",
   "id": "22953762",
   "metadata": {
    "id": "22953762"
   },
   "source": [
    "## Знакомство с данными <a id='1'></a> "
   ]
  },
  {
   "cell_type": "code",
   "execution_count": 1,
   "id": "db11201b",
   "metadata": {
    "id": "db11201b"
   },
   "outputs": [],
   "source": [
    "# импорт всех необходимых модулей для работы с данными\n",
    "import pandas as pd\n",
    "import matplotlib.pyplot as plt\n",
    "import numpy as np\n",
    "import time"
   ]
  },
  {
   "cell_type": "code",
   "execution_count": 2,
   "id": "85f9f9cd",
   "metadata": {
    "id": "85f9f9cd"
   },
   "outputs": [],
   "source": [
    "# импорт всех модулей для работы с МашОбом\n",
    "from sklearn.model_selection import train_test_split\n",
    "from sklearn.preprocessing import StandardScaler\n",
    "from sklearn.linear_model import LinearRegression\n",
    "from sklearn.model_selection import cross_val_score\n",
    "from sklearn.ensemble import RandomForestRegressor\n",
    "from sklearn.model_selection import GridSearchCV\n",
    "from sklearn.tree import DecisionTreeRegressor\n",
    "from lightgbm import LGBMRegressor\n",
    "from catboost import CatBoostRegressor\n",
    "from sklearn.metrics import mean_squared_error"
   ]
  },
  {
   "cell_type": "markdown",
   "id": "5ac93b24",
   "metadata": {
    "id": "5ac93b24"
   },
   "source": [
    "Для начала познакомимся с нашими данными:"
   ]
  },
  {
   "cell_type": "code",
   "execution_count": 3,
   "id": "0ccffa66",
   "metadata": {
    "id": "0ccffa66"
   },
   "outputs": [],
   "source": [
    "try:\n",
    "    df = pd.read_csv('https://code.s3.yandex.net/datasets/autos.csv')\n",
    "except:\n",
    "    df = pd.read_csv('autos.csv')"
   ]
  },
  {
   "cell_type": "code",
   "execution_count": 4,
   "id": "21df8210",
   "metadata": {
    "colab": {
     "base_uri": "https://localhost:8080/",
     "height": 206
    },
    "id": "21df8210",
    "outputId": "eeef9d6e-6415-4037-e8dd-f90c010336a3"
   },
   "outputs": [
    {
     "data": {
      "text/html": [
       "<div>\n",
       "<style scoped>\n",
       "    .dataframe tbody tr th:only-of-type {\n",
       "        vertical-align: middle;\n",
       "    }\n",
       "\n",
       "    .dataframe tbody tr th {\n",
       "        vertical-align: top;\n",
       "    }\n",
       "\n",
       "    .dataframe thead th {\n",
       "        text-align: right;\n",
       "    }\n",
       "</style>\n",
       "<table border=\"1\" class=\"dataframe\">\n",
       "  <thead>\n",
       "    <tr style=\"text-align: right;\">\n",
       "      <th></th>\n",
       "      <th>DateCrawled</th>\n",
       "      <th>Price</th>\n",
       "      <th>VehicleType</th>\n",
       "      <th>RegistrationYear</th>\n",
       "      <th>Gearbox</th>\n",
       "      <th>Power</th>\n",
       "      <th>Model</th>\n",
       "      <th>Kilometer</th>\n",
       "      <th>RegistrationMonth</th>\n",
       "      <th>FuelType</th>\n",
       "      <th>Brand</th>\n",
       "      <th>NotRepaired</th>\n",
       "      <th>DateCreated</th>\n",
       "      <th>NumberOfPictures</th>\n",
       "      <th>PostalCode</th>\n",
       "      <th>LastSeen</th>\n",
       "    </tr>\n",
       "  </thead>\n",
       "  <tbody>\n",
       "    <tr>\n",
       "      <th>0</th>\n",
       "      <td>2016-03-24 11:52:17</td>\n",
       "      <td>480</td>\n",
       "      <td>NaN</td>\n",
       "      <td>1993</td>\n",
       "      <td>manual</td>\n",
       "      <td>0</td>\n",
       "      <td>golf</td>\n",
       "      <td>150000</td>\n",
       "      <td>0</td>\n",
       "      <td>petrol</td>\n",
       "      <td>volkswagen</td>\n",
       "      <td>NaN</td>\n",
       "      <td>2016-03-24 00:00:00</td>\n",
       "      <td>0</td>\n",
       "      <td>70435</td>\n",
       "      <td>2016-04-07 03:16:57</td>\n",
       "    </tr>\n",
       "    <tr>\n",
       "      <th>1</th>\n",
       "      <td>2016-03-24 10:58:45</td>\n",
       "      <td>18300</td>\n",
       "      <td>coupe</td>\n",
       "      <td>2011</td>\n",
       "      <td>manual</td>\n",
       "      <td>190</td>\n",
       "      <td>NaN</td>\n",
       "      <td>125000</td>\n",
       "      <td>5</td>\n",
       "      <td>gasoline</td>\n",
       "      <td>audi</td>\n",
       "      <td>yes</td>\n",
       "      <td>2016-03-24 00:00:00</td>\n",
       "      <td>0</td>\n",
       "      <td>66954</td>\n",
       "      <td>2016-04-07 01:46:50</td>\n",
       "    </tr>\n",
       "    <tr>\n",
       "      <th>2</th>\n",
       "      <td>2016-03-14 12:52:21</td>\n",
       "      <td>9800</td>\n",
       "      <td>suv</td>\n",
       "      <td>2004</td>\n",
       "      <td>auto</td>\n",
       "      <td>163</td>\n",
       "      <td>grand</td>\n",
       "      <td>125000</td>\n",
       "      <td>8</td>\n",
       "      <td>gasoline</td>\n",
       "      <td>jeep</td>\n",
       "      <td>NaN</td>\n",
       "      <td>2016-03-14 00:00:00</td>\n",
       "      <td>0</td>\n",
       "      <td>90480</td>\n",
       "      <td>2016-04-05 12:47:46</td>\n",
       "    </tr>\n",
       "    <tr>\n",
       "      <th>3</th>\n",
       "      <td>2016-03-17 16:54:04</td>\n",
       "      <td>1500</td>\n",
       "      <td>small</td>\n",
       "      <td>2001</td>\n",
       "      <td>manual</td>\n",
       "      <td>75</td>\n",
       "      <td>golf</td>\n",
       "      <td>150000</td>\n",
       "      <td>6</td>\n",
       "      <td>petrol</td>\n",
       "      <td>volkswagen</td>\n",
       "      <td>no</td>\n",
       "      <td>2016-03-17 00:00:00</td>\n",
       "      <td>0</td>\n",
       "      <td>91074</td>\n",
       "      <td>2016-03-17 17:40:17</td>\n",
       "    </tr>\n",
       "    <tr>\n",
       "      <th>4</th>\n",
       "      <td>2016-03-31 17:25:20</td>\n",
       "      <td>3600</td>\n",
       "      <td>small</td>\n",
       "      <td>2008</td>\n",
       "      <td>manual</td>\n",
       "      <td>69</td>\n",
       "      <td>fabia</td>\n",
       "      <td>90000</td>\n",
       "      <td>7</td>\n",
       "      <td>gasoline</td>\n",
       "      <td>skoda</td>\n",
       "      <td>no</td>\n",
       "      <td>2016-03-31 00:00:00</td>\n",
       "      <td>0</td>\n",
       "      <td>60437</td>\n",
       "      <td>2016-04-06 10:17:21</td>\n",
       "    </tr>\n",
       "  </tbody>\n",
       "</table>\n",
       "</div>"
      ],
      "text/plain": [
       "           DateCrawled  Price VehicleType  RegistrationYear Gearbox  Power  \\\n",
       "0  2016-03-24 11:52:17    480         NaN              1993  manual      0   \n",
       "1  2016-03-24 10:58:45  18300       coupe              2011  manual    190   \n",
       "2  2016-03-14 12:52:21   9800         suv              2004    auto    163   \n",
       "3  2016-03-17 16:54:04   1500       small              2001  manual     75   \n",
       "4  2016-03-31 17:25:20   3600       small              2008  manual     69   \n",
       "\n",
       "   Model  Kilometer  RegistrationMonth  FuelType       Brand NotRepaired  \\\n",
       "0   golf     150000                  0    petrol  volkswagen         NaN   \n",
       "1    NaN     125000                  5  gasoline        audi         yes   \n",
       "2  grand     125000                  8  gasoline        jeep         NaN   \n",
       "3   golf     150000                  6    petrol  volkswagen          no   \n",
       "4  fabia      90000                  7  gasoline       skoda          no   \n",
       "\n",
       "           DateCreated  NumberOfPictures  PostalCode             LastSeen  \n",
       "0  2016-03-24 00:00:00                 0       70435  2016-04-07 03:16:57  \n",
       "1  2016-03-24 00:00:00                 0       66954  2016-04-07 01:46:50  \n",
       "2  2016-03-14 00:00:00                 0       90480  2016-04-05 12:47:46  \n",
       "3  2016-03-17 00:00:00                 0       91074  2016-03-17 17:40:17  \n",
       "4  2016-03-31 00:00:00                 0       60437  2016-04-06 10:17:21  "
      ]
     },
     "execution_count": 4,
     "metadata": {},
     "output_type": "execute_result"
    }
   ],
   "source": [
    "df.head()"
   ]
  },
  {
   "cell_type": "code",
   "execution_count": 5,
   "id": "aaa5d287",
   "metadata": {
    "colab": {
     "base_uri": "https://localhost:8080/"
    },
    "id": "aaa5d287",
    "outputId": "50d28505-d80b-4928-c16e-46ac6110edef"
   },
   "outputs": [
    {
     "name": "stdout",
     "output_type": "stream",
     "text": [
      "<class 'pandas.core.frame.DataFrame'>\n",
      "RangeIndex: 354369 entries, 0 to 354368\n",
      "Data columns (total 16 columns):\n",
      " #   Column             Non-Null Count   Dtype \n",
      "---  ------             --------------   ----- \n",
      " 0   DateCrawled        354369 non-null  object\n",
      " 1   Price              354369 non-null  int64 \n",
      " 2   VehicleType        316879 non-null  object\n",
      " 3   RegistrationYear   354369 non-null  int64 \n",
      " 4   Gearbox            334536 non-null  object\n",
      " 5   Power              354369 non-null  int64 \n",
      " 6   Model              334664 non-null  object\n",
      " 7   Kilometer          354369 non-null  int64 \n",
      " 8   RegistrationMonth  354369 non-null  int64 \n",
      " 9   FuelType           321474 non-null  object\n",
      " 10  Brand              354369 non-null  object\n",
      " 11  NotRepaired        283215 non-null  object\n",
      " 12  DateCreated        354369 non-null  object\n",
      " 13  NumberOfPictures   354369 non-null  int64 \n",
      " 14  PostalCode         354369 non-null  int64 \n",
      " 15  LastSeen           354369 non-null  object\n",
      "dtypes: int64(7), object(9)\n",
      "memory usage: 43.3+ MB\n"
     ]
    }
   ],
   "source": [
    "df.info()"
   ]
  },
  {
   "cell_type": "markdown",
   "id": "abac4f0b",
   "metadata": {
    "id": "abac4f0b"
   },
   "source": [
    "Из дополнительной информации известно:"
   ]
  },
  {
   "cell_type": "markdown",
   "id": "930eec3e",
   "metadata": {
    "id": "930eec3e"
   },
   "source": [
    "* `DataCrawled` - дата скачивания анкеты из базы;\n",
    "* `VehicleType` - тип автомобильного кузова;\n",
    "* `RegistrationYear` - год регистрации автомобиля;\n",
    "* `Gearbox` - тип коробки передач;\n",
    "* `Power` - мощность (л.с.);\n",
    "* `Model` - модель автомобиля;\n",
    "* `Kilometer` - пробег (в км);\n",
    "* `RegistrationMonth` - месяц регистрации автомобиля;\n",
    "* `FuelType` - тип топлива; \n",
    "* `Brand` - марка автомобиля;\n",
    "* `NotRepaired` - была машина в ремонте или нет;\n",
    "* `DataCreated` - дата создания анекты;\n",
    "* `NumberOfPictures` - количество фотографий автомобиля;\n",
    "* `PostalCode` - почтовый индекс владельца анкеты;\n",
    "* `LastSeen` - дата последней активности пользователя.\n",
    "\n",
    "Целевой признак:\n",
    "\n",
    "`Price` - цена (евро)."
   ]
  },
  {
   "cell_type": "markdown",
   "id": "7ce590ab",
   "metadata": {
    "id": "7ce590ab"
   },
   "source": [
    "Видим, что у нас в данных есть пропуски. Посмотрим на их долю в датасете:"
   ]
  },
  {
   "cell_type": "code",
   "execution_count": 6,
   "id": "9bedd153",
   "metadata": {
    "colab": {
     "base_uri": "https://localhost:8080/"
    },
    "id": "9bedd153",
    "outputId": "ddbc08cb-457a-456e-d128-e7b23ecab4b5"
   },
   "outputs": [
    {
     "data": {
      "text/plain": [
       "DateCrawled          0.000000\n",
       "Price                0.000000\n",
       "VehicleType          0.105794\n",
       "RegistrationYear     0.000000\n",
       "Gearbox              0.055967\n",
       "Power                0.000000\n",
       "Model                0.055606\n",
       "Kilometer            0.000000\n",
       "RegistrationMonth    0.000000\n",
       "FuelType             0.092827\n",
       "Brand                0.000000\n",
       "NotRepaired          0.200791\n",
       "DateCreated          0.000000\n",
       "NumberOfPictures     0.000000\n",
       "PostalCode           0.000000\n",
       "LastSeen             0.000000\n",
       "dtype: float64"
      ]
     },
     "execution_count": 6,
     "metadata": {},
     "output_type": "execute_result"
    }
   ],
   "source": [
    "df.isna().mean()"
   ]
  },
  {
   "cell_type": "markdown",
   "id": "a51394b1",
   "metadata": {
    "id": "a51394b1"
   },
   "source": [
    "Видим, что у нас есть пропуски в следующих признаках:\n",
    "\n",
    "* `VehicleType` - доля пропусков составляет 10,5%;\n",
    "* `Gearbox` - доля пропусков составляет 5,5%;\n",
    "* `Model` - доля пропусков составляет 5,5%;\n",
    "* `FuelType` - доля пропусков составляет 9,2%\n",
    "* `NotRepeared` - доля пропусков составляет 20%"
   ]
  },
  {
   "cell_type": "markdown",
   "id": "ae3a3df1",
   "metadata": {
    "id": "ae3a3df1"
   },
   "source": [
    "Теперь посмотрим на явные дубликаты: "
   ]
  },
  {
   "cell_type": "code",
   "execution_count": 7,
   "id": "babc14dc",
   "metadata": {
    "colab": {
     "base_uri": "https://localhost:8080/"
    },
    "id": "babc14dc",
    "outputId": "d0b69525-bbd9-4807-eecb-95f0cae3bff8"
   },
   "outputs": [
    {
     "data": {
      "text/plain": [
       "4"
      ]
     },
     "execution_count": 7,
     "metadata": {},
     "output_type": "execute_result"
    }
   ],
   "source": [
    "df.duplicated().sum()"
   ]
  },
  {
   "cell_type": "code",
   "execution_count": 8,
   "id": "400417be",
   "metadata": {
    "colab": {
     "base_uri": "https://localhost:8080/",
     "height": 175
    },
    "id": "400417be",
    "outputId": "4fc5dce5-a0f7-47b7-87f3-3cd2cfb2dbd4",
    "scrolled": true
   },
   "outputs": [
    {
     "data": {
      "text/html": [
       "<div>\n",
       "<style scoped>\n",
       "    .dataframe tbody tr th:only-of-type {\n",
       "        vertical-align: middle;\n",
       "    }\n",
       "\n",
       "    .dataframe tbody tr th {\n",
       "        vertical-align: top;\n",
       "    }\n",
       "\n",
       "    .dataframe thead th {\n",
       "        text-align: right;\n",
       "    }\n",
       "</style>\n",
       "<table border=\"1\" class=\"dataframe\">\n",
       "  <thead>\n",
       "    <tr style=\"text-align: right;\">\n",
       "      <th></th>\n",
       "      <th>DateCrawled</th>\n",
       "      <th>Price</th>\n",
       "      <th>VehicleType</th>\n",
       "      <th>RegistrationYear</th>\n",
       "      <th>Gearbox</th>\n",
       "      <th>Power</th>\n",
       "      <th>Model</th>\n",
       "      <th>Kilometer</th>\n",
       "      <th>RegistrationMonth</th>\n",
       "      <th>FuelType</th>\n",
       "      <th>Brand</th>\n",
       "      <th>NotRepaired</th>\n",
       "      <th>DateCreated</th>\n",
       "      <th>NumberOfPictures</th>\n",
       "      <th>PostalCode</th>\n",
       "      <th>LastSeen</th>\n",
       "    </tr>\n",
       "  </thead>\n",
       "  <tbody>\n",
       "    <tr>\n",
       "      <th>171088</th>\n",
       "      <td>2016-03-08 18:42:48</td>\n",
       "      <td>1799</td>\n",
       "      <td>coupe</td>\n",
       "      <td>1999</td>\n",
       "      <td>auto</td>\n",
       "      <td>193</td>\n",
       "      <td>clk</td>\n",
       "      <td>20000</td>\n",
       "      <td>7</td>\n",
       "      <td>petrol</td>\n",
       "      <td>mercedes_benz</td>\n",
       "      <td>no</td>\n",
       "      <td>2016-03-08 00:00:00</td>\n",
       "      <td>0</td>\n",
       "      <td>89518</td>\n",
       "      <td>2016-03-09 09:46:57</td>\n",
       "    </tr>\n",
       "    <tr>\n",
       "      <th>231258</th>\n",
       "      <td>2016-03-28 00:56:10</td>\n",
       "      <td>1000</td>\n",
       "      <td>small</td>\n",
       "      <td>2002</td>\n",
       "      <td>manual</td>\n",
       "      <td>83</td>\n",
       "      <td>other</td>\n",
       "      <td>150000</td>\n",
       "      <td>1</td>\n",
       "      <td>petrol</td>\n",
       "      <td>suzuki</td>\n",
       "      <td>no</td>\n",
       "      <td>2016-03-28 00:00:00</td>\n",
       "      <td>0</td>\n",
       "      <td>66589</td>\n",
       "      <td>2016-03-28 08:46:21</td>\n",
       "    </tr>\n",
       "    <tr>\n",
       "      <th>258109</th>\n",
       "      <td>2016-04-03 09:01:15</td>\n",
       "      <td>4699</td>\n",
       "      <td>coupe</td>\n",
       "      <td>2003</td>\n",
       "      <td>auto</td>\n",
       "      <td>218</td>\n",
       "      <td>clk</td>\n",
       "      <td>125000</td>\n",
       "      <td>6</td>\n",
       "      <td>petrol</td>\n",
       "      <td>mercedes_benz</td>\n",
       "      <td>yes</td>\n",
       "      <td>2016-04-03 00:00:00</td>\n",
       "      <td>0</td>\n",
       "      <td>75196</td>\n",
       "      <td>2016-04-07 09:44:54</td>\n",
       "    </tr>\n",
       "    <tr>\n",
       "      <th>325651</th>\n",
       "      <td>2016-03-18 18:46:15</td>\n",
       "      <td>1999</td>\n",
       "      <td>wagon</td>\n",
       "      <td>2001</td>\n",
       "      <td>manual</td>\n",
       "      <td>131</td>\n",
       "      <td>passat</td>\n",
       "      <td>150000</td>\n",
       "      <td>7</td>\n",
       "      <td>gasoline</td>\n",
       "      <td>volkswagen</td>\n",
       "      <td>no</td>\n",
       "      <td>2016-03-18 00:00:00</td>\n",
       "      <td>0</td>\n",
       "      <td>36391</td>\n",
       "      <td>2016-03-18 18:46:15</td>\n",
       "    </tr>\n",
       "  </tbody>\n",
       "</table>\n",
       "</div>"
      ],
      "text/plain": [
       "                DateCrawled  Price VehicleType  RegistrationYear Gearbox  \\\n",
       "171088  2016-03-08 18:42:48   1799       coupe              1999    auto   \n",
       "231258  2016-03-28 00:56:10   1000       small              2002  manual   \n",
       "258109  2016-04-03 09:01:15   4699       coupe              2003    auto   \n",
       "325651  2016-03-18 18:46:15   1999       wagon              2001  manual   \n",
       "\n",
       "        Power   Model  Kilometer  RegistrationMonth  FuelType          Brand  \\\n",
       "171088    193     clk      20000                  7    petrol  mercedes_benz   \n",
       "231258     83   other     150000                  1    petrol         suzuki   \n",
       "258109    218     clk     125000                  6    petrol  mercedes_benz   \n",
       "325651    131  passat     150000                  7  gasoline     volkswagen   \n",
       "\n",
       "       NotRepaired          DateCreated  NumberOfPictures  PostalCode  \\\n",
       "171088          no  2016-03-08 00:00:00                 0       89518   \n",
       "231258          no  2016-03-28 00:00:00                 0       66589   \n",
       "258109         yes  2016-04-03 00:00:00                 0       75196   \n",
       "325651          no  2016-03-18 00:00:00                 0       36391   \n",
       "\n",
       "                   LastSeen  \n",
       "171088  2016-03-09 09:46:57  \n",
       "231258  2016-03-28 08:46:21  \n",
       "258109  2016-04-07 09:44:54  \n",
       "325651  2016-03-18 18:46:15  "
      ]
     },
     "execution_count": 8,
     "metadata": {},
     "output_type": "execute_result"
    }
   ],
   "source": [
    "df[df.duplicated()]"
   ]
  },
  {
   "cell_type": "markdown",
   "id": "9b0a5dbd",
   "metadata": {
    "id": "9b0a5dbd"
   },
   "source": [
    "**Вывод**:\n",
    "\n",
    "Познакомились с историческими данными: техническими характеристиками и комплектациями автомобилей. Однако обнаружили проблемы, которые имеются в данных:\n",
    "\n",
    "* Имеются пропуски в данных: в среднем доля пропусков составляет 10%. Необходимо выбрать наиболее подходящий способ обработки пропусков и избавиться от них;\n",
    "* В данных имеются явные дубликаты. Необходимо от них избавиться несмотря на их малое количество - всего 4 наблюдения из ~350 тысяч;\n",
    "* В данных имеются признаки, чей тип данных некорректнем. Необходимо разобраться о важности этих признаков для моделей обучения и если важны - привести к соответствующему типу.\n",
    "\n",
    "В итоге, можно сказать, что на данном этапе данные не готовы для обучения моделей. Необходимо прозвести предобработку данных."
   ]
  },
  {
   "cell_type": "markdown",
   "id": "588b8428",
   "metadata": {
    "id": "588b8428"
   },
   "source": [
    "## Предобработка данных <a id='2'></a> "
   ]
  },
  {
   "cell_type": "markdown",
   "id": "46cc7514",
   "metadata": {
    "id": "46cc7514"
   },
   "source": [
    "###  Обработка дубликатов"
   ]
  },
  {
   "cell_type": "markdown",
   "id": "912b8284",
   "metadata": {
    "id": "912b8284"
   },
   "source": [
    "Для начала избавимся от явных дубликатов:"
   ]
  },
  {
   "cell_type": "code",
   "execution_count": 9,
   "id": "cb66de3e",
   "metadata": {
    "id": "cb66de3e"
   },
   "outputs": [],
   "source": [
    "df = df.drop_duplicates().reset_index(drop = True)"
   ]
  },
  {
   "cell_type": "markdown",
   "id": "a04b6705",
   "metadata": {
    "id": "a04b6705"
   },
   "source": [
    "Убедимся в том, что дубликаты были удалены:"
   ]
  },
  {
   "cell_type": "code",
   "execution_count": 10,
   "id": "7a032d8e",
   "metadata": {
    "colab": {
     "base_uri": "https://localhost:8080/"
    },
    "id": "7a032d8e",
    "outputId": "d55d4476-7cca-4f9e-acb1-20a61d8a8aaf",
    "scrolled": false
   },
   "outputs": [
    {
     "name": "stdout",
     "output_type": "stream",
     "text": [
      "<class 'pandas.core.frame.DataFrame'>\n",
      "RangeIndex: 354365 entries, 0 to 354364\n",
      "Data columns (total 16 columns):\n",
      " #   Column             Non-Null Count   Dtype \n",
      "---  ------             --------------   ----- \n",
      " 0   DateCrawled        354365 non-null  object\n",
      " 1   Price              354365 non-null  int64 \n",
      " 2   VehicleType        316875 non-null  object\n",
      " 3   RegistrationYear   354365 non-null  int64 \n",
      " 4   Gearbox            334532 non-null  object\n",
      " 5   Power              354365 non-null  int64 \n",
      " 6   Model              334660 non-null  object\n",
      " 7   Kilometer          354365 non-null  int64 \n",
      " 8   RegistrationMonth  354365 non-null  int64 \n",
      " 9   FuelType           321470 non-null  object\n",
      " 10  Brand              354365 non-null  object\n",
      " 11  NotRepaired        283211 non-null  object\n",
      " 12  DateCreated        354365 non-null  object\n",
      " 13  NumberOfPictures   354365 non-null  int64 \n",
      " 14  PostalCode         354365 non-null  int64 \n",
      " 15  LastSeen           354365 non-null  object\n",
      "dtypes: int64(7), object(9)\n",
      "memory usage: 43.3+ MB\n"
     ]
    }
   ],
   "source": [
    "df.info()"
   ]
  },
  {
   "cell_type": "markdown",
   "id": "7153630f",
   "metadata": {
    "id": "7153630f"
   },
   "source": [
    "Явные дубликаты удалены. Можно идти дальше."
   ]
  },
  {
   "cell_type": "markdown",
   "id": "0b10e588",
   "metadata": {
    "id": "0b10e588"
   },
   "source": [
    "### Обработка пропусков"
   ]
  },
  {
   "cell_type": "markdown",
   "id": "a6df66cc",
   "metadata": {
    "id": "a6df66cc"
   },
   "source": [
    "Прежде всего, воспомним, в каких признаках у нас имеются пропуски и в каком процентном соотношении эти пропуски находятся в признаках:"
   ]
  },
  {
   "cell_type": "markdown",
   "id": "8482a164",
   "metadata": {
    "id": "8482a164"
   },
   "source": [
    "* `VehicleType` - доля пропусков составляет 10,5%;\n",
    "* `Gearbox` - доля пропусков составляет 5,5%;\n",
    "* `Model` - доля пропусков составляет 5,5%;\n",
    "* `FuelType` - доля пропусков составляет 9,2%\n",
    "* `NotRepeared` - доля пропусков составляет 20%"
   ]
  },
  {
   "cell_type": "markdown",
   "id": "6299a6d9",
   "metadata": {
    "id": "6299a6d9"
   },
   "source": [
    "Стоит сказать, что признаки, в которых имются пропуски в данном датасете относятся к категориальным переменным."
   ]
  },
  {
   "cell_type": "markdown",
   "id": "5aa82c94",
   "metadata": {
    "id": "5aa82c94"
   },
   "source": [
    "Видим, что для некоторых признаков имеется значение `other`, то есть остальные."
   ]
  },
  {
   "cell_type": "markdown",
   "id": "3d271179",
   "metadata": {
    "id": "3d271179"
   },
   "source": [
    "Посмотрим, есть ли наблюдения, в которых пропуски есть во всех признаках:"
   ]
  },
  {
   "cell_type": "code",
   "execution_count": 11,
   "id": "dbfbf56e",
   "metadata": {
    "colab": {
     "base_uri": "https://localhost:8080/",
     "height": 206
    },
    "id": "dbfbf56e",
    "outputId": "2f614c3b-07e6-41ba-e879-6edabb5e24b8",
    "scrolled": false
   },
   "outputs": [
    {
     "data": {
      "text/html": [
       "<div>\n",
       "<style scoped>\n",
       "    .dataframe tbody tr th:only-of-type {\n",
       "        vertical-align: middle;\n",
       "    }\n",
       "\n",
       "    .dataframe tbody tr th {\n",
       "        vertical-align: top;\n",
       "    }\n",
       "\n",
       "    .dataframe thead th {\n",
       "        text-align: right;\n",
       "    }\n",
       "</style>\n",
       "<table border=\"1\" class=\"dataframe\">\n",
       "  <thead>\n",
       "    <tr style=\"text-align: right;\">\n",
       "      <th></th>\n",
       "      <th>DateCrawled</th>\n",
       "      <th>Price</th>\n",
       "      <th>VehicleType</th>\n",
       "      <th>RegistrationYear</th>\n",
       "      <th>Gearbox</th>\n",
       "      <th>Power</th>\n",
       "      <th>Model</th>\n",
       "      <th>Kilometer</th>\n",
       "      <th>RegistrationMonth</th>\n",
       "      <th>FuelType</th>\n",
       "      <th>Brand</th>\n",
       "      <th>NotRepaired</th>\n",
       "      <th>DateCreated</th>\n",
       "      <th>NumberOfPictures</th>\n",
       "      <th>PostalCode</th>\n",
       "      <th>LastSeen</th>\n",
       "    </tr>\n",
       "  </thead>\n",
       "  <tbody>\n",
       "    <tr>\n",
       "      <th>100067</th>\n",
       "      <td>2016-03-25 13:58:10</td>\n",
       "      <td>0</td>\n",
       "      <td>NaN</td>\n",
       "      <td>2000</td>\n",
       "      <td>NaN</td>\n",
       "      <td>75</td>\n",
       "      <td>NaN</td>\n",
       "      <td>10000</td>\n",
       "      <td>0</td>\n",
       "      <td>NaN</td>\n",
       "      <td>audi</td>\n",
       "      <td>NaN</td>\n",
       "      <td>2016-03-25 00:00:00</td>\n",
       "      <td>0</td>\n",
       "      <td>12557</td>\n",
       "      <td>2016-03-25 14:41:44</td>\n",
       "    </tr>\n",
       "    <tr>\n",
       "      <th>244816</th>\n",
       "      <td>2016-03-07 15:38:35</td>\n",
       "      <td>2500</td>\n",
       "      <td>NaN</td>\n",
       "      <td>2007</td>\n",
       "      <td>NaN</td>\n",
       "      <td>0</td>\n",
       "      <td>NaN</td>\n",
       "      <td>150000</td>\n",
       "      <td>2</td>\n",
       "      <td>NaN</td>\n",
       "      <td>renault</td>\n",
       "      <td>NaN</td>\n",
       "      <td>2016-03-07 00:00:00</td>\n",
       "      <td>0</td>\n",
       "      <td>58453</td>\n",
       "      <td>2016-03-12 18:16:53</td>\n",
       "    </tr>\n",
       "    <tr>\n",
       "      <th>181477</th>\n",
       "      <td>2016-03-27 18:57:17</td>\n",
       "      <td>1500</td>\n",
       "      <td>NaN</td>\n",
       "      <td>2005</td>\n",
       "      <td>NaN</td>\n",
       "      <td>0</td>\n",
       "      <td>NaN</td>\n",
       "      <td>150000</td>\n",
       "      <td>0</td>\n",
       "      <td>NaN</td>\n",
       "      <td>mazda</td>\n",
       "      <td>NaN</td>\n",
       "      <td>2016-03-27 00:00:00</td>\n",
       "      <td>0</td>\n",
       "      <td>33334</td>\n",
       "      <td>2016-03-27 19:39:49</td>\n",
       "    </tr>\n",
       "    <tr>\n",
       "      <th>21212</th>\n",
       "      <td>2016-04-01 16:31:37</td>\n",
       "      <td>20</td>\n",
       "      <td>NaN</td>\n",
       "      <td>1990</td>\n",
       "      <td>NaN</td>\n",
       "      <td>0</td>\n",
       "      <td>NaN</td>\n",
       "      <td>150000</td>\n",
       "      <td>0</td>\n",
       "      <td>NaN</td>\n",
       "      <td>bmw</td>\n",
       "      <td>NaN</td>\n",
       "      <td>2016-04-01 00:00:00</td>\n",
       "      <td>0</td>\n",
       "      <td>65366</td>\n",
       "      <td>2016-04-07 10:16:03</td>\n",
       "    </tr>\n",
       "    <tr>\n",
       "      <th>150634</th>\n",
       "      <td>2016-03-23 22:53:12</td>\n",
       "      <td>0</td>\n",
       "      <td>NaN</td>\n",
       "      <td>2014</td>\n",
       "      <td>NaN</td>\n",
       "      <td>0</td>\n",
       "      <td>NaN</td>\n",
       "      <td>5000</td>\n",
       "      <td>0</td>\n",
       "      <td>NaN</td>\n",
       "      <td>sonstige_autos</td>\n",
       "      <td>NaN</td>\n",
       "      <td>2016-03-23 00:00:00</td>\n",
       "      <td>0</td>\n",
       "      <td>32361</td>\n",
       "      <td>2016-04-06 15:17:32</td>\n",
       "    </tr>\n",
       "  </tbody>\n",
       "</table>\n",
       "</div>"
      ],
      "text/plain": [
       "                DateCrawled  Price VehicleType  RegistrationYear Gearbox  \\\n",
       "100067  2016-03-25 13:58:10      0         NaN              2000     NaN   \n",
       "244816  2016-03-07 15:38:35   2500         NaN              2007     NaN   \n",
       "181477  2016-03-27 18:57:17   1500         NaN              2005     NaN   \n",
       "21212   2016-04-01 16:31:37     20         NaN              1990     NaN   \n",
       "150634  2016-03-23 22:53:12      0         NaN              2014     NaN   \n",
       "\n",
       "        Power Model  Kilometer  RegistrationMonth FuelType           Brand  \\\n",
       "100067     75   NaN      10000                  0      NaN            audi   \n",
       "244816      0   NaN     150000                  2      NaN         renault   \n",
       "181477      0   NaN     150000                  0      NaN           mazda   \n",
       "21212       0   NaN     150000                  0      NaN             bmw   \n",
       "150634      0   NaN       5000                  0      NaN  sonstige_autos   \n",
       "\n",
       "       NotRepaired          DateCreated  NumberOfPictures  PostalCode  \\\n",
       "100067         NaN  2016-03-25 00:00:00                 0       12557   \n",
       "244816         NaN  2016-03-07 00:00:00                 0       58453   \n",
       "181477         NaN  2016-03-27 00:00:00                 0       33334   \n",
       "21212          NaN  2016-04-01 00:00:00                 0       65366   \n",
       "150634         NaN  2016-03-23 00:00:00                 0       32361   \n",
       "\n",
       "                   LastSeen  \n",
       "100067  2016-03-25 14:41:44  \n",
       "244816  2016-03-12 18:16:53  \n",
       "181477  2016-03-27 19:39:49  \n",
       "21212   2016-04-07 10:16:03  \n",
       "150634  2016-04-06 15:17:32  "
      ]
     },
     "execution_count": 11,
     "metadata": {},
     "output_type": "execute_result"
    }
   ],
   "source": [
    "df_nan = df[(df.VehicleType.isna() == True) &\n",
    "  (df.Gearbox.isna() == True) & \n",
    "  (df.Model.isna() == True) &\n",
    "  (df.FuelType.isna() == True) &\n",
    "  (df.NotRepaired.isna() == True)]\n",
    "df_nan.sample(5)"
   ]
  },
  {
   "cell_type": "markdown",
   "id": "46199879",
   "metadata": {
    "id": "46199879"
   },
   "source": [
    "Видим, что наборы данных, в которых имеются пропуски во всех признаках представлены в виде объявлений-пустышек: никакой информации о характеристиках автомобиля: только пробег, марка, и сетевая активность пользователя. \n",
    "\n",
    "Будем считать эти пропуски связаны с человеческим фактором пользователей, которые не указали дополнительную информацию по своему автомобилю."
   ]
  },
  {
   "cell_type": "code",
   "execution_count": 12,
   "id": "4b422f69",
   "metadata": {
    "colab": {
     "base_uri": "https://localhost:8080/"
    },
    "id": "4b422f69",
    "outputId": "ea66a210-3ecd-48ad-daaf-87a73810eeef"
   },
   "outputs": [
    {
     "data": {
      "text/plain": [
       "2237"
      ]
     },
     "execution_count": 12,
     "metadata": {},
     "output_type": "execute_result"
    }
   ],
   "source": [
    "nans = df[(df.VehicleType.isna() == True) &\n",
    "  (df.Gearbox.isna() == True) & \n",
    "  (df.Model.isna() == True) &\n",
    "  (df.FuelType.isna() == True) &\n",
    "  (df.NotRepaired.isna() == True)]['Price'].count()\n",
    "nans"
   ]
  },
  {
   "cell_type": "markdown",
   "id": "a638519e",
   "metadata": {
    "id": "a638519e"
   },
   "source": [
    "Видим, что у нас есть 2237 наблюдений, в которых есть пропуски во всех признаках одновременно. \n",
    "\n",
    "Посчитаем долю этих пропусков ко всему объему датасета:"
   ]
  },
  {
   "cell_type": "code",
   "execution_count": 13,
   "id": "b47b3ddf",
   "metadata": {
    "colab": {
     "base_uri": "https://localhost:8080/",
     "height": 36
    },
    "id": "b47b3ddf",
    "outputId": "054070cd-ddf3-4cda-86fe-a805f7cfbd80"
   },
   "outputs": [
    {
     "data": {
      "text/plain": [
       "'Доля пропусков: 0.631%'"
      ]
     },
     "execution_count": 13,
     "metadata": {},
     "output_type": "execute_result"
    }
   ],
   "source": [
    "f'Доля пропусков: {(nans / len(df)):.3%}'"
   ]
  },
  {
   "cell_type": "markdown",
   "id": "8766c105",
   "metadata": {
    "id": "8766c105"
   },
   "source": [
    "Видим, что доля пропусков составляет менее 1% от общего набора данных. Таким количеством наблюдений можно пожертвовать для обученияя моделей. Учитывая, что данные наблюдения мы посичтали как ошибку/незнание пользователя при заполнении объявления. Избавимся от этих пропусков."
   ]
  },
  {
   "cell_type": "code",
   "execution_count": 14,
   "id": "c1e45f6f",
   "metadata": {
    "id": "c1e45f6f"
   },
   "outputs": [],
   "source": [
    "df = df.drop(df_nan.index).reset_index(drop = True)"
   ]
  },
  {
   "cell_type": "code",
   "execution_count": 15,
   "id": "41cb57d3",
   "metadata": {
    "colab": {
     "base_uri": "https://localhost:8080/"
    },
    "id": "41cb57d3",
    "outputId": "63ab5c14-889a-4e44-be23-e8b1846c60cd"
   },
   "outputs": [
    {
     "name": "stdout",
     "output_type": "stream",
     "text": [
      "<class 'pandas.core.frame.DataFrame'>\n",
      "RangeIndex: 352128 entries, 0 to 352127\n",
      "Data columns (total 16 columns):\n",
      " #   Column             Non-Null Count   Dtype \n",
      "---  ------             --------------   ----- \n",
      " 0   DateCrawled        352128 non-null  object\n",
      " 1   Price              352128 non-null  int64 \n",
      " 2   VehicleType        316875 non-null  object\n",
      " 3   RegistrationYear   352128 non-null  int64 \n",
      " 4   Gearbox            334532 non-null  object\n",
      " 5   Power              352128 non-null  int64 \n",
      " 6   Model              334660 non-null  object\n",
      " 7   Kilometer          352128 non-null  int64 \n",
      " 8   RegistrationMonth  352128 non-null  int64 \n",
      " 9   FuelType           321470 non-null  object\n",
      " 10  Brand              352128 non-null  object\n",
      " 11  NotRepaired        283211 non-null  object\n",
      " 12  DateCreated        352128 non-null  object\n",
      " 13  NumberOfPictures   352128 non-null  int64 \n",
      " 14  PostalCode         352128 non-null  int64 \n",
      " 15  LastSeen           352128 non-null  object\n",
      "dtypes: int64(7), object(9)\n",
      "memory usage: 43.0+ MB\n"
     ]
    }
   ],
   "source": [
    "df.info()"
   ]
  },
  {
   "cell_type": "markdown",
   "id": "a0c48853",
   "metadata": {
    "id": "a0c48853"
   },
   "source": [
    "Пропуски, которые присутствовали во всех признаках одновременно, удалены. Продолжим обработку пропусков."
   ]
  },
  {
   "cell_type": "markdown",
   "id": "13ba15ef",
   "metadata": {
    "id": "13ba15ef"
   },
   "source": [
    "Посмотрим на количество упоминаний и уникальные значения в этих признаках, чтобы понять, как можно заполнить пропуски."
   ]
  },
  {
   "cell_type": "code",
   "execution_count": 16,
   "id": "bfe0f2ae",
   "metadata": {
    "colab": {
     "base_uri": "https://localhost:8080/"
    },
    "id": "bfe0f2ae",
    "outputId": "41337ad0-83c1-4c7e-e2db-90ae041b34a4"
   },
   "outputs": [
    {
     "name": "stdout",
     "output_type": "stream",
     "text": [
      "Unique values and quantity for VehicleType:\n",
      "sedan          91457\n",
      "small          79830\n",
      "wagon          65165\n",
      "bus            28775\n",
      "convertible    20203\n",
      "coupe          16161\n",
      "suv            11996\n",
      "other           3288\n",
      "Name: VehicleType, dtype: int64 \n",
      "\n",
      "Unique values and quantity for Gearbox:\n",
      "manual    268249\n",
      "auto       66283\n",
      "Name: Gearbox, dtype: int64 \n",
      "\n",
      "Unique values and quantity for Model:\n",
      "golf                  29232\n",
      "other                 24420\n",
      "3er                   19761\n",
      "polo                  13066\n",
      "corsa                 12570\n",
      "                      ...  \n",
      "i3                        8\n",
      "serie_3                   4\n",
      "rangerover                4\n",
      "serie_1                   2\n",
      "range_rover_evoque        2\n",
      "Name: Model, Length: 250, dtype: int64 \n",
      "\n",
      "Unique values and quantity for FuelType:\n",
      "petrol      216349\n",
      "gasoline     98719\n",
      "lpg           5310\n",
      "cng            565\n",
      "hybrid         233\n",
      "other          204\n",
      "electric        90\n",
      "Name: FuelType, dtype: int64 \n",
      "\n",
      "Unique values and quantity for NotRepaired:\n",
      "no     247158\n",
      "yes     36053\n",
      "Name: NotRepaired, dtype: int64 \n",
      "\n"
     ]
    }
   ],
   "source": [
    "feature_nan = ['VehicleType', 'Gearbox', 'Model', 'FuelType', 'NotRepaired']\n",
    "for elem in feature_nan:\n",
    "    print(f'Unique values and quantity for {elem}:')\n",
    "    print(df[elem].value_counts(), '\\n')"
   ]
  },
  {
   "cell_type": "markdown",
   "id": "3f67e95e",
   "metadata": {
    "id": "3f67e95e"
   },
   "source": [
    "Посмотрим на итоговое соотношение пропусков:"
   ]
  },
  {
   "cell_type": "code",
   "execution_count": 17,
   "id": "f118fcec",
   "metadata": {
    "colab": {
     "base_uri": "https://localhost:8080/"
    },
    "id": "f118fcec",
    "outputId": "5bbf426a-850c-4005-f883-d7e464c980d5"
   },
   "outputs": [
    {
     "data": {
      "text/plain": [
       "DateCrawled              0\n",
       "Price                    0\n",
       "VehicleType          35253\n",
       "RegistrationYear         0\n",
       "Gearbox              17596\n",
       "Power                    0\n",
       "Model                17468\n",
       "Kilometer                0\n",
       "RegistrationMonth        0\n",
       "FuelType             30658\n",
       "Brand                    0\n",
       "NotRepaired          68917\n",
       "DateCreated              0\n",
       "NumberOfPictures         0\n",
       "PostalCode               0\n",
       "LastSeen                 0\n",
       "dtype: int64"
      ]
     },
     "execution_count": 17,
     "metadata": {},
     "output_type": "execute_result"
    }
   ],
   "source": [
    "df.isna().sum()"
   ]
  },
  {
   "cell_type": "markdown",
   "id": "84ffedb5",
   "metadata": {
    "id": "84ffedb5"
   },
   "source": [
    "**NotRepaired**"
   ]
  },
  {
   "cell_type": "markdown",
   "id": "6e3207f4",
   "metadata": {
    "id": "6e3207f4"
   },
   "source": [
    "Для начала рассмотрим признак `NotRepaired`. Он имеет всего два возможных значения: Да/Нет. Пропусков cлишком много, чтобы просто избавиться от них. Предположим, что эти пропуски связаны с тем, что пользователи не указали состояние автомобиля по статусу ремонта, так как их автомобиль не был ремонте - просто решили не указывать этот пункт при создании объявления.\n",
    "\n",
    "Поэтому заполним пропуски в этом признаке как \"машина не была в ремонте\". А затем преобразуем этот признак из строкового типа в булевый неявного типа:\n",
    "\n",
    "* 0 - машина была в ремонте ('no');\n",
    "* 1 - машина не была в ремонте ('yes')."
   ]
  },
  {
   "cell_type": "code",
   "execution_count": 18,
   "id": "c4b24294",
   "metadata": {
    "id": "c4b24294"
   },
   "outputs": [],
   "source": [
    "df.loc[df.NotRepaired.isna() == True, 'NotRepaired'] = 'yes'"
   ]
  },
  {
   "cell_type": "markdown",
   "id": "611b7459",
   "metadata": {
    "id": "611b7459"
   },
   "source": [
    "Проверим корректность заполнения пропусков в этом столбце:"
   ]
  },
  {
   "cell_type": "code",
   "execution_count": 19,
   "id": "910422d3",
   "metadata": {
    "colab": {
     "base_uri": "https://localhost:8080/"
    },
    "id": "910422d3",
    "outputId": "e267b5db-d0e8-4287-a047-66f4f9054d82"
   },
   "outputs": [
    {
     "data": {
      "text/plain": [
       "no     247158\n",
       "yes    104970\n",
       "Name: NotRepaired, dtype: int64"
      ]
     },
     "execution_count": 19,
     "metadata": {},
     "output_type": "execute_result"
    }
   ],
   "source": [
    "df.NotRepaired.value_counts()"
   ]
  },
  {
   "cell_type": "markdown",
   "id": "e6a6e3fc",
   "metadata": {
    "id": "e6a6e3fc"
   },
   "source": [
    "Пропуски заполнены, теперь преобразуем этот тип данных в более корректный тип:"
   ]
  },
  {
   "cell_type": "code",
   "execution_count": 20,
   "id": "97333b55",
   "metadata": {
    "id": "97333b55"
   },
   "outputs": [],
   "source": [
    "dict_nan = {'yes':1,\n",
    "           'no': 0}"
   ]
  },
  {
   "cell_type": "code",
   "execution_count": 21,
   "id": "2b12ca0a",
   "metadata": {
    "id": "2b12ca0a"
   },
   "outputs": [],
   "source": [
    "df.NotRepaired = df.NotRepaired.map(dict_nan)"
   ]
  },
  {
   "cell_type": "code",
   "execution_count": 22,
   "id": "7b5f6d36",
   "metadata": {
    "colab": {
     "base_uri": "https://localhost:8080/"
    },
    "id": "7b5f6d36",
    "outputId": "d1ddbd03-031c-47e2-a079-8be480c1b41b"
   },
   "outputs": [
    {
     "data": {
      "text/plain": [
       "0    247158\n",
       "1    104970\n",
       "Name: NotRepaired, dtype: int64"
      ]
     },
     "execution_count": 22,
     "metadata": {},
     "output_type": "execute_result"
    }
   ],
   "source": [
    "df.NotRepaired.value_counts()"
   ]
  },
  {
   "cell_type": "markdown",
   "id": "5cdc524a",
   "metadata": {
    "id": "5cdc524a"
   },
   "source": [
    "Пропуски в этом признаке заполнены и приведены к соответствующему типу."
   ]
  },
  {
   "cell_type": "markdown",
   "id": "41369e27",
   "metadata": {
    "id": "41369e27"
   },
   "source": [
    "**Model**"
   ]
  },
  {
   "cell_type": "markdown",
   "id": "2ce5c967",
   "metadata": {
    "id": "2ce5c967"
   },
   "source": [
    "Пропуски в данном признаке заполнить трудно, так как нельзя по имеющимся данным восстановить истинное значение в этом столбце. Удалить пропуски можно, но таким образом можем потерять значимое количество данных для прогноза. Однако в этом признаке есть поле `other`- в контексте продаж автомобиля это могут быть малоизвестные компании по производству автомобилей и их модели, названия которых, нет в базе данных сервиса по продаже автомобилей.\n",
    "\n",
    "Возможная причина пропуска: пользователь не нашел из предложенных сервисом вариантов и оставил как есть.\n",
    "\n",
    "Поэтому с целью сохранения данных заполним пропуски по этому признаку значением `other`."
   ]
  },
  {
   "cell_type": "code",
   "execution_count": 23,
   "id": "a7b9b8ae",
   "metadata": {
    "id": "a7b9b8ae"
   },
   "outputs": [],
   "source": [
    "df.loc[df.Model.isna() == True, 'Model'] = 'other'"
   ]
  },
  {
   "cell_type": "markdown",
   "id": "fa74f2de",
   "metadata": {
    "id": "fa74f2de"
   },
   "source": [
    "Убедимся в том, что пропуски заполнены:"
   ]
  },
  {
   "cell_type": "code",
   "execution_count": 24,
   "id": "7ccf6cf8",
   "metadata": {
    "colab": {
     "base_uri": "https://localhost:8080/"
    },
    "id": "7ccf6cf8",
    "outputId": "45599c41-7bb1-4bde-ea51-bde5cf0b20a6"
   },
   "outputs": [
    {
     "data": {
      "text/plain": [
       "0"
      ]
     },
     "execution_count": 24,
     "metadata": {},
     "output_type": "execute_result"
    }
   ],
   "source": [
    "df.Model.isna().sum()"
   ]
  },
  {
   "cell_type": "markdown",
   "id": "986901e3",
   "metadata": {
    "id": "986901e3"
   },
   "source": [
    "Пропуски по признаку `Model` устранены, продолжим дальше."
   ]
  },
  {
   "cell_type": "markdown",
   "id": "f8d10543",
   "metadata": {
    "id": "f8d10543"
   },
   "source": [
    "**FuelType**"
   ]
  },
  {
   "cell_type": "markdown",
   "id": "a1aa486c",
   "metadata": {
    "id": "a1aa486c"
   },
   "source": [
    "Здесь мы видим аналогичную ситуацию с признаком `Model`: скорее всего, пользователи не знают, какой тип топлива используется для автомобиля. Поэтому все пропуски в этом признаке обозначим как `other` - что-то, чего нет в базе данных сервиса и чего не знает пользователь."
   ]
  },
  {
   "cell_type": "code",
   "execution_count": 25,
   "id": "b9635d43",
   "metadata": {
    "id": "b9635d43"
   },
   "outputs": [],
   "source": [
    "df.loc[df.FuelType.isna() == True, 'FuelType'] = 'other'"
   ]
  },
  {
   "cell_type": "markdown",
   "id": "e748f1a9",
   "metadata": {
    "id": "e748f1a9"
   },
   "source": [
    "Убедимся, что пропуски заполнены:"
   ]
  },
  {
   "cell_type": "code",
   "execution_count": 26,
   "id": "e72c6b03",
   "metadata": {
    "colab": {
     "base_uri": "https://localhost:8080/"
    },
    "id": "e72c6b03",
    "outputId": "9b7ecaea-afcb-4658-f64f-18056b6a7c00"
   },
   "outputs": [
    {
     "data": {
      "text/plain": [
       "0"
      ]
     },
     "execution_count": 26,
     "metadata": {},
     "output_type": "execute_result"
    }
   ],
   "source": [
    "df.FuelType.isna().sum()"
   ]
  },
  {
   "cell_type": "markdown",
   "id": "841b7d9c",
   "metadata": {
    "id": "841b7d9c"
   },
   "source": [
    "Пропуски заполнены. Рассмотрим оставшиеся признаки."
   ]
  },
  {
   "cell_type": "markdown",
   "id": "b5109a4e",
   "metadata": {
    "id": "b5109a4e"
   },
   "source": [
    "**VehicleType**"
   ]
  },
  {
   "cell_type": "markdown",
   "id": "c93b3cc9",
   "metadata": {
    "id": "c93b3cc9"
   },
   "source": [
    "Аналогичный метод применим для признака `VehicleType` - заменим пропуски на `other`:"
   ]
  },
  {
   "cell_type": "code",
   "execution_count": 27,
   "id": "3cef46c2",
   "metadata": {
    "id": "3cef46c2"
   },
   "outputs": [],
   "source": [
    "df.loc[df.VehicleType.isna() == True, 'VehicleType'] = 'other'"
   ]
  },
  {
   "cell_type": "markdown",
   "id": "b818527a",
   "metadata": {
    "id": "b818527a"
   },
   "source": [
    "Убедимся, что пропуски заполнены:"
   ]
  },
  {
   "cell_type": "code",
   "execution_count": 28,
   "id": "6e1e3073",
   "metadata": {
    "colab": {
     "base_uri": "https://localhost:8080/"
    },
    "id": "6e1e3073",
    "outputId": "0e4ad8e3-e716-4ac2-c233-4625a2cdb5c8"
   },
   "outputs": [
    {
     "data": {
      "text/plain": [
       "0"
      ]
     },
     "execution_count": 28,
     "metadata": {},
     "output_type": "execute_result"
    }
   ],
   "source": [
    "df.VehicleType.isna().sum()"
   ]
  },
  {
   "cell_type": "markdown",
   "id": "efedd548",
   "metadata": {
    "id": "efedd548"
   },
   "source": [
    "Рассмотрим оставшийся признак."
   ]
  },
  {
   "cell_type": "markdown",
   "id": "f48f27d4",
   "metadata": {
    "id": "f48f27d4"
   },
   "source": [
    "**Gearbox**"
   ]
  },
  {
   "cell_type": "markdown",
   "id": "9c0f30c1",
   "metadata": {
    "id": "9c0f30c1"
   },
   "source": [
    "По данному признаку у нас имеется всего два возможных значения: автоматическая и механическая коробки передач. С одной стороны, количество пропусков по этому признаку составляет 5% от общего набора данных. С другой - такое количество пропусков в данном признаке - достаточно большое значение для того, чтобы их удалить. Можно реализовать категорию `unknown` - так мы укажем пользователей, которые забыли указать тип коробки передач. Так мы не потеряем данные."
   ]
  },
  {
   "cell_type": "code",
   "execution_count": 29,
   "id": "843888e9",
   "metadata": {
    "id": "843888e9"
   },
   "outputs": [],
   "source": [
    "df.loc[df.Gearbox.isna() == True, 'Gearbox'] = 'unknown'"
   ]
  },
  {
   "cell_type": "markdown",
   "id": "5d624958",
   "metadata": {
    "id": "5d624958"
   },
   "source": [
    "Проверим, остались ли пропуски в данном признаке:"
   ]
  },
  {
   "cell_type": "code",
   "execution_count": 30,
   "id": "9fc14300",
   "metadata": {
    "colab": {
     "base_uri": "https://localhost:8080/"
    },
    "id": "9fc14300",
    "outputId": "edb82eef-7e05-4ef4-945b-c41f6c4b3224"
   },
   "outputs": [
    {
     "data": {
      "text/plain": [
       "0"
      ]
     },
     "execution_count": 30,
     "metadata": {},
     "output_type": "execute_result"
    }
   ],
   "source": [
    "df.Gearbox.isna().sum()"
   ]
  },
  {
   "cell_type": "code",
   "execution_count": 31,
   "id": "36c07ec3",
   "metadata": {
    "colab": {
     "base_uri": "https://localhost:8080/"
    },
    "id": "36c07ec3",
    "outputId": "b5ffe7a9-73fe-4bb9-dc9e-12e036eaac97"
   },
   "outputs": [
    {
     "data": {
      "text/plain": [
       "DateCrawled          0.0\n",
       "Price                0.0\n",
       "VehicleType          0.0\n",
       "RegistrationYear     0.0\n",
       "Gearbox              0.0\n",
       "Power                0.0\n",
       "Model                0.0\n",
       "Kilometer            0.0\n",
       "RegistrationMonth    0.0\n",
       "FuelType             0.0\n",
       "Brand                0.0\n",
       "NotRepaired          0.0\n",
       "DateCreated          0.0\n",
       "NumberOfPictures     0.0\n",
       "PostalCode           0.0\n",
       "LastSeen             0.0\n",
       "dtype: float64"
      ]
     },
     "execution_count": 31,
     "metadata": {},
     "output_type": "execute_result"
    }
   ],
   "source": [
    "df.isna().mean()"
   ]
  },
  {
   "cell_type": "markdown",
   "id": "889eee52",
   "metadata": {
    "id": "889eee52"
   },
   "source": [
    "Все пропуски были устранены. Продолжим предобработку данных."
   ]
  },
  {
   "cell_type": "markdown",
   "id": "e7026c20",
   "metadata": {
    "id": "e7026c20"
   },
   "source": [
    "### Поиск аномальных значений"
   ]
  },
  {
   "cell_type": "markdown",
   "id": "be875f82",
   "metadata": {
    "id": "be875f82"
   },
   "source": [
    "Посмотрим на столбец `Power`. Он показыввает мощность автомобиля, представленную в лошадиных силах."
   ]
  },
  {
   "cell_type": "code",
   "execution_count": 32,
   "id": "0dba8574",
   "metadata": {
    "colab": {
     "base_uri": "https://localhost:8080/"
    },
    "id": "0dba8574",
    "outputId": "976e9e93-9d3c-4bb3-f2ca-ae8b356a2c4e"
   },
   "outputs": [
    {
     "data": {
      "text/plain": [
       "0       38204\n",
       "75      24000\n",
       "60      15881\n",
       "150     14584\n",
       "101     13292\n",
       "        ...  \n",
       "645         1\n",
       "525         1\n",
       "1922        1\n",
       "6018        1\n",
       "902         1\n",
       "Name: Power, Length: 712, dtype: int64"
      ]
     },
     "execution_count": 32,
     "metadata": {},
     "output_type": "execute_result"
    }
   ],
   "source": [
    "df.Power.value_counts()"
   ]
  },
  {
   "cell_type": "markdown",
   "id": "2b47db5e",
   "metadata": {
    "id": "2b47db5e"
   },
   "source": [
    "Видим, что у нас есть аномально большие значения (больше 5 тысяч л.с.). Посмотрим на диаграмму размаха"
   ]
  },
  {
   "cell_type": "code",
   "execution_count": 33,
   "id": "c0622e9e",
   "metadata": {
    "id": "c0622e9e"
   },
   "outputs": [],
   "source": [
    "def boxplot(df: pd.DataFrame, \n",
    "           name: str):\n",
    "    df.boxplot(name, figsize=(20,10))\n",
    "    plt.ylim(-150, 1000)\n",
    "    plt.title('Диаграмма размаха для ' + name)\n",
    "    plt.ylabel(name);"
   ]
  },
  {
   "cell_type": "code",
   "execution_count": 34,
   "id": "9d8e590e",
   "metadata": {
    "colab": {
     "base_uri": "https://localhost:8080/",
     "height": 607
    },
    "id": "9d8e590e",
    "outputId": "1d793781-24a7-4db9-93e7-6cf454fb8216",
    "scrolled": false
   },
   "outputs": [
    {
     "data": {
      "image/png": "[encoded data removed]",
      "text/plain": [
       "<Figure size 1440x720 with 1 Axes>"
      ]
     },
     "metadata": {
      "needs_background": "light"
     },
     "output_type": "display_data"
    }
   ],
   "source": [
    "boxplot(df, 'Power')"
   ]
  },
  {
   "cell_type": "markdown",
   "id": "d98ba14b",
   "metadata": {
    "id": "d98ba14b"
   },
   "source": [
    "Имеются нереалистичные аномальные значения по признаку `Power`. Из дополнительной информации узнали, что макисмальная предельная мощность на данный момент составляет 1200 л.с. Для более корректного прогноза стоимости цены автомобиля отфильтруем данные до адекватного (хотя бы реалистичного) порога (до 1200 л.с.)"
   ]
  },
  {
   "cell_type": "code",
   "execution_count": 35,
   "id": "ddcb1147",
   "metadata": {
    "id": "ddcb1147"
   },
   "outputs": [],
   "source": [
    "df = df[df.Power < 1200].reset_index(drop = True)"
   ]
  },
  {
   "cell_type": "markdown",
   "id": "467162a6",
   "metadata": {
    "id": "467162a6"
   },
   "source": [
    "Данные по мощности отфильтрованы. Рассмотрим другие количественные признаки."
   ]
  },
  {
   "cell_type": "code",
   "execution_count": 36,
   "id": "f4c97dda",
   "metadata": {},
   "outputs": [],
   "source": [
    "df = df[df.Power > 0].reset_index(drop = True)"
   ]
  },
  {
   "cell_type": "markdown",
   "id": "14d88480",
   "metadata": {
    "id": "14d88480"
   },
   "source": [
    "Рассмотрим столбец `Price`."
   ]
  },
  {
   "cell_type": "code",
   "execution_count": 37,
   "id": "da2a2b84",
   "metadata": {
    "colab": {
     "base_uri": "https://localhost:8080/"
    },
    "id": "da2a2b84",
    "outputId": "ce40e3d7-a9b2-4697-e5f3-74da8bfd9681"
   },
   "outputs": [
    {
     "data": {
      "text/plain": [
       "0        6849\n",
       "1500     4642\n",
       "500      4596\n",
       "1200     3928\n",
       "2500     3842\n",
       "         ... \n",
       "17047       1\n",
       "415         1\n",
       "5688        1\n",
       "1811        1\n",
       "8188        1\n",
       "Name: Price, Length: 3622, dtype: int64"
      ]
     },
     "execution_count": 37,
     "metadata": {},
     "output_type": "execute_result"
    }
   ],
   "source": [
    "df.Price.value_counts()"
   ]
  },
  {
   "cell_type": "markdown",
   "id": "47b672b7",
   "metadata": {
    "id": "47b672b7"
   },
   "source": [
    "Имеются нулевые значения стоимости. Рассмотрим на диаграмму размаха по этому признаку."
   ]
  },
  {
   "cell_type": "code",
   "execution_count": 38,
   "id": "d5b43eb9",
   "metadata": {
    "colab": {
     "base_uri": "https://localhost:8080/",
     "height": 607
    },
    "id": "d5b43eb9",
    "outputId": "9ad4a602-b1d5-4714-b121-32a7780bf5ad",
    "scrolled": false
   },
   "outputs": [
    {
     "data": {
      "image/png": "[encoded data removed]",
      "text/plain": [
       "<Figure size 1440x720 with 1 Axes>"
      ]
     },
     "metadata": {
      "needs_background": "light"
     },
     "output_type": "display_data"
    }
   ],
   "source": [
    "boxplot(df, 'Price')"
   ]
  },
  {
   "cell_type": "markdown",
   "id": "69c4162c",
   "metadata": {
    "id": "69c4162c"
   },
   "source": [
    "По диаграмме размаха цены автомобилей имеются нулевые значения. Такое может быть связано с ошибкой пользователя при выставлении объявлении о продаже автомобиля. Избавимся от всех аномально низких значений. Выберем все наблюдения, где стоимость объекта больше 100 евро."
   ]
  },
  {
   "cell_type": "code",
   "execution_count": 39,
   "id": "2c811bbe",
   "metadata": {
    "id": "2c811bbe"
   },
   "outputs": [],
   "source": [
    "df = df[df.Price >= 100].reset_index(drop = True)"
   ]
  },
  {
   "cell_type": "markdown",
   "id": "53421ffe",
   "metadata": {
    "id": "53421ffe"
   },
   "source": [
    "Теперь посмотрим на признак `RegistrationYear`. Посмотрим на уникальные значения:"
   ]
  },
  {
   "cell_type": "code",
   "execution_count": 40,
   "id": "ad0a258b",
   "metadata": {
    "colab": {
     "base_uri": "https://localhost:8080/"
    },
    "id": "ad0a258b",
    "outputId": "a74c1745-7793-4274-aa01-f217c4db4bce"
   },
   "outputs": [
    {
     "data": {
      "text/plain": [
       "array([1000, 1500, 1800, 1910, 1923, 1927, 1928, 1929, 1930, 1931, 1932,\n",
       "       1933, 1935, 1936, 1937, 1938, 1940, 1941, 1942, 1943, 1944, 1945,\n",
       "       1947, 1948, 1949, 1950, 1951, 1952, 1953, 1954, 1955, 1956, 1957,\n",
       "       1958, 1959, 1960, 1961, 1962, 1963, 1964, 1965, 1966, 1967, 1968,\n",
       "       1969, 1970, 1971, 1972, 1973, 1974, 1975, 1976, 1977, 1978, 1979,\n",
       "       1980, 1981, 1982, 1983, 1984, 1985, 1986, 1987, 1988, 1989, 1990,\n",
       "       1991, 1992, 1993, 1994, 1995, 1996, 1997, 1998, 1999, 2000, 2001,\n",
       "       2002, 2003, 2004, 2005, 2006, 2007, 2008, 2009, 2010, 2011, 2012,\n",
       "       2013, 2014, 2015, 2016, 2017, 2018, 2019, 2800, 2900, 4000, 4500,\n",
       "       4800, 5000, 5911, 6000, 8200])"
      ]
     },
     "execution_count": 40,
     "metadata": {},
     "output_type": "execute_result"
    }
   ],
   "source": [
    "df.sort_values('RegistrationYear')['RegistrationYear'].unique()"
   ]
  },
  {
   "cell_type": "markdown",
   "id": "2ab0e1cd",
   "metadata": {
    "id": "2ab0e1cd"
   },
   "source": [
    "Видим, что у нас есть нереальные значения года регистрации автомобиля. Выберем только те объявления, где год выпуска у нас меньше 2022 и больше 1910 года."
   ]
  },
  {
   "cell_type": "code",
   "execution_count": 41,
   "id": "0d34d012",
   "metadata": {
    "id": "0d34d012"
   },
   "outputs": [],
   "source": [
    "df = df[(df.RegistrationYear >= 1910) & (df.RegistrationYear <= 2022)].reset_index(drop = True)"
   ]
  },
  {
   "cell_type": "markdown",
   "id": "0af9cd55",
   "metadata": {
    "id": "0af9cd55"
   },
   "source": [
    "Признак офильтрован. Продолжим предобработку данных."
   ]
  },
  {
   "cell_type": "code",
   "execution_count": 42,
   "id": "f6d309dc",
   "metadata": {},
   "outputs": [],
   "source": [
    "max_year = pd.to_datetime(df.DateCrawled, format = '%Y-%m-%d %H:%M:%S').dt.year.max()"
   ]
  },
  {
   "cell_type": "code",
   "execution_count": 43,
   "id": "6afb5685",
   "metadata": {},
   "outputs": [],
   "source": [
    "df = df[df.RegistrationYear <= max_year]"
   ]
  },
  {
   "cell_type": "markdown",
   "id": "d9b93577",
   "metadata": {
    "id": "d9b93577"
   },
   "source": [
    "### Выбор важных признаков"
   ]
  },
  {
   "cell_type": "markdown",
   "id": "2aac65bf",
   "metadata": {
    "id": "2aac65bf"
   },
   "source": [
    "Для моделей машинного обучения важно выбрать наиболее подходящие для обучения признаки. \n",
    "\n",
    "Мы предсказываем признак: цена.\n",
    "\n",
    "Для обучения модели уберем малозначимые (лишние) признаки:\n",
    "\n",
    "* `DataCrawled` - дата скачивания анкеты из базы; \n",
    "* `DateCreated` - дата создания анкеты;\n",
    "* `NumberOfPictures` - количество фотографий автомобиля;\n",
    "* `PostalCode` - почтовый индекс владельца анкеты;\n",
    "* `LastSeen` - дата последней активности пользователя."
   ]
  },
  {
   "cell_type": "code",
   "execution_count": 46,
   "id": "f7491700",
   "metadata": {
    "id": "f7491700"
   },
   "outputs": [],
   "source": [
    "df = df.drop(['DateCrawled', 'DateCreated', 'NumberOfPictures', 'PostalCode', 'LastSeen'], axis = 1)"
   ]
  },
  {
   "cell_type": "markdown",
   "id": "d777b2e0",
   "metadata": {
    "id": "d777b2e0"
   },
   "source": [
    "Проверим, что все признаки удалены:"
   ]
  },
  {
   "cell_type": "code",
   "execution_count": 47,
   "id": "7e427198",
   "metadata": {
    "colab": {
     "base_uri": "https://localhost:8080/"
    },
    "id": "7e427198",
    "outputId": "fd62655e-24b9-4b79-e9f0-73998b61c131"
   },
   "outputs": [
    {
     "data": {
      "text/plain": [
       "Index(['Price', 'VehicleType', 'RegistrationYear', 'Gearbox', 'Power', 'Model',\n",
       "       'Kilometer', 'RegistrationMonth', 'FuelType', 'Brand', 'NotRepaired'],\n",
       "      dtype='object')"
      ]
     },
     "execution_count": 47,
     "metadata": {},
     "output_type": "execute_result"
    }
   ],
   "source": [
    "df.columns"
   ]
  },
  {
   "cell_type": "markdown",
   "id": "4fde846c",
   "metadata": {
    "id": "4fde846c"
   },
   "source": [
    "После того, как выбрали важные признаки. Выберем подходящие модели для обучения:\n",
    "\n",
    "* Простые модели обучения:\n",
    "    * Линейная регрессия;\n",
    "    * Случайный лес.\n",
    "* Модели, в основе которого используется градиентный бустинг:\n",
    "    * CatBoost\n",
    "    * LightGBM\n",
    "    * XGBoost\n",
    "\n",
    "В зависимости от того, какие модели будем применять, необходимо учесть кодирование категориальных признаков. Например, для моделей CatBoost и LightGBM кодирование признаков не нужно проводить. Данные инструменты предобработки данных уже включены в эти пакеты.\n",
    "\n",
    "Более того, необходимо провести масштабирование признаков для ускорения сходимости алгоритма.\n",
    "\n",
    "То есть, сделаем два идентичных датафрейма:\n",
    "1. Датафрейм без кодирования признаков: он пригодится для отдельных алгоритмов машинного обучения;\n",
    "2. Датафрейм, где категориальные признаки закодированы с помощью метода One-Hot encoding. Этот набор данных пригодится для простых регрессоров."
   ]
  },
  {
   "cell_type": "code",
   "execution_count": 48,
   "id": "82ef8e95",
   "metadata": {
    "id": "82ef8e95"
   },
   "outputs": [],
   "source": [
    "df_no_encoding = df.copy()"
   ]
  },
  {
   "cell_type": "code",
   "execution_count": 49,
   "id": "814e3502",
   "metadata": {
    "id": "814e3502"
   },
   "outputs": [],
   "source": [
    "df = pd.get_dummies(df, drop_first=True)"
   ]
  },
  {
   "cell_type": "code",
   "execution_count": 50,
   "id": "04f6bf07",
   "metadata": {
    "colab": {
     "base_uri": "https://localhost:8080/",
     "height": 487
    },
    "id": "04f6bf07",
    "outputId": "8cdf5c3d-8905-4a2e-e919-09b952240b86"
   },
   "outputs": [
    {
     "data": {
      "text/html": [
       "<div>\n",
       "<style scoped>\n",
       "    .dataframe tbody tr th:only-of-type {\n",
       "        vertical-align: middle;\n",
       "    }\n",
       "\n",
       "    .dataframe tbody tr th {\n",
       "        vertical-align: top;\n",
       "    }\n",
       "\n",
       "    .dataframe thead th {\n",
       "        text-align: right;\n",
       "    }\n",
       "</style>\n",
       "<table border=\"1\" class=\"dataframe\">\n",
       "  <thead>\n",
       "    <tr style=\"text-align: right;\">\n",
       "      <th></th>\n",
       "      <th>Price</th>\n",
       "      <th>RegistrationYear</th>\n",
       "      <th>Power</th>\n",
       "      <th>Kilometer</th>\n",
       "      <th>RegistrationMonth</th>\n",
       "      <th>NotRepaired</th>\n",
       "      <th>VehicleType_convertible</th>\n",
       "      <th>VehicleType_coupe</th>\n",
       "      <th>VehicleType_other</th>\n",
       "      <th>VehicleType_sedan</th>\n",
       "      <th>...</th>\n",
       "      <th>Brand_seat</th>\n",
       "      <th>Brand_skoda</th>\n",
       "      <th>Brand_smart</th>\n",
       "      <th>Brand_sonstige_autos</th>\n",
       "      <th>Brand_subaru</th>\n",
       "      <th>Brand_suzuki</th>\n",
       "      <th>Brand_toyota</th>\n",
       "      <th>Brand_trabant</th>\n",
       "      <th>Brand_volkswagen</th>\n",
       "      <th>Brand_volvo</th>\n",
       "    </tr>\n",
       "  </thead>\n",
       "  <tbody>\n",
       "    <tr>\n",
       "      <th>0</th>\n",
       "      <td>18300</td>\n",
       "      <td>2011</td>\n",
       "      <td>190</td>\n",
       "      <td>125000</td>\n",
       "      <td>5</td>\n",
       "      <td>1</td>\n",
       "      <td>0</td>\n",
       "      <td>1</td>\n",
       "      <td>0</td>\n",
       "      <td>0</td>\n",
       "      <td>...</td>\n",
       "      <td>0</td>\n",
       "      <td>0</td>\n",
       "      <td>0</td>\n",
       "      <td>0</td>\n",
       "      <td>0</td>\n",
       "      <td>0</td>\n",
       "      <td>0</td>\n",
       "      <td>0</td>\n",
       "      <td>0</td>\n",
       "      <td>0</td>\n",
       "    </tr>\n",
       "    <tr>\n",
       "      <th>1</th>\n",
       "      <td>9800</td>\n",
       "      <td>2004</td>\n",
       "      <td>163</td>\n",
       "      <td>125000</td>\n",
       "      <td>8</td>\n",
       "      <td>1</td>\n",
       "      <td>0</td>\n",
       "      <td>0</td>\n",
       "      <td>0</td>\n",
       "      <td>0</td>\n",
       "      <td>...</td>\n",
       "      <td>0</td>\n",
       "      <td>0</td>\n",
       "      <td>0</td>\n",
       "      <td>0</td>\n",
       "      <td>0</td>\n",
       "      <td>0</td>\n",
       "      <td>0</td>\n",
       "      <td>0</td>\n",
       "      <td>0</td>\n",
       "      <td>0</td>\n",
       "    </tr>\n",
       "    <tr>\n",
       "      <th>2</th>\n",
       "      <td>1500</td>\n",
       "      <td>2001</td>\n",
       "      <td>75</td>\n",
       "      <td>150000</td>\n",
       "      <td>6</td>\n",
       "      <td>0</td>\n",
       "      <td>0</td>\n",
       "      <td>0</td>\n",
       "      <td>0</td>\n",
       "      <td>0</td>\n",
       "      <td>...</td>\n",
       "      <td>0</td>\n",
       "      <td>0</td>\n",
       "      <td>0</td>\n",
       "      <td>0</td>\n",
       "      <td>0</td>\n",
       "      <td>0</td>\n",
       "      <td>0</td>\n",
       "      <td>0</td>\n",
       "      <td>1</td>\n",
       "      <td>0</td>\n",
       "    </tr>\n",
       "    <tr>\n",
       "      <th>3</th>\n",
       "      <td>3600</td>\n",
       "      <td>2008</td>\n",
       "      <td>69</td>\n",
       "      <td>90000</td>\n",
       "      <td>7</td>\n",
       "      <td>0</td>\n",
       "      <td>0</td>\n",
       "      <td>0</td>\n",
       "      <td>0</td>\n",
       "      <td>0</td>\n",
       "      <td>...</td>\n",
       "      <td>0</td>\n",
       "      <td>1</td>\n",
       "      <td>0</td>\n",
       "      <td>0</td>\n",
       "      <td>0</td>\n",
       "      <td>0</td>\n",
       "      <td>0</td>\n",
       "      <td>0</td>\n",
       "      <td>0</td>\n",
       "      <td>0</td>\n",
       "    </tr>\n",
       "    <tr>\n",
       "      <th>4</th>\n",
       "      <td>650</td>\n",
       "      <td>1995</td>\n",
       "      <td>102</td>\n",
       "      <td>150000</td>\n",
       "      <td>10</td>\n",
       "      <td>1</td>\n",
       "      <td>0</td>\n",
       "      <td>0</td>\n",
       "      <td>0</td>\n",
       "      <td>1</td>\n",
       "      <td>...</td>\n",
       "      <td>0</td>\n",
       "      <td>0</td>\n",
       "      <td>0</td>\n",
       "      <td>0</td>\n",
       "      <td>0</td>\n",
       "      <td>0</td>\n",
       "      <td>0</td>\n",
       "      <td>0</td>\n",
       "      <td>0</td>\n",
       "      <td>0</td>\n",
       "    </tr>\n",
       "  </tbody>\n",
       "</table>\n",
       "<p>5 rows × 308 columns</p>\n",
       "</div>"
      ],
      "text/plain": [
       "   Price  RegistrationYear  Power  Kilometer  RegistrationMonth  NotRepaired  \\\n",
       "0  18300              2011    190     125000                  5            1   \n",
       "1   9800              2004    163     125000                  8            1   \n",
       "2   1500              2001     75     150000                  6            0   \n",
       "3   3600              2008     69      90000                  7            0   \n",
       "4    650              1995    102     150000                 10            1   \n",
       "\n",
       "   VehicleType_convertible  VehicleType_coupe  VehicleType_other  \\\n",
       "0                        0                  1                  0   \n",
       "1                        0                  0                  0   \n",
       "2                        0                  0                  0   \n",
       "3                        0                  0                  0   \n",
       "4                        0                  0                  0   \n",
       "\n",
       "   VehicleType_sedan  ...  Brand_seat  Brand_skoda  Brand_smart  \\\n",
       "0                  0  ...           0            0            0   \n",
       "1                  0  ...           0            0            0   \n",
       "2                  0  ...           0            0            0   \n",
       "3                  0  ...           0            1            0   \n",
       "4                  1  ...           0            0            0   \n",
       "\n",
       "   Brand_sonstige_autos  Brand_subaru  Brand_suzuki  Brand_toyota  \\\n",
       "0                     0             0             0             0   \n",
       "1                     0             0             0             0   \n",
       "2                     0             0             0             0   \n",
       "3                     0             0             0             0   \n",
       "4                     0             0             0             0   \n",
       "\n",
       "   Brand_trabant  Brand_volkswagen  Brand_volvo  \n",
       "0              0                 0            0  \n",
       "1              0                 0            0  \n",
       "2              0                 1            0  \n",
       "3              0                 0            0  \n",
       "4              0                 0            0  \n",
       "\n",
       "[5 rows x 308 columns]"
      ]
     },
     "execution_count": 50,
     "metadata": {},
     "output_type": "execute_result"
    }
   ],
   "source": [
    "df.head()"
   ]
  },
  {
   "cell_type": "markdown",
   "id": "061fadf7",
   "metadata": {
    "id": "061fadf7"
   },
   "source": [
    "Масштабирование признаков будет проводиться в процессе обучения модели, чтобы избежать эффекта подглядывания."
   ]
  },
  {
   "cell_type": "markdown",
   "id": "0c72cdfb",
   "metadata": {
    "id": "0c72cdfb"
   },
   "source": [
    "**Вывод**:\n",
    "\n",
    "В процессе предобработки данных устранили следующие проблемы:\n",
    "\n",
    "* Устранили все пропуски в данных: незначительную часть удалили, посчитав эти данные за пустышки, часть заполнили нестандартным значением;\n",
    "* Избавились от явных дубликатов в данных;\n",
    "* Избавились от аномальных значений в признаках\n",
    "* Сформировали два датафрейма: первый - без прямого кодирования данных, второй - с применением кодирования категориальных признаков.\n",
    "\n",
    "После того, как подготовили данные приступим к обучению модели."
   ]
  },
  {
   "cell_type": "markdown",
   "id": "17c2abc7",
   "metadata": {
    "id": "17c2abc7"
   },
   "source": [
    "## Обучение моделей <a id='3'></a> "
   ]
  },
  {
   "cell_type": "markdown",
   "id": "5c3268a5",
   "metadata": {},
   "source": [
    "После того, как провели предобработку данных, реализуем обучение моделей. Для этого реализуем несколько классов:\n",
    "\n",
    "* Класс-предок: с помощью него будем инициализировать и предобрабатывать параметры моделей;\n",
    "* Класс моделей, для которых обязательно реализовывать кодирование категориальных признаков:\n",
    "    * Линейная регрессия;\n",
    "    * Случайный лес;\n",
    "    * Дерево решений.\n",
    "* Класс моделей, для который кодирование категориальных признаков необязательно:\n",
    "    * CatBosstRegressor\n",
    "    * LGBRegressor\n",
    "    \n",
    "Наилучшие гиперпараметры и результаты будем выбирать с помощью пятикратной кросс-валидации с помощью грубого поиска."
   ]
  },
  {
   "cell_type": "code",
   "execution_count": 51,
   "id": "9594d191",
   "metadata": {
    "id": "9594d191"
   },
   "outputs": [],
   "source": [
    "# Класс-инициализатор. С помощью него мы формируем обучающую, тестовую выборки. \n",
    "# Дополнительно масштабируем признаки - лишним не будет\n",
    "class features:\n",
    "    def __init__(self, df:pd.DataFrame):\n",
    "        self.df = df\n",
    "    def generate_features(self, name: str):\n",
    "        self.train, self.test = train_test_split(self.df, \n",
    "                                                 test_size = 0.3,\n",
    "                                                 random_state = 54321)\n",
    "        \n",
    "        self.train_feature = self.train.drop(name, axis = 1)\n",
    "        self.train_target = self.train[name]\n",
    "        \n",
    "        self.test_feature = self.test.drop(name, axis = 1)\n",
    "        self.test_target = self.test[name]\n",
    "        \n",
    "    def __str__(self):\n",
    "        return f'''train_feature:{self.train_feature.shape} \n",
    "        \\ntest_feature:{self.test_feature.shape} \n",
    "        \\ntrain_target:{self.train_target.shape} \n",
    "        \\ntest_target:{self.test_target.shape}'''\n",
    "        \n",
    "    def scaler_features(self):\n",
    "        \n",
    "        numeric = ['Power', 'RegistrationYear', \n",
    "                   'Kilometer', 'RegistrationMonth']\n",
    "        \n",
    "        scaler = StandardScaler()\n",
    "        scaler.fit(self.train_feature[numeric])\n",
    "        \n",
    "        self.train_feature[numeric] = scaler.transform(self.train_feature[numeric])\n",
    "        self.test_feature[numeric] = scaler.transform(self.test_feature[numeric])\n",
    "        \n",
    "        return self.train_feature, self.test_feature\n",
    "    \n",
    "# Класс моделей, для которых необходима обработка категориальных признаков с помощью кодирования\n",
    "# этот класс - дочерний, наследует инициализированные признаки и целевой признаки\n",
    "# которые стандартизированы  \n",
    "class models_for_encoding(features):\n",
    "\n",
    "    def __init__(self, df, name):\n",
    "        features.__init__(self, df)\n",
    "        features.generate_features(self, name)\n",
    "        self.train_features, self.test_features =  features.scaler_features(self)\n",
    "\n",
    "    def LR_model(self):\n",
    "        self.model = LinearRegression()\n",
    "        self.scores = cross_val_score(self.model, \n",
    "                                      self.train_features,\n",
    "                                      self.train_target,\n",
    "                                      scoring = 'neg_root_mean_squared_error',\n",
    "                                      cv = 5, \n",
    "                                      n_jobs = 4)\n",
    "        print(f'The RMSE score of Linear Regression is: {self.scores.mean()}')\n",
    "    \n",
    "    def RF_model(self):\n",
    "        params = {'max_depth': range(10, 51, 10),\n",
    "                  'n_estimators': range(1, 7, 2)}\n",
    "        model = RandomForestRegressor(random_state = 54321)\n",
    "        self.grid_model = GridSearchCV(model, \n",
    "                                       params, \n",
    "                                       scoring='neg_root_mean_squared_error',\n",
    "                                       cv = 5,\n",
    "                                       n_jobs = 4,\n",
    "                                       verbose = 10)\n",
    "        self.grid_model.fit(self.train_features, self.train_target)\n",
    "        print(f'The best score of RF is: {self.grid_model.best_score_}')\n",
    "        return self.grid_model.best_estimator_\n",
    "\n",
    "    def DT_model(self):\n",
    "        params = {'max_depth': range(10,81,10)}\n",
    "        model = DecisionTreeRegressor(random_state = 54321)\n",
    "        self.grid_model = GridSearchCV(model, \n",
    "                                       params, \n",
    "                                       scoring='neg_root_mean_squared_error',\n",
    "                                       cv = 5,\n",
    "                                       n_jobs = 4,\n",
    "                                       verbose = 10)\n",
    "        self.grid_model.fit(self.train_features, self.train_target)\n",
    "        print(f'The best score of DT is: {self.grid_model.best_score_}')\n",
    "        return self.grid_model.best_estimator_\n",
    "\n",
    "# класс моделей, которым не нужна процедура прямого кодирования данных\n",
    "# catboost\n",
    "# lightGBM\n",
    "class models_without_encoding(features):\n",
    "    \n",
    "    def __init__(self, df, name):\n",
    "        features.__init__(self, df)\n",
    "        features.generate_features(self, name)\n",
    "        self.train_features, self.test_features = features.scaler_features(self)\n",
    "        self.cat_columns = ['VehicleType', 'Gearbox', 'Model', 'FuelType', 'Brand']\n",
    "\n",
    "\n",
    "    def CAT_model(self):\n",
    "\n",
    "        params = {'iterations': range(5, 17, 2),\n",
    "                  'depth': range(10, 16, 2)}\n",
    "\n",
    "        model = CatBoostRegressor(cat_features = self.cat_columns,\n",
    "                                  learning_rate=.5, \n",
    "                                  thread_count = 4,\n",
    "                                  loss_function = 'RMSE',\n",
    "                                  random_state=54321);\n",
    "\n",
    "        self.grid = GridSearchCV(model, \n",
    "                                params, \n",
    "                                scoring='neg_root_mean_squared_error',\n",
    "                                cv = 5,\n",
    "                                verbose = 10)\n",
    "        self.grid.fit(self.train_features, self.train_target);\n",
    "        print(f'The best score of CB is: {self.grid.best_score_}')\n",
    "        return self.grid.best_estimator_\n",
    "    \n",
    "    def light_model(self):\n",
    "        \n",
    "        for col_name in self.cat_columns:\n",
    "            self.train_features[col_name] = self.train_features[col_name].astype('category')\n",
    "            self.test_features[col_name] = self.test_features[col_name].astype('category')\n",
    "            \n",
    "        model = LGBMRegressor(learning_rate = .5, \n",
    "                              random_state = 54321,\n",
    "                              n_jobs = 4)\n",
    "        \n",
    "        params = {'max_depth': range(10, 21,5),\n",
    "                 'n_estimators': range(10, 51, 10),\n",
    "                 'num_leaves': range(20, 101, 20)}\n",
    "        \n",
    "        self.grid = GridSearchCV(model,\n",
    "                                params,\n",
    "                                scoring = 'neg_root_mean_squared_error',\n",
    "                                cv = 5,\n",
    "                                verbose = 10)\n",
    "        \n",
    "        self.grid.fit(self.train_features, self.train_target);\n",
    "        print(f'The best score of LGBM is: {self.grid.best_score_}')\n",
    "        return self.grid.best_estimator_\n",
    "        "
   ]
  },
  {
   "cell_type": "markdown",
   "id": "7f093a5a",
   "metadata": {},
   "source": [
    "**Модели, для которых используем заранее закодированные признаки**"
   ]
  },
  {
   "cell_type": "code",
   "execution_count": 52,
   "id": "f7fd8ac4",
   "metadata": {
    "id": "f7fd8ac4"
   },
   "outputs": [],
   "source": [
    "no_enc_m = models_for_encoding(df, 'Price')"
   ]
  },
  {
   "cell_type": "markdown",
   "id": "accc3214",
   "metadata": {},
   "source": [
    "**Линейная регрессия**"
   ]
  },
  {
   "cell_type": "code",
   "execution_count": 53,
   "id": "EpV1-CMCcowh",
   "metadata": {
    "colab": {
     "base_uri": "https://localhost:8080/"
    },
    "id": "EpV1-CMCcowh",
    "outputId": "917a8229-82ec-4ee4-9953-1244f5e97fa4"
   },
   "outputs": [
    {
     "name": "stdout",
     "output_type": "stream",
     "text": [
      "The RMSE score of Linear Regression is: -2640.1453222483815\n",
      "CPU times: user 72.2 ms, sys: 181 ms, total: 253 ms\n",
      "Wall time: 39.4 s\n"
     ]
    }
   ],
   "source": [
    "%%time\n",
    "no_enc_m.LR_model()"
   ]
  },
  {
   "cell_type": "markdown",
   "id": "e9e63dd8",
   "metadata": {},
   "source": [
    "**Случайный лес**"
   ]
  },
  {
   "cell_type": "code",
   "execution_count": 54,
   "id": "_WfK_nJXhP-U",
   "metadata": {
    "colab": {
     "base_uri": "https://localhost:8080/"
    },
    "id": "_WfK_nJXhP-U",
    "outputId": "5455ccf1-e8b9-43e1-ae20-26bffe4c372e"
   },
   "outputs": [
    {
     "name": "stdout",
     "output_type": "stream",
     "text": [
      "Fitting 5 folds for each of 15 candidates, totalling 75 fits\n",
      "The best score of RF is: -1708.1274077248643\n",
      "CPU times: user 19.3 s, sys: 455 ms, total: 19.8 s\n",
      "Wall time: 16min 11s\n"
     ]
    }
   ],
   "source": [
    "%%time\n",
    "model_RF = no_enc_m.RF_model()"
   ]
  },
  {
   "cell_type": "markdown",
   "id": "6fecd18a",
   "metadata": {},
   "source": [
    "**Дерево решений**"
   ]
  },
  {
   "cell_type": "code",
   "execution_count": 55,
   "id": "Uyo0lOlEsk2o",
   "metadata": {
    "colab": {
     "base_uri": "https://localhost:8080/"
    },
    "id": "Uyo0lOlEsk2o",
    "outputId": "a1dc9e1f-1619-42bd-82f1-f5e947f8be42",
    "scrolled": true
   },
   "outputs": [
    {
     "name": "stdout",
     "output_type": "stream",
     "text": [
      "Fitting 5 folds for each of 8 candidates, totalling 40 fits\n",
      "The best score of DT is: -1947.3649178848834\n",
      "CPU times: user 6.07 s, sys: 323 ms, total: 6.39 s\n",
      "Wall time: 4min 46s\n"
     ]
    }
   ],
   "source": [
    "%%time\n",
    "model_DT = no_enc_m.DT_model()"
   ]
  },
  {
   "cell_type": "markdown",
   "id": "0d2e2604",
   "metadata": {},
   "source": [
    "По результатам тестирования обучения моделей на пятикратной кросс-валидации видим, что лучшая точность у модели случайного леса за счет более гибкой настройки гиперапараметров и участия ансамбля деревьев. Однако перебор гиперпараметров нужно выбирать так, чтобы модель обучалась не слишком долго, сохранив приемлемые значения метрики качества обучения модели. \n",
    "\n",
    "Самая быстрая модель - модель линейной регрессии, но при этом ее точность самая худшая среди всех из заданного класса моделей.\n",
    "\n",
    "Дерево решений - золотая середина по времени и качеству обучения.\n",
    "\n",
    "Теперь перейдем к классу моделей, для которых кодирование категориальных признаков необязательно."
   ]
  },
  {
   "cell_type": "markdown",
   "id": "97cd134b",
   "metadata": {},
   "source": [
    "**Модели, для которых не применяли кодирование признаков заранее**"
   ]
  },
  {
   "cell_type": "code",
   "execution_count": 56,
   "id": "QcpyxMJl-3I5",
   "metadata": {
    "id": "QcpyxMJl-3I5"
   },
   "outputs": [],
   "source": [
    "enc_m = models_without_encoding(df_no_encoding, 'Price')"
   ]
  },
  {
   "cell_type": "markdown",
   "id": "33321c3e",
   "metadata": {},
   "source": [
    "**CatBoostRegressor**"
   ]
  },
  {
   "cell_type": "code",
   "execution_count": 57,
   "id": "f793f28c",
   "metadata": {
    "colab": {
     "base_uri": "https://localhost:8080/"
    },
    "id": "wnW4MC3ZU6B-",
    "outputId": "689f8de0-c06f-4d3a-92b1-8aa9a2294717"
   },
   "outputs": [
    {
     "name": "stdout",
     "output_type": "stream",
     "text": [
      "Fitting 5 folds for each of 18 candidates, totalling 90 fits\n",
      "[CV 1/5; 1/18] START depth=10, iterations=5.....................................\n",
      "0:\tlearn: 3131.1839884\ttotal: 103ms\tremaining: 410ms\n",
      "1:\tlearn: 2448.0353111\ttotal: 296ms\tremaining: 445ms\n",
      "2:\tlearn: 2137.0342927\ttotal: 494ms\tremaining: 329ms\n",
      "3:\tlearn: 2001.6887074\ttotal: 686ms\tremaining: 172ms\n",
      "4:\tlearn: 1907.4741009\ttotal: 873ms\tremaining: 0us\n",
      "[CV 1/5; 1/18] END ...................depth=10, iterations=5; total time=   2.1s\n",
      "[CV 2/5; 1/18] START depth=10, iterations=5.....................................\n",
      "0:\tlearn: 3120.8402138\ttotal: 70.5ms\tremaining: 282ms\n",
      "1:\tlearn: 2451.3569402\ttotal: 268ms\tremaining: 401ms\n",
      "2:\tlearn: 2130.0159080\ttotal: 463ms\tremaining: 309ms\n",
      "3:\tlearn: 1959.4608349\ttotal: 657ms\tremaining: 164ms\n",
      "4:\tlearn: 1884.1888420\ttotal: 849ms\tremaining: 0us\n",
      "[CV 2/5; 1/18] END ...................depth=10, iterations=5; total time=   1.9s\n",
      "[CV 3/5; 1/18] START depth=10, iterations=5.....................................\n",
      "0:\tlearn: 3113.0323818\ttotal: 118ms\tremaining: 471ms\n",
      "1:\tlearn: 2465.3865239\ttotal: 317ms\tremaining: 475ms\n",
      "2:\tlearn: 2146.2938027\ttotal: 508ms\tremaining: 339ms\n",
      "3:\tlearn: 1977.4920457\ttotal: 700ms\tremaining: 175ms\n",
      "4:\tlearn: 1882.7557516\ttotal: 818ms\tremaining: 0us\n",
      "[CV 3/5; 1/18] END ...................depth=10, iterations=5; total time=   1.8s\n",
      "[CV 4/5; 1/18] START depth=10, iterations=5.....................................\n",
      "0:\tlearn: 3121.1103037\ttotal: 50.1ms\tremaining: 200ms\n",
      "1:\tlearn: 2465.5989507\ttotal: 246ms\tremaining: 369ms\n",
      "2:\tlearn: 2148.6442225\ttotal: 441ms\tremaining: 294ms\n",
      "3:\tlearn: 2002.2572209\ttotal: 630ms\tremaining: 158ms\n",
      "4:\tlearn: 1923.2405308\ttotal: 747ms\tremaining: 0us\n",
      "[CV 4/5; 1/18] END ...................depth=10, iterations=5; total time=   1.8s\n",
      "[CV 5/5; 1/18] START depth=10, iterations=5.....................................\n",
      "0:\tlearn: 3135.9127071\ttotal: 117ms\tremaining: 468ms\n",
      "1:\tlearn: 2472.8476099\ttotal: 314ms\tremaining: 471ms\n",
      "2:\tlearn: 2156.0339610\ttotal: 503ms\tremaining: 335ms\n",
      "3:\tlearn: 2006.3367694\ttotal: 619ms\tremaining: 155ms\n",
      "4:\tlearn: 1896.2022955\ttotal: 812ms\tremaining: 0us\n",
      "[CV 5/5; 1/18] END ...................depth=10, iterations=5; total time=   1.8s\n",
      "[CV 1/5; 2/18] START depth=10, iterations=7.....................................\n",
      "0:\tlearn: 3131.1839884\ttotal: 42.4ms\tremaining: 254ms\n",
      "1:\tlearn: 2448.0353111\ttotal: 232ms\tremaining: 579ms\n",
      "2:\tlearn: 2137.0342927\ttotal: 429ms\tremaining: 572ms\n",
      "3:\tlearn: 2001.6887074\ttotal: 629ms\tremaining: 471ms\n",
      "4:\tlearn: 1907.4741009\ttotal: 828ms\tremaining: 331ms\n",
      "5:\tlearn: 1846.8811042\ttotal: 1.01s\tremaining: 169ms\n",
      "6:\tlearn: 1816.4723362\ttotal: 1.13s\tremaining: 0us\n",
      "[CV 1/5; 2/18] END ...................depth=10, iterations=7; total time=   2.2s\n",
      "[CV 2/5; 2/18] START depth=10, iterations=7.....................................\n",
      "0:\tlearn: 3120.8402138\ttotal: 116ms\tremaining: 698ms\n",
      "1:\tlearn: 2451.3569402\ttotal: 237ms\tremaining: 593ms\n",
      "2:\tlearn: 2130.0159080\ttotal: 428ms\tremaining: 571ms\n",
      "3:\tlearn: 1959.4608349\ttotal: 618ms\tremaining: 463ms\n",
      "4:\tlearn: 1884.1888420\ttotal: 810ms\tremaining: 324ms\n",
      "5:\tlearn: 1829.9755283\ttotal: 1.01s\tremaining: 169ms\n",
      "6:\tlearn: 1806.1782591\ttotal: 1.13s\tremaining: 0us\n",
      "[CV 2/5; 2/18] END ...................depth=10, iterations=7; total time=   2.2s\n",
      "[CV 3/5; 2/18] START depth=10, iterations=7.....................................\n",
      "0:\tlearn: 3113.0323818\ttotal: 80.5ms\tremaining: 483ms\n",
      "1:\tlearn: 2465.3865239\ttotal: 277ms\tremaining: 693ms\n",
      "2:\tlearn: 2146.2938027\ttotal: 470ms\tremaining: 627ms\n",
      "3:\tlearn: 1977.4920457\ttotal: 661ms\tremaining: 496ms\n",
      "4:\tlearn: 1882.7557516\ttotal: 784ms\tremaining: 314ms\n",
      "5:\tlearn: 1832.2956498\ttotal: 978ms\tremaining: 163ms\n",
      "6:\tlearn: 1802.4716202\ttotal: 1.17s\tremaining: 0us\n",
      "[CV 3/5; 2/18] END ...................depth=10, iterations=7; total time=   2.3s\n",
      "[CV 4/5; 2/18] START depth=10, iterations=7.....................................\n",
      "0:\tlearn: 3121.1103037\ttotal: 123ms\tremaining: 736ms\n",
      "1:\tlearn: 2465.5989507\ttotal: 324ms\tremaining: 809ms\n",
      "2:\tlearn: 2148.6442225\ttotal: 517ms\tremaining: 690ms\n",
      "3:\tlearn: 2002.2572209\ttotal: 708ms\tremaining: 531ms\n",
      "4:\tlearn: 1923.2405308\ttotal: 827ms\tremaining: 331ms\n",
      "5:\tlearn: 1870.5500422\ttotal: 1.02s\tremaining: 170ms\n",
      "6:\tlearn: 1827.8278351\ttotal: 1.21s\tremaining: 0us\n",
      "[CV 4/5; 2/18] END ...................depth=10, iterations=7; total time=   2.3s\n",
      "[CV 5/5; 2/18] START depth=10, iterations=7.....................................\n",
      "0:\tlearn: 3135.9127071\ttotal: 159ms\tremaining: 956ms\n",
      "1:\tlearn: 2472.8476099\ttotal: 361ms\tremaining: 903ms\n",
      "2:\tlearn: 2156.0339610\ttotal: 561ms\tremaining: 748ms\n",
      "3:\tlearn: 2006.3367694\ttotal: 755ms\tremaining: 566ms\n",
      "4:\tlearn: 1896.2022955\ttotal: 872ms\tremaining: 349ms\n",
      "5:\tlearn: 1847.6694658\ttotal: 1.06s\tremaining: 177ms\n",
      "6:\tlearn: 1819.9301209\ttotal: 1.25s\tremaining: 0us\n",
      "[CV 5/5; 2/18] END ...................depth=10, iterations=7; total time=   2.4s\n",
      "[CV 1/5; 3/18] START depth=10, iterations=9.....................................\n",
      "0:\tlearn: 3131.1839884\ttotal: 113ms\tremaining: 903ms\n",
      "1:\tlearn: 2448.0353111\ttotal: 305ms\tremaining: 1.07s\n",
      "2:\tlearn: 2137.0342927\ttotal: 501ms\tremaining: 1s\n",
      "3:\tlearn: 2001.6887074\ttotal: 617ms\tremaining: 771ms\n",
      "4:\tlearn: 1907.4741009\ttotal: 806ms\tremaining: 645ms\n",
      "5:\tlearn: 1846.8811042\ttotal: 995ms\tremaining: 497ms\n",
      "6:\tlearn: 1816.4723362\ttotal: 1.11s\tremaining: 318ms\n",
      "7:\tlearn: 1795.3815432\ttotal: 1.3s\tremaining: 163ms\n",
      "8:\tlearn: 1784.9599498\ttotal: 1.49s\tremaining: 0us\n",
      "[CV 1/5; 3/18] END ...................depth=10, iterations=9; total time=   2.6s\n",
      "[CV 2/5; 3/18] START depth=10, iterations=9.....................................\n",
      "0:\tlearn: 3120.8402138\ttotal: 49ms\tremaining: 392ms\n",
      "1:\tlearn: 2451.3569402\ttotal: 247ms\tremaining: 866ms\n",
      "2:\tlearn: 2130.0159080\ttotal: 441ms\tremaining: 882ms\n",
      "3:\tlearn: 1959.4608349\ttotal: 631ms\tremaining: 789ms\n",
      "4:\tlearn: 1884.1888420\ttotal: 758ms\tremaining: 607ms\n",
      "5:\tlearn: 1829.9755283\ttotal: 951ms\tremaining: 475ms\n",
      "6:\tlearn: 1806.1782591\ttotal: 1.14s\tremaining: 325ms\n",
      "7:\tlearn: 1787.8806116\ttotal: 1.33s\tremaining: 167ms\n",
      "8:\tlearn: 1765.7658009\ttotal: 1.45s\tremaining: 0us\n",
      "[CV 2/5; 3/18] END ...................depth=10, iterations=9; total time=   2.6s\n",
      "[CV 3/5; 3/18] START depth=10, iterations=9.....................................\n",
      "0:\tlearn: 3113.0323818\ttotal: 77.5ms\tremaining: 620ms\n",
      "1:\tlearn: 2465.3865239\ttotal: 270ms\tremaining: 946ms\n",
      "2:\tlearn: 2146.2938027\ttotal: 464ms\tremaining: 927ms\n",
      "3:\tlearn: 1977.4920457\ttotal: 656ms\tremaining: 820ms\n",
      "4:\tlearn: 1882.7557516\ttotal: 775ms\tremaining: 620ms\n",
      "5:\tlearn: 1832.2956498\ttotal: 961ms\tremaining: 481ms\n",
      "6:\tlearn: 1802.4716202\ttotal: 1.16s\tremaining: 332ms\n",
      "7:\tlearn: 1778.8646832\ttotal: 1.36s\tremaining: 170ms\n",
      "8:\tlearn: 1761.5071134\ttotal: 1.55s\tremaining: 0us\n",
      "[CV 3/5; 3/18] END ...................depth=10, iterations=9; total time=   2.7s\n",
      "[CV 4/5; 3/18] START depth=10, iterations=9.....................................\n",
      "0:\tlearn: 3121.1103037\ttotal: 117ms\tremaining: 937ms\n",
      "1:\tlearn: 2465.5989507\ttotal: 313ms\tremaining: 1.09s\n",
      "2:\tlearn: 2148.6442225\ttotal: 428ms\tremaining: 856ms\n",
      "3:\tlearn: 2002.2572209\ttotal: 617ms\tremaining: 772ms\n",
      "4:\tlearn: 1923.2405308\ttotal: 729ms\tremaining: 584ms\n",
      "5:\tlearn: 1870.5500422\ttotal: 915ms\tremaining: 458ms\n",
      "6:\tlearn: 1827.8278351\ttotal: 1.03s\tremaining: 295ms\n",
      "7:\tlearn: 1801.7947247\ttotal: 1.22s\tremaining: 153ms\n",
      "8:\tlearn: 1783.5914408\ttotal: 1.42s\tremaining: 0us\n",
      "[CV 4/5; 3/18] END ...................depth=10, iterations=9; total time=   2.5s\n",
      "[CV 5/5; 3/18] START depth=10, iterations=9.....................................\n",
      "0:\tlearn: 3135.9127071\ttotal: 45.2ms\tremaining: 362ms\n",
      "1:\tlearn: 2472.8476099\ttotal: 242ms\tremaining: 847ms\n",
      "2:\tlearn: 2156.0339610\ttotal: 437ms\tremaining: 874ms\n",
      "3:\tlearn: 2006.3367694\ttotal: 634ms\tremaining: 793ms\n",
      "4:\tlearn: 1896.2022955\ttotal: 825ms\tremaining: 660ms\n",
      "5:\tlearn: 1847.6694658\ttotal: 943ms\tremaining: 471ms\n",
      "6:\tlearn: 1819.9301209\ttotal: 1.14s\tremaining: 324ms\n",
      "7:\tlearn: 1794.3705557\ttotal: 1.33s\tremaining: 166ms\n",
      "8:\tlearn: 1780.3063761\ttotal: 1.45s\tremaining: 0us\n",
      "[CV 5/5; 3/18] END ...................depth=10, iterations=9; total time=   2.6s\n",
      "[CV 1/5; 4/18] START depth=10, iterations=11....................................\n",
      "0:\tlearn: 3131.1839884\ttotal: 136ms\tremaining: 1.36s\n",
      "1:\tlearn: 2448.0353111\ttotal: 339ms\tremaining: 1.52s\n",
      "2:\tlearn: 2137.0342927\ttotal: 532ms\tremaining: 1.42s\n",
      "3:\tlearn: 2001.6887074\ttotal: 729ms\tremaining: 1.28s\n",
      "4:\tlearn: 1907.4741009\ttotal: 844ms\tremaining: 1.01s\n",
      "5:\tlearn: 1846.8811042\ttotal: 1.04s\tremaining: 865ms\n",
      "6:\tlearn: 1816.4723362\ttotal: 1.23s\tremaining: 702ms\n",
      "7:\tlearn: 1795.3815432\ttotal: 1.35s\tremaining: 507ms\n",
      "8:\tlearn: 1784.9599498\ttotal: 1.54s\tremaining: 342ms\n",
      "9:\tlearn: 1769.1091151\ttotal: 1.73s\tremaining: 173ms\n",
      "10:\tlearn: 1755.6869486\ttotal: 1.92s\tremaining: 0us\n",
      "[CV 1/5; 4/18] END ..................depth=10, iterations=11; total time=   3.0s\n",
      "[CV 2/5; 4/18] START depth=10, iterations=11....................................\n",
      "0:\tlearn: 3120.8402138\ttotal: 120ms\tremaining: 1.2s\n",
      "1:\tlearn: 2451.3569402\ttotal: 235ms\tremaining: 1.05s\n",
      "2:\tlearn: 2130.0159080\ttotal: 422ms\tremaining: 1.13s\n",
      "3:\tlearn: 1959.4608349\ttotal: 531ms\tremaining: 930ms\n",
      "4:\tlearn: 1884.1888420\ttotal: 717ms\tremaining: 861ms\n",
      "5:\tlearn: 1829.9755283\ttotal: 829ms\tremaining: 691ms\n",
      "6:\tlearn: 1806.1782591\ttotal: 1.02s\tremaining: 581ms\n",
      "7:\tlearn: 1787.8806116\ttotal: 1.13s\tremaining: 422ms\n",
      "8:\tlearn: 1765.7658009\ttotal: 1.23s\tremaining: 273ms\n",
      "9:\tlearn: 1752.1965658\ttotal: 1.41s\tremaining: 141ms\n",
      "10:\tlearn: 1730.1691635\ttotal: 1.52s\tremaining: 0us\n",
      "[CV 2/5; 4/18] END ..................depth=10, iterations=11; total time=   2.6s\n",
      "[CV 3/5; 4/18] START depth=10, iterations=11....................................\n",
      "0:\tlearn: 3113.0323818\ttotal: 122ms\tremaining: 1.22s\n",
      "1:\tlearn: 2465.3865239\ttotal: 325ms\tremaining: 1.46s\n",
      "2:\tlearn: 2146.2938027\ttotal: 442ms\tremaining: 1.18s\n",
      "3:\tlearn: 1977.4920457\ttotal: 640ms\tremaining: 1.12s\n",
      "4:\tlearn: 1882.7557516\ttotal: 835ms\tremaining: 1s\n",
      "5:\tlearn: 1832.2956498\ttotal: 1.02s\tremaining: 850ms\n",
      "6:\tlearn: 1802.4716202\ttotal: 1.13s\tremaining: 645ms\n",
      "7:\tlearn: 1778.8646832\ttotal: 1.24s\tremaining: 466ms\n",
      "8:\tlearn: 1761.5071134\ttotal: 1.43s\tremaining: 317ms\n",
      "9:\tlearn: 1749.8676160\ttotal: 1.53s\tremaining: 153ms\n",
      "10:\tlearn: 1734.9229424\ttotal: 1.72s\tremaining: 0us\n",
      "[CV 3/5; 4/18] END ..................depth=10, iterations=11; total time=   2.8s\n",
      "[CV 4/5; 4/18] START depth=10, iterations=11....................................\n",
      "0:\tlearn: 3121.1103037\ttotal: 68.4ms\tremaining: 684ms\n",
      "1:\tlearn: 2465.5989507\ttotal: 257ms\tremaining: 1.16s\n",
      "2:\tlearn: 2148.6442225\ttotal: 372ms\tremaining: 993ms\n",
      "3:\tlearn: 2002.2572209\ttotal: 562ms\tremaining: 984ms\n",
      "4:\tlearn: 1923.2405308\ttotal: 679ms\tremaining: 815ms\n",
      "5:\tlearn: 1870.5500422\ttotal: 804ms\tremaining: 670ms\n",
      "6:\tlearn: 1827.8278351\ttotal: 996ms\tremaining: 569ms\n",
      "7:\tlearn: 1801.7947247\ttotal: 1.19s\tremaining: 445ms\n",
      "8:\tlearn: 1783.5914408\ttotal: 1.38s\tremaining: 306ms\n",
      "9:\tlearn: 1770.1769103\ttotal: 1.49s\tremaining: 149ms\n",
      "10:\tlearn: 1756.6679819\ttotal: 1.68s\tremaining: 0us\n",
      "[CV 4/5; 4/18] END ..................depth=10, iterations=11; total time=   3.0s\n",
      "[CV 5/5; 4/18] START depth=10, iterations=11....................................\n",
      "0:\tlearn: 3135.9127071\ttotal: 113ms\tremaining: 1.13s\n",
      "1:\tlearn: 2472.8476099\ttotal: 310ms\tremaining: 1.4s\n",
      "2:\tlearn: 2156.0339610\ttotal: 499ms\tremaining: 1.33s\n",
      "3:\tlearn: 2006.3367694\ttotal: 612ms\tremaining: 1.07s\n",
      "4:\tlearn: 1896.2022955\ttotal: 806ms\tremaining: 968ms\n",
      "5:\tlearn: 1847.6694658\ttotal: 1s\tremaining: 834ms\n",
      "6:\tlearn: 1819.9301209\ttotal: 1.2s\tremaining: 685ms\n",
      "7:\tlearn: 1794.3705557\ttotal: 1.39s\tremaining: 521ms\n",
      "8:\tlearn: 1780.3063761\ttotal: 1.51s\tremaining: 335ms\n",
      "9:\tlearn: 1766.5260648\ttotal: 1.7s\tremaining: 170ms\n",
      "10:\tlearn: 1751.7910602\ttotal: 1.89s\tremaining: 0us\n",
      "[CV 5/5; 4/18] END ..................depth=10, iterations=11; total time=   3.4s\n",
      "[CV 1/5; 5/18] START depth=10, iterations=13....................................\n",
      "0:\tlearn: 3131.1839884\ttotal: 83.7ms\tremaining: 1s\n",
      "1:\tlearn: 2448.0353111\ttotal: 269ms\tremaining: 1.48s\n",
      "2:\tlearn: 2137.0342927\ttotal: 463ms\tremaining: 1.54s\n",
      "3:\tlearn: 2001.6887074\ttotal: 583ms\tremaining: 1.31s\n",
      "4:\tlearn: 1907.4741009\ttotal: 777ms\tremaining: 1.24s\n",
      "5:\tlearn: 1846.8811042\ttotal: 979ms\tremaining: 1.14s\n",
      "6:\tlearn: 1816.4723362\ttotal: 1.17s\tremaining: 1s\n",
      "7:\tlearn: 1795.3815432\ttotal: 1.37s\tremaining: 858ms\n",
      "8:\tlearn: 1784.9599498\ttotal: 1.57s\tremaining: 699ms\n",
      "9:\tlearn: 1769.1091151\ttotal: 1.76s\tremaining: 528ms\n",
      "10:\tlearn: 1755.6869486\ttotal: 1.87s\tremaining: 341ms\n",
      "11:\tlearn: 1744.7895951\ttotal: 2.06s\tremaining: 172ms\n",
      "12:\tlearn: 1728.1265835\ttotal: 2.25s\tremaining: 0us\n",
      "[CV 1/5; 5/18] END ..................depth=10, iterations=13; total time=   3.4s\n",
      "[CV 2/5; 5/18] START depth=10, iterations=13....................................\n",
      "0:\tlearn: 3120.8402138\ttotal: 120ms\tremaining: 1.44s\n",
      "1:\tlearn: 2451.3569402\ttotal: 315ms\tremaining: 1.73s\n",
      "2:\tlearn: 2130.0159080\ttotal: 514ms\tremaining: 1.71s\n",
      "3:\tlearn: 1959.4608349\ttotal: 632ms\tremaining: 1.42s\n",
      "4:\tlearn: 1884.1888420\ttotal: 822ms\tremaining: 1.31s\n",
      "5:\tlearn: 1829.9755283\ttotal: 1.01s\tremaining: 1.18s\n",
      "6:\tlearn: 1806.1782591\ttotal: 1.13s\tremaining: 968ms\n",
      "7:\tlearn: 1787.8806116\ttotal: 1.33s\tremaining: 829ms\n",
      "8:\tlearn: 1765.7658009\ttotal: 1.54s\tremaining: 683ms\n",
      "9:\tlearn: 1752.1965658\ttotal: 1.8s\tremaining: 542ms\n",
      "10:\tlearn: 1730.1691635\ttotal: 2.01s\tremaining: 365ms\n",
      "11:\tlearn: 1717.1632209\ttotal: 2.21s\tremaining: 184ms\n",
      "12:\tlearn: 1711.9210056\ttotal: 2.41s\tremaining: 0us\n",
      "[CV 2/5; 5/18] END ..................depth=10, iterations=13; total time=   3.6s\n",
      "[CV 3/5; 5/18] START depth=10, iterations=13....................................\n",
      "0:\tlearn: 3113.0323818\ttotal: 96.5ms\tremaining: 1.16s\n",
      "1:\tlearn: 2465.3865239\ttotal: 379ms\tremaining: 2.08s\n",
      "2:\tlearn: 2146.2938027\ttotal: 579ms\tremaining: 1.93s\n",
      "3:\tlearn: 1977.4920457\ttotal: 786ms\tremaining: 1.77s\n",
      "4:\tlearn: 1882.7557516\ttotal: 994ms\tremaining: 1.59s\n",
      "5:\tlearn: 1832.2956498\ttotal: 1.2s\tremaining: 1.4s\n",
      "6:\tlearn: 1802.4716202\ttotal: 1.39s\tremaining: 1.19s\n",
      "7:\tlearn: 1778.8646832\ttotal: 1.58s\tremaining: 988ms\n",
      "8:\tlearn: 1761.5071134\ttotal: 1.77s\tremaining: 787ms\n",
      "9:\tlearn: 1749.8676160\ttotal: 1.89s\tremaining: 568ms\n",
      "10:\tlearn: 1734.9229424\ttotal: 2.09s\tremaining: 379ms\n",
      "11:\tlearn: 1723.4657840\ttotal: 2.28s\tremaining: 190ms\n",
      "12:\tlearn: 1715.8548173\ttotal: 2.47s\tremaining: 0us\n",
      "[CV 3/5; 5/18] END ..................depth=10, iterations=13; total time=   3.6s\n",
      "[CV 4/5; 5/18] START depth=10, iterations=13....................................\n",
      "0:\tlearn: 3121.1103037\ttotal: 111ms\tremaining: 1.33s\n",
      "1:\tlearn: 2465.5989507\ttotal: 394ms\tremaining: 2.17s\n",
      "2:\tlearn: 2148.6442225\ttotal: 601ms\tremaining: 2s\n",
      "3:\tlearn: 2002.2572209\ttotal: 791ms\tremaining: 1.78s\n",
      "4:\tlearn: 1923.2405308\ttotal: 909ms\tremaining: 1.45s\n",
      "5:\tlearn: 1870.5500422\ttotal: 1.19s\tremaining: 1.39s\n",
      "6:\tlearn: 1827.8278351\ttotal: 1.3s\tremaining: 1.12s\n",
      "7:\tlearn: 1801.7947247\ttotal: 1.49s\tremaining: 931ms\n",
      "8:\tlearn: 1783.5914408\ttotal: 1.6s\tremaining: 711ms\n",
      "9:\tlearn: 1770.1769103\ttotal: 1.71s\tremaining: 512ms\n",
      "10:\tlearn: 1756.6679819\ttotal: 1.89s\tremaining: 344ms\n",
      "11:\tlearn: 1747.6763477\ttotal: 2s\tremaining: 167ms\n",
      "12:\tlearn: 1734.5884681\ttotal: 2.2s\tremaining: 0us\n",
      "[CV 4/5; 5/18] END ..................depth=10, iterations=13; total time=   3.4s\n",
      "[CV 5/5; 5/18] START depth=10, iterations=13....................................\n",
      "0:\tlearn: 3135.9127071\ttotal: 106ms\tremaining: 1.27s\n",
      "1:\tlearn: 2472.8476099\ttotal: 308ms\tremaining: 1.69s\n",
      "2:\tlearn: 2156.0339610\ttotal: 589ms\tremaining: 1.96s\n",
      "3:\tlearn: 2006.3367694\ttotal: 792ms\tremaining: 1.78s\n",
      "4:\tlearn: 1896.2022955\ttotal: 996ms\tremaining: 1.59s\n",
      "5:\tlearn: 1847.6694658\ttotal: 1.2s\tremaining: 1.4s\n",
      "6:\tlearn: 1819.9301209\ttotal: 1.48s\tremaining: 1.27s\n",
      "7:\tlearn: 1794.3705557\ttotal: 1.68s\tremaining: 1.05s\n",
      "8:\tlearn: 1780.3063761\ttotal: 1.8s\tremaining: 802ms\n",
      "9:\tlearn: 1766.5260648\ttotal: 2s\tremaining: 600ms\n",
      "10:\tlearn: 1751.7910602\ttotal: 2.19s\tremaining: 399ms\n",
      "11:\tlearn: 1737.8459829\ttotal: 2.39s\tremaining: 199ms\n",
      "12:\tlearn: 1724.9974202\ttotal: 2.58s\tremaining: 0us\n",
      "[CV 5/5; 5/18] END ..................depth=10, iterations=13; total time=   3.7s\n",
      "[CV 1/5; 6/18] START depth=10, iterations=15....................................\n",
      "0:\tlearn: 3131.1839884\ttotal: 52.5ms\tremaining: 735ms\n",
      "1:\tlearn: 2448.0353111\ttotal: 245ms\tremaining: 1.59s\n",
      "2:\tlearn: 2137.0342927\ttotal: 360ms\tremaining: 1.44s\n",
      "3:\tlearn: 2001.6887074\ttotal: 544ms\tremaining: 1.5s\n",
      "4:\tlearn: 1907.4741009\ttotal: 652ms\tremaining: 1.3s\n",
      "5:\tlearn: 1846.8811042\ttotal: 834ms\tremaining: 1.25s\n",
      "6:\tlearn: 1816.4723362\ttotal: 943ms\tremaining: 1.08s\n",
      "7:\tlearn: 1795.3815432\ttotal: 1.05s\tremaining: 923ms\n",
      "8:\tlearn: 1784.9599498\ttotal: 1.24s\tremaining: 828ms\n",
      "9:\tlearn: 1769.1091151\ttotal: 1.35s\tremaining: 676ms\n",
      "10:\tlearn: 1755.6869486\ttotal: 1.53s\tremaining: 559ms\n",
      "11:\tlearn: 1744.7895951\ttotal: 1.65s\tremaining: 412ms\n",
      "12:\tlearn: 1728.1265835\ttotal: 1.83s\tremaining: 281ms\n",
      "13:\tlearn: 1722.7669609\ttotal: 1.94s\tremaining: 139ms\n",
      "14:\tlearn: 1713.3713848\ttotal: 2.13s\tremaining: 0us\n",
      "[CV 1/5; 6/18] END ..................depth=10, iterations=15; total time=   3.2s\n",
      "[CV 2/5; 6/18] START depth=10, iterations=15....................................\n",
      "0:\tlearn: 3120.8402138\ttotal: 89.7ms\tremaining: 1.26s\n",
      "1:\tlearn: 2451.3569402\ttotal: 280ms\tremaining: 1.82s\n",
      "2:\tlearn: 2130.0159080\ttotal: 394ms\tremaining: 1.58s\n",
      "3:\tlearn: 1959.4608349\ttotal: 577ms\tremaining: 1.58s\n",
      "4:\tlearn: 1884.1888420\ttotal: 687ms\tremaining: 1.37s\n",
      "5:\tlearn: 1829.9755283\ttotal: 800ms\tremaining: 1.2s\n",
      "6:\tlearn: 1806.1782591\ttotal: 985ms\tremaining: 1.13s\n",
      "7:\tlearn: 1787.8806116\ttotal: 1.1s\tremaining: 960ms\n",
      "8:\tlearn: 1765.7658009\ttotal: 1.28s\tremaining: 855ms\n",
      "9:\tlearn: 1752.1965658\ttotal: 1.39s\tremaining: 696ms\n",
      "10:\tlearn: 1730.1691635\ttotal: 1.58s\tremaining: 575ms\n",
      "11:\tlearn: 1717.1632209\ttotal: 1.78s\tremaining: 445ms\n",
      "12:\tlearn: 1711.9210056\ttotal: 1.98s\tremaining: 304ms\n",
      "13:\tlearn: 1705.6861602\ttotal: 2.18s\tremaining: 156ms\n",
      "14:\tlearn: 1697.9621473\ttotal: 2.38s\tremaining: 0us\n",
      "[CV 2/5; 6/18] END ..................depth=10, iterations=15; total time=   3.6s\n",
      "[CV 3/5; 6/18] START depth=10, iterations=15....................................\n",
      "0:\tlearn: 3113.0323818\ttotal: 154ms\tremaining: 2.16s\n",
      "1:\tlearn: 2465.3865239\ttotal: 355ms\tremaining: 2.31s\n",
      "2:\tlearn: 2146.2938027\ttotal: 553ms\tremaining: 2.21s\n",
      "3:\tlearn: 1977.4920457\ttotal: 676ms\tremaining: 1.86s\n",
      "4:\tlearn: 1882.7557516\ttotal: 873ms\tremaining: 1.75s\n",
      "5:\tlearn: 1832.2956498\ttotal: 1.15s\tremaining: 1.73s\n",
      "6:\tlearn: 1802.4716202\ttotal: 1.35s\tremaining: 1.54s\n",
      "7:\tlearn: 1778.8646832\ttotal: 1.47s\tremaining: 1.29s\n",
      "8:\tlearn: 1761.5071134\ttotal: 1.67s\tremaining: 1.11s\n",
      "9:\tlearn: 1749.8676160\ttotal: 1.86s\tremaining: 928ms\n",
      "10:\tlearn: 1734.9229424\ttotal: 2.05s\tremaining: 746ms\n",
      "11:\tlearn: 1723.4657840\ttotal: 2.17s\tremaining: 542ms\n",
      "12:\tlearn: 1715.8548173\ttotal: 2.37s\tremaining: 364ms\n",
      "13:\tlearn: 1704.7715576\ttotal: 2.56s\tremaining: 183ms\n",
      "14:\tlearn: 1687.9541425\ttotal: 2.75s\tremaining: 0us\n",
      "[CV 3/5; 6/18] END ..................depth=10, iterations=15; total time=   4.0s\n",
      "[CV 4/5; 6/18] START depth=10, iterations=15....................................\n",
      "0:\tlearn: 3121.1103037\ttotal: 45.6ms\tremaining: 639ms\n",
      "1:\tlearn: 2465.5989507\ttotal: 244ms\tremaining: 1.59s\n",
      "2:\tlearn: 2148.6442225\ttotal: 435ms\tremaining: 1.74s\n",
      "3:\tlearn: 2002.2572209\ttotal: 630ms\tremaining: 1.73s\n",
      "4:\tlearn: 1923.2405308\ttotal: 825ms\tremaining: 1.65s\n",
      "5:\tlearn: 1870.5500422\ttotal: 944ms\tremaining: 1.42s\n",
      "6:\tlearn: 1827.8278351\ttotal: 1.14s\tremaining: 1.3s\n",
      "7:\tlearn: 1801.7947247\ttotal: 1.33s\tremaining: 1.16s\n",
      "8:\tlearn: 1783.5914408\ttotal: 1.53s\tremaining: 1.02s\n",
      "9:\tlearn: 1770.1769103\ttotal: 1.72s\tremaining: 859ms\n",
      "10:\tlearn: 1756.6679819\ttotal: 1.84s\tremaining: 670ms\n",
      "11:\tlearn: 1747.6763477\ttotal: 2.03s\tremaining: 508ms\n",
      "12:\tlearn: 1734.5884681\ttotal: 2.23s\tremaining: 343ms\n",
      "13:\tlearn: 1724.4477876\ttotal: 2.42s\tremaining: 173ms\n",
      "14:\tlearn: 1712.9092603\ttotal: 2.62s\tremaining: 0us\n",
      "[CV 4/5; 6/18] END ..................depth=10, iterations=15; total time=   3.7s\n",
      "[CV 5/5; 6/18] START depth=10, iterations=15....................................\n",
      "0:\tlearn: 3135.9127071\ttotal: 116ms\tremaining: 1.63s\n",
      "1:\tlearn: 2472.8476099\ttotal: 316ms\tremaining: 2.05s\n",
      "2:\tlearn: 2156.0339610\ttotal: 509ms\tremaining: 2.03s\n",
      "3:\tlearn: 2006.3367694\ttotal: 629ms\tremaining: 1.73s\n",
      "4:\tlearn: 1896.2022955\ttotal: 826ms\tremaining: 1.65s\n",
      "5:\tlearn: 1847.6694658\ttotal: 1.02s\tremaining: 1.53s\n",
      "6:\tlearn: 1819.9301209\ttotal: 1.22s\tremaining: 1.39s\n",
      "7:\tlearn: 1794.3705557\ttotal: 1.42s\tremaining: 1.24s\n",
      "8:\tlearn: 1780.3063761\ttotal: 1.62s\tremaining: 1.08s\n",
      "9:\tlearn: 1766.5260648\ttotal: 1.82s\tremaining: 912ms\n",
      "10:\tlearn: 1751.7910602\ttotal: 2.02s\tremaining: 735ms\n",
      "11:\tlearn: 1737.8459829\ttotal: 2.21s\tremaining: 551ms\n",
      "12:\tlearn: 1724.9974202\ttotal: 2.32s\tremaining: 357ms\n",
      "13:\tlearn: 1717.7130833\ttotal: 2.51s\tremaining: 179ms\n",
      "14:\tlearn: 1710.6463122\ttotal: 2.7s\tremaining: 0us\n",
      "[CV 5/5; 6/18] END ..................depth=10, iterations=15; total time=   3.9s\n",
      "[CV 1/5; 7/18] START depth=12, iterations=5.....................................\n",
      "0:\tlearn: 3075.1881779\ttotal: 160ms\tremaining: 639ms\n",
      "1:\tlearn: 2426.7531111\ttotal: 446ms\tremaining: 668ms\n",
      "2:\tlearn: 2086.4414431\ttotal: 750ms\tremaining: 500ms\n",
      "3:\tlearn: 1907.7216676\ttotal: 953ms\tremaining: 238ms\n",
      "4:\tlearn: 1836.3593732\ttotal: 1.16s\tremaining: 0us\n",
      "[CV 1/5; 7/18] END ...................depth=12, iterations=5; total time=   2.3s\n",
      "[CV 2/5; 7/18] START depth=12, iterations=5.....................................\n",
      "0:\tlearn: 3078.1471204\ttotal: 179ms\tremaining: 715ms\n",
      "1:\tlearn: 2403.1739347\ttotal: 464ms\tremaining: 696ms\n",
      "2:\tlearn: 2075.3411839\ttotal: 682ms\tremaining: 455ms\n",
      "3:\tlearn: 1901.6059154\ttotal: 963ms\tremaining: 241ms\n",
      "4:\tlearn: 1822.2608283\ttotal: 1.17s\tremaining: 0us\n",
      "[CV 2/5; 7/18] END ...................depth=12, iterations=5; total time=   2.3s\n",
      "[CV 3/5; 7/18] START depth=12, iterations=5.....................................\n",
      "0:\tlearn: 3080.7517436\ttotal: 162ms\tremaining: 648ms\n",
      "1:\tlearn: 2423.4465406\ttotal: 456ms\tremaining: 684ms\n",
      "2:\tlearn: 2071.8374130\ttotal: 744ms\tremaining: 496ms\n",
      "3:\tlearn: 1904.5359092\ttotal: 961ms\tremaining: 240ms\n",
      "4:\tlearn: 1800.9551089\ttotal: 1.24s\tremaining: 0us\n",
      "[CV 3/5; 7/18] END ...................depth=12, iterations=5; total time=   2.3s\n",
      "[CV 4/5; 7/18] START depth=12, iterations=5.....................................\n",
      "0:\tlearn: 3083.1665883\ttotal: 131ms\tremaining: 524ms\n",
      "1:\tlearn: 2425.2562818\ttotal: 347ms\tremaining: 520ms\n",
      "2:\tlearn: 2076.3375813\ttotal: 630ms\tremaining: 420ms\n",
      "3:\tlearn: 1912.4631414\ttotal: 840ms\tremaining: 210ms\n",
      "4:\tlearn: 1813.6286494\ttotal: 1.12s\tremaining: 0us\n",
      "[CV 4/5; 7/18] END ...................depth=12, iterations=5; total time=   2.1s\n",
      "[CV 5/5; 7/18] START depth=12, iterations=5.....................................\n",
      "0:\tlearn: 3090.0495725\ttotal: 181ms\tremaining: 722ms\n",
      "1:\tlearn: 2422.3139730\ttotal: 384ms\tremaining: 575ms\n",
      "2:\tlearn: 2077.9664691\ttotal: 584ms\tremaining: 389ms\n",
      "3:\tlearn: 1904.0440046\ttotal: 790ms\tremaining: 198ms\n",
      "4:\tlearn: 1832.5254449\ttotal: 1s\tremaining: 0us\n",
      "[CV 5/5; 7/18] END ...................depth=12, iterations=5; total time=   2.1s\n",
      "[CV 1/5; 8/18] START depth=12, iterations=7.....................................\n",
      "0:\tlearn: 3075.1881779\ttotal: 215ms\tremaining: 1.29s\n",
      "1:\tlearn: 2426.7531111\ttotal: 504ms\tremaining: 1.26s\n",
      "2:\tlearn: 2086.4414431\ttotal: 785ms\tremaining: 1.05s\n",
      "3:\tlearn: 1907.7216676\ttotal: 1000ms\tremaining: 750ms\n",
      "4:\tlearn: 1836.3593732\ttotal: 1.28s\tremaining: 514ms\n",
      "5:\tlearn: 1781.1440707\ttotal: 1.5s\tremaining: 250ms\n",
      "6:\tlearn: 1749.2163871\ttotal: 1.78s\tremaining: 0us\n",
      "[CV 1/5; 8/18] END ...................depth=12, iterations=7; total time=   2.8s\n",
      "[CV 2/5; 8/18] START depth=12, iterations=7.....................................\n",
      "0:\tlearn: 3078.1471204\ttotal: 179ms\tremaining: 1.07s\n",
      "1:\tlearn: 2403.1739347\ttotal: 386ms\tremaining: 966ms\n",
      "2:\tlearn: 2075.3411839\ttotal: 664ms\tremaining: 885ms\n",
      "3:\tlearn: 1901.6059154\ttotal: 869ms\tremaining: 652ms\n",
      "4:\tlearn: 1822.2608283\ttotal: 1.08s\tremaining: 432ms\n",
      "5:\tlearn: 1769.9367025\ttotal: 1.36s\tremaining: 227ms\n",
      "6:\tlearn: 1725.9853999\ttotal: 1.58s\tremaining: 0us\n",
      "[CV 2/5; 8/18] END ...................depth=12, iterations=7; total time=   2.6s\n",
      "[CV 3/5; 8/18] START depth=12, iterations=7.....................................\n",
      "0:\tlearn: 3080.7517436\ttotal: 125ms\tremaining: 752ms\n",
      "1:\tlearn: 2423.4465406\ttotal: 332ms\tremaining: 829ms\n",
      "2:\tlearn: 2071.8374130\ttotal: 622ms\tremaining: 830ms\n",
      "3:\tlearn: 1904.5359092\ttotal: 839ms\tremaining: 629ms\n",
      "4:\tlearn: 1800.9551089\ttotal: 1.04s\tremaining: 418ms\n",
      "5:\tlearn: 1756.8863298\ttotal: 1.32s\tremaining: 221ms\n",
      "6:\tlearn: 1731.8887103\ttotal: 1.53s\tremaining: 0us\n",
      "[CV 3/5; 8/18] END ...................depth=12, iterations=7; total time=   2.6s\n",
      "[CV 4/5; 8/18] START depth=12, iterations=7.....................................\n",
      "0:\tlearn: 3083.1665883\ttotal: 128ms\tremaining: 768ms\n",
      "1:\tlearn: 2425.2562818\ttotal: 417ms\tremaining: 1.04s\n",
      "2:\tlearn: 2076.3375813\ttotal: 700ms\tremaining: 934ms\n",
      "3:\tlearn: 1912.4631414\ttotal: 913ms\tremaining: 685ms\n",
      "4:\tlearn: 1813.6286494\ttotal: 1.19s\tremaining: 478ms\n",
      "5:\tlearn: 1767.4847945\ttotal: 1.41s\tremaining: 235ms\n",
      "6:\tlearn: 1738.8552638\ttotal: 1.7s\tremaining: 0us\n",
      "[CV 4/5; 8/18] END ...................depth=12, iterations=7; total time=   2.8s\n",
      "[CV 5/5; 8/18] START depth=12, iterations=7.....................................\n",
      "0:\tlearn: 3090.0495725\ttotal: 149ms\tremaining: 892ms\n",
      "1:\tlearn: 2422.3139730\ttotal: 445ms\tremaining: 1.11s\n",
      "2:\tlearn: 2077.9664691\ttotal: 732ms\tremaining: 976ms\n",
      "3:\tlearn: 1904.0440046\ttotal: 945ms\tremaining: 709ms\n",
      "4:\tlearn: 1832.5254449\ttotal: 1.23s\tremaining: 490ms\n",
      "5:\tlearn: 1773.0193539\ttotal: 1.44s\tremaining: 240ms\n",
      "6:\tlearn: 1744.0585295\ttotal: 1.65s\tremaining: 0us\n",
      "[CV 5/5; 8/18] END ...................depth=12, iterations=7; total time=   2.8s\n",
      "[CV 1/5; 9/18] START depth=12, iterations=9.....................................\n",
      "0:\tlearn: 3075.1881779\ttotal: 198ms\tremaining: 1.58s\n",
      "1:\tlearn: 2426.7531111\ttotal: 487ms\tremaining: 1.71s\n",
      "2:\tlearn: 2086.4414431\ttotal: 698ms\tremaining: 1.4s\n",
      "3:\tlearn: 1907.7216676\ttotal: 975ms\tremaining: 1.22s\n",
      "4:\tlearn: 1836.3593732\ttotal: 1.2s\tremaining: 958ms\n",
      "5:\tlearn: 1781.1440707\ttotal: 1.48s\tremaining: 739ms\n",
      "6:\tlearn: 1749.2163871\ttotal: 1.68s\tremaining: 481ms\n",
      "7:\tlearn: 1721.7203249\ttotal: 1.89s\tremaining: 236ms\n",
      "8:\tlearn: 1708.7884433\ttotal: 2.09s\tremaining: 0us\n",
      "[CV 1/5; 9/18] END ...................depth=12, iterations=9; total time=   3.2s\n",
      "[CV 2/5; 9/18] START depth=12, iterations=9.....................................\n",
      "0:\tlearn: 3078.1471204\ttotal: 189ms\tremaining: 1.51s\n",
      "1:\tlearn: 2403.1739347\ttotal: 400ms\tremaining: 1.4s\n",
      "2:\tlearn: 2075.3411839\ttotal: 671ms\tremaining: 1.34s\n",
      "3:\tlearn: 1901.6059154\ttotal: 898ms\tremaining: 1.12s\n",
      "4:\tlearn: 1822.2608283\ttotal: 1.19s\tremaining: 948ms\n",
      "5:\tlearn: 1769.9367025\ttotal: 1.47s\tremaining: 734ms\n",
      "6:\tlearn: 1725.9853999\ttotal: 1.69s\tremaining: 482ms\n",
      "7:\tlearn: 1704.1604272\ttotal: 1.97s\tremaining: 246ms\n",
      "8:\tlearn: 1685.8273045\ttotal: 2.19s\tremaining: 0us\n",
      "[CV 2/5; 9/18] END ...................depth=12, iterations=9; total time=   3.3s\n",
      "[CV 3/5; 9/18] START depth=12, iterations=9.....................................\n",
      "0:\tlearn: 3080.7517436\ttotal: 220ms\tremaining: 1.76s\n",
      "1:\tlearn: 2423.4465406\ttotal: 519ms\tremaining: 1.81s\n",
      "2:\tlearn: 2071.8374130\ttotal: 728ms\tremaining: 1.46s\n",
      "3:\tlearn: 1904.5359092\ttotal: 998ms\tremaining: 1.25s\n",
      "4:\tlearn: 1800.9551089\ttotal: 1.2s\tremaining: 959ms\n",
      "5:\tlearn: 1756.8863298\ttotal: 1.4s\tremaining: 699ms\n",
      "6:\tlearn: 1731.8887103\ttotal: 1.6s\tremaining: 458ms\n",
      "7:\tlearn: 1711.2322550\ttotal: 1.8s\tremaining: 225ms\n",
      "8:\tlearn: 1691.4098108\ttotal: 2.02s\tremaining: 0us\n",
      "[CV 3/5; 9/18] END ...................depth=12, iterations=9; total time=   3.1s\n",
      "[CV 4/5; 9/18] START depth=12, iterations=9.....................................\n",
      "0:\tlearn: 3083.1665883\ttotal: 181ms\tremaining: 1.44s\n",
      "1:\tlearn: 2425.2562818\ttotal: 480ms\tremaining: 1.68s\n",
      "2:\tlearn: 2076.3375813\ttotal: 761ms\tremaining: 1.52s\n",
      "3:\tlearn: 1912.4631414\ttotal: 970ms\tremaining: 1.21s\n",
      "4:\tlearn: 1813.6286494\ttotal: 1.19s\tremaining: 952ms\n",
      "5:\tlearn: 1767.4847945\ttotal: 1.48s\tremaining: 739ms\n",
      "6:\tlearn: 1738.8552638\ttotal: 1.76s\tremaining: 502ms\n",
      "7:\tlearn: 1716.0102532\ttotal: 1.98s\tremaining: 248ms\n",
      "8:\tlearn: 1693.3353921\ttotal: 2.28s\tremaining: 0us\n",
      "[CV 4/5; 9/18] END ...................depth=12, iterations=9; total time=   3.4s\n",
      "[CV 5/5; 9/18] START depth=12, iterations=9.....................................\n",
      "0:\tlearn: 3090.0495725\ttotal: 137ms\tremaining: 1.1s\n",
      "1:\tlearn: 2422.3139730\ttotal: 418ms\tremaining: 1.46s\n",
      "2:\tlearn: 2077.9664691\ttotal: 620ms\tremaining: 1.24s\n",
      "3:\tlearn: 1904.0440046\ttotal: 839ms\tremaining: 1.05s\n",
      "4:\tlearn: 1832.5254449\ttotal: 1.11s\tremaining: 892ms\n",
      "5:\tlearn: 1773.0193539\ttotal: 1.33s\tremaining: 665ms\n",
      "6:\tlearn: 1744.0585295\ttotal: 1.54s\tremaining: 439ms\n",
      "7:\tlearn: 1723.5677872\ttotal: 1.82s\tremaining: 227ms\n",
      "8:\tlearn: 1706.9178910\ttotal: 2.02s\tremaining: 0us\n",
      "[CV 5/5; 9/18] END ...................depth=12, iterations=9; total time=   3.1s\n",
      "[CV 1/5; 10/18] START depth=12, iterations=11...................................\n",
      "0:\tlearn: 3075.1881779\ttotal: 221ms\tremaining: 2.21s\n",
      "1:\tlearn: 2426.7531111\ttotal: 508ms\tremaining: 2.28s\n",
      "2:\tlearn: 2086.4414431\ttotal: 807ms\tremaining: 2.15s\n",
      "3:\tlearn: 1907.7216676\ttotal: 1.03s\tremaining: 1.8s\n",
      "4:\tlearn: 1836.3593732\ttotal: 1.32s\tremaining: 1.59s\n",
      "5:\tlearn: 1781.1440707\ttotal: 1.62s\tremaining: 1.35s\n",
      "6:\tlearn: 1749.2163871\ttotal: 1.91s\tremaining: 1.09s\n",
      "7:\tlearn: 1721.7203249\ttotal: 2.12s\tremaining: 796ms\n",
      "8:\tlearn: 1708.7884433\ttotal: 2.4s\tremaining: 534ms\n",
      "9:\tlearn: 1699.6372140\ttotal: 2.61s\tremaining: 261ms\n",
      "10:\tlearn: 1683.5929373\ttotal: 2.83s\tremaining: 0us\n",
      "[CV 1/5; 10/18] END .................depth=12, iterations=11; total time=   3.9s\n",
      "[CV 2/5; 10/18] START depth=12, iterations=11...................................\n",
      "0:\tlearn: 3078.1471204\ttotal: 148ms\tremaining: 1.48s\n",
      "1:\tlearn: 2403.1739347\ttotal: 454ms\tremaining: 2.04s\n",
      "2:\tlearn: 2075.3411839\ttotal: 756ms\tremaining: 2.02s\n",
      "3:\tlearn: 1901.6059154\ttotal: 1.06s\tremaining: 1.85s\n",
      "4:\tlearn: 1822.2608283\ttotal: 1.43s\tremaining: 1.72s\n",
      "5:\tlearn: 1769.9367025\ttotal: 1.66s\tremaining: 1.39s\n",
      "6:\tlearn: 1725.9853999\ttotal: 2.03s\tremaining: 1.16s\n",
      "7:\tlearn: 1704.1604272\ttotal: 2.33s\tremaining: 874ms\n",
      "8:\tlearn: 1685.8273045\ttotal: 2.55s\tremaining: 567ms\n",
      "9:\tlearn: 1669.5677111\ttotal: 2.83s\tremaining: 283ms\n",
      "10:\tlearn: 1655.0221116\ttotal: 3.13s\tremaining: 0us\n",
      "[CV 2/5; 10/18] END .................depth=12, iterations=11; total time=   4.3s\n",
      "[CV 3/5; 10/18] START depth=12, iterations=11...................................\n",
      "0:\tlearn: 3080.7517436\ttotal: 149ms\tremaining: 1.49s\n",
      "1:\tlearn: 2423.4465406\ttotal: 432ms\tremaining: 1.94s\n",
      "2:\tlearn: 2071.8374130\ttotal: 652ms\tremaining: 1.74s\n",
      "3:\tlearn: 1904.5359092\ttotal: 934ms\tremaining: 1.63s\n",
      "4:\tlearn: 1800.9551089\ttotal: 1.15s\tremaining: 1.38s\n",
      "5:\tlearn: 1756.8863298\ttotal: 1.36s\tremaining: 1.13s\n",
      "6:\tlearn: 1731.8887103\ttotal: 1.64s\tremaining: 934ms\n",
      "7:\tlearn: 1711.2322550\ttotal: 1.93s\tremaining: 724ms\n",
      "8:\tlearn: 1691.4098108\ttotal: 2.15s\tremaining: 477ms\n",
      "9:\tlearn: 1679.7523446\ttotal: 2.44s\tremaining: 244ms\n",
      "10:\tlearn: 1668.1110216\ttotal: 2.65s\tremaining: 0us\n",
      "[CV 3/5; 10/18] END .................depth=12, iterations=11; total time=   3.8s\n",
      "[CV 4/5; 10/18] START depth=12, iterations=11...................................\n",
      "0:\tlearn: 3083.1665883\ttotal: 205ms\tremaining: 2.05s\n",
      "1:\tlearn: 2425.2562818\ttotal: 578ms\tremaining: 2.6s\n",
      "2:\tlearn: 2076.3375813\ttotal: 804ms\tremaining: 2.14s\n",
      "3:\tlearn: 1912.4631414\ttotal: 1.09s\tremaining: 1.91s\n",
      "4:\tlearn: 1813.6286494\ttotal: 1.39s\tremaining: 1.67s\n",
      "5:\tlearn: 1767.4847945\ttotal: 1.68s\tremaining: 1.4s\n",
      "6:\tlearn: 1738.8552638\ttotal: 1.9s\tremaining: 1.09s\n",
      "7:\tlearn: 1716.0102532\ttotal: 2.19s\tremaining: 823ms\n",
      "8:\tlearn: 1693.3353921\ttotal: 2.49s\tremaining: 552ms\n",
      "9:\tlearn: 1679.0670427\ttotal: 2.79s\tremaining: 279ms\n",
      "10:\tlearn: 1669.9079559\ttotal: 3.08s\tremaining: 0us\n",
      "[CV 4/5; 10/18] END .................depth=12, iterations=11; total time=   4.3s\n",
      "[CV 5/5; 10/18] START depth=12, iterations=11...................................\n",
      "0:\tlearn: 3090.0495725\ttotal: 188ms\tremaining: 1.88s\n",
      "1:\tlearn: 2422.3139730\ttotal: 492ms\tremaining: 2.21s\n",
      "2:\tlearn: 2077.9664691\ttotal: 777ms\tremaining: 2.07s\n",
      "3:\tlearn: 1904.0440046\ttotal: 989ms\tremaining: 1.73s\n",
      "4:\tlearn: 1832.5254449\ttotal: 1.27s\tremaining: 1.53s\n",
      "5:\tlearn: 1773.0193539\ttotal: 1.57s\tremaining: 1.31s\n",
      "6:\tlearn: 1744.0585295\ttotal: 1.78s\tremaining: 1.02s\n",
      "7:\tlearn: 1723.5677872\ttotal: 2.07s\tremaining: 777ms\n",
      "8:\tlearn: 1706.9178910\ttotal: 2.29s\tremaining: 508ms\n",
      "9:\tlearn: 1679.3625899\ttotal: 2.58s\tremaining: 258ms\n",
      "10:\tlearn: 1664.9937994\ttotal: 2.79s\tremaining: 0us\n",
      "[CV 5/5; 10/18] END .................depth=12, iterations=11; total time=   3.9s\n",
      "[CV 1/5; 11/18] START depth=12, iterations=13...................................\n",
      "0:\tlearn: 3075.1881779\ttotal: 214ms\tremaining: 2.57s\n",
      "1:\tlearn: 2426.7531111\ttotal: 509ms\tremaining: 2.8s\n",
      "2:\tlearn: 2086.4414431\ttotal: 803ms\tremaining: 2.67s\n",
      "3:\tlearn: 1907.7216676\ttotal: 1.01s\tremaining: 2.28s\n",
      "4:\tlearn: 1836.3593732\ttotal: 1.3s\tremaining: 2.09s\n",
      "5:\tlearn: 1781.1440707\ttotal: 1.51s\tremaining: 1.76s\n",
      "6:\tlearn: 1749.2163871\ttotal: 1.72s\tremaining: 1.48s\n",
      "7:\tlearn: 1721.7203249\ttotal: 2s\tremaining: 1.25s\n",
      "8:\tlearn: 1708.7884433\ttotal: 2.22s\tremaining: 989ms\n",
      "9:\tlearn: 1699.6372140\ttotal: 2.5s\tremaining: 751ms\n",
      "10:\tlearn: 1683.5929373\ttotal: 2.72s\tremaining: 494ms\n",
      "11:\tlearn: 1668.7087437\ttotal: 3s\tremaining: 250ms\n",
      "12:\tlearn: 1654.0948346\ttotal: 3.3s\tremaining: 0us\n",
      "[CV 1/5; 11/18] END .................depth=12, iterations=13; total time=   4.5s\n",
      "[CV 2/5; 11/18] START depth=12, iterations=13...................................\n",
      "0:\tlearn: 3078.1471204\ttotal: 224ms\tremaining: 2.69s\n",
      "1:\tlearn: 2403.1739347\ttotal: 527ms\tremaining: 2.9s\n",
      "2:\tlearn: 2075.3411839\ttotal: 819ms\tremaining: 2.73s\n",
      "3:\tlearn: 1901.6059154\ttotal: 1.11s\tremaining: 2.5s\n",
      "4:\tlearn: 1822.2608283\ttotal: 1.33s\tremaining: 2.13s\n",
      "5:\tlearn: 1769.9367025\ttotal: 1.61s\tremaining: 1.88s\n",
      "6:\tlearn: 1725.9853999\ttotal: 1.91s\tremaining: 1.64s\n",
      "7:\tlearn: 1704.1604272\ttotal: 2.13s\tremaining: 1.33s\n",
      "8:\tlearn: 1685.8273045\ttotal: 2.42s\tremaining: 1.08s\n",
      "9:\tlearn: 1669.5677111\ttotal: 2.64s\tremaining: 791ms\n",
      "10:\tlearn: 1655.0221116\ttotal: 2.93s\tremaining: 532ms\n",
      "11:\tlearn: 1642.6372628\ttotal: 3.21s\tremaining: 268ms\n",
      "12:\tlearn: 1634.3415727\ttotal: 3.43s\tremaining: 0us\n",
      "[CV 2/5; 11/18] END .................depth=12, iterations=13; total time=   4.5s\n",
      "[CV 3/5; 11/18] START depth=12, iterations=13...................................\n",
      "0:\tlearn: 3080.7517436\ttotal: 193ms\tremaining: 2.32s\n",
      "1:\tlearn: 2423.4465406\ttotal: 477ms\tremaining: 2.62s\n",
      "2:\tlearn: 2071.8374130\ttotal: 770ms\tremaining: 2.57s\n",
      "3:\tlearn: 1904.5359092\ttotal: 989ms\tremaining: 2.23s\n",
      "4:\tlearn: 1800.9551089\ttotal: 1.28s\tremaining: 2.04s\n",
      "5:\tlearn: 1756.8863298\ttotal: 1.57s\tremaining: 1.83s\n",
      "6:\tlearn: 1731.8887103\ttotal: 1.8s\tremaining: 1.54s\n",
      "7:\tlearn: 1711.2322550\ttotal: 2.09s\tremaining: 1.3s\n",
      "8:\tlearn: 1691.4098108\ttotal: 2.29s\tremaining: 1.02s\n",
      "9:\tlearn: 1679.7523446\ttotal: 2.51s\tremaining: 753ms\n",
      "10:\tlearn: 1668.1110216\ttotal: 2.72s\tremaining: 495ms\n",
      "11:\tlearn: 1658.2459024\ttotal: 2.93s\tremaining: 245ms\n",
      "12:\tlearn: 1640.1771251\ttotal: 3.15s\tremaining: 0us\n",
      "[CV 3/5; 11/18] END .................depth=12, iterations=13; total time=   4.4s\n",
      "[CV 4/5; 11/18] START depth=12, iterations=13...................................\n",
      "0:\tlearn: 3083.1665883\ttotal: 142ms\tremaining: 1.71s\n",
      "1:\tlearn: 2425.2562818\ttotal: 425ms\tremaining: 2.34s\n",
      "2:\tlearn: 2076.3375813\ttotal: 719ms\tremaining: 2.4s\n",
      "3:\tlearn: 1912.4631414\ttotal: 936ms\tremaining: 2.11s\n",
      "4:\tlearn: 1813.6286494\ttotal: 1.24s\tremaining: 1.98s\n",
      "5:\tlearn: 1767.4847945\ttotal: 1.53s\tremaining: 1.78s\n",
      "6:\tlearn: 1738.8552638\ttotal: 1.75s\tremaining: 1.5s\n",
      "7:\tlearn: 1716.0102532\ttotal: 2.04s\tremaining: 1.27s\n",
      "8:\tlearn: 1693.3353921\ttotal: 2.32s\tremaining: 1.03s\n",
      "9:\tlearn: 1679.0670427\ttotal: 2.62s\tremaining: 785ms\n",
      "10:\tlearn: 1669.9079559\ttotal: 2.84s\tremaining: 517ms\n",
      "11:\tlearn: 1653.6882556\ttotal: 3.12s\tremaining: 260ms\n",
      "12:\tlearn: 1636.3172230\ttotal: 3.41s\tremaining: 0us\n",
      "[CV 4/5; 11/18] END .................depth=12, iterations=13; total time=   4.5s\n",
      "[CV 5/5; 11/18] START depth=12, iterations=13...................................\n",
      "0:\tlearn: 3090.0495725\ttotal: 158ms\tremaining: 1.9s\n",
      "1:\tlearn: 2422.3139730\ttotal: 443ms\tremaining: 2.43s\n",
      "2:\tlearn: 2077.9664691\ttotal: 735ms\tremaining: 2.45s\n",
      "3:\tlearn: 1904.0440046\ttotal: 962ms\tremaining: 2.17s\n",
      "4:\tlearn: 1832.5254449\ttotal: 1.25s\tremaining: 2.01s\n",
      "5:\tlearn: 1773.0193539\ttotal: 1.56s\tremaining: 1.82s\n",
      "6:\tlearn: 1744.0585295\ttotal: 1.84s\tremaining: 1.57s\n",
      "7:\tlearn: 1723.5677872\ttotal: 2.13s\tremaining: 1.33s\n",
      "8:\tlearn: 1706.9178910\ttotal: 2.34s\tremaining: 1.04s\n",
      "9:\tlearn: 1679.3625899\ttotal: 2.55s\tremaining: 765ms\n",
      "10:\tlearn: 1664.9937994\ttotal: 2.83s\tremaining: 515ms\n",
      "11:\tlearn: 1657.0536332\ttotal: 3.05s\tremaining: 254ms\n",
      "12:\tlearn: 1640.8430542\ttotal: 3.33s\tremaining: 0us\n",
      "[CV 5/5; 11/18] END .................depth=12, iterations=13; total time=   4.5s\n",
      "[CV 1/5; 12/18] START depth=12, iterations=15...................................\n",
      "0:\tlearn: 3075.1881779\ttotal: 197ms\tremaining: 2.76s\n",
      "1:\tlearn: 2426.7531111\ttotal: 486ms\tremaining: 3.16s\n",
      "2:\tlearn: 2086.4414431\ttotal: 700ms\tremaining: 2.8s\n",
      "3:\tlearn: 1907.7216676\ttotal: 978ms\tremaining: 2.69s\n",
      "4:\tlearn: 1836.3593732\ttotal: 1.19s\tremaining: 2.39s\n",
      "5:\tlearn: 1781.1440707\ttotal: 1.48s\tremaining: 2.22s\n",
      "6:\tlearn: 1749.2163871\ttotal: 1.7s\tremaining: 1.94s\n",
      "7:\tlearn: 1721.7203249\ttotal: 1.99s\tremaining: 1.74s\n",
      "8:\tlearn: 1708.7884433\ttotal: 2.28s\tremaining: 1.52s\n",
      "9:\tlearn: 1699.6372140\ttotal: 2.57s\tremaining: 1.29s\n",
      "10:\tlearn: 1683.5929373\ttotal: 2.79s\tremaining: 1.01s\n",
      "11:\tlearn: 1668.7087437\ttotal: 3.09s\tremaining: 773ms\n",
      "12:\tlearn: 1654.0948346\ttotal: 3.47s\tremaining: 534ms\n",
      "13:\tlearn: 1646.3298432\ttotal: 3.77s\tremaining: 269ms\n",
      "14:\tlearn: 1631.7426968\ttotal: 4.07s\tremaining: 0us\n",
      "[CV 1/5; 12/18] END .................depth=12, iterations=15; total time=   5.2s\n",
      "[CV 2/5; 12/18] START depth=12, iterations=15...................................\n",
      "0:\tlearn: 3078.1471204\ttotal: 231ms\tremaining: 3.23s\n",
      "1:\tlearn: 2403.1739347\ttotal: 516ms\tremaining: 3.35s\n",
      "2:\tlearn: 2075.3411839\ttotal: 728ms\tremaining: 2.91s\n",
      "3:\tlearn: 1901.6059154\ttotal: 1.01s\tremaining: 2.79s\n",
      "4:\tlearn: 1822.2608283\ttotal: 1.23s\tremaining: 2.47s\n",
      "5:\tlearn: 1769.9367025\ttotal: 1.52s\tremaining: 2.27s\n",
      "6:\tlearn: 1725.9853999\ttotal: 1.73s\tremaining: 1.98s\n",
      "7:\tlearn: 1704.1604272\ttotal: 2.02s\tremaining: 1.77s\n",
      "8:\tlearn: 1685.8273045\ttotal: 2.32s\tremaining: 1.55s\n",
      "9:\tlearn: 1669.5677111\ttotal: 2.61s\tremaining: 1.3s\n",
      "10:\tlearn: 1655.0221116\ttotal: 2.81s\tremaining: 1.02s\n",
      "11:\tlearn: 1642.6372628\ttotal: 3.02s\tremaining: 755ms\n",
      "12:\tlearn: 1634.3415727\ttotal: 3.3s\tremaining: 508ms\n",
      "13:\tlearn: 1623.7118770\ttotal: 3.52s\tremaining: 251ms\n",
      "14:\tlearn: 1612.8248522\ttotal: 3.8s\tremaining: 0us\n",
      "[CV 2/5; 12/18] END .................depth=12, iterations=15; total time=   5.1s\n",
      "[CV 3/5; 12/18] START depth=12, iterations=15...................................\n",
      "0:\tlearn: 3080.7517436\ttotal: 186ms\tremaining: 2.6s\n",
      "1:\tlearn: 2423.4465406\ttotal: 399ms\tremaining: 2.59s\n",
      "2:\tlearn: 2071.8374130\ttotal: 642ms\tremaining: 2.57s\n",
      "3:\tlearn: 1904.5359092\ttotal: 941ms\tremaining: 2.59s\n",
      "4:\tlearn: 1800.9551089\ttotal: 1.25s\tremaining: 2.5s\n",
      "5:\tlearn: 1756.8863298\ttotal: 1.54s\tremaining: 2.31s\n",
      "6:\tlearn: 1731.8887103\ttotal: 1.83s\tremaining: 2.09s\n",
      "7:\tlearn: 1711.2322550\ttotal: 2.04s\tremaining: 1.78s\n",
      "8:\tlearn: 1691.4098108\ttotal: 2.24s\tremaining: 1.49s\n",
      "9:\tlearn: 1679.7523446\ttotal: 2.52s\tremaining: 1.26s\n",
      "10:\tlearn: 1668.1110216\ttotal: 2.73s\tremaining: 991ms\n",
      "11:\tlearn: 1658.2459024\ttotal: 2.94s\tremaining: 734ms\n",
      "12:\tlearn: 1640.1771251\ttotal: 3.22s\tremaining: 495ms\n",
      "13:\tlearn: 1631.9919140\ttotal: 3.43s\tremaining: 245ms\n",
      "14:\tlearn: 1622.6756713\ttotal: 3.71s\tremaining: 0us\n",
      "[CV 3/5; 12/18] END .................depth=12, iterations=15; total time=   4.9s\n",
      "[CV 4/5; 12/18] START depth=12, iterations=15...................................\n",
      "0:\tlearn: 3083.1665883\ttotal: 214ms\tremaining: 3s\n",
      "1:\tlearn: 2425.2562818\ttotal: 434ms\tremaining: 2.82s\n",
      "2:\tlearn: 2076.3375813\ttotal: 714ms\tremaining: 2.86s\n",
      "3:\tlearn: 1912.4631414\ttotal: 916ms\tremaining: 2.52s\n",
      "4:\tlearn: 1813.6286494\ttotal: 1.14s\tremaining: 2.27s\n",
      "5:\tlearn: 1767.4847945\ttotal: 1.43s\tremaining: 2.14s\n",
      "6:\tlearn: 1738.8552638\ttotal: 1.71s\tremaining: 1.95s\n",
      "7:\tlearn: 1716.0102532\ttotal: 1.93s\tremaining: 1.69s\n",
      "8:\tlearn: 1693.3353921\ttotal: 2.13s\tremaining: 1.42s\n",
      "9:\tlearn: 1679.0670427\ttotal: 2.42s\tremaining: 1.21s\n",
      "10:\tlearn: 1669.9079559\ttotal: 2.62s\tremaining: 953ms\n",
      "11:\tlearn: 1653.6882556\ttotal: 2.82s\tremaining: 706ms\n",
      "12:\tlearn: 1636.3172230\ttotal: 3.02s\tremaining: 465ms\n",
      "13:\tlearn: 1628.7657097\ttotal: 3.24s\tremaining: 231ms\n",
      "14:\tlearn: 1608.9425823\ttotal: 3.5s\tremaining: 0us\n",
      "[CV 4/5; 12/18] END .................depth=12, iterations=15; total time=   4.6s\n",
      "[CV 5/5; 12/18] START depth=12, iterations=15...................................\n",
      "0:\tlearn: 3090.0495725\ttotal: 184ms\tremaining: 2.57s\n",
      "1:\tlearn: 2422.3139730\ttotal: 467ms\tremaining: 3.04s\n",
      "2:\tlearn: 2077.9664691\ttotal: 685ms\tremaining: 2.74s\n",
      "3:\tlearn: 1904.0440046\ttotal: 971ms\tremaining: 2.67s\n",
      "4:\tlearn: 1832.5254449\ttotal: 1.18s\tremaining: 2.37s\n",
      "5:\tlearn: 1773.0193539\ttotal: 1.47s\tremaining: 2.2s\n",
      "6:\tlearn: 1744.0585295\ttotal: 1.69s\tremaining: 1.93s\n",
      "7:\tlearn: 1723.5677872\ttotal: 1.96s\tremaining: 1.72s\n",
      "8:\tlearn: 1706.9178910\ttotal: 2.17s\tremaining: 1.45s\n",
      "9:\tlearn: 1679.3625899\ttotal: 2.39s\tremaining: 1.2s\n",
      "10:\tlearn: 1664.9937994\ttotal: 2.67s\tremaining: 971ms\n",
      "11:\tlearn: 1657.0536332\ttotal: 2.88s\tremaining: 721ms\n",
      "12:\tlearn: 1640.8430542\ttotal: 3.16s\tremaining: 487ms\n",
      "13:\tlearn: 1632.1600968\ttotal: 3.38s\tremaining: 242ms\n",
      "14:\tlearn: 1621.9273310\ttotal: 3.67s\tremaining: 0us\n",
      "[CV 5/5; 12/18] END .................depth=12, iterations=15; total time=   4.8s\n",
      "[CV 1/5; 13/18] START depth=14, iterations=5....................................\n",
      "0:\tlearn: 3038.9875800\ttotal: 449ms\tremaining: 1.79s\n",
      "1:\tlearn: 2361.3202959\ttotal: 954ms\tremaining: 1.43s\n",
      "2:\tlearn: 2027.3662852\ttotal: 1.44s\tremaining: 961ms\n",
      "3:\tlearn: 1867.2867476\ttotal: 1.95s\tremaining: 487ms\n",
      "4:\tlearn: 1785.8209890\ttotal: 2.35s\tremaining: 0us\n",
      "[CV 1/5; 13/18] END ..................depth=14, iterations=5; total time=   3.5s\n",
      "[CV 2/5; 13/18] START depth=14, iterations=5....................................\n",
      "0:\tlearn: 3037.7104092\ttotal: 461ms\tremaining: 1.84s\n",
      "1:\tlearn: 2383.5568163\ttotal: 968ms\tremaining: 1.45s\n",
      "2:\tlearn: 2035.7834216\ttotal: 1.56s\tremaining: 1.04s\n",
      "3:\tlearn: 1870.3957751\ttotal: 2.05s\tremaining: 512ms\n",
      "4:\tlearn: 1786.2044271\ttotal: 2.55s\tremaining: 0us\n",
      "[CV 2/5; 13/18] END ..................depth=14, iterations=5; total time=   3.6s\n",
      "[CV 3/5; 13/18] START depth=14, iterations=5....................................\n",
      "0:\tlearn: 3058.8624063\ttotal: 330ms\tremaining: 1.32s\n",
      "1:\tlearn: 2402.8531033\ttotal: 766ms\tremaining: 1.15s\n",
      "2:\tlearn: 2045.6928208\ttotal: 1.25s\tremaining: 833ms\n",
      "3:\tlearn: 1857.9455053\ttotal: 1.74s\tremaining: 435ms\n",
      "4:\tlearn: 1773.1830680\ttotal: 2.23s\tremaining: 0us\n",
      "[CV 3/5; 13/18] END ..................depth=14, iterations=5; total time=   3.3s\n",
      "[CV 4/5; 13/18] START depth=14, iterations=5....................................\n",
      "0:\tlearn: 3060.1911173\ttotal: 507ms\tremaining: 2.03s\n",
      "1:\tlearn: 2386.1543579\ttotal: 1.01s\tremaining: 1.52s\n",
      "2:\tlearn: 2032.5326193\ttotal: 1.6s\tremaining: 1.07s\n",
      "3:\tlearn: 1860.0049152\ttotal: 2.1s\tremaining: 526ms\n",
      "4:\tlearn: 1763.2125466\ttotal: 2.59s\tremaining: 0us\n",
      "[CV 4/5; 13/18] END ..................depth=14, iterations=5; total time=   4.0s\n",
      "[CV 5/5; 13/18] START depth=14, iterations=5....................................\n",
      "0:\tlearn: 3061.9104832\ttotal: 422ms\tremaining: 1.69s\n",
      "1:\tlearn: 2368.8588087\ttotal: 1.01s\tremaining: 1.51s\n",
      "2:\tlearn: 2044.5449774\ttotal: 1.53s\tremaining: 1.02s\n",
      "3:\tlearn: 1899.5622198\ttotal: 2.03s\tremaining: 508ms\n",
      "4:\tlearn: 1779.4566560\ttotal: 2.52s\tremaining: 0us\n",
      "[CV 5/5; 13/18] END ..................depth=14, iterations=5; total time=   3.6s\n",
      "[CV 1/5; 14/18] START depth=14, iterations=7....................................\n",
      "0:\tlearn: 3038.9875800\ttotal: 415ms\tremaining: 2.49s\n",
      "1:\tlearn: 2361.3202959\ttotal: 989ms\tremaining: 2.47s\n",
      "2:\tlearn: 2027.3662852\ttotal: 1.41s\tremaining: 1.88s\n",
      "3:\tlearn: 1867.2867476\ttotal: 1.9s\tremaining: 1.43s\n",
      "4:\tlearn: 1785.8209890\ttotal: 2.4s\tremaining: 959ms\n",
      "5:\tlearn: 1708.0895491\ttotal: 2.89s\tremaining: 482ms\n",
      "6:\tlearn: 1674.5436548\ttotal: 3.31s\tremaining: 0us\n",
      "[CV 1/5; 14/18] END ..................depth=14, iterations=7; total time=   4.4s\n",
      "[CV 2/5; 14/18] START depth=14, iterations=7....................................\n",
      "0:\tlearn: 3037.7104092\ttotal: 404ms\tremaining: 2.42s\n",
      "1:\tlearn: 2383.5568163\ttotal: 912ms\tremaining: 2.28s\n",
      "2:\tlearn: 2035.7834216\ttotal: 1.4s\tremaining: 1.86s\n",
      "3:\tlearn: 1870.3957751\ttotal: 1.9s\tremaining: 1.42s\n",
      "4:\tlearn: 1786.2044271\ttotal: 2.38s\tremaining: 954ms\n",
      "5:\tlearn: 1722.4202903\ttotal: 2.81s\tremaining: 468ms\n",
      "6:\tlearn: 1680.3375703\ttotal: 3.29s\tremaining: 0us\n",
      "[CV 2/5; 14/18] END ..................depth=14, iterations=7; total time=   4.4s\n",
      "[CV 3/5; 14/18] START depth=14, iterations=7....................................\n",
      "0:\tlearn: 3058.8624063\ttotal: 252ms\tremaining: 1.51s\n",
      "1:\tlearn: 2402.8531033\ttotal: 660ms\tremaining: 1.65s\n",
      "2:\tlearn: 2045.6928208\ttotal: 1.13s\tremaining: 1.51s\n",
      "3:\tlearn: 1857.9455053\ttotal: 1.54s\tremaining: 1.16s\n",
      "4:\tlearn: 1773.1830680\ttotal: 1.95s\tremaining: 782ms\n",
      "5:\tlearn: 1713.6337257\ttotal: 2.55s\tremaining: 425ms\n",
      "6:\tlearn: 1678.3140085\ttotal: 3.06s\tremaining: 0us\n",
      "[CV 3/5; 14/18] END ..................depth=14, iterations=7; total time=   4.1s\n",
      "[CV 4/5; 14/18] START depth=14, iterations=7....................................\n",
      "0:\tlearn: 3060.1911173\ttotal: 407ms\tremaining: 2.44s\n",
      "1:\tlearn: 2386.1543579\ttotal: 819ms\tremaining: 2.05s\n",
      "2:\tlearn: 2032.5326193\ttotal: 1.24s\tremaining: 1.65s\n",
      "3:\tlearn: 1860.0049152\ttotal: 1.66s\tremaining: 1.24s\n",
      "4:\tlearn: 1763.2125466\ttotal: 2.15s\tremaining: 859ms\n",
      "5:\tlearn: 1710.0942077\ttotal: 2.64s\tremaining: 441ms\n",
      "6:\tlearn: 1679.1762639\ttotal: 3.14s\tremaining: 0us\n",
      "[CV 4/5; 14/18] END ..................depth=14, iterations=7; total time=   4.4s\n",
      "[CV 5/5; 14/18] START depth=14, iterations=7....................................\n",
      "0:\tlearn: 3061.9104832\ttotal: 345ms\tremaining: 2.07s\n",
      "1:\tlearn: 2368.8588087\ttotal: 844ms\tremaining: 2.11s\n",
      "2:\tlearn: 2044.5449774\ttotal: 1.26s\tremaining: 1.69s\n",
      "3:\tlearn: 1899.5622198\ttotal: 1.84s\tremaining: 1.38s\n",
      "4:\tlearn: 1779.4566560\ttotal: 2.34s\tremaining: 935ms\n",
      "5:\tlearn: 1724.2562171\ttotal: 2.77s\tremaining: 461ms\n",
      "6:\tlearn: 1692.7582321\ttotal: 3.26s\tremaining: 0us\n",
      "[CV 5/5; 14/18] END ..................depth=14, iterations=7; total time=   4.4s\n",
      "[CV 1/5; 15/18] START depth=14, iterations=9....................................\n",
      "0:\tlearn: 3038.9875800\ttotal: 421ms\tremaining: 3.37s\n",
      "1:\tlearn: 2361.3202959\ttotal: 917ms\tremaining: 3.21s\n",
      "2:\tlearn: 2027.3662852\ttotal: 1.42s\tremaining: 2.84s\n",
      "3:\tlearn: 1867.2867476\ttotal: 1.92s\tremaining: 2.4s\n",
      "4:\tlearn: 1785.8209890\ttotal: 2.42s\tremaining: 1.94s\n",
      "5:\tlearn: 1708.0895491\ttotal: 3s\tremaining: 1.5s\n",
      "6:\tlearn: 1674.5436548\ttotal: 3.51s\tremaining: 1s\n",
      "7:\tlearn: 1634.3964617\ttotal: 4.11s\tremaining: 514ms\n",
      "8:\tlearn: 1615.8916599\ttotal: 4.6s\tremaining: 0us\n",
      "[CV 1/5; 15/18] END ..................depth=14, iterations=9; total time=   5.7s\n",
      "[CV 2/5; 15/18] START depth=14, iterations=9....................................\n",
      "0:\tlearn: 3037.7104092\ttotal: 415ms\tremaining: 3.32s\n",
      "1:\tlearn: 2383.5568163\ttotal: 917ms\tremaining: 3.21s\n",
      "2:\tlearn: 2035.7834216\ttotal: 1.41s\tremaining: 2.82s\n",
      "3:\tlearn: 1870.3957751\ttotal: 1.84s\tremaining: 2.3s\n",
      "4:\tlearn: 1786.2044271\ttotal: 2.32s\tremaining: 1.85s\n",
      "5:\tlearn: 1722.4202903\ttotal: 2.81s\tremaining: 1.4s\n",
      "6:\tlearn: 1680.3375703\ttotal: 3.31s\tremaining: 945ms\n",
      "7:\tlearn: 1660.0819265\ttotal: 3.83s\tremaining: 479ms\n",
      "8:\tlearn: 1639.8239251\ttotal: 4.32s\tremaining: 0us\n",
      "[CV 2/5; 15/18] END ..................depth=14, iterations=9; total time=   5.5s\n",
      "[CV 3/5; 15/18] START depth=14, iterations=9....................................\n",
      "0:\tlearn: 3058.8624063\ttotal: 435ms\tremaining: 3.48s\n",
      "1:\tlearn: 2402.8531033\ttotal: 1.03s\tremaining: 3.61s\n",
      "2:\tlearn: 2045.6928208\ttotal: 1.63s\tremaining: 3.27s\n",
      "3:\tlearn: 1857.9455053\ttotal: 2.22s\tremaining: 2.78s\n",
      "4:\tlearn: 1773.1830680\ttotal: 2.73s\tremaining: 2.18s\n",
      "5:\tlearn: 1713.6337257\ttotal: 3.23s\tremaining: 1.61s\n",
      "6:\tlearn: 1678.3140085\ttotal: 3.73s\tremaining: 1.06s\n",
      "7:\tlearn: 1633.7349797\ttotal: 4.22s\tremaining: 528ms\n",
      "8:\tlearn: 1611.0190861\ttotal: 4.72s\tremaining: 0us\n",
      "[CV 3/5; 15/18] END ..................depth=14, iterations=9; total time=   5.8s\n",
      "[CV 4/5; 15/18] START depth=14, iterations=9....................................\n",
      "0:\tlearn: 3060.1911173\ttotal: 408ms\tremaining: 3.27s\n",
      "1:\tlearn: 2386.1543579\ttotal: 824ms\tremaining: 2.88s\n",
      "2:\tlearn: 2032.5326193\ttotal: 1.32s\tremaining: 2.64s\n",
      "3:\tlearn: 1860.0049152\ttotal: 1.82s\tremaining: 2.27s\n",
      "4:\tlearn: 1763.2125466\ttotal: 2.23s\tremaining: 1.78s\n",
      "5:\tlearn: 1710.0942077\ttotal: 2.72s\tremaining: 1.36s\n",
      "6:\tlearn: 1679.1762639\ttotal: 3.21s\tremaining: 919ms\n",
      "7:\tlearn: 1656.0141111\ttotal: 3.72s\tremaining: 465ms\n",
      "8:\tlearn: 1644.7228609\ttotal: 4.21s\tremaining: 0us\n",
      "[CV 4/5; 15/18] END ..................depth=14, iterations=9; total time=   5.3s\n",
      "[CV 5/5; 15/18] START depth=14, iterations=9....................................\n",
      "0:\tlearn: 3061.9104832\ttotal: 370ms\tremaining: 2.96s\n",
      "1:\tlearn: 2368.8588087\ttotal: 874ms\tremaining: 3.06s\n",
      "2:\tlearn: 2044.5449774\ttotal: 1.37s\tremaining: 2.74s\n",
      "3:\tlearn: 1899.5622198\ttotal: 1.86s\tremaining: 2.33s\n",
      "4:\tlearn: 1779.4566560\ttotal: 2.28s\tremaining: 1.82s\n",
      "5:\tlearn: 1724.2562171\ttotal: 2.76s\tremaining: 1.38s\n",
      "6:\tlearn: 1692.7582321\ttotal: 3.17s\tremaining: 904ms\n",
      "7:\tlearn: 1665.3473981\ttotal: 3.59s\tremaining: 449ms\n",
      "8:\tlearn: 1634.9811523\ttotal: 4.16s\tremaining: 0us\n",
      "[CV 5/5; 15/18] END ..................depth=14, iterations=9; total time=   5.3s\n",
      "[CV 1/5; 16/18] START depth=14, iterations=11...................................\n",
      "0:\tlearn: 3038.9875800\ttotal: 330ms\tremaining: 3.3s\n",
      "1:\tlearn: 2361.3202959\ttotal: 747ms\tremaining: 3.36s\n",
      "2:\tlearn: 2027.3662852\ttotal: 1.21s\tremaining: 3.23s\n",
      "3:\tlearn: 1867.2867476\ttotal: 1.64s\tremaining: 2.88s\n",
      "4:\tlearn: 1785.8209890\ttotal: 2.12s\tremaining: 2.55s\n",
      "5:\tlearn: 1708.0895491\ttotal: 2.62s\tremaining: 2.18s\n",
      "6:\tlearn: 1674.5436548\ttotal: 3.04s\tremaining: 1.74s\n",
      "7:\tlearn: 1634.3964617\ttotal: 3.53s\tremaining: 1.32s\n",
      "8:\tlearn: 1615.8916599\ttotal: 4.03s\tremaining: 895ms\n",
      "9:\tlearn: 1600.2655486\ttotal: 4.52s\tremaining: 452ms\n",
      "10:\tlearn: 1578.3999023\ttotal: 5.03s\tremaining: 0us\n",
      "[CV 1/5; 16/18] END .................depth=14, iterations=11; total time=   6.1s\n",
      "[CV 2/5; 16/18] START depth=14, iterations=11...................................\n",
      "0:\tlearn: 3037.7104092\ttotal: 419ms\tremaining: 4.18s\n",
      "1:\tlearn: 2383.5568163\ttotal: 915ms\tremaining: 4.12s\n",
      "2:\tlearn: 2035.7834216\ttotal: 1.41s\tremaining: 3.76s\n",
      "3:\tlearn: 1870.3957751\ttotal: 1.91s\tremaining: 3.34s\n",
      "4:\tlearn: 1786.2044271\ttotal: 2.4s\tremaining: 2.89s\n",
      "5:\tlearn: 1722.4202903\ttotal: 2.81s\tremaining: 2.35s\n",
      "6:\tlearn: 1680.3375703\ttotal: 3.22s\tremaining: 1.84s\n",
      "7:\tlearn: 1660.0819265\ttotal: 3.63s\tremaining: 1.36s\n",
      "8:\tlearn: 1639.8239251\ttotal: 4.1s\tremaining: 912ms\n",
      "9:\tlearn: 1623.8130227\ttotal: 4.52s\tremaining: 452ms\n",
      "10:\tlearn: 1608.5684514\ttotal: 5.01s\tremaining: 0us\n",
      "[CV 2/5; 16/18] END .................depth=14, iterations=11; total time=   6.1s\n",
      "[CV 3/5; 16/18] START depth=14, iterations=11...................................\n",
      "0:\tlearn: 3058.8624063\ttotal: 344ms\tremaining: 3.44s\n",
      "1:\tlearn: 2402.8531033\ttotal: 845ms\tremaining: 3.8s\n",
      "2:\tlearn: 2045.6928208\ttotal: 1.34s\tremaining: 3.57s\n",
      "3:\tlearn: 1857.9455053\ttotal: 1.76s\tremaining: 3.09s\n",
      "4:\tlearn: 1773.1830680\ttotal: 2.34s\tremaining: 2.81s\n",
      "5:\tlearn: 1713.6337257\ttotal: 2.84s\tremaining: 2.36s\n",
      "6:\tlearn: 1678.3140085\ttotal: 3.26s\tremaining: 1.86s\n",
      "7:\tlearn: 1633.7349797\ttotal: 3.75s\tremaining: 1.41s\n",
      "8:\tlearn: 1611.0190861\ttotal: 4.25s\tremaining: 944ms\n",
      "9:\tlearn: 1595.5654944\ttotal: 4.74s\tremaining: 474ms\n",
      "10:\tlearn: 1585.2324433\ttotal: 5.23s\tremaining: 0us\n",
      "[CV 3/5; 16/18] END .................depth=14, iterations=11; total time=   6.4s\n",
      "[CV 4/5; 16/18] START depth=14, iterations=11...................................\n",
      "0:\tlearn: 3060.1911173\ttotal: 376ms\tremaining: 3.76s\n",
      "1:\tlearn: 2386.1543579\ttotal: 788ms\tremaining: 3.54s\n",
      "2:\tlearn: 2032.5326193\ttotal: 1.29s\tremaining: 3.43s\n",
      "3:\tlearn: 1860.0049152\ttotal: 1.77s\tremaining: 3.1s\n",
      "4:\tlearn: 1763.2125466\ttotal: 2.27s\tremaining: 2.72s\n",
      "5:\tlearn: 1710.0942077\ttotal: 2.77s\tremaining: 2.31s\n",
      "6:\tlearn: 1679.1762639\ttotal: 3.17s\tremaining: 1.81s\n",
      "7:\tlearn: 1656.0141111\ttotal: 3.57s\tremaining: 1.34s\n",
      "8:\tlearn: 1644.7228609\ttotal: 3.99s\tremaining: 887ms\n",
      "9:\tlearn: 1632.7158902\ttotal: 4.56s\tremaining: 456ms\n",
      "10:\tlearn: 1607.3363882\ttotal: 5.07s\tremaining: 0us\n",
      "[CV 4/5; 16/18] END .................depth=14, iterations=11; total time=   6.3s\n",
      "[CV 5/5; 16/18] START depth=14, iterations=11...................................\n",
      "[CV 4/5; 1/15] START max_depth=10, n_estimators=1...............................\n",
      "[CV 4/5; 1/15] END .............max_depth=10, n_estimators=1; total time=  11.8s\n",
      "[CV 3/5; 2/15] START max_depth=10, n_estimators=3...............................\n",
      "[CV 3/5; 2/15] END .............max_depth=10, n_estimators=3; total time=  34.5s\n",
      "[CV 3/5; 3/15] START max_depth=10, n_estimators=5...............................\n",
      "[CV 3/5; 3/15] END .............max_depth=10, n_estimators=5; total time=  55.2s\n",
      "[CV 5/5; 3/15] START max_depth=10, n_estimators=5...............................\n",
      "[CV 5/5; 3/15] END .............max_depth=10, n_estimators=5; total time=  58.5s\n",
      "[CV 4/5; 5/15] START max_depth=20, n_estimators=3...............................\n",
      "[CV 4/5; 5/15] END .............max_depth=20, n_estimators=3; total time=  53.4s\n",
      "[CV 3/5; 6/15] START max_depth=20, n_estimators=5...............................\n",
      "[CV 3/5; 6/15] END .............max_depth=20, n_estimators=5; total time= 1.3min\n",
      "[CV 2/5; 7/15] START max_depth=30, n_estimators=1...............................\n",
      "[CV 2/5; 7/15] END .............max_depth=30, n_estimators=1; total time=  19.7s\n",
      "[CV 5/5; 7/15] START max_depth=30, n_estimators=1...............................\n",
      "[CV 5/5; 7/15] END .............max_depth=30, n_estimators=1; total time=  24.9s\n",
      "[CV 3/5; 8/15] START max_depth=30, n_estimators=3...............................\n",
      "[CV 3/5; 8/15] END .............max_depth=30, n_estimators=3; total time=  54.8s\n",
      "[CV 1/5; 9/15] START max_depth=30, n_estimators=5...............................\n",
      "[CV 1/5; 9/15] END .............max_depth=30, n_estimators=5; total time= 1.5min\n",
      "[CV 1/5; 10/15] START max_depth=40, n_estimators=1..............................\n",
      "[CV 1/5; 10/15] END ............max_depth=40, n_estimators=1; total time=  18.6s\n",
      "[CV 3/5; 10/15] START max_depth=40, n_estimators=1..............................\n",
      "[CV 3/5; 10/15] END ............max_depth=40, n_estimators=1; total time=  18.0s\n",
      "[CV 5/5; 10/15] START max_depth=40, n_estimators=1..............................\n",
      "[CV 5/5; 10/15] END ............max_depth=40, n_estimators=1; total time=  24.8s\n",
      "[CV 3/5; 11/15] START max_depth=40, n_estimators=3..............................\n",
      "[CV 3/5; 11/15] END ............max_depth=40, n_estimators=3; total time=  59.1s\n",
      "[CV 2/5; 12/15] START max_depth=40, n_estimators=5..............................\n",
      "[CV 2/5; 12/15] END ............max_depth=40, n_estimators=5; total time= 1.4min\n",
      "[CV 1/5; 13/15] START max_depth=50, n_estimators=1..............................\n",
      "[CV 1/5; 13/15] END ............max_depth=50, n_estimators=1; total time=  19.8s\n",
      "[CV 2/5; 13/15] START max_depth=50, n_estimators=1..............................\n",
      "[CV 2/5; 13/15] END ............max_depth=50, n_estimators=1; total time=  19.5s\n",
      "[CV 4/5; 13/15] START max_depth=50, n_estimators=1..............................\n",
      "[CV 4/5; 13/15] END ............max_depth=50, n_estimators=1; total time=  21.9s\n",
      "[CV 2/5; 14/15] START max_depth=50, n_estimators=3..............................\n",
      "[CV 2/5; 14/15] END ............max_depth=50, n_estimators=3; total time=  52.3s\n",
      "[CV 5/5; 14/15] START max_depth=50, n_estimators=3..............................\n",
      "[CV 5/5; 14/15] END ............max_depth=50, n_estimators=3; total time=  49.4s\n",
      "[CV 4/5; 15/15] START max_depth=50, n_estimators=5..............................\n",
      "[CV 4/5; 15/15] END ............max_depth=50, n_estimators=5; total time= 1.3min\n",
      "[CV 3/5; 1/8] START max_depth=10................................................\n",
      "[CV 3/5; 1/8] END ..............................max_depth=10; total time=  12.8s\n",
      "[CV 2/5; 2/8] START max_depth=20................................................\n",
      "[CV 2/5; 2/8] END ..............................max_depth=20; total time=  30.5s\n",
      "[CV 1/5; 3/8] START max_depth=30................................................\n",
      "[CV 1/5; 3/8] END ..............................max_depth=30; total time=  24.0s\n",
      "[CV 4/5; 3/8] START max_depth=30................................................\n",
      "[CV 4/5; 3/8] END ..............................max_depth=30; total time=  28.2s\n",
      "[CV 3/5; 4/8] START max_depth=40................................................\n",
      "[CV 3/5; 4/8] END ..............................max_depth=40; total time=  27.4s\n",
      "[CV 2/5; 5/8] START max_depth=50................................................\n",
      "[CV 2/5; 5/8] END ..............................max_depth=50; total time=  34.3s\n",
      "[CV 1/5; 6/8] START max_depth=60................................................\n",
      "[CV 1/5; 6/8] END ..............................max_depth=60; total time=  26.3s\n",
      "[CV 5/5; 6/8] START max_depth=60................................................\n",
      "[CV 5/5; 6/8] END ..............................max_depth=60; total time=  30.0s\n",
      "[CV 3/5; 7/8] START max_depth=70................................................\n",
      "[CV 3/5; 7/8] END ..............................max_depth=70; total time=  25.8s\n",
      "[CV 2/5; 8/8] START max_depth=80................................................\n",
      "[CV 2/5; 8/8] END ..............................max_depth=80; total time=  30.9s\n",
      "0:\tlearn: 3061.9104832\ttotal: 507ms\tremaining: 5.07s\n",
      "1:\tlearn: 2368.8588087\ttotal: 1.11s\tremaining: 5s\n",
      "2:\tlearn: 2044.5449774\ttotal: 1.61s\tremaining: 4.3s\n",
      "3:\tlearn: 1899.5622198\ttotal: 2.2s\tremaining: 3.85s\n",
      "[CV 3/5; 1/15] START max_depth=10, n_estimators=1...............................\n",
      "[CV 3/5; 1/15] END .............max_depth=10, n_estimators=1; total time=  10.3s\n",
      "[CV 2/5; 2/15] START max_depth=10, n_estimators=3...............................\n",
      "[CV 2/5; 2/15] END .............max_depth=10, n_estimators=3; total time=  36.0s\n",
      "[CV 5/5; 2/15] START max_depth=10, n_estimators=3...............................\n",
      "[CV 5/5; 2/15] END .............max_depth=10, n_estimators=3; total time=  34.5s\n",
      "[CV 4/5; 3/15] START max_depth=10, n_estimators=5...............................\n",
      "[CV 4/5; 3/15] END .............max_depth=10, n_estimators=5; total time=  54.4s\n",
      "[CV 4/5; 4/15] START max_depth=20, n_estimators=1...............................\n",
      "[CV 4/5; 4/15] END .............max_depth=20, n_estimators=1; total time=  14.9s\n",
      "[CV 2/5; 5/15] START max_depth=20, n_estimators=3...............................\n",
      "[CV 2/5; 5/15] END .............max_depth=20, n_estimators=3; total time=  41.0s\n",
      "[CV 5/5; 5/15] START max_depth=20, n_estimators=3...............................\n",
      "[CV 5/5; 5/15] END .............max_depth=20, n_estimators=3; total time=  43.8s\n",
      "[CV 4/5; 6/15] START max_depth=20, n_estimators=5...............................\n",
      "[CV 4/5; 6/15] END .............max_depth=20, n_estimators=5; total time= 1.3min\n",
      "[CV 3/5; 7/15] START max_depth=30, n_estimators=1...............................\n",
      "[CV 3/5; 7/15] END .............max_depth=30, n_estimators=1; total time=  25.6s\n",
      "[CV 2/5; 8/15] START max_depth=30, n_estimators=3...............................\n",
      "[CV 2/5; 8/15] END .............max_depth=30, n_estimators=3; total time= 1.0min\n",
      "[CV 2/5; 9/15] START max_depth=30, n_estimators=5...............................\n",
      "[CV 2/5; 9/15] END .............max_depth=30, n_estimators=5; total time= 1.4min\n",
      "[CV 5/5; 9/15] START max_depth=30, n_estimators=5...............................\n",
      "[CV 5/5; 9/15] END .............max_depth=30, n_estimators=5; total time= 1.4min\n",
      "[CV 4/5; 11/15] START max_depth=40, n_estimators=3..............................\n",
      "[CV 4/5; 11/15] END ............max_depth=40, n_estimators=3; total time=  57.7s\n",
      "[CV 3/5; 12/15] START max_depth=40, n_estimators=5..............................\n",
      "[CV 3/5; 12/15] END ............max_depth=40, n_estimators=5; total time= 1.7min\n",
      "[CV 3/5; 13/15] START max_depth=50, n_estimators=1..............................\n",
      "[CV 3/5; 13/15] END ............max_depth=50, n_estimators=1; total time=  18.2s\n",
      "[CV 5/5; 13/15] START max_depth=50, n_estimators=1..............................\n",
      "[CV 5/5; 13/15] END ............max_depth=50, n_estimators=1; total time=  22.2s\n",
      "[CV 3/5; 14/15] START max_depth=50, n_estimators=3..............................\n",
      "[CV 3/5; 14/15] END ............max_depth=50, n_estimators=3; total time= 1.0min\n",
      "[CV 2/5; 15/15] START max_depth=50, n_estimators=5..............................\n",
      "[CV 2/5; 15/15] END ............max_depth=50, n_estimators=5; total time= 1.7min\n",
      "[CV 2/5; 1/8] START max_depth=10................................................\n",
      "[CV 2/5; 1/8] END ..............................max_depth=10; total time=  11.4s\n",
      "[CV 1/5; 2/8] START max_depth=20................................................\n",
      "[CV 1/5; 2/8] END ..............................max_depth=20; total time=  31.3s\n",
      "[CV 5/5; 2/8] START max_depth=20................................................\n",
      "[CV 5/5; 2/8] END ..............................max_depth=20; total time=  29.9s\n",
      "[CV 5/5; 3/8] START max_depth=30................................................\n",
      "[CV 5/5; 3/8] END ..............................max_depth=30; total time=  28.6s\n",
      "[CV 4/5; 4/8] START max_depth=40................................................\n",
      "[CV 4/5; 4/8] END ..............................max_depth=40; total time=  34.5s\n",
      "[CV 3/5; 5/8] START max_depth=50................................................\n",
      "[CV 3/5; 5/8] END ..............................max_depth=50; total time=  29.4s\n",
      "[CV 2/5; 6/8] START max_depth=60................................................\n",
      "[CV 2/5; 6/8] END ..............................max_depth=60; total time=  25.4s\n",
      "[CV 1/5; 7/8] START max_depth=70................................................\n",
      "[CV 1/5; 7/8] END ..............................max_depth=70; total time=  30.5s\n",
      "[CV 5/5; 7/8] START max_depth=70................................................\n",
      "[CV 5/5; 7/8] END ..............................max_depth=70; total time=  26.1s\n",
      "[CV 3/5; 8/8] START max_depth=80................................................\n",
      "[CV 3/5; 8/8] END ..............................max_depth=80; total time=  25.7s\n",
      "4:\tlearn: 1779.4566560\ttotal: 2.79s\tremaining: 3.35s\n",
      "5:\tlearn: 1724.2562171\ttotal: 3.31s\tremaining: 2.76s\n",
      "6:\tlearn: 1692.7582321\ttotal: 3.72s\tremaining: 2.13s\n",
      "[CV 1/5; 1/15] START max_depth=10, n_estimators=1...............................\n",
      "[CV 1/5; 1/15] END .............max_depth=10, n_estimators=1; total time=   8.8s\n",
      "[CV 5/5; 1/15] START max_depth=10, n_estimators=1...............................\n",
      "[CV 5/5; 1/15] END .............max_depth=10, n_estimators=1; total time=  12.1s\n",
      "[CV 4/5; 2/15] START max_depth=10, n_estimators=3...............................\n",
      "[CV 4/5; 2/15] END .............max_depth=10, n_estimators=3; total time=  33.5s\n",
      "[CV 2/5; 3/15] START max_depth=10, n_estimators=5...............................\n",
      "[CV 2/5; 3/15] END .............max_depth=10, n_estimators=5; total time= 1.1min\n",
      "[CV 2/5; 4/15] START max_depth=20, n_estimators=1...............................\n",
      "[CV 2/5; 4/15] END .............max_depth=20, n_estimators=1; total time=  19.7s\n",
      "[CV 5/5; 4/15] START max_depth=20, n_estimators=1...............................\n",
      "[CV 5/5; 4/15] END .............max_depth=20, n_estimators=1; total time=  20.4s\n",
      "[CV 3/5; 5/15] START max_depth=20, n_estimators=3...............................\n",
      "[CV 3/5; 5/15] END .............max_depth=20, n_estimators=3; total time=  46.0s\n",
      "[CV 2/5; 6/15] START max_depth=20, n_estimators=5...............................\n",
      "[CV 2/5; 6/15] END .............max_depth=20, n_estimators=5; total time= 1.3min\n",
      "[CV 5/5; 6/15] START max_depth=20, n_estimators=5...............................\n",
      "[CV 5/5; 6/15] END .............max_depth=20, n_estimators=5; total time= 1.2min\n",
      "[CV 4/5; 8/15] START max_depth=30, n_estimators=3...............................\n",
      "[CV 4/5; 8/15] END .............max_depth=30, n_estimators=3; total time=  58.4s\n",
      "[CV 3/5; 9/15] START max_depth=30, n_estimators=5...............................\n",
      "[CV 3/5; 9/15] END .............max_depth=30, n_estimators=5; total time= 1.5min\n",
      "[CV 2/5; 10/15] START max_depth=40, n_estimators=1..............................\n",
      "[CV 2/5; 10/15] END ............max_depth=40, n_estimators=1; total time=  18.8s\n",
      "[CV 4/5; 10/15] START max_depth=40, n_estimators=1..............................\n",
      "[CV 4/5; 10/15] END ............max_depth=40, n_estimators=1; total time=  16.5s\n",
      "[CV 2/5; 11/15] START max_depth=40, n_estimators=3..............................\n",
      "[CV 2/5; 11/15] END ............max_depth=40, n_estimators=3; total time= 1.0min\n",
      "[CV 1/5; 12/15] START max_depth=40, n_estimators=5..............................\n",
      "[CV 1/5; 12/15] END ............max_depth=40, n_estimators=5; total time= 1.4min\n",
      "[CV 5/5; 12/15] START max_depth=40, n_estimators=5..............................\n",
      "[CV 5/5; 12/15] END ............max_depth=40, n_estimators=5; total time= 1.6min\n",
      "[CV 4/5; 14/15] START max_depth=50, n_estimators=3..............................\n",
      "[CV 4/5; 14/15] END ............max_depth=50, n_estimators=3; total time=  55.0s\n",
      "[CV 3/5; 15/15] START max_depth=50, n_estimators=5..............................\n",
      "[CV 3/5; 15/15] END ............max_depth=50, n_estimators=5; total time= 1.5min\n",
      "[CV 1/5; 1/8] START max_depth=10................................................\n",
      "[CV 1/5; 1/8] END ..............................max_depth=10; total time=  11.3s\n",
      "[CV 5/5; 1/8] START max_depth=10................................................\n",
      "[CV 5/5; 1/8] END ..............................max_depth=10; total time=  19.0s\n",
      "[CV 4/5; 2/8] START max_depth=20................................................\n",
      "[CV 4/5; 2/8] END ..............................max_depth=20; total time=  31.9s\n",
      "[CV 3/5; 3/8] START max_depth=30................................................\n",
      "[CV 3/5; 3/8] END ..............................max_depth=30; total time=  24.6s\n",
      "[CV 2/5; 4/8] START max_depth=40................................................\n",
      "[CV 2/5; 4/8] END ..............................max_depth=40; total time=  30.8s\n",
      "[CV 1/5; 5/8] START max_depth=50................................................\n",
      "[CV 1/5; 5/8] END ..............................max_depth=50; total time=  34.8s\n",
      "[CV 5/5; 5/8] START max_depth=50................................................\n",
      "[CV 5/5; 5/8] END ..............................max_depth=50; total time=  29.0s\n",
      "[CV 4/5; 6/8] START max_depth=60................................................\n",
      "[CV 4/5; 6/8] END ..............................max_depth=60; total time=  33.5s\n",
      "[CV 4/5; 7/8] START max_depth=70................................................\n",
      "[CV 4/5; 7/8] END ..............................max_depth=70; total time=  33.2s\n",
      "[CV 4/5; 8/8] START max_depth=80................................................\n",
      "[CV 4/5; 8/8] END ..............................max_depth=80; total time=  26.2s\n",
      "7:\tlearn: 1665.3473981\ttotal: 4.2s\tremaining: 1.58s\n",
      "8:\tlearn: 1634.9811523\ttotal: 4.83s\tremaining: 1.07s\n",
      "9:\tlearn: 1619.4522075\ttotal: 5.31s\tremaining: 531ms\n",
      "10:\tlearn: 1598.8005916\ttotal: 5.89s\tremaining: 0us\n",
      "[CV 5/5; 16/18] END .................depth=14, iterations=11; total time=   7.1s\n",
      "[CV 1/5; 17/18] START depth=14, iterations=13...................................\n",
      "0:\tlearn: 3038.9875800\ttotal: 453ms\tremaining: 5.43s\n",
      "[CV 2/5; 1/15] START max_depth=10, n_estimators=1...............................\n",
      "[CV 2/5; 1/15] END .............max_depth=10, n_estimators=1; total time=   9.0s\n",
      "[CV 1/5; 2/15] START max_depth=10, n_estimators=3...............................\n",
      "[CV 1/5; 2/15] END .............max_depth=10, n_estimators=3; total time=  39.7s\n",
      "[CV 1/5; 3/15] START max_depth=10, n_estimators=5...............................\n",
      "[CV 1/5; 3/15] END .............max_depth=10, n_estimators=5; total time= 1.1min\n",
      "[CV 1/5; 4/15] START max_depth=20, n_estimators=1...............................\n",
      "[CV 1/5; 4/15] END .............max_depth=20, n_estimators=1; total time=  16.5s\n",
      "[CV 3/5; 4/15] START max_depth=20, n_estimators=1...............................\n",
      "[CV 3/5; 4/15] END .............max_depth=20, n_estimators=1; total time=  18.9s\n",
      "[CV 1/5; 5/15] START max_depth=20, n_estimators=3...............................\n",
      "[CV 1/5; 5/15] END .............max_depth=20, n_estimators=3; total time=  53.9s\n",
      "[CV 1/5; 6/15] START max_depth=20, n_estimators=5...............................\n",
      "[CV 1/5; 6/15] END .............max_depth=20, n_estimators=5; total time= 1.5min\n",
      "[CV 1/5; 7/15] START max_depth=30, n_estimators=1...............................\n",
      "[CV 1/5; 7/15] END .............max_depth=30, n_estimators=1; total time=  21.6s\n",
      "[CV 4/5; 7/15] START max_depth=30, n_estimators=1...............................\n",
      "[CV 4/5; 7/15] END .............max_depth=30, n_estimators=1; total time=  16.8s\n",
      "[CV 1/5; 8/15] START max_depth=30, n_estimators=3...............................\n",
      "[CV 1/5; 8/15] END .............max_depth=30, n_estimators=3; total time=  55.7s\n",
      "[CV 5/5; 8/15] START max_depth=30, n_estimators=3...............................\n",
      "[CV 5/5; 8/15] END .............max_depth=30, n_estimators=3; total time= 1.0min\n",
      "[CV 4/5; 9/15] START max_depth=30, n_estimators=5...............................\n",
      "[CV 4/5; 9/15] END .............max_depth=30, n_estimators=5; total time= 1.4min\n",
      "[CV 1/5; 11/15] START max_depth=40, n_estimators=3..............................\n",
      "[CV 1/5; 11/15] END ............max_depth=40, n_estimators=3; total time=  57.2s\n",
      "[CV 5/5; 11/15] START max_depth=40, n_estimators=3..............................\n",
      "[CV 5/5; 11/15] END ............max_depth=40, n_estimators=3; total time=  55.4s\n",
      "[CV 4/5; 12/15] START max_depth=40, n_estimators=5..............................\n",
      "[CV 4/5; 12/15] END ............max_depth=40, n_estimators=5; total time= 1.8min\n",
      "[CV 1/5; 14/15] START max_depth=50, n_estimators=3..............................\n",
      "[CV 1/5; 14/15] END ............max_depth=50, n_estimators=3; total time= 1.0min\n",
      "[CV 1/5; 15/15] START max_depth=50, n_estimators=5..............................\n",
      "[CV 1/5; 15/15] END ............max_depth=50, n_estimators=5; total time= 1.6min\n",
      "[CV 5/5; 15/15] START max_depth=50, n_estimators=5..............................\n",
      "[CV 5/5; 15/15] END ............max_depth=50, n_estimators=5; total time=  35.1s\n",
      "[CV 4/5; 1/8] START max_depth=10................................................\n",
      "[CV 4/5; 1/8] END ..............................max_depth=10; total time=  14.3s\n",
      "[CV 3/5; 2/8] START max_depth=20................................................\n",
      "[CV 3/5; 2/8] END ..............................max_depth=20; total time=  25.7s\n",
      "[CV 2/5; 3/8] START max_depth=30................................................\n",
      "[CV 2/5; 3/8] END ..............................max_depth=30; total time=  25.6s\n",
      "[CV 1/5; 4/8] START max_depth=40................................................\n",
      "[CV 1/5; 4/8] END ..............................max_depth=40; total time=  34.1s\n",
      "[CV 5/5; 4/8] START max_depth=40................................................\n",
      "[CV 5/5; 4/8] END ..............................max_depth=40; total time=  34.4s\n",
      "[CV 4/5; 5/8] START max_depth=50................................................\n",
      "[CV 4/5; 5/8] END ..............................max_depth=50; total time=  31.1s\n",
      "[CV 3/5; 6/8] START max_depth=60................................................\n",
      "[CV 3/5; 6/8] END ..............................max_depth=60; total time=  27.5s\n",
      "[CV 2/5; 7/8] START max_depth=70................................................\n",
      "[CV 2/5; 7/8] END ..............................max_depth=70; total time=  32.1s\n",
      "[CV 1/5; 8/8] START max_depth=80................................................\n",
      "[CV 1/5; 8/8] END ..............................max_depth=80; total time=  29.3s\n",
      "[CV 5/5; 8/8] START max_depth=80................................................\n",
      "[CV 5/5; 8/8] END ..............................max_depth=80; total time=  12.5s\n",
      "1:\tlearn: 2361.3202959\ttotal: 1.15s\tremaining: 6.32s\n",
      "2:\tlearn: 2027.3662852\ttotal: 1.65s\tremaining: 5.5s\n",
      "3:\tlearn: 1867.2867476\ttotal: 2.17s\tremaining: 4.87s\n",
      "4:\tlearn: 1785.8209890\ttotal: 2.75s\tremaining: 4.4s\n",
      "5:\tlearn: 1708.0895491\ttotal: 3.27s\tremaining: 3.81s\n",
      "6:\tlearn: 1674.5436548\ttotal: 3.76s\tremaining: 3.22s\n",
      "7:\tlearn: 1634.3964617\ttotal: 4.25s\tremaining: 2.66s\n",
      "8:\tlearn: 1615.8916599\ttotal: 4.66s\tremaining: 2.07s\n",
      "9:\tlearn: 1600.2655486\ttotal: 5.07s\tremaining: 1.52s\n",
      "10:\tlearn: 1578.3999023\ttotal: 5.54s\tremaining: 1.01s\n",
      "11:\tlearn: 1570.8918823\ttotal: 5.94s\tremaining: 495ms\n",
      "12:\tlearn: 1560.0510680\ttotal: 6.35s\tremaining: 0us\n",
      "[CV 1/5; 17/18] END .................depth=14, iterations=13; total time=   7.5s\n",
      "[CV 2/5; 17/18] START depth=14, iterations=13...................................\n",
      "0:\tlearn: 3037.7104092\ttotal: 345ms\tremaining: 4.14s\n",
      "1:\tlearn: 2383.5568163\ttotal: 757ms\tremaining: 4.17s\n",
      "2:\tlearn: 2035.7834216\ttotal: 1.26s\tremaining: 4.19s\n",
      "3:\tlearn: 1870.3957751\ttotal: 1.76s\tremaining: 3.96s\n",
      "4:\tlearn: 1786.2044271\ttotal: 2.35s\tremaining: 3.77s\n",
      "5:\tlearn: 1722.4202903\ttotal: 2.96s\tremaining: 3.45s\n",
      "6:\tlearn: 1680.3375703\ttotal: 3.36s\tremaining: 2.88s\n",
      "7:\tlearn: 1660.0819265\ttotal: 3.85s\tremaining: 2.4s\n",
      "8:\tlearn: 1639.8239251\ttotal: 4.26s\tremaining: 1.89s\n",
      "9:\tlearn: 1623.8130227\ttotal: 4.76s\tremaining: 1.43s\n",
      "10:\tlearn: 1608.5684514\ttotal: 5.25s\tremaining: 954ms\n",
      "11:\tlearn: 1585.4431206\ttotal: 5.74s\tremaining: 478ms\n",
      "12:\tlearn: 1571.6567611\ttotal: 6.17s\tremaining: 0us\n",
      "[CV 2/5; 17/18] END .................depth=14, iterations=13; total time=   7.2s\n",
      "[CV 3/5; 17/18] START depth=14, iterations=13...................................\n",
      "0:\tlearn: 3058.8624063\ttotal: 333ms\tremaining: 4s\n",
      "1:\tlearn: 2402.8531033\ttotal: 754ms\tremaining: 4.15s\n",
      "2:\tlearn: 2045.6928208\ttotal: 1.25s\tremaining: 4.17s\n",
      "3:\tlearn: 1857.9455053\ttotal: 1.75s\tremaining: 3.94s\n",
      "4:\tlearn: 1773.1830680\ttotal: 2.33s\tremaining: 3.73s\n",
      "5:\tlearn: 1713.6337257\ttotal: 2.83s\tremaining: 3.3s\n",
      "6:\tlearn: 1678.3140085\ttotal: 3.25s\tremaining: 2.79s\n",
      "7:\tlearn: 1633.7349797\ttotal: 3.75s\tremaining: 2.35s\n",
      "8:\tlearn: 1611.0190861\ttotal: 4.24s\tremaining: 1.89s\n",
      "9:\tlearn: 1595.5654944\ttotal: 4.73s\tremaining: 1.42s\n",
      "10:\tlearn: 1585.2324433\ttotal: 5.24s\tremaining: 953ms\n",
      "11:\tlearn: 1572.4540909\ttotal: 5.75s\tremaining: 479ms\n",
      "12:\tlearn: 1572.0721188\ttotal: 5.83s\tremaining: 0us\n",
      "[CV 3/5; 17/18] END .................depth=14, iterations=13; total time=   6.9s\n",
      "[CV 4/5; 17/18] START depth=14, iterations=13...................................\n",
      "0:\tlearn: 3060.1911173\ttotal: 346ms\tremaining: 4.16s\n",
      "1:\tlearn: 2386.1543579\ttotal: 766ms\tremaining: 4.21s\n",
      "2:\tlearn: 2032.5326193\ttotal: 1.26s\tremaining: 4.22s\n",
      "3:\tlearn: 1860.0049152\ttotal: 1.75s\tremaining: 3.94s\n",
      "4:\tlearn: 1763.2125466\ttotal: 2.17s\tremaining: 3.48s\n",
      "5:\tlearn: 1710.0942077\ttotal: 2.65s\tremaining: 3.09s\n",
      "6:\tlearn: 1679.1762639\ttotal: 3.15s\tremaining: 2.7s\n",
      "7:\tlearn: 1656.0141111\ttotal: 3.64s\tremaining: 2.28s\n",
      "8:\tlearn: 1644.7228609\ttotal: 4.07s\tremaining: 1.81s\n",
      "9:\tlearn: 1632.7158902\ttotal: 4.55s\tremaining: 1.37s\n",
      "10:\tlearn: 1607.3363882\ttotal: 5.05s\tremaining: 918ms\n",
      "11:\tlearn: 1592.7019009\ttotal: 5.54s\tremaining: 462ms\n",
      "12:\tlearn: 1580.4352636\ttotal: 6.03s\tremaining: 0us\n",
      "[CV 4/5; 17/18] END .................depth=14, iterations=13; total time=   7.3s\n",
      "[CV 5/5; 17/18] START depth=14, iterations=13...................................\n",
      "0:\tlearn: 3061.9104832\ttotal: 407ms\tremaining: 4.89s\n",
      "1:\tlearn: 2368.8588087\ttotal: 877ms\tremaining: 4.82s\n",
      "2:\tlearn: 2044.5449774\ttotal: 1.37s\tremaining: 4.58s\n",
      "3:\tlearn: 1899.5622198\ttotal: 1.87s\tremaining: 4.21s\n",
      "4:\tlearn: 1779.4566560\ttotal: 2.31s\tremaining: 3.69s\n",
      "5:\tlearn: 1724.2562171\ttotal: 2.79s\tremaining: 3.26s\n",
      "6:\tlearn: 1692.7582321\ttotal: 3.29s\tremaining: 2.82s\n",
      "7:\tlearn: 1665.3473981\ttotal: 3.79s\tremaining: 2.37s\n",
      "8:\tlearn: 1634.9811523\ttotal: 4.27s\tremaining: 1.9s\n",
      "9:\tlearn: 1619.4522075\ttotal: 4.7s\tremaining: 1.41s\n",
      "10:\tlearn: 1598.8005916\ttotal: 5.19s\tremaining: 944ms\n",
      "11:\tlearn: 1582.7167470\ttotal: 5.69s\tremaining: 474ms\n",
      "12:\tlearn: 1567.8185215\ttotal: 6.1s\tremaining: 0us\n",
      "[CV 5/5; 17/18] END .................depth=14, iterations=13; total time=   7.2s\n",
      "[CV 1/5; 18/18] START depth=14, iterations=15...................................\n",
      "0:\tlearn: 3038.9875800\ttotal: 356ms\tremaining: 4.99s\n",
      "1:\tlearn: 2361.3202959\ttotal: 933ms\tremaining: 6.06s\n",
      "2:\tlearn: 2027.3662852\ttotal: 1.34s\tremaining: 5.36s\n",
      "3:\tlearn: 1867.2867476\ttotal: 1.84s\tremaining: 5.06s\n",
      "4:\tlearn: 1785.8209890\ttotal: 2.26s\tremaining: 4.52s\n",
      "5:\tlearn: 1708.0895491\ttotal: 2.74s\tremaining: 4.11s\n",
      "6:\tlearn: 1674.5436548\ttotal: 3.24s\tremaining: 3.7s\n",
      "7:\tlearn: 1634.3964617\ttotal: 3.73s\tremaining: 3.27s\n",
      "8:\tlearn: 1615.8916599\ttotal: 4.16s\tremaining: 2.77s\n",
      "9:\tlearn: 1600.2655486\ttotal: 4.64s\tremaining: 2.32s\n",
      "10:\tlearn: 1578.3999023\ttotal: 5.14s\tremaining: 1.87s\n",
      "11:\tlearn: 1570.8918823\ttotal: 5.63s\tremaining: 1.41s\n",
      "12:\tlearn: 1560.0510680\ttotal: 6.13s\tremaining: 943ms\n",
      "13:\tlearn: 1545.3524155\ttotal: 6.55s\tremaining: 468ms\n",
      "14:\tlearn: 1536.5084824\ttotal: 7.13s\tremaining: 0us\n",
      "[CV 1/5; 18/18] END .................depth=14, iterations=15; total time=   8.5s\n",
      "[CV 2/5; 18/18] START depth=14, iterations=15...................................\n",
      "0:\tlearn: 3037.7104092\ttotal: 444ms\tremaining: 6.21s\n",
      "1:\tlearn: 2383.5568163\ttotal: 1.02s\tremaining: 6.64s\n",
      "2:\tlearn: 2035.7834216\ttotal: 1.45s\tremaining: 5.79s\n",
      "3:\tlearn: 1870.3957751\ttotal: 1.94s\tremaining: 5.33s\n",
      "4:\tlearn: 1786.2044271\ttotal: 2.44s\tremaining: 4.87s\n",
      "5:\tlearn: 1722.4202903\ttotal: 2.93s\tremaining: 4.4s\n",
      "6:\tlearn: 1680.3375703\ttotal: 3.44s\tremaining: 3.93s\n",
      "7:\tlearn: 1660.0819265\ttotal: 3.92s\tremaining: 3.43s\n",
      "8:\tlearn: 1639.8239251\ttotal: 4.34s\tremaining: 2.89s\n",
      "9:\tlearn: 1623.8130227\ttotal: 4.92s\tremaining: 2.46s\n",
      "10:\tlearn: 1608.5684514\ttotal: 5.42s\tremaining: 1.97s\n",
      "11:\tlearn: 1585.4431206\ttotal: 5.92s\tremaining: 1.48s\n",
      "12:\tlearn: 1571.6567611\ttotal: 6.32s\tremaining: 973ms\n",
      "13:\tlearn: 1554.7518250\ttotal: 6.73s\tremaining: 481ms\n",
      "14:\tlearn: 1535.9056641\ttotal: 7.21s\tremaining: 0us\n",
      "[CV 2/5; 18/18] END .................depth=14, iterations=15; total time=   8.5s\n",
      "[CV 3/5; 18/18] START depth=14, iterations=15...................................\n",
      "0:\tlearn: 3058.8624063\ttotal: 368ms\tremaining: 5.16s\n",
      "1:\tlearn: 2402.8531033\ttotal: 914ms\tremaining: 5.94s\n",
      "2:\tlearn: 2045.6928208\ttotal: 1.42s\tremaining: 5.66s\n",
      "3:\tlearn: 1857.9455053\ttotal: 1.83s\tremaining: 5.04s\n",
      "4:\tlearn: 1773.1830680\ttotal: 2.32s\tremaining: 4.64s\n",
      "5:\tlearn: 1713.6337257\ttotal: 2.73s\tremaining: 4.09s\n",
      "6:\tlearn: 1678.3140085\ttotal: 3.23s\tremaining: 3.69s\n",
      "7:\tlearn: 1633.7349797\ttotal: 3.82s\tremaining: 3.34s\n",
      "8:\tlearn: 1611.0190861\ttotal: 4.33s\tremaining: 2.89s\n",
      "9:\tlearn: 1595.5654944\ttotal: 4.91s\tremaining: 2.46s\n",
      "10:\tlearn: 1585.2324433\ttotal: 5.43s\tremaining: 1.97s\n",
      "11:\tlearn: 1572.4540909\ttotal: 6.02s\tremaining: 1.5s\n",
      "12:\tlearn: 1572.0721188\ttotal: 6.11s\tremaining: 940ms\n",
      "13:\tlearn: 1555.8266033\ttotal: 6.63s\tremaining: 473ms\n",
      "14:\tlearn: 1543.0173684\ttotal: 7.12s\tremaining: 0us\n",
      "[CV 3/5; 18/18] END .................depth=14, iterations=15; total time=   8.4s\n",
      "[CV 4/5; 18/18] START depth=14, iterations=15...................................\n",
      "0:\tlearn: 3060.1911173\ttotal: 362ms\tremaining: 5.06s\n",
      "1:\tlearn: 2386.1543579\ttotal: 810ms\tremaining: 5.27s\n",
      "2:\tlearn: 2032.5326193\ttotal: 1.22s\tremaining: 4.89s\n",
      "3:\tlearn: 1860.0049152\ttotal: 1.71s\tremaining: 4.7s\n",
      "4:\tlearn: 1763.2125466\ttotal: 2.12s\tremaining: 4.24s\n",
      "5:\tlearn: 1710.0942077\ttotal: 2.52s\tremaining: 3.78s\n",
      "6:\tlearn: 1679.1762639\ttotal: 2.94s\tremaining: 3.36s\n",
      "7:\tlearn: 1656.0141111\ttotal: 3.4s\tremaining: 2.98s\n",
      "8:\tlearn: 1644.7228609\ttotal: 3.82s\tremaining: 2.55s\n",
      "9:\tlearn: 1632.7158902\ttotal: 4.31s\tremaining: 2.15s\n",
      "10:\tlearn: 1607.3363882\ttotal: 4.73s\tremaining: 1.72s\n",
      "11:\tlearn: 1592.7019009\ttotal: 5.15s\tremaining: 1.29s\n",
      "12:\tlearn: 1580.4352636\ttotal: 5.64s\tremaining: 868ms\n",
      "13:\tlearn: 1567.5015222\ttotal: 6.13s\tremaining: 438ms\n",
      "14:\tlearn: 1553.6209177\ttotal: 6.55s\tremaining: 0us\n",
      "[CV 4/5; 18/18] END .................depth=14, iterations=15; total time=   7.7s\n",
      "[CV 5/5; 18/18] START depth=14, iterations=15...................................\n",
      "0:\tlearn: 3061.9104832\ttotal: 410ms\tremaining: 5.74s\n",
      "1:\tlearn: 2368.8588087\ttotal: 834ms\tremaining: 5.42s\n",
      "2:\tlearn: 2044.5449774\ttotal: 1.31s\tremaining: 5.26s\n",
      "3:\tlearn: 1899.5622198\ttotal: 1.72s\tremaining: 4.73s\n",
      "4:\tlearn: 1779.4566560\ttotal: 2.13s\tremaining: 4.25s\n",
      "5:\tlearn: 1724.2562171\ttotal: 2.54s\tremaining: 3.82s\n",
      "6:\tlearn: 1692.7582321\ttotal: 3.01s\tremaining: 3.44s\n",
      "7:\tlearn: 1665.3473981\ttotal: 3.41s\tremaining: 2.98s\n",
      "8:\tlearn: 1634.9811523\ttotal: 3.82s\tremaining: 2.54s\n",
      "9:\tlearn: 1619.4522075\ttotal: 4.22s\tremaining: 2.11s\n",
      "10:\tlearn: 1598.8005916\ttotal: 4.62s\tremaining: 1.68s\n",
      "11:\tlearn: 1582.7167470\ttotal: 5.03s\tremaining: 1.26s\n",
      "12:\tlearn: 1567.8185215\ttotal: 5.42s\tremaining: 834ms\n",
      "13:\tlearn: 1554.2849778\ttotal: 5.83s\tremaining: 417ms\n",
      "14:\tlearn: 1542.9288534\ttotal: 6.3s\tremaining: 0us\n",
      "[CV 5/5; 18/18] END .................depth=14, iterations=15; total time=   7.5s\n",
      "0:\tlearn: 3031.4721252\ttotal: 440ms\tremaining: 6.15s\n",
      "1:\tlearn: 2377.6224511\ttotal: 1.01s\tremaining: 6.57s\n",
      "2:\tlearn: 2032.8961548\ttotal: 1.52s\tremaining: 6.09s\n",
      "3:\tlearn: 1864.6668596\ttotal: 2.02s\tremaining: 5.56s\n",
      "4:\tlearn: 1791.9348645\ttotal: 2.53s\tremaining: 5.05s\n",
      "5:\tlearn: 1728.6109295\ttotal: 3.03s\tremaining: 4.55s\n",
      "6:\tlearn: 1698.7831873\ttotal: 3.51s\tremaining: 4.01s\n",
      "7:\tlearn: 1662.7993722\ttotal: 3.93s\tremaining: 3.44s\n",
      "8:\tlearn: 1650.9697867\ttotal: 4.41s\tremaining: 2.94s\n",
      "9:\tlearn: 1627.9881330\ttotal: 4.83s\tremaining: 2.42s\n",
      "10:\tlearn: 1613.7456794\ttotal: 5.31s\tremaining: 1.93s\n",
      "11:\tlearn: 1598.5792577\ttotal: 5.8s\tremaining: 1.45s\n",
      "12:\tlearn: 1587.4412804\ttotal: 6.21s\tremaining: 956ms\n",
      "13:\tlearn: 1576.6816931\ttotal: 6.72s\tremaining: 480ms\n",
      "14:\tlearn: 1567.0251556\ttotal: 7.22s\tremaining: 0us\n",
      "The best score of CB is: -1683.1298718419537\n",
      "CPU times: user 4min 53s, sys: 17.7 s, total: 5min 10s\n",
      "Wall time: 6min 17s\n"
     ]
    }
   ],
   "source": [
    "%%time\n",
    "CAT_model = enc_m.CAT_model();"
   ]
  },
  {
   "cell_type": "markdown",
   "id": "5e160cf3",
   "metadata": {},
   "source": [
    "**LGBMRegressor**"
   ]
  },
  {
   "cell_type": "code",
   "execution_count": 58,
   "id": "633329d3",
   "metadata": {
    "scrolled": true
   },
   "outputs": [
    {
     "name": "stdout",
     "output_type": "stream",
     "text": [
      "Fitting 5 folds for each of 75 candidates, totalling 375 fits\n",
      "[CV 1/5; 1/75] START max_depth=10, n_estimators=10, num_leaves=20...............\n",
      "[CV 1/5; 1/75] END max_depth=10, n_estimators=10, num_leaves=20; total time=   0.6s\n",
      "[CV 2/5; 1/75] START max_depth=10, n_estimators=10, num_leaves=20...............\n",
      "[CV 2/5; 1/75] END max_depth=10, n_estimators=10, num_leaves=20; total time=   0.7s\n",
      "[CV 3/5; 1/75] START max_depth=10, n_estimators=10, num_leaves=20...............\n",
      "[CV 3/5; 1/75] END max_depth=10, n_estimators=10, num_leaves=20; total time=   0.5s\n",
      "[CV 4/5; 1/75] START max_depth=10, n_estimators=10, num_leaves=20...............\n",
      "[CV 4/5; 1/75] END max_depth=10, n_estimators=10, num_leaves=20; total time=   0.5s\n",
      "[CV 5/5; 1/75] START max_depth=10, n_estimators=10, num_leaves=20...............\n",
      "[CV 5/5; 1/75] END max_depth=10, n_estimators=10, num_leaves=20; total time=   0.5s\n",
      "[CV 1/5; 2/75] START max_depth=10, n_estimators=10, num_leaves=40...............\n",
      "[CV 1/5; 2/75] END max_depth=10, n_estimators=10, num_leaves=40; total time=   0.6s\n",
      "[CV 2/5; 2/75] START max_depth=10, n_estimators=10, num_leaves=40...............\n",
      "[CV 2/5; 2/75] END max_depth=10, n_estimators=10, num_leaves=40; total time=   0.7s\n",
      "[CV 3/5; 2/75] START max_depth=10, n_estimators=10, num_leaves=40...............\n",
      "[CV 3/5; 2/75] END max_depth=10, n_estimators=10, num_leaves=40; total time=   0.7s\n",
      "[CV 4/5; 2/75] START max_depth=10, n_estimators=10, num_leaves=40...............\n",
      "[CV 4/5; 2/75] END max_depth=10, n_estimators=10, num_leaves=40; total time=   0.7s\n",
      "[CV 5/5; 2/75] START max_depth=10, n_estimators=10, num_leaves=40...............\n",
      "[CV 5/5; 2/75] END max_depth=10, n_estimators=10, num_leaves=40; total time=   0.7s\n",
      "[CV 1/5; 3/75] START max_depth=10, n_estimators=10, num_leaves=60...............\n",
      "[CV 1/5; 3/75] END max_depth=10, n_estimators=10, num_leaves=60; total time=   0.6s\n",
      "[CV 2/5; 3/75] START max_depth=10, n_estimators=10, num_leaves=60...............\n",
      "[CV 2/5; 3/75] END max_depth=10, n_estimators=10, num_leaves=60; total time=   0.7s\n",
      "[CV 3/5; 3/75] START max_depth=10, n_estimators=10, num_leaves=60...............\n",
      "[CV 3/5; 3/75] END max_depth=10, n_estimators=10, num_leaves=60; total time=   0.8s\n",
      "[CV 4/5; 3/75] START max_depth=10, n_estimators=10, num_leaves=60...............\n",
      "[CV 4/5; 3/75] END max_depth=10, n_estimators=10, num_leaves=60; total time=   0.8s\n",
      "[CV 5/5; 3/75] START max_depth=10, n_estimators=10, num_leaves=60...............\n",
      "[CV 5/5; 3/75] END max_depth=10, n_estimators=10, num_leaves=60; total time=   0.7s\n",
      "[CV 1/5; 4/75] START max_depth=10, n_estimators=10, num_leaves=80...............\n",
      "[CV 1/5; 4/75] END max_depth=10, n_estimators=10, num_leaves=80; total time=   0.7s\n",
      "[CV 2/5; 4/75] START max_depth=10, n_estimators=10, num_leaves=80...............\n",
      "[CV 2/5; 4/75] END max_depth=10, n_estimators=10, num_leaves=80; total time=   0.8s\n",
      "[CV 3/5; 4/75] START max_depth=10, n_estimators=10, num_leaves=80...............\n",
      "[CV 3/5; 4/75] END max_depth=10, n_estimators=10, num_leaves=80; total time=   0.9s\n",
      "[CV 4/5; 4/75] START max_depth=10, n_estimators=10, num_leaves=80...............\n",
      "[CV 4/5; 4/75] END max_depth=10, n_estimators=10, num_leaves=80; total time=   0.9s\n",
      "[CV 5/5; 4/75] START max_depth=10, n_estimators=10, num_leaves=80...............\n",
      "[CV 5/5; 4/75] END max_depth=10, n_estimators=10, num_leaves=80; total time=   0.8s\n",
      "[CV 1/5; 5/75] START max_depth=10, n_estimators=10, num_leaves=100..............\n",
      "[CV 1/5; 5/75] END max_depth=10, n_estimators=10, num_leaves=100; total time=   0.8s\n",
      "[CV 2/5; 5/75] START max_depth=10, n_estimators=10, num_leaves=100..............\n",
      "[CV 2/5; 5/75] END max_depth=10, n_estimators=10, num_leaves=100; total time=   0.7s\n",
      "[CV 3/5; 5/75] START max_depth=10, n_estimators=10, num_leaves=100..............\n",
      "[CV 3/5; 5/75] END max_depth=10, n_estimators=10, num_leaves=100; total time=   0.7s\n",
      "[CV 4/5; 5/75] START max_depth=10, n_estimators=10, num_leaves=100..............\n",
      "[CV 4/5; 5/75] END max_depth=10, n_estimators=10, num_leaves=100; total time=   0.8s\n",
      "[CV 5/5; 5/75] START max_depth=10, n_estimators=10, num_leaves=100..............\n",
      "[CV 5/5; 5/75] END max_depth=10, n_estimators=10, num_leaves=100; total time=   0.9s\n",
      "[CV 1/5; 6/75] START max_depth=10, n_estimators=20, num_leaves=20...............\n",
      "[CV 1/5; 6/75] END max_depth=10, n_estimators=20, num_leaves=20; total time=   0.9s\n",
      "[CV 2/5; 6/75] START max_depth=10, n_estimators=20, num_leaves=20...............\n",
      "[CV 2/5; 6/75] END max_depth=10, n_estimators=20, num_leaves=20; total time=   0.8s\n",
      "[CV 3/5; 6/75] START max_depth=10, n_estimators=20, num_leaves=20...............\n",
      "[CV 3/5; 6/75] END max_depth=10, n_estimators=20, num_leaves=20; total time=   1.0s\n",
      "[CV 4/5; 6/75] START max_depth=10, n_estimators=20, num_leaves=20...............\n",
      "[CV 4/5; 6/75] END max_depth=10, n_estimators=20, num_leaves=20; total time=   0.8s\n",
      "[CV 5/5; 6/75] START max_depth=10, n_estimators=20, num_leaves=20...............\n",
      "[CV 5/5; 6/75] END max_depth=10, n_estimators=20, num_leaves=20; total time=   0.7s\n",
      "[CV 1/5; 7/75] START max_depth=10, n_estimators=20, num_leaves=40...............\n",
      "[CV 1/5; 7/75] END max_depth=10, n_estimators=20, num_leaves=40; total time=   0.9s\n",
      "[CV 2/5; 7/75] START max_depth=10, n_estimators=20, num_leaves=40...............\n",
      "[CV 2/5; 7/75] END max_depth=10, n_estimators=20, num_leaves=40; total time=   0.8s\n",
      "[CV 3/5; 7/75] START max_depth=10, n_estimators=20, num_leaves=40...............\n",
      "[CV 3/5; 7/75] END max_depth=10, n_estimators=20, num_leaves=40; total time=   0.8s\n",
      "[CV 4/5; 7/75] START max_depth=10, n_estimators=20, num_leaves=40...............\n",
      "[CV 4/5; 7/75] END max_depth=10, n_estimators=20, num_leaves=40; total time=   0.9s\n",
      "[CV 5/5; 7/75] START max_depth=10, n_estimators=20, num_leaves=40...............\n",
      "[CV 5/5; 7/75] END max_depth=10, n_estimators=20, num_leaves=40; total time=   0.9s\n",
      "[CV 1/5; 8/75] START max_depth=10, n_estimators=20, num_leaves=60...............\n",
      "[CV 1/5; 8/75] END max_depth=10, n_estimators=20, num_leaves=60; total time=   1.2s\n",
      "[CV 2/5; 8/75] START max_depth=10, n_estimators=20, num_leaves=60...............\n",
      "[CV 2/5; 8/75] END max_depth=10, n_estimators=20, num_leaves=60; total time=   1.1s\n",
      "[CV 3/5; 8/75] START max_depth=10, n_estimators=20, num_leaves=60...............\n",
      "[CV 3/5; 8/75] END max_depth=10, n_estimators=20, num_leaves=60; total time=   1.1s\n",
      "[CV 4/5; 8/75] START max_depth=10, n_estimators=20, num_leaves=60...............\n",
      "[CV 4/5; 8/75] END max_depth=10, n_estimators=20, num_leaves=60; total time=   1.2s\n",
      "[CV 5/5; 8/75] START max_depth=10, n_estimators=20, num_leaves=60...............\n",
      "[CV 5/5; 8/75] END max_depth=10, n_estimators=20, num_leaves=60; total time=   1.1s\n",
      "[CV 1/5; 9/75] START max_depth=10, n_estimators=20, num_leaves=80...............\n",
      "[CV 1/5; 9/75] END max_depth=10, n_estimators=20, num_leaves=80; total time=   1.2s\n",
      "[CV 2/5; 9/75] START max_depth=10, n_estimators=20, num_leaves=80...............\n",
      "[CV 2/5; 9/75] END max_depth=10, n_estimators=20, num_leaves=80; total time=   1.1s\n",
      "[CV 3/5; 9/75] START max_depth=10, n_estimators=20, num_leaves=80...............\n",
      "[CV 3/5; 9/75] END max_depth=10, n_estimators=20, num_leaves=80; total time=   1.3s\n",
      "[CV 4/5; 9/75] START max_depth=10, n_estimators=20, num_leaves=80...............\n",
      "[CV 4/5; 9/75] END max_depth=10, n_estimators=20, num_leaves=80; total time=   1.2s\n",
      "[CV 5/5; 9/75] START max_depth=10, n_estimators=20, num_leaves=80...............\n",
      "[CV 5/5; 9/75] END max_depth=10, n_estimators=20, num_leaves=80; total time=   1.1s\n",
      "[CV 1/5; 10/75] START max_depth=10, n_estimators=20, num_leaves=100.............\n",
      "[CV 1/5; 10/75] END max_depth=10, n_estimators=20, num_leaves=100; total time=   1.2s\n",
      "[CV 2/5; 10/75] START max_depth=10, n_estimators=20, num_leaves=100.............\n",
      "[CV 2/5; 10/75] END max_depth=10, n_estimators=20, num_leaves=100; total time=   1.4s\n",
      "[CV 3/5; 10/75] START max_depth=10, n_estimators=20, num_leaves=100.............\n",
      "[CV 3/5; 10/75] END max_depth=10, n_estimators=20, num_leaves=100; total time=   1.3s\n",
      "[CV 4/5; 10/75] START max_depth=10, n_estimators=20, num_leaves=100.............\n",
      "[CV 4/5; 10/75] END max_depth=10, n_estimators=20, num_leaves=100; total time=   1.3s\n",
      "[CV 5/5; 10/75] START max_depth=10, n_estimators=20, num_leaves=100.............\n",
      "[CV 5/5; 10/75] END max_depth=10, n_estimators=20, num_leaves=100; total time=   1.3s\n",
      "[CV 1/5; 11/75] START max_depth=10, n_estimators=30, num_leaves=20..............\n",
      "[CV 1/5; 11/75] END max_depth=10, n_estimators=30, num_leaves=20; total time=   1.1s\n",
      "[CV 2/5; 11/75] START max_depth=10, n_estimators=30, num_leaves=20..............\n",
      "[CV 2/5; 11/75] END max_depth=10, n_estimators=30, num_leaves=20; total time=   1.0s\n",
      "[CV 3/5; 11/75] START max_depth=10, n_estimators=30, num_leaves=20..............\n",
      "[CV 3/5; 11/75] END max_depth=10, n_estimators=30, num_leaves=20; total time=   1.1s\n",
      "[CV 4/5; 11/75] START max_depth=10, n_estimators=30, num_leaves=20..............\n",
      "[CV 4/5; 11/75] END max_depth=10, n_estimators=30, num_leaves=20; total time=   1.0s\n",
      "[CV 5/5; 11/75] START max_depth=10, n_estimators=30, num_leaves=20..............\n",
      "[CV 5/5; 11/75] END max_depth=10, n_estimators=30, num_leaves=20; total time=   1.0s\n",
      "[CV 1/5; 12/75] START max_depth=10, n_estimators=30, num_leaves=40..............\n",
      "[CV 1/5; 12/75] END max_depth=10, n_estimators=30, num_leaves=40; total time=   1.2s\n",
      "[CV 2/5; 12/75] START max_depth=10, n_estimators=30, num_leaves=40..............\n",
      "[CV 2/5; 12/75] END max_depth=10, n_estimators=30, num_leaves=40; total time=   1.2s\n",
      "[CV 3/5; 12/75] START max_depth=10, n_estimators=30, num_leaves=40..............\n",
      "[CV 3/5; 12/75] END max_depth=10, n_estimators=30, num_leaves=40; total time=   1.2s\n",
      "[CV 4/5; 12/75] START max_depth=10, n_estimators=30, num_leaves=40..............\n",
      "[CV 4/5; 12/75] END max_depth=10, n_estimators=30, num_leaves=40; total time=   1.3s\n",
      "[CV 5/5; 12/75] START max_depth=10, n_estimators=30, num_leaves=40..............\n",
      "[CV 5/5; 12/75] END max_depth=10, n_estimators=30, num_leaves=40; total time=   1.3s\n",
      "[CV 1/5; 13/75] START max_depth=10, n_estimators=30, num_leaves=60..............\n",
      "[CV 1/5; 13/75] END max_depth=10, n_estimators=30, num_leaves=60; total time=   1.4s\n",
      "[CV 2/5; 13/75] START max_depth=10, n_estimators=30, num_leaves=60..............\n",
      "[CV 2/5; 13/75] END max_depth=10, n_estimators=30, num_leaves=60; total time=   1.4s\n",
      "[CV 3/5; 13/75] START max_depth=10, n_estimators=30, num_leaves=60..............\n",
      "[CV 3/5; 13/75] END max_depth=10, n_estimators=30, num_leaves=60; total time=   1.3s\n",
      "[CV 4/5; 13/75] START max_depth=10, n_estimators=30, num_leaves=60..............\n",
      "[CV 4/5; 13/75] END max_depth=10, n_estimators=30, num_leaves=60; total time=   1.4s\n",
      "[CV 5/5; 13/75] START max_depth=10, n_estimators=30, num_leaves=60..............\n",
      "[CV 5/5; 13/75] END max_depth=10, n_estimators=30, num_leaves=60; total time=   1.4s\n",
      "[CV 1/5; 14/75] START max_depth=10, n_estimators=30, num_leaves=80..............\n",
      "[CV 1/5; 14/75] END max_depth=10, n_estimators=30, num_leaves=80; total time=   1.6s\n",
      "[CV 2/5; 14/75] START max_depth=10, n_estimators=30, num_leaves=80..............\n",
      "[CV 2/5; 14/75] END max_depth=10, n_estimators=30, num_leaves=80; total time=   1.6s\n",
      "[CV 3/5; 14/75] START max_depth=10, n_estimators=30, num_leaves=80..............\n",
      "[CV 3/5; 14/75] END max_depth=10, n_estimators=30, num_leaves=80; total time=   1.6s\n",
      "[CV 4/5; 14/75] START max_depth=10, n_estimators=30, num_leaves=80..............\n",
      "[CV 4/5; 14/75] END max_depth=10, n_estimators=30, num_leaves=80; total time=   1.5s\n",
      "[CV 5/5; 14/75] START max_depth=10, n_estimators=30, num_leaves=80..............\n",
      "[CV 5/5; 14/75] END max_depth=10, n_estimators=30, num_leaves=80; total time=   1.5s\n",
      "[CV 1/5; 15/75] START max_depth=10, n_estimators=30, num_leaves=100.............\n",
      "[CV 1/5; 15/75] END max_depth=10, n_estimators=30, num_leaves=100; total time=   1.7s\n",
      "[CV 2/5; 15/75] START max_depth=10, n_estimators=30, num_leaves=100.............\n",
      "[CV 2/5; 15/75] END max_depth=10, n_estimators=30, num_leaves=100; total time=   1.6s\n",
      "[CV 3/5; 15/75] START max_depth=10, n_estimators=30, num_leaves=100.............\n",
      "[CV 3/5; 15/75] END max_depth=10, n_estimators=30, num_leaves=100; total time=   1.6s\n",
      "[CV 4/5; 15/75] START max_depth=10, n_estimators=30, num_leaves=100.............\n",
      "[CV 4/5; 15/75] END max_depth=10, n_estimators=30, num_leaves=100; total time=   1.7s\n",
      "[CV 5/5; 15/75] START max_depth=10, n_estimators=30, num_leaves=100.............\n",
      "[CV 5/5; 15/75] END max_depth=10, n_estimators=30, num_leaves=100; total time=   1.6s\n",
      "[CV 1/5; 16/75] START max_depth=10, n_estimators=40, num_leaves=20..............\n",
      "[CV 1/5; 16/75] END max_depth=10, n_estimators=40, num_leaves=20; total time=   1.2s\n",
      "[CV 2/5; 16/75] START max_depth=10, n_estimators=40, num_leaves=20..............\n",
      "[CV 2/5; 16/75] END max_depth=10, n_estimators=40, num_leaves=20; total time=   1.2s\n",
      "[CV 3/5; 16/75] START max_depth=10, n_estimators=40, num_leaves=20..............\n",
      "[CV 3/5; 16/75] END max_depth=10, n_estimators=40, num_leaves=20; total time=   1.2s\n",
      "[CV 4/5; 16/75] START max_depth=10, n_estimators=40, num_leaves=20..............\n",
      "[CV 4/5; 16/75] END max_depth=10, n_estimators=40, num_leaves=20; total time=   1.2s\n",
      "[CV 5/5; 16/75] START max_depth=10, n_estimators=40, num_leaves=20..............\n",
      "[CV 5/5; 16/75] END max_depth=10, n_estimators=40, num_leaves=20; total time=   1.4s\n",
      "[CV 1/5; 17/75] START max_depth=10, n_estimators=40, num_leaves=40..............\n",
      "[CV 1/5; 17/75] END max_depth=10, n_estimators=40, num_leaves=40; total time=   1.4s\n",
      "[CV 2/5; 17/75] START max_depth=10, n_estimators=40, num_leaves=40..............\n",
      "[CV 2/5; 17/75] END max_depth=10, n_estimators=40, num_leaves=40; total time=   1.6s\n",
      "[CV 3/5; 17/75] START max_depth=10, n_estimators=40, num_leaves=40..............\n",
      "[CV 3/5; 17/75] END max_depth=10, n_estimators=40, num_leaves=40; total time=   1.6s\n",
      "[CV 4/5; 17/75] START max_depth=10, n_estimators=40, num_leaves=40..............\n",
      "[CV 4/5; 17/75] END max_depth=10, n_estimators=40, num_leaves=40; total time=   1.4s\n",
      "[CV 5/5; 17/75] START max_depth=10, n_estimators=40, num_leaves=40..............\n",
      "[CV 5/5; 17/75] END max_depth=10, n_estimators=40, num_leaves=40; total time=   1.5s\n",
      "[CV 1/5; 18/75] START max_depth=10, n_estimators=40, num_leaves=60..............\n",
      "[CV 1/5; 18/75] END max_depth=10, n_estimators=40, num_leaves=60; total time=   1.7s\n",
      "[CV 2/5; 18/75] START max_depth=10, n_estimators=40, num_leaves=60..............\n",
      "[CV 2/5; 18/75] END max_depth=10, n_estimators=40, num_leaves=60; total time=   1.6s\n",
      "[CV 3/5; 18/75] START max_depth=10, n_estimators=40, num_leaves=60..............\n",
      "[CV 3/5; 18/75] END max_depth=10, n_estimators=40, num_leaves=60; total time=   1.7s\n",
      "[CV 4/5; 18/75] START max_depth=10, n_estimators=40, num_leaves=60..............\n",
      "[CV 4/5; 18/75] END max_depth=10, n_estimators=40, num_leaves=60; total time=   1.6s\n",
      "[CV 5/5; 18/75] START max_depth=10, n_estimators=40, num_leaves=60..............\n",
      "[CV 5/5; 18/75] END max_depth=10, n_estimators=40, num_leaves=60; total time=   1.5s\n",
      "[CV 1/5; 19/75] START max_depth=10, n_estimators=40, num_leaves=80..............\n",
      "[CV 1/5; 19/75] END max_depth=10, n_estimators=40, num_leaves=80; total time=   1.6s\n",
      "[CV 2/5; 19/75] START max_depth=10, n_estimators=40, num_leaves=80..............\n",
      "[CV 2/5; 19/75] END max_depth=10, n_estimators=40, num_leaves=80; total time=   1.4s\n",
      "[CV 3/5; 19/75] START max_depth=10, n_estimators=40, num_leaves=80..............\n",
      "[CV 3/5; 19/75] END max_depth=10, n_estimators=40, num_leaves=80; total time=   1.5s\n",
      "[CV 4/5; 19/75] START max_depth=10, n_estimators=40, num_leaves=80..............\n",
      "[CV 4/5; 19/75] END max_depth=10, n_estimators=40, num_leaves=80; total time=   1.5s\n",
      "[CV 5/5; 19/75] START max_depth=10, n_estimators=40, num_leaves=80..............\n",
      "[CV 5/5; 19/75] END max_depth=10, n_estimators=40, num_leaves=80; total time=   1.7s\n",
      "[CV 1/5; 20/75] START max_depth=10, n_estimators=40, num_leaves=100.............\n",
      "[CV 1/5; 20/75] END max_depth=10, n_estimators=40, num_leaves=100; total time=   1.9s\n",
      "[CV 2/5; 20/75] START max_depth=10, n_estimators=40, num_leaves=100.............\n",
      "[CV 2/5; 20/75] END max_depth=10, n_estimators=40, num_leaves=100; total time=   1.7s\n",
      "[CV 3/5; 20/75] START max_depth=10, n_estimators=40, num_leaves=100.............\n",
      "[CV 3/5; 20/75] END max_depth=10, n_estimators=40, num_leaves=100; total time=   2.0s\n",
      "[CV 4/5; 20/75] START max_depth=10, n_estimators=40, num_leaves=100.............\n",
      "[CV 4/5; 20/75] END max_depth=10, n_estimators=40, num_leaves=100; total time=   2.2s\n",
      "[CV 5/5; 20/75] START max_depth=10, n_estimators=40, num_leaves=100.............\n",
      "[CV 5/5; 20/75] END max_depth=10, n_estimators=40, num_leaves=100; total time=   2.0s\n",
      "[CV 1/5; 21/75] START max_depth=10, n_estimators=50, num_leaves=20..............\n",
      "[CV 1/5; 21/75] END max_depth=10, n_estimators=50, num_leaves=20; total time=   1.4s\n",
      "[CV 2/5; 21/75] START max_depth=10, n_estimators=50, num_leaves=20..............\n",
      "[CV 2/5; 21/75] END max_depth=10, n_estimators=50, num_leaves=20; total time=   1.4s\n",
      "[CV 3/5; 21/75] START max_depth=10, n_estimators=50, num_leaves=20..............\n",
      "[CV 3/5; 21/75] END max_depth=10, n_estimators=50, num_leaves=20; total time=   1.6s\n",
      "[CV 4/5; 21/75] START max_depth=10, n_estimators=50, num_leaves=20..............\n",
      "[CV 4/5; 21/75] END max_depth=10, n_estimators=50, num_leaves=20; total time=   1.5s\n",
      "[CV 5/5; 21/75] START max_depth=10, n_estimators=50, num_leaves=20..............\n",
      "[CV 5/5; 21/75] END max_depth=10, n_estimators=50, num_leaves=20; total time=   1.4s\n",
      "[CV 1/5; 22/75] START max_depth=10, n_estimators=50, num_leaves=40..............\n",
      "[CV 1/5; 22/75] END max_depth=10, n_estimators=50, num_leaves=40; total time=   1.7s\n",
      "[CV 2/5; 22/75] START max_depth=10, n_estimators=50, num_leaves=40..............\n",
      "[CV 2/5; 22/75] END max_depth=10, n_estimators=50, num_leaves=40; total time=   1.9s\n",
      "[CV 3/5; 22/75] START max_depth=10, n_estimators=50, num_leaves=40..............\n",
      "[CV 3/5; 22/75] END max_depth=10, n_estimators=50, num_leaves=40; total time=   1.6s\n",
      "[CV 4/5; 22/75] START max_depth=10, n_estimators=50, num_leaves=40..............\n",
      "[CV 4/5; 22/75] END max_depth=10, n_estimators=50, num_leaves=40; total time=   1.6s\n",
      "[CV 5/5; 22/75] START max_depth=10, n_estimators=50, num_leaves=40..............\n",
      "[CV 5/5; 22/75] END max_depth=10, n_estimators=50, num_leaves=40; total time=   1.5s\n",
      "[CV 1/5; 23/75] START max_depth=10, n_estimators=50, num_leaves=60..............\n",
      "[CV 1/5; 23/75] END max_depth=10, n_estimators=50, num_leaves=60; total time=   2.0s\n",
      "[CV 2/5; 23/75] START max_depth=10, n_estimators=50, num_leaves=60..............\n",
      "[CV 2/5; 23/75] END max_depth=10, n_estimators=50, num_leaves=60; total time=   1.7s\n",
      "[CV 3/5; 23/75] START max_depth=10, n_estimators=50, num_leaves=60..............\n",
      "[CV 3/5; 23/75] END max_depth=10, n_estimators=50, num_leaves=60; total time=   1.8s\n",
      "[CV 4/5; 23/75] START max_depth=10, n_estimators=50, num_leaves=60..............\n",
      "[CV 4/5; 23/75] END max_depth=10, n_estimators=50, num_leaves=60; total time=   1.8s\n",
      "[CV 5/5; 23/75] START max_depth=10, n_estimators=50, num_leaves=60..............\n",
      "[CV 5/5; 23/75] END max_depth=10, n_estimators=50, num_leaves=60; total time=   1.9s\n",
      "[CV 1/5; 24/75] START max_depth=10, n_estimators=50, num_leaves=80..............\n",
      "[CV 1/5; 24/75] END max_depth=10, n_estimators=50, num_leaves=80; total time=   2.1s\n",
      "[CV 2/5; 24/75] START max_depth=10, n_estimators=50, num_leaves=80..............\n",
      "[CV 2/5; 24/75] END max_depth=10, n_estimators=50, num_leaves=80; total time=   2.2s\n",
      "[CV 3/5; 24/75] START max_depth=10, n_estimators=50, num_leaves=80..............\n",
      "[CV 3/5; 24/75] END max_depth=10, n_estimators=50, num_leaves=80; total time=   2.1s\n",
      "[CV 4/5; 24/75] START max_depth=10, n_estimators=50, num_leaves=80..............\n",
      "[CV 4/5; 24/75] END max_depth=10, n_estimators=50, num_leaves=80; total time=   2.3s\n",
      "[CV 5/5; 24/75] START max_depth=10, n_estimators=50, num_leaves=80..............\n",
      "[CV 5/5; 24/75] END max_depth=10, n_estimators=50, num_leaves=80; total time=   2.2s\n",
      "[CV 1/5; 25/75] START max_depth=10, n_estimators=50, num_leaves=100.............\n",
      "[CV 1/5; 25/75] END max_depth=10, n_estimators=50, num_leaves=100; total time=   2.3s\n",
      "[CV 2/5; 25/75] START max_depth=10, n_estimators=50, num_leaves=100.............\n",
      "[CV 2/5; 25/75] END max_depth=10, n_estimators=50, num_leaves=100; total time=   2.1s\n",
      "[CV 3/5; 25/75] START max_depth=10, n_estimators=50, num_leaves=100.............\n",
      "[CV 3/5; 25/75] END max_depth=10, n_estimators=50, num_leaves=100; total time=   2.0s\n",
      "[CV 4/5; 25/75] START max_depth=10, n_estimators=50, num_leaves=100.............\n",
      "[CV 4/5; 25/75] END max_depth=10, n_estimators=50, num_leaves=100; total time=   2.2s\n",
      "[CV 5/5; 25/75] START max_depth=10, n_estimators=50, num_leaves=100.............\n",
      "[CV 5/5; 25/75] END max_depth=10, n_estimators=50, num_leaves=100; total time=   2.4s\n",
      "[CV 1/5; 26/75] START max_depth=15, n_estimators=10, num_leaves=20..............\n",
      "[CV 1/5; 26/75] END max_depth=15, n_estimators=10, num_leaves=20; total time=   0.7s\n",
      "[CV 2/5; 26/75] START max_depth=15, n_estimators=10, num_leaves=20..............\n",
      "[CV 2/5; 26/75] END max_depth=15, n_estimators=10, num_leaves=20; total time=   0.6s\n",
      "[CV 3/5; 26/75] START max_depth=15, n_estimators=10, num_leaves=20..............\n",
      "[CV 3/5; 26/75] END max_depth=15, n_estimators=10, num_leaves=20; total time=   0.6s\n",
      "[CV 4/5; 26/75] START max_depth=15, n_estimators=10, num_leaves=20..............\n",
      "[CV 4/5; 26/75] END max_depth=15, n_estimators=10, num_leaves=20; total time=   0.7s\n",
      "[CV 5/5; 26/75] START max_depth=15, n_estimators=10, num_leaves=20..............\n",
      "[CV 5/5; 26/75] END max_depth=15, n_estimators=10, num_leaves=20; total time=   0.6s\n",
      "[CV 1/5; 27/75] START max_depth=15, n_estimators=10, num_leaves=40..............\n",
      "[CV 1/5; 27/75] END max_depth=15, n_estimators=10, num_leaves=40; total time=   0.7s\n",
      "[CV 2/5; 27/75] START max_depth=15, n_estimators=10, num_leaves=40..............\n",
      "[CV 2/5; 27/75] END max_depth=15, n_estimators=10, num_leaves=40; total time=   0.7s\n",
      "[CV 3/5; 27/75] START max_depth=15, n_estimators=10, num_leaves=40..............\n",
      "[CV 3/5; 27/75] END max_depth=15, n_estimators=10, num_leaves=40; total time=   0.8s\n",
      "[CV 4/5; 27/75] START max_depth=15, n_estimators=10, num_leaves=40..............\n",
      "[CV 4/5; 27/75] END max_depth=15, n_estimators=10, num_leaves=40; total time=   0.7s\n",
      "[CV 5/5; 27/75] START max_depth=15, n_estimators=10, num_leaves=40..............\n",
      "[CV 5/5; 27/75] END max_depth=15, n_estimators=10, num_leaves=40; total time=   0.8s\n",
      "[CV 1/5; 28/75] START max_depth=15, n_estimators=10, num_leaves=60..............\n",
      "[CV 1/5; 28/75] END max_depth=15, n_estimators=10, num_leaves=60; total time=   0.8s\n",
      "[CV 2/5; 28/75] START max_depth=15, n_estimators=10, num_leaves=60..............\n",
      "[CV 2/5; 28/75] END max_depth=15, n_estimators=10, num_leaves=60; total time=   0.8s\n",
      "[CV 3/5; 28/75] START max_depth=15, n_estimators=10, num_leaves=60..............\n",
      "[CV 3/5; 28/75] END max_depth=15, n_estimators=10, num_leaves=60; total time=   0.8s\n",
      "[CV 4/5; 28/75] START max_depth=15, n_estimators=10, num_leaves=60..............\n",
      "[CV 4/5; 28/75] END max_depth=15, n_estimators=10, num_leaves=60; total time=   0.8s\n",
      "[CV 5/5; 28/75] START max_depth=15, n_estimators=10, num_leaves=60..............\n",
      "[CV 5/5; 28/75] END max_depth=15, n_estimators=10, num_leaves=60; total time=   0.9s\n",
      "[CV 1/5; 29/75] START max_depth=15, n_estimators=10, num_leaves=80..............\n",
      "[CV 1/5; 29/75] END max_depth=15, n_estimators=10, num_leaves=80; total time=   0.8s\n",
      "[CV 2/5; 29/75] START max_depth=15, n_estimators=10, num_leaves=80..............\n",
      "[CV 2/5; 29/75] END max_depth=15, n_estimators=10, num_leaves=80; total time=   0.8s\n",
      "[CV 3/5; 29/75] START max_depth=15, n_estimators=10, num_leaves=80..............\n",
      "[CV 3/5; 29/75] END max_depth=15, n_estimators=10, num_leaves=80; total time=   0.9s\n",
      "[CV 4/5; 29/75] START max_depth=15, n_estimators=10, num_leaves=80..............\n",
      "[CV 4/5; 29/75] END max_depth=15, n_estimators=10, num_leaves=80; total time=   0.9s\n",
      "[CV 5/5; 29/75] START max_depth=15, n_estimators=10, num_leaves=80..............\n",
      "[CV 5/5; 29/75] END max_depth=15, n_estimators=10, num_leaves=80; total time=   1.0s\n",
      "[CV 1/5; 30/75] START max_depth=15, n_estimators=10, num_leaves=100.............\n",
      "[CV 1/5; 30/75] END max_depth=15, n_estimators=10, num_leaves=100; total time=   0.9s\n",
      "[CV 2/5; 30/75] START max_depth=15, n_estimators=10, num_leaves=100.............\n",
      "[CV 2/5; 30/75] END max_depth=15, n_estimators=10, num_leaves=100; total time=   0.8s\n",
      "[CV 3/5; 30/75] START max_depth=15, n_estimators=10, num_leaves=100.............\n",
      "[CV 3/5; 30/75] END max_depth=15, n_estimators=10, num_leaves=100; total time=   0.8s\n",
      "[CV 4/5; 30/75] START max_depth=15, n_estimators=10, num_leaves=100.............\n",
      "[CV 4/5; 30/75] END max_depth=15, n_estimators=10, num_leaves=100; total time=   0.8s\n",
      "[CV 5/5; 30/75] START max_depth=15, n_estimators=10, num_leaves=100.............\n",
      "[CV 5/5; 30/75] END max_depth=15, n_estimators=10, num_leaves=100; total time=   0.9s\n",
      "[CV 1/5; 31/75] START max_depth=15, n_estimators=20, num_leaves=20..............\n",
      "[CV 1/5; 31/75] END max_depth=15, n_estimators=20, num_leaves=20; total time=   0.9s\n",
      "[CV 2/5; 31/75] START max_depth=15, n_estimators=20, num_leaves=20..............\n",
      "[CV 2/5; 31/75] END max_depth=15, n_estimators=20, num_leaves=20; total time=   0.9s\n",
      "[CV 3/5; 31/75] START max_depth=15, n_estimators=20, num_leaves=20..............\n",
      "[CV 3/5; 31/75] END max_depth=15, n_estimators=20, num_leaves=20; total time=   0.8s\n",
      "[CV 4/5; 31/75] START max_depth=15, n_estimators=20, num_leaves=20..............\n",
      "[CV 4/5; 31/75] END max_depth=15, n_estimators=20, num_leaves=20; total time=   0.9s\n",
      "[CV 5/5; 31/75] START max_depth=15, n_estimators=20, num_leaves=20..............\n",
      "[CV 5/5; 31/75] END max_depth=15, n_estimators=20, num_leaves=20; total time=   0.9s\n",
      "[CV 1/5; 32/75] START max_depth=15, n_estimators=20, num_leaves=40..............\n",
      "[CV 1/5; 32/75] END max_depth=15, n_estimators=20, num_leaves=40; total time=   1.0s\n",
      "[CV 2/5; 32/75] START max_depth=15, n_estimators=20, num_leaves=40..............\n",
      "[CV 2/5; 32/75] END max_depth=15, n_estimators=20, num_leaves=40; total time=   1.0s\n",
      "[CV 3/5; 32/75] START max_depth=15, n_estimators=20, num_leaves=40..............\n",
      "[CV 3/5; 32/75] END max_depth=15, n_estimators=20, num_leaves=40; total time=   1.0s\n",
      "[CV 4/5; 32/75] START max_depth=15, n_estimators=20, num_leaves=40..............\n",
      "[CV 4/5; 32/75] END max_depth=15, n_estimators=20, num_leaves=40; total time=   0.9s\n",
      "[CV 5/5; 32/75] START max_depth=15, n_estimators=20, num_leaves=40..............\n",
      "[CV 5/5; 32/75] END max_depth=15, n_estimators=20, num_leaves=40; total time=   1.0s\n",
      "[CV 1/5; 33/75] START max_depth=15, n_estimators=20, num_leaves=60..............\n",
      "[CV 1/5; 33/75] END max_depth=15, n_estimators=20, num_leaves=60; total time=   0.9s\n",
      "[CV 2/5; 33/75] START max_depth=15, n_estimators=20, num_leaves=60..............\n",
      "[CV 2/5; 33/75] END max_depth=15, n_estimators=20, num_leaves=60; total time=   1.0s\n",
      "[CV 3/5; 33/75] START max_depth=15, n_estimators=20, num_leaves=60..............\n",
      "[CV 3/5; 33/75] END max_depth=15, n_estimators=20, num_leaves=60; total time=   0.9s\n",
      "[CV 4/5; 33/75] START max_depth=15, n_estimators=20, num_leaves=60..............\n",
      "[CV 4/5; 33/75] END max_depth=15, n_estimators=20, num_leaves=60; total time=   0.9s\n",
      "[CV 5/5; 33/75] START max_depth=15, n_estimators=20, num_leaves=60..............\n",
      "[CV 5/5; 33/75] END max_depth=15, n_estimators=20, num_leaves=60; total time=   0.9s\n",
      "[CV 1/5; 34/75] START max_depth=15, n_estimators=20, num_leaves=80..............\n",
      "[CV 1/5; 34/75] END max_depth=15, n_estimators=20, num_leaves=80; total time=   1.3s\n",
      "[CV 2/5; 34/75] START max_depth=15, n_estimators=20, num_leaves=80..............\n",
      "[CV 2/5; 34/75] END max_depth=15, n_estimators=20, num_leaves=80; total time=   1.2s\n",
      "[CV 3/5; 34/75] START max_depth=15, n_estimators=20, num_leaves=80..............\n",
      "[CV 3/5; 34/75] END max_depth=15, n_estimators=20, num_leaves=80; total time=   1.4s\n",
      "[CV 4/5; 34/75] START max_depth=15, n_estimators=20, num_leaves=80..............\n",
      "[CV 4/5; 34/75] END max_depth=15, n_estimators=20, num_leaves=80; total time=   1.4s\n",
      "[CV 5/5; 34/75] START max_depth=15, n_estimators=20, num_leaves=80..............\n",
      "[CV 5/5; 34/75] END max_depth=15, n_estimators=20, num_leaves=80; total time=   1.1s\n",
      "[CV 1/5; 35/75] START max_depth=15, n_estimators=20, num_leaves=100.............\n",
      "[CV 1/5; 35/75] END max_depth=15, n_estimators=20, num_leaves=100; total time=   1.3s\n",
      "[CV 2/5; 35/75] START max_depth=15, n_estimators=20, num_leaves=100.............\n",
      "[CV 2/5; 35/75] END max_depth=15, n_estimators=20, num_leaves=100; total time=   1.2s\n",
      "[CV 3/5; 35/75] START max_depth=15, n_estimators=20, num_leaves=100.............\n",
      "[CV 3/5; 35/75] END max_depth=15, n_estimators=20, num_leaves=100; total time=   1.2s\n",
      "[CV 4/5; 35/75] START max_depth=15, n_estimators=20, num_leaves=100.............\n",
      "[CV 4/5; 35/75] END max_depth=15, n_estimators=20, num_leaves=100; total time=   1.3s\n",
      "[CV 5/5; 35/75] START max_depth=15, n_estimators=20, num_leaves=100.............\n",
      "[CV 5/5; 35/75] END max_depth=15, n_estimators=20, num_leaves=100; total time=   1.2s\n",
      "[CV 1/5; 36/75] START max_depth=15, n_estimators=30, num_leaves=20..............\n",
      "[CV 1/5; 36/75] END max_depth=15, n_estimators=30, num_leaves=20; total time=   1.0s\n",
      "[CV 2/5; 36/75] START max_depth=15, n_estimators=30, num_leaves=20..............\n",
      "[CV 2/5; 36/75] END max_depth=15, n_estimators=30, num_leaves=20; total time=   1.2s\n",
      "[CV 3/5; 36/75] START max_depth=15, n_estimators=30, num_leaves=20..............\n",
      "[CV 3/5; 36/75] END max_depth=15, n_estimators=30, num_leaves=20; total time=   1.0s\n",
      "[CV 4/5; 36/75] START max_depth=15, n_estimators=30, num_leaves=20..............\n",
      "[CV 4/5; 36/75] END max_depth=15, n_estimators=30, num_leaves=20; total time=   1.1s\n",
      "[CV 5/5; 36/75] START max_depth=15, n_estimators=30, num_leaves=20..............\n",
      "[CV 5/5; 36/75] END max_depth=15, n_estimators=30, num_leaves=20; total time=   1.0s\n",
      "[CV 1/5; 37/75] START max_depth=15, n_estimators=30, num_leaves=40..............\n",
      "[CV 1/5; 37/75] END max_depth=15, n_estimators=30, num_leaves=40; total time=   1.3s\n",
      "[CV 2/5; 37/75] START max_depth=15, n_estimators=30, num_leaves=40..............\n",
      "[CV 2/5; 37/75] END max_depth=15, n_estimators=30, num_leaves=40; total time=   1.2s\n",
      "[CV 3/5; 37/75] START max_depth=15, n_estimators=30, num_leaves=40..............\n",
      "[CV 3/5; 37/75] END max_depth=15, n_estimators=30, num_leaves=40; total time=   1.2s\n",
      "[CV 4/5; 37/75] START max_depth=15, n_estimators=30, num_leaves=40..............\n",
      "[CV 4/5; 37/75] END max_depth=15, n_estimators=30, num_leaves=40; total time=   1.2s\n",
      "[CV 5/5; 37/75] START max_depth=15, n_estimators=30, num_leaves=40..............\n",
      "[CV 5/5; 37/75] END max_depth=15, n_estimators=30, num_leaves=40; total time=   1.2s\n",
      "[CV 1/5; 38/75] START max_depth=15, n_estimators=30, num_leaves=60..............\n",
      "[CV 1/5; 38/75] END max_depth=15, n_estimators=30, num_leaves=60; total time=   1.4s\n",
      "[CV 2/5; 38/75] START max_depth=15, n_estimators=30, num_leaves=60..............\n",
      "[CV 2/5; 38/75] END max_depth=15, n_estimators=30, num_leaves=60; total time=   1.5s\n",
      "[CV 3/5; 38/75] START max_depth=15, n_estimators=30, num_leaves=60..............\n",
      "[CV 3/5; 38/75] END max_depth=15, n_estimators=30, num_leaves=60; total time=   1.3s\n",
      "[CV 4/5; 38/75] START max_depth=15, n_estimators=30, num_leaves=60..............\n",
      "[CV 4/5; 38/75] END max_depth=15, n_estimators=30, num_leaves=60; total time=   1.3s\n",
      "[CV 5/5; 38/75] START max_depth=15, n_estimators=30, num_leaves=60..............\n",
      "[CV 5/5; 38/75] END max_depth=15, n_estimators=30, num_leaves=60; total time=   1.5s\n",
      "[CV 1/5; 39/75] START max_depth=15, n_estimators=30, num_leaves=80..............\n",
      "[CV 1/5; 39/75] END max_depth=15, n_estimators=30, num_leaves=80; total time=   1.4s\n",
      "[CV 2/5; 39/75] START max_depth=15, n_estimators=30, num_leaves=80..............\n",
      "[CV 2/5; 39/75] END max_depth=15, n_estimators=30, num_leaves=80; total time=   1.4s\n",
      "[CV 3/5; 39/75] START max_depth=15, n_estimators=30, num_leaves=80..............\n",
      "[CV 3/5; 39/75] END max_depth=15, n_estimators=30, num_leaves=80; total time=   1.4s\n",
      "[CV 4/5; 39/75] START max_depth=15, n_estimators=30, num_leaves=80..............\n",
      "[CV 4/5; 39/75] END max_depth=15, n_estimators=30, num_leaves=80; total time=   1.5s\n",
      "[CV 5/5; 39/75] START max_depth=15, n_estimators=30, num_leaves=80..............\n",
      "[CV 5/5; 39/75] END max_depth=15, n_estimators=30, num_leaves=80; total time=   1.4s\n",
      "[CV 1/5; 40/75] START max_depth=15, n_estimators=30, num_leaves=100.............\n",
      "[CV 1/5; 40/75] END max_depth=15, n_estimators=30, num_leaves=100; total time=   1.6s\n",
      "[CV 2/5; 40/75] START max_depth=15, n_estimators=30, num_leaves=100.............\n",
      "[CV 2/5; 40/75] END max_depth=15, n_estimators=30, num_leaves=100; total time=   1.5s\n",
      "[CV 3/5; 40/75] START max_depth=15, n_estimators=30, num_leaves=100.............\n",
      "[CV 3/5; 40/75] END max_depth=15, n_estimators=30, num_leaves=100; total time=   1.6s\n",
      "[CV 4/5; 40/75] START max_depth=15, n_estimators=30, num_leaves=100.............\n",
      "[CV 4/5; 40/75] END max_depth=15, n_estimators=30, num_leaves=100; total time=   1.7s\n",
      "[CV 5/5; 40/75] START max_depth=15, n_estimators=30, num_leaves=100.............\n",
      "[CV 5/5; 40/75] END max_depth=15, n_estimators=30, num_leaves=100; total time=   1.6s\n",
      "[CV 1/5; 41/75] START max_depth=15, n_estimators=40, num_leaves=20..............\n",
      "[CV 1/5; 41/75] END max_depth=15, n_estimators=40, num_leaves=20; total time=   1.3s\n",
      "[CV 2/5; 41/75] START max_depth=15, n_estimators=40, num_leaves=20..............\n",
      "[CV 2/5; 41/75] END max_depth=15, n_estimators=40, num_leaves=20; total time=   1.3s\n",
      "[CV 3/5; 41/75] START max_depth=15, n_estimators=40, num_leaves=20..............\n",
      "[CV 3/5; 41/75] END max_depth=15, n_estimators=40, num_leaves=20; total time=   1.5s\n",
      "[CV 4/5; 41/75] START max_depth=15, n_estimators=40, num_leaves=20..............\n",
      "[CV 4/5; 41/75] END max_depth=15, n_estimators=40, num_leaves=20; total time=   1.4s\n",
      "[CV 5/5; 41/75] START max_depth=15, n_estimators=40, num_leaves=20..............\n",
      "[CV 5/5; 41/75] END max_depth=15, n_estimators=40, num_leaves=20; total time=   1.2s\n",
      "[CV 1/5; 42/75] START max_depth=15, n_estimators=40, num_leaves=40..............\n",
      "[CV 1/5; 42/75] END max_depth=15, n_estimators=40, num_leaves=40; total time=   1.8s\n",
      "[CV 2/5; 42/75] START max_depth=15, n_estimators=40, num_leaves=40..............\n",
      "[CV 2/5; 42/75] END max_depth=15, n_estimators=40, num_leaves=40; total time=   1.5s\n",
      "[CV 3/5; 42/75] START max_depth=15, n_estimators=40, num_leaves=40..............\n",
      "[CV 3/5; 42/75] END max_depth=15, n_estimators=40, num_leaves=40; total time=   1.8s\n",
      "[CV 4/5; 42/75] START max_depth=15, n_estimators=40, num_leaves=40..............\n",
      "[CV 4/5; 42/75] END max_depth=15, n_estimators=40, num_leaves=40; total time=   1.6s\n",
      "[CV 5/5; 42/75] START max_depth=15, n_estimators=40, num_leaves=40..............\n",
      "[CV 5/5; 42/75] END max_depth=15, n_estimators=40, num_leaves=40; total time=   1.7s\n",
      "[CV 1/5; 43/75] START max_depth=15, n_estimators=40, num_leaves=60..............\n",
      "[CV 1/5; 43/75] END max_depth=15, n_estimators=40, num_leaves=60; total time=   1.7s\n",
      "[CV 2/5; 43/75] START max_depth=15, n_estimators=40, num_leaves=60..............\n",
      "[CV 2/5; 43/75] END max_depth=15, n_estimators=40, num_leaves=60; total time=   2.0s\n",
      "[CV 3/5; 43/75] START max_depth=15, n_estimators=40, num_leaves=60..............\n",
      "[CV 3/5; 43/75] END max_depth=15, n_estimators=40, num_leaves=60; total time=   1.8s\n",
      "[CV 4/5; 43/75] START max_depth=15, n_estimators=40, num_leaves=60..............\n",
      "[CV 4/5; 43/75] END max_depth=15, n_estimators=40, num_leaves=60; total time=   1.9s\n",
      "[CV 5/5; 43/75] START max_depth=15, n_estimators=40, num_leaves=60..............\n",
      "[CV 5/5; 43/75] END max_depth=15, n_estimators=40, num_leaves=60; total time=   1.7s\n",
      "[CV 1/5; 44/75] START max_depth=15, n_estimators=40, num_leaves=80..............\n",
      "[CV 1/5; 44/75] END max_depth=15, n_estimators=40, num_leaves=80; total time=   1.7s\n",
      "[CV 2/5; 44/75] START max_depth=15, n_estimators=40, num_leaves=80..............\n",
      "[CV 2/5; 44/75] END max_depth=15, n_estimators=40, num_leaves=80; total time=   1.7s\n",
      "[CV 3/5; 44/75] START max_depth=15, n_estimators=40, num_leaves=80..............\n",
      "[CV 3/5; 44/75] END max_depth=15, n_estimators=40, num_leaves=80; total time=   1.9s\n",
      "[CV 4/5; 44/75] START max_depth=15, n_estimators=40, num_leaves=80..............\n",
      "[CV 4/5; 44/75] END max_depth=15, n_estimators=40, num_leaves=80; total time=   1.7s\n",
      "[CV 5/5; 44/75] START max_depth=15, n_estimators=40, num_leaves=80..............\n",
      "[CV 5/5; 44/75] END max_depth=15, n_estimators=40, num_leaves=80; total time=   1.8s\n",
      "[CV 1/5; 45/75] START max_depth=15, n_estimators=40, num_leaves=100.............\n",
      "[CV 1/5; 45/75] END max_depth=15, n_estimators=40, num_leaves=100; total time=   1.6s\n",
      "[CV 2/5; 45/75] START max_depth=15, n_estimators=40, num_leaves=100.............\n",
      "[CV 2/5; 45/75] END max_depth=15, n_estimators=40, num_leaves=100; total time=   2.0s\n",
      "[CV 3/5; 45/75] START max_depth=15, n_estimators=40, num_leaves=100.............\n",
      "[CV 3/5; 45/75] END max_depth=15, n_estimators=40, num_leaves=100; total time=   1.8s\n",
      "[CV 4/5; 45/75] START max_depth=15, n_estimators=40, num_leaves=100.............\n",
      "[CV 4/5; 45/75] END max_depth=15, n_estimators=40, num_leaves=100; total time=   2.0s\n",
      "[CV 5/5; 45/75] START max_depth=15, n_estimators=40, num_leaves=100.............\n",
      "[CV 5/5; 45/75] END max_depth=15, n_estimators=40, num_leaves=100; total time=   2.0s\n",
      "[CV 1/5; 46/75] START max_depth=15, n_estimators=50, num_leaves=20..............\n",
      "[CV 1/5; 46/75] END max_depth=15, n_estimators=50, num_leaves=20; total time=   1.4s\n",
      "[CV 2/5; 46/75] START max_depth=15, n_estimators=50, num_leaves=20..............\n",
      "[CV 2/5; 46/75] END max_depth=15, n_estimators=50, num_leaves=20; total time=   1.4s\n",
      "[CV 3/5; 46/75] START max_depth=15, n_estimators=50, num_leaves=20..............\n",
      "[CV 3/5; 46/75] END max_depth=15, n_estimators=50, num_leaves=20; total time=   1.4s\n",
      "[CV 4/5; 46/75] START max_depth=15, n_estimators=50, num_leaves=20..............\n",
      "[CV 4/5; 46/75] END max_depth=15, n_estimators=50, num_leaves=20; total time=   1.4s\n",
      "[CV 5/5; 46/75] START max_depth=15, n_estimators=50, num_leaves=20..............\n",
      "[CV 5/5; 46/75] END max_depth=15, n_estimators=50, num_leaves=20; total time=   1.4s\n",
      "[CV 1/5; 47/75] START max_depth=15, n_estimators=50, num_leaves=40..............\n",
      "[CV 1/5; 47/75] END max_depth=15, n_estimators=50, num_leaves=40; total time=   1.6s\n",
      "[CV 2/5; 47/75] START max_depth=15, n_estimators=50, num_leaves=40..............\n",
      "[CV 2/5; 47/75] END max_depth=15, n_estimators=50, num_leaves=40; total time=   1.7s\n",
      "[CV 3/5; 47/75] START max_depth=15, n_estimators=50, num_leaves=40..............\n",
      "[CV 3/5; 47/75] END max_depth=15, n_estimators=50, num_leaves=40; total time=   1.7s\n",
      "[CV 4/5; 47/75] START max_depth=15, n_estimators=50, num_leaves=40..............\n",
      "[CV 4/5; 47/75] END max_depth=15, n_estimators=50, num_leaves=40; total time=   1.6s\n",
      "[CV 5/5; 47/75] START max_depth=15, n_estimators=50, num_leaves=40..............\n",
      "[CV 5/5; 47/75] END max_depth=15, n_estimators=50, num_leaves=40; total time=   1.6s\n",
      "[CV 1/5; 48/75] START max_depth=15, n_estimators=50, num_leaves=60..............\n",
      "[CV 1/5; 48/75] END max_depth=15, n_estimators=50, num_leaves=60; total time=   1.9s\n",
      "[CV 2/5; 48/75] START max_depth=15, n_estimators=50, num_leaves=60..............\n",
      "[CV 2/5; 48/75] END max_depth=15, n_estimators=50, num_leaves=60; total time=   1.7s\n",
      "[CV 3/5; 48/75] START max_depth=15, n_estimators=50, num_leaves=60..............\n",
      "[CV 3/5; 48/75] END max_depth=15, n_estimators=50, num_leaves=60; total time=   1.8s\n",
      "[CV 4/5; 48/75] START max_depth=15, n_estimators=50, num_leaves=60..............\n",
      "[CV 4/5; 48/75] END max_depth=15, n_estimators=50, num_leaves=60; total time=   1.9s\n",
      "[CV 5/5; 48/75] START max_depth=15, n_estimators=50, num_leaves=60..............\n",
      "[CV 5/5; 48/75] END max_depth=15, n_estimators=50, num_leaves=60; total time=   1.9s\n",
      "[CV 1/5; 49/75] START max_depth=15, n_estimators=50, num_leaves=80..............\n",
      "[CV 1/5; 49/75] END max_depth=15, n_estimators=50, num_leaves=80; total time=   2.1s\n",
      "[CV 2/5; 49/75] START max_depth=15, n_estimators=50, num_leaves=80..............\n",
      "[CV 2/5; 49/75] END max_depth=15, n_estimators=50, num_leaves=80; total time=   2.1s\n",
      "[CV 3/5; 49/75] START max_depth=15, n_estimators=50, num_leaves=80..............\n",
      "[CV 3/5; 49/75] END max_depth=15, n_estimators=50, num_leaves=80; total time=   1.9s\n",
      "[CV 4/5; 49/75] START max_depth=15, n_estimators=50, num_leaves=80..............\n",
      "[CV 4/5; 49/75] END max_depth=15, n_estimators=50, num_leaves=80; total time=   2.0s\n",
      "[CV 5/5; 49/75] START max_depth=15, n_estimators=50, num_leaves=80..............\n",
      "[CV 5/5; 49/75] END max_depth=15, n_estimators=50, num_leaves=80; total time=   2.0s\n",
      "[CV 1/5; 50/75] START max_depth=15, n_estimators=50, num_leaves=100.............\n",
      "[CV 1/5; 50/75] END max_depth=15, n_estimators=50, num_leaves=100; total time=   2.0s\n",
      "[CV 2/5; 50/75] START max_depth=15, n_estimators=50, num_leaves=100.............\n",
      "[CV 2/5; 50/75] END max_depth=15, n_estimators=50, num_leaves=100; total time=   2.0s\n",
      "[CV 3/5; 50/75] START max_depth=15, n_estimators=50, num_leaves=100.............\n",
      "[CV 3/5; 50/75] END max_depth=15, n_estimators=50, num_leaves=100; total time=   2.1s\n",
      "[CV 4/5; 50/75] START max_depth=15, n_estimators=50, num_leaves=100.............\n",
      "[CV 4/5; 50/75] END max_depth=15, n_estimators=50, num_leaves=100; total time=   2.3s\n",
      "[CV 5/5; 50/75] START max_depth=15, n_estimators=50, num_leaves=100.............\n",
      "[CV 5/5; 50/75] END max_depth=15, n_estimators=50, num_leaves=100; total time=   2.2s\n",
      "[CV 1/5; 51/75] START max_depth=20, n_estimators=10, num_leaves=20..............\n",
      "[CV 1/5; 51/75] END max_depth=20, n_estimators=10, num_leaves=20; total time=   0.7s\n",
      "[CV 2/5; 51/75] START max_depth=20, n_estimators=10, num_leaves=20..............\n",
      "[CV 2/5; 51/75] END max_depth=20, n_estimators=10, num_leaves=20; total time=   0.6s\n",
      "[CV 3/5; 51/75] START max_depth=20, n_estimators=10, num_leaves=20..............\n",
      "[CV 3/5; 51/75] END max_depth=20, n_estimators=10, num_leaves=20; total time=   0.6s\n",
      "[CV 4/5; 51/75] START max_depth=20, n_estimators=10, num_leaves=20..............\n",
      "[CV 4/5; 51/75] END max_depth=20, n_estimators=10, num_leaves=20; total time=   0.7s\n",
      "[CV 5/5; 51/75] START max_depth=20, n_estimators=10, num_leaves=20..............\n",
      "[CV 5/5; 51/75] END max_depth=20, n_estimators=10, num_leaves=20; total time=   0.7s\n",
      "[CV 1/5; 52/75] START max_depth=20, n_estimators=10, num_leaves=40..............\n",
      "[CV 1/5; 52/75] END max_depth=20, n_estimators=10, num_leaves=40; total time=   0.6s\n",
      "[CV 2/5; 52/75] START max_depth=20, n_estimators=10, num_leaves=40..............\n",
      "[CV 2/5; 52/75] END max_depth=20, n_estimators=10, num_leaves=40; total time=   0.7s\n",
      "[CV 3/5; 52/75] START max_depth=20, n_estimators=10, num_leaves=40..............\n",
      "[CV 3/5; 52/75] END max_depth=20, n_estimators=10, num_leaves=40; total time=   0.7s\n",
      "[CV 4/5; 52/75] START max_depth=20, n_estimators=10, num_leaves=40..............\n",
      "[CV 4/5; 52/75] END max_depth=20, n_estimators=10, num_leaves=40; total time=   0.7s\n",
      "[CV 5/5; 52/75] START max_depth=20, n_estimators=10, num_leaves=40..............\n",
      "[CV 5/5; 52/75] END max_depth=20, n_estimators=10, num_leaves=40; total time=   0.7s\n",
      "[CV 1/5; 53/75] START max_depth=20, n_estimators=10, num_leaves=60..............\n",
      "[CV 1/5; 53/75] END max_depth=20, n_estimators=10, num_leaves=60; total time=   0.7s\n",
      "[CV 2/5; 53/75] START max_depth=20, n_estimators=10, num_leaves=60..............\n",
      "[CV 2/5; 53/75] END max_depth=20, n_estimators=10, num_leaves=60; total time=   0.8s\n",
      "[CV 3/5; 53/75] START max_depth=20, n_estimators=10, num_leaves=60..............\n",
      "[CV 3/5; 53/75] END max_depth=20, n_estimators=10, num_leaves=60; total time=   0.8s\n",
      "[CV 4/5; 53/75] START max_depth=20, n_estimators=10, num_leaves=60..............\n",
      "[CV 4/5; 53/75] END max_depth=20, n_estimators=10, num_leaves=60; total time=   0.8s\n",
      "[CV 5/5; 53/75] START max_depth=20, n_estimators=10, num_leaves=60..............\n",
      "[CV 5/5; 53/75] END max_depth=20, n_estimators=10, num_leaves=60; total time=   0.8s\n",
      "[CV 1/5; 54/75] START max_depth=20, n_estimators=10, num_leaves=80..............\n",
      "[CV 1/5; 54/75] END max_depth=20, n_estimators=10, num_leaves=80; total time=   0.8s\n",
      "[CV 2/5; 54/75] START max_depth=20, n_estimators=10, num_leaves=80..............\n",
      "[CV 2/5; 54/75] END max_depth=20, n_estimators=10, num_leaves=80; total time=   0.8s\n",
      "[CV 3/5; 54/75] START max_depth=20, n_estimators=10, num_leaves=80..............\n",
      "[CV 3/5; 54/75] END max_depth=20, n_estimators=10, num_leaves=80; total time=   0.9s\n",
      "[CV 4/5; 54/75] START max_depth=20, n_estimators=10, num_leaves=80..............\n",
      "[CV 4/5; 54/75] END max_depth=20, n_estimators=10, num_leaves=80; total time=   0.8s\n",
      "[CV 5/5; 54/75] START max_depth=20, n_estimators=10, num_leaves=80..............\n",
      "[CV 5/5; 54/75] END max_depth=20, n_estimators=10, num_leaves=80; total time=   0.8s\n",
      "[CV 1/5; 55/75] START max_depth=20, n_estimators=10, num_leaves=100.............\n",
      "[CV 1/5; 55/75] END max_depth=20, n_estimators=10, num_leaves=100; total time=   0.9s\n",
      "[CV 2/5; 55/75] START max_depth=20, n_estimators=10, num_leaves=100.............\n",
      "[CV 2/5; 55/75] END max_depth=20, n_estimators=10, num_leaves=100; total time=   0.9s\n",
      "[CV 3/5; 55/75] START max_depth=20, n_estimators=10, num_leaves=100.............\n",
      "[CV 3/5; 55/75] END max_depth=20, n_estimators=10, num_leaves=100; total time=   1.0s\n",
      "[CV 4/5; 55/75] START max_depth=20, n_estimators=10, num_leaves=100.............\n",
      "[CV 4/5; 55/75] END max_depth=20, n_estimators=10, num_leaves=100; total time=   0.8s\n",
      "[CV 5/5; 55/75] START max_depth=20, n_estimators=10, num_leaves=100.............\n",
      "[CV 5/5; 55/75] END max_depth=20, n_estimators=10, num_leaves=100; total time=   1.0s\n",
      "[CV 1/5; 56/75] START max_depth=20, n_estimators=20, num_leaves=20..............\n",
      "[CV 1/5; 56/75] END max_depth=20, n_estimators=20, num_leaves=20; total time=   0.8s\n",
      "[CV 2/5; 56/75] START max_depth=20, n_estimators=20, num_leaves=20..............\n",
      "[CV 2/5; 56/75] END max_depth=20, n_estimators=20, num_leaves=20; total time=   0.9s\n",
      "[CV 3/5; 56/75] START max_depth=20, n_estimators=20, num_leaves=20..............\n",
      "[CV 3/5; 56/75] END max_depth=20, n_estimators=20, num_leaves=20; total time=   1.0s\n",
      "[CV 4/5; 56/75] START max_depth=20, n_estimators=20, num_leaves=20..............\n",
      "[CV 4/5; 56/75] END max_depth=20, n_estimators=20, num_leaves=20; total time=   1.0s\n",
      "[CV 5/5; 56/75] START max_depth=20, n_estimators=20, num_leaves=20..............\n",
      "[CV 5/5; 56/75] END max_depth=20, n_estimators=20, num_leaves=20; total time=   0.9s\n",
      "[CV 1/5; 57/75] START max_depth=20, n_estimators=20, num_leaves=40..............\n",
      "[CV 1/5; 57/75] END max_depth=20, n_estimators=20, num_leaves=40; total time=   0.9s\n",
      "[CV 2/5; 57/75] START max_depth=20, n_estimators=20, num_leaves=40..............\n",
      "[CV 2/5; 57/75] END max_depth=20, n_estimators=20, num_leaves=40; total time=   1.0s\n",
      "[CV 3/5; 57/75] START max_depth=20, n_estimators=20, num_leaves=40..............\n",
      "[CV 3/5; 57/75] END max_depth=20, n_estimators=20, num_leaves=40; total time=   1.0s\n",
      "[CV 4/5; 57/75] START max_depth=20, n_estimators=20, num_leaves=40..............\n",
      "[CV 4/5; 57/75] END max_depth=20, n_estimators=20, num_leaves=40; total time=   1.1s\n",
      "[CV 5/5; 57/75] START max_depth=20, n_estimators=20, num_leaves=40..............\n",
      "[CV 5/5; 57/75] END max_depth=20, n_estimators=20, num_leaves=40; total time=   0.9s\n",
      "[CV 1/5; 58/75] START max_depth=20, n_estimators=20, num_leaves=60..............\n",
      "[CV 1/5; 58/75] END max_depth=20, n_estimators=20, num_leaves=60; total time=   1.1s\n",
      "[CV 2/5; 58/75] START max_depth=20, n_estimators=20, num_leaves=60..............\n",
      "[CV 2/5; 58/75] END max_depth=20, n_estimators=20, num_leaves=60; total time=   1.1s\n",
      "[CV 3/5; 58/75] START max_depth=20, n_estimators=20, num_leaves=60..............\n",
      "[CV 3/5; 58/75] END max_depth=20, n_estimators=20, num_leaves=60; total time=   1.1s\n",
      "[CV 4/5; 58/75] START max_depth=20, n_estimators=20, num_leaves=60..............\n",
      "[CV 4/5; 58/75] END max_depth=20, n_estimators=20, num_leaves=60; total time=   1.1s\n",
      "[CV 5/5; 58/75] START max_depth=20, n_estimators=20, num_leaves=60..............\n",
      "[CV 5/5; 58/75] END max_depth=20, n_estimators=20, num_leaves=60; total time=   1.1s\n",
      "[CV 1/5; 59/75] START max_depth=20, n_estimators=20, num_leaves=80..............\n",
      "[CV 1/5; 59/75] END max_depth=20, n_estimators=20, num_leaves=80; total time=   1.2s\n",
      "[CV 2/5; 59/75] START max_depth=20, n_estimators=20, num_leaves=80..............\n",
      "[CV 2/5; 59/75] END max_depth=20, n_estimators=20, num_leaves=80; total time=   1.1s\n",
      "[CV 3/5; 59/75] START max_depth=20, n_estimators=20, num_leaves=80..............\n",
      "[CV 3/5; 59/75] END max_depth=20, n_estimators=20, num_leaves=80; total time=   1.2s\n",
      "[CV 4/5; 59/75] START max_depth=20, n_estimators=20, num_leaves=80..............\n",
      "[CV 4/5; 59/75] END max_depth=20, n_estimators=20, num_leaves=80; total time=   1.3s\n",
      "[CV 5/5; 59/75] START max_depth=20, n_estimators=20, num_leaves=80..............\n",
      "[CV 5/5; 59/75] END max_depth=20, n_estimators=20, num_leaves=80; total time=   1.1s\n",
      "[CV 1/5; 60/75] START max_depth=20, n_estimators=20, num_leaves=100.............\n",
      "[CV 1/5; 60/75] END max_depth=20, n_estimators=20, num_leaves=100; total time=   1.2s\n",
      "[CV 2/5; 60/75] START max_depth=20, n_estimators=20, num_leaves=100.............\n",
      "[CV 2/5; 60/75] END max_depth=20, n_estimators=20, num_leaves=100; total time=   1.4s\n",
      "[CV 3/5; 60/75] START max_depth=20, n_estimators=20, num_leaves=100.............\n",
      "[CV 3/5; 60/75] END max_depth=20, n_estimators=20, num_leaves=100; total time=   1.4s\n",
      "[CV 4/5; 60/75] START max_depth=20, n_estimators=20, num_leaves=100.............\n",
      "[CV 4/5; 60/75] END max_depth=20, n_estimators=20, num_leaves=100; total time=   1.4s\n",
      "[CV 5/5; 60/75] START max_depth=20, n_estimators=20, num_leaves=100.............\n",
      "[CV 5/5; 60/75] END max_depth=20, n_estimators=20, num_leaves=100; total time=   1.3s\n",
      "[CV 1/5; 61/75] START max_depth=20, n_estimators=30, num_leaves=20..............\n",
      "[CV 1/5; 61/75] END max_depth=20, n_estimators=30, num_leaves=20; total time=   1.1s\n",
      "[CV 2/5; 61/75] START max_depth=20, n_estimators=30, num_leaves=20..............\n",
      "[CV 2/5; 61/75] END max_depth=20, n_estimators=30, num_leaves=20; total time=   0.8s\n",
      "[CV 3/5; 61/75] START max_depth=20, n_estimators=30, num_leaves=20..............\n",
      "[CV 3/5; 61/75] END max_depth=20, n_estimators=30, num_leaves=20; total time=   0.8s\n",
      "[CV 4/5; 61/75] START max_depth=20, n_estimators=30, num_leaves=20..............\n",
      "[CV 4/5; 61/75] END max_depth=20, n_estimators=30, num_leaves=20; total time=   1.0s\n",
      "[CV 5/5; 61/75] START max_depth=20, n_estimators=30, num_leaves=20..............\n",
      "[CV 5/5; 61/75] END max_depth=20, n_estimators=30, num_leaves=20; total time=   0.9s\n",
      "[CV 1/5; 62/75] START max_depth=20, n_estimators=30, num_leaves=40..............\n",
      "[CV 1/5; 62/75] END max_depth=20, n_estimators=30, num_leaves=40; total time=   1.0s\n",
      "[CV 2/5; 62/75] START max_depth=20, n_estimators=30, num_leaves=40..............\n",
      "[CV 2/5; 62/75] END max_depth=20, n_estimators=30, num_leaves=40; total time=   1.4s\n",
      "[CV 3/5; 62/75] START max_depth=20, n_estimators=30, num_leaves=40..............\n",
      "[CV 3/5; 62/75] END max_depth=20, n_estimators=30, num_leaves=40; total time=   1.2s\n",
      "[CV 4/5; 62/75] START max_depth=20, n_estimators=30, num_leaves=40..............\n",
      "[CV 4/5; 62/75] END max_depth=20, n_estimators=30, num_leaves=40; total time=   1.3s\n",
      "[CV 5/5; 62/75] START max_depth=20, n_estimators=30, num_leaves=40..............\n",
      "[CV 5/5; 62/75] END max_depth=20, n_estimators=30, num_leaves=40; total time=   1.3s\n",
      "[CV 1/5; 63/75] START max_depth=20, n_estimators=30, num_leaves=60..............\n",
      "[CV 1/5; 63/75] END max_depth=20, n_estimators=30, num_leaves=60; total time=   1.4s\n",
      "[CV 2/5; 63/75] START max_depth=20, n_estimators=30, num_leaves=60..............\n",
      "[CV 2/5; 63/75] END max_depth=20, n_estimators=30, num_leaves=60; total time=   1.4s\n",
      "[CV 3/5; 63/75] START max_depth=20, n_estimators=30, num_leaves=60..............\n",
      "[CV 3/5; 63/75] END max_depth=20, n_estimators=30, num_leaves=60; total time=   1.3s\n",
      "[CV 4/5; 63/75] START max_depth=20, n_estimators=30, num_leaves=60..............\n",
      "[CV 4/5; 63/75] END max_depth=20, n_estimators=30, num_leaves=60; total time=   1.4s\n",
      "[CV 5/5; 63/75] START max_depth=20, n_estimators=30, num_leaves=60..............\n",
      "[CV 5/5; 63/75] END max_depth=20, n_estimators=30, num_leaves=60; total time=   1.3s\n",
      "[CV 1/5; 64/75] START max_depth=20, n_estimators=30, num_leaves=80..............\n",
      "[CV 1/5; 64/75] END max_depth=20, n_estimators=30, num_leaves=80; total time=   1.5s\n",
      "[CV 2/5; 64/75] START max_depth=20, n_estimators=30, num_leaves=80..............\n",
      "[CV 2/5; 64/75] END max_depth=20, n_estimators=30, num_leaves=80; total time=   1.5s\n",
      "[CV 3/5; 64/75] START max_depth=20, n_estimators=30, num_leaves=80..............\n",
      "[CV 3/5; 64/75] END max_depth=20, n_estimators=30, num_leaves=80; total time=   1.5s\n",
      "[CV 4/5; 64/75] START max_depth=20, n_estimators=30, num_leaves=80..............\n",
      "[CV 4/5; 64/75] END max_depth=20, n_estimators=30, num_leaves=80; total time=   1.7s\n",
      "[CV 5/5; 64/75] START max_depth=20, n_estimators=30, num_leaves=80..............\n",
      "[CV 5/5; 64/75] END max_depth=20, n_estimators=30, num_leaves=80; total time=   1.5s\n",
      "[CV 1/5; 65/75] START max_depth=20, n_estimators=30, num_leaves=100.............\n",
      "[CV 1/5; 65/75] END max_depth=20, n_estimators=30, num_leaves=100; total time=   1.6s\n",
      "[CV 2/5; 65/75] START max_depth=20, n_estimators=30, num_leaves=100.............\n",
      "[CV 2/5; 65/75] END max_depth=20, n_estimators=30, num_leaves=100; total time=   1.6s\n",
      "[CV 3/5; 65/75] START max_depth=20, n_estimators=30, num_leaves=100.............\n",
      "[CV 3/5; 65/75] END max_depth=20, n_estimators=30, num_leaves=100; total time=   1.6s\n",
      "[CV 4/5; 65/75] START max_depth=20, n_estimators=30, num_leaves=100.............\n",
      "[CV 4/5; 65/75] END max_depth=20, n_estimators=30, num_leaves=100; total time=   1.6s\n",
      "[CV 5/5; 65/75] START max_depth=20, n_estimators=30, num_leaves=100.............\n",
      "[CV 5/5; 65/75] END max_depth=20, n_estimators=30, num_leaves=100; total time=   1.6s\n",
      "[CV 1/5; 66/75] START max_depth=20, n_estimators=40, num_leaves=20..............\n",
      "[CV 1/5; 66/75] END max_depth=20, n_estimators=40, num_leaves=20; total time=   1.1s\n",
      "[CV 2/5; 66/75] START max_depth=20, n_estimators=40, num_leaves=20..............\n",
      "[CV 2/5; 66/75] END max_depth=20, n_estimators=40, num_leaves=20; total time=   1.2s\n",
      "[CV 3/5; 66/75] START max_depth=20, n_estimators=40, num_leaves=20..............\n",
      "[CV 3/5; 66/75] END max_depth=20, n_estimators=40, num_leaves=20; total time=   1.2s\n",
      "[CV 4/5; 66/75] START max_depth=20, n_estimators=40, num_leaves=20..............\n",
      "[CV 4/5; 66/75] END max_depth=20, n_estimators=40, num_leaves=20; total time=   1.1s\n",
      "[CV 5/5; 66/75] START max_depth=20, n_estimators=40, num_leaves=20..............\n",
      "[CV 5/5; 66/75] END max_depth=20, n_estimators=40, num_leaves=20; total time=   1.0s\n",
      "[CV 1/5; 67/75] START max_depth=20, n_estimators=40, num_leaves=40..............\n",
      "[CV 1/5; 67/75] END max_depth=20, n_estimators=40, num_leaves=40; total time=   1.1s\n",
      "[CV 2/5; 67/75] START max_depth=20, n_estimators=40, num_leaves=40..............\n",
      "[CV 2/5; 67/75] END max_depth=20, n_estimators=40, num_leaves=40; total time=   1.1s\n",
      "[CV 3/5; 67/75] START max_depth=20, n_estimators=40, num_leaves=40..............\n",
      "[CV 3/5; 67/75] END max_depth=20, n_estimators=40, num_leaves=40; total time=   1.1s\n",
      "[CV 4/5; 67/75] START max_depth=20, n_estimators=40, num_leaves=40..............\n",
      "[CV 4/5; 67/75] END max_depth=20, n_estimators=40, num_leaves=40; total time=   1.2s\n",
      "[CV 5/5; 67/75] START max_depth=20, n_estimators=40, num_leaves=40..............\n",
      "[CV 5/5; 67/75] END max_depth=20, n_estimators=40, num_leaves=40; total time=   1.1s\n",
      "[CV 1/5; 68/75] START max_depth=20, n_estimators=40, num_leaves=60..............\n",
      "[CV 1/5; 68/75] END max_depth=20, n_estimators=40, num_leaves=60; total time=   1.6s\n",
      "[CV 2/5; 68/75] START max_depth=20, n_estimators=40, num_leaves=60..............\n",
      "[CV 2/5; 68/75] END max_depth=20, n_estimators=40, num_leaves=60; total time=   1.7s\n",
      "[CV 3/5; 68/75] START max_depth=20, n_estimators=40, num_leaves=60..............\n",
      "[CV 3/5; 68/75] END max_depth=20, n_estimators=40, num_leaves=60; total time=   1.7s\n",
      "[CV 4/5; 68/75] START max_depth=20, n_estimators=40, num_leaves=60..............\n",
      "[CV 4/5; 68/75] END max_depth=20, n_estimators=40, num_leaves=60; total time=   1.6s\n",
      "[CV 5/5; 68/75] START max_depth=20, n_estimators=40, num_leaves=60..............\n",
      "[CV 5/5; 68/75] END max_depth=20, n_estimators=40, num_leaves=60; total time=   1.2s\n",
      "[CV 1/5; 69/75] START max_depth=20, n_estimators=40, num_leaves=80..............\n",
      "[CV 1/5; 69/75] END max_depth=20, n_estimators=40, num_leaves=80; total time=   1.3s\n",
      "[CV 2/5; 69/75] START max_depth=20, n_estimators=40, num_leaves=80..............\n",
      "[CV 2/5; 69/75] END max_depth=20, n_estimators=40, num_leaves=80; total time=   1.4s\n",
      "[CV 3/5; 69/75] START max_depth=20, n_estimators=40, num_leaves=80..............\n",
      "[CV 3/5; 69/75] END max_depth=20, n_estimators=40, num_leaves=80; total time=   1.3s\n",
      "[CV 4/5; 69/75] START max_depth=20, n_estimators=40, num_leaves=80..............\n",
      "[CV 4/5; 69/75] END max_depth=20, n_estimators=40, num_leaves=80; total time=   1.4s\n",
      "[CV 5/5; 69/75] START max_depth=20, n_estimators=40, num_leaves=80..............\n",
      "[CV 5/5; 69/75] END max_depth=20, n_estimators=40, num_leaves=80; total time=   1.4s\n",
      "[CV 1/5; 70/75] START max_depth=20, n_estimators=40, num_leaves=100.............\n",
      "[CV 1/5; 70/75] END max_depth=20, n_estimators=40, num_leaves=100; total time=   1.5s\n",
      "[CV 2/5; 70/75] START max_depth=20, n_estimators=40, num_leaves=100.............\n",
      "[CV 2/5; 70/75] END max_depth=20, n_estimators=40, num_leaves=100; total time=   1.5s\n",
      "[CV 3/5; 70/75] START max_depth=20, n_estimators=40, num_leaves=100.............\n",
      "[CV 3/5; 70/75] END max_depth=20, n_estimators=40, num_leaves=100; total time=   1.9s\n",
      "[CV 4/5; 70/75] START max_depth=20, n_estimators=40, num_leaves=100.............\n",
      "[CV 4/5; 70/75] END max_depth=20, n_estimators=40, num_leaves=100; total time=   1.9s\n",
      "[CV 5/5; 70/75] START max_depth=20, n_estimators=40, num_leaves=100.............\n",
      "[CV 5/5; 70/75] END max_depth=20, n_estimators=40, num_leaves=100; total time=   1.9s\n",
      "[CV 1/5; 71/75] START max_depth=20, n_estimators=50, num_leaves=20..............\n",
      "[CV 1/5; 71/75] END max_depth=20, n_estimators=50, num_leaves=20; total time=   1.5s\n",
      "[CV 2/5; 71/75] START max_depth=20, n_estimators=50, num_leaves=20..............\n",
      "[CV 2/5; 71/75] END max_depth=20, n_estimators=50, num_leaves=20; total time=   1.5s\n",
      "[CV 3/5; 71/75] START max_depth=20, n_estimators=50, num_leaves=20..............\n",
      "[CV 3/5; 71/75] END max_depth=20, n_estimators=50, num_leaves=20; total time=   1.3s\n",
      "[CV 4/5; 71/75] START max_depth=20, n_estimators=50, num_leaves=20..............\n",
      "[CV 4/5; 71/75] END max_depth=20, n_estimators=50, num_leaves=20; total time=   1.4s\n",
      "[CV 5/5; 71/75] START max_depth=20, n_estimators=50, num_leaves=20..............\n",
      "[CV 5/5; 71/75] END max_depth=20, n_estimators=50, num_leaves=20; total time=   1.3s\n",
      "[CV 1/5; 72/75] START max_depth=20, n_estimators=50, num_leaves=40..............\n",
      "[CV 1/5; 72/75] END max_depth=20, n_estimators=50, num_leaves=40; total time=   1.8s\n",
      "[CV 2/5; 72/75] START max_depth=20, n_estimators=50, num_leaves=40..............\n",
      "[CV 2/5; 72/75] END max_depth=20, n_estimators=50, num_leaves=40; total time=   1.7s\n",
      "[CV 3/5; 72/75] START max_depth=20, n_estimators=50, num_leaves=40..............\n",
      "[CV 3/5; 72/75] END max_depth=20, n_estimators=50, num_leaves=40; total time=   1.6s\n",
      "[CV 4/5; 72/75] START max_depth=20, n_estimators=50, num_leaves=40..............\n",
      "[CV 4/5; 72/75] END max_depth=20, n_estimators=50, num_leaves=40; total time=   1.6s\n",
      "[CV 5/5; 72/75] START max_depth=20, n_estimators=50, num_leaves=40..............\n",
      "[CV 5/5; 72/75] END max_depth=20, n_estimators=50, num_leaves=40; total time=   1.6s\n",
      "[CV 1/5; 73/75] START max_depth=20, n_estimators=50, num_leaves=60..............\n",
      "[CV 1/5; 73/75] END max_depth=20, n_estimators=50, num_leaves=60; total time=   1.9s\n",
      "[CV 2/5; 73/75] START max_depth=20, n_estimators=50, num_leaves=60..............\n",
      "[CV 2/5; 73/75] END max_depth=20, n_estimators=50, num_leaves=60; total time=   1.9s\n",
      "[CV 3/5; 73/75] START max_depth=20, n_estimators=50, num_leaves=60..............\n",
      "[CV 3/5; 73/75] END max_depth=20, n_estimators=50, num_leaves=60; total time=   1.7s\n",
      "[CV 4/5; 73/75] START max_depth=20, n_estimators=50, num_leaves=60..............\n",
      "[CV 4/5; 73/75] END max_depth=20, n_estimators=50, num_leaves=60; total time=   1.8s\n",
      "[CV 5/5; 73/75] START max_depth=20, n_estimators=50, num_leaves=60..............\n",
      "[CV 5/5; 73/75] END max_depth=20, n_estimators=50, num_leaves=60; total time=   1.7s\n",
      "[CV 1/5; 74/75] START max_depth=20, n_estimators=50, num_leaves=80..............\n",
      "[CV 1/5; 74/75] END max_depth=20, n_estimators=50, num_leaves=80; total time=   2.2s\n",
      "[CV 2/5; 74/75] START max_depth=20, n_estimators=50, num_leaves=80..............\n",
      "[CV 2/5; 74/75] END max_depth=20, n_estimators=50, num_leaves=80; total time=   2.2s\n",
      "[CV 3/5; 74/75] START max_depth=20, n_estimators=50, num_leaves=80..............\n",
      "[CV 3/5; 74/75] END max_depth=20, n_estimators=50, num_leaves=80; total time=   1.8s\n",
      "[CV 4/5; 74/75] START max_depth=20, n_estimators=50, num_leaves=80..............\n",
      "[CV 4/5; 74/75] END max_depth=20, n_estimators=50, num_leaves=80; total time=   2.0s\n",
      "[CV 5/5; 74/75] START max_depth=20, n_estimators=50, num_leaves=80..............\n",
      "[CV 5/5; 74/75] END max_depth=20, n_estimators=50, num_leaves=80; total time=   2.0s\n",
      "[CV 1/5; 75/75] START max_depth=20, n_estimators=50, num_leaves=100.............\n",
      "[CV 1/5; 75/75] END max_depth=20, n_estimators=50, num_leaves=100; total time=   2.2s\n",
      "[CV 2/5; 75/75] START max_depth=20, n_estimators=50, num_leaves=100.............\n",
      "[CV 2/5; 75/75] END max_depth=20, n_estimators=50, num_leaves=100; total time=   2.0s\n",
      "[CV 3/5; 75/75] START max_depth=20, n_estimators=50, num_leaves=100.............\n",
      "[CV 3/5; 75/75] END max_depth=20, n_estimators=50, num_leaves=100; total time=   2.3s\n",
      "[CV 4/5; 75/75] START max_depth=20, n_estimators=50, num_leaves=100.............\n",
      "[CV 4/5; 75/75] END max_depth=20, n_estimators=50, num_leaves=100; total time=   2.2s\n",
      "[CV 5/5; 75/75] START max_depth=20, n_estimators=50, num_leaves=100.............\n",
      "[CV 5/5; 75/75] END max_depth=20, n_estimators=50, num_leaves=100; total time=   2.2s\n",
      "The best score of LGBM is: -1605.486512279084\n",
      "CPU times: user 8min 7s, sys: 3.64 s, total: 8min 11s\n",
      "Wall time: 8min 15s\n"
     ]
    }
   ],
   "source": [
    "%%time\n",
    "light_model = enc_m.light_model()"
   ]
  },
  {
   "cell_type": "markdown",
   "id": "c207c805",
   "metadata": {},
   "source": [
    "В результате обучения моделей и проверки качества на пятикратной кросс-валидации увидели, что LGBMRegressor - лучшая модель из всех представленных. Общее время обучения и предсказания составило почти 3 минуты, однако качество - лучшее среди всех представленных в проекте моделей!"
   ]
  },
  {
   "cell_type": "markdown",
   "id": "d4502bf0",
   "metadata": {},
   "source": [
    "## Анализ результатов <a id='4'></a> "
   ]
  },
  {
   "cell_type": "markdown",
   "id": "7d06713b",
   "metadata": {},
   "source": [
    "Прежде чем сделаем анализ результатов обучения, проведем проверку моделей на тестовой выборке. \n",
    "\n",
    "А затем сформируем итоговую таблицу по поолученным данным."
   ]
  },
  {
   "cell_type": "code",
   "execution_count": 59,
   "id": "3eaa0b60",
   "metadata": {},
   "outputs": [],
   "source": [
    "def take_time(func):\n",
    "    def wrapper(*args, **kwargs):\n",
    "        start = time.time()\n",
    "        res = func(*args, **kwargs)\n",
    "        stop = time.time()\n",
    "        print(f'Время обучения и предсказания модели: {stop - start:.3f} секунд')\n",
    "    return wrapper"
   ]
  },
  {
   "cell_type": "code",
   "execution_count": 60,
   "id": "159facff",
   "metadata": {},
   "outputs": [],
   "source": [
    "## Сорри, что так плохо написал, но просто идей у меня не было))\n",
    "# Наверное, следует добавить этот метод вместе с декоратором внутрь каждого класса и пусть считает\n",
    "@take_time\n",
    "def fit_predict(\n",
    "                type_m = 'no_enc',\n",
    "                model = LinearRegression()):\n",
    "    \n",
    "    if type_m == 'no_enc':\n",
    "        model.fit(no_enc_m.train_features, no_enc_m.train_target)\n",
    "        prediction = model.predict(no_enc_m.test_features)\n",
    "        print(f'RMSE score: {mean_squared_error(no_enc_m.test_target, prediction, squared=False)}')\n",
    "    else:\n",
    "        model.fit(enc_m.train_features, enc_m.train_target)\n",
    "        prediction = model.predict(enc_m.test_features)\n",
    "        print(f'RMSE score: {mean_squared_error(enc_m.test_target, prediction, squared=False)}')"
   ]
  },
  {
   "cell_type": "markdown",
   "id": "1f14b1df",
   "metadata": {},
   "source": [
    "**Линейная регрессия**"
   ]
  },
  {
   "cell_type": "code",
   "execution_count": null,
   "id": "b72f0df5",
   "metadata": {},
   "outputs": [],
   "source": [
    "fit_predict()"
   ]
  },
  {
   "cell_type": "markdown",
   "id": "0e7f4121",
   "metadata": {},
   "source": [
    "**Случайный лес**"
   ]
  },
  {
   "cell_type": "code",
   "execution_count": null,
   "id": "0b860c8f",
   "metadata": {},
   "outputs": [],
   "source": [
    "fit_predict(model = model_RF)"
   ]
  },
  {
   "cell_type": "markdown",
   "id": "0573c333",
   "metadata": {},
   "source": [
    "**Решающее дерево**"
   ]
  },
  {
   "cell_type": "code",
   "execution_count": null,
   "id": "3c2f566f",
   "metadata": {},
   "outputs": [],
   "source": [
    "fit_predict(model = model_DT)"
   ]
  },
  {
   "cell_type": "markdown",
   "id": "4699f961",
   "metadata": {},
   "source": [
    "**CatBoostRegressor**"
   ]
  },
  {
   "cell_type": "code",
   "execution_count": null,
   "id": "fcea2adf",
   "metadata": {},
   "outputs": [],
   "source": [
    "fit_predict(type_m = 'enc',  model = CAT_model)"
   ]
  },
  {
   "cell_type": "markdown",
   "id": "1318e4ca",
   "metadata": {},
   "source": [
    "**LGBMRegressor**"
   ]
  },
  {
   "cell_type": "code",
   "execution_count": null,
   "id": "3445c561",
   "metadata": {},
   "outputs": [],
   "source": [
    "fit_predict(type_m = 'enc', model = light_model)"
   ]
  },
  {
   "cell_type": "markdown",
   "id": "4c0b4253",
   "metadata": {},
   "source": [
    "В результате получили следующие результаты:\n",
    "\n",
    "|**Выборка**|**Модель**|**Время (обучение + предсказание)**|**Значение метрики RMSE**|\n",
    "|:---------:|:--------:|:---------------------------------:|:-----------------------:|\n",
    "|**Обучающая выборка**|Линейная регрессия|37.1 сек.|2737.558|\n",
    "||Случайный лес|9 мин. 43 сек.|1768.643|\n",
    "||Решающее дерево|2 мин. 18 сек.|2023.397|\n",
    "||CatBoostRegressor|5 мин. 43 сек.|1738.891|\n",
    "||LGBMRegressor|3 мин. 42 сек.|1668.475|\n",
    "|**Тестовая выборка**|Линейная регрессия|4.82 сек.|2741.919|\n",
    "||Случайный лес|32.63 сек.|1752.052|\n",
    "||Решающее дерево|9.98 сек.|1990.872|\n",
    "||CatBoostRegressor|8 сек.|1738.92|\n",
    "||LGBMRegressor|1.1 сек.|1652.756|"
   ]
  },
  {
   "cell_type": "markdown",
   "id": "0cb9e5f5",
   "metadata": {},
   "source": [
    "По результатам исследования получили следующие результаты:\n",
    "* Для обучающей выборки: \n",
    "    * Самая быстрая модель: модель линейной регрессии;\n",
    "    * Модель с лучшей метрикой качества обучения: LGBMRegressor;\n",
    "    * Самая медленная модель: модель Случайного леса;\n",
    "    * Модель с худшей метрикой качества обучения: модель линейной регрессии.\n",
    "* Для тестовой выборки:\n",
    "    * Самая быстрая модель: LGBMRegressor;\n",
    "    * Модель с лучшей метрикой качества обучения: LGBMRegressor;\n",
    "    * Самая медленная модель: модель случайного леса;\n",
    "    * Модель с худшей метрикой качества обучения: модель линейной регрессии.\n",
    "    \n",
    "Исходя из полученных результатов можем сказать, что наиболее подходящая модель для решения задачи заказчика является **LGBMRegressor**"
   ]
  },
  {
   "cell_type": "markdown",
   "id": "beaf9204",
   "metadata": {},
   "source": [
    "## Общий вывод <a id='5'></a> "
   ]
  },
  {
   "cell_type": "markdown",
   "id": "5ed8aa0d",
   "metadata": {},
   "source": [
    "Была дана задача: \n",
    ">Сервис по продаже автомобилей \"Не бит, не крашен\" разрабатывает новое приложение для привлечения новых клиентов. В нем можно быстро узнать рыночную стоимость своего автомобиля.\n",
    "\n",
    ">Необходимо построить модель для определения стоимости\n",
    "\n",
    "Для решения задачи заказчик предоставил исторический набор данных по выставленным позициям на своем сервисе. В результате знакомства с данным обнаружили ряд проблем:\n",
    "* имеются значительные пропуски в данных;\n",
    "* имеются явные дубликаты в данных;\n",
    "* тип данных некоторых признаков представлен некорректно;\n",
    "* имеются лишние для обучения признаки.\n",
    "\n",
    "После которых решили, что набор данных для решения задачи заказчика не готов - необходимо провести предобработку данных.\n",
    "\n",
    "После предобработки данных приступили к обучению моделей. Для которых заранее сделали следующее:\n",
    "* Разбивка на обучающую и тестовую выборки в соотношении 70:30;\n",
    "* Сделали масштабирование количественных признаков;\n",
    "* Реализовали процедуру прямого кодирования для категориальных признаков;\n",
    "* Использовали пятикратную кросс-валидацию на обучающей выборке;\n",
    "* Провели контрольное тестирование на тестовой выборке.\n",
    "\n",
    "В результате исследования получили следующие результаты:\n",
    "\n",
    "* **Для обучающей выборки**: \n",
    "    * Самая быстрая модель: модель линейной регрессии;\n",
    "    * Модель с лучшей метрикой качества обучения: LGBMRegressor;\n",
    "    * Самая медленная модель: модель Случайного леса;\n",
    "    * Модель с худшей метрикой качества обучения: модель линейной регрессии.\n",
    "* **Для тестовой выборки**:\n",
    "    * Самая быстрая модель: LGBMRegressor;\n",
    "    * Модель с лучшей метрикой качества обучения: LGBMRegressor;\n",
    "    * Самая медленная модель: модель случайного леса;\n",
    "    * Модель с худшей метрикой качества обучения: модель линейной регрессии.\n",
    "    \n",
    "Исходя из полученных результатов можем сказать, что наиболее подходящая модель для решения задачи заказчика является **LGBMRegressor**"
   ]
  }
 ],
 "metadata": {
  "ExecuteTimeLog": [
   {
    "duration": 811,
    "start_time": "2022-05-10T02:32:12.485Z"
   },
   {
    "duration": 1175,
    "start_time": "2022-05-10T02:32:13.871Z"
   },
   {
    "duration": 1668,
    "start_time": "2022-05-10T02:32:21.930Z"
   },
   {
    "duration": 18,
    "start_time": "2022-05-10T02:32:29.974Z"
   },
   {
    "duration": 137,
    "start_time": "2022-05-10T02:32:32.219Z"
   },
   {
    "duration": 127,
    "start_time": "2022-05-10T02:32:37.474Z"
   },
   {
    "duration": 507,
    "start_time": "2022-05-10T02:33:01.879Z"
   },
   {
    "duration": 498,
    "start_time": "2022-05-10T02:33:03.913Z"
   },
   {
    "duration": 609,
    "start_time": "2022-05-10T02:34:08.706Z"
   },
   {
    "duration": 146,
    "start_time": "2022-05-10T02:34:18.124Z"
   },
   {
    "duration": 86,
    "start_time": "2022-05-10T02:34:49.908Z"
   },
   {
    "duration": 75,
    "start_time": "2022-05-10T02:35:54.243Z"
   },
   {
    "duration": 4,
    "start_time": "2022-05-10T02:35:55.367Z"
   },
   {
    "duration": 137,
    "start_time": "2022-05-10T02:36:07.655Z"
   },
   {
    "duration": 125,
    "start_time": "2022-05-10T02:36:09.722Z"
   },
   {
    "duration": 241,
    "start_time": "2022-05-10T02:37:12.175Z"
   },
   {
    "duration": 123,
    "start_time": "2022-05-10T02:37:33.495Z"
   },
   {
    "duration": 26,
    "start_time": "2022-05-10T02:38:13.803Z"
   },
   {
    "duration": 34,
    "start_time": "2022-05-10T02:38:17.525Z"
   },
   {
    "duration": 3,
    "start_time": "2022-05-10T02:38:28.979Z"
   },
   {
    "duration": 53,
    "start_time": "2022-05-10T02:38:31.281Z"
   },
   {
    "duration": 9,
    "start_time": "2022-05-10T02:38:31.907Z"
   },
   {
    "duration": 21,
    "start_time": "2022-05-10T02:39:12.086Z"
   },
   {
    "duration": 18,
    "start_time": "2022-05-10T02:39:13.703Z"
   },
   {
    "duration": 21,
    "start_time": "2022-05-10T02:39:56.808Z"
   },
   {
    "duration": 22,
    "start_time": "2022-05-10T02:40:02.770Z"
   },
   {
    "duration": 23,
    "start_time": "2022-05-10T02:41:02.772Z"
   },
   {
    "duration": 17,
    "start_time": "2022-05-10T02:41:04.571Z"
   },
   {
    "duration": 23,
    "start_time": "2022-05-10T02:41:11.117Z"
   },
   {
    "duration": 17,
    "start_time": "2022-05-10T02:41:12.064Z"
   },
   {
    "duration": 21,
    "start_time": "2022-05-10T02:41:21.324Z"
   },
   {
    "duration": 18,
    "start_time": "2022-05-10T02:41:22.198Z"
   },
   {
    "duration": 113,
    "start_time": "2022-05-10T02:41:23.624Z"
   },
   {
    "duration": 10,
    "start_time": "2022-05-10T02:41:39.541Z"
   },
   {
    "duration": 3,
    "start_time": "2022-05-10T02:41:54.044Z"
   },
   {
    "duration": 411,
    "start_time": "2022-05-10T02:41:54.560Z"
   },
   {
    "duration": 117,
    "start_time": "2022-05-10T02:42:19.973Z"
   },
   {
    "duration": 5,
    "start_time": "2022-05-10T02:42:41.156Z"
   },
   {
    "duration": 5,
    "start_time": "2022-05-10T02:42:45.463Z"
   },
   {
    "duration": 11,
    "start_time": "2022-05-10T02:43:39.878Z"
   },
   {
    "duration": 459,
    "start_time": "2022-05-10T02:43:44.970Z"
   },
   {
    "duration": 97,
    "start_time": "2022-05-10T02:43:55.003Z"
   },
   {
    "duration": 128,
    "start_time": "2022-05-10T02:44:05.242Z"
   },
   {
    "duration": 73,
    "start_time": "2022-05-10T02:44:13.958Z"
   },
   {
    "duration": 33,
    "start_time": "2022-05-10T02:44:53.567Z"
   },
   {
    "duration": 121,
    "start_time": "2022-05-10T02:45:40.554Z"
   },
   {
    "duration": 3,
    "start_time": "2022-05-10T02:46:17.846Z"
   },
   {
    "duration": 4,
    "start_time": "2022-05-10T02:46:17.851Z"
   },
   {
    "duration": 1370,
    "start_time": "2022-05-10T02:46:17.857Z"
   },
   {
    "duration": 13,
    "start_time": "2022-05-10T02:46:19.229Z"
   },
   {
    "duration": 129,
    "start_time": "2022-05-10T02:46:19.255Z"
   },
   {
    "duration": 129,
    "start_time": "2022-05-10T02:46:19.385Z"
   },
   {
    "duration": 423,
    "start_time": "2022-05-10T02:46:19.516Z"
   },
   {
    "duration": 426,
    "start_time": "2022-05-10T02:46:19.941Z"
   },
   {
    "duration": 518,
    "start_time": "2022-05-10T02:46:20.368Z"
   },
   {
    "duration": 128,
    "start_time": "2022-05-10T02:46:20.888Z"
   },
   {
    "duration": 93,
    "start_time": "2022-05-10T02:46:21.019Z"
   },
   {
    "duration": 81,
    "start_time": "2022-05-10T02:46:21.114Z"
   },
   {
    "duration": 5,
    "start_time": "2022-05-10T02:46:21.197Z"
   },
   {
    "duration": 127,
    "start_time": "2022-05-10T02:46:21.203Z"
   },
   {
    "duration": 132,
    "start_time": "2022-05-10T02:46:21.332Z"
   },
   {
    "duration": 155,
    "start_time": "2022-05-10T02:46:21.466Z"
   },
   {
    "duration": 134,
    "start_time": "2022-05-10T02:46:21.623Z"
   },
   {
    "duration": 23,
    "start_time": "2022-05-10T02:46:21.759Z"
   },
   {
    "duration": 31,
    "start_time": "2022-05-10T02:46:21.784Z"
   },
   {
    "duration": 4,
    "start_time": "2022-05-10T02:46:21.817Z"
   },
   {
    "duration": 72,
    "start_time": "2022-05-10T02:46:21.822Z"
   },
   {
    "duration": 7,
    "start_time": "2022-05-10T02:46:21.896Z"
   },
   {
    "duration": 21,
    "start_time": "2022-05-10T02:46:21.904Z"
   },
   {
    "duration": 33,
    "start_time": "2022-05-10T02:46:21.927Z"
   },
   {
    "duration": 20,
    "start_time": "2022-05-10T02:46:21.962Z"
   },
   {
    "duration": 21,
    "start_time": "2022-05-10T02:46:21.984Z"
   },
   {
    "duration": 24,
    "start_time": "2022-05-10T02:46:22.007Z"
   },
   {
    "duration": 17,
    "start_time": "2022-05-10T02:46:22.055Z"
   },
   {
    "duration": 21,
    "start_time": "2022-05-10T02:46:22.076Z"
   },
   {
    "duration": 18,
    "start_time": "2022-05-10T02:46:22.099Z"
   },
   {
    "duration": 136,
    "start_time": "2022-05-10T02:46:22.119Z"
   },
   {
    "duration": 8,
    "start_time": "2022-05-10T02:46:22.257Z"
   },
   {
    "duration": 3,
    "start_time": "2022-05-10T02:46:22.267Z"
   },
   {
    "duration": 402,
    "start_time": "2022-05-10T02:46:22.271Z"
   },
   {
    "duration": 133,
    "start_time": "2022-05-10T02:46:22.675Z"
   },
   {
    "duration": 9,
    "start_time": "2022-05-10T02:46:22.810Z"
   },
   {
    "duration": 481,
    "start_time": "2022-05-10T02:46:22.821Z"
   },
   {
    "duration": 103,
    "start_time": "2022-05-10T02:46:23.304Z"
   },
   {
    "duration": 142,
    "start_time": "2022-05-10T02:46:23.408Z"
   },
   {
    "duration": 76,
    "start_time": "2022-05-10T02:46:23.552Z"
   },
   {
    "duration": 46,
    "start_time": "2022-05-10T02:46:23.630Z"
   },
   {
    "duration": 5,
    "start_time": "2022-05-10T02:46:35.757Z"
   },
   {
    "duration": 25,
    "start_time": "2022-05-10T02:48:44.101Z"
   },
   {
    "duration": 787,
    "start_time": "2022-05-10T02:48:50.339Z"
   },
   {
    "duration": 13,
    "start_time": "2022-05-10T02:48:54.669Z"
   },
   {
    "duration": 9,
    "start_time": "2022-05-10T03:15:47.162Z"
   },
   {
    "duration": 793,
    "start_time": "2022-05-10T07:30:16.349Z"
   },
   {
    "duration": 834,
    "start_time": "2022-05-10T07:30:17.145Z"
   },
   {
    "duration": 1685,
    "start_time": "2022-05-10T07:30:19.383Z"
   },
   {
    "duration": 17,
    "start_time": "2022-05-10T07:30:21.069Z"
   },
   {
    "duration": 116,
    "start_time": "2022-05-10T07:30:26.389Z"
   },
   {
    "duration": 118,
    "start_time": "2022-05-10T07:30:32.589Z"
   },
   {
    "duration": 471,
    "start_time": "2022-05-10T07:30:32.710Z"
   },
   {
    "duration": 454,
    "start_time": "2022-05-10T07:30:36.855Z"
   },
   {
    "duration": 549,
    "start_time": "2022-05-10T07:30:42.233Z"
   },
   {
    "duration": 116,
    "start_time": "2022-05-10T07:30:45.561Z"
   },
   {
    "duration": 85,
    "start_time": "2022-05-10T07:30:50.079Z"
   },
   {
    "duration": 68,
    "start_time": "2022-05-10T07:30:55.192Z"
   },
   {
    "duration": 4,
    "start_time": "2022-05-10T07:31:00.549Z"
   },
   {
    "duration": 118,
    "start_time": "2022-05-10T07:31:05.353Z"
   },
   {
    "duration": 113,
    "start_time": "2022-05-10T07:31:06.746Z"
   },
   {
    "duration": 183,
    "start_time": "2022-05-10T07:31:10.743Z"
   },
   {
    "duration": 18,
    "start_time": "2022-05-10T07:31:15.760Z"
   },
   {
    "duration": 42,
    "start_time": "2022-05-10T07:31:17.315Z"
   },
   {
    "duration": 2,
    "start_time": "2022-05-10T07:31:20.060Z"
   },
   {
    "duration": 50,
    "start_time": "2022-05-10T07:31:21.488Z"
   },
   {
    "duration": 6,
    "start_time": "2022-05-10T07:31:25.116Z"
   },
   {
    "duration": 18,
    "start_time": "2022-05-10T07:31:28.737Z"
   },
   {
    "duration": 13,
    "start_time": "2022-05-10T07:31:31.209Z"
   },
   {
    "duration": 19,
    "start_time": "2022-05-10T07:31:36.000Z"
   },
   {
    "duration": 14,
    "start_time": "2022-05-10T07:31:36.870Z"
   },
   {
    "duration": 18,
    "start_time": "2022-05-10T07:31:39.633Z"
   },
   {
    "duration": 19,
    "start_time": "2022-05-10T07:31:40.622Z"
   },
   {
    "duration": 19,
    "start_time": "2022-05-10T07:31:43.481Z"
   },
   {
    "duration": 18,
    "start_time": "2022-05-10T07:31:44.414Z"
   },
   {
    "duration": 99,
    "start_time": "2022-05-10T07:31:44.902Z"
   },
   {
    "duration": 8,
    "start_time": "2022-05-10T07:32:49.389Z"
   },
   {
    "duration": 3,
    "start_time": "2022-05-10T07:32:56.167Z"
   },
   {
    "duration": 391,
    "start_time": "2022-05-10T07:32:57.813Z"
   },
   {
    "duration": 4,
    "start_time": "2022-05-10T07:33:17.464Z"
   },
   {
    "duration": 360,
    "start_time": "2022-05-10T07:33:17.922Z"
   },
   {
    "duration": 101,
    "start_time": "2022-05-10T07:36:43.602Z"
   },
   {
    "duration": 61,
    "start_time": "2022-05-10T07:37:17.381Z"
   },
   {
    "duration": 16,
    "start_time": "2022-05-10T07:37:21.918Z"
   },
   {
    "duration": 355,
    "start_time": "2022-05-10T07:38:28.537Z"
   },
   {
    "duration": 60,
    "start_time": "2022-05-10T07:38:44.224Z"
   },
   {
    "duration": 117,
    "start_time": "2022-05-10T07:38:51.432Z"
   },
   {
    "duration": 59,
    "start_time": "2022-05-10T07:38:55.694Z"
   },
   {
    "duration": 111,
    "start_time": "2022-05-10T07:46:14.749Z"
   },
   {
    "duration": 307,
    "start_time": "2022-05-10T07:46:25.737Z"
   },
   {
    "duration": 19,
    "start_time": "2022-05-10T07:46:43.136Z"
   },
   {
    "duration": 24,
    "start_time": "2022-05-10T07:46:59.616Z"
   },
   {
    "duration": 20,
    "start_time": "2022-05-10T07:47:10.056Z"
   },
   {
    "duration": 60,
    "start_time": "2022-05-10T07:47:25.441Z"
   },
   {
    "duration": 76,
    "start_time": "2022-05-10T07:52:37.816Z"
   },
   {
    "duration": 78,
    "start_time": "2022-05-10T07:52:54.563Z"
   },
   {
    "duration": 319,
    "start_time": "2022-05-10T07:53:21.782Z"
   },
   {
    "duration": 690,
    "start_time": "2022-05-10T09:20:07.052Z"
   },
   {
    "duration": 948,
    "start_time": "2022-05-10T09:20:07.744Z"
   },
   {
    "duration": 1753,
    "start_time": "2022-05-10T09:20:08.694Z"
   },
   {
    "duration": 21,
    "start_time": "2022-05-10T09:20:10.450Z"
   },
   {
    "duration": 141,
    "start_time": "2022-05-10T09:20:10.473Z"
   },
   {
    "duration": 142,
    "start_time": "2022-05-10T09:20:10.616Z"
   },
   {
    "duration": 452,
    "start_time": "2022-05-10T09:20:10.760Z"
   },
   {
    "duration": 476,
    "start_time": "2022-05-10T09:20:11.213Z"
   },
   {
    "duration": 560,
    "start_time": "2022-05-10T09:20:11.690Z"
   },
   {
    "duration": 126,
    "start_time": "2022-05-10T09:20:12.252Z"
   },
   {
    "duration": 93,
    "start_time": "2022-05-10T09:20:12.379Z"
   },
   {
    "duration": 77,
    "start_time": "2022-05-10T09:20:12.474Z"
   },
   {
    "duration": 4,
    "start_time": "2022-05-10T09:20:12.553Z"
   },
   {
    "duration": 122,
    "start_time": "2022-05-10T09:20:12.559Z"
   },
   {
    "duration": 118,
    "start_time": "2022-05-10T09:20:12.682Z"
   },
   {
    "duration": 156,
    "start_time": "2022-05-10T09:20:12.801Z"
   },
   {
    "duration": 115,
    "start_time": "2022-05-10T09:20:12.959Z"
   },
   {
    "duration": 19,
    "start_time": "2022-05-10T09:20:13.075Z"
   },
   {
    "duration": 51,
    "start_time": "2022-05-10T09:20:13.095Z"
   },
   {
    "duration": 4,
    "start_time": "2022-05-10T09:20:13.148Z"
   },
   {
    "duration": 48,
    "start_time": "2022-05-10T09:20:13.154Z"
   },
   {
    "duration": 33,
    "start_time": "2022-05-10T09:20:13.204Z"
   },
   {
    "duration": 31,
    "start_time": "2022-05-10T09:20:13.239Z"
   },
   {
    "duration": 14,
    "start_time": "2022-05-10T09:20:13.272Z"
   },
   {
    "duration": 18,
    "start_time": "2022-05-10T09:20:13.287Z"
   },
   {
    "duration": 12,
    "start_time": "2022-05-10T09:20:13.307Z"
   },
   {
    "duration": 27,
    "start_time": "2022-05-10T09:20:13.327Z"
   },
   {
    "duration": 14,
    "start_time": "2022-05-10T09:20:13.358Z"
   },
   {
    "duration": 18,
    "start_time": "2022-05-10T09:20:13.374Z"
   },
   {
    "duration": 44,
    "start_time": "2022-05-10T09:20:13.394Z"
   },
   {
    "duration": 105,
    "start_time": "2022-05-10T09:20:13.439Z"
   },
   {
    "duration": 14,
    "start_time": "2022-05-10T09:20:13.546Z"
   },
   {
    "duration": 3,
    "start_time": "2022-05-10T09:20:13.562Z"
   },
   {
    "duration": 403,
    "start_time": "2022-05-10T09:20:13.567Z"
   },
   {
    "duration": 107,
    "start_time": "2022-05-10T09:20:13.971Z"
   },
   {
    "duration": 70,
    "start_time": "2022-05-10T09:20:14.080Z"
   },
   {
    "duration": 10,
    "start_time": "2022-05-10T09:20:14.154Z"
   },
   {
    "duration": 414,
    "start_time": "2022-05-10T09:20:14.166Z"
   },
   {
    "duration": 88,
    "start_time": "2022-05-10T09:20:14.581Z"
   },
   {
    "duration": 126,
    "start_time": "2022-05-10T09:20:14.670Z"
   },
   {
    "duration": 70,
    "start_time": "2022-05-10T09:20:14.797Z"
   },
   {
    "duration": 86,
    "start_time": "2022-05-10T09:20:14.868Z"
   },
   {
    "duration": 88,
    "start_time": "2022-05-10T09:20:14.956Z"
   },
   {
    "duration": 25,
    "start_time": "2022-05-10T09:20:15.047Z"
   },
   {
    "duration": 5,
    "start_time": "2022-05-10T09:20:15.074Z"
   },
   {
    "duration": 25,
    "start_time": "2022-05-10T09:20:15.081Z"
   },
   {
    "duration": 691,
    "start_time": "2022-05-10T09:20:15.107Z"
   },
   {
    "duration": 13,
    "start_time": "2022-05-10T09:20:15.800Z"
   },
   {
    "duration": 32,
    "start_time": "2022-05-10T09:20:15.815Z"
   },
   {
    "duration": 673,
    "start_time": "2022-05-10T09:20:15.849Z"
   },
   {
    "duration": 38398,
    "start_time": "2022-05-10T09:20:16.524Z"
   },
   {
    "duration": 1082161,
    "start_time": "2022-05-10T09:20:54.925Z"
   },
   {
    "duration": 315866,
    "start_time": "2022-05-10T09:38:57.088Z"
   },
   {
    "duration": 335,
    "start_time": "2022-05-10T09:44:12.958Z"
   },
   {
    "duration": 377997,
    "start_time": "2022-05-10T09:44:13.295Z"
   },
   {
    "duration": 566549,
    "start_time": "2022-05-10T09:50:31.294Z"
   },
   {
    "duration": 4,
    "start_time": "2022-05-10T09:59:57.845Z"
   },
   {
    "duration": 12,
    "start_time": "2022-05-10T09:59:57.851Z"
   },
   {
    "duration": 9,
    "start_time": "2022-05-10T10:37:56.685Z"
   },
   {
    "duration": 917,
    "start_time": "2022-05-10T15:48:52.583Z"
   },
   {
    "duration": 990,
    "start_time": "2022-05-10T15:48:57.589Z"
   },
   {
    "duration": 1756,
    "start_time": "2022-05-10T15:49:00.017Z"
   },
   {
    "duration": 17,
    "start_time": "2022-05-10T15:49:01.775Z"
   },
   {
    "duration": 245,
    "start_time": "2022-05-10T15:49:01.794Z"
   },
   {
    "duration": 238,
    "start_time": "2022-05-10T15:49:03.526Z"
   },
   {
    "duration": 488,
    "start_time": "2022-05-10T15:49:04.229Z"
   },
   {
    "duration": 500,
    "start_time": "2022-05-10T15:49:04.719Z"
   },
   {
    "duration": 575,
    "start_time": "2022-05-10T15:49:05.744Z"
   },
   {
    "duration": 137,
    "start_time": "2022-05-10T15:49:06.321Z"
   },
   {
    "duration": 93,
    "start_time": "2022-05-10T15:49:07.838Z"
   },
   {
    "duration": 76,
    "start_time": "2022-05-10T15:49:08.213Z"
   },
   {
    "duration": 5,
    "start_time": "2022-05-10T15:49:08.589Z"
   },
   {
    "duration": 126,
    "start_time": "2022-05-10T15:49:09.422Z"
   },
   {
    "duration": 128,
    "start_time": "2022-05-10T15:49:09.700Z"
   },
   {
    "duration": 157,
    "start_time": "2022-05-10T15:49:10.428Z"
   },
   {
    "duration": 136,
    "start_time": "2022-05-10T15:49:10.750Z"
   },
   {
    "duration": 27,
    "start_time": "2022-05-10T15:49:11.444Z"
   },
   {
    "duration": 39,
    "start_time": "2022-05-10T15:49:11.862Z"
   },
   {
    "duration": 5,
    "start_time": "2022-05-10T15:49:12.666Z"
   },
   {
    "duration": 55,
    "start_time": "2022-05-10T15:49:12.926Z"
   },
   {
    "duration": 8,
    "start_time": "2022-05-10T15:49:13.116Z"
   },
   {
    "duration": 22,
    "start_time": "2022-05-10T15:49:13.915Z"
   },
   {
    "duration": 28,
    "start_time": "2022-05-10T15:49:14.345Z"
   },
   {
    "duration": 22,
    "start_time": "2022-05-10T15:49:15.032Z"
   },
   {
    "duration": 16,
    "start_time": "2022-05-10T15:49:15.407Z"
   },
   {
    "duration": 24,
    "start_time": "2022-05-10T15:49:16.134Z"
   },
   {
    "duration": 25,
    "start_time": "2022-05-10T15:49:16.458Z"
   },
   {
    "duration": 21,
    "start_time": "2022-05-10T15:49:17.306Z"
   },
   {
    "duration": 18,
    "start_time": "2022-05-10T15:49:17.787Z"
   },
   {
    "duration": 117,
    "start_time": "2022-05-10T15:49:17.982Z"
   },
   {
    "duration": 9,
    "start_time": "2022-05-10T15:49:19.682Z"
   },
   {
    "duration": 3,
    "start_time": "2022-05-10T15:49:20.034Z"
   },
   {
    "duration": 426,
    "start_time": "2022-05-10T15:49:20.206Z"
   },
   {
    "duration": 123,
    "start_time": "2022-05-10T15:49:20.634Z"
   },
   {
    "duration": 77,
    "start_time": "2022-05-10T15:49:22.140Z"
   },
   {
    "duration": 11,
    "start_time": "2022-05-10T15:49:23.948Z"
   },
   {
    "duration": 9,
    "start_time": "2022-05-10T15:50:09.349Z"
   },
   {
    "duration": 96,
    "start_time": "2022-05-10T15:50:12.150Z"
   },
   {
    "duration": 11,
    "start_time": "2022-05-10T15:50:13.571Z"
   },
   {
    "duration": 425,
    "start_time": "2022-05-10T15:50:16.063Z"
   },
   {
    "duration": 86,
    "start_time": "2022-05-10T15:50:18.148Z"
   },
   {
    "duration": 119,
    "start_time": "2022-05-10T15:50:18.797Z"
   },
   {
    "duration": 68,
    "start_time": "2022-05-10T15:50:19.949Z"
   },
   {
    "duration": 413,
    "start_time": "2022-05-10T15:55:20.450Z"
   },
   {
    "duration": 1502,
    "start_time": "2022-05-10T15:55:37.967Z"
   },
   {
    "duration": 1288,
    "start_time": "2022-05-10T15:55:48.669Z"
   },
   {
    "duration": 1545,
    "start_time": "2022-05-10T15:55:58.988Z"
   },
   {
    "duration": 966,
    "start_time": "2022-05-10T15:56:08.968Z"
   },
   {
    "duration": 930,
    "start_time": "2022-05-10T15:58:34.454Z"
   },
   {
    "duration": 869,
    "start_time": "2022-05-10T15:59:53.623Z"
   },
   {
    "duration": 1025,
    "start_time": "2022-05-10T16:00:05.446Z"
   },
   {
    "duration": 1238,
    "start_time": "2022-05-10T16:01:07.687Z"
   },
   {
    "duration": 43,
    "start_time": "2022-05-10T16:01:17.345Z"
   },
   {
    "duration": 54,
    "start_time": "2022-05-10T16:01:25.562Z"
   },
   {
    "duration": 53,
    "start_time": "2022-05-10T16:01:35.780Z"
   },
   {
    "duration": 54,
    "start_time": "2022-05-10T16:01:59.991Z"
   },
   {
    "duration": 4,
    "start_time": "2022-05-10T16:02:12.061Z"
   },
   {
    "duration": 4,
    "start_time": "2022-05-10T16:02:13.855Z"
   },
   {
    "duration": 1924,
    "start_time": "2022-05-10T16:02:16.188Z"
   },
   {
    "duration": 14,
    "start_time": "2022-05-10T16:02:18.114Z"
   },
   {
    "duration": 153,
    "start_time": "2022-05-10T16:02:18.129Z"
   },
   {
    "duration": 139,
    "start_time": "2022-05-10T16:02:18.284Z"
   },
   {
    "duration": 440,
    "start_time": "2022-05-10T16:02:18.424Z"
   },
   {
    "duration": 621,
    "start_time": "2022-05-10T16:02:18.866Z"
   },
   {
    "duration": 514,
    "start_time": "2022-05-10T16:02:19.490Z"
   },
   {
    "duration": 217,
    "start_time": "2022-05-10T16:02:20.007Z"
   },
   {
    "duration": 131,
    "start_time": "2022-05-10T16:02:21.078Z"
   },
   {
    "duration": 94,
    "start_time": "2022-05-10T16:02:21.422Z"
   },
   {
    "duration": 4,
    "start_time": "2022-05-10T16:02:21.778Z"
   },
   {
    "duration": 116,
    "start_time": "2022-05-10T16:02:22.123Z"
   },
   {
    "duration": 219,
    "start_time": "2022-05-10T16:02:22.346Z"
   },
   {
    "duration": 154,
    "start_time": "2022-05-10T16:02:23.643Z"
   },
   {
    "duration": 127,
    "start_time": "2022-05-10T16:02:25.507Z"
   },
   {
    "duration": 24,
    "start_time": "2022-05-10T16:02:26.230Z"
   },
   {
    "duration": 36,
    "start_time": "2022-05-10T16:02:26.777Z"
   },
   {
    "duration": 2,
    "start_time": "2022-05-10T16:02:27.706Z"
   },
   {
    "duration": 53,
    "start_time": "2022-05-10T16:02:27.710Z"
   },
   {
    "duration": 8,
    "start_time": "2022-05-10T16:02:27.943Z"
   },
   {
    "duration": 22,
    "start_time": "2022-05-10T16:02:28.924Z"
   },
   {
    "duration": 18,
    "start_time": "2022-05-10T16:02:29.324Z"
   },
   {
    "duration": 23,
    "start_time": "2022-05-10T16:02:30.295Z"
   },
   {
    "duration": 20,
    "start_time": "2022-05-10T16:02:30.658Z"
   },
   {
    "duration": 22,
    "start_time": "2022-05-10T16:02:31.533Z"
   },
   {
    "duration": 19,
    "start_time": "2022-05-10T16:02:31.871Z"
   },
   {
    "duration": 23,
    "start_time": "2022-05-10T16:02:32.525Z"
   },
   {
    "duration": 18,
    "start_time": "2022-05-10T16:02:33.001Z"
   },
   {
    "duration": 132,
    "start_time": "2022-05-10T16:02:33.161Z"
   },
   {
    "duration": 10,
    "start_time": "2022-05-10T16:02:34.660Z"
   },
   {
    "duration": 3,
    "start_time": "2022-05-10T16:02:34.987Z"
   },
   {
    "duration": 407,
    "start_time": "2022-05-10T16:02:35.141Z"
   },
   {
    "duration": 85,
    "start_time": "2022-05-10T16:02:36.684Z"
   },
   {
    "duration": 67,
    "start_time": "2022-05-10T16:02:38.171Z"
   },
   {
    "duration": 9,
    "start_time": "2022-05-10T16:02:39.066Z"
   },
   {
    "duration": 413,
    "start_time": "2022-05-10T16:02:39.659Z"
   },
   {
    "duration": 65,
    "start_time": "2022-05-10T16:02:40.841Z"
   },
   {
    "duration": 120,
    "start_time": "2022-05-10T16:02:41.509Z"
   },
   {
    "duration": 68,
    "start_time": "2022-05-10T16:02:42.618Z"
   },
   {
    "duration": 61,
    "start_time": "2022-05-10T16:02:46.060Z"
   },
   {
    "duration": 51,
    "start_time": "2022-05-10T16:02:54.235Z"
   },
   {
    "duration": 89,
    "start_time": "2022-05-10T16:03:09.940Z"
   },
   {
    "duration": 63,
    "start_time": "2022-05-10T16:03:20.122Z"
   },
   {
    "duration": 71,
    "start_time": "2022-05-10T16:04:46.452Z"
   },
   {
    "duration": 73,
    "start_time": "2022-05-10T16:04:52.911Z"
   },
   {
    "duration": 31,
    "start_time": "2022-05-10T16:05:38.580Z"
   },
   {
    "duration": 113,
    "start_time": "2022-05-10T16:05:49.804Z"
   },
   {
    "duration": 776,
    "start_time": "2022-05-10T16:07:30.108Z"
   },
   {
    "duration": 943,
    "start_time": "2022-05-10T16:07:30.886Z"
   },
   {
    "duration": 1737,
    "start_time": "2022-05-10T16:07:31.831Z"
   },
   {
    "duration": 17,
    "start_time": "2022-05-10T16:07:33.571Z"
   },
   {
    "duration": 144,
    "start_time": "2022-05-10T16:07:33.589Z"
   },
   {
    "duration": 130,
    "start_time": "2022-05-10T16:07:33.734Z"
   },
   {
    "duration": 483,
    "start_time": "2022-05-10T16:07:33.865Z"
   },
   {
    "duration": 462,
    "start_time": "2022-05-10T16:07:34.354Z"
   },
   {
    "duration": 566,
    "start_time": "2022-05-10T16:07:34.817Z"
   },
   {
    "duration": 136,
    "start_time": "2022-05-10T16:07:35.386Z"
   },
   {
    "duration": 99,
    "start_time": "2022-05-10T16:07:35.523Z"
   },
   {
    "duration": 89,
    "start_time": "2022-05-10T16:07:35.624Z"
   },
   {
    "duration": 4,
    "start_time": "2022-05-10T16:07:35.715Z"
   },
   {
    "duration": 133,
    "start_time": "2022-05-10T16:07:35.721Z"
   },
   {
    "duration": 132,
    "start_time": "2022-05-10T16:07:35.856Z"
   },
   {
    "duration": 177,
    "start_time": "2022-05-10T16:07:35.990Z"
   },
   {
    "duration": 128,
    "start_time": "2022-05-10T16:07:36.168Z"
   },
   {
    "duration": 24,
    "start_time": "2022-05-10T16:07:36.297Z"
   },
   {
    "duration": 50,
    "start_time": "2022-05-10T16:07:36.323Z"
   },
   {
    "duration": 5,
    "start_time": "2022-05-10T16:07:36.375Z"
   },
   {
    "duration": 52,
    "start_time": "2022-05-10T16:07:36.382Z"
   },
   {
    "duration": 23,
    "start_time": "2022-05-10T16:07:36.436Z"
   },
   {
    "duration": 25,
    "start_time": "2022-05-10T16:07:36.460Z"
   },
   {
    "duration": 20,
    "start_time": "2022-05-10T16:07:36.486Z"
   },
   {
    "duration": 33,
    "start_time": "2022-05-10T16:07:36.508Z"
   },
   {
    "duration": 26,
    "start_time": "2022-05-10T16:07:36.543Z"
   },
   {
    "duration": 21,
    "start_time": "2022-05-10T16:07:36.571Z"
   },
   {
    "duration": 19,
    "start_time": "2022-05-10T16:07:36.597Z"
   },
   {
    "duration": 48,
    "start_time": "2022-05-10T16:07:36.618Z"
   },
   {
    "duration": 18,
    "start_time": "2022-05-10T16:07:36.668Z"
   },
   {
    "duration": 131,
    "start_time": "2022-05-10T16:07:36.688Z"
   },
   {
    "duration": 8,
    "start_time": "2022-05-10T16:07:36.821Z"
   },
   {
    "duration": 4,
    "start_time": "2022-05-10T16:07:36.831Z"
   },
   {
    "duration": 425,
    "start_time": "2022-05-10T16:07:36.837Z"
   },
   {
    "duration": 122,
    "start_time": "2022-05-10T16:07:37.264Z"
   },
   {
    "duration": 85,
    "start_time": "2022-05-10T16:07:37.388Z"
   },
   {
    "duration": 10,
    "start_time": "2022-05-10T16:07:37.475Z"
   },
   {
    "duration": 411,
    "start_time": "2022-05-10T16:07:37.486Z"
   },
   {
    "duration": 95,
    "start_time": "2022-05-10T16:07:37.899Z"
   },
   {
    "duration": 119,
    "start_time": "2022-05-10T16:07:37.996Z"
   },
   {
    "duration": 74,
    "start_time": "2022-05-10T16:07:38.117Z"
   },
   {
    "duration": 85,
    "start_time": "2022-05-10T16:07:38.193Z"
   },
   {
    "duration": 41,
    "start_time": "2022-05-10T16:07:38.280Z"
   },
   {
    "duration": 90,
    "start_time": "2022-05-10T16:07:38.322Z"
   },
   {
    "duration": 87,
    "start_time": "2022-05-10T16:07:38.414Z"
   },
   {
    "duration": 24,
    "start_time": "2022-05-10T16:07:38.503Z"
   },
   {
    "duration": 4,
    "start_time": "2022-05-10T16:07:38.529Z"
   },
   {
    "duration": 10,
    "start_time": "2022-05-10T16:07:38.555Z"
   },
   {
    "duration": 657,
    "start_time": "2022-05-10T16:07:38.567Z"
   },
   {
    "duration": 15,
    "start_time": "2022-05-10T16:07:39.225Z"
   },
   {
    "duration": 28,
    "start_time": "2022-05-10T16:07:39.242Z"
   },
   {
    "duration": 605,
    "start_time": "2022-05-10T16:07:39.272Z"
   },
   {
    "duration": 39362,
    "start_time": "2022-05-10T16:07:39.879Z"
   },
   {
    "duration": 971250,
    "start_time": "2022-05-10T16:08:19.243Z"
   },
   {
    "duration": 286459,
    "start_time": "2022-05-10T16:24:30.496Z"
   },
   {
    "duration": 277,
    "start_time": "2022-05-10T16:29:16.958Z"
   },
   {
    "duration": 377313,
    "start_time": "2022-05-10T16:29:17.237Z"
   },
   {
    "duration": 495629,
    "start_time": "2022-05-10T16:35:34.552Z"
   },
   {
    "duration": 4,
    "start_time": "2022-05-10T16:43:50.256Z"
   },
   {
    "duration": 29,
    "start_time": "2022-05-10T16:43:50.263Z"
   }
  ],
  "colab": {
   "collapsed_sections": [],
   "name": "Pushkar_GB_project.ipynb",
   "provenance": []
  },
  "kernelspec": {
   "display_name": "Python 3.9.12 ('base')",
   "language": "python",
   "name": "python3"
  },
  "language_info": {
   "codemirror_mode": {
    "name": "ipython",
    "version": 3
   },
   "file_extension": ".py",
   "mimetype": "text/x-python",
   "name": "python",
   "nbconvert_exporter": "python",
   "pygments_lexer": "ipython3",
   "version": "3.9.12"
  },
  "toc": {
   "base_numbering": 1,
   "nav_menu": {},
   "number_sections": true,
   "sideBar": true,
   "skip_h1_title": true,
   "title_cell": "Table of Contents",
   "title_sidebar": "Contents",
   "toc_cell": false,
   "toc_position": {
    "height": "calc(100% - 180px)",
    "left": "10px",
    "top": "150px",
    "width": "165px"
   },
   "toc_section_display": true,
   "toc_window_display": true
  },
  "vscode": {
   "interpreter": {
    "hash": "5179d32cf6ec497baf3f8a3ef987cc77c5d2dc691fdde20a56316522f61a7323"
   }
  }
 },
 "nbformat": 4,
 "nbformat_minor": 5
}
