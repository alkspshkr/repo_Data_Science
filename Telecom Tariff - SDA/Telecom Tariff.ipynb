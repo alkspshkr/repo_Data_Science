{
 "cells": [
  {
   "cell_type": "markdown",
   "id": "42863d74",
   "metadata": {},
   "source": [
    "# Определение перспективного тарифа для телеком-компании \n",
    "\n",
    "## Описание проета\n",
    "\n",
    "Клиентам предлагается два тарифных плана: «Смарт» и «Ультра». Чтобы скорректировать рекламный бюджет, коммерческий департамент хочет понять, какой тариф приносит больше денег.\n",
    "\n",
    "## Описание тарифов\n",
    "\n",
    "### Тариф \"Смарт\"\n",
    "1. Ежемесячная плата: 550 рублей;\n",
    "2. Включено:\n",
    "    . 500 минут разговора;\n",
    "    . 50 сообщений;\n",
    "    . 15 Гб интернет-трафика.\n",
    "3. Стоимость сверх-тарифного пакета:\n",
    "    . 1 минута разговора - 3 рубля;\n",
    "    . 1 сообщение - 3 рубля;\n",
    "    . 1 Гб интернет-трафика: 200 рублей.\n",
    "    \n",
    "### Тариф \"Ультра\"\n",
    "1. Ежемесячная плата: 1950 рублей;\n",
    "2. Включено:\n",
    "    . 3000 минут разговора;\n",
    "    . 1000 сообщений;\n",
    "    . 30 Гб интернет-трафика.\n",
    "3. Стоимость сверх-тарифного пакета:\n",
    "    . 1 минута разговора - 1 рубль ;\n",
    "    . 1 сообщение - 1 рубль;\n",
    "    . 1 Гб интернет-трафика: 150 рублей.\n",
    "    \n",
    "**Примечание:**\n",
    "\n",
    "«Мегалайн» всегда округляет секунды до минут, а мегабайты — до гигабайт. Каждый звонок округляется отдельно: даже если он длился всего 1 секунду, будет засчитан как 1 минута.\n",
    "\n",
    "Для веб-трафика отдельные сессии не считаются. Вместо этого общая сумма за месяц округляется в бо́льшую сторону. Если абонент использует 1025 мегабайт в этом месяце, с него возьмут плату за 2 гигабайта.\n",
    "\n",
    "## Содержание\n",
    "1. [Изучение общей информации о данных](#1)\n",
    "2. [Предобработка данных](#2)\n",
    "    - [Обработка пропусков](#2_1)\n",
    "    - [Приведение данных к соответствующему типу](#2_2)\n",
    "    - [Поиск дубликатов](#2_3)\n",
    "    - [Количество сделанных звонков и израсходованных минут разговора по месяцам](#2_4)\n",
    "    - [Количество отправленных сообщений по месяцам](#2_5)\n",
    "    - [Объем израсходованного интернет-трафика по месяцам](#2_6)\n",
    "    - [Расчет помесячной выручки с каждого пользователя](#2_7)\n",
    "3. [Исследовательская часть](#3)\n",
    "    - [Сколько минут разговора](#3_1)\n",
    "    - [Сколько сообщений](#3_2)\n",
    "    - [Какой объем интернет-трафика](#3_3)\n",
    "    - [Проверка гипотез](#3_4)\n",
    "4. [Общий вывод](#4)"
   ]
  },
  {
   "cell_type": "markdown",
   "id": "db6032ea",
   "metadata": {},
   "source": [
    "## Изучение общей информации о данных <a id=\"1\"></a>\n",
    "\n",
    "Для начала работы, загрузим всю необходимую информацию и ознакомимся с данными. Для этого подключим все необходимые пакеты и модули."
   ]
  },
  {
   "cell_type": "code",
   "execution_count": 1,
   "id": "caf84084",
   "metadata": {},
   "outputs": [],
   "source": [
    "import pandas as pd\n",
    "import numpy as np\n",
    "import matplotlib.pyplot as plt\n",
    "from scipy import stats as st"
   ]
  },
  {
   "cell_type": "code",
   "execution_count": 2,
   "id": "34bb3b3f",
   "metadata": {},
   "outputs": [],
   "source": [
    "try:\n",
    "    calls = pd.read_csv('datasets/calls.csv')\n",
    "    internet = pd.read_csv('datasets/internet.csv')\n",
    "    messages = pd.read_csv('datasets/messages.csv')\n",
    "    tariffs = pd.read_csv('datasets/tariffs.csv')\n",
    "    users = pd.read_csv('datasets/users.csv')\n",
    "except:\n",
    "    calls = pd.read_csv('/datasets/calls.csv')\n",
    "    internet = pd.read_csv('/datasets/internet.csv')\n",
    "    messages = pd.read_csv('/datasets/messages.csv')\n",
    "    tariffs = pd.read_csv('/datasets/tariffs.csv')\n",
    "    users = pd.read_csv('/datasets/users.csv') "
   ]
  },
  {
   "cell_type": "markdown",
   "id": "0fcf5679",
   "metadata": {},
   "source": [
    "Теперь ознакомимся с информацией о клиентах подробнее."
   ]
  },
  {
   "cell_type": "markdown",
   "id": "dfa33266",
   "metadata": {},
   "source": [
    "**`Calls` (информация о звонках)**"
   ]
  },
  {
   "cell_type": "code",
   "execution_count": 3,
   "id": "d2f032af",
   "metadata": {},
   "outputs": [
    {
     "name": "stdout",
     "output_type": "stream",
     "text": [
      "<class 'pandas.core.frame.DataFrame'>\n",
      "RangeIndex: 202607 entries, 0 to 202606\n",
      "Data columns (total 4 columns):\n",
      "id           202607 non-null object\n",
      "call_date    202607 non-null object\n",
      "duration     202607 non-null float64\n",
      "user_id      202607 non-null int64\n",
      "dtypes: float64(1), int64(1), object(2)\n",
      "memory usage: 6.2+ MB\n"
     ]
    }
   ],
   "source": [
    "calls.info()"
   ]
  },
  {
   "cell_type": "code",
   "execution_count": 4,
   "id": "b2eae507",
   "metadata": {},
   "outputs": [
    {
     "data": {
      "text/html": [
       "<div>\n",
       "<style scoped>\n",
       "    .dataframe tbody tr th:only-of-type {\n",
       "        vertical-align: middle;\n",
       "    }\n",
       "\n",
       "    .dataframe tbody tr th {\n",
       "        vertical-align: top;\n",
       "    }\n",
       "\n",
       "    .dataframe thead th {\n",
       "        text-align: right;\n",
       "    }\n",
       "</style>\n",
       "<table border=\"1\" class=\"dataframe\">\n",
       "  <thead>\n",
       "    <tr style=\"text-align: right;\">\n",
       "      <th></th>\n",
       "      <th>id</th>\n",
       "      <th>call_date</th>\n",
       "      <th>duration</th>\n",
       "      <th>user_id</th>\n",
       "    </tr>\n",
       "  </thead>\n",
       "  <tbody>\n",
       "    <tr>\n",
       "      <td>0</td>\n",
       "      <td>1000_0</td>\n",
       "      <td>2018-07-25</td>\n",
       "      <td>0.00</td>\n",
       "      <td>1000</td>\n",
       "    </tr>\n",
       "    <tr>\n",
       "      <td>1</td>\n",
       "      <td>1000_1</td>\n",
       "      <td>2018-08-17</td>\n",
       "      <td>0.00</td>\n",
       "      <td>1000</td>\n",
       "    </tr>\n",
       "    <tr>\n",
       "      <td>2</td>\n",
       "      <td>1000_2</td>\n",
       "      <td>2018-06-11</td>\n",
       "      <td>2.85</td>\n",
       "      <td>1000</td>\n",
       "    </tr>\n",
       "    <tr>\n",
       "      <td>3</td>\n",
       "      <td>1000_3</td>\n",
       "      <td>2018-09-21</td>\n",
       "      <td>13.80</td>\n",
       "      <td>1000</td>\n",
       "    </tr>\n",
       "    <tr>\n",
       "      <td>4</td>\n",
       "      <td>1000_4</td>\n",
       "      <td>2018-12-15</td>\n",
       "      <td>5.18</td>\n",
       "      <td>1000</td>\n",
       "    </tr>\n",
       "  </tbody>\n",
       "</table>\n",
       "</div>"
      ],
      "text/plain": [
       "       id   call_date  duration  user_id\n",
       "0  1000_0  2018-07-25      0.00     1000\n",
       "1  1000_1  2018-08-17      0.00     1000\n",
       "2  1000_2  2018-06-11      2.85     1000\n",
       "3  1000_3  2018-09-21     13.80     1000\n",
       "4  1000_4  2018-12-15      5.18     1000"
      ]
     },
     "execution_count": 4,
     "metadata": {},
     "output_type": "execute_result"
    }
   ],
   "source": [
    "calls.head()"
   ]
  },
  {
   "cell_type": "markdown",
   "id": "db504c44",
   "metadata": {},
   "source": [
    "Информация о таблице:\n",
    "- `id` - уникальный номер звонка;\n",
    "- `call_date` - дата звонка;\n",
    "- `duration` - длительность звонка в минутах;\n",
    "- `user_id` - идентификатор пользователя, сделавшего звонок"
   ]
  },
  {
   "cell_type": "markdown",
   "id": "3a740a0a",
   "metadata": {},
   "source": [
    "Предварительно можно сказать следующее:\n",
    "- информации по признакам в таблице достаточно, чтобы понять, какие данные находятся в информации о звонках;\n",
    "- явных пропусков нет.\n",
    "- имеется некорректный тип данных (`duration` - `float`, `call_date` - `object`)"
   ]
  },
  {
   "cell_type": "markdown",
   "id": "7d3b0a69",
   "metadata": {},
   "source": [
    "**`Internet` (информация об интернет-сессиях)**"
   ]
  },
  {
   "cell_type": "code",
   "execution_count": 5,
   "id": "9fdeba7e",
   "metadata": {},
   "outputs": [
    {
     "name": "stdout",
     "output_type": "stream",
     "text": [
      "<class 'pandas.core.frame.DataFrame'>\n",
      "RangeIndex: 149396 entries, 0 to 149395\n",
      "Data columns (total 5 columns):\n",
      "Unnamed: 0      149396 non-null int64\n",
      "id              149396 non-null object\n",
      "mb_used         149396 non-null float64\n",
      "session_date    149396 non-null object\n",
      "user_id         149396 non-null int64\n",
      "dtypes: float64(1), int64(2), object(2)\n",
      "memory usage: 5.7+ MB\n"
     ]
    }
   ],
   "source": [
    "internet.info()"
   ]
  },
  {
   "cell_type": "code",
   "execution_count": 6,
   "id": "3f63c2ca",
   "metadata": {},
   "outputs": [
    {
     "data": {
      "text/html": [
       "<div>\n",
       "<style scoped>\n",
       "    .dataframe tbody tr th:only-of-type {\n",
       "        vertical-align: middle;\n",
       "    }\n",
       "\n",
       "    .dataframe tbody tr th {\n",
       "        vertical-align: top;\n",
       "    }\n",
       "\n",
       "    .dataframe thead th {\n",
       "        text-align: right;\n",
       "    }\n",
       "</style>\n",
       "<table border=\"1\" class=\"dataframe\">\n",
       "  <thead>\n",
       "    <tr style=\"text-align: right;\">\n",
       "      <th></th>\n",
       "      <th>Unnamed: 0</th>\n",
       "      <th>id</th>\n",
       "      <th>mb_used</th>\n",
       "      <th>session_date</th>\n",
       "      <th>user_id</th>\n",
       "    </tr>\n",
       "  </thead>\n",
       "  <tbody>\n",
       "    <tr>\n",
       "      <td>0</td>\n",
       "      <td>0</td>\n",
       "      <td>1000_0</td>\n",
       "      <td>112.95</td>\n",
       "      <td>2018-11-25</td>\n",
       "      <td>1000</td>\n",
       "    </tr>\n",
       "    <tr>\n",
       "      <td>1</td>\n",
       "      <td>1</td>\n",
       "      <td>1000_1</td>\n",
       "      <td>1052.81</td>\n",
       "      <td>2018-09-07</td>\n",
       "      <td>1000</td>\n",
       "    </tr>\n",
       "    <tr>\n",
       "      <td>2</td>\n",
       "      <td>2</td>\n",
       "      <td>1000_2</td>\n",
       "      <td>1197.26</td>\n",
       "      <td>2018-06-25</td>\n",
       "      <td>1000</td>\n",
       "    </tr>\n",
       "    <tr>\n",
       "      <td>3</td>\n",
       "      <td>3</td>\n",
       "      <td>1000_3</td>\n",
       "      <td>550.27</td>\n",
       "      <td>2018-08-22</td>\n",
       "      <td>1000</td>\n",
       "    </tr>\n",
       "    <tr>\n",
       "      <td>4</td>\n",
       "      <td>4</td>\n",
       "      <td>1000_4</td>\n",
       "      <td>302.56</td>\n",
       "      <td>2018-09-24</td>\n",
       "      <td>1000</td>\n",
       "    </tr>\n",
       "  </tbody>\n",
       "</table>\n",
       "</div>"
      ],
      "text/plain": [
       "   Unnamed: 0      id  mb_used session_date  user_id\n",
       "0           0  1000_0   112.95   2018-11-25     1000\n",
       "1           1  1000_1  1052.81   2018-09-07     1000\n",
       "2           2  1000_2  1197.26   2018-06-25     1000\n",
       "3           3  1000_3   550.27   2018-08-22     1000\n",
       "4           4  1000_4   302.56   2018-09-24     1000"
      ]
     },
     "execution_count": 6,
     "metadata": {},
     "output_type": "execute_result"
    }
   ],
   "source": [
    "internet.head()"
   ]
  },
  {
   "cell_type": "markdown",
   "id": "30f08cf8",
   "metadata": {},
   "source": [
    "Информация о таблице:\n",
    "- `id` - уникальный номер сессии;\n",
    "- `mb_used` - объём потраченного за сессию интернет-трафика (в мегабайтах);\n",
    "- `session_date` - дата_интернет-сессии;\n",
    "- `user_id` - идентификатор пользователя."
   ]
  },
  {
   "cell_type": "markdown",
   "id": "0d3a2ef5",
   "metadata": {},
   "source": [
    "Предварительно можно сказать следующее:\n",
    "- информации по признакам в таблице достаточно, чтобы понять, какие данные находятся в информации о звонках;\n",
    "- явных пропусков нет.\n",
    "- имеется некорректный тип данных (`mb_used` - `float`, `session_date` - `object`)\n",
    "- нет информации о том, что за столбец **Unnamed**, который, предположительно, дублирует индексы таблицы. Для нас он не нужен. Удалим его."
   ]
  },
  {
   "cell_type": "code",
   "execution_count": 7,
   "id": "ecd7f777",
   "metadata": {},
   "outputs": [],
   "source": [
    "internet = internet.drop(columns = 'Unnamed: 0')"
   ]
  },
  {
   "cell_type": "markdown",
   "id": "3fabd057",
   "metadata": {},
   "source": [
    "Проверим, что столбец удалился"
   ]
  },
  {
   "cell_type": "code",
   "execution_count": 8,
   "id": "53b02b94",
   "metadata": {},
   "outputs": [
    {
     "name": "stdout",
     "output_type": "stream",
     "text": [
      "<class 'pandas.core.frame.DataFrame'>\n",
      "RangeIndex: 149396 entries, 0 to 149395\n",
      "Data columns (total 4 columns):\n",
      "id              149396 non-null object\n",
      "mb_used         149396 non-null float64\n",
      "session_date    149396 non-null object\n",
      "user_id         149396 non-null int64\n",
      "dtypes: float64(1), int64(1), object(2)\n",
      "memory usage: 4.6+ MB\n"
     ]
    }
   ],
   "source": [
    "internet.info()"
   ]
  },
  {
   "cell_type": "markdown",
   "id": "40ea0228",
   "metadata": {},
   "source": [
    "**`messages` (информация о сообщениях)**"
   ]
  },
  {
   "cell_type": "code",
   "execution_count": 9,
   "id": "c493e888",
   "metadata": {},
   "outputs": [
    {
     "name": "stdout",
     "output_type": "stream",
     "text": [
      "<class 'pandas.core.frame.DataFrame'>\n",
      "RangeIndex: 123036 entries, 0 to 123035\n",
      "Data columns (total 3 columns):\n",
      "id              123036 non-null object\n",
      "message_date    123036 non-null object\n",
      "user_id         123036 non-null int64\n",
      "dtypes: int64(1), object(2)\n",
      "memory usage: 2.8+ MB\n"
     ]
    }
   ],
   "source": [
    "messages.info()"
   ]
  },
  {
   "cell_type": "code",
   "execution_count": 10,
   "id": "440d22df",
   "metadata": {},
   "outputs": [
    {
     "data": {
      "text/html": [
       "<div>\n",
       "<style scoped>\n",
       "    .dataframe tbody tr th:only-of-type {\n",
       "        vertical-align: middle;\n",
       "    }\n",
       "\n",
       "    .dataframe tbody tr th {\n",
       "        vertical-align: top;\n",
       "    }\n",
       "\n",
       "    .dataframe thead th {\n",
       "        text-align: right;\n",
       "    }\n",
       "</style>\n",
       "<table border=\"1\" class=\"dataframe\">\n",
       "  <thead>\n",
       "    <tr style=\"text-align: right;\">\n",
       "      <th></th>\n",
       "      <th>id</th>\n",
       "      <th>message_date</th>\n",
       "      <th>user_id</th>\n",
       "    </tr>\n",
       "  </thead>\n",
       "  <tbody>\n",
       "    <tr>\n",
       "      <td>0</td>\n",
       "      <td>1000_0</td>\n",
       "      <td>2018-06-27</td>\n",
       "      <td>1000</td>\n",
       "    </tr>\n",
       "    <tr>\n",
       "      <td>1</td>\n",
       "      <td>1000_1</td>\n",
       "      <td>2018-10-08</td>\n",
       "      <td>1000</td>\n",
       "    </tr>\n",
       "    <tr>\n",
       "      <td>2</td>\n",
       "      <td>1000_2</td>\n",
       "      <td>2018-08-04</td>\n",
       "      <td>1000</td>\n",
       "    </tr>\n",
       "    <tr>\n",
       "      <td>3</td>\n",
       "      <td>1000_3</td>\n",
       "      <td>2018-06-16</td>\n",
       "      <td>1000</td>\n",
       "    </tr>\n",
       "    <tr>\n",
       "      <td>4</td>\n",
       "      <td>1000_4</td>\n",
       "      <td>2018-12-05</td>\n",
       "      <td>1000</td>\n",
       "    </tr>\n",
       "  </tbody>\n",
       "</table>\n",
       "</div>"
      ],
      "text/plain": [
       "       id message_date  user_id\n",
       "0  1000_0   2018-06-27     1000\n",
       "1  1000_1   2018-10-08     1000\n",
       "2  1000_2   2018-08-04     1000\n",
       "3  1000_3   2018-06-16     1000\n",
       "4  1000_4   2018-12-05     1000"
      ]
     },
     "execution_count": 10,
     "metadata": {},
     "output_type": "execute_result"
    }
   ],
   "source": [
    "messages.head()"
   ]
  },
  {
   "cell_type": "markdown",
   "id": "f7aedded",
   "metadata": {},
   "source": [
    "Информация о таблице:\n",
    "- `id` - уникальный номер сессии;\n",
    "- `message_date` - дата сообщения;\n",
    "- `user_id` - идентификатор пользователя."
   ]
  },
  {
   "cell_type": "markdown",
   "id": "df6a6a49",
   "metadata": {},
   "source": [
    "Предварительно можно сказать следующее:\n",
    "- информации по признакам в таблице достаточно, чтобы понять, какие данные находятся в информации о звонках;\n",
    "- явных пропусков нет.\n",
    "- имеется некорректный тип данных (`message_date` - `object`)"
   ]
  },
  {
   "cell_type": "markdown",
   "id": "a71c25a3",
   "metadata": {},
   "source": [
    "**`users` (информация о пользователях)**"
   ]
  },
  {
   "cell_type": "code",
   "execution_count": 11,
   "id": "85b17e27",
   "metadata": {},
   "outputs": [
    {
     "name": "stdout",
     "output_type": "stream",
     "text": [
      "<class 'pandas.core.frame.DataFrame'>\n",
      "RangeIndex: 500 entries, 0 to 499\n",
      "Data columns (total 8 columns):\n",
      "user_id       500 non-null int64\n",
      "age           500 non-null int64\n",
      "churn_date    38 non-null object\n",
      "city          500 non-null object\n",
      "first_name    500 non-null object\n",
      "last_name     500 non-null object\n",
      "reg_date      500 non-null object\n",
      "tariff        500 non-null object\n",
      "dtypes: int64(2), object(6)\n",
      "memory usage: 31.4+ KB\n"
     ]
    }
   ],
   "source": [
    "users.info()"
   ]
  },
  {
   "cell_type": "code",
   "execution_count": 12,
   "id": "7d1a9da1",
   "metadata": {},
   "outputs": [
    {
     "data": {
      "text/html": [
       "<div>\n",
       "<style scoped>\n",
       "    .dataframe tbody tr th:only-of-type {\n",
       "        vertical-align: middle;\n",
       "    }\n",
       "\n",
       "    .dataframe tbody tr th {\n",
       "        vertical-align: top;\n",
       "    }\n",
       "\n",
       "    .dataframe thead th {\n",
       "        text-align: right;\n",
       "    }\n",
       "</style>\n",
       "<table border=\"1\" class=\"dataframe\">\n",
       "  <thead>\n",
       "    <tr style=\"text-align: right;\">\n",
       "      <th></th>\n",
       "      <th>user_id</th>\n",
       "      <th>age</th>\n",
       "      <th>churn_date</th>\n",
       "      <th>city</th>\n",
       "      <th>first_name</th>\n",
       "      <th>last_name</th>\n",
       "      <th>reg_date</th>\n",
       "      <th>tariff</th>\n",
       "    </tr>\n",
       "  </thead>\n",
       "  <tbody>\n",
       "    <tr>\n",
       "      <td>0</td>\n",
       "      <td>1000</td>\n",
       "      <td>52</td>\n",
       "      <td>NaN</td>\n",
       "      <td>Краснодар</td>\n",
       "      <td>Рафаил</td>\n",
       "      <td>Верещагин</td>\n",
       "      <td>2018-05-25</td>\n",
       "      <td>ultra</td>\n",
       "    </tr>\n",
       "    <tr>\n",
       "      <td>1</td>\n",
       "      <td>1001</td>\n",
       "      <td>41</td>\n",
       "      <td>NaN</td>\n",
       "      <td>Москва</td>\n",
       "      <td>Иван</td>\n",
       "      <td>Ежов</td>\n",
       "      <td>2018-11-01</td>\n",
       "      <td>smart</td>\n",
       "    </tr>\n",
       "    <tr>\n",
       "      <td>2</td>\n",
       "      <td>1002</td>\n",
       "      <td>59</td>\n",
       "      <td>NaN</td>\n",
       "      <td>Стерлитамак</td>\n",
       "      <td>Евгений</td>\n",
       "      <td>Абрамович</td>\n",
       "      <td>2018-06-17</td>\n",
       "      <td>smart</td>\n",
       "    </tr>\n",
       "    <tr>\n",
       "      <td>3</td>\n",
       "      <td>1003</td>\n",
       "      <td>23</td>\n",
       "      <td>NaN</td>\n",
       "      <td>Москва</td>\n",
       "      <td>Белла</td>\n",
       "      <td>Белякова</td>\n",
       "      <td>2018-08-17</td>\n",
       "      <td>ultra</td>\n",
       "    </tr>\n",
       "    <tr>\n",
       "      <td>4</td>\n",
       "      <td>1004</td>\n",
       "      <td>68</td>\n",
       "      <td>NaN</td>\n",
       "      <td>Новокузнецк</td>\n",
       "      <td>Татьяна</td>\n",
       "      <td>Авдеенко</td>\n",
       "      <td>2018-05-14</td>\n",
       "      <td>ultra</td>\n",
       "    </tr>\n",
       "  </tbody>\n",
       "</table>\n",
       "</div>"
      ],
      "text/plain": [
       "   user_id  age churn_date         city first_name  last_name    reg_date  \\\n",
       "0     1000   52        NaN    Краснодар     Рафаил  Верещагин  2018-05-25   \n",
       "1     1001   41        NaN       Москва       Иван       Ежов  2018-11-01   \n",
       "2     1002   59        NaN  Стерлитамак    Евгений  Абрамович  2018-06-17   \n",
       "3     1003   23        NaN       Москва      Белла   Белякова  2018-08-17   \n",
       "4     1004   68        NaN  Новокузнецк    Татьяна   Авдеенко  2018-05-14   \n",
       "\n",
       "  tariff  \n",
       "0  ultra  \n",
       "1  smart  \n",
       "2  smart  \n",
       "3  ultra  \n",
       "4  ultra  "
      ]
     },
     "execution_count": 12,
     "metadata": {},
     "output_type": "execute_result"
    }
   ],
   "source": [
    "users.head()"
   ]
  },
  {
   "cell_type": "markdown",
   "id": "fbe94fa7",
   "metadata": {},
   "source": [
    "Информация о таблице:\n",
    "- `user_id ` - уникальный номер сессии;\n",
    "- `first_name` - имя пользователя;\n",
    "- `last_name` - фамилия  пользователя;\n",
    "- `age` - возраст пользователя (годы);\n",
    "- `reg_date` - дата подключения тарифа (день, месяц, год);\n",
    "- `churn_date` - дата прекращения пользования тарифом (если значение пропущено, то тариф ещё действовал на момент выгрузки данных);\n",
    "- `city` - город проживания пользователя;\n",
    "- `tarif` - название тарифного плана."
   ]
  },
  {
   "cell_type": "markdown",
   "id": "aad18d07",
   "metadata": {},
   "source": [
    "Предварительно можно сказать следующее:\n",
    "- информации по признакам в таблице достаточно, чтобы понять, какие данные находятся в информации о звонках;\n",
    "- Имеются явные пропуски в столбце `churn_date`, однако из дополнительной информации известно, что пропуск в этом столбце: тариф еще действовал на момент загрузки данных:\n",
    "> если значение пропущено, то тариф ещё действовал на момент выгрузки данных\n",
    "- имеется некорректный тип данных (`reg_date` - `object`, `churn_date` - `object`)"
   ]
  },
  {
   "cell_type": "markdown",
   "id": "406fa74e",
   "metadata": {},
   "source": [
    "**`tariffs` (информация о тарифах)**"
   ]
  },
  {
   "cell_type": "code",
   "execution_count": 13,
   "id": "31c76e07",
   "metadata": {},
   "outputs": [
    {
     "name": "stdout",
     "output_type": "stream",
     "text": [
      "<class 'pandas.core.frame.DataFrame'>\n",
      "RangeIndex: 2 entries, 0 to 1\n",
      "Data columns (total 8 columns):\n",
      "messages_included        2 non-null int64\n",
      "mb_per_month_included    2 non-null int64\n",
      "minutes_included         2 non-null int64\n",
      "rub_monthly_fee          2 non-null int64\n",
      "rub_per_gb               2 non-null int64\n",
      "rub_per_message          2 non-null int64\n",
      "rub_per_minute           2 non-null int64\n",
      "tariff_name              2 non-null object\n",
      "dtypes: int64(7), object(1)\n",
      "memory usage: 256.0+ bytes\n"
     ]
    }
   ],
   "source": [
    "tariffs.info()"
   ]
  },
  {
   "cell_type": "code",
   "execution_count": 14,
   "id": "7fb1ef8e",
   "metadata": {
    "scrolled": false
   },
   "outputs": [
    {
     "data": {
      "text/html": [
       "<div>\n",
       "<style scoped>\n",
       "    .dataframe tbody tr th:only-of-type {\n",
       "        vertical-align: middle;\n",
       "    }\n",
       "\n",
       "    .dataframe tbody tr th {\n",
       "        vertical-align: top;\n",
       "    }\n",
       "\n",
       "    .dataframe thead th {\n",
       "        text-align: right;\n",
       "    }\n",
       "</style>\n",
       "<table border=\"1\" class=\"dataframe\">\n",
       "  <thead>\n",
       "    <tr style=\"text-align: right;\">\n",
       "      <th></th>\n",
       "      <th>messages_included</th>\n",
       "      <th>mb_per_month_included</th>\n",
       "      <th>minutes_included</th>\n",
       "      <th>rub_monthly_fee</th>\n",
       "      <th>rub_per_gb</th>\n",
       "      <th>rub_per_message</th>\n",
       "      <th>rub_per_minute</th>\n",
       "      <th>tariff_name</th>\n",
       "    </tr>\n",
       "  </thead>\n",
       "  <tbody>\n",
       "    <tr>\n",
       "      <td>0</td>\n",
       "      <td>50</td>\n",
       "      <td>15360</td>\n",
       "      <td>500</td>\n",
       "      <td>550</td>\n",
       "      <td>200</td>\n",
       "      <td>3</td>\n",
       "      <td>3</td>\n",
       "      <td>smart</td>\n",
       "    </tr>\n",
       "    <tr>\n",
       "      <td>1</td>\n",
       "      <td>1000</td>\n",
       "      <td>30720</td>\n",
       "      <td>3000</td>\n",
       "      <td>1950</td>\n",
       "      <td>150</td>\n",
       "      <td>1</td>\n",
       "      <td>1</td>\n",
       "      <td>ultra</td>\n",
       "    </tr>\n",
       "  </tbody>\n",
       "</table>\n",
       "</div>"
      ],
      "text/plain": [
       "   messages_included  mb_per_month_included  minutes_included  \\\n",
       "0                 50                  15360               500   \n",
       "1               1000                  30720              3000   \n",
       "\n",
       "   rub_monthly_fee  rub_per_gb  rub_per_message  rub_per_minute tariff_name  \n",
       "0              550         200                3               3       smart  \n",
       "1             1950         150                1               1       ultra  "
      ]
     },
     "execution_count": 14,
     "metadata": {},
     "output_type": "execute_result"
    }
   ],
   "source": [
    "tariffs.head()"
   ]
  },
  {
   "cell_type": "markdown",
   "id": "1a785896",
   "metadata": {},
   "source": [
    "Информация о таблице:\n",
    "- `tariff_name` - название тарифа;\n",
    "- `rub_monthly_fee` - ежемесячная абонентская плата в рублях;\n",
    "- `minutes_included` - количество минут разговора в месяц, включённых в абонентскую плату;\n",
    "- `messages_included` - количество сообщений в месяц, включённых в абонентскую плату;\n",
    "- `mb_per_month_included` - объём интернет-трафика, включённого в абонентскую плату (в мегабайтах);\n",
    "- `rub_per_minute` - стоимость минуты разговора сверх тарифного пакета (например, если в тарифе 100 минут разговора в месяц, то со 101 минуты будет взиматься плата);\n",
    "- `rub_per_message` - стоимость отправки сообщения сверх тарифного пакета;\n",
    "- `rub_per_gb` -  стоимость дополнительного гигабайта интернет-трафика сверх тарифного пакета (1 гигабайт = 1024 мегабайта)."
   ]
  },
  {
   "cell_type": "markdown",
   "id": "a4bc5cc6",
   "metadata": {},
   "source": [
    "Предварительно можно сказать следующее:\n",
    "- информации по признакам в таблице достаточно, чтобы понять, какие данные находятся в информации о звонках;"
   ]
  },
  {
   "cell_type": "markdown",
   "id": "8bde6ecd",
   "metadata": {},
   "source": [
    "### Вывод \n",
    "\n",
    "На основе полученной информации можно сказать следующее:\n",
    "\n",
    "| Таблица | Выводы |\n",
    "| :-----: |:-----:|\n",
    "| **`Calls` (информация о звонках)** |информации по признакам в таблице достаточно, чтобы понять, какие данные находятся в информации о звонках; явных пропусков нет; имеется некорректный тип данных (`duration` - `float`, `call_date` - `object`)|\n",
    "|**`Internet` (информация об интернет-сессиях)**|информации по признакам в таблице достаточно, чтобы понять, какие данные находятся в информации о звонках; явных пропусков нет; имеется некорректный тип данных (`mb_used` - `float`, `session_date` - `object`)|\n",
    "|**`messages` (информация о сообщениях)**|информации по признакам в таблице достаточно, чтобы понять, какие данные находятся в информации о звонках; явных пропусков нет; имеется некорректный тип данных (`message_date` - `object`)|\n",
    "|**`users` (информация о пользователях)**|информации по признакам в таблице достаточно, чтобы понять, какие данные находятся в информации о звонках; имеются явные пропуски; имеется некорректный тип данных (`reg_date` - `object`, `churn_date` - `object`)|\n",
    "|**`tariffs` (информация о тарифах)**|информации по признакам в таблице достаточно, чтобы понять, какие данные находятся в информации о звонках;|\n",
    "\n",
    "На основе этой таблицы можно сказать, что у нас есть явные пропуски и тип данных во всех таблицах в параметре, связанным со временем приведен некорректно. \n",
    "\n",
    "Необходимо дополнительно прелобработать данные и првести их в порядок, прежде чем начать исследование данных."
   ]
  },
  {
   "cell_type": "markdown",
   "id": "f84cce91",
   "metadata": {},
   "source": [
    "## Предобработка данных <a id=\"2\"></a>"
   ]
  },
  {
   "cell_type": "markdown",
   "id": "5519058e",
   "metadata": {},
   "source": [
    "Для начала вспомним, что у нас есть явные проблемы в таблицах:\n",
    "- у нас есть пропуск в столбце `churn_date` таблицы **users**;\n",
    "- неверный формат даты во всех столбцах (представлен типом `object`, который необходимо привести к типу `date_time`)."
   ]
  },
  {
   "cell_type": "markdown",
   "id": "be992d63",
   "metadata": {},
   "source": [
    "### Обработка пропусков<a id=\"2_1\"></a>"
   ]
  },
  {
   "cell_type": "markdown",
   "id": "8952dbde",
   "metadata": {},
   "source": [
    "Сперва посмотрим на таблицу **users**, чтобы понять, сколько у нас таких пропусков."
   ]
  },
  {
   "cell_type": "code",
   "execution_count": 15,
   "id": "e58c9d65",
   "metadata": {},
   "outputs": [
    {
     "data": {
      "text/plain": [
       "user_id       0.000\n",
       "age           0.000\n",
       "churn_date    0.924\n",
       "city          0.000\n",
       "first_name    0.000\n",
       "last_name     0.000\n",
       "reg_date      0.000\n",
       "tariff        0.000\n",
       "dtype: float64"
      ]
     },
     "execution_count": 15,
     "metadata": {},
     "output_type": "execute_result"
    }
   ],
   "source": [
    "users.isna().mean()"
   ]
  },
  {
   "cell_type": "code",
   "execution_count": 16,
   "id": "db80b9dd",
   "metadata": {},
   "outputs": [
    {
     "data": {
      "text/plain": [
       "user_id       500\n",
       "age           500\n",
       "churn_date     38\n",
       "city          500\n",
       "first_name    500\n",
       "last_name     500\n",
       "reg_date      500\n",
       "tariff        500\n",
       "dtype: int64"
      ]
     },
     "execution_count": 16,
     "metadata": {},
     "output_type": "execute_result"
    }
   ],
   "source": [
    "users.notna().sum()"
   ]
  },
  {
   "cell_type": "markdown",
   "id": "a0375f3b",
   "metadata": {},
   "source": [
    "Практичеки 93% информации по этому признаку пропущено у пользователей. Однако вспомним, что:\n",
    ">  если значение пропущено, то тариф ещё действовал на момент выгрузки данных\n",
    "\n",
    "Это говорит нам о том, что 38 клиентов в процессе сбора информации отказались от своих тарифов.\n",
    "\n",
    "Посмотрим, сколько клиентов и каким тарифами они пользовались, прежде чем отказаться от его использования. На основе этой информации можно предположить, какой тариф оказался более невыгодным для клиентов мобильного оператора."
   ]
  },
  {
   "cell_type": "code",
   "execution_count": 17,
   "id": "1188091d",
   "metadata": {},
   "outputs": [
    {
     "data": {
      "text/html": [
       "<div>\n",
       "<style scoped>\n",
       "    .dataframe tbody tr th:only-of-type {\n",
       "        vertical-align: middle;\n",
       "    }\n",
       "\n",
       "    .dataframe tbody tr th {\n",
       "        vertical-align: top;\n",
       "    }\n",
       "\n",
       "    .dataframe thead th {\n",
       "        text-align: right;\n",
       "    }\n",
       "</style>\n",
       "<table border=\"1\" class=\"dataframe\">\n",
       "  <thead>\n",
       "    <tr style=\"text-align: right;\">\n",
       "      <th></th>\n",
       "      <th>user_id</th>\n",
       "      <th>age</th>\n",
       "      <th>churn_date</th>\n",
       "      <th>city</th>\n",
       "      <th>first_name</th>\n",
       "      <th>last_name</th>\n",
       "      <th>reg_date</th>\n",
       "      <th>tariff</th>\n",
       "    </tr>\n",
       "  </thead>\n",
       "  <tbody>\n",
       "    <tr>\n",
       "      <td>19</td>\n",
       "      <td>1019</td>\n",
       "      <td>63</td>\n",
       "      <td>2018-10-05</td>\n",
       "      <td>Томск</td>\n",
       "      <td>Игнатий</td>\n",
       "      <td>Круглов</td>\n",
       "      <td>2018-05-16</td>\n",
       "      <td>ultra</td>\n",
       "    </tr>\n",
       "    <tr>\n",
       "      <td>20</td>\n",
       "      <td>1020</td>\n",
       "      <td>59</td>\n",
       "      <td>2018-12-18</td>\n",
       "      <td>Чита</td>\n",
       "      <td>Тала</td>\n",
       "      <td>Костина</td>\n",
       "      <td>2018-10-22</td>\n",
       "      <td>smart</td>\n",
       "    </tr>\n",
       "    <tr>\n",
       "      <td>34</td>\n",
       "      <td>1034</td>\n",
       "      <td>66</td>\n",
       "      <td>2018-11-21</td>\n",
       "      <td>Вологда</td>\n",
       "      <td>Святослав</td>\n",
       "      <td>Бондарев</td>\n",
       "      <td>2018-08-26</td>\n",
       "      <td>smart</td>\n",
       "    </tr>\n",
       "    <tr>\n",
       "      <td>50</td>\n",
       "      <td>1050</td>\n",
       "      <td>44</td>\n",
       "      <td>2018-10-03</td>\n",
       "      <td>Тюмень</td>\n",
       "      <td>Рузана</td>\n",
       "      <td>Аничкина</td>\n",
       "      <td>2018-06-16</td>\n",
       "      <td>ultra</td>\n",
       "    </tr>\n",
       "    <tr>\n",
       "      <td>51</td>\n",
       "      <td>1051</td>\n",
       "      <td>37</td>\n",
       "      <td>2018-10-14</td>\n",
       "      <td>Москва</td>\n",
       "      <td>Кристина</td>\n",
       "      <td>Сомова</td>\n",
       "      <td>2018-05-28</td>\n",
       "      <td>smart</td>\n",
       "    </tr>\n",
       "  </tbody>\n",
       "</table>\n",
       "</div>"
      ],
      "text/plain": [
       "    user_id  age  churn_date     city first_name last_name    reg_date tariff\n",
       "19     1019   63  2018-10-05    Томск    Игнатий   Круглов  2018-05-16  ultra\n",
       "20     1020   59  2018-12-18     Чита       Тала   Костина  2018-10-22  smart\n",
       "34     1034   66  2018-11-21  Вологда  Святослав  Бондарев  2018-08-26  smart\n",
       "50     1050   44  2018-10-03   Тюмень     Рузана  Аничкина  2018-06-16  ultra\n",
       "51     1051   37  2018-10-14   Москва   Кристина    Сомова  2018-05-28  smart"
      ]
     },
     "execution_count": 17,
     "metadata": {},
     "output_type": "execute_result"
    }
   ],
   "source": [
    "user_drop_tarif = users[users.churn_date.isna() == False]\n",
    "user_drop_tarif.head()"
   ]
  },
  {
   "cell_type": "code",
   "execution_count": 18,
   "id": "71f7d698",
   "metadata": {},
   "outputs": [
    {
     "data": {
      "text/html": [
       "<div>\n",
       "<style scoped>\n",
       "    .dataframe tbody tr th:only-of-type {\n",
       "        vertical-align: middle;\n",
       "    }\n",
       "\n",
       "    .dataframe tbody tr th {\n",
       "        vertical-align: top;\n",
       "    }\n",
       "\n",
       "    .dataframe thead th {\n",
       "        text-align: right;\n",
       "    }\n",
       "</style>\n",
       "<table border=\"1\" class=\"dataframe\">\n",
       "  <thead>\n",
       "    <tr style=\"text-align: right;\">\n",
       "      <th></th>\n",
       "      <th>Название тарифа</th>\n",
       "      <th>Количесвто пользователей, которые отказались от тарифа</th>\n",
       "      <th>Доля пользователей, %</th>\n",
       "    </tr>\n",
       "  </thead>\n",
       "  <tbody>\n",
       "    <tr>\n",
       "      <td>0</td>\n",
       "      <td>smart</td>\n",
       "      <td>23</td>\n",
       "      <td>60.53</td>\n",
       "    </tr>\n",
       "    <tr>\n",
       "      <td>1</td>\n",
       "      <td>ultra</td>\n",
       "      <td>15</td>\n",
       "      <td>39.47</td>\n",
       "    </tr>\n",
       "  </tbody>\n",
       "</table>\n",
       "</div>"
      ],
      "text/plain": [
       "  Название тарифа  Количесвто пользователей, которые отказались от тарифа  \\\n",
       "0           smart                                                 23        \n",
       "1           ultra                                                 15        \n",
       "\n",
       "  Доля пользователей, %  \n",
       "0                 60.53  \n",
       "1                 39.47  "
      ]
     },
     "execution_count": 18,
     "metadata": {},
     "output_type": "execute_result"
    }
   ],
   "source": [
    "user_pivot = user_drop_tarif.pivot_table(index = 'tariff', \n",
    "                                              values = 'user_id',\n",
    "                                             aggfunc = 'count').reset_index()\n",
    "user_pivot['propotion'] = (user_pivot.user_id/user_pivot.user_id.sum())*100\n",
    "user_pivot['propotion'] = user_pivot['propotion'].map('{:.2f}'.format)\n",
    "user_pivot.columns = ['Название тарифа',\n",
    "                      'Количесвто пользователей, которые отказались от тарифа', \n",
    "                      'Доля пользователей, %']\n",
    "user_pivot"
   ]
  },
  {
   "cell_type": "markdown",
   "id": "0621a509",
   "metadata": {},
   "source": [
    "Видим, что доля пользователей, которые отказались от тарифа \"Смарт\" больше тех, кто отказался от тарифа \"Ультра\". Предположений может быть несколько:\n",
    "- Тариф не выгоден по услугам сверх тарифного плана. Стоимость за превышение трафика высока: звонки и смс - 3 рубля за каждое превышение тарифа, интернет - 200 рублей за 1 гигабайт дополнительного трафика. Стоимость интернета высокая и возможно пользователям не хвататет пакета гигагбайтов в тарифе. Поэтому и прекращают пользоваться этим тарифом.\n",
    "- Тариф просто не нужен из-за ненужных позиций и наличия более-выгодных предложений у конкурентов.\n",
    "\n",
    "По тарифу \"Ультра\" можно сказать следующее:\n",
    "- Пользователи могли отказать от него, потому что тариф слишком дорогой, не каждый пользователь может себе позволить платить 1950 рублей в месяц на постоянно основе;\n",
    "- Ознакомившись с тарифным планом, можно предположить, что некоторым пользователям пакета будет слишком много в месяц, поэтому люди и отказывались от него\n",
    "Однако данных у нас на данный момент недостаточно для формулирования окончательного вывода, Поэтому необходимо проводить дополнительный анализ пользователей: как часто пользуются услугами тарифа? Какими именно услугами пользуются? Это будет рассматриваться в дальнейшем."
   ]
  },
  {
   "cell_type": "markdown",
   "id": "9b20eb04",
   "metadata": {},
   "source": [
    "Вернемся к пропускам в этом столбце. Так как известно, что\n",
    "> если значение пропущено, то тариф ещё действовал на момент выгрузки данных\n",
    "\n",
    "то можно предожить следующие варианты заполнения пропуска:\n",
    "- заполнить нестандартным значением, так мы ясно для себя дадим понять, что у нас есть пользователи, которые им пользуются, а есть те, которые уже отказались\n",
    "- оставить как есть, так как в дополнительной информации была указана причина пропуска в этом столбце.\n",
    "\n",
    "Выберем последний вариант: **оставим как есть**."
   ]
  },
  {
   "cell_type": "markdown",
   "id": "64e906c5",
   "metadata": {},
   "source": [
    "Теперь посмотрим на уникальные позиции каждого столбца в этой таблице. Вдруг у нас имеются неявные пропуски, о которых мы не знаем."
   ]
  },
  {
   "cell_type": "code",
   "execution_count": 19,
   "id": "bd444d35",
   "metadata": {},
   "outputs": [],
   "source": [
    "# функция получения уникальных значений столбцов и количество их упоминаний\n",
    "# df- таблица, в которой ищем неявные пропуски и аномалии\n",
    "def take_unique_values(df):\n",
    "    for column in df.columns:\n",
    "        print(f'Уникальные значения в {column}', \n",
    "              df[column].value_counts().head(), \n",
    "              sep = '\\n')\n",
    "        print()"
   ]
  },
  {
   "cell_type": "code",
   "execution_count": 20,
   "id": "7ab37f4f",
   "metadata": {},
   "outputs": [
    {
     "name": "stdout",
     "output_type": "stream",
     "text": [
      "Уникальные значения в user_id\n",
      "1023    1\n",
      "1194    1\n",
      "1181    1\n",
      "1182    1\n",
      "1183    1\n",
      "Name: user_id, dtype: int64\n",
      "\n",
      "Уникальные значения в age\n",
      "53    14\n",
      "42    14\n",
      "63    13\n",
      "71    13\n",
      "64    13\n",
      "Name: age, dtype: int64\n",
      "\n",
      "Уникальные значения в churn_date\n",
      "2018-12-03    2\n",
      "2018-12-21    2\n",
      "2018-10-14    2\n",
      "2018-12-09    2\n",
      "2018-10-03    2\n",
      "Name: churn_date, dtype: int64\n",
      "\n",
      "Уникальные значения в city\n",
      "Москва             99\n",
      "Санкт-Петербург    39\n",
      "Новосибирск        16\n",
      "Омск               14\n",
      "Казань             14\n",
      "Name: city, dtype: int64\n",
      "\n",
      "Уникальные значения в first_name\n",
      "Радим     6\n",
      "Леонид    5\n",
      "Пётр      5\n",
      "Андрей    4\n",
      "Тамара    4\n",
      "Name: first_name, dtype: int64\n",
      "\n",
      "Уникальные значения в last_name\n",
      "Андреенко    5\n",
      "Озерова      3\n",
      "Аркадьев     3\n",
      "Абашкина     3\n",
      "Березина     3\n",
      "Name: last_name, dtype: int64\n",
      "\n",
      "Уникальные значения в reg_date\n",
      "2018-05-28    8\n",
      "2018-04-03    5\n",
      "2018-10-05    5\n",
      "2018-07-16    5\n",
      "2018-11-16    5\n",
      "Name: reg_date, dtype: int64\n",
      "\n",
      "Уникальные значения в tariff\n",
      "smart    351\n",
      "ultra    149\n",
      "Name: tariff, dtype: int64\n",
      "\n"
     ]
    }
   ],
   "source": [
    "take_unique_values(users)"
   ]
  },
  {
   "cell_type": "markdown",
   "id": "d82daba1",
   "metadata": {},
   "source": [
    "Видим, что у нас неявных пропусков нет, поэтому остается изменить тип данных в некоторых столбцах. Рассмотрим этот момент в следующем разделе.\n",
    "\n",
    "Теперь рассмотрим оставшиеся таблицы, чтобы понять, есть ли у нас неявные пропуски в данных"
   ]
  },
  {
   "cell_type": "markdown",
   "id": "909bc76a",
   "metadata": {},
   "source": [
    "**`tariffs` (информация о тарифах)**"
   ]
  },
  {
   "cell_type": "code",
   "execution_count": 21,
   "id": "33354cf7",
   "metadata": {},
   "outputs": [
    {
     "name": "stdout",
     "output_type": "stream",
     "text": [
      "Уникальные значения в messages_included\n",
      "50      1\n",
      "1000    1\n",
      "Name: messages_included, dtype: int64\n",
      "\n",
      "Уникальные значения в mb_per_month_included\n",
      "30720    1\n",
      "15360    1\n",
      "Name: mb_per_month_included, dtype: int64\n",
      "\n",
      "Уникальные значения в minutes_included\n",
      "3000    1\n",
      "500     1\n",
      "Name: minutes_included, dtype: int64\n",
      "\n",
      "Уникальные значения в rub_monthly_fee\n",
      "550     1\n",
      "1950    1\n",
      "Name: rub_monthly_fee, dtype: int64\n",
      "\n",
      "Уникальные значения в rub_per_gb\n",
      "150    1\n",
      "200    1\n",
      "Name: rub_per_gb, dtype: int64\n",
      "\n",
      "Уникальные значения в rub_per_message\n",
      "3    1\n",
      "1    1\n",
      "Name: rub_per_message, dtype: int64\n",
      "\n",
      "Уникальные значения в rub_per_minute\n",
      "3    1\n",
      "1    1\n",
      "Name: rub_per_minute, dtype: int64\n",
      "\n",
      "Уникальные значения в tariff_name\n",
      "ultra    1\n",
      "smart    1\n",
      "Name: tariff_name, dtype: int64\n",
      "\n"
     ]
    }
   ],
   "source": [
    "take_unique_values(tariffs)"
   ]
  },
  {
   "cell_type": "markdown",
   "id": "4237cf21",
   "metadata": {},
   "source": [
    "Видим, что у нас все хорошо в с информацией о тарифах - нет неявных пропусков или аномалий."
   ]
  },
  {
   "cell_type": "markdown",
   "id": "598b5866",
   "metadata": {},
   "source": [
    "**`messages` (информация о сообщениях)**"
   ]
  },
  {
   "cell_type": "code",
   "execution_count": 22,
   "id": "00cf0389",
   "metadata": {},
   "outputs": [
    {
     "name": "stdout",
     "output_type": "stream",
     "text": [
      "Уникальные значения в id\n",
      "1203_164    1\n",
      "1332_101    1\n",
      "1276_39     1\n",
      "1216_72     1\n",
      "1385_49     1\n",
      "Name: id, dtype: int64\n",
      "\n",
      "Уникальные значения в message_date\n",
      "2018-12-31    859\n",
      "2018-12-30    765\n",
      "2018-12-21    712\n",
      "2018-12-29    702\n",
      "2018-12-28    699\n",
      "Name: message_date, dtype: int64\n",
      "\n",
      "Уникальные значения в user_id\n",
      "1277    1463\n",
      "1089    1408\n",
      "1231    1384\n",
      "1385    1380\n",
      "1356    1224\n",
      "Name: user_id, dtype: int64\n",
      "\n"
     ]
    }
   ],
   "source": [
    "take_unique_values(messages)"
   ]
  },
  {
   "cell_type": "markdown",
   "id": "9b49a1d3",
   "metadata": {},
   "source": [
    "Предновогодняя суета, не иначе)"
   ]
  },
  {
   "cell_type": "markdown",
   "id": "8761a07e",
   "metadata": {},
   "source": [
    "Видно, что у нас все хорошо с информацией о сообщениях - нет неявных пропусков. Однако видно, что есть пользователи, которые очень часто пользуются отправкой сообщений. И видно, что в канун Нового года количество сообщений высок."
   ]
  },
  {
   "cell_type": "markdown",
   "id": "e21eb694",
   "metadata": {},
   "source": [
    "**`Internet` (информация об интернет-сессиях)**"
   ]
  },
  {
   "cell_type": "code",
   "execution_count": 23,
   "id": "bf56bda7",
   "metadata": {},
   "outputs": [
    {
     "name": "stdout",
     "output_type": "stream",
     "text": [
      "Уникальные значения в id\n",
      "1196_216    1\n",
      "1211_50     1\n",
      "1185_180    1\n",
      "1414_419    1\n",
      "1373_188    1\n",
      "Name: id, dtype: int64\n",
      "\n",
      "Уникальные значения в mb_used\n",
      "0.00      19598\n",
      "197.56        9\n",
      "447.30        9\n",
      "335.91        9\n",
      "108.95        8\n",
      "Name: mb_used, dtype: int64\n",
      "\n",
      "Уникальные значения в session_date\n",
      "2018-12-31    1057\n",
      "2018-12-30     903\n",
      "2018-12-25     859\n",
      "2018-12-26     844\n",
      "2018-12-22     834\n",
      "Name: session_date, dtype: int64\n",
      "\n",
      "Уникальные значения в user_id\n",
      "1496    834\n",
      "1227    812\n",
      "1204    789\n",
      "1240    764\n",
      "1251    759\n",
      "Name: user_id, dtype: int64\n",
      "\n"
     ]
    }
   ],
   "source": [
    "take_unique_values(internet)"
   ]
  },
  {
   "cell_type": "markdown",
   "id": "4017be4d",
   "metadata": {},
   "source": [
    "А вот тут мы видим, что у нас есть объем потраченного за сессию интернет-трафика в мегабайтах, которого большего всего равен нулю. \n",
    "Можно предположить следующие причины:\n",
    "- люди пользуются безлимитными позицями интернет-пакета. Однако, из описания к тарифом нет никакой информации о том, что у нас есть безлимит, поэтому это предполложение отбрасывает.\n",
    "- слишком низкая точность расчета потребляемого трафика. Так как если посмотреть точность значений этого столбца (два знака после запятой), то можно предположить, что у нас идет некорректный подсчет потребляемого трафика. \n",
    "- предположим, что система подсчета трафика учитвает случай, когда пользователь за день не потребляет интернет-трафик и заполняет его нулем \n",
    "- возможна такая ситуация, когда у нас связь прерывалась, и просходил обрыв интернет-сессии.\n",
    "\n",
    "Для этого сделаем случайную выборку по пользователю и выберем все наблюдения, где у нас есть ни одного потребляемого трафика и отсортируем по дням пользования."
   ]
  },
  {
   "cell_type": "code",
   "execution_count": 24,
   "id": "6b5e3b99",
   "metadata": {},
   "outputs": [
    {
     "data": {
      "text/html": [
       "<div>\n",
       "<style scoped>\n",
       "    .dataframe tbody tr th:only-of-type {\n",
       "        vertical-align: middle;\n",
       "    }\n",
       "\n",
       "    .dataframe tbody tr th {\n",
       "        vertical-align: top;\n",
       "    }\n",
       "\n",
       "    .dataframe thead th {\n",
       "        text-align: right;\n",
       "    }\n",
       "</style>\n",
       "<table border=\"1\" class=\"dataframe\">\n",
       "  <thead>\n",
       "    <tr style=\"text-align: right;\">\n",
       "      <th></th>\n",
       "      <th>id</th>\n",
       "      <th>mb_used</th>\n",
       "      <th>session_date</th>\n",
       "      <th>user_id</th>\n",
       "    </tr>\n",
       "  </thead>\n",
       "  <tbody>\n",
       "    <tr>\n",
       "      <td>148303</td>\n",
       "      <td>1496_251</td>\n",
       "      <td>0.0</td>\n",
       "      <td>2018-01-28</td>\n",
       "      <td>1496</td>\n",
       "    </tr>\n",
       "    <tr>\n",
       "      <td>148286</td>\n",
       "      <td>1496_234</td>\n",
       "      <td>0.0</td>\n",
       "      <td>2018-01-29</td>\n",
       "      <td>1496</td>\n",
       "    </tr>\n",
       "    <tr>\n",
       "      <td>148250</td>\n",
       "      <td>1496_198</td>\n",
       "      <td>0.0</td>\n",
       "      <td>2018-02-02</td>\n",
       "      <td>1496</td>\n",
       "    </tr>\n",
       "    <tr>\n",
       "      <td>148546</td>\n",
       "      <td>1496_494</td>\n",
       "      <td>0.0</td>\n",
       "      <td>2018-02-03</td>\n",
       "      <td>1496</td>\n",
       "    </tr>\n",
       "    <tr>\n",
       "      <td>148399</td>\n",
       "      <td>1496_347</td>\n",
       "      <td>0.0</td>\n",
       "      <td>2018-02-04</td>\n",
       "      <td>1496</td>\n",
       "    </tr>\n",
       "    <tr>\n",
       "      <td>148825</td>\n",
       "      <td>1496_773</td>\n",
       "      <td>0.0</td>\n",
       "      <td>2018-02-07</td>\n",
       "      <td>1496</td>\n",
       "    </tr>\n",
       "    <tr>\n",
       "      <td>148727</td>\n",
       "      <td>1496_675</td>\n",
       "      <td>0.0</td>\n",
       "      <td>2018-02-07</td>\n",
       "      <td>1496</td>\n",
       "    </tr>\n",
       "    <tr>\n",
       "      <td>148166</td>\n",
       "      <td>1496_114</td>\n",
       "      <td>0.0</td>\n",
       "      <td>2018-02-09</td>\n",
       "      <td>1496</td>\n",
       "    </tr>\n",
       "    <tr>\n",
       "      <td>148291</td>\n",
       "      <td>1496_239</td>\n",
       "      <td>0.0</td>\n",
       "      <td>2018-02-09</td>\n",
       "      <td>1496</td>\n",
       "    </tr>\n",
       "    <tr>\n",
       "      <td>148819</td>\n",
       "      <td>1496_767</td>\n",
       "      <td>0.0</td>\n",
       "      <td>2018-02-11</td>\n",
       "      <td>1496</td>\n",
       "    </tr>\n",
       "    <tr>\n",
       "      <td>148203</td>\n",
       "      <td>1496_151</td>\n",
       "      <td>0.0</td>\n",
       "      <td>2018-02-11</td>\n",
       "      <td>1496</td>\n",
       "    </tr>\n",
       "    <tr>\n",
       "      <td>148567</td>\n",
       "      <td>1496_515</td>\n",
       "      <td>0.0</td>\n",
       "      <td>2018-02-16</td>\n",
       "      <td>1496</td>\n",
       "    </tr>\n",
       "    <tr>\n",
       "      <td>148224</td>\n",
       "      <td>1496_172</td>\n",
       "      <td>0.0</td>\n",
       "      <td>2018-02-17</td>\n",
       "      <td>1496</td>\n",
       "    </tr>\n",
       "    <tr>\n",
       "      <td>148596</td>\n",
       "      <td>1496_544</td>\n",
       "      <td>0.0</td>\n",
       "      <td>2018-02-18</td>\n",
       "      <td>1496</td>\n",
       "    </tr>\n",
       "    <tr>\n",
       "      <td>148124</td>\n",
       "      <td>1496_72</td>\n",
       "      <td>0.0</td>\n",
       "      <td>2018-02-18</td>\n",
       "      <td>1496</td>\n",
       "    </tr>\n",
       "  </tbody>\n",
       "</table>\n",
       "</div>"
      ],
      "text/plain": [
       "              id  mb_used session_date  user_id\n",
       "148303  1496_251      0.0   2018-01-28     1496\n",
       "148286  1496_234      0.0   2018-01-29     1496\n",
       "148250  1496_198      0.0   2018-02-02     1496\n",
       "148546  1496_494      0.0   2018-02-03     1496\n",
       "148399  1496_347      0.0   2018-02-04     1496\n",
       "148825  1496_773      0.0   2018-02-07     1496\n",
       "148727  1496_675      0.0   2018-02-07     1496\n",
       "148166  1496_114      0.0   2018-02-09     1496\n",
       "148291  1496_239      0.0   2018-02-09     1496\n",
       "148819  1496_767      0.0   2018-02-11     1496\n",
       "148203  1496_151      0.0   2018-02-11     1496\n",
       "148567  1496_515      0.0   2018-02-16     1496\n",
       "148224  1496_172      0.0   2018-02-17     1496\n",
       "148596  1496_544      0.0   2018-02-18     1496\n",
       "148124   1496_72      0.0   2018-02-18     1496"
      ]
     },
     "execution_count": 24,
     "metadata": {},
     "output_type": "execute_result"
    }
   ],
   "source": [
    "internet[(internet.user_id == 1496) & (internet.mb_used == 0)].sort_values('session_date').head(15)"
   ]
  },
  {
   "cell_type": "markdown",
   "id": "b57b1aed",
   "metadata": {},
   "source": [
    "Видно, что у нас есть позиции по некоторому пользователю, когда в один день объем потребляемого интернет-трафика составляет ноль мегабайт. Следовательно, можно предположить, что система сбора данных некорректно работает для сбора статистики. Так как возможно, что день, когда нет трафика заполняется нулем, и слишком мало трафика использовал пользователь за текущий день, поэтому объем равен нулю, чего быть не может.\n",
    "Предлагается следующее: \n",
    "- оставить как есть;\n",
    "- заполнить этот аномальный показатель значением 1 МБ, однако возможна такая ситуация, что мы таким заполнением можем исказить результаты исследования.\n",
    "- заполнить его как пропуск, так мы не исказим наши результаты, но можем потеярт\n",
    "Сделаем следующее: **оставим как есть** "
   ]
  },
  {
   "cell_type": "markdown",
   "id": "206d6fe5",
   "metadata": {},
   "source": [
    "**`Calls` (информация о звонках)**"
   ]
  },
  {
   "cell_type": "code",
   "execution_count": 25,
   "id": "464da537",
   "metadata": {
    "scrolled": false
   },
   "outputs": [
    {
     "name": "stdout",
     "output_type": "stream",
     "text": [
      "Уникальные значения в id\n",
      "1203_164    1\n",
      "1017_19     1\n",
      "1083_236    1\n",
      "1491_309    1\n",
      "1065_134    1\n",
      "Name: id, dtype: int64\n",
      "\n",
      "Уникальные значения в call_date\n",
      "2018-12-31    1435\n",
      "2018-12-29    1202\n",
      "2018-12-30    1192\n",
      "2018-12-22    1158\n",
      "2018-12-26    1149\n",
      "Name: call_date, dtype: int64\n",
      "\n",
      "Уникальные значения в duration\n",
      "0.00    39613\n",
      "4.49      142\n",
      "5.50      142\n",
      "6.15      141\n",
      "6.38      141\n",
      "Name: duration, dtype: int64\n",
      "\n",
      "Уникальные значения в user_id\n",
      "1377    1760\n",
      "1168    1692\n",
      "1375    1560\n",
      "1453    1440\n",
      "1196    1240\n",
      "Name: user_id, dtype: int64\n",
      "\n"
     ]
    }
   ],
   "source": [
    "take_unique_values(calls)"
   ]
  },
  {
   "cell_type": "markdown",
   "id": "bfe7462d",
   "metadata": {},
   "source": [
    "И вот тут мы видим следующую аномалию: у нас есть длительность звонков, равные ноль минут. Однако можно предположить, что у нас это пропущенные вызовы, которые были зарегистрированы системой как звонок без продолжительности. \n",
    "\n",
    "Поэтому сделаем следующее: **оставим как есть**. Так как для расчета ежемесячной выручки подобное значение не повлияет на расчет."
   ]
  },
  {
   "cell_type": "markdown",
   "id": "2ad45458",
   "metadata": {},
   "source": [
    "### Вывод\n",
    "\n",
    "В процессе заполнения пропусков и поиска аномальных значений нашли следующие проблемы, предположили причину возникновения этих проблемы и предложили способы устранения этих аномальных значений.\n",
    "\n",
    "| Таблица | Найденные проблемы |Выбранный способ устранения пропусков|\n",
    "| -----   |:------------------:|  -----                                  |\n",
    "| **`Calls` (информация о звонках)** |имеется большое количество нулевых длительностей звонков в `duration`; предположили, что это могут быть пропущенные вызовы, которые регистрировались системой как звонок с нулевым временем|**оставить как есть**|\n",
    "|**`Internet` (информация об интернет-сессиях)**|имеется большое количество нулевого потребления интернет-трафика в `mb_used`; предположили, что люди пользуются безлимитными позицями интернет-пакета, слишком низкая точность расчета потребляемого трафика, система подсчета трафика учитвает случай, когда пользователь за день не потребляет интернет-трафик и заполняет его нулем, возможна такая ситуация, когда у нас связь прерывалась, и просходил обрыв интернет-сессии|**оставить как есть**|\n",
    "|**`users` (информация о пользователях)**|имеются пропуски в столбце `churn_date`, из дополнительной информации установили, что это аактивные пользователи мобилоьных тарифов на момент выгрузки информации|**оставить как есть**|"
   ]
  },
  {
   "cell_type": "markdown",
   "id": "0ffb4e9c",
   "metadata": {},
   "source": [
    "### Приведение данных к соответствующему типу<a id=\"2_2\"></a>"
   ]
  },
  {
   "cell_type": "markdown",
   "id": "7edc6990",
   "metadata": {},
   "source": [
    "После того, как обработали пропуски и указали их причину возникновения, необходимо привести все необходимые для исследования данные к соответствующему типу.\n",
    "Раннее указали, что: \n",
    "- неверный формат даты во всех столбцах (представлен типом `object`, который необходимо привести к типу `date_time`).\n",
    "\n",
    "Однако у нас есть небольшое примечание к тарифам оператора \"Мегалайн\":\n",
    "> «Мегалайн» всегда округляет секунды до минут, а мегабайты — до гигабайт. Каждый звонок округляется отдельно: даже если он длился всего 1 секунду, будет засчитан как 1 минута.\n",
    "Для веб-трафика отдельные сессии не считаются. Вместо этого общая сумма за месяц округляется в бо́льшую сторону. Если абонент использует 1025 мегабайт в этом месяце, с него возьмут плату за 2 гигабайта.\n",
    "\n",
    "Видим, что у нам необходимо округлить в большую сторону все звонки до минут, а каждый ежемесячный трафик - до гигабайт.\n",
    "Поэтому сделаем следующее:\n",
    "- Для каждой таблицы, где у нас некорректно представлен тип времени приведем к соответствующему типу - `datetime`;\n",
    "- Все звонки округлим до минут в большую сторону и приведем к целочисленному типу `int`\n",
    "\n",
    "Начнем с преобразования типов в каждой таблице и добавить к каждой таблице столбец с месяцем для расчета ежемесячной выручки."
   ]
  },
  {
   "cell_type": "markdown",
   "id": "69b349f7",
   "metadata": {},
   "source": [
    "**`Calls` (информация о звонках)**"
   ]
  },
  {
   "cell_type": "code",
   "execution_count": 26,
   "id": "a784d92f",
   "metadata": {},
   "outputs": [
    {
     "data": {
      "text/html": [
       "<div>\n",
       "<style scoped>\n",
       "    .dataframe tbody tr th:only-of-type {\n",
       "        vertical-align: middle;\n",
       "    }\n",
       "\n",
       "    .dataframe tbody tr th {\n",
       "        vertical-align: top;\n",
       "    }\n",
       "\n",
       "    .dataframe thead th {\n",
       "        text-align: right;\n",
       "    }\n",
       "</style>\n",
       "<table border=\"1\" class=\"dataframe\">\n",
       "  <thead>\n",
       "    <tr style=\"text-align: right;\">\n",
       "      <th></th>\n",
       "      <th>id</th>\n",
       "      <th>call_date</th>\n",
       "      <th>duration</th>\n",
       "      <th>user_id</th>\n",
       "      <th>month</th>\n",
       "      <th>month_name</th>\n",
       "    </tr>\n",
       "  </thead>\n",
       "  <tbody>\n",
       "    <tr>\n",
       "      <td>0</td>\n",
       "      <td>1000_0</td>\n",
       "      <td>2018-07-25</td>\n",
       "      <td>0.00</td>\n",
       "      <td>1000</td>\n",
       "      <td>7</td>\n",
       "      <td>July</td>\n",
       "    </tr>\n",
       "    <tr>\n",
       "      <td>1</td>\n",
       "      <td>1000_1</td>\n",
       "      <td>2018-08-17</td>\n",
       "      <td>0.00</td>\n",
       "      <td>1000</td>\n",
       "      <td>8</td>\n",
       "      <td>August</td>\n",
       "    </tr>\n",
       "    <tr>\n",
       "      <td>2</td>\n",
       "      <td>1000_2</td>\n",
       "      <td>2018-06-11</td>\n",
       "      <td>2.85</td>\n",
       "      <td>1000</td>\n",
       "      <td>6</td>\n",
       "      <td>June</td>\n",
       "    </tr>\n",
       "    <tr>\n",
       "      <td>3</td>\n",
       "      <td>1000_3</td>\n",
       "      <td>2018-09-21</td>\n",
       "      <td>13.80</td>\n",
       "      <td>1000</td>\n",
       "      <td>9</td>\n",
       "      <td>September</td>\n",
       "    </tr>\n",
       "    <tr>\n",
       "      <td>4</td>\n",
       "      <td>1000_4</td>\n",
       "      <td>2018-12-15</td>\n",
       "      <td>5.18</td>\n",
       "      <td>1000</td>\n",
       "      <td>12</td>\n",
       "      <td>December</td>\n",
       "    </tr>\n",
       "  </tbody>\n",
       "</table>\n",
       "</div>"
      ],
      "text/plain": [
       "       id  call_date  duration  user_id  month month_name\n",
       "0  1000_0 2018-07-25      0.00     1000      7       July\n",
       "1  1000_1 2018-08-17      0.00     1000      8     August\n",
       "2  1000_2 2018-06-11      2.85     1000      6       June\n",
       "3  1000_3 2018-09-21     13.80     1000      9  September\n",
       "4  1000_4 2018-12-15      5.18     1000     12   December"
      ]
     },
     "execution_count": 26,
     "metadata": {},
     "output_type": "execute_result"
    }
   ],
   "source": [
    "calls.call_date = pd.to_datetime(calls.call_date, format = '%Y-%m-%d')\n",
    "calls['month'] = calls.call_date.dt.month\n",
    "calls['month_name'] = calls.call_date.dt.month_name()\n",
    "calls.head()"
   ]
  },
  {
   "cell_type": "markdown",
   "id": "aa6298e1",
   "metadata": {},
   "source": [
    "Теперь округлим столбец `duration` в большую сторону и приведем к типу `int`"
   ]
  },
  {
   "cell_type": "code",
   "execution_count": 27,
   "id": "c4ca83fa",
   "metadata": {},
   "outputs": [
    {
     "data": {
      "text/html": [
       "<div>\n",
       "<style scoped>\n",
       "    .dataframe tbody tr th:only-of-type {\n",
       "        vertical-align: middle;\n",
       "    }\n",
       "\n",
       "    .dataframe tbody tr th {\n",
       "        vertical-align: top;\n",
       "    }\n",
       "\n",
       "    .dataframe thead th {\n",
       "        text-align: right;\n",
       "    }\n",
       "</style>\n",
       "<table border=\"1\" class=\"dataframe\">\n",
       "  <thead>\n",
       "    <tr style=\"text-align: right;\">\n",
       "      <th></th>\n",
       "      <th>id</th>\n",
       "      <th>call_date</th>\n",
       "      <th>duration</th>\n",
       "      <th>user_id</th>\n",
       "      <th>month</th>\n",
       "      <th>month_name</th>\n",
       "    </tr>\n",
       "  </thead>\n",
       "  <tbody>\n",
       "    <tr>\n",
       "      <td>0</td>\n",
       "      <td>1000_0</td>\n",
       "      <td>2018-07-25</td>\n",
       "      <td>0</td>\n",
       "      <td>1000</td>\n",
       "      <td>7</td>\n",
       "      <td>July</td>\n",
       "    </tr>\n",
       "    <tr>\n",
       "      <td>1</td>\n",
       "      <td>1000_1</td>\n",
       "      <td>2018-08-17</td>\n",
       "      <td>0</td>\n",
       "      <td>1000</td>\n",
       "      <td>8</td>\n",
       "      <td>August</td>\n",
       "    </tr>\n",
       "    <tr>\n",
       "      <td>2</td>\n",
       "      <td>1000_2</td>\n",
       "      <td>2018-06-11</td>\n",
       "      <td>3</td>\n",
       "      <td>1000</td>\n",
       "      <td>6</td>\n",
       "      <td>June</td>\n",
       "    </tr>\n",
       "    <tr>\n",
       "      <td>3</td>\n",
       "      <td>1000_3</td>\n",
       "      <td>2018-09-21</td>\n",
       "      <td>14</td>\n",
       "      <td>1000</td>\n",
       "      <td>9</td>\n",
       "      <td>September</td>\n",
       "    </tr>\n",
       "    <tr>\n",
       "      <td>4</td>\n",
       "      <td>1000_4</td>\n",
       "      <td>2018-12-15</td>\n",
       "      <td>6</td>\n",
       "      <td>1000</td>\n",
       "      <td>12</td>\n",
       "      <td>December</td>\n",
       "    </tr>\n",
       "  </tbody>\n",
       "</table>\n",
       "</div>"
      ],
      "text/plain": [
       "       id  call_date  duration  user_id  month month_name\n",
       "0  1000_0 2018-07-25         0     1000      7       July\n",
       "1  1000_1 2018-08-17         0     1000      8     August\n",
       "2  1000_2 2018-06-11         3     1000      6       June\n",
       "3  1000_3 2018-09-21        14     1000      9  September\n",
       "4  1000_4 2018-12-15         6     1000     12   December"
      ]
     },
     "execution_count": 27,
     "metadata": {},
     "output_type": "execute_result"
    }
   ],
   "source": [
    "calls.duration = calls.duration.apply(np.ceil).astype(int)\n",
    "calls.head()"
   ]
  },
  {
   "cell_type": "markdown",
   "id": "72f70bb4",
   "metadata": {},
   "source": [
    "**`Internet` (информация об интернет-сессиях)**"
   ]
  },
  {
   "cell_type": "markdown",
   "id": "7c71192c",
   "metadata": {},
   "source": [
    "<div class=\"alert alert-success\">\n",
    "<b>Комментарий ревьюера:</b>\n",
    "\n",
    "Хорошо, что учитываем условия работы оператора связи и применяем метод `np.ceil`.  \n",
    "    \n",
    "    \n",
    "</div>"
   ]
  },
  {
   "cell_type": "markdown",
   "id": "65890a61",
   "metadata": {},
   "source": [
    "<div class=\"alert alert-warning\">\n",
    "<b>Комментарий ревьюера:</b>\n",
    "\n",
    "Однако метод `np.ceil` лучше применять ко всему столбцу целиком, так вычисления будут работать быстрее.  \n",
    "    \n",
    "    \n",
    "`np.ceil(df['column'])`\n",
    "    \n",
    "</div>"
   ]
  },
  {
   "cell_type": "markdown",
   "id": "b5b2b867",
   "metadata": {},
   "source": [
    "<div class=\"alert alert-info\"> <b>Комментарий студента:</b> Даже так можно применять округление? Не знал, спасибо, буду применять в дальнейших проектах!</div>"
   ]
  },
  {
   "cell_type": "markdown",
   "id": "e9601182",
   "metadata": {},
   "source": [
    "<div class=\"alert alert-success\">\n",
    "<b>Комментарий ревьюера (2):</b>\n",
    "\n",
    "Да, так можно) это векторные расчеты)\n",
    "    \n",
    "</div>"
   ]
  },
  {
   "cell_type": "markdown",
   "id": "02b8412a",
   "metadata": {},
   "source": [
    "Округлим количество"
   ]
  },
  {
   "cell_type": "code",
   "execution_count": 28,
   "id": "29945851",
   "metadata": {},
   "outputs": [
    {
     "data": {
      "text/html": [
       "<div>\n",
       "<style scoped>\n",
       "    .dataframe tbody tr th:only-of-type {\n",
       "        vertical-align: middle;\n",
       "    }\n",
       "\n",
       "    .dataframe tbody tr th {\n",
       "        vertical-align: top;\n",
       "    }\n",
       "\n",
       "    .dataframe thead th {\n",
       "        text-align: right;\n",
       "    }\n",
       "</style>\n",
       "<table border=\"1\" class=\"dataframe\">\n",
       "  <thead>\n",
       "    <tr style=\"text-align: right;\">\n",
       "      <th></th>\n",
       "      <th>id</th>\n",
       "      <th>mb_used</th>\n",
       "      <th>session_date</th>\n",
       "      <th>user_id</th>\n",
       "      <th>month</th>\n",
       "      <th>month_name</th>\n",
       "    </tr>\n",
       "  </thead>\n",
       "  <tbody>\n",
       "    <tr>\n",
       "      <td>0</td>\n",
       "      <td>1000_0</td>\n",
       "      <td>112.95</td>\n",
       "      <td>2018-11-25</td>\n",
       "      <td>1000</td>\n",
       "      <td>11</td>\n",
       "      <td>November</td>\n",
       "    </tr>\n",
       "    <tr>\n",
       "      <td>1</td>\n",
       "      <td>1000_1</td>\n",
       "      <td>1052.81</td>\n",
       "      <td>2018-09-07</td>\n",
       "      <td>1000</td>\n",
       "      <td>9</td>\n",
       "      <td>September</td>\n",
       "    </tr>\n",
       "    <tr>\n",
       "      <td>2</td>\n",
       "      <td>1000_2</td>\n",
       "      <td>1197.26</td>\n",
       "      <td>2018-06-25</td>\n",
       "      <td>1000</td>\n",
       "      <td>6</td>\n",
       "      <td>June</td>\n",
       "    </tr>\n",
       "    <tr>\n",
       "      <td>3</td>\n",
       "      <td>1000_3</td>\n",
       "      <td>550.27</td>\n",
       "      <td>2018-08-22</td>\n",
       "      <td>1000</td>\n",
       "      <td>8</td>\n",
       "      <td>August</td>\n",
       "    </tr>\n",
       "    <tr>\n",
       "      <td>4</td>\n",
       "      <td>1000_4</td>\n",
       "      <td>302.56</td>\n",
       "      <td>2018-09-24</td>\n",
       "      <td>1000</td>\n",
       "      <td>9</td>\n",
       "      <td>September</td>\n",
       "    </tr>\n",
       "  </tbody>\n",
       "</table>\n",
       "</div>"
      ],
      "text/plain": [
       "       id  mb_used session_date  user_id  month month_name\n",
       "0  1000_0   112.95   2018-11-25     1000     11   November\n",
       "1  1000_1  1052.81   2018-09-07     1000      9  September\n",
       "2  1000_2  1197.26   2018-06-25     1000      6       June\n",
       "3  1000_3   550.27   2018-08-22     1000      8     August\n",
       "4  1000_4   302.56   2018-09-24     1000      9  September"
      ]
     },
     "execution_count": 28,
     "metadata": {},
     "output_type": "execute_result"
    }
   ],
   "source": [
    "internet.session_date = pd.to_datetime(internet.session_date, format = '%Y-%m-%d')\n",
    "internet['month'] = internet.session_date.dt.month\n",
    "internet['month_name'] = internet.session_date.dt.month_name()\n",
    "internet.head()"
   ]
  },
  {
   "cell_type": "markdown",
   "id": "3c2d9361",
   "metadata": {},
   "source": [
    "**`messages` (информация о сообщениях)**"
   ]
  },
  {
   "cell_type": "code",
   "execution_count": 29,
   "id": "04d04756",
   "metadata": {},
   "outputs": [
    {
     "data": {
      "text/html": [
       "<div>\n",
       "<style scoped>\n",
       "    .dataframe tbody tr th:only-of-type {\n",
       "        vertical-align: middle;\n",
       "    }\n",
       "\n",
       "    .dataframe tbody tr th {\n",
       "        vertical-align: top;\n",
       "    }\n",
       "\n",
       "    .dataframe thead th {\n",
       "        text-align: right;\n",
       "    }\n",
       "</style>\n",
       "<table border=\"1\" class=\"dataframe\">\n",
       "  <thead>\n",
       "    <tr style=\"text-align: right;\">\n",
       "      <th></th>\n",
       "      <th>id</th>\n",
       "      <th>message_date</th>\n",
       "      <th>user_id</th>\n",
       "      <th>month</th>\n",
       "      <th>month_name</th>\n",
       "    </tr>\n",
       "  </thead>\n",
       "  <tbody>\n",
       "    <tr>\n",
       "      <td>0</td>\n",
       "      <td>1000_0</td>\n",
       "      <td>2018-06-27</td>\n",
       "      <td>1000</td>\n",
       "      <td>6</td>\n",
       "      <td>June</td>\n",
       "    </tr>\n",
       "    <tr>\n",
       "      <td>1</td>\n",
       "      <td>1000_1</td>\n",
       "      <td>2018-10-08</td>\n",
       "      <td>1000</td>\n",
       "      <td>10</td>\n",
       "      <td>October</td>\n",
       "    </tr>\n",
       "    <tr>\n",
       "      <td>2</td>\n",
       "      <td>1000_2</td>\n",
       "      <td>2018-08-04</td>\n",
       "      <td>1000</td>\n",
       "      <td>8</td>\n",
       "      <td>August</td>\n",
       "    </tr>\n",
       "    <tr>\n",
       "      <td>3</td>\n",
       "      <td>1000_3</td>\n",
       "      <td>2018-06-16</td>\n",
       "      <td>1000</td>\n",
       "      <td>6</td>\n",
       "      <td>June</td>\n",
       "    </tr>\n",
       "    <tr>\n",
       "      <td>4</td>\n",
       "      <td>1000_4</td>\n",
       "      <td>2018-12-05</td>\n",
       "      <td>1000</td>\n",
       "      <td>12</td>\n",
       "      <td>December</td>\n",
       "    </tr>\n",
       "  </tbody>\n",
       "</table>\n",
       "</div>"
      ],
      "text/plain": [
       "       id message_date  user_id  month month_name\n",
       "0  1000_0   2018-06-27     1000      6       June\n",
       "1  1000_1   2018-10-08     1000     10    October\n",
       "2  1000_2   2018-08-04     1000      8     August\n",
       "3  1000_3   2018-06-16     1000      6       June\n",
       "4  1000_4   2018-12-05     1000     12   December"
      ]
     },
     "execution_count": 29,
     "metadata": {},
     "output_type": "execute_result"
    }
   ],
   "source": [
    "messages.message_date = pd.to_datetime(messages.message_date, format = '%Y-%m-%d')\n",
    "messages['month'] = messages.message_date.dt.month\n",
    "messages['month_name'] = messages.message_date.dt.month_name()\n",
    "messages.head()"
   ]
  },
  {
   "cell_type": "markdown",
   "id": "5b9da3b8",
   "metadata": {},
   "source": [
    "**`users` (информация о пользователях)**"
   ]
  },
  {
   "cell_type": "code",
   "execution_count": 30,
   "id": "e23d0c33",
   "metadata": {},
   "outputs": [
    {
     "name": "stdout",
     "output_type": "stream",
     "text": [
      "<class 'pandas.core.frame.DataFrame'>\n",
      "RangeIndex: 500 entries, 0 to 499\n",
      "Data columns (total 8 columns):\n",
      "user_id       500 non-null int64\n",
      "age           500 non-null int64\n",
      "churn_date    38 non-null datetime64[ns]\n",
      "city          500 non-null object\n",
      "first_name    500 non-null object\n",
      "last_name     500 non-null object\n",
      "reg_date      500 non-null datetime64[ns]\n",
      "tariff        500 non-null object\n",
      "dtypes: datetime64[ns](2), int64(2), object(4)\n",
      "memory usage: 31.4+ KB\n"
     ]
    }
   ],
   "source": [
    "users.churn_date = pd.to_datetime(users.churn_date, format = '%Y-%m-%d')\n",
    "users.reg_date = pd.to_datetime(users.reg_date, format = '%Y-%m-%d')\n",
    "users.info()"
   ]
  },
  {
   "cell_type": "markdown",
   "id": "695f0d0b",
   "metadata": {},
   "source": [
    "### Вывод\n",
    "в процессе приведения данных сделали следующее:\n",
    "- привели данные, связанные с датой к соответствующему типу;\n",
    "- избавились долей секунд в длительности звонка до минут и привели к целочисленному типу;\n",
    "- привели столбец объема потребляемого интернет-трафика к целочисленному типу."
   ]
  },
  {
   "cell_type": "markdown",
   "id": "bd884f33",
   "metadata": {},
   "source": [
    "### Поиск дубликатов<a id=\"2_3\"></a>"
   ]
  },
  {
   "cell_type": "code",
   "execution_count": 31,
   "id": "80886de2",
   "metadata": {},
   "outputs": [
    {
     "data": {
      "text/plain": [
       "0"
      ]
     },
     "execution_count": 31,
     "metadata": {},
     "output_type": "execute_result"
    }
   ],
   "source": [
    "calls.duplicated().sum()"
   ]
  },
  {
   "cell_type": "code",
   "execution_count": 32,
   "id": "3e35d02b",
   "metadata": {},
   "outputs": [
    {
     "data": {
      "text/plain": [
       "0"
      ]
     },
     "execution_count": 32,
     "metadata": {},
     "output_type": "execute_result"
    }
   ],
   "source": [
    "messages.duplicated().sum()"
   ]
  },
  {
   "cell_type": "code",
   "execution_count": 33,
   "id": "d5622545",
   "metadata": {},
   "outputs": [
    {
     "data": {
      "text/plain": [
       "0"
      ]
     },
     "execution_count": 33,
     "metadata": {},
     "output_type": "execute_result"
    }
   ],
   "source": [
    "internet.duplicated().sum()"
   ]
  },
  {
   "cell_type": "code",
   "execution_count": 34,
   "id": "aa5ed774",
   "metadata": {},
   "outputs": [
    {
     "data": {
      "text/plain": [
       "0"
      ]
     },
     "execution_count": 34,
     "metadata": {},
     "output_type": "execute_result"
    }
   ],
   "source": [
    "users.duplicated().sum()"
   ]
  },
  {
   "cell_type": "markdown",
   "id": "a095af57",
   "metadata": {},
   "source": [
    "### Вывод\n",
    "В процессе поиска дубликатов определили, что явных дубликатов у нас нет."
   ]
  },
  {
   "cell_type": "markdown",
   "id": "87d8c013",
   "metadata": {},
   "source": [
    "После того, как определили пропуски, привели необходимые данные к нужному типу, изучив данные на наличие дубликатов, подготовим для исследования нужную информацию:\n",
    "- количество сделанных звонков и израсходованных минут разговора по месяцам;\n",
    "- количество отправленных сообщений по месяцам;\n",
    "- объем израсходованного интернет-трафика по месяцам;\n",
    "- помесячную выручку с каждого пользователя."
   ]
  },
  {
   "cell_type": "markdown",
   "id": "e9c19d1f",
   "metadata": {},
   "source": [
    "### Количество сделанных звонков и израсходованных минут разговора по месяцам <a id=\"2_4\"></a>"
   ]
  },
  {
   "cell_type": "code",
   "execution_count": 35,
   "id": "6755a376",
   "metadata": {},
   "outputs": [
    {
     "data": {
      "text/html": [
       "<div>\n",
       "<style scoped>\n",
       "    .dataframe tbody tr th:only-of-type {\n",
       "        vertical-align: middle;\n",
       "    }\n",
       "\n",
       "    .dataframe tbody tr th {\n",
       "        vertical-align: top;\n",
       "    }\n",
       "\n",
       "    .dataframe thead th {\n",
       "        text-align: right;\n",
       "    }\n",
       "</style>\n",
       "<table border=\"1\" class=\"dataframe\">\n",
       "  <thead>\n",
       "    <tr style=\"text-align: right;\">\n",
       "      <th></th>\n",
       "      <th>user_id</th>\n",
       "      <th>month</th>\n",
       "      <th>calls_count</th>\n",
       "      <th>calls_duration</th>\n",
       "    </tr>\n",
       "  </thead>\n",
       "  <tbody>\n",
       "    <tr>\n",
       "      <td>0</td>\n",
       "      <td>1000</td>\n",
       "      <td>5</td>\n",
       "      <td>22</td>\n",
       "      <td>159</td>\n",
       "    </tr>\n",
       "    <tr>\n",
       "      <td>1</td>\n",
       "      <td>1000</td>\n",
       "      <td>6</td>\n",
       "      <td>43</td>\n",
       "      <td>172</td>\n",
       "    </tr>\n",
       "    <tr>\n",
       "      <td>2</td>\n",
       "      <td>1000</td>\n",
       "      <td>7</td>\n",
       "      <td>47</td>\n",
       "      <td>340</td>\n",
       "    </tr>\n",
       "    <tr>\n",
       "      <td>3</td>\n",
       "      <td>1000</td>\n",
       "      <td>8</td>\n",
       "      <td>52</td>\n",
       "      <td>408</td>\n",
       "    </tr>\n",
       "    <tr>\n",
       "      <td>4</td>\n",
       "      <td>1000</td>\n",
       "      <td>9</td>\n",
       "      <td>58</td>\n",
       "      <td>466</td>\n",
       "    </tr>\n",
       "  </tbody>\n",
       "</table>\n",
       "</div>"
      ],
      "text/plain": [
       "   user_id  month  calls_count  calls_duration\n",
       "0     1000      5           22             159\n",
       "1     1000      6           43             172\n",
       "2     1000      7           47             340\n",
       "3     1000      8           52             408\n",
       "4     1000      9           58             466"
      ]
     },
     "execution_count": 35,
     "metadata": {},
     "output_type": "execute_result"
    }
   ],
   "source": [
    "calls_per_month = calls.pivot_table(index = ['user_id', 'month'], \n",
    "                                    values = 'duration', \n",
    "                                    aggfunc = ['count','sum']).reset_index()\n",
    "calls_per_month.columns = ['user_id', 'month','calls_count', 'calls_duration']\n",
    "calls_per_month.head()"
   ]
  },
  {
   "cell_type": "markdown",
   "id": "738b5712",
   "metadata": {},
   "source": [
    "<div class=\"alert alert-success\">\n",
    "<b>Комментарий ревьюера:</b>\n",
    "\n",
    "С группировкой данных разобрались, супер. Этот инструмент мы будем использовать достаточно часто в нашей практике.    \n",
    "</div>"
   ]
  },
  {
   "cell_type": "markdown",
   "id": "cfcc1045",
   "metadata": {},
   "source": [
    "### Количество отправленных сообщений по месяцам <a id=\"2_5\"></a>"
   ]
  },
  {
   "cell_type": "code",
   "execution_count": 36,
   "id": "c5980262",
   "metadata": {
    "scrolled": true
   },
   "outputs": [
    {
     "data": {
      "text/html": [
       "<div>\n",
       "<style scoped>\n",
       "    .dataframe tbody tr th:only-of-type {\n",
       "        vertical-align: middle;\n",
       "    }\n",
       "\n",
       "    .dataframe tbody tr th {\n",
       "        vertical-align: top;\n",
       "    }\n",
       "\n",
       "    .dataframe thead th {\n",
       "        text-align: right;\n",
       "    }\n",
       "</style>\n",
       "<table border=\"1\" class=\"dataframe\">\n",
       "  <thead>\n",
       "    <tr style=\"text-align: right;\">\n",
       "      <th></th>\n",
       "      <th>user_id</th>\n",
       "      <th>month</th>\n",
       "      <th>msg_count</th>\n",
       "    </tr>\n",
       "  </thead>\n",
       "  <tbody>\n",
       "    <tr>\n",
       "      <td>0</td>\n",
       "      <td>1000</td>\n",
       "      <td>5</td>\n",
       "      <td>22</td>\n",
       "    </tr>\n",
       "    <tr>\n",
       "      <td>1</td>\n",
       "      <td>1000</td>\n",
       "      <td>6</td>\n",
       "      <td>60</td>\n",
       "    </tr>\n",
       "    <tr>\n",
       "      <td>2</td>\n",
       "      <td>1000</td>\n",
       "      <td>7</td>\n",
       "      <td>75</td>\n",
       "    </tr>\n",
       "    <tr>\n",
       "      <td>3</td>\n",
       "      <td>1000</td>\n",
       "      <td>8</td>\n",
       "      <td>81</td>\n",
       "    </tr>\n",
       "    <tr>\n",
       "      <td>4</td>\n",
       "      <td>1000</td>\n",
       "      <td>9</td>\n",
       "      <td>57</td>\n",
       "    </tr>\n",
       "    <tr>\n",
       "      <td>5</td>\n",
       "      <td>1000</td>\n",
       "      <td>10</td>\n",
       "      <td>73</td>\n",
       "    </tr>\n",
       "    <tr>\n",
       "      <td>6</td>\n",
       "      <td>1000</td>\n",
       "      <td>11</td>\n",
       "      <td>58</td>\n",
       "    </tr>\n",
       "    <tr>\n",
       "      <td>7</td>\n",
       "      <td>1000</td>\n",
       "      <td>12</td>\n",
       "      <td>70</td>\n",
       "    </tr>\n",
       "    <tr>\n",
       "      <td>8</td>\n",
       "      <td>1002</td>\n",
       "      <td>6</td>\n",
       "      <td>4</td>\n",
       "    </tr>\n",
       "    <tr>\n",
       "      <td>9</td>\n",
       "      <td>1002</td>\n",
       "      <td>7</td>\n",
       "      <td>11</td>\n",
       "    </tr>\n",
       "    <tr>\n",
       "      <td>10</td>\n",
       "      <td>1002</td>\n",
       "      <td>8</td>\n",
       "      <td>13</td>\n",
       "    </tr>\n",
       "    <tr>\n",
       "      <td>11</td>\n",
       "      <td>1002</td>\n",
       "      <td>9</td>\n",
       "      <td>4</td>\n",
       "    </tr>\n",
       "    <tr>\n",
       "      <td>12</td>\n",
       "      <td>1002</td>\n",
       "      <td>10</td>\n",
       "      <td>10</td>\n",
       "    </tr>\n",
       "    <tr>\n",
       "      <td>13</td>\n",
       "      <td>1002</td>\n",
       "      <td>11</td>\n",
       "      <td>16</td>\n",
       "    </tr>\n",
       "    <tr>\n",
       "      <td>14</td>\n",
       "      <td>1002</td>\n",
       "      <td>12</td>\n",
       "      <td>12</td>\n",
       "    </tr>\n",
       "  </tbody>\n",
       "</table>\n",
       "</div>"
      ],
      "text/plain": [
       "    user_id  month  msg_count\n",
       "0      1000      5         22\n",
       "1      1000      6         60\n",
       "2      1000      7         75\n",
       "3      1000      8         81\n",
       "4      1000      9         57\n",
       "5      1000     10         73\n",
       "6      1000     11         58\n",
       "7      1000     12         70\n",
       "8      1002      6          4\n",
       "9      1002      7         11\n",
       "10     1002      8         13\n",
       "11     1002      9          4\n",
       "12     1002     10         10\n",
       "13     1002     11         16\n",
       "14     1002     12         12"
      ]
     },
     "execution_count": 36,
     "metadata": {},
     "output_type": "execute_result"
    }
   ],
   "source": [
    "messages_per_month = messages.pivot_table(index = ['user_id', 'month'], \n",
    "                                          values = 'id', \n",
    "                                          aggfunc = 'count').reset_index()\n",
    "\n",
    "messages_per_month.columns = ['user_id', 'month','msg_count']\n",
    "messages_per_month.head(15)"
   ]
  },
  {
   "cell_type": "markdown",
   "id": "3cb81d5a",
   "metadata": {},
   "source": [
    "### Объем израсходованного интернет-трафика по месяцам <a id=\"2_6\"></a>"
   ]
  },
  {
   "cell_type": "code",
   "execution_count": 37,
   "id": "652b1212",
   "metadata": {},
   "outputs": [
    {
     "data": {
      "text/html": [
       "<div>\n",
       "<style scoped>\n",
       "    .dataframe tbody tr th:only-of-type {\n",
       "        vertical-align: middle;\n",
       "    }\n",
       "\n",
       "    .dataframe tbody tr th {\n",
       "        vertical-align: top;\n",
       "    }\n",
       "\n",
       "    .dataframe thead th {\n",
       "        text-align: right;\n",
       "    }\n",
       "</style>\n",
       "<table border=\"1\" class=\"dataframe\">\n",
       "  <thead>\n",
       "    <tr style=\"text-align: right;\">\n",
       "      <th></th>\n",
       "      <th>user_id</th>\n",
       "      <th>month</th>\n",
       "      <th>mb_sum</th>\n",
       "    </tr>\n",
       "  </thead>\n",
       "  <tbody>\n",
       "    <tr>\n",
       "      <td>0</td>\n",
       "      <td>1000</td>\n",
       "      <td>5</td>\n",
       "      <td>2253.49</td>\n",
       "    </tr>\n",
       "    <tr>\n",
       "      <td>1</td>\n",
       "      <td>1000</td>\n",
       "      <td>6</td>\n",
       "      <td>23233.77</td>\n",
       "    </tr>\n",
       "    <tr>\n",
       "      <td>2</td>\n",
       "      <td>1000</td>\n",
       "      <td>7</td>\n",
       "      <td>14003.64</td>\n",
       "    </tr>\n",
       "    <tr>\n",
       "      <td>3</td>\n",
       "      <td>1000</td>\n",
       "      <td>8</td>\n",
       "      <td>14055.93</td>\n",
       "    </tr>\n",
       "    <tr>\n",
       "      <td>4</td>\n",
       "      <td>1000</td>\n",
       "      <td>9</td>\n",
       "      <td>14568.91</td>\n",
       "    </tr>\n",
       "  </tbody>\n",
       "</table>\n",
       "</div>"
      ],
      "text/plain": [
       "   user_id  month    mb_sum\n",
       "0     1000      5   2253.49\n",
       "1     1000      6  23233.77\n",
       "2     1000      7  14003.64\n",
       "3     1000      8  14055.93\n",
       "4     1000      9  14568.91"
      ]
     },
     "execution_count": 37,
     "metadata": {},
     "output_type": "execute_result"
    }
   ],
   "source": [
    "internet_per_month = internet.pivot_table(index = ['user_id', 'month'], \n",
    "                                          values = 'mb_used', \n",
    "                                          aggfunc = 'sum').reset_index()\n",
    "\n",
    "internet_per_month.columns = ['user_id', 'month', 'mb_sum']\n",
    "internet_per_month.head()"
   ]
  },
  {
   "cell_type": "markdown",
   "id": "0ac9d115",
   "metadata": {},
   "source": [
    "Видим, что у нас количество мегабайт, используемых пользователями представлено в мегабайт, напомним, что:\n",
    "> Для веб-трафика отдельные сессии не считаются. Вместо этого общая сумма за месяц округляется в бо́льшую сторону. Если абонент использует 1025 мегабайт в этом месяце, с него возьмут плату за 2 гигабайта.\n",
    "\n",
    "Поэтому для начала посчитаем количество гигабайт ежемесячного потребления интернет-трафика ежемесячно и округлим в большую сторону."
   ]
  },
  {
   "cell_type": "code",
   "execution_count": 38,
   "id": "a2179c7e",
   "metadata": {
    "scrolled": true
   },
   "outputs": [
    {
     "data": {
      "text/html": [
       "<div>\n",
       "<style scoped>\n",
       "    .dataframe tbody tr th:only-of-type {\n",
       "        vertical-align: middle;\n",
       "    }\n",
       "\n",
       "    .dataframe tbody tr th {\n",
       "        vertical-align: top;\n",
       "    }\n",
       "\n",
       "    .dataframe thead th {\n",
       "        text-align: right;\n",
       "    }\n",
       "</style>\n",
       "<table border=\"1\" class=\"dataframe\">\n",
       "  <thead>\n",
       "    <tr style=\"text-align: right;\">\n",
       "      <th></th>\n",
       "      <th>user_id</th>\n",
       "      <th>month</th>\n",
       "      <th>gb_sum</th>\n",
       "    </tr>\n",
       "  </thead>\n",
       "  <tbody>\n",
       "    <tr>\n",
       "      <td>0</td>\n",
       "      <td>1000</td>\n",
       "      <td>5</td>\n",
       "      <td>3</td>\n",
       "    </tr>\n",
       "    <tr>\n",
       "      <td>1</td>\n",
       "      <td>1000</td>\n",
       "      <td>6</td>\n",
       "      <td>23</td>\n",
       "    </tr>\n",
       "    <tr>\n",
       "      <td>2</td>\n",
       "      <td>1000</td>\n",
       "      <td>7</td>\n",
       "      <td>14</td>\n",
       "    </tr>\n",
       "    <tr>\n",
       "      <td>3</td>\n",
       "      <td>1000</td>\n",
       "      <td>8</td>\n",
       "      <td>14</td>\n",
       "    </tr>\n",
       "    <tr>\n",
       "      <td>4</td>\n",
       "      <td>1000</td>\n",
       "      <td>9</td>\n",
       "      <td>15</td>\n",
       "    </tr>\n",
       "  </tbody>\n",
       "</table>\n",
       "</div>"
      ],
      "text/plain": [
       "   user_id  month  gb_sum\n",
       "0     1000      5       3\n",
       "1     1000      6      23\n",
       "2     1000      7      14\n",
       "3     1000      8      14\n",
       "4     1000      9      15"
      ]
     },
     "execution_count": 38,
     "metadata": {},
     "output_type": "execute_result"
    }
   ],
   "source": [
    "internet_per_month.mb_sum = internet_per_month.mb_sum.apply(np.ceil)\n",
    "internet_per_month['gb_sum'] = internet_per_month.mb_sum / 1024\n",
    "internet_per_month.gb_sum = internet_per_month.gb_sum.apply(np.ceil)\n",
    "\n",
    "internet_per_month = internet_per_month.drop(columns = 'mb_sum')\n",
    "internet_per_month.gb_sum = internet_per_month.gb_sum.astype(int)\n",
    "internet_per_month.head()"
   ]
  },
  {
   "cell_type": "markdown",
   "id": "ecda4e0e",
   "metadata": {},
   "source": [
    "### Расчет помесячной выручки с каждого пользователя <a id=\"2_7\"></a>"
   ]
  },
  {
   "cell_type": "markdown",
   "id": "4bd34049",
   "metadata": {},
   "source": [
    "После того, как определелили помесячное потребление трафика необходимо посчитать помесячную выручку с каждого пользователя. Для этого нужно учесть тариф, которым пользуется каждый пользователь. Поэтому сделаем объединенную таблицу, в котором будут храниться все наши расчеты и добавим к ней дополенительную информацию в виде названия тарифа и стоимости"
   ]
  },
  {
   "cell_type": "code",
   "execution_count": 39,
   "id": "2a515767",
   "metadata": {
    "scrolled": true
   },
   "outputs": [
    {
     "data": {
      "text/html": [
       "<div>\n",
       "<style scoped>\n",
       "    .dataframe tbody tr th:only-of-type {\n",
       "        vertical-align: middle;\n",
       "    }\n",
       "\n",
       "    .dataframe tbody tr th {\n",
       "        vertical-align: top;\n",
       "    }\n",
       "\n",
       "    .dataframe thead th {\n",
       "        text-align: right;\n",
       "    }\n",
       "</style>\n",
       "<table border=\"1\" class=\"dataframe\">\n",
       "  <thead>\n",
       "    <tr style=\"text-align: right;\">\n",
       "      <th></th>\n",
       "      <th>user_id</th>\n",
       "      <th>month</th>\n",
       "      <th>calls_count</th>\n",
       "      <th>calls_duration</th>\n",
       "      <th>msg_count</th>\n",
       "      <th>gb_sum</th>\n",
       "    </tr>\n",
       "  </thead>\n",
       "  <tbody>\n",
       "    <tr>\n",
       "      <td>0</td>\n",
       "      <td>1000</td>\n",
       "      <td>5</td>\n",
       "      <td>22.0</td>\n",
       "      <td>159.0</td>\n",
       "      <td>22.0</td>\n",
       "      <td>3.0</td>\n",
       "    </tr>\n",
       "    <tr>\n",
       "      <td>1</td>\n",
       "      <td>1000</td>\n",
       "      <td>6</td>\n",
       "      <td>43.0</td>\n",
       "      <td>172.0</td>\n",
       "      <td>60.0</td>\n",
       "      <td>23.0</td>\n",
       "    </tr>\n",
       "    <tr>\n",
       "      <td>2</td>\n",
       "      <td>1000</td>\n",
       "      <td>7</td>\n",
       "      <td>47.0</td>\n",
       "      <td>340.0</td>\n",
       "      <td>75.0</td>\n",
       "      <td>14.0</td>\n",
       "    </tr>\n",
       "    <tr>\n",
       "      <td>3</td>\n",
       "      <td>1000</td>\n",
       "      <td>8</td>\n",
       "      <td>52.0</td>\n",
       "      <td>408.0</td>\n",
       "      <td>81.0</td>\n",
       "      <td>14.0</td>\n",
       "    </tr>\n",
       "    <tr>\n",
       "      <td>4</td>\n",
       "      <td>1000</td>\n",
       "      <td>9</td>\n",
       "      <td>58.0</td>\n",
       "      <td>466.0</td>\n",
       "      <td>57.0</td>\n",
       "      <td>15.0</td>\n",
       "    </tr>\n",
       "  </tbody>\n",
       "</table>\n",
       "</div>"
      ],
      "text/plain": [
       "   user_id  month  calls_count  calls_duration  msg_count  gb_sum\n",
       "0     1000      5         22.0           159.0       22.0     3.0\n",
       "1     1000      6         43.0           172.0       60.0    23.0\n",
       "2     1000      7         47.0           340.0       75.0    14.0\n",
       "3     1000      8         52.0           408.0       81.0    14.0\n",
       "4     1000      9         58.0           466.0       57.0    15.0"
      ]
     },
     "execution_count": 39,
     "metadata": {},
     "output_type": "execute_result"
    }
   ],
   "source": [
    "df = calls_per_month.merge(messages_per_month, on = ['user_id', 'month'], how = 'outer')\n",
    "df = df.merge(internet_per_month, on = ['user_id', 'month'], how = 'outer')\n",
    "df.head()"
   ]
  },
  {
   "cell_type": "markdown",
   "id": "25eefc2c",
   "metadata": {},
   "source": [
    "Объединили таблицу в единое целое. Теперь добавим дополнительную информацию по каждому тарифу. Сделаем выборку из таблицы **users** и объединим ее с таблицей стоимости."
   ]
  },
  {
   "cell_type": "code",
   "execution_count": 40,
   "id": "b474c8b2",
   "metadata": {},
   "outputs": [
    {
     "data": {
      "text/plain": [
       "(3214, 6)"
      ]
     },
     "execution_count": 40,
     "metadata": {},
     "output_type": "execute_result"
    }
   ],
   "source": [
    "df.shape"
   ]
  },
  {
   "cell_type": "code",
   "execution_count": 41,
   "id": "2468c597",
   "metadata": {},
   "outputs": [
    {
     "data": {
      "text/plain": [
       "498"
      ]
     },
     "execution_count": 41,
     "metadata": {},
     "output_type": "execute_result"
    }
   ],
   "source": [
    "df.user_id.nunique()"
   ]
  },
  {
   "cell_type": "code",
   "execution_count": 42,
   "id": "17975ec6",
   "metadata": {},
   "outputs": [
    {
     "data": {
      "text/html": [
       "<div>\n",
       "<style scoped>\n",
       "    .dataframe tbody tr th:only-of-type {\n",
       "        vertical-align: middle;\n",
       "    }\n",
       "\n",
       "    .dataframe tbody tr th {\n",
       "        vertical-align: top;\n",
       "    }\n",
       "\n",
       "    .dataframe thead th {\n",
       "        text-align: right;\n",
       "    }\n",
       "</style>\n",
       "<table border=\"1\" class=\"dataframe\">\n",
       "  <thead>\n",
       "    <tr style=\"text-align: right;\">\n",
       "      <th></th>\n",
       "      <th>user_id</th>\n",
       "      <th>city</th>\n",
       "      <th>tariff</th>\n",
       "    </tr>\n",
       "  </thead>\n",
       "  <tbody>\n",
       "    <tr>\n",
       "      <td>0</td>\n",
       "      <td>1000</td>\n",
       "      <td>Краснодар</td>\n",
       "      <td>ultra</td>\n",
       "    </tr>\n",
       "    <tr>\n",
       "      <td>1</td>\n",
       "      <td>1001</td>\n",
       "      <td>Москва</td>\n",
       "      <td>smart</td>\n",
       "    </tr>\n",
       "    <tr>\n",
       "      <td>2</td>\n",
       "      <td>1002</td>\n",
       "      <td>Стерлитамак</td>\n",
       "      <td>smart</td>\n",
       "    </tr>\n",
       "    <tr>\n",
       "      <td>3</td>\n",
       "      <td>1003</td>\n",
       "      <td>Москва</td>\n",
       "      <td>ultra</td>\n",
       "    </tr>\n",
       "    <tr>\n",
       "      <td>4</td>\n",
       "      <td>1004</td>\n",
       "      <td>Новокузнецк</td>\n",
       "      <td>ultra</td>\n",
       "    </tr>\n",
       "  </tbody>\n",
       "</table>\n",
       "</div>"
      ],
      "text/plain": [
       "   user_id         city tariff\n",
       "0     1000    Краснодар  ultra\n",
       "1     1001       Москва  smart\n",
       "2     1002  Стерлитамак  smart\n",
       "3     1003       Москва  ultra\n",
       "4     1004  Новокузнецк  ultra"
      ]
     },
     "execution_count": 42,
     "metadata": {},
     "output_type": "execute_result"
    }
   ],
   "source": [
    "users_filtered = users[['user_id', 'city','tariff']]\n",
    "users_filtered.head()"
   ]
  },
  {
   "cell_type": "code",
   "execution_count": 43,
   "id": "06259192",
   "metadata": {
    "scrolled": false
   },
   "outputs": [
    {
     "data": {
      "text/html": [
       "<div>\n",
       "<style scoped>\n",
       "    .dataframe tbody tr th:only-of-type {\n",
       "        vertical-align: middle;\n",
       "    }\n",
       "\n",
       "    .dataframe tbody tr th {\n",
       "        vertical-align: top;\n",
       "    }\n",
       "\n",
       "    .dataframe thead th {\n",
       "        text-align: right;\n",
       "    }\n",
       "</style>\n",
       "<table border=\"1\" class=\"dataframe\">\n",
       "  <thead>\n",
       "    <tr style=\"text-align: right;\">\n",
       "      <th></th>\n",
       "      <th>user_id</th>\n",
       "      <th>city</th>\n",
       "      <th>tariff</th>\n",
       "      <th>messages_included</th>\n",
       "      <th>mb_per_month_included</th>\n",
       "      <th>minutes_included</th>\n",
       "      <th>rub_monthly_fee</th>\n",
       "      <th>rub_per_gb</th>\n",
       "      <th>rub_per_message</th>\n",
       "      <th>rub_per_minute</th>\n",
       "    </tr>\n",
       "  </thead>\n",
       "  <tbody>\n",
       "    <tr>\n",
       "      <td>0</td>\n",
       "      <td>1000</td>\n",
       "      <td>Краснодар</td>\n",
       "      <td>ultra</td>\n",
       "      <td>1000</td>\n",
       "      <td>30720</td>\n",
       "      <td>3000</td>\n",
       "      <td>1950</td>\n",
       "      <td>150</td>\n",
       "      <td>1</td>\n",
       "      <td>1</td>\n",
       "    </tr>\n",
       "    <tr>\n",
       "      <td>1</td>\n",
       "      <td>1001</td>\n",
       "      <td>Москва</td>\n",
       "      <td>smart</td>\n",
       "      <td>50</td>\n",
       "      <td>15360</td>\n",
       "      <td>500</td>\n",
       "      <td>550</td>\n",
       "      <td>200</td>\n",
       "      <td>3</td>\n",
       "      <td>3</td>\n",
       "    </tr>\n",
       "    <tr>\n",
       "      <td>2</td>\n",
       "      <td>1002</td>\n",
       "      <td>Стерлитамак</td>\n",
       "      <td>smart</td>\n",
       "      <td>50</td>\n",
       "      <td>15360</td>\n",
       "      <td>500</td>\n",
       "      <td>550</td>\n",
       "      <td>200</td>\n",
       "      <td>3</td>\n",
       "      <td>3</td>\n",
       "    </tr>\n",
       "    <tr>\n",
       "      <td>3</td>\n",
       "      <td>1003</td>\n",
       "      <td>Москва</td>\n",
       "      <td>ultra</td>\n",
       "      <td>1000</td>\n",
       "      <td>30720</td>\n",
       "      <td>3000</td>\n",
       "      <td>1950</td>\n",
       "      <td>150</td>\n",
       "      <td>1</td>\n",
       "      <td>1</td>\n",
       "    </tr>\n",
       "    <tr>\n",
       "      <td>4</td>\n",
       "      <td>1004</td>\n",
       "      <td>Новокузнецк</td>\n",
       "      <td>ultra</td>\n",
       "      <td>1000</td>\n",
       "      <td>30720</td>\n",
       "      <td>3000</td>\n",
       "      <td>1950</td>\n",
       "      <td>150</td>\n",
       "      <td>1</td>\n",
       "      <td>1</td>\n",
       "    </tr>\n",
       "  </tbody>\n",
       "</table>\n",
       "</div>"
      ],
      "text/plain": [
       "   user_id         city tariff  messages_included  mb_per_month_included  \\\n",
       "0     1000    Краснодар  ultra               1000                  30720   \n",
       "1     1001       Москва  smart                 50                  15360   \n",
       "2     1002  Стерлитамак  smart                 50                  15360   \n",
       "3     1003       Москва  ultra               1000                  30720   \n",
       "4     1004  Новокузнецк  ultra               1000                  30720   \n",
       "\n",
       "   minutes_included  rub_monthly_fee  rub_per_gb  rub_per_message  \\\n",
       "0              3000             1950         150                1   \n",
       "1               500              550         200                3   \n",
       "2               500              550         200                3   \n",
       "3              3000             1950         150                1   \n",
       "4              3000             1950         150                1   \n",
       "\n",
       "   rub_per_minute  \n",
       "0               1  \n",
       "1               3  \n",
       "2               3  \n",
       "3               1  \n",
       "4               1  "
      ]
     },
     "execution_count": 43,
     "metadata": {},
     "output_type": "execute_result"
    }
   ],
   "source": [
    "tariffs.rename(columns={'tariff_name': 'tariff'}, inplace=True)\n",
    "users_filtered = users_filtered.merge(tariffs, on = 'tariff', how = 'left')\n",
    "users_filtered.head()"
   ]
  },
  {
   "cell_type": "code",
   "execution_count": 44,
   "id": "c46ac76f",
   "metadata": {},
   "outputs": [
    {
     "data": {
      "text/html": [
       "<div>\n",
       "<style scoped>\n",
       "    .dataframe tbody tr th:only-of-type {\n",
       "        vertical-align: middle;\n",
       "    }\n",
       "\n",
       "    .dataframe tbody tr th {\n",
       "        vertical-align: top;\n",
       "    }\n",
       "\n",
       "    .dataframe thead th {\n",
       "        text-align: right;\n",
       "    }\n",
       "</style>\n",
       "<table border=\"1\" class=\"dataframe\">\n",
       "  <thead>\n",
       "    <tr style=\"text-align: right;\">\n",
       "      <th></th>\n",
       "      <th>user_id</th>\n",
       "      <th>month</th>\n",
       "      <th>calls_count</th>\n",
       "      <th>calls_duration</th>\n",
       "      <th>msg_count</th>\n",
       "      <th>gb_sum</th>\n",
       "    </tr>\n",
       "  </thead>\n",
       "  <tbody>\n",
       "    <tr>\n",
       "      <td>0</td>\n",
       "      <td>1000</td>\n",
       "      <td>5</td>\n",
       "      <td>22.0</td>\n",
       "      <td>159.0</td>\n",
       "      <td>22.0</td>\n",
       "      <td>3.0</td>\n",
       "    </tr>\n",
       "    <tr>\n",
       "      <td>1</td>\n",
       "      <td>1000</td>\n",
       "      <td>6</td>\n",
       "      <td>43.0</td>\n",
       "      <td>172.0</td>\n",
       "      <td>60.0</td>\n",
       "      <td>23.0</td>\n",
       "    </tr>\n",
       "    <tr>\n",
       "      <td>2</td>\n",
       "      <td>1000</td>\n",
       "      <td>7</td>\n",
       "      <td>47.0</td>\n",
       "      <td>340.0</td>\n",
       "      <td>75.0</td>\n",
       "      <td>14.0</td>\n",
       "    </tr>\n",
       "    <tr>\n",
       "      <td>3</td>\n",
       "      <td>1000</td>\n",
       "      <td>8</td>\n",
       "      <td>52.0</td>\n",
       "      <td>408.0</td>\n",
       "      <td>81.0</td>\n",
       "      <td>14.0</td>\n",
       "    </tr>\n",
       "    <tr>\n",
       "      <td>4</td>\n",
       "      <td>1000</td>\n",
       "      <td>9</td>\n",
       "      <td>58.0</td>\n",
       "      <td>466.0</td>\n",
       "      <td>57.0</td>\n",
       "      <td>15.0</td>\n",
       "    </tr>\n",
       "  </tbody>\n",
       "</table>\n",
       "</div>"
      ],
      "text/plain": [
       "   user_id  month  calls_count  calls_duration  msg_count  gb_sum\n",
       "0     1000      5         22.0           159.0       22.0     3.0\n",
       "1     1000      6         43.0           172.0       60.0    23.0\n",
       "2     1000      7         47.0           340.0       75.0    14.0\n",
       "3     1000      8         52.0           408.0       81.0    14.0\n",
       "4     1000      9         58.0           466.0       57.0    15.0"
      ]
     },
     "execution_count": 44,
     "metadata": {},
     "output_type": "execute_result"
    }
   ],
   "source": [
    "df.head()"
   ]
  },
  {
   "cell_type": "code",
   "execution_count": 45,
   "id": "ee9390d2",
   "metadata": {
    "scrolled": true
   },
   "outputs": [],
   "source": [
    "df = df.merge(users_filtered, on = 'user_id', how = 'left')"
   ]
  },
  {
   "cell_type": "code",
   "execution_count": 46,
   "id": "d0294421",
   "metadata": {},
   "outputs": [
    {
     "data": {
      "text/html": [
       "<div>\n",
       "<style scoped>\n",
       "    .dataframe tbody tr th:only-of-type {\n",
       "        vertical-align: middle;\n",
       "    }\n",
       "\n",
       "    .dataframe tbody tr th {\n",
       "        vertical-align: top;\n",
       "    }\n",
       "\n",
       "    .dataframe thead th {\n",
       "        text-align: right;\n",
       "    }\n",
       "</style>\n",
       "<table border=\"1\" class=\"dataframe\">\n",
       "  <thead>\n",
       "    <tr style=\"text-align: right;\">\n",
       "      <th></th>\n",
       "      <th>user_id</th>\n",
       "      <th>month</th>\n",
       "      <th>calls_count</th>\n",
       "      <th>calls_duration</th>\n",
       "      <th>msg_count</th>\n",
       "      <th>gb_sum</th>\n",
       "      <th>city</th>\n",
       "      <th>tariff</th>\n",
       "      <th>messages_included</th>\n",
       "      <th>mb_per_month_included</th>\n",
       "      <th>minutes_included</th>\n",
       "      <th>rub_monthly_fee</th>\n",
       "      <th>rub_per_gb</th>\n",
       "      <th>rub_per_message</th>\n",
       "      <th>rub_per_minute</th>\n",
       "    </tr>\n",
       "  </thead>\n",
       "  <tbody>\n",
       "    <tr>\n",
       "      <td>0</td>\n",
       "      <td>1000</td>\n",
       "      <td>5</td>\n",
       "      <td>22.0</td>\n",
       "      <td>159.0</td>\n",
       "      <td>22.0</td>\n",
       "      <td>3.0</td>\n",
       "      <td>Краснодар</td>\n",
       "      <td>ultra</td>\n",
       "      <td>1000</td>\n",
       "      <td>30720</td>\n",
       "      <td>3000</td>\n",
       "      <td>1950</td>\n",
       "      <td>150</td>\n",
       "      <td>1</td>\n",
       "      <td>1</td>\n",
       "    </tr>\n",
       "    <tr>\n",
       "      <td>1</td>\n",
       "      <td>1000</td>\n",
       "      <td>6</td>\n",
       "      <td>43.0</td>\n",
       "      <td>172.0</td>\n",
       "      <td>60.0</td>\n",
       "      <td>23.0</td>\n",
       "      <td>Краснодар</td>\n",
       "      <td>ultra</td>\n",
       "      <td>1000</td>\n",
       "      <td>30720</td>\n",
       "      <td>3000</td>\n",
       "      <td>1950</td>\n",
       "      <td>150</td>\n",
       "      <td>1</td>\n",
       "      <td>1</td>\n",
       "    </tr>\n",
       "    <tr>\n",
       "      <td>2</td>\n",
       "      <td>1000</td>\n",
       "      <td>7</td>\n",
       "      <td>47.0</td>\n",
       "      <td>340.0</td>\n",
       "      <td>75.0</td>\n",
       "      <td>14.0</td>\n",
       "      <td>Краснодар</td>\n",
       "      <td>ultra</td>\n",
       "      <td>1000</td>\n",
       "      <td>30720</td>\n",
       "      <td>3000</td>\n",
       "      <td>1950</td>\n",
       "      <td>150</td>\n",
       "      <td>1</td>\n",
       "      <td>1</td>\n",
       "    </tr>\n",
       "    <tr>\n",
       "      <td>3</td>\n",
       "      <td>1000</td>\n",
       "      <td>8</td>\n",
       "      <td>52.0</td>\n",
       "      <td>408.0</td>\n",
       "      <td>81.0</td>\n",
       "      <td>14.0</td>\n",
       "      <td>Краснодар</td>\n",
       "      <td>ultra</td>\n",
       "      <td>1000</td>\n",
       "      <td>30720</td>\n",
       "      <td>3000</td>\n",
       "      <td>1950</td>\n",
       "      <td>150</td>\n",
       "      <td>1</td>\n",
       "      <td>1</td>\n",
       "    </tr>\n",
       "    <tr>\n",
       "      <td>4</td>\n",
       "      <td>1000</td>\n",
       "      <td>9</td>\n",
       "      <td>58.0</td>\n",
       "      <td>466.0</td>\n",
       "      <td>57.0</td>\n",
       "      <td>15.0</td>\n",
       "      <td>Краснодар</td>\n",
       "      <td>ultra</td>\n",
       "      <td>1000</td>\n",
       "      <td>30720</td>\n",
       "      <td>3000</td>\n",
       "      <td>1950</td>\n",
       "      <td>150</td>\n",
       "      <td>1</td>\n",
       "      <td>1</td>\n",
       "    </tr>\n",
       "  </tbody>\n",
       "</table>\n",
       "</div>"
      ],
      "text/plain": [
       "   user_id  month  calls_count  calls_duration  msg_count  gb_sum       city  \\\n",
       "0     1000      5         22.0           159.0       22.0     3.0  Краснодар   \n",
       "1     1000      6         43.0           172.0       60.0    23.0  Краснодар   \n",
       "2     1000      7         47.0           340.0       75.0    14.0  Краснодар   \n",
       "3     1000      8         52.0           408.0       81.0    14.0  Краснодар   \n",
       "4     1000      9         58.0           466.0       57.0    15.0  Краснодар   \n",
       "\n",
       "  tariff  messages_included  mb_per_month_included  minutes_included  \\\n",
       "0  ultra               1000                  30720              3000   \n",
       "1  ultra               1000                  30720              3000   \n",
       "2  ultra               1000                  30720              3000   \n",
       "3  ultra               1000                  30720              3000   \n",
       "4  ultra               1000                  30720              3000   \n",
       "\n",
       "   rub_monthly_fee  rub_per_gb  rub_per_message  rub_per_minute  \n",
       "0             1950         150                1               1  \n",
       "1             1950         150                1               1  \n",
       "2             1950         150                1               1  \n",
       "3             1950         150                1               1  \n",
       "4             1950         150                1               1  "
      ]
     },
     "execution_count": 46,
     "metadata": {},
     "output_type": "execute_result"
    }
   ],
   "source": [
    "df.head()"
   ]
  },
  {
   "cell_type": "markdown",
   "id": "5c76c476",
   "metadata": {},
   "source": [
    "Преобразуем столбец \"количество мегабайт доступных в тарифе\" в количество гигабайт."
   ]
  },
  {
   "cell_type": "code",
   "execution_count": 47,
   "id": "7c561b85",
   "metadata": {},
   "outputs": [],
   "source": [
    "df.mb_per_month_included = df.mb_per_month_included / 1024\n",
    "df.rename(columns = {'mb_per_month_included' : 'gb_per_month_included'}, inplace = True)"
   ]
  },
  {
   "cell_type": "markdown",
   "id": "f2f8eff9",
   "metadata": {},
   "source": [
    "Посмотрим на итоговую таблицу. Посмотрим, есть ли у нас пропуски в ней."
   ]
  },
  {
   "cell_type": "code",
   "execution_count": 50,
   "id": "7b06435d",
   "metadata": {
    "scrolled": true
   },
   "outputs": [
    {
     "name": "stdout",
     "output_type": "stream",
     "text": [
      "<class 'pandas.core.frame.DataFrame'>\n",
      "Int64Index: 3214 entries, 0 to 3213\n",
      "Data columns (total 15 columns):\n",
      "user_id                  3214 non-null int64\n",
      "month                    3214 non-null int64\n",
      "calls_count              3174 non-null float64\n",
      "calls_duration           3174 non-null float64\n",
      "msg_count                2717 non-null float64\n",
      "gb_sum                   3203 non-null float64\n",
      "city                     3214 non-null object\n",
      "tariff                   3214 non-null object\n",
      "messages_included        3214 non-null int64\n",
      "gb_per_month_included    3214 non-null float64\n",
      "minutes_included         3214 non-null int64\n",
      "rub_monthly_fee          3214 non-null int64\n",
      "rub_per_gb               3214 non-null int64\n",
      "rub_per_message          3214 non-null int64\n",
      "rub_per_minute           3214 non-null int64\n",
      "dtypes: float64(5), int64(8), object(2)\n",
      "memory usage: 401.8+ KB\n"
     ]
    }
   ],
   "source": [
    "df.info()"
   ]
  },
  {
   "cell_type": "markdown",
   "id": "5d4aaeb2",
   "metadata": {},
   "source": [
    "В результате объединения таблиц видим, что у нас есть пропуски. Это связано с тем, что у некоторых пользователей нет услуг, которые они бы пользовались Пропуски удалять нельзя, так как потеряем всю необходимую информацию. Оставим их как есть."
   ]
  },
  {
   "cell_type": "markdown",
   "id": "d63ddb35",
   "metadata": {},
   "source": [
    "После того, как объединили всю информацию, посчитаем ежемесячную выручку с каждого пользователя."
   ]
  },
  {
   "cell_type": "code",
   "execution_count": 51,
   "id": "f4bdec42",
   "metadata": {},
   "outputs": [],
   "source": [
    "# создадим функцию для подсчета ежемесячной выручки с каждого пользователя\n",
    "# в качестве параметра будем использовать строку нашей таблицы.\n",
    "# чтобы определить, превышен ли лимит по какому-нибудь параметру будем считать следующим образом:\n",
    "# (сколько потратил - сколько доступно) * стоимость за превышение.\n",
    "def take_total_revenue(row):\n",
    "    calls = (\n",
    "        (row['calls_duration'] - row['minutes_included']) * row['rub_per_minute']\n",
    "    )\n",
    "    internet = (\n",
    "        (row['gb_sum'] - row['gb_per_month_included']) * row['rub_per_gb']\n",
    "    )\n",
    "    messages = (\n",
    "        (row['msg_count'] - row['messages_included']) * row['rub_per_message']\n",
    "    )\n",
    "#формируем построчный список для всех услуг c расчетом сверхлимита в зависимости от тарифа\n",
    "    over_tariff_list = [calls, internet, messages]\n",
    "    over_tarif_total = 0\n",
    "# делаем пробег по каждой позици\n",
    "# если лимит превышен - суммируем к общей сумме сверхлимита\n",
    "    for over_tarif_category in over_tariff_list:\n",
    "        if over_tarif_category > 0:\n",
    "            over_tarif_total += over_tarif_category\n",
    "# считаем итогоыую ежемесячную выручку с учетом сверхлимита:\n",
    "# итог = стоимость тарифа в месяц + сверхлимит\n",
    "    total = over_tarif_total + row['rub_monthly_fee']\n",
    "    return total\n"
   ]
  },
  {
   "cell_type": "code",
   "execution_count": 52,
   "id": "13ab0194",
   "metadata": {},
   "outputs": [],
   "source": [
    "df['total_revenue'] = df.apply(take_total_revenue, axis = 1)"
   ]
  },
  {
   "cell_type": "code",
   "execution_count": 53,
   "id": "45ecaf45",
   "metadata": {},
   "outputs": [
    {
     "data": {
      "text/plain": [
       "0"
      ]
     },
     "execution_count": 53,
     "metadata": {},
     "output_type": "execute_result"
    }
   ],
   "source": [
    "df['total_revenue'].isna().sum()"
   ]
  },
  {
   "cell_type": "code",
   "execution_count": 54,
   "id": "5c09ccd9",
   "metadata": {
    "scrolled": false
   },
   "outputs": [
    {
     "data": {
      "text/html": [
       "<div>\n",
       "<style scoped>\n",
       "    .dataframe tbody tr th:only-of-type {\n",
       "        vertical-align: middle;\n",
       "    }\n",
       "\n",
       "    .dataframe tbody tr th {\n",
       "        vertical-align: top;\n",
       "    }\n",
       "\n",
       "    .dataframe thead th {\n",
       "        text-align: right;\n",
       "    }\n",
       "</style>\n",
       "<table border=\"1\" class=\"dataframe\">\n",
       "  <thead>\n",
       "    <tr style=\"text-align: right;\">\n",
       "      <th></th>\n",
       "      <th>user_id</th>\n",
       "      <th>month</th>\n",
       "      <th>calls_count</th>\n",
       "      <th>calls_duration</th>\n",
       "      <th>msg_count</th>\n",
       "      <th>gb_sum</th>\n",
       "      <th>city</th>\n",
       "      <th>tariff</th>\n",
       "      <th>messages_included</th>\n",
       "      <th>gb_per_month_included</th>\n",
       "      <th>minutes_included</th>\n",
       "      <th>rub_monthly_fee</th>\n",
       "      <th>rub_per_gb</th>\n",
       "      <th>rub_per_message</th>\n",
       "      <th>rub_per_minute</th>\n",
       "      <th>total_revenue</th>\n",
       "    </tr>\n",
       "  </thead>\n",
       "  <tbody>\n",
       "    <tr>\n",
       "      <td>0</td>\n",
       "      <td>1000</td>\n",
       "      <td>5</td>\n",
       "      <td>22.0</td>\n",
       "      <td>159.0</td>\n",
       "      <td>22.0</td>\n",
       "      <td>3.0</td>\n",
       "      <td>Краснодар</td>\n",
       "      <td>ultra</td>\n",
       "      <td>1000</td>\n",
       "      <td>30.0</td>\n",
       "      <td>3000</td>\n",
       "      <td>1950</td>\n",
       "      <td>150</td>\n",
       "      <td>1</td>\n",
       "      <td>1</td>\n",
       "      <td>1950.0</td>\n",
       "    </tr>\n",
       "    <tr>\n",
       "      <td>1</td>\n",
       "      <td>1000</td>\n",
       "      <td>6</td>\n",
       "      <td>43.0</td>\n",
       "      <td>172.0</td>\n",
       "      <td>60.0</td>\n",
       "      <td>23.0</td>\n",
       "      <td>Краснодар</td>\n",
       "      <td>ultra</td>\n",
       "      <td>1000</td>\n",
       "      <td>30.0</td>\n",
       "      <td>3000</td>\n",
       "      <td>1950</td>\n",
       "      <td>150</td>\n",
       "      <td>1</td>\n",
       "      <td>1</td>\n",
       "      <td>1950.0</td>\n",
       "    </tr>\n",
       "    <tr>\n",
       "      <td>2</td>\n",
       "      <td>1000</td>\n",
       "      <td>7</td>\n",
       "      <td>47.0</td>\n",
       "      <td>340.0</td>\n",
       "      <td>75.0</td>\n",
       "      <td>14.0</td>\n",
       "      <td>Краснодар</td>\n",
       "      <td>ultra</td>\n",
       "      <td>1000</td>\n",
       "      <td>30.0</td>\n",
       "      <td>3000</td>\n",
       "      <td>1950</td>\n",
       "      <td>150</td>\n",
       "      <td>1</td>\n",
       "      <td>1</td>\n",
       "      <td>1950.0</td>\n",
       "    </tr>\n",
       "    <tr>\n",
       "      <td>3</td>\n",
       "      <td>1000</td>\n",
       "      <td>8</td>\n",
       "      <td>52.0</td>\n",
       "      <td>408.0</td>\n",
       "      <td>81.0</td>\n",
       "      <td>14.0</td>\n",
       "      <td>Краснодар</td>\n",
       "      <td>ultra</td>\n",
       "      <td>1000</td>\n",
       "      <td>30.0</td>\n",
       "      <td>3000</td>\n",
       "      <td>1950</td>\n",
       "      <td>150</td>\n",
       "      <td>1</td>\n",
       "      <td>1</td>\n",
       "      <td>1950.0</td>\n",
       "    </tr>\n",
       "    <tr>\n",
       "      <td>4</td>\n",
       "      <td>1000</td>\n",
       "      <td>9</td>\n",
       "      <td>58.0</td>\n",
       "      <td>466.0</td>\n",
       "      <td>57.0</td>\n",
       "      <td>15.0</td>\n",
       "      <td>Краснодар</td>\n",
       "      <td>ultra</td>\n",
       "      <td>1000</td>\n",
       "      <td>30.0</td>\n",
       "      <td>3000</td>\n",
       "      <td>1950</td>\n",
       "      <td>150</td>\n",
       "      <td>1</td>\n",
       "      <td>1</td>\n",
       "      <td>1950.0</td>\n",
       "    </tr>\n",
       "    <tr>\n",
       "      <td>5</td>\n",
       "      <td>1000</td>\n",
       "      <td>10</td>\n",
       "      <td>57.0</td>\n",
       "      <td>350.0</td>\n",
       "      <td>73.0</td>\n",
       "      <td>15.0</td>\n",
       "      <td>Краснодар</td>\n",
       "      <td>ultra</td>\n",
       "      <td>1000</td>\n",
       "      <td>30.0</td>\n",
       "      <td>3000</td>\n",
       "      <td>1950</td>\n",
       "      <td>150</td>\n",
       "      <td>1</td>\n",
       "      <td>1</td>\n",
       "      <td>1950.0</td>\n",
       "    </tr>\n",
       "    <tr>\n",
       "      <td>6</td>\n",
       "      <td>1000</td>\n",
       "      <td>11</td>\n",
       "      <td>43.0</td>\n",
       "      <td>338.0</td>\n",
       "      <td>58.0</td>\n",
       "      <td>15.0</td>\n",
       "      <td>Краснодар</td>\n",
       "      <td>ultra</td>\n",
       "      <td>1000</td>\n",
       "      <td>30.0</td>\n",
       "      <td>3000</td>\n",
       "      <td>1950</td>\n",
       "      <td>150</td>\n",
       "      <td>1</td>\n",
       "      <td>1</td>\n",
       "      <td>1950.0</td>\n",
       "    </tr>\n",
       "    <tr>\n",
       "      <td>7</td>\n",
       "      <td>1000</td>\n",
       "      <td>12</td>\n",
       "      <td>46.0</td>\n",
       "      <td>333.0</td>\n",
       "      <td>70.0</td>\n",
       "      <td>10.0</td>\n",
       "      <td>Краснодар</td>\n",
       "      <td>ultra</td>\n",
       "      <td>1000</td>\n",
       "      <td>30.0</td>\n",
       "      <td>3000</td>\n",
       "      <td>1950</td>\n",
       "      <td>150</td>\n",
       "      <td>1</td>\n",
       "      <td>1</td>\n",
       "      <td>1950.0</td>\n",
       "    </tr>\n",
       "    <tr>\n",
       "      <td>8</td>\n",
       "      <td>1001</td>\n",
       "      <td>11</td>\n",
       "      <td>59.0</td>\n",
       "      <td>430.0</td>\n",
       "      <td>NaN</td>\n",
       "      <td>18.0</td>\n",
       "      <td>Москва</td>\n",
       "      <td>smart</td>\n",
       "      <td>50</td>\n",
       "      <td>15.0</td>\n",
       "      <td>500</td>\n",
       "      <td>550</td>\n",
       "      <td>200</td>\n",
       "      <td>3</td>\n",
       "      <td>3</td>\n",
       "      <td>1150.0</td>\n",
       "    </tr>\n",
       "    <tr>\n",
       "      <td>9</td>\n",
       "      <td>1001</td>\n",
       "      <td>12</td>\n",
       "      <td>63.0</td>\n",
       "      <td>414.0</td>\n",
       "      <td>NaN</td>\n",
       "      <td>14.0</td>\n",
       "      <td>Москва</td>\n",
       "      <td>smart</td>\n",
       "      <td>50</td>\n",
       "      <td>15.0</td>\n",
       "      <td>500</td>\n",
       "      <td>550</td>\n",
       "      <td>200</td>\n",
       "      <td>3</td>\n",
       "      <td>3</td>\n",
       "      <td>550.0</td>\n",
       "    </tr>\n",
       "  </tbody>\n",
       "</table>\n",
       "</div>"
      ],
      "text/plain": [
       "   user_id  month  calls_count  calls_duration  msg_count  gb_sum       city  \\\n",
       "0     1000      5         22.0           159.0       22.0     3.0  Краснодар   \n",
       "1     1000      6         43.0           172.0       60.0    23.0  Краснодар   \n",
       "2     1000      7         47.0           340.0       75.0    14.0  Краснодар   \n",
       "3     1000      8         52.0           408.0       81.0    14.0  Краснодар   \n",
       "4     1000      9         58.0           466.0       57.0    15.0  Краснодар   \n",
       "5     1000     10         57.0           350.0       73.0    15.0  Краснодар   \n",
       "6     1000     11         43.0           338.0       58.0    15.0  Краснодар   \n",
       "7     1000     12         46.0           333.0       70.0    10.0  Краснодар   \n",
       "8     1001     11         59.0           430.0        NaN    18.0     Москва   \n",
       "9     1001     12         63.0           414.0        NaN    14.0     Москва   \n",
       "\n",
       "  tariff  messages_included  gb_per_month_included  minutes_included  \\\n",
       "0  ultra               1000                   30.0              3000   \n",
       "1  ultra               1000                   30.0              3000   \n",
       "2  ultra               1000                   30.0              3000   \n",
       "3  ultra               1000                   30.0              3000   \n",
       "4  ultra               1000                   30.0              3000   \n",
       "5  ultra               1000                   30.0              3000   \n",
       "6  ultra               1000                   30.0              3000   \n",
       "7  ultra               1000                   30.0              3000   \n",
       "8  smart                 50                   15.0               500   \n",
       "9  smart                 50                   15.0               500   \n",
       "\n",
       "   rub_monthly_fee  rub_per_gb  rub_per_message  rub_per_minute  total_revenue  \n",
       "0             1950         150                1               1         1950.0  \n",
       "1             1950         150                1               1         1950.0  \n",
       "2             1950         150                1               1         1950.0  \n",
       "3             1950         150                1               1         1950.0  \n",
       "4             1950         150                1               1         1950.0  \n",
       "5             1950         150                1               1         1950.0  \n",
       "6             1950         150                1               1         1950.0  \n",
       "7             1950         150                1               1         1950.0  \n",
       "8              550         200                3               3         1150.0  \n",
       "9              550         200                3               3          550.0  "
      ]
     },
     "execution_count": 54,
     "metadata": {},
     "output_type": "execute_result"
    }
   ],
   "source": [
    "df.head(10)"
   ]
  },
  {
   "cell_type": "markdown",
   "id": "a7cf0cb1",
   "metadata": {},
   "source": [
    "Получили для каждого пользователя ежемесячную выручку."
   ]
  },
  {
   "cell_type": "markdown",
   "id": "a989671b",
   "metadata": {},
   "source": [
    "### Вывод\n",
    "В процессе подготовки данных посчитали:\n",
    "- количество сделанных звонков и израсходованных минут разговора по месяцам;\n",
    "- количество отправленных сообщений по месяцам;\n",
    "- объем израсходованного интернет-трафика по месяцам;\n",
    "- помесячную выручку с каждого пользователя (вычтите бесплатный лимит из суммарного количества звонков, сообщений и интернет-трафика; остаток умножьте на значение из тарифного плана; прибавьте абонентскую плату, соответствующую тарифному плану).\n",
    "\n",
    "А также создали общую таблицу, сгруппирированную по пользователю и по месяцу использования тарифа. \n",
    "\n",
    "Теперь перейдем к исследованию нашей выборки."
   ]
  },
  {
   "cell_type": "markdown",
   "id": "b631fc57",
   "metadata": {},
   "source": [
    "## Исследовательская часть <a id=\"3\"></a>"
   ]
  },
  {
   "cell_type": "markdown",
   "id": "c92ae1db",
   "metadata": {},
   "source": [
    "Прежде всего, сделаем выборку из нашей объединенной таблицы: выберем несколько столбцов, которые понадобятся в нашем исследовании."
   ]
  },
  {
   "cell_type": "code",
   "execution_count": 55,
   "id": "8d036758",
   "metadata": {
    "scrolled": true
   },
   "outputs": [
    {
     "data": {
      "text/html": [
       "<div>\n",
       "<style scoped>\n",
       "    .dataframe tbody tr th:only-of-type {\n",
       "        vertical-align: middle;\n",
       "    }\n",
       "\n",
       "    .dataframe tbody tr th {\n",
       "        vertical-align: top;\n",
       "    }\n",
       "\n",
       "    .dataframe thead th {\n",
       "        text-align: right;\n",
       "    }\n",
       "</style>\n",
       "<table border=\"1\" class=\"dataframe\">\n",
       "  <thead>\n",
       "    <tr style=\"text-align: right;\">\n",
       "      <th></th>\n",
       "      <th>user_id</th>\n",
       "      <th>month</th>\n",
       "      <th>calls_count</th>\n",
       "      <th>calls_duration</th>\n",
       "      <th>msg_count</th>\n",
       "      <th>gb_sum</th>\n",
       "      <th>city</th>\n",
       "      <th>tariff</th>\n",
       "      <th>total_revenue</th>\n",
       "      <th>rub_monthly_fee</th>\n",
       "    </tr>\n",
       "  </thead>\n",
       "  <tbody>\n",
       "    <tr>\n",
       "      <td>0</td>\n",
       "      <td>1000</td>\n",
       "      <td>5</td>\n",
       "      <td>22.0</td>\n",
       "      <td>159.0</td>\n",
       "      <td>22.0</td>\n",
       "      <td>3.0</td>\n",
       "      <td>Краснодар</td>\n",
       "      <td>ultra</td>\n",
       "      <td>1950.0</td>\n",
       "      <td>1950</td>\n",
       "    </tr>\n",
       "    <tr>\n",
       "      <td>1</td>\n",
       "      <td>1000</td>\n",
       "      <td>6</td>\n",
       "      <td>43.0</td>\n",
       "      <td>172.0</td>\n",
       "      <td>60.0</td>\n",
       "      <td>23.0</td>\n",
       "      <td>Краснодар</td>\n",
       "      <td>ultra</td>\n",
       "      <td>1950.0</td>\n",
       "      <td>1950</td>\n",
       "    </tr>\n",
       "    <tr>\n",
       "      <td>2</td>\n",
       "      <td>1000</td>\n",
       "      <td>7</td>\n",
       "      <td>47.0</td>\n",
       "      <td>340.0</td>\n",
       "      <td>75.0</td>\n",
       "      <td>14.0</td>\n",
       "      <td>Краснодар</td>\n",
       "      <td>ultra</td>\n",
       "      <td>1950.0</td>\n",
       "      <td>1950</td>\n",
       "    </tr>\n",
       "    <tr>\n",
       "      <td>3</td>\n",
       "      <td>1000</td>\n",
       "      <td>8</td>\n",
       "      <td>52.0</td>\n",
       "      <td>408.0</td>\n",
       "      <td>81.0</td>\n",
       "      <td>14.0</td>\n",
       "      <td>Краснодар</td>\n",
       "      <td>ultra</td>\n",
       "      <td>1950.0</td>\n",
       "      <td>1950</td>\n",
       "    </tr>\n",
       "    <tr>\n",
       "      <td>4</td>\n",
       "      <td>1000</td>\n",
       "      <td>9</td>\n",
       "      <td>58.0</td>\n",
       "      <td>466.0</td>\n",
       "      <td>57.0</td>\n",
       "      <td>15.0</td>\n",
       "      <td>Краснодар</td>\n",
       "      <td>ultra</td>\n",
       "      <td>1950.0</td>\n",
       "      <td>1950</td>\n",
       "    </tr>\n",
       "  </tbody>\n",
       "</table>\n",
       "</div>"
      ],
      "text/plain": [
       "   user_id  month  calls_count  calls_duration  msg_count  gb_sum       city  \\\n",
       "0     1000      5         22.0           159.0       22.0     3.0  Краснодар   \n",
       "1     1000      6         43.0           172.0       60.0    23.0  Краснодар   \n",
       "2     1000      7         47.0           340.0       75.0    14.0  Краснодар   \n",
       "3     1000      8         52.0           408.0       81.0    14.0  Краснодар   \n",
       "4     1000      9         58.0           466.0       57.0    15.0  Краснодар   \n",
       "\n",
       "  tariff  total_revenue  rub_monthly_fee  \n",
       "0  ultra         1950.0             1950  \n",
       "1  ultra         1950.0             1950  \n",
       "2  ultra         1950.0             1950  \n",
       "3  ultra         1950.0             1950  \n",
       "4  ultra         1950.0             1950  "
      ]
     },
     "execution_count": 55,
     "metadata": {},
     "output_type": "execute_result"
    }
   ],
   "source": [
    "df = df[['user_id', \n",
    "         'month', \n",
    "         'calls_count', \n",
    "         'calls_duration', \n",
    "         'msg_count', \n",
    "         'gb_sum',\n",
    "        'city',\n",
    "        'tariff',\n",
    "        'total_revenue',\n",
    "        'rub_monthly_fee']]\n",
    "df.head()"
   ]
  },
  {
   "cell_type": "markdown",
   "id": "2a4c2154",
   "metadata": {},
   "source": [
    "Так как у нас задача состоит в сравнении двух тарифов, то у нас есть две группы данных, которые стоит рассмотреть:\n",
    "- **первая группа**: пользователи с тарифом \"Ультра\"\n",
    "- **вторая группа**: пользователи с тарифом \"Смарт\""
   ]
  },
  {
   "cell_type": "markdown",
   "id": "de59c608",
   "metadata": {},
   "source": [
    "Посмотрим численную информацию по каждому тарифу по признаку \"ежемесячная выручка\"."
   ]
  },
  {
   "cell_type": "code",
   "execution_count": 56,
   "id": "9f92c287",
   "metadata": {
    "scrolled": true
   },
   "outputs": [
    {
     "data": {
      "text/html": [
       "<div>\n",
       "<style scoped>\n",
       "    .dataframe tbody tr th:only-of-type {\n",
       "        vertical-align: middle;\n",
       "    }\n",
       "\n",
       "    .dataframe tbody tr th {\n",
       "        vertical-align: top;\n",
       "    }\n",
       "\n",
       "    .dataframe thead th {\n",
       "        text-align: right;\n",
       "    }\n",
       "</style>\n",
       "<table border=\"1\" class=\"dataframe\">\n",
       "  <thead>\n",
       "    <tr style=\"text-align: right;\">\n",
       "      <th></th>\n",
       "      <th>count</th>\n",
       "      <th>mean</th>\n",
       "      <th>std</th>\n",
       "      <th>min</th>\n",
       "      <th>25%</th>\n",
       "      <th>50%</th>\n",
       "      <th>75%</th>\n",
       "      <th>max</th>\n",
       "    </tr>\n",
       "    <tr>\n",
       "      <th>tariff</th>\n",
       "      <th></th>\n",
       "      <th></th>\n",
       "      <th></th>\n",
       "      <th></th>\n",
       "      <th></th>\n",
       "      <th></th>\n",
       "      <th></th>\n",
       "      <th></th>\n",
       "    </tr>\n",
       "  </thead>\n",
       "  <tbody>\n",
       "    <tr>\n",
       "      <td>smart</td>\n",
       "      <td>2229.0</td>\n",
       "      <td>1289.973531</td>\n",
       "      <td>818.404367</td>\n",
       "      <td>550.0</td>\n",
       "      <td>550.0</td>\n",
       "      <td>1023.0</td>\n",
       "      <td>1750.0</td>\n",
       "      <td>6770.0</td>\n",
       "    </tr>\n",
       "    <tr>\n",
       "      <td>ultra</td>\n",
       "      <td>985.0</td>\n",
       "      <td>2070.152284</td>\n",
       "      <td>376.187114</td>\n",
       "      <td>1950.0</td>\n",
       "      <td>1950.0</td>\n",
       "      <td>1950.0</td>\n",
       "      <td>1950.0</td>\n",
       "      <td>4800.0</td>\n",
       "    </tr>\n",
       "  </tbody>\n",
       "</table>\n",
       "</div>"
      ],
      "text/plain": [
       "         count         mean         std     min     25%     50%     75%  \\\n",
       "tariff                                                                    \n",
       "smart   2229.0  1289.973531  818.404367   550.0   550.0  1023.0  1750.0   \n",
       "ultra    985.0  2070.152284  376.187114  1950.0  1950.0  1950.0  1950.0   \n",
       "\n",
       "           max  \n",
       "tariff          \n",
       "smart   6770.0  \n",
       "ultra   4800.0  "
      ]
     },
     "execution_count": 56,
     "metadata": {},
     "output_type": "execute_result"
    }
   ],
   "source": [
    "df.groupby('tariff')['total_revenue'].describe()"
   ]
  },
  {
   "cell_type": "markdown",
   "id": "615ad57b",
   "metadata": {},
   "source": [
    "### Вывод"
   ]
  },
  {
   "cell_type": "markdown",
   "id": "2110d9bc",
   "metadata": {},
   "source": [
    "Количество пользователей:\n",
    "**Смарт** - 2229 клиентов;\n",
    "**Ультра** - 985 клиентов.\n",
    "\n",
    "На основе этой таблицы следующее:\n",
    "- пользователи тарифа \"Смарт\" переплачивают за услуги больше, чем клиентов тарифа \"Ультра\". Таким образом, можно сказать, что пользователям тарифа \"Смарт\" не хватает пакетов минут, сообщений и гигабайт, включенных в тариф и клиенты переплачивают за превышение лимита. При этом видим, что у нас есть пользователь тарифа, который заплатил за месяц 6770 рублей;\n",
    "- стандартное отклонение ежемесячной выручки между тарифами отличается. Видно, что разброс показателя для тарифа ультра по сравнению с тарифом смарт. Это говорит нам о том, что пользователям данного тарифа пакета услуг хватает. Однако видим, что есть пользователь, ежемесячная выручка с котрого составила 4800 рублей;\n",
    "- По среднему значению можно сказать, что пользователи тарифа \"Ультра\" платят больше, чем клиенты \"Смарт\"."
   ]
  },
  {
   "cell_type": "code",
   "execution_count": 57,
   "id": "bdbbf389",
   "metadata": {},
   "outputs": [
    {
     "name": "stderr",
     "output_type": "stream",
     "text": [
      "/opt/conda/lib/python3.7/site-packages/numpy/core/_asarray.py:83: VisibleDeprecationWarning: Creating an ndarray from ragged nested sequences (which is a list-or-tuple of lists-or-tuples-or ndarrays with different lengths or shapes) is deprecated. If you meant to do this, you must specify 'dtype=object' when creating the ndarray\n",
      "  return array(a, dtype, copy=False, order=order)\n"
     ]
    },
    {
     "data": {
      "text/plain": [
       "(0, 7000)"
      ]
     },
     "execution_count": 57,
     "metadata": {},
     "output_type": "execute_result"
    },
    {
     "data": {
      "image/png": "[encoded data removed]",
      "text/plain": [
       "<Figure size 1080x576 with 1 Axes>"
      ]
     },
     "metadata": {
      "needs_background": "light"
     },
     "output_type": "display_data"
    }
   ],
   "source": [
    "df.boxplot('total_revenue', by = 'tariff', figsize = (15,8)).set_ylim(0, 7000)"
   ]
  },
  {
   "cell_type": "markdown",
   "id": "14d2b087",
   "metadata": {},
   "source": [
    "По этой диаграмме видим, что для тарифа \"Смарт\" наблюдается положительное смещение. При этом видим, что большинство пользователей тарифа \"Ультра\" платят 1950 рублей в месяц, что говорит нам о том, что пользователям \"Смарт\" пакета услуг не хватает, а вот пользователям \"Ультра\" наоборот."
   ]
  },
  {
   "cell_type": "markdown",
   "id": "9744f890",
   "metadata": {},
   "source": [
    "Теперь посмотрим на остальные показатели: сколько минут разговора, сколько сообщений, какой объем трафика требуется каждому пользователю тарифа в месяц. Для этого сделаем отдельную выборку по кажому из тарифов."
   ]
  },
  {
   "cell_type": "code",
   "execution_count": 58,
   "id": "b9c16e17",
   "metadata": {},
   "outputs": [],
   "source": [
    "ultra = df.query('tariff == \"ultra\"')\n",
    "smart = df.query('tariff == \"smart\"')"
   ]
  },
  {
   "cell_type": "markdown",
   "id": "a1220362",
   "metadata": {},
   "source": [
    "### Сколько минут разговора <a id=\"3_1\"></a>"
   ]
  },
  {
   "cell_type": "code",
   "execution_count": 59,
   "id": "4a290538",
   "metadata": {
    "scrolled": false
   },
   "outputs": [
    {
     "data": {
      "text/plain": [
       "Text(0.5, 0, 'Минуты')"
      ]
     },
     "execution_count": 59,
     "metadata": {},
     "output_type": "execute_result"
    },
    {
     "data": {
      "image/png": "[encoded data removed]",
      "text/plain": [
       "<Figure size 1080x576 with 1 Axes>"
      ]
     },
     "metadata": {
      "needs_background": "light"
     },
     "output_type": "display_data"
    }
   ],
   "source": [
    "ax = ultra.plot(y = 'calls_duration',\n",
    "                bins = 12,\n",
    "                kind = 'hist', \n",
    "                alpha = .7, \n",
    "                legend = True, \n",
    "                label = 'Ультра', \n",
    "                grid = True, \n",
    "               figsize = (15,8),\n",
    "               fontsize = 15)\n",
    "smart.plot(y = 'calls_duration', \n",
    "           bins = 12,\n",
    "           kind = 'hist', \n",
    "           alpha = .5,  \n",
    "           ax = ax,\n",
    "           label = 'Смарт',\n",
    "           grid = True)\n",
    "ax.set_title('Количество минут в месяц, мин', fontsize=20)\n",
    "ax.set_xlabel('Минуты', fontsize=16)"
   ]
  },
  {
   "cell_type": "code",
   "execution_count": 60,
   "id": "a1d80f00",
   "metadata": {},
   "outputs": [
    {
     "data": {
      "text/html": [
       "<div>\n",
       "<style scoped>\n",
       "    .dataframe tbody tr th:only-of-type {\n",
       "        vertical-align: middle;\n",
       "    }\n",
       "\n",
       "    .dataframe tbody tr th {\n",
       "        vertical-align: top;\n",
       "    }\n",
       "\n",
       "    .dataframe thead th {\n",
       "        text-align: right;\n",
       "    }\n",
       "</style>\n",
       "<table border=\"1\" class=\"dataframe\">\n",
       "  <thead>\n",
       "    <tr style=\"text-align: right;\">\n",
       "      <th></th>\n",
       "      <th>count</th>\n",
       "      <th>mean</th>\n",
       "      <th>std</th>\n",
       "      <th>min</th>\n",
       "      <th>25%</th>\n",
       "      <th>50%</th>\n",
       "      <th>75%</th>\n",
       "      <th>max</th>\n",
       "    </tr>\n",
       "    <tr>\n",
       "      <th>tariff</th>\n",
       "      <th></th>\n",
       "      <th></th>\n",
       "      <th></th>\n",
       "      <th></th>\n",
       "      <th></th>\n",
       "      <th></th>\n",
       "      <th></th>\n",
       "      <th></th>\n",
       "    </tr>\n",
       "  </thead>\n",
       "  <tbody>\n",
       "    <tr>\n",
       "      <td>smart</td>\n",
       "      <td>2223.0</td>\n",
       "      <td>419.062978</td>\n",
       "      <td>189.325618</td>\n",
       "      <td>0.0</td>\n",
       "      <td>285.0</td>\n",
       "      <td>423.0</td>\n",
       "      <td>545.5</td>\n",
       "      <td>1435.0</td>\n",
       "    </tr>\n",
       "    <tr>\n",
       "      <td>ultra</td>\n",
       "      <td>951.0</td>\n",
       "      <td>545.451104</td>\n",
       "      <td>306.925754</td>\n",
       "      <td>0.0</td>\n",
       "      <td>310.0</td>\n",
       "      <td>528.0</td>\n",
       "      <td>756.5</td>\n",
       "      <td>1673.0</td>\n",
       "    </tr>\n",
       "  </tbody>\n",
       "</table>\n",
       "</div>"
      ],
      "text/plain": [
       "         count        mean         std  min    25%    50%    75%     max\n",
       "tariff                                                                  \n",
       "smart   2223.0  419.062978  189.325618  0.0  285.0  423.0  545.5  1435.0\n",
       "ultra    951.0  545.451104  306.925754  0.0  310.0  528.0  756.5  1673.0"
      ]
     },
     "execution_count": 60,
     "metadata": {},
     "output_type": "execute_result"
    }
   ],
   "source": [
    "df.groupby('tariff')['calls_duration'].describe()"
   ]
  },
  {
   "cell_type": "code",
   "execution_count": 61,
   "id": "e2cef79a",
   "metadata": {},
   "outputs": [],
   "source": [
    "def disp(df : pd.DataFrame, column : str):\n",
    "    df_info = df.pivot_table(index = 'tariff', values = column, aggfunc = ['count', 'mean', 'median','var', 'std','min','max'])\n",
    "    df_info.columns = ['Количество', 'Среднее', 'Медиана','Дисперсия', 'Ст. Отклонение', 'Минимум','Максимум']\n",
    "    return df_info"
   ]
  },
  {
   "cell_type": "code",
   "execution_count": 62,
   "id": "4fac432a",
   "metadata": {},
   "outputs": [
    {
     "data": {
      "text/html": [
       "<div>\n",
       "<style scoped>\n",
       "    .dataframe tbody tr th:only-of-type {\n",
       "        vertical-align: middle;\n",
       "    }\n",
       "\n",
       "    .dataframe tbody tr th {\n",
       "        vertical-align: top;\n",
       "    }\n",
       "\n",
       "    .dataframe thead th {\n",
       "        text-align: right;\n",
       "    }\n",
       "</style>\n",
       "<table border=\"1\" class=\"dataframe\">\n",
       "  <thead>\n",
       "    <tr style=\"text-align: right;\">\n",
       "      <th></th>\n",
       "      <th>Количество</th>\n",
       "      <th>Среднее</th>\n",
       "      <th>Медиана</th>\n",
       "      <th>Дисперсия</th>\n",
       "      <th>Ст. Отклонение</th>\n",
       "      <th>Минимум</th>\n",
       "      <th>Максимум</th>\n",
       "    </tr>\n",
       "    <tr>\n",
       "      <th>tariff</th>\n",
       "      <th></th>\n",
       "      <th></th>\n",
       "      <th></th>\n",
       "      <th></th>\n",
       "      <th></th>\n",
       "      <th></th>\n",
       "      <th></th>\n",
       "    </tr>\n",
       "  </thead>\n",
       "  <tbody>\n",
       "    <tr>\n",
       "      <td>smart</td>\n",
       "      <td>2223</td>\n",
       "      <td>419.062978</td>\n",
       "      <td>423.0</td>\n",
       "      <td>35844.189551</td>\n",
       "      <td>189.325618</td>\n",
       "      <td>0.0</td>\n",
       "      <td>1435.0</td>\n",
       "    </tr>\n",
       "    <tr>\n",
       "      <td>ultra</td>\n",
       "      <td>951</td>\n",
       "      <td>545.451104</td>\n",
       "      <td>528.0</td>\n",
       "      <td>94203.418396</td>\n",
       "      <td>306.925754</td>\n",
       "      <td>0.0</td>\n",
       "      <td>1673.0</td>\n",
       "    </tr>\n",
       "  </tbody>\n",
       "</table>\n",
       "</div>"
      ],
      "text/plain": [
       "        Количество     Среднее  Медиана     Дисперсия  Ст. Отклонение  \\\n",
       "tariff                                                                  \n",
       "smart         2223  419.062978    423.0  35844.189551      189.325618   \n",
       "ultra          951  545.451104    528.0  94203.418396      306.925754   \n",
       "\n",
       "        Минимум  Максимум  \n",
       "tariff                     \n",
       "smart       0.0    1435.0  \n",
       "ultra       0.0    1673.0  "
      ]
     },
     "execution_count": 62,
     "metadata": {},
     "output_type": "execute_result"
    }
   ],
   "source": [
    "disp(df, 'calls_duration')"
   ]
  },
  {
   "cell_type": "markdown",
   "id": "93426ae3",
   "metadata": {},
   "source": [
    "### Вывод"
   ]
  },
  {
   "cell_type": "markdown",
   "id": "96e11071",
   "metadata": {},
   "source": [
    "Видим, что оба тарифа по призаку (количество минут в месяц) имеют положительную скошенность. При этом:\n",
    "- средняя продолжительность звонка в месяц для тарифа \"Смарт\" составляет 420 минут; \n",
    "- средняя продолжительность звонка в месяц для тарифа \"Ультра\" составляет 545 минут;\n",
    "- стандартное отклоение по продолжительности звонков у тарифа \"Ультра\" больше, чем у тарифа \"Смарт\"\n",
    "- пользователи тарифа \"Ультра\" по продолжительности звонков в месяц больше общаются, чем клиенты с тарифом \"Смарт\""
   ]
  },
  {
   "cell_type": "markdown",
   "id": "29447a15",
   "metadata": {},
   "source": [
    "### Сколько сообщений <a id=\"3_2\"></a>"
   ]
  },
  {
   "cell_type": "code",
   "execution_count": 63,
   "id": "d218ef95",
   "metadata": {},
   "outputs": [
    {
     "data": {
      "text/plain": [
       "Text(0.5, 0, 'Количесвтво сообщений')"
      ]
     },
     "execution_count": 63,
     "metadata": {},
     "output_type": "execute_result"
    },
    {
     "data": {
      "image/png": "[encoded data removed]",
      "text/plain": [
       "<Figure size 1080x576 with 1 Axes>"
      ]
     },
     "metadata": {
      "needs_background": "light"
     },
     "output_type": "display_data"
    }
   ],
   "source": [
    "ax = ultra.plot(y = 'msg_count',\n",
    "                bins = 12,\n",
    "                kind = 'hist', \n",
    "                alpha = .7, \n",
    "                legend = True, \n",
    "                label = 'Ультра', \n",
    "                grid = True, \n",
    "               figsize = (15,8),\n",
    "               fontsize = 15)\n",
    "smart.plot(y = 'msg_count', \n",
    "           bins = 12,\n",
    "           kind = 'hist', \n",
    "           alpha = .5,  \n",
    "           ax = ax,\n",
    "           label = 'Смарт',\n",
    "           grid = True)\n",
    "ax.set_title('Количество сообщений в месяц', fontsize=20)\n",
    "ax.set_xlabel('Количесвтво сообщений', fontsize=16)"
   ]
  },
  {
   "cell_type": "code",
   "execution_count": 64,
   "id": "517e2e41",
   "metadata": {
    "scrolled": true
   },
   "outputs": [
    {
     "data": {
      "text/html": [
       "<div>\n",
       "<style scoped>\n",
       "    .dataframe tbody tr th:only-of-type {\n",
       "        vertical-align: middle;\n",
       "    }\n",
       "\n",
       "    .dataframe tbody tr th {\n",
       "        vertical-align: top;\n",
       "    }\n",
       "\n",
       "    .dataframe thead th {\n",
       "        text-align: right;\n",
       "    }\n",
       "</style>\n",
       "<table border=\"1\" class=\"dataframe\">\n",
       "  <thead>\n",
       "    <tr style=\"text-align: right;\">\n",
       "      <th></th>\n",
       "      <th>count</th>\n",
       "      <th>mean</th>\n",
       "      <th>std</th>\n",
       "      <th>min</th>\n",
       "      <th>25%</th>\n",
       "      <th>50%</th>\n",
       "      <th>75%</th>\n",
       "      <th>max</th>\n",
       "    </tr>\n",
       "    <tr>\n",
       "      <th>tariff</th>\n",
       "      <th></th>\n",
       "      <th></th>\n",
       "      <th></th>\n",
       "      <th></th>\n",
       "      <th></th>\n",
       "      <th></th>\n",
       "      <th></th>\n",
       "      <th></th>\n",
       "    </tr>\n",
       "  </thead>\n",
       "  <tbody>\n",
       "    <tr>\n",
       "      <td>smart</td>\n",
       "      <td>1922.0</td>\n",
       "      <td>38.716441</td>\n",
       "      <td>26.787949</td>\n",
       "      <td>1.0</td>\n",
       "      <td>17.0</td>\n",
       "      <td>34.0</td>\n",
       "      <td>55.0</td>\n",
       "      <td>143.0</td>\n",
       "    </tr>\n",
       "    <tr>\n",
       "      <td>ultra</td>\n",
       "      <td>795.0</td>\n",
       "      <td>61.161006</td>\n",
       "      <td>45.931026</td>\n",
       "      <td>1.0</td>\n",
       "      <td>24.0</td>\n",
       "      <td>51.0</td>\n",
       "      <td>87.5</td>\n",
       "      <td>224.0</td>\n",
       "    </tr>\n",
       "  </tbody>\n",
       "</table>\n",
       "</div>"
      ],
      "text/plain": [
       "         count       mean        std  min   25%   50%   75%    max\n",
       "tariff                                                            \n",
       "smart   1922.0  38.716441  26.787949  1.0  17.0  34.0  55.0  143.0\n",
       "ultra    795.0  61.161006  45.931026  1.0  24.0  51.0  87.5  224.0"
      ]
     },
     "execution_count": 64,
     "metadata": {},
     "output_type": "execute_result"
    }
   ],
   "source": [
    "df.groupby('tariff')['msg_count'].describe()"
   ]
  },
  {
   "cell_type": "markdown",
   "id": "ab8d6304",
   "metadata": {},
   "source": [
    "<div class=\"alert alert-info\"> <b>Комментарий студента:</b> Добавил дисперсию</div>"
   ]
  },
  {
   "cell_type": "code",
   "execution_count": 65,
   "id": "c27e567b",
   "metadata": {},
   "outputs": [
    {
     "data": {
      "text/html": [
       "<div>\n",
       "<style scoped>\n",
       "    .dataframe tbody tr th:only-of-type {\n",
       "        vertical-align: middle;\n",
       "    }\n",
       "\n",
       "    .dataframe tbody tr th {\n",
       "        vertical-align: top;\n",
       "    }\n",
       "\n",
       "    .dataframe thead th {\n",
       "        text-align: right;\n",
       "    }\n",
       "</style>\n",
       "<table border=\"1\" class=\"dataframe\">\n",
       "  <thead>\n",
       "    <tr style=\"text-align: right;\">\n",
       "      <th></th>\n",
       "      <th>Количество</th>\n",
       "      <th>Среднее</th>\n",
       "      <th>Медиана</th>\n",
       "      <th>Дисперсия</th>\n",
       "      <th>Ст. Отклонение</th>\n",
       "      <th>Минимум</th>\n",
       "      <th>Максимум</th>\n",
       "    </tr>\n",
       "    <tr>\n",
       "      <th>tariff</th>\n",
       "      <th></th>\n",
       "      <th></th>\n",
       "      <th></th>\n",
       "      <th></th>\n",
       "      <th></th>\n",
       "      <th></th>\n",
       "      <th></th>\n",
       "    </tr>\n",
       "  </thead>\n",
       "  <tbody>\n",
       "    <tr>\n",
       "      <td>smart</td>\n",
       "      <td>1922</td>\n",
       "      <td>38.716441</td>\n",
       "      <td>34.0</td>\n",
       "      <td>717.594201</td>\n",
       "      <td>26.787949</td>\n",
       "      <td>1.0</td>\n",
       "      <td>143.0</td>\n",
       "    </tr>\n",
       "    <tr>\n",
       "      <td>ultra</td>\n",
       "      <td>795</td>\n",
       "      <td>61.161006</td>\n",
       "      <td>51.0</td>\n",
       "      <td>2109.659183</td>\n",
       "      <td>45.931026</td>\n",
       "      <td>1.0</td>\n",
       "      <td>224.0</td>\n",
       "    </tr>\n",
       "  </tbody>\n",
       "</table>\n",
       "</div>"
      ],
      "text/plain": [
       "        Количество    Среднее  Медиана    Дисперсия  Ст. Отклонение  Минимум  \\\n",
       "tariff                                                                         \n",
       "smart         1922  38.716441     34.0   717.594201       26.787949      1.0   \n",
       "ultra          795  61.161006     51.0  2109.659183       45.931026      1.0   \n",
       "\n",
       "        Максимум  \n",
       "tariff            \n",
       "smart      143.0  \n",
       "ultra      224.0  "
      ]
     },
     "execution_count": 65,
     "metadata": {},
     "output_type": "execute_result"
    }
   ],
   "source": [
    "disp(df, 'msg_count')"
   ]
  },
  {
   "cell_type": "code",
   "execution_count": 66,
   "id": "af3d314b",
   "metadata": {},
   "outputs": [],
   "source": [
    "def draw_hist(df1 : pd.DataFrame, df2 : pd.DataFrame, column : str, title : str):\n",
    "    ax = df1.plot(y = column,\n",
    "                bins = 12,\n",
    "                kind = 'hist', \n",
    "                alpha = .7, \n",
    "                legend = True, \n",
    "                label = 'Ультра', \n",
    "                grid = True, \n",
    "               figsize = (15,8),\n",
    "               fontsize = 15)\n",
    "    df2.plot(y = column, \n",
    "               bins = 12,\n",
    "               kind = 'hist', \n",
    "               alpha = .5,  \n",
    "               ax = ax,\n",
    "               label = 'Смарт',\n",
    "               grid = True)\n",
    "    ax.set_title(title + ' в месяц', fontsize=20)\n",
    "    ax.set_xlabel(title, fontsize=16)"
   ]
  },
  {
   "cell_type": "code",
   "execution_count": 67,
   "id": "976daff0",
   "metadata": {
    "scrolled": false
   },
   "outputs": [
    {
     "data": {
      "image/png": "[encoded data removed]",
      "text/plain": [
       "<Figure size 1080x576 with 1 Axes>"
      ]
     },
     "metadata": {
      "needs_background": "light"
     },
     "output_type": "display_data"
    }
   ],
   "source": [
    "draw_hist(ultra, smart, 'msg_count', 'Количество сообщений')"
   ]
  },
  {
   "cell_type": "markdown",
   "id": "27b42743",
   "metadata": {},
   "source": [
    "### Вывод"
   ]
  },
  {
   "cell_type": "markdown",
   "id": "559989fa",
   "metadata": {},
   "source": [
    "Видим, что оба тарифа по призаку (количество сообщений в месяц) имеют положительную скошенность. При этом:\n",
    "- сообщения меньше всего пользуется спросом у клиентов из всех предлагаемых услуг оператором\n",
    "- среднее количсетво сообщений в месяц для тарифа \"Смарт\" составляет 39 сообщений; \n",
    "- среднее количсетво сообщений в месяц для тарифа \"Ультра\" составляет 62 сообщение;\n",
    "- стандартное отклоение по количеству сообщений у тарифа \"Ультра\" больше, чем у тарифа \"Смарт\"\n",
    "- пользователи тарифа \"Ультра\" больше обмениваются сообщениями, чем клиенты тарифа \"Смарт.\""
   ]
  },
  {
   "cell_type": "markdown",
   "id": "537acbc2",
   "metadata": {},
   "source": [
    "### Какой объем интернет-трафика <a id=\"3_3\"></a>"
   ]
  },
  {
   "cell_type": "code",
   "execution_count": 68,
   "id": "79b95e3b",
   "metadata": {},
   "outputs": [
    {
     "data": {
      "text/plain": [
       "Text(0.5, 0, 'Количество интернет-трафика')"
      ]
     },
     "execution_count": 68,
     "metadata": {},
     "output_type": "execute_result"
    },
    {
     "data": {
      "image/png": "[encoded data removed]",
      "text/plain": [
       "<Figure size 1080x576 with 1 Axes>"
      ]
     },
     "metadata": {
      "needs_background": "light"
     },
     "output_type": "display_data"
    }
   ],
   "source": [
    "ax = ultra.plot(y = 'gb_sum',\n",
    "                bins = 12,\n",
    "                kind = 'hist', \n",
    "                alpha = .7, \n",
    "                legend = True, \n",
    "                label = 'Ультра', \n",
    "                grid = True, \n",
    "               figsize = (15,8),\n",
    "                histtype='step',\n",
    "                linewidth=5,\n",
    "               fontsize = 15)\n",
    "smart.plot(y = 'gb_sum', \n",
    "           bins = 12,\n",
    "           kind = 'hist', \n",
    "           alpha = .5,  \n",
    "           ax = ax,\n",
    "           label = 'Смарт',\n",
    "           grid = True)\n",
    "ax.set_title('Количество интернет-трафика в месяц, ГБ', fontsize=20)\n",
    "ax.set_xlabel('Количество интернет-трафика', fontsize=16)"
   ]
  },
  {
   "cell_type": "code",
   "execution_count": 69,
   "id": "7fd2ca25",
   "metadata": {
    "scrolled": true
   },
   "outputs": [
    {
     "data": {
      "text/html": [
       "<div>\n",
       "<style scoped>\n",
       "    .dataframe tbody tr th:only-of-type {\n",
       "        vertical-align: middle;\n",
       "    }\n",
       "\n",
       "    .dataframe tbody tr th {\n",
       "        vertical-align: top;\n",
       "    }\n",
       "\n",
       "    .dataframe thead th {\n",
       "        text-align: right;\n",
       "    }\n",
       "</style>\n",
       "<table border=\"1\" class=\"dataframe\">\n",
       "  <thead>\n",
       "    <tr style=\"text-align: right;\">\n",
       "      <th></th>\n",
       "      <th>count</th>\n",
       "      <th>mean</th>\n",
       "      <th>std</th>\n",
       "      <th>min</th>\n",
       "      <th>25%</th>\n",
       "      <th>50%</th>\n",
       "      <th>75%</th>\n",
       "      <th>max</th>\n",
       "    </tr>\n",
       "    <tr>\n",
       "      <th>tariff</th>\n",
       "      <th></th>\n",
       "      <th></th>\n",
       "      <th></th>\n",
       "      <th></th>\n",
       "      <th></th>\n",
       "      <th></th>\n",
       "      <th></th>\n",
       "      <th></th>\n",
       "    </tr>\n",
       "  </thead>\n",
       "  <tbody>\n",
       "    <tr>\n",
       "      <td>smart</td>\n",
       "      <td>2228.0</td>\n",
       "      <td>16.336176</td>\n",
       "      <td>5.737923</td>\n",
       "      <td>0.0</td>\n",
       "      <td>13.0</td>\n",
       "      <td>17.0</td>\n",
       "      <td>20.0</td>\n",
       "      <td>38.0</td>\n",
       "    </tr>\n",
       "    <tr>\n",
       "      <td>ultra</td>\n",
       "      <td>975.0</td>\n",
       "      <td>19.694359</td>\n",
       "      <td>9.702924</td>\n",
       "      <td>0.0</td>\n",
       "      <td>12.0</td>\n",
       "      <td>19.0</td>\n",
       "      <td>27.0</td>\n",
       "      <td>49.0</td>\n",
       "    </tr>\n",
       "  </tbody>\n",
       "</table>\n",
       "</div>"
      ],
      "text/plain": [
       "         count       mean       std  min   25%   50%   75%   max\n",
       "tariff                                                          \n",
       "smart   2228.0  16.336176  5.737923  0.0  13.0  17.0  20.0  38.0\n",
       "ultra    975.0  19.694359  9.702924  0.0  12.0  19.0  27.0  49.0"
      ]
     },
     "execution_count": 69,
     "metadata": {},
     "output_type": "execute_result"
    }
   ],
   "source": [
    "df.groupby('tariff')['gb_sum'].describe()"
   ]
  },
  {
   "cell_type": "markdown",
   "id": "f48f717a",
   "metadata": {},
   "source": [
    "<div class=\"alert alert-info\"> <b>Комментарий студента:</b> Добавил дисперсию</div>"
   ]
  },
  {
   "cell_type": "code",
   "execution_count": 70,
   "id": "9a829ea7",
   "metadata": {},
   "outputs": [
    {
     "data": {
      "text/html": [
       "<div>\n",
       "<style scoped>\n",
       "    .dataframe tbody tr th:only-of-type {\n",
       "        vertical-align: middle;\n",
       "    }\n",
       "\n",
       "    .dataframe tbody tr th {\n",
       "        vertical-align: top;\n",
       "    }\n",
       "\n",
       "    .dataframe thead th {\n",
       "        text-align: right;\n",
       "    }\n",
       "</style>\n",
       "<table border=\"1\" class=\"dataframe\">\n",
       "  <thead>\n",
       "    <tr style=\"text-align: right;\">\n",
       "      <th></th>\n",
       "      <th>Количество</th>\n",
       "      <th>Среднее</th>\n",
       "      <th>Медиана</th>\n",
       "      <th>Дисперсия</th>\n",
       "      <th>Ст. Отклонение</th>\n",
       "      <th>Минимум</th>\n",
       "      <th>Максимум</th>\n",
       "    </tr>\n",
       "    <tr>\n",
       "      <th>tariff</th>\n",
       "      <th></th>\n",
       "      <th></th>\n",
       "      <th></th>\n",
       "      <th></th>\n",
       "      <th></th>\n",
       "      <th></th>\n",
       "      <th></th>\n",
       "    </tr>\n",
       "  </thead>\n",
       "  <tbody>\n",
       "    <tr>\n",
       "      <td>smart</td>\n",
       "      <td>2228</td>\n",
       "      <td>16.336176</td>\n",
       "      <td>17.0</td>\n",
       "      <td>32.923756</td>\n",
       "      <td>5.737923</td>\n",
       "      <td>0.0</td>\n",
       "      <td>38.0</td>\n",
       "    </tr>\n",
       "    <tr>\n",
       "      <td>ultra</td>\n",
       "      <td>975</td>\n",
       "      <td>19.694359</td>\n",
       "      <td>19.0</td>\n",
       "      <td>94.146734</td>\n",
       "      <td>9.702924</td>\n",
       "      <td>0.0</td>\n",
       "      <td>49.0</td>\n",
       "    </tr>\n",
       "  </tbody>\n",
       "</table>\n",
       "</div>"
      ],
      "text/plain": [
       "        Количество    Среднее  Медиана  Дисперсия  Ст. Отклонение  Минимум  \\\n",
       "tariff                                                                       \n",
       "smart         2228  16.336176     17.0  32.923756        5.737923      0.0   \n",
       "ultra          975  19.694359     19.0  94.146734        9.702924      0.0   \n",
       "\n",
       "        Максимум  \n",
       "tariff            \n",
       "smart       38.0  \n",
       "ultra       49.0  "
      ]
     },
     "execution_count": 70,
     "metadata": {},
     "output_type": "execute_result"
    }
   ],
   "source": [
    "disp(df, 'gb_sum')"
   ]
  },
  {
   "cell_type": "markdown",
   "id": "f3649ffc",
   "metadata": {},
   "source": [
    "### Вывод"
   ]
  },
  {
   "cell_type": "markdown",
   "id": "517f09f0",
   "metadata": {},
   "source": [
    "А вот здесь видим, что пользователи тарифа \"Смарт\" стараются себя ограничивать в потреблении интернет-трафика, так как за каждый гигабайт сверх лимита клиент должен доплачивать 200 рублей, чего, естественно, клиент не хочет делать. Отсюда видим отрицательную скошенность по потреблению интернет-трафика у клиентов \"Смарт\". В то время как пользователи тарифа \"Ультра\" используют все свои гигабайты и пользуются интернетом сверх лимита, т.е. имеет положительную скошенность. При этом:\n",
    "- инетрнет-трафик больше всего пользуется спросом у клиентов мобильного оператора\n",
    "- среднее количсетво гигбайт в месяц для тарифа \"Смарт\" составляет 17 гигабайт; \n",
    "- среднее количсетво гигабайт в месяц для тарифа \"Ультра\" составляет 20 гигабайт;\n",
    "- стандартное отклоение по потреблению интернет-трафика у тарифа \"Ультра\" больше, чем у тарифа \"Смарт\";\n",
    "- пользователи тарифа \"Ультра\"больше потребляют интернет-трафик, чем клиенты тарифа \"Смарт\"."
   ]
  },
  {
   "cell_type": "markdown",
   "id": "83e7a2b3",
   "metadata": {},
   "source": [
    "### Вывод исследования\n",
    "На основе исследования среднего ежемесячного потребления услуг мобильного оператора (количество минут, сообщений, интернет-трафика) для каждого тарифа можно сказать следующее:\n",
    "- Меньше всего люди обмениваются сообщениями;\n",
    "- Больше всего люди пользуются мобильным интернетом;\n",
    "- пользователям тарифа \"Смарт\" не хватает количества минут, сообщений и интернет-трафика. Учитывая стоимость каждого гигбайта за превышение лимита, пользователи стремятся не превышать этот лимит;\n",
    "- большинство пользователей тарифа \"Ультра\" даже не используют свой тариф \"на максимум\", за исключением потребления интернет-трафика;\n",
    "- по ежемесячной выручке тариф \"Ультра\" - выгодный для бизнеса, несмотря на распределение ежемесячной выручки тарифа \"Смарт\". При этом не забываем, что больше всего пользователей, которые перестали пользоваться услугами мобильного оператора, пользовались тарифом \"Смарт\", так как ограничения большие, а стоимость переплат высокая.\n",
    "- Тарифом \"Смарт\" пользуются больше, чем тарифом \"Ультра\".\n",
    "\n",
    "После того, как провели исследование, проверим некоторые гипотезы."
   ]
  },
  {
   "cell_type": "markdown",
   "id": "3f52aba0",
   "metadata": {},
   "source": [
    "### Проверка гипотез <a id=\"3_4\"></a>\n",
    "\n",
    "После того, как провели исследование, проверим следующие гипотезы:\n",
    "- **Средняя выручка пользователей тарифов \"Смарт\" и \"Ультра\" различаются**\n",
    "- **Средняя выручка пользователей из Москвы отличается от выручки пользователей из других регионов**\n",
    "\n",
    "Прежде всего посмотрим еще раз на гистограммы размаха ежемесячной выручки по тарифам:"
   ]
  },
  {
   "cell_type": "code",
   "execution_count": 71,
   "id": "0743cc3e",
   "metadata": {},
   "outputs": [
    {
     "name": "stderr",
     "output_type": "stream",
     "text": [
      "/opt/conda/lib/python3.7/site-packages/numpy/core/_asarray.py:83: VisibleDeprecationWarning: Creating an ndarray from ragged nested sequences (which is a list-or-tuple of lists-or-tuples-or ndarrays with different lengths or shapes) is deprecated. If you meant to do this, you must specify 'dtype=object' when creating the ndarray\n",
      "  return array(a, dtype, copy=False, order=order)\n"
     ]
    },
    {
     "data": {
      "text/plain": [
       "(0, 7000)"
      ]
     },
     "execution_count": 71,
     "metadata": {},
     "output_type": "execute_result"
    },
    {
     "data": {
      "image/png": "[encoded data removed]",
      "text/plain": [
       "<Figure size 1080x576 with 1 Axes>"
      ]
     },
     "metadata": {
      "needs_background": "light"
     },
     "output_type": "display_data"
    }
   ],
   "source": [
    "df.boxplot('total_revenue', by = 'tariff', figsize = (15,8)).set_ylim(0, 7000)"
   ]
  },
  {
   "cell_type": "markdown",
   "id": "2d72d614",
   "metadata": {},
   "source": [
    "Видим, что у нас есть выбросы в каждом тарифе. Так как для проведения проверки двух выборок мы будем использовать **t-критерий Стьюдента**, поскольку выборки между собой независимы. Однако данный критерий неустойчив к выбросам и аномальным значениям. Поэтому прежде всего избавимся в нашей выборке от выбросов."
   ]
  },
  {
   "cell_type": "code",
   "execution_count": 72,
   "id": "a478832b",
   "metadata": {},
   "outputs": [],
   "source": [
    "def kill_anomaly(df, column):\n",
    "    q1 = df[column].quantile(0.25)\n",
    "    q3 = df[column].quantile(0.75)\n",
    "    iqr = q3 - q1\n",
    "    df_iqr = ((df[column] >= q1 + 1.5*iqr) & (df[column] <= q3 + 1.5*iqr))\n",
    "    return df.loc[df_iqr]"
   ]
  },
  {
   "cell_type": "code",
   "execution_count": 73,
   "id": "9cea6946",
   "metadata": {
    "scrolled": false
   },
   "outputs": [
    {
     "data": {
      "text/plain": [
       "<matplotlib.axes._subplots.AxesSubplot at 0x7f9d96914410>"
      ]
     },
     "execution_count": 73,
     "metadata": {},
     "output_type": "execute_result"
    },
    {
     "data": {
      "image/png": "[encoded data removed]",
      "text/plain": [
       "<Figure size 1080x576 with 1 Axes>"
      ]
     },
     "metadata": {
      "needs_background": "light"
     },
     "output_type": "display_data"
    }
   ],
   "source": [
    "ultra_filtered = kill_anomaly(ultra, 'total_revenue')\n",
    "ultra_filtered.boxplot('total_revenue', figsize = (15,8))"
   ]
  },
  {
   "cell_type": "code",
   "execution_count": 74,
   "id": "a239a9fc",
   "metadata": {},
   "outputs": [],
   "source": [
    "smart_filtered = kill_anomaly(smart, 'total_revenue')"
   ]
  },
  {
   "cell_type": "code",
   "execution_count": 75,
   "id": "1df23601",
   "metadata": {
    "scrolled": false
   },
   "outputs": [
    {
     "data": {
      "text/plain": [
       "<matplotlib.axes._subplots.AxesSubplot at 0x7f9d9671ba90>"
      ]
     },
     "execution_count": 75,
     "metadata": {},
     "output_type": "execute_result"
    },
    {
     "data": {
      "image/png": "[encoded data removed]",
      "text/plain": [
       "<Figure size 1080x576 with 1 Axes>"
      ]
     },
     "metadata": {
      "needs_background": "light"
     },
     "output_type": "display_data"
    }
   ],
   "source": [
    "smart_filtered.boxplot('total_revenue', figsize = (15,8))"
   ]
  },
  {
   "cell_type": "markdown",
   "id": "d8f409b1",
   "metadata": {},
   "source": [
    "Мы избавились от выбросов. Теперь рассмотрим гипотезу:\n",
    "- **Средняя выручка пользователей тарифов \"Смарт\" и \"Ультра\" различаются**\n",
    "\n",
    "Для этого сформируем нулевую и альтернативную гипотезы:\n",
    "- **H0**: средняя выручка пользователей тарифов \"Смарт\" и \"Ультра\" **не различаются**;\n",
    "- **H1**: средняя выручка пользователей тарифов \"Смарт\" и \"Ультра\" **различаются**"
   ]
  },
  {
   "cell_type": "markdown",
   "id": "c27128e4",
   "metadata": {},
   "source": [
    "<div class=\"alert alert-info\"> <b>Комментарий студента:</b> Добавлено обоснование применения параметра на основании сравнения дисперсий </div>"
   ]
  },
  {
   "cell_type": "markdown",
   "id": "cbc6adb2",
   "metadata": {},
   "source": [
    "Рассмотрим нашу исходную таблицу:"
   ]
  },
  {
   "cell_type": "code",
   "execution_count": 76,
   "id": "db52cdd6",
   "metadata": {},
   "outputs": [
    {
     "data": {
      "text/html": [
       "<div>\n",
       "<style scoped>\n",
       "    .dataframe tbody tr th:only-of-type {\n",
       "        vertical-align: middle;\n",
       "    }\n",
       "\n",
       "    .dataframe tbody tr th {\n",
       "        vertical-align: top;\n",
       "    }\n",
       "\n",
       "    .dataframe thead th {\n",
       "        text-align: right;\n",
       "    }\n",
       "</style>\n",
       "<table border=\"1\" class=\"dataframe\">\n",
       "  <thead>\n",
       "    <tr style=\"text-align: right;\">\n",
       "      <th></th>\n",
       "      <th>Количество</th>\n",
       "      <th>Среднее</th>\n",
       "      <th>Медиана</th>\n",
       "      <th>Дисперсия</th>\n",
       "      <th>Ст. Отклонение</th>\n",
       "      <th>Минимум</th>\n",
       "      <th>Максимум</th>\n",
       "    </tr>\n",
       "    <tr>\n",
       "      <th>tariff</th>\n",
       "      <th></th>\n",
       "      <th></th>\n",
       "      <th></th>\n",
       "      <th></th>\n",
       "      <th></th>\n",
       "      <th></th>\n",
       "      <th></th>\n",
       "    </tr>\n",
       "  </thead>\n",
       "  <tbody>\n",
       "    <tr>\n",
       "      <td>smart</td>\n",
       "      <td>2229</td>\n",
       "      <td>1289.973531</td>\n",
       "      <td>1023.0</td>\n",
       "      <td>669785.708006</td>\n",
       "      <td>818.404367</td>\n",
       "      <td>550.0</td>\n",
       "      <td>6770.0</td>\n",
       "    </tr>\n",
       "    <tr>\n",
       "      <td>ultra</td>\n",
       "      <td>985</td>\n",
       "      <td>2070.152284</td>\n",
       "      <td>1950.0</td>\n",
       "      <td>141516.745079</td>\n",
       "      <td>376.187114</td>\n",
       "      <td>1950.0</td>\n",
       "      <td>4800.0</td>\n",
       "    </tr>\n",
       "  </tbody>\n",
       "</table>\n",
       "</div>"
      ],
      "text/plain": [
       "        Количество      Среднее  Медиана      Дисперсия  Ст. Отклонение  \\\n",
       "tariff                                                                    \n",
       "smart         2229  1289.973531   1023.0  669785.708006      818.404367   \n",
       "ultra          985  2070.152284   1950.0  141516.745079      376.187114   \n",
       "\n",
       "        Минимум  Максимум  \n",
       "tariff                     \n",
       "smart     550.0    6770.0  \n",
       "ultra    1950.0    4800.0  "
      ]
     },
     "execution_count": 76,
     "metadata": {},
     "output_type": "execute_result"
    }
   ],
   "source": [
    "disp(df, 'total_revenue')"
   ]
  },
  {
   "cell_type": "markdown",
   "id": "6b9a1f24",
   "metadata": {},
   "source": [
    "Теперь сравним дисперсии двух выборок после очистки от выбросов:"
   ]
  },
  {
   "cell_type": "code",
   "execution_count": 77,
   "id": "aa16a04b",
   "metadata": {
    "scrolled": true
   },
   "outputs": [
    {
     "data": {
      "text/html": [
       "<div>\n",
       "<style scoped>\n",
       "    .dataframe tbody tr th:only-of-type {\n",
       "        vertical-align: middle;\n",
       "    }\n",
       "\n",
       "    .dataframe tbody tr th {\n",
       "        vertical-align: top;\n",
       "    }\n",
       "\n",
       "    .dataframe thead th {\n",
       "        text-align: right;\n",
       "    }\n",
       "</style>\n",
       "<table border=\"1\" class=\"dataframe\">\n",
       "  <thead>\n",
       "    <tr style=\"text-align: right;\">\n",
       "      <th></th>\n",
       "      <th>Количество</th>\n",
       "      <th>Среднее</th>\n",
       "      <th>Медиана</th>\n",
       "      <th>Дисперсия</th>\n",
       "      <th>Ст. Отклонение</th>\n",
       "      <th>Минимум</th>\n",
       "      <th>Максимум</th>\n",
       "    </tr>\n",
       "    <tr>\n",
       "      <th>tariff</th>\n",
       "      <th></th>\n",
       "      <th></th>\n",
       "      <th></th>\n",
       "      <th></th>\n",
       "      <th></th>\n",
       "      <th></th>\n",
       "      <th></th>\n",
       "    </tr>\n",
       "  </thead>\n",
       "  <tbody>\n",
       "    <tr>\n",
       "      <td>ultra</td>\n",
       "      <td>851</td>\n",
       "      <td>1950.0</td>\n",
       "      <td>1950.0</td>\n",
       "      <td>0.0</td>\n",
       "      <td>0.0</td>\n",
       "      <td>1950.0</td>\n",
       "      <td>1950.0</td>\n",
       "    </tr>\n",
       "  </tbody>\n",
       "</table>\n",
       "</div>"
      ],
      "text/plain": [
       "        Количество  Среднее  Медиана  Дисперсия  Ст. Отклонение  Минимум  \\\n",
       "tariff                                                                     \n",
       "ultra          851   1950.0   1950.0        0.0             0.0   1950.0   \n",
       "\n",
       "        Максимум  \n",
       "tariff            \n",
       "ultra     1950.0  "
      ]
     },
     "execution_count": 77,
     "metadata": {},
     "output_type": "execute_result"
    }
   ],
   "source": [
    "disp(ultra_filtered, 'total_revenue')"
   ]
  },
  {
   "cell_type": "code",
   "execution_count": 78,
   "id": "350e018b",
   "metadata": {},
   "outputs": [
    {
     "data": {
      "text/html": [
       "<div>\n",
       "<style scoped>\n",
       "    .dataframe tbody tr th:only-of-type {\n",
       "        vertical-align: middle;\n",
       "    }\n",
       "\n",
       "    .dataframe tbody tr th {\n",
       "        vertical-align: top;\n",
       "    }\n",
       "\n",
       "    .dataframe thead th {\n",
       "        text-align: right;\n",
       "    }\n",
       "</style>\n",
       "<table border=\"1\" class=\"dataframe\">\n",
       "  <thead>\n",
       "    <tr style=\"text-align: right;\">\n",
       "      <th></th>\n",
       "      <th>Количество</th>\n",
       "      <th>Среднее</th>\n",
       "      <th>Медиана</th>\n",
       "      <th>Дисперсия</th>\n",
       "      <th>Ст. Отклонение</th>\n",
       "      <th>Минимум</th>\n",
       "      <th>Максимум</th>\n",
       "    </tr>\n",
       "    <tr>\n",
       "      <th>tariff</th>\n",
       "      <th></th>\n",
       "      <th></th>\n",
       "      <th></th>\n",
       "      <th></th>\n",
       "      <th></th>\n",
       "      <th></th>\n",
       "      <th></th>\n",
       "    </tr>\n",
       "  </thead>\n",
       "  <tbody>\n",
       "    <tr>\n",
       "      <td>smart</td>\n",
       "      <td>228</td>\n",
       "      <td>2771.307018</td>\n",
       "      <td>2704.0</td>\n",
       "      <td>107656.698277</td>\n",
       "      <td>328.110802</td>\n",
       "      <td>2350.0</td>\n",
       "      <td>3550.0</td>\n",
       "    </tr>\n",
       "  </tbody>\n",
       "</table>\n",
       "</div>"
      ],
      "text/plain": [
       "        Количество      Среднее  Медиана      Дисперсия  Ст. Отклонение  \\\n",
       "tariff                                                                    \n",
       "smart          228  2771.307018   2704.0  107656.698277      328.110802   \n",
       "\n",
       "        Минимум  Максимум  \n",
       "tariff                     \n",
       "smart    2350.0    3550.0  "
      ]
     },
     "execution_count": 78,
     "metadata": {},
     "output_type": "execute_result"
    }
   ],
   "source": [
    "disp(smart_filtered, 'total_revenue')"
   ]
  },
  {
   "cell_type": "markdown",
   "id": "c70bca92",
   "metadata": {},
   "source": [
    "Видим, что у пользователей тарифа \"Смарт\" и \"Ультра\" дисперсии ежемесячной выручки сильно отличаются. Поэтому в процессе сравнения выборок будем использовать параметр `equal_var = False`"
   ]
  },
  {
   "cell_type": "code",
   "execution_count": 79,
   "id": "153520de",
   "metadata": {},
   "outputs": [
    {
     "name": "stdout",
     "output_type": "stream",
     "text": [
      "p-value: [6.50477856e-100]\n",
      "Отвергаем нулевую гипотезу\n"
     ]
    }
   ],
   "source": [
    "# Делаем выборку по каждому тарифу с оценкой параметра: ежемесячная выручка\n",
    "smart_filtered = smart_filtered[['total_revenue']]\n",
    "ultra_filtered = ultra_filtered[['total_revenue']]\n",
    "# задаем попроговое значение\n",
    "alpha = .05\n",
    "results = (\n",
    "    st.ttest_ind(smart_filtered, ultra_filtered, equal_var = False)\n",
    ")\n",
    "\n",
    "print('p-value:', results.pvalue)\n",
    "\n",
    "if results.pvalue < alpha:\n",
    "    print('Отвергаем нулевую гипотезу')\n",
    "else:\n",
    "    print('Не удалось отвергнуть нулевую гипотезу')"
   ]
  },
  {
   "cell_type": "markdown",
   "id": "e7609cb7",
   "metadata": {},
   "source": [
    "Видим, что вероятность близка к нулю. Это говорит нам о том, что нулевая гипотеза отвергается. \n",
    "\n",
    "Средняя выручка между тарифами \"Смарт\" и \"Ультра\" различаются. \n",
    "\n",
    "Теперь посмотрим на следующую гипотезу:\n",
    "- **Средняя выручка пользователей из Москвы отличается от выручки пользователей из других регионов**\n",
    "\n",
    "Для этого сделаем две выборки из нашей комбинированной таблицы:\n",
    "- Город Москва;\n",
    "- Остальные города (другие регионы)"
   ]
  },
  {
   "cell_type": "code",
   "execution_count": 80,
   "id": "7e7a7f24",
   "metadata": {},
   "outputs": [],
   "source": [
    "moscow = df.query('city == \"Москва\"')\n",
    "region = df.query('city != \"Москва\"')"
   ]
  },
  {
   "cell_type": "markdown",
   "id": "5be3f608",
   "metadata": {},
   "source": [
    "Посмотрим на диаграмму размаха для каждой выборки."
   ]
  },
  {
   "cell_type": "code",
   "execution_count": 81,
   "id": "0a463e5a",
   "metadata": {},
   "outputs": [
    {
     "data": {
      "text/plain": [
       "<matplotlib.axes._subplots.AxesSubplot at 0x7f9d96709450>"
      ]
     },
     "execution_count": 81,
     "metadata": {},
     "output_type": "execute_result"
    },
    {
     "data": {
      "image/png": "[encoded data removed]",
      "text/plain": [
       "<Figure size 1080x576 with 1 Axes>"
      ]
     },
     "metadata": {
      "needs_background": "light"
     },
     "output_type": "display_data"
    }
   ],
   "source": [
    "moscow.boxplot('total_revenue', figsize = (15,8))"
   ]
  },
  {
   "cell_type": "code",
   "execution_count": 82,
   "id": "d5d0026b",
   "metadata": {
    "scrolled": false
   },
   "outputs": [
    {
     "data": {
      "text/plain": [
       "<matplotlib.axes._subplots.AxesSubplot at 0x7f9d96688890>"
      ]
     },
     "execution_count": 82,
     "metadata": {},
     "output_type": "execute_result"
    },
    {
     "data": {
      "image/png": "[encoded data removed]",
      "text/plain": [
       "<Figure size 1080x576 with 1 Axes>"
      ]
     },
     "metadata": {
      "needs_background": "light"
     },
     "output_type": "display_data"
    }
   ],
   "source": [
    "region.boxplot('total_revenue', figsize = (15,8))"
   ]
  },
  {
   "cell_type": "markdown",
   "id": "b57d1e2a",
   "metadata": {},
   "source": [
    "Видим, что в выборках есть аномальные значения. Избавимся от них, так как они могут повлиять на результат проверки гипотезы."
   ]
  },
  {
   "cell_type": "code",
   "execution_count": 83,
   "id": "e980b2db",
   "metadata": {},
   "outputs": [
    {
     "data": {
      "text/plain": [
       "<matplotlib.axes._subplots.AxesSubplot at 0x7f9d96825ed0>"
      ]
     },
     "execution_count": 83,
     "metadata": {},
     "output_type": "execute_result"
    },
    {
     "data": {
      "image/png": "[encoded data removed]",
      "text/plain": [
       "<Figure size 1080x576 with 1 Axes>"
      ]
     },
     "metadata": {
      "needs_background": "light"
     },
     "output_type": "display_data"
    }
   ],
   "source": [
    "moscow_filtered = kill_anomaly(moscow, 'total_revenue')\n",
    "moscow_filtered.boxplot('total_revenue', figsize = (15,8))"
   ]
  },
  {
   "cell_type": "code",
   "execution_count": 84,
   "id": "acece148",
   "metadata": {
    "scrolled": false
   },
   "outputs": [
    {
     "data": {
      "text/plain": [
       "<matplotlib.axes._subplots.AxesSubplot at 0x7f9d9697fe90>"
      ]
     },
     "execution_count": 84,
     "metadata": {},
     "output_type": "execute_result"
    },
    {
     "data": {
      "image/png": "[encoded data removed]",
      "text/plain": [
       "<Figure size 1080x576 with 1 Axes>"
      ]
     },
     "metadata": {
      "needs_background": "light"
     },
     "output_type": "display_data"
    }
   ],
   "source": [
    "region_filtered = kill_anomaly(region, 'total_revenue')\n",
    "region_filtered.boxplot('total_revenue', figsize = (15,8))"
   ]
  },
  {
   "cell_type": "markdown",
   "id": "71895e1f",
   "metadata": {},
   "source": [
    "Видим, что от выбросов мы избавились, теперь рассмотрим нашу гипотезу:\n",
    "- **Средняя выручка пользователей из Москвы отличается от выручки пользователей из других регионов**\n",
    "\n",
    "Для этого сформируем нулевую и альтернативную гипотезы:\n",
    "- **H0**: средняя выручка пользователей из Москвы и других регионов **не различаются**;\n",
    "- **H1**: средняя выручка пользователей из Москвы и других регионов **различаются**"
   ]
  },
  {
   "cell_type": "markdown",
   "id": "a7e37564",
   "metadata": {},
   "source": [
    "<div class=\"alert alert-info\"> <b>Комментарий студента:</b> Добавлено обоснование применения параметра на основании сравнения дисперсий </div>"
   ]
  },
  {
   "cell_type": "markdown",
   "id": "319ddf04",
   "metadata": {},
   "source": [
    "Рассмотрим наши отфильтрованные от выбросов выборки. Сравним их дисперсии:"
   ]
  },
  {
   "cell_type": "code",
   "execution_count": 85,
   "id": "49624bc7",
   "metadata": {},
   "outputs": [
    {
     "data": {
      "text/plain": [
       "count        45.000000\n",
       "mean       2917.888889\n",
       "median     2950.000000\n",
       "var       79386.873737\n",
       "std         281.756763\n",
       "min        2550.000000\n",
       "max        3450.000000\n",
       "Name: total_revenue, dtype: float64"
      ]
     },
     "execution_count": 85,
     "metadata": {},
     "output_type": "execute_result"
    }
   ],
   "source": [
    "moscow_df = moscow_filtered['total_revenue'].agg(['count', 'mean', 'median','var', 'std', 'min', 'max'])\n",
    "moscow_df"
   ]
  },
  {
   "cell_type": "code",
   "execution_count": 86,
   "id": "cc0cb2ee",
   "metadata": {},
   "outputs": [
    {
     "data": {
      "text/plain": [
       "count        208.000000\n",
       "mean        2956.134615\n",
       "median      2871.500000\n",
       "var       125513.788554\n",
       "std          354.279252\n",
       "min         2550.000000\n",
       "max         3750.000000\n",
       "Name: total_revenue, dtype: float64"
      ]
     },
     "execution_count": 86,
     "metadata": {},
     "output_type": "execute_result"
    }
   ],
   "source": [
    "region_df = region_filtered['total_revenue'].agg(['count', 'mean', 'median','var', 'std', 'min', 'max'])\n",
    "region_df"
   ]
  },
  {
   "cell_type": "markdown",
   "id": "aa3a85ac",
   "metadata": {},
   "source": [
    "Видим, что дисперсии этих выборок отличаются. Отсюда следует, что при проверке этих выборок необходимо применить параметра `equal_var = False` для получения более точного результата."
   ]
  },
  {
   "cell_type": "code",
   "execution_count": 87,
   "id": "3326573a",
   "metadata": {},
   "outputs": [
    {
     "name": "stdout",
     "output_type": "stream",
     "text": [
      "p-value: [0.43426147]\n",
      "Не удалось отвергнуть нулевую гипотезу\n"
     ]
    }
   ],
   "source": [
    "# Делаем выборку по каждому тарифу с оценкой параметра: ежемесячная выручка\n",
    "moscow_filtered = moscow_filtered[['total_revenue']]\n",
    "region_filtered = region_filtered[['total_revenue']]\n",
    "# задаем попроговое значение\n",
    "alpha = .05\n",
    "results = (\n",
    "    st.ttest_ind(moscow_filtered, region_filtered, equal_var = False)\n",
    ")\n",
    "\n",
    "print('p-value:', results.pvalue)\n",
    "\n",
    "if results.pvalue < alpha:\n",
    "    print('Отвергаем нулевую гипотезу')\n",
    "else:\n",
    "    print('Не удалось отвергнуть нулевую гипотезу')"
   ]
  },
  {
   "cell_type": "markdown",
   "id": "0385e921",
   "metadata": {},
   "source": [
    "Видим, что вероятность составляет приблизительно 50%. Что говорит нам о том, что гипотезу отвергнуть не удалось. Полученное значение p-value говорит о том, что вероятность получить такое или большее различие случайно почти 50%. Это явно слишком большая вероятность, чтобы делать вывод о значимом различии между средними чеками."
   ]
  },
  {
   "cell_type": "markdown",
   "id": "44c7d0d4",
   "metadata": {},
   "source": [
    "### Вывод\n",
    "Провели проверку следующих гипотез:\n",
    "- **Средняя выручка пользователей тарифов \"Смарт\" и \"Ультра\" различаются**\n",
    "- **Средняя выручка пользователей из Москвы отличается от выручки пользователей из других регионов**\n",
    "\n",
    "Однако перед проверкой гипотез обнаружили выбросы, которые могли полвиять на результат проверки гипотез.\n",
    "После очистки от выбросов провели проверку гипотез, по результатам которых установили следующее:\n",
    "- гипотеза средняя выручка пользователей тарифов \"Смарт\" и \"Ультра\" **не различаются** **отвергается**;\n",
    "- **не удалось отвергнуть** гипотезу средняя выручка пользователей из Москвы и других регионов **не различаются**."
   ]
  },
  {
   "cell_type": "markdown",
   "id": "1d757ee3",
   "metadata": {},
   "source": [
    "<div class=\"alert alert-info\"> <b>Комментарий студента:</b> Сделаем))) </div>"
   ]
  },
  {
   "cell_type": "code",
   "execution_count": 1,
   "id": "16aba1a4",
   "metadata": {},
   "outputs": [
    {
     "ename": "NameError",
     "evalue": "name 'pd' is not defined",
     "output_type": "error",
     "traceback": [
      "\u001b[0;31m---------------------------------------------------------------------------\u001b[0m",
      "\u001b[0;31mNameError\u001b[0m                                 Traceback (most recent call last)",
      "\u001b[0;32m/tmp/ipykernel_63/1318963643.py\u001b[0m in \u001b[0;36m<module>\u001b[0;34m\u001b[0m\n\u001b[0;32m----> 1\u001b[0;31m \u001b[0;32mdef\u001b[0m \u001b[0mhypotesis_check\u001b[0m\u001b[0;34m(\u001b[0m\u001b[0ms1\u001b[0m \u001b[0;34m:\u001b[0m \u001b[0mpd\u001b[0m\u001b[0;34m.\u001b[0m\u001b[0mSeries\u001b[0m\u001b[0;34m,\u001b[0m \u001b[0ms2\u001b[0m \u001b[0;34m:\u001b[0m \u001b[0mpd\u001b[0m\u001b[0;34m.\u001b[0m\u001b[0mSeries\u001b[0m\u001b[0;34m)\u001b[0m\u001b[0;34m:\u001b[0m\u001b[0;34m\u001b[0m\u001b[0;34m\u001b[0m\u001b[0m\n\u001b[0m\u001b[1;32m      2\u001b[0m     \u001b[0malpha\u001b[0m \u001b[0;34m=\u001b[0m \u001b[0;36m.05\u001b[0m\u001b[0;34m\u001b[0m\u001b[0;34m\u001b[0m\u001b[0m\n\u001b[1;32m      3\u001b[0m     results = (\n\u001b[1;32m      4\u001b[0m         \u001b[0mst\u001b[0m\u001b[0;34m.\u001b[0m\u001b[0mttest_ind\u001b[0m\u001b[0;34m(\u001b[0m\u001b[0ms1\u001b[0m\u001b[0;34m,\u001b[0m \u001b[0ms2\u001b[0m\u001b[0;34m)\u001b[0m\u001b[0;34m\u001b[0m\u001b[0;34m\u001b[0m\u001b[0m\n\u001b[1;32m      5\u001b[0m     )\n",
      "\u001b[0;31mNameError\u001b[0m: name 'pd' is not defined"
     ]
    }
   ],
   "source": [
    "def hypotesis_check(s1 : pd.Series, s2 : pd.Series):\n",
    "    alpha = .05\n",
    "    results = (\n",
    "        st.ttest_ind(s1, s2)\n",
    "    )\n",
    "\n",
    "    print('p-value:', results.pvalue)\n",
    "\n",
    "    if results.pvalue < alpha:\n",
    "        print('Отвергаем нулевую гипотезу')\n",
    "    else:\n",
    "        print('Не удалось отвергнуть нулевую гипотезу')"
   ]
  },
  {
   "cell_type": "code",
   "execution_count": 89,
   "id": "995c88e4",
   "metadata": {},
   "outputs": [
    {
     "name": "stdout",
     "output_type": "stream",
     "text": [
      "p-value: [0.49785707]\n",
      "Не удалось отвергнуть нулевую гипотезу\n"
     ]
    }
   ],
   "source": [
    "hypotesis_check(moscow_filtered[['total_revenue']], region_filtered[['total_revenue']])"
   ]
  },
  {
   "cell_type": "markdown",
   "id": "c62174ac",
   "metadata": {},
   "source": [
    "## Общий вывод <a id=\"4\"></a>\n",
    "\n",
    "В рамках исследования познакомились с выборкой клиентов \"Мегалайна\". \n",
    "В процессе предобработки данных были установлены следующие недочеты:\n",
    "\n",
    "- несоответствие типов данных во времени\n",
    "- аномальные значения в количестве минут разговора и количестве потребления интернет-трафика. \n",
    "\n",
    "В итоге, было предложено оставить пропуски и аномальные значения как есть, так как удалив пропуски, мы могли бы потерять часть данных, которые могли бы повлиять на результаты исследования, а заполнение пропусков нестандартным значением могли бы исказить результаты.\n",
    "\n",
    "**Рекомендация:** провести корректную подготовку данных для анализа, чтобы не было значений, связанных с пропущенными звонками, обрывом связи, неудачных-интернет-сессий\n",
    "\n",
    "В процессе исследования поведение пользователей по целевым показателям тарифа: количество минут, сообщений, гигабайт увидели, что:\n",
    "- Меньше всего люди обмениваются сообщениями;\n",
    "- Больше всего люди пользуются мобильным интернетом;\n",
    "- пользователям тарифа \"Смарт\" не хватает количества минут, сообщений и интернет-трафика. Учитывая стоимость каждого гигбайта за превышение лимита, пользователи стремятся не превышать этот лимит;\n",
    "- большинство пользователей тарифа \"Ультра\" даже не используют свой тариф \"на максимум\", за исключением потребления интернет-трафика;\n",
    "- по ежемесячной выручке тариф \"Ультра\" - выгодный для бизнеса, несмотря на распределение ежемесячной выручки тарифа \"Смарт\". При этом не забываем, что больше всего пользователей, которые перестали пользоваться услугами мобильного оператора, пользовались тарифом \"Смарт\", так как ограничения большие, а стоимость переплат высокая.\n",
    "- Тарифом \"Смарт\" пользуются больше, чем тарифом \"Ультра\".\n",
    "\n",
    "Также стоит отметить, что на момент сбора данных, 38 пользователей перестало пользоваться тарифами, большинство из них ранее пользовались тарифом \"Смарт\".\n",
    "\n",
    "Поэтому хочется оставить следующие **рекомендации**:\n",
    "- пересмотреть тариф \"Смарт\" и подобрать наиболее оптимальный набор пакета минут, сообщений, гигабайт. \n",
    "- добавить конфигурацию тарифа, где пользователь, может сам выбрать оптимальный набор пакета;\n",
    "- уделить внимание пакету гигабайтов в месяц, в тарифе \"Смарт\" 15 ГБ в месяц - недостаточно для пользователя, а переплатата за каждый гигабайт - высокая.\n",
    "\n",
    "В конце исследования провели проверку гипотез, в результате которой определили:\n",
    "- гипотеза: средняя выручка пользователей тарифов \"Смарт\" и \"Ультра\" **не различаются** **отвергается**;\n",
    "- **не удалось отвергнуть** гипотезу: средняя выручка пользователей из Москвы и других регионов **не различаются**.\n",
    "\n",
    "На основе выборки, можно сказать, что для бизнеса более выгодным тариф оказался \"Ультра\""
   ]
  }
 ],
 "metadata": {
  "ExecuteTimeLog": [
   {
    "duration": 1308,
    "start_time": "2022-02-06T17:36:52.760Z"
   },
   {
    "duration": 780,
    "start_time": "2022-02-06T17:36:54.071Z"
   },
   {
    "duration": 26,
    "start_time": "2022-02-06T17:36:54.854Z"
   },
   {
    "duration": 14,
    "start_time": "2022-02-06T17:36:54.883Z"
   },
   {
    "duration": 27,
    "start_time": "2022-02-06T17:36:54.900Z"
   },
   {
    "duration": 11,
    "start_time": "2022-02-06T17:36:54.929Z"
   },
   {
    "duration": 11,
    "start_time": "2022-02-06T17:36:54.942Z"
   },
   {
    "duration": 21,
    "start_time": "2022-02-06T17:36:54.957Z"
   },
   {
    "duration": 52,
    "start_time": "2022-02-06T17:36:54.981Z"
   },
   {
    "duration": 10,
    "start_time": "2022-02-06T17:36:55.035Z"
   },
   {
    "duration": 11,
    "start_time": "2022-02-06T17:36:55.047Z"
   },
   {
    "duration": 17,
    "start_time": "2022-02-06T17:36:55.060Z"
   },
   {
    "duration": 46,
    "start_time": "2022-02-06T17:36:55.081Z"
   },
   {
    "duration": 15,
    "start_time": "2022-02-06T17:36:55.130Z"
   },
   {
    "duration": 10,
    "start_time": "2022-02-06T17:36:55.148Z"
   },
   {
    "duration": 21,
    "start_time": "2022-02-06T17:36:55.161Z"
   },
   {
    "duration": 55,
    "start_time": "2022-02-06T17:36:55.185Z"
   },
   {
    "duration": 31,
    "start_time": "2022-02-06T17:36:55.242Z"
   },
   {
    "duration": 4,
    "start_time": "2022-02-06T17:36:55.276Z"
   },
   {
    "duration": 61,
    "start_time": "2022-02-06T17:36:55.283Z"
   },
   {
    "duration": 24,
    "start_time": "2022-02-06T17:36:55.347Z"
   },
   {
    "duration": 141,
    "start_time": "2022-02-06T17:36:55.374Z"
   },
   {
    "duration": 154,
    "start_time": "2022-02-06T17:36:55.524Z"
   },
   {
    "duration": 18,
    "start_time": "2022-02-06T17:36:55.680Z"
   },
   {
    "duration": 263,
    "start_time": "2022-02-06T17:36:55.701Z"
   },
   {
    "duration": 168,
    "start_time": "2022-02-06T17:36:55.971Z"
   },
   {
    "duration": 16,
    "start_time": "2022-02-06T17:36:56.143Z"
   },
   {
    "duration": 146,
    "start_time": "2022-02-06T17:36:56.161Z"
   },
   {
    "duration": 112,
    "start_time": "2022-02-06T17:36:56.310Z"
   },
   {
    "duration": 15,
    "start_time": "2022-02-06T17:36:56.425Z"
   },
   {
    "duration": 149,
    "start_time": "2022-02-06T17:36:56.443Z"
   },
   {
    "duration": 78,
    "start_time": "2022-02-06T17:36:56.594Z"
   },
   {
    "duration": 85,
    "start_time": "2022-02-06T17:36:56.674Z"
   },
   {
    "duration": 8,
    "start_time": "2022-02-06T17:36:56.761Z"
   },
   {
    "duration": 113,
    "start_time": "2022-02-06T17:36:56.772Z"
   },
   {
    "duration": 55,
    "start_time": "2022-02-06T17:36:56.887Z"
   },
   {
    "duration": 45,
    "start_time": "2022-02-06T17:36:56.945Z"
   },
   {
    "duration": 37,
    "start_time": "2022-02-06T17:36:56.992Z"
   },
   {
    "duration": 29,
    "start_time": "2022-02-06T17:36:57.032Z"
   },
   {
    "duration": 11,
    "start_time": "2022-02-06T17:36:57.063Z"
   },
   {
    "duration": 52,
    "start_time": "2022-02-06T17:36:57.076Z"
   },
   {
    "duration": 14,
    "start_time": "2022-02-06T17:36:57.130Z"
   },
   {
    "duration": 11,
    "start_time": "2022-02-06T17:36:57.146Z"
   },
   {
    "duration": 20,
    "start_time": "2022-02-06T17:36:57.160Z"
   },
   {
    "duration": 44,
    "start_time": "2022-02-06T17:36:57.183Z"
   },
   {
    "duration": 23,
    "start_time": "2022-02-06T17:36:57.230Z"
   },
   {
    "duration": 11,
    "start_time": "2022-02-06T17:36:57.255Z"
   },
   {
    "duration": 6,
    "start_time": "2022-02-06T17:36:57.269Z"
   },
   {
    "duration": 389,
    "start_time": "2022-02-06T17:36:57.277Z"
   },
   {
    "duration": 23,
    "start_time": "2022-02-06T17:36:57.668Z"
   },
   {
    "duration": 39,
    "start_time": "2022-02-06T17:36:57.693Z"
   },
   {
    "duration": 27,
    "start_time": "2022-02-06T17:36:57.735Z"
   },
   {
    "duration": 454,
    "start_time": "2022-02-06T17:36:57.765Z"
   },
   {
    "duration": 11,
    "start_time": "2022-02-06T17:36:58.224Z"
   },
   {
    "duration": 608,
    "start_time": "2022-02-06T17:36:58.238Z"
   },
   {
    "duration": 26,
    "start_time": "2022-02-06T17:36:58.848Z"
   },
   {
    "duration": 621,
    "start_time": "2022-02-06T17:36:58.876Z"
   },
   {
    "duration": 41,
    "start_time": "2022-02-06T17:36:59.500Z"
   },
   {
    "duration": 569,
    "start_time": "2022-02-06T17:36:59.545Z"
   },
   {
    "duration": 26,
    "start_time": "2022-02-06T17:37:00.124Z"
   },
   {
    "duration": 536,
    "start_time": "2022-02-06T17:37:00.152Z"
   },
   {
    "duration": 8,
    "start_time": "2022-02-06T17:37:00.691Z"
   },
   {
    "duration": 432,
    "start_time": "2022-02-06T17:37:00.702Z"
   },
   {
    "duration": 9,
    "start_time": "2022-02-06T17:37:01.136Z"
   },
   {
    "duration": 409,
    "start_time": "2022-02-06T17:37:01.148Z"
   },
   {
    "duration": 10,
    "start_time": "2022-02-06T17:37:01.560Z"
   },
   {
    "duration": 31,
    "start_time": "2022-02-06T17:37:01.573Z"
   },
   {
    "duration": 392,
    "start_time": "2022-02-06T17:37:01.607Z"
   },
   {
    "duration": 392,
    "start_time": "2022-02-06T17:37:02.001Z"
   },
   {
    "duration": 616,
    "start_time": "2022-02-06T17:37:02.396Z"
   },
   {
    "duration": 426,
    "start_time": "2022-02-06T17:37:03.015Z"
   },
   {
    "duration": 11,
    "start_time": "2022-02-06T17:37:03.444Z"
   },
   {
    "duration": 6,
    "start_time": "2022-02-06T17:39:01.147Z"
   },
   {
    "duration": 6,
    "start_time": "2022-02-06T17:39:07.700Z"
   },
   {
    "duration": 11,
    "start_time": "2022-02-06T17:39:41.121Z"
   },
   {
    "duration": 369,
    "start_time": "2022-02-06T19:50:32.900Z"
   },
   {
    "duration": 1399,
    "start_time": "2022-02-06T19:50:41.385Z"
   },
   {
    "duration": 700,
    "start_time": "2022-02-06T19:50:42.787Z"
   },
   {
    "duration": 28,
    "start_time": "2022-02-06T19:50:43.490Z"
   },
   {
    "duration": 15,
    "start_time": "2022-02-06T19:50:43.520Z"
   },
   {
    "duration": 39,
    "start_time": "2022-02-06T19:50:43.537Z"
   },
   {
    "duration": 11,
    "start_time": "2022-02-06T19:50:43.578Z"
   },
   {
    "duration": 16,
    "start_time": "2022-02-06T19:50:43.592Z"
   },
   {
    "duration": 24,
    "start_time": "2022-02-06T19:50:43.612Z"
   },
   {
    "duration": 39,
    "start_time": "2022-02-06T19:50:43.639Z"
   },
   {
    "duration": 11,
    "start_time": "2022-02-06T19:50:43.680Z"
   },
   {
    "duration": 12,
    "start_time": "2022-02-06T19:50:43.694Z"
   },
   {
    "duration": 15,
    "start_time": "2022-02-06T19:50:43.708Z"
   },
   {
    "duration": 49,
    "start_time": "2022-02-06T19:50:43.725Z"
   },
   {
    "duration": 11,
    "start_time": "2022-02-06T19:50:43.777Z"
   },
   {
    "duration": 11,
    "start_time": "2022-02-06T19:50:43.790Z"
   },
   {
    "duration": 8,
    "start_time": "2022-02-06T19:50:43.803Z"
   },
   {
    "duration": 18,
    "start_time": "2022-02-06T19:50:43.813Z"
   },
   {
    "duration": 64,
    "start_time": "2022-02-06T19:50:43.834Z"
   },
   {
    "duration": 5,
    "start_time": "2022-02-06T19:50:43.900Z"
   },
   {
    "duration": 32,
    "start_time": "2022-02-06T19:50:43.907Z"
   },
   {
    "duration": 25,
    "start_time": "2022-02-06T19:50:43.969Z"
   },
   {
    "duration": 140,
    "start_time": "2022-02-06T19:50:43.996Z"
   },
   {
    "duration": 181,
    "start_time": "2022-02-06T19:50:44.142Z"
   },
   {
    "duration": 20,
    "start_time": "2022-02-06T19:50:44.327Z"
   },
   {
    "duration": 311,
    "start_time": "2022-02-06T19:50:44.350Z"
   },
   {
    "duration": 180,
    "start_time": "2022-02-06T19:50:44.663Z"
   },
   {
    "duration": 30,
    "start_time": "2022-02-06T19:50:44.846Z"
   },
   {
    "duration": 155,
    "start_time": "2022-02-06T19:50:44.879Z"
   },
   {
    "duration": 116,
    "start_time": "2022-02-06T19:50:45.036Z"
   },
   {
    "duration": 23,
    "start_time": "2022-02-06T19:50:45.155Z"
   },
   {
    "duration": 157,
    "start_time": "2022-02-06T19:50:45.180Z"
   },
   {
    "duration": 88,
    "start_time": "2022-02-06T19:50:45.340Z"
   },
   {
    "duration": 82,
    "start_time": "2022-02-06T19:50:45.430Z"
   },
   {
    "duration": 9,
    "start_time": "2022-02-06T19:50:45.515Z"
   },
   {
    "duration": 115,
    "start_time": "2022-02-06T19:50:45.526Z"
   },
   {
    "duration": 65,
    "start_time": "2022-02-06T19:50:45.643Z"
   },
   {
    "duration": 60,
    "start_time": "2022-02-06T19:50:45.710Z"
   },
   {
    "duration": 17,
    "start_time": "2022-02-06T19:50:45.773Z"
   },
   {
    "duration": 27,
    "start_time": "2022-02-06T19:50:45.792Z"
   },
   {
    "duration": 5,
    "start_time": "2022-02-06T19:50:45.821Z"
   },
   {
    "duration": 41,
    "start_time": "2022-02-06T19:50:45.828Z"
   },
   {
    "duration": 11,
    "start_time": "2022-02-06T19:50:45.872Z"
   },
   {
    "duration": 25,
    "start_time": "2022-02-06T19:50:45.886Z"
   },
   {
    "duration": 55,
    "start_time": "2022-02-06T19:50:45.914Z"
   },
   {
    "duration": 10,
    "start_time": "2022-02-06T19:50:45.971Z"
   },
   {
    "duration": 19,
    "start_time": "2022-02-06T19:50:45.984Z"
   },
   {
    "duration": 9,
    "start_time": "2022-02-06T19:50:46.006Z"
   },
   {
    "duration": 53,
    "start_time": "2022-02-06T19:50:46.018Z"
   },
   {
    "duration": 10,
    "start_time": "2022-02-06T19:50:46.073Z"
   },
   {
    "duration": 6,
    "start_time": "2022-02-06T19:50:46.086Z"
   },
   {
    "duration": 386,
    "start_time": "2022-02-06T19:50:46.094Z"
   },
   {
    "duration": 12,
    "start_time": "2022-02-06T19:50:46.482Z"
   },
   {
    "duration": 25,
    "start_time": "2022-02-06T19:50:46.496Z"
   },
   {
    "duration": 53,
    "start_time": "2022-02-06T19:50:46.524Z"
   },
   {
    "duration": 30,
    "start_time": "2022-02-06T19:50:46.580Z"
   },
   {
    "duration": 463,
    "start_time": "2022-02-06T19:50:46.613Z"
   },
   {
    "duration": 11,
    "start_time": "2022-02-06T19:50:47.078Z"
   },
   {
    "duration": 613,
    "start_time": "2022-02-06T19:50:47.092Z"
   },
   {
    "duration": 27,
    "start_time": "2022-02-06T19:50:47.708Z"
   },
   {
    "duration": 600,
    "start_time": "2022-02-06T19:50:47.737Z"
   },
   {
    "duration": 39,
    "start_time": "2022-02-06T19:50:48.339Z"
   },
   {
    "duration": 547,
    "start_time": "2022-02-06T19:50:48.380Z"
   },
   {
    "duration": 41,
    "start_time": "2022-02-06T19:50:48.929Z"
   },
   {
    "duration": 464,
    "start_time": "2022-02-06T19:50:48.972Z"
   },
   {
    "duration": 5,
    "start_time": "2022-02-06T19:50:49.438Z"
   },
   {
    "duration": 411,
    "start_time": "2022-02-06T19:50:49.445Z"
   },
   {
    "duration": 17,
    "start_time": "2022-02-06T19:50:49.858Z"
   },
   {
    "duration": 400,
    "start_time": "2022-02-06T19:50:49.883Z"
   },
   {
    "duration": 10,
    "start_time": "2022-02-06T19:50:50.285Z"
   },
   {
    "duration": 12,
    "start_time": "2022-02-06T19:50:50.298Z"
   },
   {
    "duration": 403,
    "start_time": "2022-02-06T19:50:50.312Z"
   },
   {
    "duration": 405,
    "start_time": "2022-02-06T19:50:50.718Z"
   },
   {
    "duration": 449,
    "start_time": "2022-02-06T19:50:51.126Z"
   },
   {
    "duration": 403,
    "start_time": "2022-02-06T19:50:51.577Z"
   },
   {
    "duration": 10,
    "start_time": "2022-02-06T19:50:51.982Z"
   },
   {
    "duration": 29,
    "start_time": "2022-02-06T19:51:16.988Z"
   },
   {
    "duration": 5,
    "start_time": "2022-02-06T19:51:20.205Z"
   },
   {
    "duration": 28,
    "start_time": "2022-02-06T19:51:25.847Z"
   },
   {
    "duration": 6,
    "start_time": "2022-02-06T19:51:29.646Z"
   },
   {
    "duration": 30,
    "start_time": "2022-02-06T19:51:34.962Z"
   },
   {
    "duration": 4,
    "start_time": "2022-02-06T19:51:39.052Z"
   },
   {
    "duration": 743,
    "start_time": "2022-02-06T19:51:39.058Z"
   },
   {
    "duration": 27,
    "start_time": "2022-02-06T19:51:39.803Z"
   },
   {
    "duration": 10,
    "start_time": "2022-02-06T19:51:39.833Z"
   },
   {
    "duration": 24,
    "start_time": "2022-02-06T19:51:39.845Z"
   },
   {
    "duration": 12,
    "start_time": "2022-02-06T19:51:39.871Z"
   },
   {
    "duration": 10,
    "start_time": "2022-02-06T19:51:39.886Z"
   },
   {
    "duration": 23,
    "start_time": "2022-02-06T19:51:39.899Z"
   },
   {
    "duration": 51,
    "start_time": "2022-02-06T19:51:39.924Z"
   },
   {
    "duration": 10,
    "start_time": "2022-02-06T19:51:39.978Z"
   },
   {
    "duration": 8,
    "start_time": "2022-02-06T19:51:39.990Z"
   },
   {
    "duration": 15,
    "start_time": "2022-02-06T19:51:40.001Z"
   },
   {
    "duration": 51,
    "start_time": "2022-02-06T19:51:40.018Z"
   },
   {
    "duration": 23,
    "start_time": "2022-02-06T19:51:40.071Z"
   },
   {
    "duration": 11,
    "start_time": "2022-02-06T19:51:40.096Z"
   },
   {
    "duration": 11,
    "start_time": "2022-02-06T19:51:40.110Z"
   },
   {
    "duration": 46,
    "start_time": "2022-02-06T19:51:40.123Z"
   },
   {
    "duration": 24,
    "start_time": "2022-02-06T19:51:40.171Z"
   },
   {
    "duration": 4,
    "start_time": "2022-02-06T19:51:40.201Z"
   },
   {
    "duration": 61,
    "start_time": "2022-02-06T19:51:40.209Z"
   },
   {
    "duration": 24,
    "start_time": "2022-02-06T19:51:40.273Z"
   },
   {
    "duration": 144,
    "start_time": "2022-02-06T19:51:40.299Z"
   },
   {
    "duration": 168,
    "start_time": "2022-02-06T19:51:40.445Z"
   },
   {
    "duration": 17,
    "start_time": "2022-02-06T19:51:40.615Z"
   },
   {
    "duration": 270,
    "start_time": "2022-02-06T19:51:40.634Z"
   },
   {
    "duration": 176,
    "start_time": "2022-02-06T19:51:40.907Z"
   },
   {
    "duration": 17,
    "start_time": "2022-02-06T19:51:41.086Z"
   },
   {
    "duration": 152,
    "start_time": "2022-02-06T19:51:41.106Z"
   },
   {
    "duration": 111,
    "start_time": "2022-02-06T19:51:41.260Z"
   },
   {
    "duration": 15,
    "start_time": "2022-02-06T19:51:41.374Z"
   },
   {
    "duration": 158,
    "start_time": "2022-02-06T19:51:41.391Z"
   },
   {
    "duration": 79,
    "start_time": "2022-02-06T19:51:41.552Z"
   },
   {
    "duration": 96,
    "start_time": "2022-02-06T19:51:41.633Z"
   },
   {
    "duration": 9,
    "start_time": "2022-02-06T19:51:41.732Z"
   },
   {
    "duration": 106,
    "start_time": "2022-02-06T19:51:41.743Z"
   },
   {
    "duration": 61,
    "start_time": "2022-02-06T19:51:41.851Z"
   },
   {
    "duration": 58,
    "start_time": "2022-02-06T19:51:41.915Z"
   },
   {
    "duration": 17,
    "start_time": "2022-02-06T19:51:41.976Z"
   },
   {
    "duration": 30,
    "start_time": "2022-02-06T19:51:41.995Z"
   },
   {
    "duration": 5,
    "start_time": "2022-02-06T19:51:42.027Z"
   },
   {
    "duration": 6,
    "start_time": "2022-02-06T19:51:42.070Z"
   },
   {
    "duration": 13,
    "start_time": "2022-02-06T19:51:42.078Z"
   },
   {
    "duration": 22,
    "start_time": "2022-02-06T19:51:42.093Z"
   },
   {
    "duration": 13,
    "start_time": "2022-02-06T19:51:42.117Z"
   },
   {
    "duration": 10,
    "start_time": "2022-02-06T19:51:42.169Z"
   },
   {
    "duration": 23,
    "start_time": "2022-02-06T19:51:42.181Z"
   },
   {
    "duration": 8,
    "start_time": "2022-02-06T19:51:42.206Z"
   },
   {
    "duration": 59,
    "start_time": "2022-02-06T19:51:42.216Z"
   },
   {
    "duration": 11,
    "start_time": "2022-02-06T19:51:42.278Z"
   },
   {
    "duration": 6,
    "start_time": "2022-02-06T19:51:42.292Z"
   },
   {
    "duration": 384,
    "start_time": "2022-02-06T19:51:42.301Z"
   },
   {
    "duration": 11,
    "start_time": "2022-02-06T19:51:42.688Z"
   },
   {
    "duration": 27,
    "start_time": "2022-02-06T19:51:42.702Z"
   },
   {
    "duration": 47,
    "start_time": "2022-02-06T19:51:42.731Z"
   },
   {
    "duration": 44,
    "start_time": "2022-02-06T19:51:42.785Z"
   },
   {
    "duration": 446,
    "start_time": "2022-02-06T19:51:42.831Z"
   },
   {
    "duration": 10,
    "start_time": "2022-02-06T19:51:43.279Z"
   },
   {
    "duration": 614,
    "start_time": "2022-02-06T19:51:43.292Z"
   },
   {
    "duration": 27,
    "start_time": "2022-02-06T19:51:43.908Z"
   },
   {
    "duration": 642,
    "start_time": "2022-02-06T19:51:43.938Z"
   },
   {
    "duration": 37,
    "start_time": "2022-02-06T19:51:44.583Z"
   },
   {
    "duration": 703,
    "start_time": "2022-02-06T19:51:44.624Z"
   },
   {
    "duration": 25,
    "start_time": "2022-02-06T19:51:45.330Z"
   },
   {
    "duration": 461,
    "start_time": "2022-02-06T19:51:45.370Z"
   },
   {
    "duration": 6,
    "start_time": "2022-02-06T19:51:45.834Z"
   },
   {
    "duration": 426,
    "start_time": "2022-02-06T19:51:45.843Z"
   },
   {
    "duration": 12,
    "start_time": "2022-02-06T19:51:46.271Z"
   },
   {
    "duration": 408,
    "start_time": "2022-02-06T19:51:46.286Z"
   },
   {
    "duration": 12,
    "start_time": "2022-02-06T19:51:46.698Z"
   },
   {
    "duration": 11,
    "start_time": "2022-02-06T19:51:46.712Z"
   },
   {
    "duration": 401,
    "start_time": "2022-02-06T19:51:46.725Z"
   },
   {
    "duration": 394,
    "start_time": "2022-02-06T19:51:47.129Z"
   },
   {
    "duration": 460,
    "start_time": "2022-02-06T19:51:47.526Z"
   },
   {
    "duration": 399,
    "start_time": "2022-02-06T19:51:47.988Z"
   },
   {
    "duration": 10,
    "start_time": "2022-02-06T19:51:48.389Z"
   },
   {
    "duration": 427,
    "start_time": "2022-02-06T19:56:19.284Z"
   },
   {
    "duration": 6,
    "start_time": "2022-02-06T20:06:48.117Z"
   },
   {
    "duration": 573,
    "start_time": "2022-02-06T20:07:24.709Z"
   },
   {
    "duration": 369,
    "start_time": "2022-02-06T20:12:37.640Z"
   },
   {
    "duration": 9,
    "start_time": "2022-02-06T20:12:45.578Z"
   },
   {
    "duration": 54,
    "start_time": "2022-02-06T20:18:46.278Z"
   },
   {
    "duration": 65,
    "start_time": "2022-02-06T20:18:57.136Z"
   },
   {
    "duration": 54,
    "start_time": "2022-02-06T20:20:24.630Z"
   },
   {
    "duration": 64,
    "start_time": "2022-02-06T20:20:33.020Z"
   },
   {
    "duration": 62,
    "start_time": "2022-02-06T20:21:16.072Z"
   },
   {
    "duration": 65,
    "start_time": "2022-02-06T20:23:08.901Z"
   },
   {
    "duration": 66,
    "start_time": "2022-02-06T20:23:48.156Z"
   },
   {
    "duration": 89,
    "start_time": "2022-02-06T20:25:23.384Z"
   },
   {
    "duration": 64,
    "start_time": "2022-02-06T20:32:45.059Z"
   },
   {
    "duration": 61,
    "start_time": "2022-02-06T20:32:58.596Z"
   },
   {
    "duration": 360,
    "start_time": "2022-02-06T20:34:06.396Z"
   },
   {
    "duration": 67,
    "start_time": "2022-02-06T20:34:10.871Z"
   },
   {
    "duration": 410,
    "start_time": "2022-02-06T20:34:13.777Z"
   },
   {
    "duration": 12,
    "start_time": "2022-02-06T20:34:45.639Z"
   },
   {
    "duration": 31,
    "start_time": "2022-02-06T20:34:53.045Z"
   },
   {
    "duration": 407,
    "start_time": "2022-02-06T20:38:08.799Z"
   },
   {
    "duration": 315,
    "start_time": "2022-02-06T20:38:50.412Z"
   },
   {
    "duration": 350,
    "start_time": "2022-02-06T20:39:18.837Z"
   },
   {
    "duration": 4,
    "start_time": "2022-02-06T20:39:21.731Z"
   },
   {
    "duration": 774,
    "start_time": "2022-02-06T20:39:21.741Z"
   },
   {
    "duration": 29,
    "start_time": "2022-02-06T20:39:22.518Z"
   },
   {
    "duration": 11,
    "start_time": "2022-02-06T20:39:22.550Z"
   },
   {
    "duration": 24,
    "start_time": "2022-02-06T20:39:22.564Z"
   },
   {
    "duration": 12,
    "start_time": "2022-02-06T20:39:22.590Z"
   },
   {
    "duration": 13,
    "start_time": "2022-02-06T20:39:22.604Z"
   },
   {
    "duration": 57,
    "start_time": "2022-02-06T20:39:22.620Z"
   },
   {
    "duration": 19,
    "start_time": "2022-02-06T20:39:22.680Z"
   },
   {
    "duration": 10,
    "start_time": "2022-02-06T20:39:22.702Z"
   },
   {
    "duration": 9,
    "start_time": "2022-02-06T20:39:22.714Z"
   },
   {
    "duration": 57,
    "start_time": "2022-02-06T20:39:22.725Z"
   },
   {
    "duration": 9,
    "start_time": "2022-02-06T20:39:22.785Z"
   },
   {
    "duration": 13,
    "start_time": "2022-02-06T20:39:22.796Z"
   },
   {
    "duration": 9,
    "start_time": "2022-02-06T20:39:22.812Z"
   },
   {
    "duration": 46,
    "start_time": "2022-02-06T20:39:22.823Z"
   },
   {
    "duration": 17,
    "start_time": "2022-02-06T20:39:22.871Z"
   },
   {
    "duration": 26,
    "start_time": "2022-02-06T20:39:22.891Z"
   },
   {
    "duration": 7,
    "start_time": "2022-02-06T20:39:22.920Z"
   },
   {
    "duration": 64,
    "start_time": "2022-02-06T20:39:22.929Z"
   },
   {
    "duration": 26,
    "start_time": "2022-02-06T20:39:22.995Z"
   },
   {
    "duration": 167,
    "start_time": "2022-02-06T20:39:23.024Z"
   },
   {
    "duration": 169,
    "start_time": "2022-02-06T20:39:23.193Z"
   },
   {
    "duration": 18,
    "start_time": "2022-02-06T20:39:23.373Z"
   },
   {
    "duration": 292,
    "start_time": "2022-02-06T20:39:23.395Z"
   },
   {
    "duration": 172,
    "start_time": "2022-02-06T20:39:23.690Z"
   },
   {
    "duration": 19,
    "start_time": "2022-02-06T20:39:23.865Z"
   },
   {
    "duration": 153,
    "start_time": "2022-02-06T20:39:23.887Z"
   },
   {
    "duration": 118,
    "start_time": "2022-02-06T20:39:24.043Z"
   },
   {
    "duration": 19,
    "start_time": "2022-02-06T20:39:24.164Z"
   },
   {
    "duration": 171,
    "start_time": "2022-02-06T20:39:24.186Z"
   },
   {
    "duration": 77,
    "start_time": "2022-02-06T20:39:24.360Z"
   },
   {
    "duration": 90,
    "start_time": "2022-02-06T20:39:24.439Z"
   },
   {
    "duration": 10,
    "start_time": "2022-02-06T20:39:24.531Z"
   },
   {
    "duration": 115,
    "start_time": "2022-02-06T20:39:24.543Z"
   },
   {
    "duration": 50,
    "start_time": "2022-02-06T20:39:24.669Z"
   },
   {
    "duration": 66,
    "start_time": "2022-02-06T20:39:24.721Z"
   },
   {
    "duration": 17,
    "start_time": "2022-02-06T20:39:24.790Z"
   },
   {
    "duration": 36,
    "start_time": "2022-02-06T20:39:24.810Z"
   },
   {
    "duration": 5,
    "start_time": "2022-02-06T20:39:24.869Z"
   },
   {
    "duration": 9,
    "start_time": "2022-02-06T20:39:24.877Z"
   },
   {
    "duration": 13,
    "start_time": "2022-02-06T20:39:24.889Z"
   },
   {
    "duration": 66,
    "start_time": "2022-02-06T20:39:24.905Z"
   },
   {
    "duration": 17,
    "start_time": "2022-02-06T20:39:24.974Z"
   },
   {
    "duration": 12,
    "start_time": "2022-02-06T20:39:24.994Z"
   },
   {
    "duration": 19,
    "start_time": "2022-02-06T20:39:25.008Z"
   },
   {
    "duration": 42,
    "start_time": "2022-02-06T20:39:25.030Z"
   },
   {
    "duration": 22,
    "start_time": "2022-02-06T20:39:25.075Z"
   },
   {
    "duration": 11,
    "start_time": "2022-02-06T20:39:25.099Z"
   },
   {
    "duration": 7,
    "start_time": "2022-02-06T20:39:25.113Z"
   },
   {
    "duration": 389,
    "start_time": "2022-02-06T20:39:25.122Z"
   },
   {
    "duration": 10,
    "start_time": "2022-02-06T20:39:25.515Z"
   },
   {
    "duration": 45,
    "start_time": "2022-02-06T20:39:25.527Z"
   },
   {
    "duration": 22,
    "start_time": "2022-02-06T20:39:25.575Z"
   },
   {
    "duration": 28,
    "start_time": "2022-02-06T20:39:25.600Z"
   },
   {
    "duration": 547,
    "start_time": "2022-02-06T20:39:25.631Z"
   },
   {
    "duration": 13,
    "start_time": "2022-02-06T20:39:26.180Z"
   },
   {
    "duration": 629,
    "start_time": "2022-02-06T20:39:26.195Z"
   },
   {
    "duration": 44,
    "start_time": "2022-02-06T20:39:26.827Z"
   },
   {
    "duration": 68,
    "start_time": "2022-02-06T20:39:26.874Z"
   },
   {
    "duration": 627,
    "start_time": "2022-02-06T20:39:26.945Z"
   },
   {
    "duration": 25,
    "start_time": "2022-02-06T20:39:27.575Z"
   },
   {
    "duration": 88,
    "start_time": "2022-02-06T20:39:27.603Z"
   },
   {
    "duration": 6,
    "start_time": "2022-02-06T20:39:27.693Z"
   },
   {
    "duration": 591,
    "start_time": "2022-02-06T20:39:27.702Z"
   },
   {
    "duration": 553,
    "start_time": "2022-02-06T20:39:28.295Z"
   },
   {
    "duration": 39,
    "start_time": "2022-02-06T20:39:28.851Z"
   },
   {
    "duration": 79,
    "start_time": "2022-02-06T20:39:28.893Z"
   },
   {
    "duration": 463,
    "start_time": "2022-02-06T20:39:28.979Z"
   },
   {
    "duration": 5,
    "start_time": "2022-02-06T20:39:29.444Z"
   },
   {
    "duration": 449,
    "start_time": "2022-02-06T20:39:29.452Z"
   },
   {
    "duration": 9,
    "start_time": "2022-02-06T20:39:29.903Z"
   },
   {
    "duration": 395,
    "start_time": "2022-02-06T20:39:29.914Z"
   },
   {
    "duration": 79,
    "start_time": "2022-02-06T20:39:30.312Z"
   },
   {
    "duration": 60,
    "start_time": "2022-02-06T20:39:30.394Z"
   },
   {
    "duration": 80,
    "start_time": "2022-02-06T20:39:30.457Z"
   },
   {
    "duration": 11,
    "start_time": "2022-02-06T20:39:30.540Z"
   },
   {
    "duration": 21,
    "start_time": "2022-02-06T20:39:30.554Z"
   },
   {
    "duration": 377,
    "start_time": "2022-02-06T20:39:30.577Z"
   },
   {
    "duration": 626,
    "start_time": "2022-02-06T20:39:30.957Z"
   },
   {
    "duration": 564,
    "start_time": "2022-02-06T20:39:31.585Z"
   },
   {
    "duration": 412,
    "start_time": "2022-02-06T20:39:32.151Z"
   },
   {
    "duration": 10,
    "start_time": "2022-02-06T20:39:32.569Z"
   },
   {
    "duration": 389,
    "start_time": "2022-02-06T20:41:38.918Z"
   },
   {
    "duration": 7,
    "start_time": "2022-02-06T20:42:05.703Z"
   },
   {
    "duration": 337,
    "start_time": "2022-02-06T20:42:16.601Z"
   },
   {
    "duration": 5,
    "start_time": "2022-02-06T20:42:38.151Z"
   },
   {
    "duration": 9,
    "start_time": "2022-02-06T20:43:38.179Z"
   },
   {
    "duration": 10,
    "start_time": "2022-02-06T20:44:02.983Z"
   },
   {
    "duration": 4,
    "start_time": "2022-02-06T20:48:16.575Z"
   },
   {
    "duration": 784,
    "start_time": "2022-02-06T20:48:16.582Z"
   },
   {
    "duration": 29,
    "start_time": "2022-02-06T20:48:17.370Z"
   },
   {
    "duration": 12,
    "start_time": "2022-02-06T20:48:17.403Z"
   },
   {
    "duration": 58,
    "start_time": "2022-02-06T20:48:17.418Z"
   },
   {
    "duration": 13,
    "start_time": "2022-02-06T20:48:17.479Z"
   },
   {
    "duration": 11,
    "start_time": "2022-02-06T20:48:17.497Z"
   },
   {
    "duration": 61,
    "start_time": "2022-02-06T20:48:17.511Z"
   },
   {
    "duration": 22,
    "start_time": "2022-02-06T20:48:17.576Z"
   },
   {
    "duration": 12,
    "start_time": "2022-02-06T20:48:17.601Z"
   },
   {
    "duration": 10,
    "start_time": "2022-02-06T20:48:17.616Z"
   },
   {
    "duration": 17,
    "start_time": "2022-02-06T20:48:17.670Z"
   },
   {
    "duration": 9,
    "start_time": "2022-02-06T20:48:17.690Z"
   },
   {
    "duration": 12,
    "start_time": "2022-02-06T20:48:17.701Z"
   },
   {
    "duration": 54,
    "start_time": "2022-02-06T20:48:17.715Z"
   },
   {
    "duration": 8,
    "start_time": "2022-02-06T20:48:17.772Z"
   },
   {
    "duration": 18,
    "start_time": "2022-02-06T20:48:17.782Z"
   },
   {
    "duration": 26,
    "start_time": "2022-02-06T20:48:17.804Z"
   },
   {
    "duration": 38,
    "start_time": "2022-02-06T20:48:17.835Z"
   },
   {
    "duration": 27,
    "start_time": "2022-02-06T20:48:17.877Z"
   },
   {
    "duration": 25,
    "start_time": "2022-02-06T20:48:17.906Z"
   },
   {
    "duration": 148,
    "start_time": "2022-02-06T20:48:17.933Z"
   },
   {
    "duration": 165,
    "start_time": "2022-02-06T20:48:18.083Z"
   },
   {
    "duration": 30,
    "start_time": "2022-02-06T20:48:18.250Z"
   },
   {
    "duration": 264,
    "start_time": "2022-02-06T20:48:18.282Z"
   },
   {
    "duration": 166,
    "start_time": "2022-02-06T20:48:18.549Z"
   },
   {
    "duration": 16,
    "start_time": "2022-02-06T20:48:18.718Z"
   },
   {
    "duration": 151,
    "start_time": "2022-02-06T20:48:18.737Z"
   },
   {
    "duration": 123,
    "start_time": "2022-02-06T20:48:18.891Z"
   },
   {
    "duration": 17,
    "start_time": "2022-02-06T20:48:19.017Z"
   },
   {
    "duration": 170,
    "start_time": "2022-02-06T20:48:19.037Z"
   },
   {
    "duration": 84,
    "start_time": "2022-02-06T20:48:19.209Z"
   },
   {
    "duration": 96,
    "start_time": "2022-02-06T20:48:19.296Z"
   },
   {
    "duration": 11,
    "start_time": "2022-02-06T20:48:19.394Z"
   },
   {
    "duration": 115,
    "start_time": "2022-02-06T20:48:19.408Z"
   },
   {
    "duration": 68,
    "start_time": "2022-02-06T20:48:19.526Z"
   },
   {
    "duration": 48,
    "start_time": "2022-02-06T20:48:19.597Z"
   },
   {
    "duration": 20,
    "start_time": "2022-02-06T20:48:19.668Z"
   },
   {
    "duration": 30,
    "start_time": "2022-02-06T20:48:19.691Z"
   },
   {
    "duration": 5,
    "start_time": "2022-02-06T20:48:19.723Z"
   },
   {
    "duration": 41,
    "start_time": "2022-02-06T20:48:19.730Z"
   },
   {
    "duration": 13,
    "start_time": "2022-02-06T20:48:19.774Z"
   },
   {
    "duration": 19,
    "start_time": "2022-02-06T20:48:19.790Z"
   },
   {
    "duration": 14,
    "start_time": "2022-02-06T20:48:19.812Z"
   },
   {
    "duration": 11,
    "start_time": "2022-02-06T20:48:19.868Z"
   },
   {
    "duration": 21,
    "start_time": "2022-02-06T20:48:19.881Z"
   },
   {
    "duration": 11,
    "start_time": "2022-02-06T20:48:19.905Z"
   },
   {
    "duration": 50,
    "start_time": "2022-02-06T20:48:19.919Z"
   },
   {
    "duration": 11,
    "start_time": "2022-02-06T20:48:19.971Z"
   },
   {
    "duration": 8,
    "start_time": "2022-02-06T20:48:19.985Z"
   },
   {
    "duration": 380,
    "start_time": "2022-02-06T20:48:19.995Z"
   },
   {
    "duration": 12,
    "start_time": "2022-02-06T20:48:20.378Z"
   },
   {
    "duration": 25,
    "start_time": "2022-02-06T20:48:20.393Z"
   },
   {
    "duration": 54,
    "start_time": "2022-02-06T20:48:20.421Z"
   },
   {
    "duration": 25,
    "start_time": "2022-02-06T20:48:20.482Z"
   },
   {
    "duration": 459,
    "start_time": "2022-02-06T20:48:20.510Z"
   },
   {
    "duration": 11,
    "start_time": "2022-02-06T20:48:20.972Z"
   },
   {
    "duration": 612,
    "start_time": "2022-02-06T20:48:20.986Z"
   },
   {
    "duration": 25,
    "start_time": "2022-02-06T20:48:21.600Z"
   },
   {
    "duration": 86,
    "start_time": "2022-02-06T20:48:21.628Z"
   },
   {
    "duration": 609,
    "start_time": "2022-02-06T20:48:21.716Z"
   },
   {
    "duration": 45,
    "start_time": "2022-02-06T20:48:22.328Z"
   },
   {
    "duration": 63,
    "start_time": "2022-02-06T20:48:22.376Z"
   },
   {
    "duration": 6,
    "start_time": "2022-02-06T20:48:22.442Z"
   },
   {
    "duration": 592,
    "start_time": "2022-02-06T20:48:22.469Z"
   },
   {
    "duration": 564,
    "start_time": "2022-02-06T20:48:23.063Z"
   },
   {
    "duration": 39,
    "start_time": "2022-02-06T20:48:23.630Z"
   },
   {
    "duration": 63,
    "start_time": "2022-02-06T20:48:23.672Z"
   },
   {
    "duration": 813,
    "start_time": "2022-02-06T20:48:23.738Z"
   },
   {
    "duration": 4,
    "start_time": "2022-02-06T20:48:24.553Z"
   },
   {
    "duration": 414,
    "start_time": "2022-02-06T20:48:24.560Z"
   },
   {
    "duration": 11,
    "start_time": "2022-02-06T20:48:24.977Z"
   },
   {
    "duration": 403,
    "start_time": "2022-02-06T20:48:24.991Z"
   },
   {
    "duration": 80,
    "start_time": "2022-02-06T20:48:25.396Z"
   },
   {
    "duration": 62,
    "start_time": "2022-02-06T20:48:25.478Z"
   },
   {
    "duration": 85,
    "start_time": "2022-02-06T20:48:25.543Z"
   },
   {
    "duration": 10,
    "start_time": "2022-02-06T20:48:25.630Z"
   },
   {
    "duration": 32,
    "start_time": "2022-02-06T20:48:25.642Z"
   },
   {
    "duration": 417,
    "start_time": "2022-02-06T20:48:25.676Z"
   },
   {
    "duration": 404,
    "start_time": "2022-02-06T20:48:26.096Z"
   },
   {
    "duration": 388,
    "start_time": "2022-02-06T20:48:26.502Z"
   },
   {
    "duration": 394,
    "start_time": "2022-02-06T20:48:26.893Z"
   },
   {
    "duration": 9,
    "start_time": "2022-02-06T20:48:27.290Z"
   },
   {
    "duration": 11,
    "start_time": "2022-02-06T20:48:27.301Z"
   },
   {
    "duration": 11,
    "start_time": "2022-02-06T20:48:27.314Z"
   },
   {
    "duration": 6,
    "start_time": "2022-02-06T20:50:45.668Z"
   },
   {
    "duration": 74,
    "start_time": "2022-02-06T20:51:06.294Z"
   },
   {
    "duration": 5,
    "start_time": "2022-02-06T20:51:19.082Z"
   },
   {
    "duration": 61,
    "start_time": "2022-02-06T20:51:22.015Z"
   },
   {
    "duration": 69,
    "start_time": "2022-02-06T20:52:08.598Z"
   },
   {
    "duration": 88,
    "start_time": "2022-02-06T20:52:46.563Z"
   },
   {
    "duration": 84,
    "start_time": "2022-02-06T20:53:47.045Z"
   },
   {
    "duration": 675,
    "start_time": "2022-02-06T20:54:53.589Z"
   },
   {
    "duration": 605,
    "start_time": "2022-02-06T20:55:30.304Z"
   },
   {
    "duration": 4,
    "start_time": "2022-02-06T20:55:33.331Z"
   },
   {
    "duration": 764,
    "start_time": "2022-02-06T20:55:33.341Z"
   },
   {
    "duration": 29,
    "start_time": "2022-02-06T20:55:34.108Z"
   },
   {
    "duration": 11,
    "start_time": "2022-02-06T20:55:34.141Z"
   },
   {
    "duration": 32,
    "start_time": "2022-02-06T20:55:34.154Z"
   },
   {
    "duration": 12,
    "start_time": "2022-02-06T20:55:34.189Z"
   },
   {
    "duration": 15,
    "start_time": "2022-02-06T20:55:34.204Z"
   },
   {
    "duration": 24,
    "start_time": "2022-02-06T20:55:34.222Z"
   },
   {
    "duration": 20,
    "start_time": "2022-02-06T20:55:34.271Z"
   },
   {
    "duration": 10,
    "start_time": "2022-02-06T20:55:34.295Z"
   },
   {
    "duration": 10,
    "start_time": "2022-02-06T20:55:34.308Z"
   },
   {
    "duration": 59,
    "start_time": "2022-02-06T20:55:34.321Z"
   },
   {
    "duration": 10,
    "start_time": "2022-02-06T20:55:34.383Z"
   },
   {
    "duration": 14,
    "start_time": "2022-02-06T20:55:34.395Z"
   },
   {
    "duration": 10,
    "start_time": "2022-02-06T20:55:34.412Z"
   },
   {
    "duration": 51,
    "start_time": "2022-02-06T20:55:34.424Z"
   },
   {
    "duration": 17,
    "start_time": "2022-02-06T20:55:34.478Z"
   },
   {
    "duration": 23,
    "start_time": "2022-02-06T20:55:34.497Z"
   },
   {
    "duration": 4,
    "start_time": "2022-02-06T20:55:34.523Z"
   },
   {
    "duration": 67,
    "start_time": "2022-02-06T20:55:34.530Z"
   },
   {
    "duration": 23,
    "start_time": "2022-02-06T20:55:34.599Z"
   },
   {
    "duration": 134,
    "start_time": "2022-02-06T20:55:34.625Z"
   },
   {
    "duration": 182,
    "start_time": "2022-02-06T20:55:34.761Z"
   },
   {
    "duration": 31,
    "start_time": "2022-02-06T20:55:34.951Z"
   },
   {
    "duration": 290,
    "start_time": "2022-02-06T20:55:34.988Z"
   },
   {
    "duration": 174,
    "start_time": "2022-02-06T20:55:35.282Z"
   },
   {
    "duration": 23,
    "start_time": "2022-02-06T20:55:35.459Z"
   },
   {
    "duration": 145,
    "start_time": "2022-02-06T20:55:35.485Z"
   },
   {
    "duration": 125,
    "start_time": "2022-02-06T20:55:35.633Z"
   },
   {
    "duration": 20,
    "start_time": "2022-02-06T20:55:35.761Z"
   },
   {
    "duration": 161,
    "start_time": "2022-02-06T20:55:35.783Z"
   },
   {
    "duration": 86,
    "start_time": "2022-02-06T20:55:35.947Z"
   },
   {
    "duration": 94,
    "start_time": "2022-02-06T20:55:36.036Z"
   },
   {
    "duration": 9,
    "start_time": "2022-02-06T20:55:36.132Z"
   },
   {
    "duration": 108,
    "start_time": "2022-02-06T20:55:36.144Z"
   },
   {
    "duration": 61,
    "start_time": "2022-02-06T20:55:36.255Z"
   },
   {
    "duration": 64,
    "start_time": "2022-02-06T20:55:36.319Z"
   },
   {
    "duration": 16,
    "start_time": "2022-02-06T20:55:36.386Z"
   },
   {
    "duration": 31,
    "start_time": "2022-02-06T20:55:36.405Z"
   },
   {
    "duration": 32,
    "start_time": "2022-02-06T20:55:36.439Z"
   },
   {
    "duration": 8,
    "start_time": "2022-02-06T20:55:36.474Z"
   },
   {
    "duration": 12,
    "start_time": "2022-02-06T20:55:36.485Z"
   },
   {
    "duration": 22,
    "start_time": "2022-02-06T20:55:36.499Z"
   },
   {
    "duration": 55,
    "start_time": "2022-02-06T20:55:36.523Z"
   },
   {
    "duration": 10,
    "start_time": "2022-02-06T20:55:36.580Z"
   },
   {
    "duration": 19,
    "start_time": "2022-02-06T20:55:36.592Z"
   },
   {
    "duration": 7,
    "start_time": "2022-02-06T20:55:36.614Z"
   },
   {
    "duration": 58,
    "start_time": "2022-02-06T20:55:36.623Z"
   },
   {
    "duration": 12,
    "start_time": "2022-02-06T20:55:36.683Z"
   },
   {
    "duration": 6,
    "start_time": "2022-02-06T20:55:36.697Z"
   },
   {
    "duration": 386,
    "start_time": "2022-02-06T20:55:36.705Z"
   },
   {
    "duration": 10,
    "start_time": "2022-02-06T20:55:37.093Z"
   },
   {
    "duration": 27,
    "start_time": "2022-02-06T20:55:37.106Z"
   },
   {
    "duration": 44,
    "start_time": "2022-02-06T20:55:37.135Z"
   },
   {
    "duration": 28,
    "start_time": "2022-02-06T20:55:37.182Z"
   },
   {
    "duration": 451,
    "start_time": "2022-02-06T20:55:37.212Z"
   },
   {
    "duration": 10,
    "start_time": "2022-02-06T20:55:37.669Z"
   },
   {
    "duration": 609,
    "start_time": "2022-02-06T20:55:37.682Z"
   },
   {
    "duration": 27,
    "start_time": "2022-02-06T20:55:38.294Z"
   },
   {
    "duration": 5,
    "start_time": "2022-02-06T20:55:38.323Z"
   },
   {
    "duration": 98,
    "start_time": "2022-02-06T20:55:38.330Z"
   },
   {
    "duration": 582,
    "start_time": "2022-02-06T20:55:38.430Z"
   },
   {
    "duration": 26,
    "start_time": "2022-02-06T20:55:39.014Z"
   },
   {
    "duration": 80,
    "start_time": "2022-02-06T20:55:39.042Z"
   },
   {
    "duration": 6,
    "start_time": "2022-02-06T20:55:39.124Z"
   },
   {
    "duration": 583,
    "start_time": "2022-02-06T20:55:39.132Z"
   },
   {
    "duration": 552,
    "start_time": "2022-02-06T20:55:39.717Z"
   },
   {
    "duration": 26,
    "start_time": "2022-02-06T20:55:40.271Z"
   },
   {
    "duration": 80,
    "start_time": "2022-02-06T20:55:40.305Z"
   },
   {
    "duration": 561,
    "start_time": "2022-02-06T20:55:40.388Z"
   },
   {
    "duration": 6,
    "start_time": "2022-02-06T20:55:40.952Z"
   },
   {
    "duration": 418,
    "start_time": "2022-02-06T20:55:40.960Z"
   },
   {
    "duration": 10,
    "start_time": "2022-02-06T20:55:41.380Z"
   },
   {
    "duration": 401,
    "start_time": "2022-02-06T20:55:41.392Z"
   },
   {
    "duration": 76,
    "start_time": "2022-02-06T20:55:41.795Z"
   },
   {
    "duration": 64,
    "start_time": "2022-02-06T20:55:41.873Z"
   },
   {
    "duration": 86,
    "start_time": "2022-02-06T20:55:41.939Z"
   },
   {
    "duration": 85,
    "start_time": "2022-02-06T20:55:42.028Z"
   },
   {
    "duration": 10,
    "start_time": "2022-02-06T20:55:42.116Z"
   },
   {
    "duration": 40,
    "start_time": "2022-02-06T20:55:42.129Z"
   },
   {
    "duration": 392,
    "start_time": "2022-02-06T20:55:42.172Z"
   },
   {
    "duration": 405,
    "start_time": "2022-02-06T20:55:42.567Z"
   },
   {
    "duration": 405,
    "start_time": "2022-02-06T20:55:42.975Z"
   },
   {
    "duration": 400,
    "start_time": "2022-02-06T20:55:43.382Z"
   },
   {
    "duration": 11,
    "start_time": "2022-02-06T20:55:43.785Z"
   },
   {
    "duration": 5,
    "start_time": "2022-02-06T20:55:43.798Z"
   },
   {
    "duration": 9,
    "start_time": "2022-02-06T20:55:43.806Z"
   },
   {
    "duration": 667,
    "start_time": "2022-02-06T20:56:36.462Z"
   },
   {
    "duration": 587,
    "start_time": "2022-02-06T20:56:58.730Z"
   },
   {
    "duration": 4,
    "start_time": "2022-02-06T20:57:01.585Z"
   },
   {
    "duration": 773,
    "start_time": "2022-02-06T20:57:01.593Z"
   },
   {
    "duration": 26,
    "start_time": "2022-02-06T20:57:02.369Z"
   },
   {
    "duration": 12,
    "start_time": "2022-02-06T20:57:02.398Z"
   },
   {
    "duration": 27,
    "start_time": "2022-02-06T20:57:02.413Z"
   },
   {
    "duration": 13,
    "start_time": "2022-02-06T20:57:02.470Z"
   },
   {
    "duration": 22,
    "start_time": "2022-02-06T20:57:02.486Z"
   },
   {
    "duration": 27,
    "start_time": "2022-02-06T20:57:02.512Z"
   },
   {
    "duration": 42,
    "start_time": "2022-02-06T20:57:02.541Z"
   },
   {
    "duration": 15,
    "start_time": "2022-02-06T20:57:02.585Z"
   },
   {
    "duration": 17,
    "start_time": "2022-02-06T20:57:02.603Z"
   },
   {
    "duration": 46,
    "start_time": "2022-02-06T20:57:02.622Z"
   },
   {
    "duration": 23,
    "start_time": "2022-02-06T20:57:02.670Z"
   },
   {
    "duration": 18,
    "start_time": "2022-02-06T20:57:02.695Z"
   },
   {
    "duration": 12,
    "start_time": "2022-02-06T20:57:02.716Z"
   },
   {
    "duration": 9,
    "start_time": "2022-02-06T20:57:02.730Z"
   },
   {
    "duration": 38,
    "start_time": "2022-02-06T20:57:02.741Z"
   },
   {
    "duration": 30,
    "start_time": "2022-02-06T20:57:02.782Z"
   },
   {
    "duration": 5,
    "start_time": "2022-02-06T20:57:02.820Z"
   },
   {
    "duration": 53,
    "start_time": "2022-02-06T20:57:02.829Z"
   },
   {
    "duration": 25,
    "start_time": "2022-02-06T20:57:02.884Z"
   },
   {
    "duration": 159,
    "start_time": "2022-02-06T20:57:02.912Z"
   },
   {
    "duration": 197,
    "start_time": "2022-02-06T20:57:03.073Z"
   },
   {
    "duration": 20,
    "start_time": "2022-02-06T20:57:03.273Z"
   },
   {
    "duration": 279,
    "start_time": "2022-02-06T20:57:03.295Z"
   },
   {
    "duration": 169,
    "start_time": "2022-02-06T20:57:03.576Z"
   },
   {
    "duration": 22,
    "start_time": "2022-02-06T20:57:03.748Z"
   },
   {
    "duration": 133,
    "start_time": "2022-02-06T20:57:03.773Z"
   },
   {
    "duration": 111,
    "start_time": "2022-02-06T20:57:03.909Z"
   },
   {
    "duration": 15,
    "start_time": "2022-02-06T20:57:04.022Z"
   },
   {
    "duration": 162,
    "start_time": "2022-02-06T20:57:04.039Z"
   },
   {
    "duration": 83,
    "start_time": "2022-02-06T20:57:04.204Z"
   },
   {
    "duration": 94,
    "start_time": "2022-02-06T20:57:04.289Z"
   },
   {
    "duration": 10,
    "start_time": "2022-02-06T20:57:04.386Z"
   },
   {
    "duration": 119,
    "start_time": "2022-02-06T20:57:04.399Z"
   },
   {
    "duration": 74,
    "start_time": "2022-02-06T20:57:04.521Z"
   },
   {
    "duration": 47,
    "start_time": "2022-02-06T20:57:04.598Z"
   },
   {
    "duration": 17,
    "start_time": "2022-02-06T20:57:04.668Z"
   },
   {
    "duration": 29,
    "start_time": "2022-02-06T20:57:04.687Z"
   },
   {
    "duration": 5,
    "start_time": "2022-02-06T20:57:04.718Z"
   },
   {
    "duration": 7,
    "start_time": "2022-02-06T20:57:04.725Z"
   },
   {
    "duration": 13,
    "start_time": "2022-02-06T20:57:04.771Z"
   },
   {
    "duration": 23,
    "start_time": "2022-02-06T20:57:04.787Z"
   },
   {
    "duration": 15,
    "start_time": "2022-02-06T20:57:04.813Z"
   },
   {
    "duration": 47,
    "start_time": "2022-02-06T20:57:04.830Z"
   },
   {
    "duration": 20,
    "start_time": "2022-02-06T20:57:04.880Z"
   },
   {
    "duration": 7,
    "start_time": "2022-02-06T20:57:04.902Z"
   },
   {
    "duration": 22,
    "start_time": "2022-02-06T20:57:04.911Z"
   },
   {
    "duration": 43,
    "start_time": "2022-02-06T20:57:04.936Z"
   },
   {
    "duration": 7,
    "start_time": "2022-02-06T20:57:04.981Z"
   },
   {
    "duration": 371,
    "start_time": "2022-02-06T20:57:04.990Z"
   },
   {
    "duration": 11,
    "start_time": "2022-02-06T20:57:05.364Z"
   },
   {
    "duration": 27,
    "start_time": "2022-02-06T20:57:05.378Z"
   },
   {
    "duration": 25,
    "start_time": "2022-02-06T20:57:05.408Z"
   },
   {
    "duration": 49,
    "start_time": "2022-02-06T20:57:05.440Z"
   },
   {
    "duration": 468,
    "start_time": "2022-02-06T20:57:05.492Z"
   },
   {
    "duration": 16,
    "start_time": "2022-02-06T20:57:05.962Z"
   },
   {
    "duration": 597,
    "start_time": "2022-02-06T20:57:05.981Z"
   },
   {
    "duration": 25,
    "start_time": "2022-02-06T20:57:06.581Z"
   },
   {
    "duration": 5,
    "start_time": "2022-02-06T20:57:06.608Z"
   },
   {
    "duration": 95,
    "start_time": "2022-02-06T20:57:06.616Z"
   },
   {
    "duration": 590,
    "start_time": "2022-02-06T20:57:06.714Z"
   },
   {
    "duration": 26,
    "start_time": "2022-02-06T20:57:07.307Z"
   },
   {
    "duration": 80,
    "start_time": "2022-02-06T20:57:07.335Z"
   },
   {
    "duration": 6,
    "start_time": "2022-02-06T20:57:07.417Z"
   },
   {
    "duration": 590,
    "start_time": "2022-02-06T20:57:07.425Z"
   },
   {
    "duration": 543,
    "start_time": "2022-02-06T20:57:08.017Z"
   },
   {
    "duration": 26,
    "start_time": "2022-02-06T20:57:08.569Z"
   },
   {
    "duration": 76,
    "start_time": "2022-02-06T20:57:08.598Z"
   },
   {
    "duration": 448,
    "start_time": "2022-02-06T20:57:08.676Z"
   },
   {
    "duration": 5,
    "start_time": "2022-02-06T20:57:09.126Z"
   },
   {
    "duration": 410,
    "start_time": "2022-02-06T20:57:09.134Z"
   },
   {
    "duration": 9,
    "start_time": "2022-02-06T20:57:09.546Z"
   },
   {
    "duration": 646,
    "start_time": "2022-02-06T20:57:09.557Z"
   },
   {
    "duration": 75,
    "start_time": "2022-02-06T20:57:10.205Z"
   },
   {
    "duration": 57,
    "start_time": "2022-02-06T20:57:10.282Z"
   },
   {
    "duration": 79,
    "start_time": "2022-02-06T20:57:10.341Z"
   },
   {
    "duration": 10,
    "start_time": "2022-02-06T20:57:10.422Z"
   },
   {
    "duration": 39,
    "start_time": "2022-02-06T20:57:10.434Z"
   },
   {
    "duration": 376,
    "start_time": "2022-02-06T20:57:10.475Z"
   },
   {
    "duration": 400,
    "start_time": "2022-02-06T20:57:10.853Z"
   },
   {
    "duration": 391,
    "start_time": "2022-02-06T20:57:11.255Z"
   },
   {
    "duration": 405,
    "start_time": "2022-02-06T20:57:11.649Z"
   },
   {
    "duration": 74,
    "start_time": "2022-02-06T20:57:12.057Z"
   },
   {
    "duration": 88,
    "start_time": "2022-02-06T20:57:12.134Z"
   },
   {
    "duration": 10,
    "start_time": "2022-02-06T20:57:12.224Z"
   },
   {
    "duration": 12,
    "start_time": "2022-02-06T20:57:12.237Z"
   },
   {
    "duration": 25,
    "start_time": "2022-02-06T20:57:12.252Z"
   },
   {
    "duration": 11,
    "start_time": "2022-02-06T20:59:48.192Z"
   },
   {
    "duration": 12,
    "start_time": "2022-02-06T20:59:54.934Z"
   },
   {
    "duration": 11,
    "start_time": "2022-02-06T21:00:01.235Z"
   },
   {
    "duration": 12,
    "start_time": "2022-02-06T21:02:21.479Z"
   },
   {
    "duration": 21,
    "start_time": "2022-02-06T21:02:28.152Z"
   },
   {
    "duration": 297,
    "start_time": "2022-02-06T21:03:22.691Z"
   },
   {
    "duration": 4,
    "start_time": "2022-02-06T21:03:28.235Z"
   },
   {
    "duration": 755,
    "start_time": "2022-02-06T21:03:28.242Z"
   },
   {
    "duration": 41,
    "start_time": "2022-02-06T21:03:29.001Z"
   },
   {
    "duration": 11,
    "start_time": "2022-02-06T21:03:29.045Z"
   },
   {
    "duration": 26,
    "start_time": "2022-02-06T21:03:29.058Z"
   },
   {
    "duration": 12,
    "start_time": "2022-02-06T21:03:29.086Z"
   },
   {
    "duration": 12,
    "start_time": "2022-02-06T21:03:29.101Z"
   },
   {
    "duration": 53,
    "start_time": "2022-02-06T21:03:29.116Z"
   },
   {
    "duration": 19,
    "start_time": "2022-02-06T21:03:29.172Z"
   },
   {
    "duration": 11,
    "start_time": "2022-02-06T21:03:29.194Z"
   },
   {
    "duration": 10,
    "start_time": "2022-02-06T21:03:29.208Z"
   },
   {
    "duration": 60,
    "start_time": "2022-02-06T21:03:29.221Z"
   },
   {
    "duration": 11,
    "start_time": "2022-02-06T21:03:29.284Z"
   },
   {
    "duration": 15,
    "start_time": "2022-02-06T21:03:29.298Z"
   },
   {
    "duration": 10,
    "start_time": "2022-02-06T21:03:29.315Z"
   },
   {
    "duration": 10,
    "start_time": "2022-02-06T21:03:29.370Z"
   },
   {
    "duration": 20,
    "start_time": "2022-02-06T21:03:29.383Z"
   },
   {
    "duration": 29,
    "start_time": "2022-02-06T21:03:29.406Z"
   },
   {
    "duration": 5,
    "start_time": "2022-02-06T21:03:29.475Z"
   },
   {
    "duration": 39,
    "start_time": "2022-02-06T21:03:29.485Z"
   },
   {
    "duration": 57,
    "start_time": "2022-02-06T21:03:29.527Z"
   },
   {
    "duration": 133,
    "start_time": "2022-02-06T21:03:29.586Z"
   },
   {
    "duration": 170,
    "start_time": "2022-02-06T21:03:29.721Z"
   },
   {
    "duration": 19,
    "start_time": "2022-02-06T21:03:29.893Z"
   },
   {
    "duration": 308,
    "start_time": "2022-02-06T21:03:29.914Z"
   },
   {
    "duration": 174,
    "start_time": "2022-02-06T21:03:30.224Z"
   },
   {
    "duration": 14,
    "start_time": "2022-02-06T21:03:30.401Z"
   },
   {
    "duration": 144,
    "start_time": "2022-02-06T21:03:30.417Z"
   },
   {
    "duration": 116,
    "start_time": "2022-02-06T21:03:30.570Z"
   },
   {
    "duration": 15,
    "start_time": "2022-02-06T21:03:30.688Z"
   },
   {
    "duration": 190,
    "start_time": "2022-02-06T21:03:30.706Z"
   },
   {
    "duration": 94,
    "start_time": "2022-02-06T21:03:30.898Z"
   },
   {
    "duration": 129,
    "start_time": "2022-02-06T21:03:30.996Z"
   },
   {
    "duration": 13,
    "start_time": "2022-02-06T21:03:31.129Z"
   },
   {
    "duration": 125,
    "start_time": "2022-02-06T21:03:31.145Z"
   },
   {
    "duration": 54,
    "start_time": "2022-02-06T21:03:31.273Z"
   },
   {
    "duration": 71,
    "start_time": "2022-02-06T21:03:31.329Z"
   },
   {
    "duration": 17,
    "start_time": "2022-02-06T21:03:31.403Z"
   },
   {
    "duration": 59,
    "start_time": "2022-02-06T21:03:31.423Z"
   },
   {
    "duration": 6,
    "start_time": "2022-02-06T21:03:31.484Z"
   },
   {
    "duration": 10,
    "start_time": "2022-02-06T21:03:31.494Z"
   },
   {
    "duration": 13,
    "start_time": "2022-02-06T21:03:31.507Z"
   },
   {
    "duration": 66,
    "start_time": "2022-02-06T21:03:31.522Z"
   },
   {
    "duration": 21,
    "start_time": "2022-02-06T21:03:31.591Z"
   },
   {
    "duration": 15,
    "start_time": "2022-02-06T21:03:31.615Z"
   },
   {
    "duration": 55,
    "start_time": "2022-02-06T21:03:31.633Z"
   },
   {
    "duration": 10,
    "start_time": "2022-02-06T21:03:31.691Z"
   },
   {
    "duration": 23,
    "start_time": "2022-02-06T21:03:31.704Z"
   },
   {
    "duration": 45,
    "start_time": "2022-02-06T21:03:31.731Z"
   },
   {
    "duration": 6,
    "start_time": "2022-02-06T21:03:31.779Z"
   },
   {
    "duration": 380,
    "start_time": "2022-02-06T21:03:31.788Z"
   },
   {
    "duration": 11,
    "start_time": "2022-02-06T21:03:32.171Z"
   },
   {
    "duration": 23,
    "start_time": "2022-02-06T21:03:32.184Z"
   },
   {
    "duration": 21,
    "start_time": "2022-02-06T21:03:32.210Z"
   },
   {
    "duration": 27,
    "start_time": "2022-02-06T21:03:32.273Z"
   },
   {
    "duration": 462,
    "start_time": "2022-02-06T21:03:32.303Z"
   },
   {
    "duration": 11,
    "start_time": "2022-02-06T21:03:32.770Z"
   },
   {
    "duration": 702,
    "start_time": "2022-02-06T21:03:32.783Z"
   },
   {
    "duration": 26,
    "start_time": "2022-02-06T21:03:33.487Z"
   },
   {
    "duration": 4,
    "start_time": "2022-02-06T21:03:33.516Z"
   },
   {
    "duration": 87,
    "start_time": "2022-02-06T21:03:33.522Z"
   },
   {
    "duration": 586,
    "start_time": "2022-02-06T21:03:33.611Z"
   },
   {
    "duration": 26,
    "start_time": "2022-02-06T21:03:34.200Z"
   },
   {
    "duration": 83,
    "start_time": "2022-02-06T21:03:34.228Z"
   },
   {
    "duration": 9,
    "start_time": "2022-02-06T21:03:34.314Z"
   },
   {
    "duration": 866,
    "start_time": "2022-02-06T21:03:34.325Z"
   },
   {
    "duration": 793,
    "start_time": "2022-02-06T21:03:35.194Z"
   },
   {
    "duration": 37,
    "start_time": "2022-02-06T21:03:35.990Z"
   },
   {
    "duration": 88,
    "start_time": "2022-02-06T21:03:36.030Z"
   },
   {
    "duration": 448,
    "start_time": "2022-02-06T21:03:36.121Z"
   },
   {
    "duration": 5,
    "start_time": "2022-02-06T21:03:36.571Z"
   },
   {
    "duration": 395,
    "start_time": "2022-02-06T21:03:36.579Z"
   },
   {
    "duration": 10,
    "start_time": "2022-02-06T21:03:36.977Z"
   },
   {
    "duration": 397,
    "start_time": "2022-02-06T21:03:36.989Z"
   },
   {
    "duration": 61,
    "start_time": "2022-02-06T21:03:37.389Z"
   },
   {
    "duration": 59,
    "start_time": "2022-02-06T21:03:37.469Z"
   },
   {
    "duration": 86,
    "start_time": "2022-02-06T21:03:37.531Z"
   },
   {
    "duration": 9,
    "start_time": "2022-02-06T21:03:37.619Z"
   },
   {
    "duration": 41,
    "start_time": "2022-02-06T21:03:37.631Z"
   },
   {
    "duration": 387,
    "start_time": "2022-02-06T21:03:37.675Z"
   },
   {
    "duration": 398,
    "start_time": "2022-02-06T21:03:38.064Z"
   },
   {
    "duration": 382,
    "start_time": "2022-02-06T21:03:38.469Z"
   },
   {
    "duration": 420,
    "start_time": "2022-02-06T21:03:38.854Z"
   },
   {
    "duration": 19,
    "start_time": "2022-02-06T21:03:39.276Z"
   },
   {
    "duration": 20,
    "start_time": "2022-02-06T21:03:39.297Z"
   },
   {
    "duration": 25,
    "start_time": "2022-02-06T21:03:39.319Z"
   },
   {
    "duration": 6,
    "start_time": "2022-02-06T21:03:39.371Z"
   },
   {
    "duration": 14,
    "start_time": "2022-02-06T21:03:39.380Z"
   },
   {
    "duration": 314,
    "start_time": "2022-02-06T21:03:56.392Z"
   },
   {
    "duration": 4,
    "start_time": "2022-02-06T21:04:47.099Z"
   },
   {
    "duration": 1505,
    "start_time": "2022-02-06T21:07:39.582Z"
   },
   {
    "duration": 816,
    "start_time": "2022-02-06T21:07:41.089Z"
   },
   {
    "duration": 27,
    "start_time": "2022-02-06T21:07:41.909Z"
   },
   {
    "duration": 16,
    "start_time": "2022-02-06T21:07:41.939Z"
   },
   {
    "duration": 28,
    "start_time": "2022-02-06T21:07:41.958Z"
   },
   {
    "duration": 13,
    "start_time": "2022-02-06T21:07:41.988Z"
   },
   {
    "duration": 14,
    "start_time": "2022-02-06T21:07:42.005Z"
   },
   {
    "duration": 67,
    "start_time": "2022-02-06T21:07:42.026Z"
   },
   {
    "duration": 19,
    "start_time": "2022-02-06T21:07:42.096Z"
   },
   {
    "duration": 11,
    "start_time": "2022-02-06T21:07:42.118Z"
   },
   {
    "duration": 39,
    "start_time": "2022-02-06T21:07:42.132Z"
   },
   {
    "duration": 21,
    "start_time": "2022-02-06T21:07:42.174Z"
   },
   {
    "duration": 12,
    "start_time": "2022-02-06T21:07:42.197Z"
   },
   {
    "duration": 62,
    "start_time": "2022-02-06T21:07:42.213Z"
   },
   {
    "duration": 10,
    "start_time": "2022-02-06T21:07:42.278Z"
   },
   {
    "duration": 10,
    "start_time": "2022-02-06T21:07:42.292Z"
   },
   {
    "duration": 18,
    "start_time": "2022-02-06T21:07:42.306Z"
   },
   {
    "duration": 31,
    "start_time": "2022-02-06T21:07:42.371Z"
   },
   {
    "duration": 4,
    "start_time": "2022-02-06T21:07:42.405Z"
   },
   {
    "duration": 27,
    "start_time": "2022-02-06T21:07:42.412Z"
   },
   {
    "duration": 26,
    "start_time": "2022-02-06T21:07:42.471Z"
   },
   {
    "duration": 151,
    "start_time": "2022-02-06T21:07:42.500Z"
   },
   {
    "duration": 168,
    "start_time": "2022-02-06T21:07:42.670Z"
   },
   {
    "duration": 31,
    "start_time": "2022-02-06T21:07:42.842Z"
   },
   {
    "duration": 288,
    "start_time": "2022-02-06T21:07:42.875Z"
   },
   {
    "duration": 178,
    "start_time": "2022-02-06T21:07:43.170Z"
   },
   {
    "duration": 26,
    "start_time": "2022-02-06T21:07:43.351Z"
   },
   {
    "duration": 146,
    "start_time": "2022-02-06T21:07:43.380Z"
   },
   {
    "duration": 121,
    "start_time": "2022-02-06T21:07:43.529Z"
   },
   {
    "duration": 24,
    "start_time": "2022-02-06T21:07:43.652Z"
   },
   {
    "duration": 158,
    "start_time": "2022-02-06T21:07:43.678Z"
   },
   {
    "duration": 84,
    "start_time": "2022-02-06T21:07:43.838Z"
   },
   {
    "duration": 91,
    "start_time": "2022-02-06T21:07:43.925Z"
   },
   {
    "duration": 11,
    "start_time": "2022-02-06T21:07:44.019Z"
   },
   {
    "duration": 125,
    "start_time": "2022-02-06T21:07:44.034Z"
   },
   {
    "duration": 51,
    "start_time": "2022-02-06T21:07:44.170Z"
   },
   {
    "duration": 70,
    "start_time": "2022-02-06T21:07:44.224Z"
   },
   {
    "duration": 19,
    "start_time": "2022-02-06T21:07:44.297Z"
   },
   {
    "duration": 57,
    "start_time": "2022-02-06T21:07:44.319Z"
   },
   {
    "duration": 6,
    "start_time": "2022-02-06T21:07:44.379Z"
   },
   {
    "duration": 7,
    "start_time": "2022-02-06T21:07:44.387Z"
   },
   {
    "duration": 23,
    "start_time": "2022-02-06T21:07:44.397Z"
   },
   {
    "duration": 56,
    "start_time": "2022-02-06T21:07:44.422Z"
   },
   {
    "duration": 15,
    "start_time": "2022-02-06T21:07:44.480Z"
   },
   {
    "duration": 18,
    "start_time": "2022-02-06T21:07:44.498Z"
   },
   {
    "duration": 22,
    "start_time": "2022-02-06T21:07:44.518Z"
   },
   {
    "duration": 10,
    "start_time": "2022-02-06T21:07:44.573Z"
   },
   {
    "duration": 38,
    "start_time": "2022-02-06T21:07:44.585Z"
   },
   {
    "duration": 14,
    "start_time": "2022-02-06T21:07:44.626Z"
   },
   {
    "duration": 8,
    "start_time": "2022-02-06T21:07:44.671Z"
   },
   {
    "duration": 381,
    "start_time": "2022-02-06T21:07:44.682Z"
   },
   {
    "duration": 12,
    "start_time": "2022-02-06T21:07:45.066Z"
   },
   {
    "duration": 28,
    "start_time": "2022-02-06T21:07:45.081Z"
   },
   {
    "duration": 21,
    "start_time": "2022-02-06T21:07:45.111Z"
   },
   {
    "duration": 59,
    "start_time": "2022-02-06T21:07:45.135Z"
   },
   {
    "duration": 465,
    "start_time": "2022-02-06T21:07:45.197Z"
   },
   {
    "duration": 12,
    "start_time": "2022-02-06T21:07:45.665Z"
   },
   {
    "duration": 633,
    "start_time": "2022-02-06T21:07:45.679Z"
   },
   {
    "duration": 26,
    "start_time": "2022-02-06T21:07:46.314Z"
   },
   {
    "duration": 27,
    "start_time": "2022-02-06T21:07:46.342Z"
   },
   {
    "duration": 81,
    "start_time": "2022-02-06T21:07:46.371Z"
   },
   {
    "duration": 603,
    "start_time": "2022-02-06T21:07:46.454Z"
   },
   {
    "duration": 41,
    "start_time": "2022-02-06T21:07:47.059Z"
   },
   {
    "duration": 108,
    "start_time": "2022-02-06T21:07:47.103Z"
   },
   {
    "duration": 6,
    "start_time": "2022-02-06T21:07:47.214Z"
   },
   {
    "duration": 592,
    "start_time": "2022-02-06T21:07:47.222Z"
   },
   {
    "duration": 563,
    "start_time": "2022-02-06T21:07:47.816Z"
   },
   {
    "duration": 28,
    "start_time": "2022-02-06T21:07:48.387Z"
   },
   {
    "duration": 101,
    "start_time": "2022-02-06T21:07:48.418Z"
   },
   {
    "duration": 452,
    "start_time": "2022-02-06T21:07:48.522Z"
   },
   {
    "duration": 5,
    "start_time": "2022-02-06T21:07:48.977Z"
   },
   {
    "duration": 414,
    "start_time": "2022-02-06T21:07:48.984Z"
   },
   {
    "duration": 11,
    "start_time": "2022-02-06T21:07:49.402Z"
   },
   {
    "duration": 404,
    "start_time": "2022-02-06T21:07:49.415Z"
   },
   {
    "duration": 87,
    "start_time": "2022-02-06T21:07:49.821Z"
   },
   {
    "duration": 81,
    "start_time": "2022-02-06T21:07:49.911Z"
   },
   {
    "duration": 88,
    "start_time": "2022-02-06T21:07:49.994Z"
   },
   {
    "duration": 11,
    "start_time": "2022-02-06T21:07:50.085Z"
   },
   {
    "duration": 24,
    "start_time": "2022-02-06T21:07:50.098Z"
   },
   {
    "duration": 396,
    "start_time": "2022-02-06T21:07:50.125Z"
   },
   {
    "duration": 473,
    "start_time": "2022-02-06T21:07:50.523Z"
   },
   {
    "duration": 382,
    "start_time": "2022-02-06T21:07:50.999Z"
   },
   {
    "duration": 398,
    "start_time": "2022-02-06T21:07:51.384Z"
   },
   {
    "duration": 23,
    "start_time": "2022-02-06T21:07:51.784Z"
   },
   {
    "duration": 35,
    "start_time": "2022-02-06T21:07:51.810Z"
   },
   {
    "duration": 11,
    "start_time": "2022-02-06T21:07:51.870Z"
   },
   {
    "duration": 8,
    "start_time": "2022-02-06T21:07:51.883Z"
   },
   {
    "duration": 11,
    "start_time": "2022-02-06T21:07:51.894Z"
   },
   {
    "duration": 4,
    "start_time": "2022-02-06T21:08:56.347Z"
   },
   {
    "duration": 770,
    "start_time": "2022-02-06T21:08:56.358Z"
   },
   {
    "duration": 26,
    "start_time": "2022-02-06T21:08:57.130Z"
   },
   {
    "duration": 12,
    "start_time": "2022-02-06T21:08:57.161Z"
   },
   {
    "duration": 24,
    "start_time": "2022-02-06T21:08:57.176Z"
   },
   {
    "duration": 12,
    "start_time": "2022-02-06T21:08:57.202Z"
   },
   {
    "duration": 10,
    "start_time": "2022-02-06T21:08:57.217Z"
   },
   {
    "duration": 55,
    "start_time": "2022-02-06T21:08:57.230Z"
   },
   {
    "duration": 19,
    "start_time": "2022-02-06T21:08:57.289Z"
   },
   {
    "duration": 11,
    "start_time": "2022-02-06T21:08:57.311Z"
   },
   {
    "duration": 48,
    "start_time": "2022-02-06T21:08:57.325Z"
   },
   {
    "duration": 19,
    "start_time": "2022-02-06T21:08:57.376Z"
   },
   {
    "duration": 9,
    "start_time": "2022-02-06T21:08:57.398Z"
   },
   {
    "duration": 26,
    "start_time": "2022-02-06T21:08:57.410Z"
   },
   {
    "duration": 33,
    "start_time": "2022-02-06T21:08:57.439Z"
   },
   {
    "duration": 14,
    "start_time": "2022-02-06T21:08:57.475Z"
   },
   {
    "duration": 22,
    "start_time": "2022-02-06T21:08:57.491Z"
   },
   {
    "duration": 53,
    "start_time": "2022-02-06T21:08:57.516Z"
   },
   {
    "duration": 22,
    "start_time": "2022-02-06T21:08:57.586Z"
   },
   {
    "duration": 142,
    "start_time": "2022-02-06T21:08:57.622Z"
   },
   {
    "duration": 33,
    "start_time": "2022-02-06T21:08:57.767Z"
   },
   {
    "duration": 129,
    "start_time": "2022-02-06T21:08:57.803Z"
   },
   {
    "duration": 184,
    "start_time": "2022-02-06T21:08:57.935Z"
   },
   {
    "duration": 19,
    "start_time": "2022-02-06T21:08:58.125Z"
   },
   {
    "duration": 276,
    "start_time": "2022-02-06T21:08:58.148Z"
   },
   {
    "duration": 168,
    "start_time": "2022-02-06T21:08:58.426Z"
   },
   {
    "duration": 16,
    "start_time": "2022-02-06T21:08:58.597Z"
   },
   {
    "duration": 142,
    "start_time": "2022-02-06T21:08:58.615Z"
   },
   {
    "duration": 112,
    "start_time": "2022-02-06T21:08:58.759Z"
   },
   {
    "duration": 15,
    "start_time": "2022-02-06T21:08:58.873Z"
   },
   {
    "duration": 164,
    "start_time": "2022-02-06T21:08:58.890Z"
   },
   {
    "duration": 74,
    "start_time": "2022-02-06T21:08:59.056Z"
   },
   {
    "duration": 94,
    "start_time": "2022-02-06T21:08:59.133Z"
   },
   {
    "duration": 8,
    "start_time": "2022-02-06T21:08:59.229Z"
   },
   {
    "duration": 111,
    "start_time": "2022-02-06T21:08:59.240Z"
   },
   {
    "duration": 62,
    "start_time": "2022-02-06T21:08:59.354Z"
   },
   {
    "duration": 67,
    "start_time": "2022-02-06T21:08:59.419Z"
   },
   {
    "duration": 17,
    "start_time": "2022-02-06T21:08:59.490Z"
   },
   {
    "duration": 60,
    "start_time": "2022-02-06T21:08:59.510Z"
   },
   {
    "duration": 5,
    "start_time": "2022-02-06T21:08:59.572Z"
   },
   {
    "duration": 8,
    "start_time": "2022-02-06T21:08:59.579Z"
   },
   {
    "duration": 14,
    "start_time": "2022-02-06T21:08:59.589Z"
   },
   {
    "duration": 23,
    "start_time": "2022-02-06T21:08:59.606Z"
   },
   {
    "duration": 48,
    "start_time": "2022-02-06T21:08:59.631Z"
   },
   {
    "duration": 13,
    "start_time": "2022-02-06T21:08:59.683Z"
   },
   {
    "duration": 22,
    "start_time": "2022-02-06T21:08:59.698Z"
   },
   {
    "duration": 50,
    "start_time": "2022-02-06T21:08:59.723Z"
   },
   {
    "duration": 24,
    "start_time": "2022-02-06T21:08:59.776Z"
   },
   {
    "duration": 12,
    "start_time": "2022-02-06T21:08:59.803Z"
   },
   {
    "duration": 7,
    "start_time": "2022-02-06T21:08:59.817Z"
   },
   {
    "duration": 388,
    "start_time": "2022-02-06T21:08:59.826Z"
   },
   {
    "duration": 11,
    "start_time": "2022-02-06T21:09:00.216Z"
   },
   {
    "duration": 41,
    "start_time": "2022-02-06T21:09:00.229Z"
   },
   {
    "duration": 21,
    "start_time": "2022-02-06T21:09:00.273Z"
   },
   {
    "duration": 36,
    "start_time": "2022-02-06T21:09:00.297Z"
   },
   {
    "duration": 470,
    "start_time": "2022-02-06T21:09:00.335Z"
   },
   {
    "duration": 12,
    "start_time": "2022-02-06T21:09:00.807Z"
   },
   {
    "duration": 769,
    "start_time": "2022-02-06T21:09:00.821Z"
   },
   {
    "duration": 28,
    "start_time": "2022-02-06T21:09:01.593Z"
   },
   {
    "duration": 6,
    "start_time": "2022-02-06T21:09:01.624Z"
   },
   {
    "duration": 104,
    "start_time": "2022-02-06T21:09:01.633Z"
   },
   {
    "duration": 598,
    "start_time": "2022-02-06T21:09:01.739Z"
   },
   {
    "duration": 39,
    "start_time": "2022-02-06T21:09:02.340Z"
   },
   {
    "duration": 90,
    "start_time": "2022-02-06T21:09:02.382Z"
   },
   {
    "duration": 6,
    "start_time": "2022-02-06T21:09:02.474Z"
   },
   {
    "duration": 594,
    "start_time": "2022-02-06T21:09:02.482Z"
   },
   {
    "duration": 568,
    "start_time": "2022-02-06T21:09:03.078Z"
   },
   {
    "duration": 39,
    "start_time": "2022-02-06T21:09:03.649Z"
   },
   {
    "duration": 90,
    "start_time": "2022-02-06T21:09:03.696Z"
   },
   {
    "duration": 463,
    "start_time": "2022-02-06T21:09:03.789Z"
   },
   {
    "duration": 5,
    "start_time": "2022-02-06T21:09:04.254Z"
   },
   {
    "duration": 420,
    "start_time": "2022-02-06T21:09:04.270Z"
   },
   {
    "duration": 10,
    "start_time": "2022-02-06T21:09:04.693Z"
   },
   {
    "duration": 509,
    "start_time": "2022-02-06T21:09:04.705Z"
   },
   {
    "duration": 88,
    "start_time": "2022-02-06T21:09:05.216Z"
   },
   {
    "duration": 116,
    "start_time": "2022-02-06T21:09:05.307Z"
   },
   {
    "duration": 84,
    "start_time": "2022-02-06T21:09:05.425Z"
   },
   {
    "duration": 10,
    "start_time": "2022-02-06T21:09:05.511Z"
   },
   {
    "duration": 18,
    "start_time": "2022-02-06T21:09:05.523Z"
   },
   {
    "duration": 403,
    "start_time": "2022-02-06T21:09:05.544Z"
   },
   {
    "duration": 401,
    "start_time": "2022-02-06T21:09:05.950Z"
   },
   {
    "duration": 387,
    "start_time": "2022-02-06T21:09:06.354Z"
   },
   {
    "duration": 403,
    "start_time": "2022-02-06T21:09:06.743Z"
   },
   {
    "duration": 36,
    "start_time": "2022-02-06T21:09:07.149Z"
   },
   {
    "duration": 11,
    "start_time": "2022-02-06T21:09:07.187Z"
   },
   {
    "duration": 10,
    "start_time": "2022-02-06T21:09:07.200Z"
   },
   {
    "duration": 8,
    "start_time": "2022-02-06T21:09:07.213Z"
   },
   {
    "duration": 51,
    "start_time": "2022-02-06T21:09:07.223Z"
   },
   {
    "duration": 5,
    "start_time": "2022-02-06T21:10:04.888Z"
   },
   {
    "duration": 781,
    "start_time": "2022-02-06T21:10:04.896Z"
   },
   {
    "duration": 28,
    "start_time": "2022-02-06T21:10:05.681Z"
   },
   {
    "duration": 15,
    "start_time": "2022-02-06T21:10:05.713Z"
   },
   {
    "duration": 61,
    "start_time": "2022-02-06T21:10:05.731Z"
   },
   {
    "duration": 16,
    "start_time": "2022-02-06T21:10:05.795Z"
   },
   {
    "duration": 13,
    "start_time": "2022-02-06T21:10:05.816Z"
   },
   {
    "duration": 53,
    "start_time": "2022-02-06T21:10:05.833Z"
   },
   {
    "duration": 22,
    "start_time": "2022-02-06T21:10:05.889Z"
   },
   {
    "duration": 14,
    "start_time": "2022-02-06T21:10:05.914Z"
   },
   {
    "duration": 10,
    "start_time": "2022-02-06T21:10:05.969Z"
   },
   {
    "duration": 20,
    "start_time": "2022-02-06T21:10:05.983Z"
   },
   {
    "duration": 13,
    "start_time": "2022-02-06T21:10:06.006Z"
   },
   {
    "duration": 52,
    "start_time": "2022-02-06T21:10:06.022Z"
   },
   {
    "duration": 11,
    "start_time": "2022-02-06T21:10:06.077Z"
   },
   {
    "duration": 9,
    "start_time": "2022-02-06T21:10:06.091Z"
   },
   {
    "duration": 20,
    "start_time": "2022-02-06T21:10:06.102Z"
   },
   {
    "duration": 62,
    "start_time": "2022-02-06T21:10:06.125Z"
   },
   {
    "duration": 6,
    "start_time": "2022-02-06T21:10:06.194Z"
   },
   {
    "duration": 70,
    "start_time": "2022-02-06T21:10:06.204Z"
   },
   {
    "duration": 27,
    "start_time": "2022-02-06T21:10:06.278Z"
   },
   {
    "duration": 197,
    "start_time": "2022-02-06T21:10:06.307Z"
   },
   {
    "duration": 283,
    "start_time": "2022-02-06T21:10:06.507Z"
   },
   {
    "duration": 25,
    "start_time": "2022-02-06T21:10:06.793Z"
   },
   {
    "duration": 373,
    "start_time": "2022-02-06T21:10:06.821Z"
   },
   {
    "duration": 256,
    "start_time": "2022-02-06T21:10:07.197Z"
   },
   {
    "duration": 20,
    "start_time": "2022-02-06T21:10:07.455Z"
   },
   {
    "duration": 139,
    "start_time": "2022-02-06T21:10:07.478Z"
   },
   {
    "duration": 115,
    "start_time": "2022-02-06T21:10:07.619Z"
   },
   {
    "duration": 15,
    "start_time": "2022-02-06T21:10:07.736Z"
   },
   {
    "duration": 166,
    "start_time": "2022-02-06T21:10:07.754Z"
   },
   {
    "duration": 83,
    "start_time": "2022-02-06T21:10:07.923Z"
   },
   {
    "duration": 92,
    "start_time": "2022-02-06T21:10:08.009Z"
   },
   {
    "duration": 10,
    "start_time": "2022-02-06T21:10:08.104Z"
   },
   {
    "duration": 115,
    "start_time": "2022-02-06T21:10:08.116Z"
   },
   {
    "duration": 62,
    "start_time": "2022-02-06T21:10:08.234Z"
   },
   {
    "duration": 50,
    "start_time": "2022-02-06T21:10:08.299Z"
   },
   {
    "duration": 31,
    "start_time": "2022-02-06T21:10:08.352Z"
   },
   {
    "duration": 40,
    "start_time": "2022-02-06T21:10:08.386Z"
   },
   {
    "duration": 40,
    "start_time": "2022-02-06T21:10:08.429Z"
   },
   {
    "duration": 7,
    "start_time": "2022-02-06T21:10:08.472Z"
   },
   {
    "duration": 16,
    "start_time": "2022-02-06T21:10:08.482Z"
   },
   {
    "duration": 26,
    "start_time": "2022-02-06T21:10:08.501Z"
   },
   {
    "duration": 53,
    "start_time": "2022-02-06T21:10:08.529Z"
   },
   {
    "duration": 10,
    "start_time": "2022-02-06T21:10:08.584Z"
   },
   {
    "duration": 19,
    "start_time": "2022-02-06T21:10:08.597Z"
   },
   {
    "duration": 12,
    "start_time": "2022-02-06T21:10:08.619Z"
   },
   {
    "duration": 23,
    "start_time": "2022-02-06T21:10:08.669Z"
   },
   {
    "duration": 18,
    "start_time": "2022-02-06T21:10:08.694Z"
   },
   {
    "duration": 7,
    "start_time": "2022-02-06T21:10:08.714Z"
   },
   {
    "duration": 382,
    "start_time": "2022-02-06T21:10:08.723Z"
   },
   {
    "duration": 11,
    "start_time": "2022-02-06T21:10:09.107Z"
   },
   {
    "duration": 51,
    "start_time": "2022-02-06T21:10:09.120Z"
   },
   {
    "duration": 22,
    "start_time": "2022-02-06T21:10:09.173Z"
   },
   {
    "duration": 29,
    "start_time": "2022-02-06T21:10:09.203Z"
   },
   {
    "duration": 473,
    "start_time": "2022-02-06T21:10:09.236Z"
   },
   {
    "duration": 11,
    "start_time": "2022-02-06T21:10:09.711Z"
   },
   {
    "duration": 613,
    "start_time": "2022-02-06T21:10:09.725Z"
   },
   {
    "duration": 40,
    "start_time": "2022-02-06T21:10:10.340Z"
   },
   {
    "duration": 5,
    "start_time": "2022-02-06T21:10:10.382Z"
   },
   {
    "duration": 92,
    "start_time": "2022-02-06T21:10:10.389Z"
   },
   {
    "duration": 755,
    "start_time": "2022-02-06T21:10:10.483Z"
   },
   {
    "duration": 38,
    "start_time": "2022-02-06T21:10:11.241Z"
   },
   {
    "duration": 89,
    "start_time": "2022-02-06T21:10:11.281Z"
   },
   {
    "duration": 6,
    "start_time": "2022-02-06T21:10:11.373Z"
   },
   {
    "duration": 613,
    "start_time": "2022-02-06T21:10:11.382Z"
   },
   {
    "duration": 562,
    "start_time": "2022-02-06T21:10:11.997Z"
   },
   {
    "duration": 29,
    "start_time": "2022-02-06T21:10:12.569Z"
   },
   {
    "duration": 102,
    "start_time": "2022-02-06T21:10:12.600Z"
   },
   {
    "duration": 647,
    "start_time": "2022-02-06T21:10:12.705Z"
   },
   {
    "duration": 5,
    "start_time": "2022-02-06T21:10:13.355Z"
   },
   {
    "duration": 422,
    "start_time": "2022-02-06T21:10:13.370Z"
   },
   {
    "duration": 9,
    "start_time": "2022-02-06T21:10:13.795Z"
   },
   {
    "duration": 521,
    "start_time": "2022-02-06T21:10:13.806Z"
   },
   {
    "duration": 120,
    "start_time": "2022-02-06T21:10:14.330Z"
   },
   {
    "duration": 133,
    "start_time": "2022-02-06T21:10:14.454Z"
   },
   {
    "duration": 120,
    "start_time": "2022-02-06T21:10:14.591Z"
   },
   {
    "duration": 12,
    "start_time": "2022-02-06T21:10:14.714Z"
   },
   {
    "duration": 47,
    "start_time": "2022-02-06T21:10:14.728Z"
   },
   {
    "duration": 435,
    "start_time": "2022-02-06T21:10:14.777Z"
   },
   {
    "duration": 399,
    "start_time": "2022-02-06T21:10:15.214Z"
   },
   {
    "duration": 380,
    "start_time": "2022-02-06T21:10:15.616Z"
   },
   {
    "duration": 502,
    "start_time": "2022-02-06T21:10:16.000Z"
   },
   {
    "duration": 13,
    "start_time": "2022-02-06T21:10:16.505Z"
   },
   {
    "duration": 12,
    "start_time": "2022-02-06T21:10:16.521Z"
   },
   {
    "duration": 14,
    "start_time": "2022-02-06T21:10:16.569Z"
   },
   {
    "duration": 8,
    "start_time": "2022-02-06T21:10:16.586Z"
   },
   {
    "duration": 17,
    "start_time": "2022-02-06T21:10:16.597Z"
   },
   {
    "duration": 1447,
    "start_time": "2022-02-06T21:12:47.134Z"
   },
   {
    "duration": 721,
    "start_time": "2022-02-06T21:12:48.585Z"
   },
   {
    "duration": 28,
    "start_time": "2022-02-06T21:12:49.310Z"
   },
   {
    "duration": 15,
    "start_time": "2022-02-06T21:12:49.341Z"
   },
   {
    "duration": 28,
    "start_time": "2022-02-06T21:12:49.359Z"
   },
   {
    "duration": 12,
    "start_time": "2022-02-06T21:12:49.390Z"
   },
   {
    "duration": 11,
    "start_time": "2022-02-06T21:12:49.404Z"
   },
   {
    "duration": 59,
    "start_time": "2022-02-06T21:12:49.419Z"
   },
   {
    "duration": 19,
    "start_time": "2022-02-06T21:12:49.481Z"
   },
   {
    "duration": 10,
    "start_time": "2022-02-06T21:12:49.502Z"
   },
   {
    "duration": 11,
    "start_time": "2022-02-06T21:12:49.514Z"
   },
   {
    "duration": 58,
    "start_time": "2022-02-06T21:12:49.527Z"
   },
   {
    "duration": 9,
    "start_time": "2022-02-06T21:12:49.588Z"
   },
   {
    "duration": 16,
    "start_time": "2022-02-06T21:12:49.600Z"
   },
   {
    "duration": 52,
    "start_time": "2022-02-06T21:12:49.619Z"
   },
   {
    "duration": 10,
    "start_time": "2022-02-06T21:12:49.674Z"
   },
   {
    "duration": 19,
    "start_time": "2022-02-06T21:12:49.687Z"
   },
   {
    "duration": 66,
    "start_time": "2022-02-06T21:12:49.709Z"
   },
   {
    "duration": 6,
    "start_time": "2022-02-06T21:12:49.778Z"
   },
   {
    "duration": 32,
    "start_time": "2022-02-06T21:12:49.787Z"
   },
   {
    "duration": 55,
    "start_time": "2022-02-06T21:12:49.822Z"
   },
   {
    "duration": 148,
    "start_time": "2022-02-06T21:12:49.880Z"
   },
   {
    "duration": 197,
    "start_time": "2022-02-06T21:12:50.035Z"
   },
   {
    "duration": 35,
    "start_time": "2022-02-06T21:12:50.236Z"
   },
   {
    "duration": 308,
    "start_time": "2022-02-06T21:12:50.274Z"
   },
   {
    "duration": 183,
    "start_time": "2022-02-06T21:12:50.585Z"
   },
   {
    "duration": 19,
    "start_time": "2022-02-06T21:12:50.770Z"
   },
   {
    "duration": 146,
    "start_time": "2022-02-06T21:12:50.792Z"
   },
   {
    "duration": 120,
    "start_time": "2022-02-06T21:12:50.941Z"
   },
   {
    "duration": 19,
    "start_time": "2022-02-06T21:12:51.063Z"
   },
   {
    "duration": 172,
    "start_time": "2022-02-06T21:12:51.084Z"
   },
   {
    "duration": 75,
    "start_time": "2022-02-06T21:12:51.259Z"
   },
   {
    "duration": 96,
    "start_time": "2022-02-06T21:12:51.336Z"
   },
   {
    "duration": 8,
    "start_time": "2022-02-06T21:12:51.434Z"
   },
   {
    "duration": 112,
    "start_time": "2022-02-06T21:12:51.445Z"
   },
   {
    "duration": 51,
    "start_time": "2022-02-06T21:12:51.569Z"
   },
   {
    "duration": 70,
    "start_time": "2022-02-06T21:12:51.622Z"
   },
   {
    "duration": 17,
    "start_time": "2022-02-06T21:12:51.695Z"
   },
   {
    "duration": 56,
    "start_time": "2022-02-06T21:12:51.715Z"
   },
   {
    "duration": 5,
    "start_time": "2022-02-06T21:12:51.774Z"
   },
   {
    "duration": 8,
    "start_time": "2022-02-06T21:12:51.781Z"
   },
   {
    "duration": 14,
    "start_time": "2022-02-06T21:12:51.791Z"
   },
   {
    "duration": 66,
    "start_time": "2022-02-06T21:12:51.808Z"
   },
   {
    "duration": 15,
    "start_time": "2022-02-06T21:12:51.876Z"
   },
   {
    "duration": 12,
    "start_time": "2022-02-06T21:12:51.893Z"
   },
   {
    "duration": 21,
    "start_time": "2022-02-06T21:12:51.907Z"
   },
   {
    "duration": 8,
    "start_time": "2022-02-06T21:12:51.970Z"
   },
   {
    "duration": 23,
    "start_time": "2022-02-06T21:12:51.981Z"
   },
   {
    "duration": 11,
    "start_time": "2022-02-06T21:12:52.007Z"
   },
   {
    "duration": 7,
    "start_time": "2022-02-06T21:12:52.021Z"
   },
   {
    "duration": 357,
    "start_time": "2022-02-06T21:12:52.069Z"
   },
   {
    "duration": 10,
    "start_time": "2022-02-06T21:12:52.428Z"
   },
   {
    "duration": 45,
    "start_time": "2022-02-06T21:12:52.440Z"
   },
   {
    "duration": 20,
    "start_time": "2022-02-06T21:12:52.487Z"
   },
   {
    "duration": 31,
    "start_time": "2022-02-06T21:12:52.510Z"
   },
   {
    "duration": 483,
    "start_time": "2022-02-06T21:12:52.543Z"
   },
   {
    "duration": 11,
    "start_time": "2022-02-06T21:12:53.029Z"
   },
   {
    "duration": 613,
    "start_time": "2022-02-06T21:12:53.043Z"
   },
   {
    "duration": 35,
    "start_time": "2022-02-06T21:12:53.659Z"
   },
   {
    "duration": 6,
    "start_time": "2022-02-06T21:12:53.697Z"
   },
   {
    "duration": 101,
    "start_time": "2022-02-06T21:12:53.706Z"
   },
   {
    "duration": 597,
    "start_time": "2022-02-06T21:12:53.810Z"
   },
   {
    "duration": 28,
    "start_time": "2022-02-06T21:12:54.410Z"
   },
   {
    "duration": 97,
    "start_time": "2022-02-06T21:12:54.441Z"
   },
   {
    "duration": 7,
    "start_time": "2022-02-06T21:12:54.540Z"
   },
   {
    "duration": 608,
    "start_time": "2022-02-06T21:12:54.549Z"
   },
   {
    "duration": 565,
    "start_time": "2022-02-06T21:12:55.161Z"
   },
   {
    "duration": 43,
    "start_time": "2022-02-06T21:12:55.734Z"
   },
   {
    "duration": 72,
    "start_time": "2022-02-06T21:12:55.779Z"
   },
   {
    "duration": 476,
    "start_time": "2022-02-06T21:12:55.854Z"
   },
   {
    "duration": 5,
    "start_time": "2022-02-06T21:12:56.332Z"
   },
   {
    "duration": 407,
    "start_time": "2022-02-06T21:12:56.339Z"
   },
   {
    "duration": 21,
    "start_time": "2022-02-06T21:12:56.749Z"
   },
   {
    "duration": 402,
    "start_time": "2022-02-06T21:12:56.772Z"
   },
   {
    "duration": 73,
    "start_time": "2022-02-06T21:12:57.176Z"
   },
   {
    "duration": 73,
    "start_time": "2022-02-06T21:12:57.269Z"
   },
   {
    "duration": 91,
    "start_time": "2022-02-06T21:12:57.345Z"
   },
   {
    "duration": 32,
    "start_time": "2022-02-06T21:12:57.438Z"
   },
   {
    "duration": 13,
    "start_time": "2022-02-06T21:12:57.473Z"
   },
   {
    "duration": 462,
    "start_time": "2022-02-06T21:12:57.488Z"
   },
   {
    "duration": 597,
    "start_time": "2022-02-06T21:12:57.953Z"
   },
   {
    "duration": 396,
    "start_time": "2022-02-06T21:12:58.553Z"
   },
   {
    "duration": 397,
    "start_time": "2022-02-06T21:12:58.952Z"
   },
   {
    "duration": 18,
    "start_time": "2022-02-06T21:12:59.352Z"
   },
   {
    "duration": 16,
    "start_time": "2022-02-06T21:12:59.373Z"
   },
   {
    "duration": 16,
    "start_time": "2022-02-06T21:12:59.392Z"
   },
   {
    "duration": 6,
    "start_time": "2022-02-06T21:12:59.411Z"
   },
   {
    "duration": 49,
    "start_time": "2022-02-06T21:12:59.420Z"
   },
   {
    "duration": 505,
    "start_time": "2022-02-07T06:55:46.490Z"
   },
   {
    "duration": 1548,
    "start_time": "2022-02-10T14:45:35.209Z"
   },
   {
    "duration": 775,
    "start_time": "2022-02-10T14:45:36.760Z"
   },
   {
    "duration": 32,
    "start_time": "2022-02-10T14:45:37.539Z"
   },
   {
    "duration": 18,
    "start_time": "2022-02-10T14:45:37.575Z"
   },
   {
    "duration": 58,
    "start_time": "2022-02-10T14:45:37.596Z"
   },
   {
    "duration": 15,
    "start_time": "2022-02-10T14:45:37.657Z"
   },
   {
    "duration": 14,
    "start_time": "2022-02-10T14:45:37.676Z"
   },
   {
    "duration": 32,
    "start_time": "2022-02-10T14:45:37.724Z"
   },
   {
    "duration": 20,
    "start_time": "2022-02-10T14:45:37.759Z"
   },
   {
    "duration": 10,
    "start_time": "2022-02-10T14:45:37.782Z"
   },
   {
    "duration": 16,
    "start_time": "2022-02-10T14:45:37.822Z"
   },
   {
    "duration": 22,
    "start_time": "2022-02-10T14:45:37.841Z"
   },
   {
    "duration": 9,
    "start_time": "2022-02-10T14:45:37.866Z"
   },
   {
    "duration": 54,
    "start_time": "2022-02-10T14:45:37.877Z"
   },
   {
    "duration": 18,
    "start_time": "2022-02-10T14:45:37.934Z"
   },
   {
    "duration": 8,
    "start_time": "2022-02-10T14:45:37.955Z"
   },
   {
    "duration": 17,
    "start_time": "2022-02-10T14:45:37.966Z"
   },
   {
    "duration": 69,
    "start_time": "2022-02-10T14:45:37.985Z"
   },
   {
    "duration": 5,
    "start_time": "2022-02-10T14:45:38.058Z"
   },
   {
    "duration": 33,
    "start_time": "2022-02-10T14:45:38.066Z"
   },
   {
    "duration": 33,
    "start_time": "2022-02-10T14:45:38.123Z"
   },
   {
    "duration": 176,
    "start_time": "2022-02-10T14:45:38.159Z"
   },
   {
    "duration": 200,
    "start_time": "2022-02-10T14:45:38.345Z"
   },
   {
    "duration": 21,
    "start_time": "2022-02-10T14:45:38.550Z"
   },
   {
    "duration": 352,
    "start_time": "2022-02-10T14:45:38.574Z"
   },
   {
    "duration": 190,
    "start_time": "2022-02-10T14:45:38.930Z"
   },
   {
    "duration": 19,
    "start_time": "2022-02-10T14:45:39.124Z"
   },
   {
    "duration": 149,
    "start_time": "2022-02-10T14:45:39.148Z"
   },
   {
    "duration": 112,
    "start_time": "2022-02-10T14:45:39.300Z"
   },
   {
    "duration": 22,
    "start_time": "2022-02-10T14:45:39.415Z"
   },
   {
    "duration": 160,
    "start_time": "2022-02-10T14:45:39.443Z"
   },
   {
    "duration": 100,
    "start_time": "2022-02-10T14:45:39.606Z"
   },
   {
    "duration": 101,
    "start_time": "2022-02-10T14:45:39.709Z"
   },
   {
    "duration": 24,
    "start_time": "2022-02-10T14:45:39.813Z"
   },
   {
    "duration": 130,
    "start_time": "2022-02-10T14:45:39.840Z"
   },
   {
    "duration": 83,
    "start_time": "2022-02-10T14:45:39.973Z"
   },
   {
    "duration": 70,
    "start_time": "2022-02-10T14:45:40.059Z"
   },
   {
    "duration": 19,
    "start_time": "2022-02-10T14:45:40.132Z"
   },
   {
    "duration": 35,
    "start_time": "2022-02-10T14:45:40.154Z"
   },
   {
    "duration": 5,
    "start_time": "2022-02-10T14:45:40.191Z"
   },
   {
    "duration": 43,
    "start_time": "2022-02-10T14:45:40.199Z"
   },
   {
    "duration": 28,
    "start_time": "2022-02-10T14:45:40.244Z"
   },
   {
    "duration": 23,
    "start_time": "2022-02-10T14:45:40.274Z"
   },
   {
    "duration": 45,
    "start_time": "2022-02-10T14:45:40.300Z"
   },
   {
    "duration": 14,
    "start_time": "2022-02-10T14:45:40.348Z"
   },
   {
    "duration": 23,
    "start_time": "2022-02-10T14:45:40.365Z"
   },
   {
    "duration": 39,
    "start_time": "2022-02-10T14:45:40.391Z"
   },
   {
    "duration": 16,
    "start_time": "2022-02-10T14:45:40.433Z"
   },
   {
    "duration": 34,
    "start_time": "2022-02-10T14:45:40.452Z"
   },
   {
    "duration": 17,
    "start_time": "2022-02-10T14:45:40.489Z"
   },
   {
    "duration": 9,
    "start_time": "2022-02-10T14:45:40.532Z"
   },
   {
    "duration": 655,
    "start_time": "2022-02-10T14:45:40.544Z"
   },
   {
    "duration": 7,
    "start_time": "2022-02-10T14:45:41.205Z"
   },
   {
    "duration": 43,
    "start_time": "2022-02-10T14:45:41.214Z"
   },
   {
    "duration": 23,
    "start_time": "2022-02-10T14:45:41.260Z"
   },
   {
    "duration": 69,
    "start_time": "2022-02-10T14:45:41.286Z"
   },
   {
    "duration": 498,
    "start_time": "2022-02-10T14:45:41.357Z"
   },
   {
    "duration": 10,
    "start_time": "2022-02-10T14:45:41.858Z"
   },
   {
    "duration": 635,
    "start_time": "2022-02-10T14:45:41.871Z"
   },
   {
    "duration": 45,
    "start_time": "2022-02-10T14:45:42.509Z"
   },
   {
    "duration": 7,
    "start_time": "2022-02-10T14:45:42.557Z"
   },
   {
    "duration": 119,
    "start_time": "2022-02-10T14:45:42.567Z"
   },
   {
    "duration": 627,
    "start_time": "2022-02-10T14:45:42.688Z"
   },
   {
    "duration": 36,
    "start_time": "2022-02-10T14:45:43.322Z"
   },
   {
    "duration": 145,
    "start_time": "2022-02-10T14:45:43.361Z"
   },
   {
    "duration": 10,
    "start_time": "2022-02-10T14:45:43.509Z"
   },
   {
    "duration": 622,
    "start_time": "2022-02-10T14:45:43.526Z"
   },
   {
    "duration": 611,
    "start_time": "2022-02-10T14:45:44.161Z"
   },
   {
    "duration": 29,
    "start_time": "2022-02-10T14:45:44.776Z"
   },
   {
    "duration": 74,
    "start_time": "2022-02-10T14:45:44.824Z"
   },
   {
    "duration": 493,
    "start_time": "2022-02-10T14:45:44.901Z"
   },
   {
    "duration": 6,
    "start_time": "2022-02-10T14:45:45.397Z"
   },
   {
    "duration": 440,
    "start_time": "2022-02-10T14:45:45.405Z"
   },
   {
    "duration": 11,
    "start_time": "2022-02-10T14:45:45.847Z"
   },
   {
    "duration": 465,
    "start_time": "2022-02-10T14:45:45.860Z"
   },
   {
    "duration": 78,
    "start_time": "2022-02-10T14:45:46.328Z"
   },
   {
    "duration": 83,
    "start_time": "2022-02-10T14:45:46.409Z"
   },
   {
    "duration": 89,
    "start_time": "2022-02-10T14:45:46.496Z"
   },
   {
    "duration": 10,
    "start_time": "2022-02-10T14:45:46.588Z"
   },
   {
    "duration": 14,
    "start_time": "2022-02-10T14:45:46.600Z"
   },
   {
    "duration": 431,
    "start_time": "2022-02-10T14:45:46.617Z"
   },
   {
    "duration": 611,
    "start_time": "2022-02-10T14:45:47.051Z"
   },
   {
    "duration": 677,
    "start_time": "2022-02-10T14:45:47.665Z"
   },
   {
    "duration": 557,
    "start_time": "2022-02-10T14:45:48.344Z"
   },
   {
    "duration": 25,
    "start_time": "2022-02-10T14:45:48.904Z"
   },
   {
    "duration": 12,
    "start_time": "2022-02-10T14:45:48.932Z"
   },
   {
    "duration": 16,
    "start_time": "2022-02-10T14:45:48.947Z"
   },
   {
    "duration": 12,
    "start_time": "2022-02-10T14:45:48.966Z"
   },
   {
    "duration": 48,
    "start_time": "2022-02-10T14:45:48.981Z"
   },
   {
    "duration": 85,
    "start_time": "2022-07-29T12:52:26.488Z"
   }
  ],
  "kernelspec": {
   "display_name": "Python 3 (ipykernel)",
   "language": "python",
   "name": "python3"
  },
  "language_info": {
   "codemirror_mode": {
    "name": "ipython",
    "version": 3
   },
   "file_extension": ".py",
   "mimetype": "text/x-python",
   "name": "python",
   "nbconvert_exporter": "python",
   "pygments_lexer": "ipython3",
   "version": "3.9.5"
  },
  "toc": {
   "base_numbering": 1,
   "nav_menu": {},
   "number_sections": true,
   "sideBar": true,
   "skip_h1_title": true,
   "title_cell": "Table of Contents",
   "title_sidebar": "Contents",
   "toc_cell": false,
   "toc_position": {
    "height": "calc(100% - 180px)",
    "left": "10px",
    "top": "150px",
    "width": "165px"
   },
   "toc_section_display": true,
   "toc_window_display": true
  }
 },
 "nbformat": 4,
 "nbformat_minor": 5
}
