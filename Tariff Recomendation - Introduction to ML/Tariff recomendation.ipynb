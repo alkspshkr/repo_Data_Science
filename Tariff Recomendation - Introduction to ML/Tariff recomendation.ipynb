{
 "cells": [
  {
   "cell_type": "markdown",
   "metadata": {},
   "source": [
    "# Рекомендация тарифов"
   ]
  },
  {
   "cell_type": "markdown",
   "metadata": {},
   "source": [
    "В вашем распоряжении данные о поведении клиентов, которые уже перешли на эти тарифы (из проекта курса «Статистический анализ данных»). Нужно построить модель для задачи классификации, которая выберет подходящий тариф. Предобработка данных не понадобится — вы её уже сделали.\n",
    "\n",
    "Постройте модель с максимально большим значением *accuracy*. Чтобы сдать проект успешно, нужно довести долю правильных ответов по крайней мере до 0.75. Проверьте *accuracy* на тестовой выборке самостоятельно."
   ]
  },
  {
   "cell_type": "markdown",
   "metadata": {},
   "source": [
    "## Откройте и изучите файл"
   ]
  },
  {
   "cell_type": "code",
   "execution_count": 42,
   "metadata": {},
   "outputs": [],
   "source": [
    "# игнорирование всех предупреждений\n",
    "import warnings\n",
    "warnings.filterwarnings(\"ignore\")"
   ]
  },
  {
   "cell_type": "code",
   "execution_count": 41,
   "metadata": {},
   "outputs": [],
   "source": [
    "# импорт основных библиотек для работы с данными\n",
    "import pandas as pd\n",
    "import matplotlib.pyplot as plt\n",
    "import numpy as np\n",
    "import seaborn as sns"
   ]
  },
  {
   "cell_type": "code",
   "execution_count": 53,
   "metadata": {},
   "outputs": [],
   "source": [
    "# импорт библиотек для Маш.Об\n",
    "# решающее дерево:\n",
    "from sklearn.tree import DecisionTreeClassifier\n",
    "# случайное дерево:\n",
    "from sklearn.ensemble import RandomForestClassifier\n",
    "# логистическая регрессия:\n",
    "from sklearn.linear_model import LogisticRegression\n",
    "# для разбивки на выборки\n",
    "from sklearn.model_selection import train_test_split\n",
    "# для поиска оптимальных гиперпараметров\n",
    "from sklearn.model_selection import GridSearchCV"
   ]
  },
  {
   "cell_type": "markdown",
   "metadata": {},
   "source": [
    "Прежде всего сделаем выгрузку данных и познакомимся с ними:"
   ]
  },
  {
   "cell_type": "code",
   "execution_count": 45,
   "metadata": {},
   "outputs": [],
   "source": [
    "df = pd.read_csv('https://code.s3.yandex.net/datasets/users_behavior.csv')"
   ]
  },
  {
   "cell_type": "markdown",
   "metadata": {},
   "source": [
    "Посмотрим, что у нас хранится в датафрейме:"
   ]
  },
  {
   "cell_type": "code",
   "execution_count": 46,
   "metadata": {},
   "outputs": [
    {
     "data": {
      "text/html": [
       "<div>\n",
       "<style scoped>\n",
       "    .dataframe tbody tr th:only-of-type {\n",
       "        vertical-align: middle;\n",
       "    }\n",
       "\n",
       "    .dataframe tbody tr th {\n",
       "        vertical-align: top;\n",
       "    }\n",
       "\n",
       "    .dataframe thead th {\n",
       "        text-align: right;\n",
       "    }\n",
       "</style>\n",
       "<table border=\"1\" class=\"dataframe\">\n",
       "  <thead>\n",
       "    <tr style=\"text-align: right;\">\n",
       "      <th></th>\n",
       "      <th>calls</th>\n",
       "      <th>minutes</th>\n",
       "      <th>messages</th>\n",
       "      <th>mb_used</th>\n",
       "      <th>is_ultra</th>\n",
       "    </tr>\n",
       "  </thead>\n",
       "  <tbody>\n",
       "    <tr>\n",
       "      <td>1988</td>\n",
       "      <td>69.0</td>\n",
       "      <td>522.16</td>\n",
       "      <td>9.0</td>\n",
       "      <td>15834.77</td>\n",
       "      <td>0</td>\n",
       "    </tr>\n",
       "    <tr>\n",
       "      <td>921</td>\n",
       "      <td>93.0</td>\n",
       "      <td>722.64</td>\n",
       "      <td>0.0</td>\n",
       "      <td>14198.92</td>\n",
       "      <td>0</td>\n",
       "    </tr>\n",
       "    <tr>\n",
       "      <td>2234</td>\n",
       "      <td>70.0</td>\n",
       "      <td>489.70</td>\n",
       "      <td>13.0</td>\n",
       "      <td>10671.53</td>\n",
       "      <td>0</td>\n",
       "    </tr>\n",
       "    <tr>\n",
       "      <td>1604</td>\n",
       "      <td>95.0</td>\n",
       "      <td>614.91</td>\n",
       "      <td>0.0</td>\n",
       "      <td>13616.61</td>\n",
       "      <td>0</td>\n",
       "    </tr>\n",
       "    <tr>\n",
       "      <td>2368</td>\n",
       "      <td>82.0</td>\n",
       "      <td>539.18</td>\n",
       "      <td>46.0</td>\n",
       "      <td>16021.77</td>\n",
       "      <td>0</td>\n",
       "    </tr>\n",
       "  </tbody>\n",
       "</table>\n",
       "</div>"
      ],
      "text/plain": [
       "      calls  minutes  messages   mb_used  is_ultra\n",
       "1988   69.0   522.16       9.0  15834.77         0\n",
       "921    93.0   722.64       0.0  14198.92         0\n",
       "2234   70.0   489.70      13.0  10671.53         0\n",
       "1604   95.0   614.91       0.0  13616.61         0\n",
       "2368   82.0   539.18      46.0  16021.77         0"
      ]
     },
     "execution_count": 46,
     "metadata": {},
     "output_type": "execute_result"
    }
   ],
   "source": [
    "df.sample(5)"
   ]
  },
  {
   "cell_type": "code",
   "execution_count": 47,
   "metadata": {},
   "outputs": [
    {
     "name": "stdout",
     "output_type": "stream",
     "text": [
      "<class 'pandas.core.frame.DataFrame'>\n",
      "RangeIndex: 3214 entries, 0 to 3213\n",
      "Data columns (total 5 columns):\n",
      "calls       3214 non-null float64\n",
      "minutes     3214 non-null float64\n",
      "messages    3214 non-null float64\n",
      "mb_used     3214 non-null float64\n",
      "is_ultra    3214 non-null int64\n",
      "dtypes: float64(4), int64(1)\n",
      "memory usage: 125.7 KB\n"
     ]
    }
   ],
   "source": [
    "df.info()"
   ]
  },
  {
   "cell_type": "markdown",
   "metadata": {},
   "source": [
    "Посмотрим на количество объектов и признаков:"
   ]
  },
  {
   "cell_type": "code",
   "execution_count": 48,
   "metadata": {},
   "outputs": [
    {
     "data": {
      "text/plain": [
       "(3214, 5)"
      ]
     },
     "execution_count": 48,
     "metadata": {},
     "output_type": "execute_result"
    }
   ],
   "source": [
    "df.shape"
   ]
  },
  {
   "cell_type": "markdown",
   "metadata": {},
   "source": [
    "Из дополнительной документации определили следующие значения признаков:\n",
    "* **calls** - количество звонков;\n",
    "* **minutes** - суммарная длительность звонков в минутах;\n",
    "* **messages** - количество sms-сообщений;\n",
    "* **mb_used** - израсходованный интернет-трафик в МБ;\n",
    "* **is_ultra** - каким тарифом пользовался в течение месяца:\n",
    "    * `1` - тариф \"Ультра\";\n",
    "    * `0` - тариф \"Смарт\".\n",
    "    \n",
    "Из дополнительной информации известно, что данные уже предобработаны, поэтому предварительную обработку данных мы проводить не будем.\n",
    "\n",
    "### Вывод\n",
    "После выгрузки датасета, познакомились с содержащейся в ней информацией, определили количество признаков и объектов, с помощью которых будем решать задачу классификации."
   ]
  },
  {
   "cell_type": "code",
   "execution_count": 52,
   "metadata": {},
   "outputs": [
    {
     "data": {
      "text/plain": [
       "<seaborn.axisgrid.PairGrid at 0x7f6a1659d790>"
      ]
     },
     "execution_count": 52,
     "metadata": {},
     "output_type": "execute_result"
    },
    {
     "data": {
      "image/png": "[encoded data removed]",
      "text/plain": [
       "<Figure size 944.5x900 with 30 Axes>"
      ]
     },
     "metadata": {
      "needs_background": "light"
     },
     "output_type": "display_data"
    }
   ],
   "source": [
    "sns.pairplot(df, hue = 'is_ultra')"
   ]
  },
  {
   "cell_type": "markdown",
   "metadata": {},
   "source": [
    "<div class=\"alert alert-block alert-info\">\n",
    "<b>Комментарий студента</b> Построил матрицу диаграмм рассеяния. Вижу, что у нас есть лишние для обучения данных - это количество минут или количество звонков, так как они имеют сильную положительную зависимость\n",
    "</div>"
   ]
  },
  {
   "cell_type": "markdown",
   "metadata": {},
   "source": [
    "<div class=\"alert alert-block alert-success\">\n",
    "<b>Успех[2]:</b> Верно, это называется мультиколленаирностью!"
   ]
  },
  {
   "cell_type": "markdown",
   "metadata": {},
   "source": [
    "## Разбейте данные на выборки"
   ]
  },
  {
   "cell_type": "markdown",
   "metadata": {},
   "source": [
    "Прежде чем начать реализацию модели классификации, разобьем наши данные на следующие группы:\n",
    "* **Обучающая выборка** - с помощью которой обучим нашу модель;\n",
    "* **Валидационная выборка** - с помощью которой будем проверять корректность алгоритма во время обучения;\n",
    "* **Тестовая выборка** - сторонние данные, по которым определим, как модель наша обучена.\n",
    "\n",
    "Так как тестовая выборка изначально отсутствует, разобьем наш датасет в следующих пропорциях:\n",
    "* **Обучающая выборка** - 60% исходных данных;\n",
    "* **Валидационная выборка** - 20% исходных данных;\n",
    "* **Тестовая выборка** - 20% исходных данных."
   ]
  },
  {
   "cell_type": "code",
   "execution_count": 54,
   "metadata": {},
   "outputs": [],
   "source": [
    "# split_df - используется для дальнейшего разбиения \n",
    "train_df, split_df = (\n",
    "    train_test_split(df, test_size = 0.4, random_state = 54321)\n",
    ")"
   ]
  },
  {
   "cell_type": "markdown",
   "metadata": {},
   "source": [
    "Посмотрим, как мы разбили наши данные:"
   ]
  },
  {
   "cell_type": "code",
   "execution_count": 55,
   "metadata": {},
   "outputs": [
    {
     "data": {
      "text/plain": [
       "(1928, 5)"
      ]
     },
     "execution_count": 55,
     "metadata": {},
     "output_type": "execute_result"
    }
   ],
   "source": [
    "train_df.shape"
   ]
  },
  {
   "cell_type": "code",
   "execution_count": 56,
   "metadata": {},
   "outputs": [
    {
     "data": {
      "text/plain": [
       "(1286, 5)"
      ]
     },
     "execution_count": 56,
     "metadata": {},
     "output_type": "execute_result"
    }
   ],
   "source": [
    "split_df.shape"
   ]
  },
  {
   "cell_type": "markdown",
   "metadata": {},
   "source": [
    "Теперь получим **тестовую** и **валидационную** выборки"
   ]
  },
  {
   "cell_type": "code",
   "execution_count": 57,
   "metadata": {},
   "outputs": [],
   "source": [
    "validate_df, test_df = (\n",
    "    train_test_split(split_df, test_size = 0.5, random_state = 54321)\n",
    ")"
   ]
  },
  {
   "cell_type": "markdown",
   "metadata": {},
   "source": [
    "Посмотрим, что получилось в итоге:\n",
    "\n",
    "Валидационная выборка:"
   ]
  },
  {
   "cell_type": "code",
   "execution_count": 58,
   "metadata": {},
   "outputs": [
    {
     "data": {
      "text/plain": [
       "(643, 5)"
      ]
     },
     "execution_count": 58,
     "metadata": {},
     "output_type": "execute_result"
    }
   ],
   "source": [
    "validate_df.shape"
   ]
  },
  {
   "cell_type": "code",
   "execution_count": 59,
   "metadata": {},
   "outputs": [
    {
     "data": {
      "text/plain": [
       "(643, 5)"
      ]
     },
     "execution_count": 59,
     "metadata": {},
     "output_type": "execute_result"
    }
   ],
   "source": [
    "test_df.shape"
   ]
  },
  {
   "cell_type": "markdown",
   "metadata": {},
   "source": [
    "### Вывод\n",
    "Разбили наш датасет на выборки в следующих пропорциях:\n",
    "* **Обучающая выборка** - 60% исходных данных;\n",
    "* **Валидационная выборка** - 20% исходных данных;\n",
    "* **Тестовая выборка** - 20% исходных данных\n",
    "\n",
    "Теперь перейдем к реализации модели."
   ]
  },
  {
   "cell_type": "markdown",
   "metadata": {},
   "source": [
    "<div class=\"alert alert-block alert-success\">\n",
    "    \n",
    "<b>Успех:</b> С разбиением все хорошо, молодец, что не забываешь проверять размеры полученных выборки,  это иной раз может предостеречь тебя от глупых ошибок.\n",
    "  </div>  \n"
   ]
  },
  {
   "cell_type": "markdown",
   "metadata": {},
   "source": [
    "## Исследуйте модели"
   ]
  },
  {
   "cell_type": "markdown",
   "metadata": {},
   "source": [
    "Прежде чем начнем моделирование, необходимо определить, что мы планируем прогнозировать?\n",
    "\n",
    "Так как в задании указано, создать модель для задачи классификации подбора подходящего тарифа, то создадим модель бинарной классификации. Для этого определим признаки (вопросы) и целевой признак (ответы) для нашего алгоритма.\n",
    "\n",
    "**Признаки**:\n",
    "\n",
    "   * **calls** - количество звонков;\n",
    "   * **minutes** - суммарная длительность звонков в минутах;\n",
    "   * **messages** - количество sms-сообщений;\n",
    "   * **mb_used** - израсходованный интернет-трафик в МБ;\n",
    "\n",
    "**Целевой признак**:\n",
    "    \n",
    "   * **is_ultra** - каким тарифом пользовался в течение месяца:\n",
    "        * `1` - тариф \"Ультра\";\n",
    "        * `0` - тариф \"Смарт\". "
   ]
  },
  {
   "cell_type": "code",
   "execution_count": 60,
   "metadata": {},
   "outputs": [],
   "source": [
    "features = train_df.drop('is_ultra', 1)"
   ]
  },
  {
   "cell_type": "code",
   "execution_count": 61,
   "metadata": {},
   "outputs": [],
   "source": [
    "target = train_df.is_ultra"
   ]
  },
  {
   "cell_type": "code",
   "execution_count": 62,
   "metadata": {},
   "outputs": [],
   "source": [
    "features_valid = validate_df.drop('is_ultra', 1)\n",
    "target_valid = validate_df.is_ultra"
   ]
  },
  {
   "cell_type": "markdown",
   "metadata": {},
   "source": [
    "Для начала обучим модель разными способами (со стандартными гиперпараметрами):\n",
    "* Модель решающего дерева;\n",
    "* Модель случайного леса;\n",
    "* Модель логистической регресии.\n",
    "\n",
    "**Модель решающего дерева**:"
   ]
  },
  {
   "cell_type": "code",
   "execution_count": 17,
   "metadata": {},
   "outputs": [
    {
     "name": "stdout",
     "output_type": "stream",
     "text": [
      "Точность решающего дерева: 0.687402799377916\n"
     ]
    }
   ],
   "source": [
    "model_tree = DecisionTreeClassifier(random_state = 54321)\n",
    "model_tree.fit(features, target)\n",
    "result = model_tree.score(features_valid, target_valid)\n",
    "print(f'Точность решающего дерева: {result}')"
   ]
  },
  {
   "cell_type": "markdown",
   "metadata": {},
   "source": [
    "**Модель случайного леса**:"
   ]
  },
  {
   "cell_type": "code",
   "execution_count": 18,
   "metadata": {},
   "outputs": [
    {
     "name": "stdout",
     "output_type": "stream",
     "text": [
      "Точность случайного леса: 0.7698289269051322\n"
     ]
    }
   ],
   "source": [
    "# поставил n-estimators, чтобы избавиться от warning'a\n",
    "model_forest = RandomForestClassifier(random_state = 54321)\n",
    "model_forest.fit(features, target)\n",
    "result = model_forest.score(features_valid, target_valid)\n",
    "print(f'Точность случайного леса: {result}')"
   ]
  },
  {
   "cell_type": "markdown",
   "metadata": {},
   "source": [
    "**Модель логистической регрессии**:"
   ]
  },
  {
   "cell_type": "code",
   "execution_count": 19,
   "metadata": {},
   "outputs": [
    {
     "name": "stdout",
     "output_type": "stream",
     "text": [
      "Точность логистической регрессии: 0.6780715396578538\n"
     ]
    }
   ],
   "source": [
    "model_log = LogisticRegression(random_state = 54321)\n",
    "model_log.fit(features, target)\n",
    "result = model_log.score(features_valid, target_valid)\n",
    "print(f'Точность логистической регрессии: {result}')"
   ]
  },
  {
   "cell_type": "markdown",
   "metadata": {},
   "source": [
    "Здесь мы видим следующие результаты обучения разных моделей со стандартными гиперпараметрами:\n",
    "\n",
    "* По доле правильных ответов лучше всего модель случайного леса. Однако в качестве стандартных параметров используется 10 деревьев, что увеличивает время обучения данной модели.\n",
    "* Модель логистической регрессии и решающего дерева не справились с требуемой долей правильных ответов. \n",
    "\n",
    "Поэтому проведем исследование зависимости точности обучения модели от гиперпараметров"
   ]
  },
  {
   "cell_type": "markdown",
   "metadata": {},
   "source": [
    "## Исследование моделей в зависимости от гиперпарметров"
   ]
  },
  {
   "cell_type": "markdown",
   "metadata": {},
   "source": [
    "**Модель решающего дерева**\n",
    "\n",
    "Посмотрим, какие гиперпараметры можно менять вручную у модели решающего дерева:"
   ]
  },
  {
   "cell_type": "code",
   "execution_count": 20,
   "metadata": {},
   "outputs": [],
   "source": [
    "# закомментировано для удобства\n",
    "#DecisionTreeClassifier?"
   ]
  },
  {
   "cell_type": "markdown",
   "metadata": {},
   "source": [
    "Видим, что можно изменить большое количество гиперпараметров. В рамках работы ограничимся тремя параметрами:\n",
    "\n",
    "   * `max_depth` - глубина дерева;\n",
    "   * `min_samples_split` - минимальное количество объектов в узле дерева, достаточное для дальнейшего разделения;\n",
    "   * `min_samples_leaf` — минимальное число объектов в листьях дерева — нижних узлах с ответами.\n",
    "\n",
    "Попробуем изменить эти гиперпараметры и посмотреть на реузльтаты обучения."
   ]
  },
  {
   "cell_type": "code",
   "execution_count": 21,
   "metadata": {},
   "outputs": [
    {
     "name": "stdout",
     "output_type": "stream",
     "text": [
      "Точность: 0.7651632970451011\n",
      "Глубина дерева: 3\n",
      "Количество объектов в узле дерева: 2\n",
      "Количество объектов в листе дерева: 1 \n",
      "\n",
      "Точность: 0.744945567651633\n",
      "Глубина дерева: 4\n",
      "Количество объектов в узле дерева: 2\n",
      "Количество объектов в листе дерева: 1 \n",
      "\n",
      "Точность: 0.7651632970451011\n",
      "Глубина дерева: 5\n",
      "Количество объектов в узле дерева: 2\n",
      "Количество объектов в листе дерева: 1 \n",
      "\n",
      "Точность: 0.7542768273716952\n",
      "Глубина дерева: 6\n",
      "Количество объектов в узле дерева: 2\n",
      "Количество объектов в листе дерева: 1 \n",
      "\n",
      "Точность: 0.7433903576982893\n",
      "Глубина дерева: 7\n",
      "Количество объектов в узле дерева: 2\n",
      "Количество объектов в листе дерева: 1 \n",
      "\n",
      "Точность: 0.7511664074650077\n",
      "Глубина дерева: 8\n",
      "Количество объектов в узле дерева: 2\n",
      "Количество объектов в листе дерева: 1 \n",
      "\n",
      "Точность: 0.7682737169517885\n",
      "Глубина дерева: 9\n",
      "Количество объектов в узле дерева: 2\n",
      "Количество объектов в листе дерева: 1 \n",
      "\n",
      "Точность: 0.7822706065318819\n",
      "Глубина дерева: 10\n",
      "Количество объектов в узле дерева: 2\n",
      "Количество объектов в листе дерева: 1 \n",
      "\n",
      "Точность: 0.7651632970451011\n",
      "Глубина дерева: 3\n",
      "Количество объектов в узле дерева: 2\n",
      "Количество объектов в листе дерева: 2 \n",
      "\n",
      "Точность: 0.744945567651633\n",
      "Глубина дерева: 4\n",
      "Количество объектов в узле дерева: 2\n",
      "Количество объектов в листе дерева: 2 \n",
      "\n",
      "Точность: 0.76049766718507\n",
      "Глубина дерева: 5\n",
      "Количество объектов в узле дерева: 2\n",
      "Количество объектов в листе дерева: 2 \n",
      "\n",
      "Точность: 0.749611197511664\n",
      "Глубина дерева: 6\n",
      "Количество объектов в узле дерева: 2\n",
      "Количество объектов в листе дерева: 2 \n",
      "\n",
      "Точность: 0.7418351477449455\n",
      "Глубина дерева: 7\n",
      "Количество объектов в узле дерева: 2\n",
      "Количество объектов в листе дерева: 2 \n",
      "\n",
      "Точность: 0.7418351477449455\n",
      "Глубина дерева: 8\n",
      "Количество объектов в узле дерева: 2\n",
      "Количество объектов в листе дерева: 2 \n",
      "\n",
      "Точность: 0.7542768273716952\n",
      "Глубина дерева: 9\n",
      "Количество объектов в узле дерева: 2\n",
      "Количество объектов в листе дерева: 2 \n",
      "\n",
      "Точность: 0.7636080870917574\n",
      "Глубина дерева: 10\n",
      "Количество объектов в узле дерева: 2\n",
      "Количество объектов в листе дерева: 2 \n",
      "\n",
      "Точность: 0.7651632970451011\n",
      "Глубина дерева: 3\n",
      "Количество объектов в узле дерева: 3\n",
      "Количество объектов в листе дерева: 1 \n",
      "\n",
      "Точность: 0.744945567651633\n",
      "Глубина дерева: 4\n",
      "Количество объектов в узле дерева: 3\n",
      "Количество объектов в листе дерева: 1 \n",
      "\n",
      "Точность: 0.7651632970451011\n",
      "Глубина дерева: 5\n",
      "Количество объектов в узле дерева: 3\n",
      "Количество объектов в листе дерева: 1 \n",
      "\n",
      "Точность: 0.7542768273716952\n",
      "Глубина дерева: 6\n",
      "Количество объектов в узле дерева: 3\n",
      "Количество объектов в листе дерева: 1 \n",
      "\n",
      "Точность: 0.744945567651633\n",
      "Глубина дерева: 7\n",
      "Количество объектов в узле дерева: 3\n",
      "Количество объектов в листе дерева: 1 \n",
      "\n",
      "Точность: 0.7558320373250389\n",
      "Глубина дерева: 8\n",
      "Количество объектов в узле дерева: 3\n",
      "Количество объектов в листе дерева: 1 \n",
      "\n",
      "Точность: 0.7667185069984448\n",
      "Глубина дерева: 9\n",
      "Количество объектов в узле дерева: 3\n",
      "Количество объектов в листе дерева: 1 \n",
      "\n",
      "Точность: 0.7729393468118196\n",
      "Глубина дерева: 10\n",
      "Количество объектов в узле дерева: 3\n",
      "Количество объектов в листе дерева: 1 \n",
      "\n",
      "Точность: 0.7651632970451011\n",
      "Глубина дерева: 3\n",
      "Количество объектов в узле дерева: 3\n",
      "Количество объектов в листе дерева: 2 \n",
      "\n",
      "Точность: 0.744945567651633\n",
      "Глубина дерева: 4\n",
      "Количество объектов в узле дерева: 3\n",
      "Количество объектов в листе дерева: 2 \n",
      "\n",
      "Точность: 0.76049766718507\n",
      "Глубина дерева: 5\n",
      "Количество объектов в узле дерева: 3\n",
      "Количество объектов в листе дерева: 2 \n",
      "\n",
      "Точность: 0.749611197511664\n",
      "Глубина дерева: 6\n",
      "Количество объектов в узле дерева: 3\n",
      "Количество объектов в листе дерева: 2 \n",
      "\n",
      "Точность: 0.7418351477449455\n",
      "Глубина дерева: 7\n",
      "Количество объектов в узле дерева: 3\n",
      "Количество объектов в листе дерева: 2 \n",
      "\n",
      "Точность: 0.7418351477449455\n",
      "Глубина дерева: 8\n",
      "Количество объектов в узле дерева: 3\n",
      "Количество объектов в листе дерева: 2 \n",
      "\n",
      "Точность: 0.7542768273716952\n",
      "Глубина дерева: 9\n",
      "Количество объектов в узле дерева: 3\n",
      "Количество объектов в листе дерева: 2 \n",
      "\n",
      "Точность: 0.7636080870917574\n",
      "Глубина дерева: 10\n",
      "Количество объектов в узле дерева: 3\n",
      "Количество объектов в листе дерева: 2 \n",
      "\n",
      "Лучшая точность: 0.7822706065318819\n",
      "Глубина дерева: 10\n",
      "Количество объектов в узле дерева: 2\n",
      "Количество объектов в листе дерева: 1\n"
     ]
    }
   ],
   "source": [
    "best_model_tree = None\n",
    "best_result = 0\n",
    "best_samples_split = 0\n",
    "best_samples_leaf = 0\n",
    "best_depth = 0\n",
    "for samp_split in range(2,4):\n",
    "    for samp_leaf in range(1,3):\n",
    "        for depth in range(3,11):\n",
    "            model = (\n",
    "                DecisionTreeClassifier(random_state = 54321, \n",
    "                                       max_depth = depth,\n",
    "                                      min_samples_split = samp_split,\n",
    "                                      min_samples_leaf = samp_leaf)\n",
    "            )\n",
    "            \n",
    "            model.fit(features, target)\n",
    "            result = model.score(features_valid, target_valid)\n",
    "            \n",
    "            print(f'Точность: {result}')\n",
    "            print(f'Глубина дерева: {depth}')\n",
    "            print(f'Количество объектов в узле дерева: {samp_split}')\n",
    "            print(f'Количество объектов в листе дерева: {samp_leaf} \\n')\n",
    "            \n",
    "            if result > best_result:\n",
    "                best_result = result\n",
    "                best_model_tree = model\n",
    "                best_samples_split = samp_split\n",
    "                best_samples_leaf = samp_leaf\n",
    "                best_depth = depth\n",
    "    \n",
    "print(f'Лучшая точность: {best_result}')\n",
    "print(f'Глубина дерева: {best_depth}')\n",
    "print(f'Количество объектов в узле дерева: {best_samples_split}')\n",
    "print(f'Количество объектов в листе дерева: {best_samples_leaf}')"
   ]
  },
  {
   "cell_type": "markdown",
   "metadata": {},
   "source": [
    "В процессе моделирования определили, что на точность влияет такой гиперпараметр, как глубина дерева. Определим, как глубина дерева влияет на точность модели (остальные гиперпараметры стандартные)."
   ]
  },
  {
   "cell_type": "code",
   "execution_count": 22,
   "metadata": {},
   "outputs": [
    {
     "name": "stdout",
     "output_type": "stream",
     "text": [
      "Глубина дерева = 1, доля правильных ответов = 0.7216174183514774\n",
      "Глубина дерева = 2, доля правильных ответов = 0.7418351477449455\n",
      "Глубина дерева = 3, доля правильных ответов = 0.7651632970451011\n",
      "Глубина дерева = 4, доля правильных ответов = 0.744945567651633\n",
      "Глубина дерева = 5, доля правильных ответов = 0.7651632970451011\n",
      "Глубина дерева = 6, доля правильных ответов = 0.7542768273716952\n",
      "Глубина дерева = 7, доля правильных ответов = 0.7433903576982893\n",
      "Глубина дерева = 8, доля правильных ответов = 0.7511664074650077\n",
      "Глубина дерева = 9, доля правильных ответов = 0.7682737169517885\n",
      "Глубина дерева = 10, доля правильных ответов = 0.7822706065318819\n",
      "Глубина дерева = 11, доля правильных ответов = 0.7729393468118196\n",
      "Глубина дерева = 12, доля правильных ответов = 0.7480559875583204\n",
      "Глубина дерева = 13, доля правильных ответов = 0.7387247278382582\n",
      "Глубина дерева = 14, доля правильных ответов = 0.7356143079315708\n",
      "\n",
      "Лучшая точность: 0.7822706065318819\n",
      "Глубина дерева: 10\n"
     ]
    }
   ],
   "source": [
    "accuracy_list = []\n",
    "depth_lst = []\n",
    "best_model_tree = None\n",
    "best_result = 0\n",
    "best_depth = 0\n",
    "for depth in range(1,15):\n",
    "    model = (\n",
    "         DecisionTreeClassifier(random_state = 54321, \n",
    "                                       max_depth = depth)\n",
    "            )\n",
    "    model.fit(features, target)\n",
    "    result = model.score(features_valid, target_valid)\n",
    "    accuracy_list.append(result)\n",
    "    depth_lst.append(depth)\n",
    "    print(f'Глубина дерева = {depth}, доля правильных ответов = {result}')\n",
    "    if result > best_result:\n",
    "        best_model_tree = model\n",
    "        best_result = result\n",
    "        best_depth = depth\n",
    "print(f'\\nЛучшая точность: {best_result}')\n",
    "print(f'Глубина дерева: {best_depth}')"
   ]
  },
  {
   "cell_type": "code",
   "execution_count": 23,
   "metadata": {},
   "outputs": [],
   "source": [
    "df_to_plot = pd.DataFrame({'depth' : depth_lst, 'accuracy' : accuracy_list})"
   ]
  },
  {
   "cell_type": "code",
   "execution_count": 24,
   "metadata": {},
   "outputs": [
    {
     "data": {
      "text/plain": [
       "(array([0.71, 0.72, 0.73, 0.74, 0.75, 0.76, 0.77, 0.78, 0.79]),\n",
       " <a list of 9 Text yticklabel objects>)"
      ]
     },
     "execution_count": 24,
     "metadata": {},
     "output_type": "execute_result"
    },
    {
     "data": {
      "image/png": "[encoded data removed]",
      "text/plain": [
       "<Figure size 1440x720 with 1 Axes>"
      ]
     },
     "metadata": {
      "needs_background": "light"
     },
     "output_type": "display_data"
    }
   ],
   "source": [
    "df_to_plot.plot(kind = 'line', x = 'depth', y = 'accuracy', figsize = (20,10), grid = True)\n",
    "plt.title('Зависимость точности от глубины дерева', fontsize = 15)\n",
    "plt.ylabel('Доля правильных ответов', fontsize = 15)\n",
    "plt.xlabel('Глубина дерева', fontsize = 15)\n",
    "plt.xticks(fontsize = 15)\n",
    "plt.yticks(fontsize = 15)"
   ]
  },
  {
   "cell_type": "markdown",
   "metadata": {},
   "source": [
    "Видим, что если глубина дерева маленькая, то доля правильных моделей модели низкая, однако после глубины дерева, равной 10 наблюдается снижение доли правильных ответов. Это связано с тем, что модель недообучена (в случае малой глубины) или переобучена (глубина больше 10).\n",
    "\n",
    "Теперь проведем исследование гиперпараметров модели случайного леса\n",
    "\n",
    "**Модель случайного леса**\n",
    "\n",
    "Посмотрим, какие гиперпараметры можно менять у модели случайного леса:"
   ]
  },
  {
   "cell_type": "code",
   "execution_count": 25,
   "metadata": {},
   "outputs": [],
   "source": [
    "#RandomForestClassifier?"
   ]
  },
  {
   "cell_type": "markdown",
   "metadata": {},
   "source": [
    "Видим, можем менять следующие гиперпараметры:\n",
    "* `n-estimators` - количество деревьев;\n",
    "* `max_depth` - глубина дерева;\n",
    "* `criterion` - критерий (\"Джини\" или энтропия).\n",
    "\n",
    "Посмотрим, как меняется доля правильных ответов в зависимости от гиперпараметров."
   ]
  },
  {
   "cell_type": "code",
   "execution_count": 26,
   "metadata": {},
   "outputs": [
    {
     "name": "stdout",
     "output_type": "stream",
     "text": [
      "Наибольшая доля правильных ответов: 0.80248833592535\n",
      "Глубина дерева: 10\n",
      "Количество деревьев: 8\n"
     ]
    }
   ],
   "source": [
    "best_model_forest = None\n",
    "best_result = 0\n",
    "best_depth = 0\n",
    "best_est = 0\n",
    "accuracy_lst = []\n",
    "est_lst = []\n",
    "depth_lst = []\n",
    "for est in range(1, 15):\n",
    "    for depth in range(1, 15):\n",
    "        model = RandomForestClassifier(random_state = 54321, max_depth = depth, n_estimators = est)\n",
    "        model.fit(features, target)\n",
    "        result = model.score(features_valid, target_valid)\n",
    "        \n",
    "        accuracy_lst.append(result)\n",
    "        est_lst.append(est)\n",
    "        depth_lst.append(depth)\n",
    "        \n",
    "        if result > best_result:\n",
    "            best_model_forest = model\n",
    "            best_result = result\n",
    "            best_depth = depth\n",
    "            best_est = est\n",
    "            \n",
    "print(f'Наибольшая доля правильных ответов: {best_result}')\n",
    "print(f'Глубина дерева: {best_depth}')\n",
    "print(f'Количество деревьев: {best_est}')"
   ]
  },
  {
   "cell_type": "code",
   "execution_count": 27,
   "metadata": {},
   "outputs": [],
   "source": [
    "df_to_plot = pd.DataFrame({'est': est_lst, 'depth': depth_lst, 'accuracy' : accuracy_lst})"
   ]
  },
  {
   "cell_type": "code",
   "execution_count": 28,
   "metadata": {},
   "outputs": [
    {
     "data": {
      "text/html": [
       "<div>\n",
       "<style scoped>\n",
       "    .dataframe tbody tr th:only-of-type {\n",
       "        vertical-align: middle;\n",
       "    }\n",
       "\n",
       "    .dataframe tbody tr th {\n",
       "        vertical-align: top;\n",
       "    }\n",
       "\n",
       "    .dataframe thead th {\n",
       "        text-align: right;\n",
       "    }\n",
       "</style>\n",
       "<table border=\"1\" class=\"dataframe\">\n",
       "  <thead>\n",
       "    <tr style=\"text-align: right;\">\n",
       "      <th></th>\n",
       "      <th>est</th>\n",
       "      <th>depth</th>\n",
       "      <th>accuracy</th>\n",
       "    </tr>\n",
       "  </thead>\n",
       "  <tbody>\n",
       "    <tr>\n",
       "      <td>0</td>\n",
       "      <td>1</td>\n",
       "      <td>1</td>\n",
       "      <td>0.721617</td>\n",
       "    </tr>\n",
       "    <tr>\n",
       "      <td>1</td>\n",
       "      <td>1</td>\n",
       "      <td>2</td>\n",
       "      <td>0.751166</td>\n",
       "    </tr>\n",
       "    <tr>\n",
       "      <td>2</td>\n",
       "      <td>1</td>\n",
       "      <td>3</td>\n",
       "      <td>0.738725</td>\n",
       "    </tr>\n",
       "    <tr>\n",
       "      <td>3</td>\n",
       "      <td>1</td>\n",
       "      <td>4</td>\n",
       "      <td>0.741835</td>\n",
       "    </tr>\n",
       "    <tr>\n",
       "      <td>4</td>\n",
       "      <td>1</td>\n",
       "      <td>5</td>\n",
       "      <td>0.760498</td>\n",
       "    </tr>\n",
       "  </tbody>\n",
       "</table>\n",
       "</div>"
      ],
      "text/plain": [
       "   est  depth  accuracy\n",
       "0    1      1  0.721617\n",
       "1    1      2  0.751166\n",
       "2    1      3  0.738725\n",
       "3    1      4  0.741835\n",
       "4    1      5  0.760498"
      ]
     },
     "execution_count": 28,
     "metadata": {},
     "output_type": "execute_result"
    }
   ],
   "source": [
    "df_to_plot.head()"
   ]
  },
  {
   "cell_type": "markdown",
   "metadata": {},
   "source": [
    "Построим график зависимости доли правильных ответов от количества деревьев, в качестве глубины дерева возьмем размер, равный 10."
   ]
  },
  {
   "cell_type": "code",
   "execution_count": 29,
   "metadata": {},
   "outputs": [],
   "source": [
    "df_to_plot = df_to_plot.query('depth == 10')"
   ]
  },
  {
   "cell_type": "code",
   "execution_count": 30,
   "metadata": {},
   "outputs": [
    {
     "data": {
      "text/plain": [
       "(array([0.73, 0.74, 0.75, 0.76, 0.77, 0.78, 0.79, 0.8 , 0.81]),\n",
       " <a list of 9 Text yticklabel objects>)"
      ]
     },
     "execution_count": 30,
     "metadata": {},
     "output_type": "execute_result"
    },
    {
     "data": {
      "image/png": "[encoded data removed]",
      "text/plain": [
       "<Figure size 1440x720 with 1 Axes>"
      ]
     },
     "metadata": {
      "needs_background": "light"
     },
     "output_type": "display_data"
    }
   ],
   "source": [
    "df_to_plot.plot(kind = 'line', x = 'est', y = 'accuracy', figsize = (20,10), grid = True)\n",
    "plt.title('Зависимость доли правильных ответов от количества деревьев', fontsize = 15)\n",
    "plt.ylabel('Доля правильных ответов', fontsize = 15)\n",
    "plt.xlabel('Количество деревьев', fontsize = 15)\n",
    "plt.xticks(fontsize = 15)\n",
    "plt.yticks(fontsize = 15)"
   ]
  },
  {
   "cell_type": "markdown",
   "metadata": {},
   "source": [
    "Здесь мы видим следующее: чем больше деревьев, тем больше доля правильных ответов. При этом необходимо учитвать глубину каждого дерева, так как если глубина маленькая, то модель будет недообучена, иначе - переобучена.\n",
    "\n",
    "Теперь рассмотрим модель логистической регресии\n",
    "\n",
    "**Логистическая регрессия**\n",
    "\n",
    "Прежде всего посмотрим на количество гиперпараметров в данной модели:"
   ]
  },
  {
   "cell_type": "code",
   "execution_count": 31,
   "metadata": {},
   "outputs": [],
   "source": [
    "# закомментировано для удобства\n",
    "#LogisticRegression?"
   ]
  },
  {
   "cell_type": "markdown",
   "metadata": {},
   "source": [
    "Видим, что гиперпараметров у этой модели не так много, по сравнению с другими моделями в сравнении. Посмотрим на результаты обучения модели."
   ]
  },
  {
   "cell_type": "code",
   "execution_count": 32,
   "metadata": {},
   "outputs": [
    {
     "name": "stdout",
     "output_type": "stream",
     "text": [
      "Доля правильных ответов: 0.6780715396578538, Решатель: liblinear\n",
      "Доля правильных ответов: 0.7076205287713841, Решатель: newton-cg\n",
      "Доля правильных ответов: 0.6749611197511665, Решатель: lbfgs\n",
      "Доля правильных ответов: 0.6516329704510109, Решатель: sag\n",
      "Доля правильных ответов: 0.6516329704510109, Решатель: saga\n"
     ]
    }
   ],
   "source": [
    "solver_lst = ['liblinear', 'newton-cg', 'lbfgs', 'sag', 'saga']\n",
    "for i in range(len(solver_lst)):\n",
    "    model = LogisticRegression(random_state = 54321, solver = solver_lst[i])\n",
    "    model.fit(features, target)\n",
    "    result = model.score(features_valid, target_valid)\n",
    "    print(f'Доля правильных ответов: {result}, Решатель: {solver_lst[i]}')"
   ]
  },
  {
   "cell_type": "markdown",
   "metadata": {},
   "source": [
    "Здесь мы видим следующее: в зависимости от решателя получаем разную долю правильных ответов. Лучший показетель по количеству правильных ответов у решателя `newton-cg` с долей, равной 70%.\n",
    "\n",
    "### Вывод\n",
    "\n",
    "В результате иссследования установили, что в зависимости от гиперпараметров, которые подбираются перед обучением модели, получаем разную долю правильных ответов. \n",
    "* Лучше всего показала себя модель случайного леса. Доля правильных ответов составила 80%. Однако это самая медленная модель среди остальных в сравнении; Чем больше деревьев используются в модели, тем дольше обучается модель\n",
    "* \"Золотой серединой\" показала себя модель решающего дерева. Модель быстро обучилась, а доля правильных ответов составляет 78%, что на 2% меньше по сравнению со случайным лесом. При этом обратили внимание, что в зависимости от глубины дерева, мы можем получить эффект недообучения (глубина дерева маленькая) или переобучения (глубина дерева слишком большая).\n",
    "* Хуже всего показала себя модель логистической регрессии, при применении модели на валидационной выборке получили 67-70% правильных ответов. \n",
    "\n",
    "В данном случае воспользуемся моделью случайного леса для тестовой выборки."
   ]
  },
  {
   "cell_type": "markdown",
   "metadata": {},
   "source": [
    "## Проверьте модель на тестовой выборке"
   ]
  },
  {
   "cell_type": "code",
   "execution_count": 33,
   "metadata": {},
   "outputs": [],
   "source": [
    "test_f = test_df.drop('is_ultra', 1)\n",
    "test_t = test_df.is_ultra"
   ]
  },
  {
   "cell_type": "code",
   "execution_count": 34,
   "metadata": {},
   "outputs": [
    {
     "name": "stdout",
     "output_type": "stream",
     "text": [
      "Доля правильных ответов: 0.8227060653188181\n"
     ]
    }
   ],
   "source": [
    "# best_model_forest - лучшая модель случайного леса, которую получили в результате проверки гиперпараметров\n",
    "test_result = best_model_forest.score(test_f, test_t)\n",
    "print(f'Доля правильных ответов: {test_result}')"
   ]
  },
  {
   "cell_type": "markdown",
   "metadata": {},
   "source": [
    "Видим, что на тестовой выборке доля правильных ответов составила 82%. Это хороший показатель, так как на валидационной выборке доля правильных ответов составила 80%. "
   ]
  },
  {
   "cell_type": "markdown",
   "metadata": {},
   "source": [
    "## (бонус) Проверьте модели на адекватность"
   ]
  },
  {
   "cell_type": "markdown",
   "metadata": {},
   "source": [
    "Теперь проверим нашу модель на адекватность. Здесь возможно несколько вариантов проверки:\n",
    "1. Проверка нашей модели со случайной. Здесь подразумевается обучение нашей модели по целевому признаку, который генерируется случайно и далее проверяется на валидационной выборке; \n",
    "2. Известно количество классов и элементов в каждом классе в целевом признаке. Можно сравнить вероятность получения наиболее вероятного значения целевого признака исходной выборки с результатом отработки модели.\n",
    "\n",
    "Начнем с первого метода."
   ]
  },
  {
   "cell_type": "code",
   "execution_count": 35,
   "metadata": {},
   "outputs": [],
   "source": [
    "df['is_ultra_rand'] = np.random.choice([0,1], len(df), 0.5)"
   ]
  },
  {
   "cell_type": "code",
   "execution_count": 36,
   "metadata": {},
   "outputs": [
    {
     "data": {
      "text/plain": [
       "0    1633\n",
       "1    1581\n",
       "Name: is_ultra_rand, dtype: int64"
      ]
     },
     "execution_count": 36,
     "metadata": {},
     "output_type": "execute_result"
    }
   ],
   "source": [
    "df.is_ultra_rand.value_counts()"
   ]
  },
  {
   "cell_type": "markdown",
   "metadata": {},
   "source": [
    "Далее сформируем обучающую, валидационную выборки."
   ]
  },
  {
   "cell_type": "code",
   "execution_count": 37,
   "metadata": {},
   "outputs": [],
   "source": [
    "features = df.drop(['is_ultra', 'is_ultra_rand'], 1)\n",
    "target = df.is_ultra_rand"
   ]
  },
  {
   "cell_type": "code",
   "execution_count": 38,
   "metadata": {},
   "outputs": [],
   "source": [
    "train_features, val_features, train_target, val_target = (\n",
    "    train_test_split(features,target, test_size = 0.2, random_state = 54321)\n",
    ")"
   ]
  },
  {
   "cell_type": "markdown",
   "metadata": {},
   "source": [
    "Теперь обучим по сформированным параметрам нашу модель случайного леса."
   ]
  },
  {
   "cell_type": "code",
   "execution_count": 39,
   "metadata": {},
   "outputs": [
    {
     "name": "stdout",
     "output_type": "stream",
     "text": [
      "Доля правильных ответов в валидационной выборке: 0.5427682737169518\n",
      "Доля правильных ответов в тестовой выборке: 0.48522550544323484\n"
     ]
    }
   ],
   "source": [
    "best_model_forest.fit(train_features, train_target)\n",
    "result_v = best_model_forest.score(val_features, val_target)\n",
    "result_t = best_model_forest.score(test_f, test_t)\n",
    "print(f'Доля правильных ответов в валидационной выборке: {result_v}')\n",
    "print(f'Доля правильных ответов в тестовой выборке: {result_t}')"
   ]
  },
  {
   "cell_type": "markdown",
   "metadata": {},
   "source": [
    "Видим, что доля правильных ответов на тестовой выборке составляет 50% при случайной модели, что меньше, чем мы получили в результате проверки модели, обученной по готовым данным, а не сформированным случайно. \n",
    "\n",
    "Модель проверку на адекватность прошла.\n",
    "\n",
    "Теперь рассмотрим простейший случай. Можно сравнить вероятность получения наиболее вероятного значения целевого признака исходной выборки с результатом отработки модели. Если модель предсказывает лучше, чем простая вероятность получения наиболее частого значения целевого признака, то модель адекватна."
   ]
  },
  {
   "cell_type": "code",
   "execution_count": 40,
   "metadata": {},
   "outputs": [
    {
     "data": {
      "text/plain": [
       "0.693528313627878"
      ]
     },
     "execution_count": 40,
     "metadata": {},
     "output_type": "execute_result"
    }
   ],
   "source": [
    "df.is_ultra.value_counts()[0] / df.shape[0]"
   ]
  },
  {
   "cell_type": "markdown",
   "metadata": {},
   "source": [
    "Видим, что вероятность получения наиболее частого значения в выборке меньше, чем доля правильных ответов в нашей модели.\n",
    "\n",
    "Модель проверку на адекватность прошла."
   ]
  },
  {
   "cell_type": "markdown",
   "metadata": {},
   "source": [
    "## Вывод\n",
    "\n",
    "В процессе формирования прогноза предпочитаемого тарифа определили задачу типа бинарной классификации.\n",
    "* Сформировали обучающую, валидационную и тестовую выборки в следующих пропорциях:\n",
    "    * обучающая - 60%\n",
    "    * валидационная - 20%\n",
    "    * тестовая - 20%\n",
    "* Определили признаки и целевой признак для задачи бинарной классификации\n",
    "* Провели исследование гиперпараметров для моделей машинного обучения:\n",
    "    * Решающее дерево;\n",
    "    * Случайный лес;\n",
    "    * Логистическая регрессия.\n",
    "* Получили следующие результаты:\n",
    "    * Лучше всего показала себя модель случайного леса. Доля правильных ответов составила 80%. Однако это самая медленная модель среди остальных в сравнении; Чем больше деревьев используются в модели, тем дольше обучается модель\n",
    "    * \"Золотой серединой\" показала себя модель решающего дерева. Модель быстро обучилась, а доля правильных ответов составляет 78%, что на 2% меньше по сравнению со случайным лесом. При этом обратили внимание, что в зависимости от глубины дерева, мы можем получить эффект недообучения (глубина дерева маленькая) или переобучения (глубина дерева слишком большая).\n",
    "    * Хуже всего показала себя модель логистической регрессии, при применении модели на валидационной выборке получили 67-70% правильных ответов.\n",
    "\n",
    "* Проверили лучшую по доле правильных ответов на тестовой выборке, полученная доля верных ответов составила 82%\n",
    "* Проверили модель на адекватность. Модель прошла проверки на адекватность."
   ]
  }
 ],
 "metadata": {
  "ExecuteTimeLog": [
   {
    "duration": 766,
    "start_time": "2022-02-22T10:23:43.488Z"
   },
   {
    "duration": 467,
    "start_time": "2022-02-22T10:23:59.822Z"
   },
   {
    "duration": 4,
    "start_time": "2022-02-22T10:24:08.397Z"
   },
   {
    "duration": 889,
    "start_time": "2022-02-22T10:24:17.641Z"
   },
   {
    "duration": 643,
    "start_time": "2022-02-22T10:24:18.532Z"
   },
   {
    "duration": 3,
    "start_time": "2022-02-22T10:24:22.290Z"
   },
   {
    "duration": 3,
    "start_time": "2022-02-22T10:24:23.227Z"
   },
   {
    "duration": 133,
    "start_time": "2022-02-22T10:25:29.844Z"
   },
   {
    "duration": 20,
    "start_time": "2022-02-22T10:26:25.582Z"
   },
   {
    "duration": 9,
    "start_time": "2022-02-22T10:26:42.322Z"
   },
   {
    "duration": 436,
    "start_time": "2022-02-22T10:33:22.111Z"
   },
   {
    "duration": 5,
    "start_time": "2022-02-22T10:33:29.302Z"
   },
   {
    "duration": 5,
    "start_time": "2022-02-22T10:36:21.965Z"
   },
   {
    "duration": 1042,
    "start_time": "2022-02-22T10:39:06.516Z"
   },
   {
    "duration": 624,
    "start_time": "2022-02-22T10:39:07.561Z"
   },
   {
    "duration": 63,
    "start_time": "2022-02-22T10:39:08.188Z"
   },
   {
    "duration": 19,
    "start_time": "2022-02-22T10:39:08.253Z"
   },
   {
    "duration": 17,
    "start_time": "2022-02-22T10:39:08.275Z"
   },
   {
    "duration": 13,
    "start_time": "2022-02-22T10:39:08.294Z"
   },
   {
    "duration": 4,
    "start_time": "2022-02-22T10:56:54.112Z"
   },
   {
    "duration": 4,
    "start_time": "2022-02-22T10:58:42.729Z"
   },
   {
    "duration": 7,
    "start_time": "2022-02-22T11:00:31.618Z"
   },
   {
    "duration": 6,
    "start_time": "2022-02-22T11:01:14.713Z"
   },
   {
    "duration": 5,
    "start_time": "2022-02-22T11:01:27.841Z"
   },
   {
    "duration": 7,
    "start_time": "2022-02-22T11:04:55.995Z"
   },
   {
    "duration": 7,
    "start_time": "2022-02-22T11:06:37.945Z"
   },
   {
    "duration": 6,
    "start_time": "2022-02-22T11:06:51.869Z"
   },
   {
    "duration": 6,
    "start_time": "2022-02-22T11:24:55.307Z"
   },
   {
    "duration": 4,
    "start_time": "2022-02-22T11:25:25.651Z"
   },
   {
    "duration": 41,
    "start_time": "2022-02-22T11:25:59.401Z"
   },
   {
    "duration": 21,
    "start_time": "2022-02-22T11:26:14.124Z"
   },
   {
    "duration": 5,
    "start_time": "2022-02-22T11:29:24.369Z"
   },
   {
    "duration": 19,
    "start_time": "2022-02-22T11:30:09.668Z"
   },
   {
    "duration": 20,
    "start_time": "2022-02-22T11:31:03.082Z"
   },
   {
    "duration": 403,
    "start_time": "2022-02-22T11:33:43.002Z"
   },
   {
    "duration": 73,
    "start_time": "2022-02-22T11:33:47.265Z"
   },
   {
    "duration": 71,
    "start_time": "2022-02-22T11:37:15.429Z"
   },
   {
    "duration": 539,
    "start_time": "2022-02-22T11:37:47.580Z"
   },
   {
    "duration": 57,
    "start_time": "2022-02-22T11:41:48.165Z"
   },
   {
    "duration": 65,
    "start_time": "2022-02-22T11:42:16.537Z"
   },
   {
    "duration": 9,
    "start_time": "2022-02-22T11:43:32.757Z"
   },
   {
    "duration": 4,
    "start_time": "2022-02-22T11:44:48.183Z"
   },
   {
    "duration": 4,
    "start_time": "2022-02-22T11:44:52.279Z"
   },
   {
    "duration": 9,
    "start_time": "2022-02-22T11:44:52.286Z"
   },
   {
    "duration": 7,
    "start_time": "2022-02-22T11:44:52.298Z"
   },
   {
    "duration": 159,
    "start_time": "2022-02-22T11:44:52.308Z"
   },
   {
    "duration": 15,
    "start_time": "2022-02-22T11:44:52.470Z"
   },
   {
    "duration": 13,
    "start_time": "2022-02-22T11:44:52.488Z"
   },
   {
    "duration": 9,
    "start_time": "2022-02-22T11:44:52.503Z"
   },
   {
    "duration": 12,
    "start_time": "2022-02-22T11:44:52.516Z"
   },
   {
    "duration": 13,
    "start_time": "2022-02-22T11:44:52.530Z"
   },
   {
    "duration": 6,
    "start_time": "2022-02-22T11:44:52.546Z"
   },
   {
    "duration": 9,
    "start_time": "2022-02-22T11:44:52.554Z"
   },
   {
    "duration": 10,
    "start_time": "2022-02-22T11:44:52.565Z"
   },
   {
    "duration": 12,
    "start_time": "2022-02-22T11:44:52.578Z"
   },
   {
    "duration": 35,
    "start_time": "2022-02-22T11:44:52.592Z"
   },
   {
    "duration": 16,
    "start_time": "2022-02-22T11:44:52.630Z"
   },
   {
    "duration": 12,
    "start_time": "2022-02-22T11:44:52.649Z"
   },
   {
    "duration": 31,
    "start_time": "2022-02-22T11:44:52.664Z"
   },
   {
    "duration": 79,
    "start_time": "2022-02-22T11:44:52.698Z"
   },
   {
    "duration": 18,
    "start_time": "2022-02-22T11:44:52.780Z"
   },
   {
    "duration": 24,
    "start_time": "2022-02-22T11:45:38.719Z"
   },
   {
    "duration": 10,
    "start_time": "2022-02-22T11:56:32.339Z"
   },
   {
    "duration": 109,
    "start_time": "2022-02-22T11:57:38.954Z"
   },
   {
    "duration": 8,
    "start_time": "2022-02-22T11:58:21.789Z"
   },
   {
    "duration": 7,
    "start_time": "2022-02-22T11:58:32.134Z"
   },
   {
    "duration": 3,
    "start_time": "2022-02-22T11:59:26.978Z"
   },
   {
    "duration": 8,
    "start_time": "2022-02-22T12:01:48.475Z"
   },
   {
    "duration": 4,
    "start_time": "2022-02-22T12:07:48.375Z"
   },
   {
    "duration": 6,
    "start_time": "2022-02-22T12:07:53.602Z"
   },
   {
    "duration": 123,
    "start_time": "2022-02-22T12:16:24.597Z"
   },
   {
    "duration": 457,
    "start_time": "2022-02-22T12:16:33.933Z"
   },
   {
    "duration": 351,
    "start_time": "2022-02-22T12:17:05.168Z"
   },
   {
    "duration": 304,
    "start_time": "2022-02-22T12:17:15.352Z"
   },
   {
    "duration": 3411,
    "start_time": "2022-02-22T12:17:43.059Z"
   },
   {
    "duration": 314,
    "start_time": "2022-02-22T12:18:50.811Z"
   },
   {
    "duration": 100,
    "start_time": "2022-02-22T12:19:01.480Z"
   },
   {
    "duration": 542,
    "start_time": "2022-02-22T12:19:17.180Z"
   },
   {
    "duration": 94,
    "start_time": "2022-02-22T12:21:25.242Z"
   },
   {
    "duration": 92,
    "start_time": "2022-02-22T12:21:48.205Z"
   },
   {
    "duration": 96,
    "start_time": "2022-02-22T12:22:01.526Z"
   },
   {
    "duration": 302,
    "start_time": "2022-02-22T12:22:06.978Z"
   },
   {
    "duration": 527,
    "start_time": "2022-02-22T12:22:27.651Z"
   },
   {
    "duration": 3428,
    "start_time": "2022-02-22T12:23:35.298Z"
   },
   {
    "duration": 5,
    "start_time": "2022-02-22T12:24:02.918Z"
   },
   {
    "duration": 14,
    "start_time": "2022-02-22T12:24:12.383Z"
   },
   {
    "duration": 395,
    "start_time": "2022-02-22T12:25:43.024Z"
   },
   {
    "duration": 737,
    "start_time": "2022-02-22T12:28:02.998Z"
   },
   {
    "duration": 3408,
    "start_time": "2022-02-22T12:28:12.918Z"
   },
   {
    "duration": 3438,
    "start_time": "2022-02-22T12:30:19.465Z"
   },
   {
    "duration": 9675,
    "start_time": "2022-02-22T12:30:47.874Z"
   },
   {
    "duration": 4,
    "start_time": "2022-02-22T12:32:55.598Z"
   },
   {
    "duration": 926,
    "start_time": "2022-02-22T12:32:55.606Z"
   },
   {
    "duration": 672,
    "start_time": "2022-02-22T12:32:56.535Z"
   },
   {
    "duration": 66,
    "start_time": "2022-02-22T12:32:57.210Z"
   },
   {
    "duration": 19,
    "start_time": "2022-02-22T12:32:57.279Z"
   },
   {
    "duration": 11,
    "start_time": "2022-02-22T12:32:57.301Z"
   },
   {
    "duration": 15,
    "start_time": "2022-02-22T12:32:57.315Z"
   },
   {
    "duration": 25,
    "start_time": "2022-02-22T12:32:57.332Z"
   },
   {
    "duration": 16,
    "start_time": "2022-02-22T12:32:57.360Z"
   },
   {
    "duration": 10,
    "start_time": "2022-02-22T12:32:57.379Z"
   },
   {
    "duration": 25,
    "start_time": "2022-02-22T12:32:57.392Z"
   },
   {
    "duration": 7,
    "start_time": "2022-02-22T12:32:57.420Z"
   },
   {
    "duration": 13,
    "start_time": "2022-02-22T12:32:57.429Z"
   },
   {
    "duration": 9,
    "start_time": "2022-02-22T12:32:57.445Z"
   },
   {
    "duration": 8,
    "start_time": "2022-02-22T12:32:57.456Z"
   },
   {
    "duration": 11,
    "start_time": "2022-02-22T12:32:57.467Z"
   },
   {
    "duration": 25,
    "start_time": "2022-02-22T12:32:57.480Z"
   },
   {
    "duration": 84,
    "start_time": "2022-02-22T12:32:57.507Z"
   },
   {
    "duration": 33,
    "start_time": "2022-02-22T12:32:57.594Z"
   },
   {
    "duration": 73,
    "start_time": "2022-02-22T12:32:57.630Z"
   },
   {
    "duration": 10578,
    "start_time": "2022-02-22T12:32:57.705Z"
   },
   {
    "duration": 5,
    "start_time": "2022-02-22T12:33:08.286Z"
   },
   {
    "duration": 321,
    "start_time": "2022-02-22T12:33:08.294Z"
   },
   {
    "duration": 716,
    "start_time": "2022-02-22T12:33:08.618Z"
   },
   {
    "duration": 110,
    "start_time": "2022-02-22T12:33:09.228Z"
   },
   {
    "duration": 100,
    "start_time": "2022-02-22T13:53:55.882Z"
   },
   {
    "duration": 69,
    "start_time": "2022-02-22T13:54:28.298Z"
   },
   {
    "duration": 123,
    "start_time": "2022-02-22T13:54:37.390Z"
   },
   {
    "duration": 6,
    "start_time": "2022-02-22T13:56:26.609Z"
   },
   {
    "duration": 619,
    "start_time": "2022-02-22T13:57:11.526Z"
   },
   {
    "duration": 132,
    "start_time": "2022-02-22T13:57:27.645Z"
   },
   {
    "duration": 632,
    "start_time": "2022-02-22T13:57:53.402Z"
   },
   {
    "duration": 645,
    "start_time": "2022-02-22T14:00:15.402Z"
   },
   {
    "duration": 955,
    "start_time": "2022-02-22T14:00:41.008Z"
   },
   {
    "duration": 1949,
    "start_time": "2022-02-22T14:00:46.141Z"
   },
   {
    "duration": 657,
    "start_time": "2022-02-22T14:02:04.700Z"
   },
   {
    "duration": 532,
    "start_time": "2022-02-22T14:04:06.658Z"
   },
   {
    "duration": 653,
    "start_time": "2022-02-22T14:04:34.000Z"
   },
   {
    "duration": 633,
    "start_time": "2022-02-22T14:05:09.219Z"
   },
   {
    "duration": 319,
    "start_time": "2022-02-22T14:05:23.013Z"
   },
   {
    "duration": 308,
    "start_time": "2022-02-22T14:06:09.867Z"
   },
   {
    "duration": 299,
    "start_time": "2022-02-22T14:06:41.187Z"
   },
   {
    "duration": 645,
    "start_time": "2022-02-22T14:07:18.848Z"
   },
   {
    "duration": 135,
    "start_time": "2022-02-22T14:07:23.360Z"
   },
   {
    "duration": 65,
    "start_time": "2022-02-22T14:07:46.318Z"
   },
   {
    "duration": 257,
    "start_time": "2022-02-22T14:08:48.097Z"
   },
   {
    "duration": 302,
    "start_time": "2022-02-22T14:09:04.508Z"
   },
   {
    "duration": 138,
    "start_time": "2022-02-22T14:45:54.017Z"
   },
   {
    "duration": 138,
    "start_time": "2022-02-22T14:46:08.582Z"
   },
   {
    "duration": 133,
    "start_time": "2022-02-22T14:48:16.885Z"
   },
   {
    "duration": 10,
    "start_time": "2022-02-22T15:01:57.793Z"
   },
   {
    "duration": 3,
    "start_time": "2022-02-22T15:02:57.653Z"
   },
   {
    "duration": 6,
    "start_time": "2022-02-23T07:47:23.101Z"
   },
   {
    "duration": 5,
    "start_time": "2022-02-23T07:47:48.981Z"
   },
   {
    "duration": 4,
    "start_time": "2022-02-23T07:47:56.681Z"
   },
   {
    "duration": 957,
    "start_time": "2022-02-23T07:47:56.688Z"
   },
   {
    "duration": 698,
    "start_time": "2022-02-23T07:47:57.648Z"
   },
   {
    "duration": 170,
    "start_time": "2022-02-23T07:47:58.349Z"
   },
   {
    "duration": 24,
    "start_time": "2022-02-23T07:47:58.521Z"
   },
   {
    "duration": 9,
    "start_time": "2022-02-23T07:47:58.548Z"
   },
   {
    "duration": 13,
    "start_time": "2022-02-23T07:47:58.562Z"
   },
   {
    "duration": 24,
    "start_time": "2022-02-23T07:47:58.578Z"
   },
   {
    "duration": 19,
    "start_time": "2022-02-23T07:47:58.605Z"
   },
   {
    "duration": 13,
    "start_time": "2022-02-23T07:47:58.626Z"
   },
   {
    "duration": 11,
    "start_time": "2022-02-23T07:47:58.641Z"
   },
   {
    "duration": 6,
    "start_time": "2022-02-23T07:47:58.655Z"
   },
   {
    "duration": 40,
    "start_time": "2022-02-23T07:47:58.664Z"
   },
   {
    "duration": 14,
    "start_time": "2022-02-23T07:47:58.710Z"
   },
   {
    "duration": 12,
    "start_time": "2022-02-23T07:47:58.727Z"
   },
   {
    "duration": 11,
    "start_time": "2022-02-23T07:47:58.742Z"
   },
   {
    "duration": 25,
    "start_time": "2022-02-23T07:47:58.756Z"
   },
   {
    "duration": 84,
    "start_time": "2022-02-23T07:47:58.783Z"
   },
   {
    "duration": 39,
    "start_time": "2022-02-23T07:47:58.872Z"
   },
   {
    "duration": 13,
    "start_time": "2022-02-23T07:47:58.917Z"
   },
   {
    "duration": 382,
    "start_time": "2022-02-23T07:47:58.933Z"
   },
   {
    "duration": 156,
    "start_time": "2022-02-23T07:47:59.318Z"
   },
   {
    "duration": 426,
    "start_time": "2022-02-23T07:47:59.477Z"
   },
   {
    "duration": -44,
    "start_time": "2022-02-23T07:47:59.951Z"
   },
   {
    "duration": -45,
    "start_time": "2022-02-23T07:47:59.955Z"
   },
   {
    "duration": 619,
    "start_time": "2022-02-23T07:49:09.718Z"
   },
   {
    "duration": 5,
    "start_time": "2022-02-23T07:49:23.805Z"
   },
   {
    "duration": 690,
    "start_time": "2022-02-23T07:49:26.087Z"
   },
   {
    "duration": 687,
    "start_time": "2022-02-23T07:49:58.107Z"
   },
   {
    "duration": 70,
    "start_time": "2022-02-23T07:50:47.178Z"
   },
   {
    "duration": 2799,
    "start_time": "2022-02-23T08:27:52.325Z"
   },
   {
    "duration": 300,
    "start_time": "2022-02-23T08:33:33.044Z"
   },
   {
    "duration": 3012,
    "start_time": "2022-02-23T08:33:49.075Z"
   },
   {
    "duration": 7,
    "start_time": "2022-02-23T08:35:09.734Z"
   },
   {
    "duration": 14,
    "start_time": "2022-02-23T08:35:22.662Z"
   },
   {
    "duration": 9,
    "start_time": "2022-02-23T08:36:15.811Z"
   },
   {
    "duration": 13,
    "start_time": "2022-02-23T08:36:35.849Z"
   },
   {
    "duration": 6931,
    "start_time": "2022-02-23T08:38:06.427Z"
   },
   {
    "duration": 435,
    "start_time": "2022-02-23T08:38:26.627Z"
   },
   {
    "duration": 311,
    "start_time": "2022-02-23T08:39:19.661Z"
   },
   {
    "duration": 361,
    "start_time": "2022-02-23T08:40:52.551Z"
   },
   {
    "duration": 10,
    "start_time": "2022-02-23T08:41:12.590Z"
   },
   {
    "duration": 6,
    "start_time": "2022-02-23T08:41:50.122Z"
   },
   {
    "duration": 11,
    "start_time": "2022-02-23T08:41:51.026Z"
   },
   {
    "duration": 6260,
    "start_time": "2022-02-23T08:42:22.930Z"
   },
   {
    "duration": 5,
    "start_time": "2022-02-23T08:42:33.351Z"
   },
   {
    "duration": 11,
    "start_time": "2022-02-23T08:42:34.255Z"
   },
   {
    "duration": 284,
    "start_time": "2022-02-23T08:42:37.049Z"
   },
   {
    "duration": 15,
    "start_time": "2022-02-23T08:42:54.175Z"
   },
   {
    "duration": 11,
    "start_time": "2022-02-23T08:43:08.531Z"
   },
   {
    "duration": 147,
    "start_time": "2022-02-23T08:44:22.294Z"
   },
   {
    "duration": 5,
    "start_time": "2022-02-23T08:44:34.938Z"
   },
   {
    "duration": 658,
    "start_time": "2022-02-23T08:44:36.903Z"
   },
   {
    "duration": 320,
    "start_time": "2022-02-23T08:55:17.507Z"
   },
   {
    "duration": 289,
    "start_time": "2022-02-23T08:55:32.552Z"
   },
   {
    "duration": 11,
    "start_time": "2022-02-23T08:55:50.568Z"
   },
   {
    "duration": 281,
    "start_time": "2022-02-23T08:55:58.347Z"
   },
   {
    "duration": 4,
    "start_time": "2022-02-23T08:56:05.715Z"
   },
   {
    "duration": 9,
    "start_time": "2022-02-23T08:56:05.721Z"
   },
   {
    "duration": 11,
    "start_time": "2022-02-23T08:56:05.733Z"
   },
   {
    "duration": 196,
    "start_time": "2022-02-23T08:56:05.747Z"
   },
   {
    "duration": 15,
    "start_time": "2022-02-23T08:56:05.946Z"
   },
   {
    "duration": 21,
    "start_time": "2022-02-23T08:56:05.964Z"
   },
   {
    "duration": 18,
    "start_time": "2022-02-23T08:56:05.991Z"
   },
   {
    "duration": 13,
    "start_time": "2022-02-23T08:56:06.013Z"
   },
   {
    "duration": 19,
    "start_time": "2022-02-23T08:56:06.028Z"
   },
   {
    "duration": 13,
    "start_time": "2022-02-23T08:56:06.050Z"
   },
   {
    "duration": 19,
    "start_time": "2022-02-23T08:56:06.066Z"
   },
   {
    "duration": 31,
    "start_time": "2022-02-23T08:56:06.087Z"
   },
   {
    "duration": 14,
    "start_time": "2022-02-23T08:56:06.121Z"
   },
   {
    "duration": 10,
    "start_time": "2022-02-23T08:56:06.138Z"
   },
   {
    "duration": 4,
    "start_time": "2022-02-23T08:56:06.153Z"
   },
   {
    "duration": 11,
    "start_time": "2022-02-23T08:56:06.160Z"
   },
   {
    "duration": 36,
    "start_time": "2022-02-23T08:56:06.173Z"
   },
   {
    "duration": 66,
    "start_time": "2022-02-23T08:56:06.212Z"
   },
   {
    "duration": 18,
    "start_time": "2022-02-23T08:56:06.301Z"
   },
   {
    "duration": 3,
    "start_time": "2022-02-23T08:56:06.322Z"
   },
   {
    "duration": 369,
    "start_time": "2022-02-23T08:56:06.327Z"
   },
   {
    "duration": 164,
    "start_time": "2022-02-23T08:56:06.699Z"
   },
   {
    "duration": 5,
    "start_time": "2022-02-23T08:56:06.865Z"
   },
   {
    "duration": 705,
    "start_time": "2022-02-23T08:56:06.873Z"
   },
   {
    "duration": 3,
    "start_time": "2022-02-23T08:56:07.581Z"
   },
   {
    "duration": 6558,
    "start_time": "2022-02-23T08:56:07.594Z"
   },
   {
    "duration": 5,
    "start_time": "2022-02-23T08:56:14.155Z"
   },
   {
    "duration": 34,
    "start_time": "2022-02-23T08:56:14.163Z"
   },
   {
    "duration": 333,
    "start_time": "2022-02-23T08:56:14.200Z"
   },
   {
    "duration": -24,
    "start_time": "2022-02-23T08:56:14.560Z"
   },
   {
    "duration": 5881,
    "start_time": "2022-02-23T08:57:04.531Z"
   },
   {
    "duration": 6503,
    "start_time": "2022-02-23T08:57:36.448Z"
   },
   {
    "duration": 7456,
    "start_time": "2022-02-23T08:58:12.711Z"
   },
   {
    "duration": 7853,
    "start_time": "2022-02-23T08:59:51.691Z"
   },
   {
    "duration": 6907,
    "start_time": "2022-02-23T09:00:08.224Z"
   },
   {
    "duration": 7501,
    "start_time": "2022-02-23T09:04:31.630Z"
   },
   {
    "duration": 7534,
    "start_time": "2022-02-23T09:05:23.237Z"
   },
   {
    "duration": 7236,
    "start_time": "2022-02-23T09:06:07.083Z"
   },
   {
    "duration": 7258,
    "start_time": "2022-02-23T09:07:14.264Z"
   },
   {
    "duration": 7765,
    "start_time": "2022-02-23T09:08:11.225Z"
   },
   {
    "duration": 10,
    "start_time": "2022-02-23T09:12:38.107Z"
   },
   {
    "duration": 8,
    "start_time": "2022-02-23T09:12:46.154Z"
   },
   {
    "duration": 11,
    "start_time": "2022-02-23T09:13:00.918Z"
   },
   {
    "duration": 327,
    "start_time": "2022-02-23T09:13:44.885Z"
   },
   {
    "duration": 8,
    "start_time": "2022-02-23T09:13:55.230Z"
   },
   {
    "duration": 12,
    "start_time": "2022-02-23T09:13:55.942Z"
   },
   {
    "duration": 297,
    "start_time": "2022-02-23T09:13:59.322Z"
   },
   {
    "duration": 5,
    "start_time": "2022-02-23T09:14:04.935Z"
   },
   {
    "duration": 10,
    "start_time": "2022-02-23T09:14:07.368Z"
   },
   {
    "duration": 8,
    "start_time": "2022-02-23T09:14:13.014Z"
   },
   {
    "duration": 10,
    "start_time": "2022-02-23T09:14:13.936Z"
   },
   {
    "duration": 300,
    "start_time": "2022-02-23T09:14:15.234Z"
   },
   {
    "duration": 740,
    "start_time": "2022-02-23T09:15:17.437Z"
   },
   {
    "duration": 726,
    "start_time": "2022-02-23T09:15:55.282Z"
   },
   {
    "duration": 730,
    "start_time": "2022-02-23T09:20:26.773Z"
   },
   {
    "duration": 938,
    "start_time": "2022-02-23T09:26:35.082Z"
   },
   {
    "duration": 9,
    "start_time": "2022-02-23T09:27:06.196Z"
   },
   {
    "duration": 8,
    "start_time": "2022-02-23T09:30:40.666Z"
   },
   {
    "duration": 9,
    "start_time": "2022-02-23T09:32:13.958Z"
   },
   {
    "duration": 273,
    "start_time": "2022-02-23T09:33:36.309Z"
   },
   {
    "duration": 195,
    "start_time": "2022-02-23T09:33:52.951Z"
   },
   {
    "duration": 286,
    "start_time": "2022-02-23T09:34:01.524Z"
   },
   {
    "duration": 17,
    "start_time": "2022-02-23T09:34:12.021Z"
   },
   {
    "duration": 367,
    "start_time": "2022-02-23T09:34:16.327Z"
   },
   {
    "duration": 24,
    "start_time": "2022-02-23T09:34:22.658Z"
   },
   {
    "duration": 284,
    "start_time": "2022-02-23T09:40:33.583Z"
   },
   {
    "duration": 291,
    "start_time": "2022-02-23T09:40:38.561Z"
   },
   {
    "duration": 327,
    "start_time": "2022-02-23T09:43:13.167Z"
   },
   {
    "duration": 145,
    "start_time": "2022-02-23T09:48:21.548Z"
   },
   {
    "duration": 6,
    "start_time": "2022-02-23T09:58:22.172Z"
   },
   {
    "duration": 9,
    "start_time": "2022-02-23T09:58:46.486Z"
   },
   {
    "duration": 10,
    "start_time": "2022-02-23T09:59:16.735Z"
   },
   {
    "duration": 17,
    "start_time": "2022-02-23T10:00:58.438Z"
   },
   {
    "duration": 11,
    "start_time": "2022-02-23T10:02:23.208Z"
   },
   {
    "duration": 308,
    "start_time": "2022-02-23T10:11:25.253Z"
   },
   {
    "duration": 7,
    "start_time": "2022-02-23T10:11:44.373Z"
   },
   {
    "duration": 15,
    "start_time": "2022-02-23T10:11:52.948Z"
   },
   {
    "duration": 9,
    "start_time": "2022-02-23T10:12:10.593Z"
   },
   {
    "duration": 4,
    "start_time": "2022-02-23T10:12:33.477Z"
   },
   {
    "duration": 9,
    "start_time": "2022-02-23T10:12:34.237Z"
   },
   {
    "duration": 7,
    "start_time": "2022-02-23T10:19:44.566Z"
   },
   {
    "duration": 6,
    "start_time": "2022-02-23T10:20:54.465Z"
   },
   {
    "duration": 6,
    "start_time": "2022-02-23T10:21:21.419Z"
   },
   {
    "duration": 8,
    "start_time": "2022-02-23T10:22:17.498Z"
   },
   {
    "duration": 17,
    "start_time": "2022-02-23T10:22:25.826Z"
   },
   {
    "duration": 7,
    "start_time": "2022-02-23T10:22:38.601Z"
   },
   {
    "duration": 297,
    "start_time": "2022-02-23T10:22:54.757Z"
   },
   {
    "duration": 8,
    "start_time": "2022-02-23T10:23:03.058Z"
   },
   {
    "duration": 374,
    "start_time": "2022-02-23T10:30:40.379Z"
   },
   {
    "duration": 332,
    "start_time": "2022-02-23T10:31:03.715Z"
   },
   {
    "duration": 55,
    "start_time": "2022-02-23T10:31:11.538Z"
   },
   {
    "duration": 362,
    "start_time": "2022-02-23T10:31:53.984Z"
   },
   {
    "duration": 57,
    "start_time": "2022-02-23T10:32:06.764Z"
   },
   {
    "duration": 59,
    "start_time": "2022-02-23T10:32:30.015Z"
   },
   {
    "duration": 88,
    "start_time": "2022-02-23T10:33:00.447Z"
   },
   {
    "duration": 61,
    "start_time": "2022-02-23T10:34:58.994Z"
   },
   {
    "duration": 320,
    "start_time": "2022-02-23T10:56:15.499Z"
   },
   {
    "duration": 60,
    "start_time": "2022-02-23T10:56:37.783Z"
   },
   {
    "duration": 9,
    "start_time": "2022-02-23T11:09:10.057Z"
   },
   {
    "duration": 8,
    "start_time": "2022-02-23T11:09:17.744Z"
   },
   {
    "duration": 11,
    "start_time": "2022-02-23T11:09:20.254Z"
   },
   {
    "duration": 4,
    "start_time": "2022-02-23T11:17:53.114Z"
   },
   {
    "duration": 1149,
    "start_time": "2022-02-23T11:17:53.121Z"
   },
   {
    "duration": 1295,
    "start_time": "2022-02-23T11:17:54.273Z"
   },
   {
    "duration": 126,
    "start_time": "2022-02-23T11:17:55.572Z"
   },
   {
    "duration": 19,
    "start_time": "2022-02-23T11:17:55.701Z"
   },
   {
    "duration": 10,
    "start_time": "2022-02-23T11:17:55.723Z"
   },
   {
    "duration": 12,
    "start_time": "2022-02-23T11:17:55.735Z"
   },
   {
    "duration": 42,
    "start_time": "2022-02-23T11:17:55.751Z"
   },
   {
    "duration": 7,
    "start_time": "2022-02-23T11:17:55.797Z"
   },
   {
    "duration": 12,
    "start_time": "2022-02-23T11:17:55.807Z"
   },
   {
    "duration": 11,
    "start_time": "2022-02-23T11:17:55.822Z"
   },
   {
    "duration": 10,
    "start_time": "2022-02-23T11:17:55.835Z"
   },
   {
    "duration": 14,
    "start_time": "2022-02-23T11:17:55.847Z"
   },
   {
    "duration": 30,
    "start_time": "2022-02-23T11:17:55.864Z"
   },
   {
    "duration": 5,
    "start_time": "2022-02-23T11:17:55.896Z"
   },
   {
    "duration": 12,
    "start_time": "2022-02-23T11:17:55.903Z"
   },
   {
    "duration": 46,
    "start_time": "2022-02-23T11:17:55.918Z"
   },
   {
    "duration": 76,
    "start_time": "2022-02-23T11:17:55.967Z"
   },
   {
    "duration": 17,
    "start_time": "2022-02-23T11:17:56.045Z"
   },
   {
    "duration": 28,
    "start_time": "2022-02-23T11:17:56.066Z"
   },
   {
    "duration": 365,
    "start_time": "2022-02-23T11:17:56.097Z"
   },
   {
    "duration": 188,
    "start_time": "2022-02-23T11:17:56.465Z"
   },
   {
    "duration": 5,
    "start_time": "2022-02-23T11:17:56.658Z"
   },
   {
    "duration": 729,
    "start_time": "2022-02-23T11:17:56.667Z"
   },
   {
    "duration": 4,
    "start_time": "2022-02-23T11:17:57.399Z"
   },
   {
    "duration": 6405,
    "start_time": "2022-02-23T11:17:57.407Z"
   },
   {
    "duration": 6,
    "start_time": "2022-02-23T11:18:03.814Z"
   },
   {
    "duration": 14,
    "start_time": "2022-02-23T11:18:03.822Z"
   },
   {
    "duration": 26,
    "start_time": "2022-02-23T11:18:03.839Z"
   },
   {
    "duration": 685,
    "start_time": "2022-02-23T11:18:03.868Z"
   },
   {
    "duration": 83,
    "start_time": "2022-02-23T11:18:04.555Z"
   },
   {
    "duration": 313,
    "start_time": "2022-02-23T11:18:04.641Z"
   },
   {
    "duration": 6,
    "start_time": "2022-02-23T11:18:04.957Z"
   },
   {
    "duration": 28,
    "start_time": "2022-02-23T11:18:04.966Z"
   },
   {
    "duration": 8,
    "start_time": "2022-02-23T11:18:04.997Z"
   },
   {
    "duration": 31,
    "start_time": "2022-02-23T11:18:05.008Z"
   },
   {
    "duration": 19,
    "start_time": "2022-02-23T11:18:05.042Z"
   },
   {
    "duration": 26,
    "start_time": "2022-02-23T11:18:05.064Z"
   },
   {
    "duration": 70,
    "start_time": "2022-02-23T11:18:05.093Z"
   },
   {
    "duration": 9,
    "start_time": "2022-02-23T11:18:05.166Z"
   },
   {
    "duration": 82,
    "start_time": "2022-02-23T12:41:52.875Z"
   },
   {
    "duration": 4,
    "start_time": "2022-02-23T12:41:55.740Z"
   },
   {
    "duration": 5,
    "start_time": "2022-02-23T12:41:57.640Z"
   },
   {
    "duration": 24104,
    "start_time": "2022-02-23T12:43:58.089Z"
   },
   {
    "duration": 91,
    "start_time": "2022-02-23T12:44:33.169Z"
   },
   {
    "duration": 16,
    "start_time": "2022-02-23T12:44:35.101Z"
   },
   {
    "duration": 9,
    "start_time": "2022-02-23T12:44:37.249Z"
   },
   {
    "duration": 6,
    "start_time": "2022-02-23T12:44:45.169Z"
   },
   {
    "duration": 15581,
    "start_time": "2022-02-23T12:44:48.839Z"
   },
   {
    "duration": 14846,
    "start_time": "2022-02-23T12:54:12.417Z"
   },
   {
    "duration": 12532,
    "start_time": "2022-02-23T12:55:34.222Z"
   },
   {
    "duration": 15938,
    "start_time": "2022-02-23T12:56:11.056Z"
   },
   {
    "duration": 4,
    "start_time": "2022-02-23T13:10:03.029Z"
   },
   {
    "duration": 8,
    "start_time": "2022-02-23T13:11:55.592Z"
   },
   {
    "duration": 6,
    "start_time": "2022-02-23T13:11:56.821Z"
   },
   {
    "duration": 6,
    "start_time": "2022-02-23T13:11:58.019Z"
   },
   {
    "duration": 7,
    "start_time": "2022-02-23T13:11:59.779Z"
   },
   {
    "duration": 6,
    "start_time": "2022-02-23T13:12:00.919Z"
   },
   {
    "duration": 5,
    "start_time": "2022-02-23T13:12:01.953Z"
   },
   {
    "duration": 5,
    "start_time": "2022-02-23T13:12:04.284Z"
   },
   {
    "duration": 4,
    "start_time": "2022-02-23T13:12:05.421Z"
   },
   {
    "duration": 6,
    "start_time": "2022-02-23T13:12:09.807Z"
   },
   {
    "duration": 416,
    "start_time": "2022-02-23T13:15:13.427Z"
   },
   {
    "duration": 432250,
    "start_time": "2022-02-23T13:15:24.775Z"
   },
   {
    "duration": 6,
    "start_time": "2022-02-23T13:22:54.707Z"
   },
   {
    "duration": 278,
    "start_time": "2022-02-23T13:23:20.890Z"
   },
   {
    "duration": 6,
    "start_time": "2022-02-23T13:23:30.938Z"
   },
   {
    "duration": 5,
    "start_time": "2022-02-23T13:23:49.343Z"
   }
  ],
  "kernelspec": {
   "display_name": "Python 3.9.7 ('base')",
   "language": "python",
   "name": "python3"
  },
  "language_info": {
   "codemirror_mode": {
    "name": "ipython",
    "version": 3
   },
   "file_extension": ".py",
   "mimetype": "text/x-python",
   "name": "python",
   "nbconvert_exporter": "python",
   "pygments_lexer": "ipython3",
   "version": "3.9.7"
  },
  "toc": {
   "base_numbering": 1,
   "nav_menu": {},
   "number_sections": true,
   "sideBar": true,
   "skip_h1_title": true,
   "title_cell": "Table of Contents",
   "title_sidebar": "Contents",
   "toc_cell": false,
   "toc_position": {},
   "toc_section_display": true,
   "toc_window_display": false
  },
  "vscode": {
   "interpreter": {
    "hash": "5179d32cf6ec497baf3f8a3ef987cc77c5d2dc691fdde20a56316522f61a7323"
   }
  }
 },
 "nbformat": 4,
 "nbformat_minor": 2
}
