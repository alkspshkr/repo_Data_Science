{
 "cells": [
  {
   "cell_type": "markdown",
   "metadata": {},
   "source": [
    "<h1> Комментарий ревьюера </h1>\n",
    "\n",
    "Привет, Александр!\n",
    "Меня зовут Виктория Ильина, и я буду проверять твой проект. Предлагаю общаться на \"ты\", но если тебе будет не комфортно, обязательно сообщи и мы перейдем на \"вы\". \n",
    "\n",
    "Моя основная цель - не указать на совершённые тобой ошибки, а поделиться своим опытом и помочь тебе стать специалистом по Data Science. Ты уже проделал большую работу над проектом, но давай сделаем его ещё лучше. Ниже ты найдёшь мои комментарии - пожалуйста, не перемещай, не изменяй и не удаляй их. Я буду использовать различные цвета, чтобы было легче воспринимать мои комментарии:\n",
    "\n",
    "<div class=\"alert alert-block alert-danger\">\n",
    "<b>Комментарий ревьюера❌:</b> Так выделены самые важные замечания. Без их отработки проект не будет принят.\n",
    "</div>\n",
    "\n",
    "<div class=\"alert alert-block alert-warning\">\n",
    "<b>Комментарий ревьюера🤔:</b> Так выделены небольшие замечания. Одно-два таких замечания в проекте допустимы, но если их будет больше - тебе будет необходимо внести исправления. Однако, если перед нами стоит цель не просто сдать проект и забыть, а приобрести новые знания и успешно применять их в будущем, я бы всё-таки рекомендовала тебе прорабатывать эти недочёты.\n",
    "</div>\n",
    "    \n",
    "<div class=\"alert alert-block alert-success\">\n",
    "<b>Комментарий ревьюера👍:</b> Так я выделю все остальные комментарии.\n",
    "</div>\n",
    "    \n",
    "Давай работать над проектом в диалоге: если ты что-то меняешь в проекте или отвечаешь на мои комментарии - пиши об этом. Мне будет легче отследить изменения, если ты выделишь свои комментарии:\n",
    "\n",
    "<div class=\"alert alert-block alert-info\">\n",
    "<b>Комментарий студента:</b> Например, вот так.\n",
    "</div>\n",
    "\n",
    "Давай посмотрим, что получилось!"
   ]
  },
  {
   "cell_type": "markdown",
   "metadata": {
    "id": "2LBMEM8Jlw54"
   },
   "source": [
    "# Восстановление золота из руды\n",
    "\n",
    "---"
   ]
  },
  {
   "cell_type": "markdown",
   "metadata": {
    "id": "mmWiGhj1l27C"
   },
   "source": [
    "Необходимо подготовить прототип модели машинного обучения для «Цифры». Компания разрабатывает решения для эффективной работы промышленных предприятий.\n",
    "\n",
    "Модель должна предсказать коэффициент восстановления золота из золотосодержащей руды. Предоставлены данные с параметрами добычи и очистки. \n",
    "\n",
    "Модель поможет оптимизировать производство, чтобы не запускать предприятие с убыточными характеристиками.\n",
    "\n",
    "\n",
    "---"
   ]
  },
  {
   "cell_type": "markdown",
   "metadata": {
    "id": "t33cF6IcmZTl"
   },
   "source": [
    "# Содержание проекта\n",
    "1. [Знакомство с данными](#1)\n",
    "2. [Проверка корректности расчета эффективности обогащения](#2)\n",
    "3. [Определение признаков, недоступных в тестовой выборке](#3)\n",
    "4. [Предобработка данных](#4)\n",
    "    * [Формирование признаков](#4_1)\n",
    "    * [Исправление некорректного типа данных](#4_2)\n",
    "    * [Обработка пропусков](#4_3)\n",
    "5. [Исследовательская часть](#5)\n",
    "    * [Как меняется концентрация металлов](#5_1)\n",
    "    * [Сравнение распределений](#5_2)\n",
    "    * [Исследование суммарной концентрации](#5_3)\n",
    "6. [Обучение моделей][#6]\n",
    "    * [Реализация метрики sMAPE](#6_1)\n",
    "    * [Обучение модели](#6_2)\n",
    "    * [Финальное тестирование модели](#6_3)\n",
    "    * [Проверка на адекватность](#6_4)\n",
    "7. [Общий вывод](#7)\n",
    "---"
   ]
  },
  {
   "cell_type": "code",
   "execution_count": 1,
   "metadata": {
    "id": "U09xdsWplnR-"
   },
   "outputs": [],
   "source": [
    "# импорт всех необходимых модулей\n",
    "# импорт модулей для работы с данными\n",
    "import pandas as pd\n",
    "import matplotlib.pyplot as plt\n",
    "# настройка отображения количества столбцов\n",
    "pd.set_option('display.max_rows', 100)\n",
    "plt.rcParams.update({'font.size': 15})\n",
    "# для метрик оценки качества\n",
    "from sklearn.metrics import mean_absolute_error\n",
    "from sklearn.metrics import make_scorer\n",
    "from sklearn.model_selection import GridSearchCV, cross_val_score\n",
    "# для МашОба\n",
    "from sklearn.linear_model import LinearRegression\n",
    "from sklearn.ensemble import RandomForestRegressor\n",
    "from sklearn.dummy import DummyRegressor"
   ]
  },
  {
   "cell_type": "markdown",
   "metadata": {},
   "source": [
    "<div class=\"alert alert-block alert-warning\">\n",
    "<b>Комментарий ревьюера🤔:</b> Все библиотеки можно и нужно импортировать в одной ячейке =)\n",
    "</div>"
   ]
  },
  {
   "cell_type": "markdown",
   "metadata": {},
   "source": [
    "<div class=\"alert alert-block alert-info\">\n",
    "<b>Комментарий студента:</b> Вика, спасибо за комментарий, но вопрос: почему все-таки нужно импортировать библиотеки в одной ячейке? Мне просто кажется, что так проще и удобнее смотреть на то, что и зачем ты импортируешь. Но я не знаю возможных проблем при раздробленном импортировании библиотек. Предполагаю, что возможны конфликты) \n",
    "Если не прав, то прошу ответить на этот вопрос)\n",
    "</div>"
   ]
  },
  {
   "cell_type": "markdown",
   "metadata": {},
   "source": [
    "<div class=\"alert alert-block alert-success\">\n",
    "<b>Комментарий ревьюера V.2👍:</b> Мне кажется, что это больше вопрос к оформлению, чем к функционалу. Если делать импортирование не в начале, а в течение всего проекта, да есть риск, что какие-то библиотеки вместе не контачат и придётся возвращаться к началу, но если импортировать подряд в начале, то ошибка вылезет сразу. Поэтому мне кажется, что всё-таки это больше вопрос к лаконичности кода\n",
    "</div>"
   ]
  },
  {
   "cell_type": "markdown",
   "metadata": {
    "id": "8nvEsmocm53A"
   },
   "source": [
    "## Знакомство с данными <a id=\"1\"></a>"
   ]
  },
  {
   "cell_type": "markdown",
   "metadata": {
    "id": "zGBUQvNenGKg"
   },
   "source": [
    "Для начала загрузим данные, которая предоставила компания. \n",
    "\n",
    "Известны следующие наборы данных:\n",
    "\n",
    "Обучающая выборка:"
   ]
  },
  {
   "cell_type": "code",
   "execution_count": 4,
   "metadata": {
    "id": "GKY0F9emmx0W"
   },
   "outputs": [],
   "source": [
    "try:\n",
    "    train = pd.read_csv('https://code.s3.yandex.net/datasets/gold_recovery_train_new.csv')\n",
    "except:\n",
    "    train = pd.read_csv('gold_recovery_train_new.csv')"
   ]
  },
  {
   "cell_type": "markdown",
   "metadata": {
    "id": "QxA5ezFPnZmc"
   },
   "source": [
    "Тестовая выборка:"
   ]
  },
  {
   "cell_type": "code",
   "execution_count": 5,
   "metadata": {
    "id": "mhWsDVfxnbT8"
   },
   "outputs": [],
   "source": [
    "try:\n",
    "    test = pd.read_csv('https://code.s3.yandex.net/datasets/gold_recovery_test_new.csv')\n",
    "except:\n",
    "    test = pd.read_csv('gold_recovery_test_new.csv')"
   ]
  },
  {
   "cell_type": "markdown",
   "metadata": {
    "id": "SASZHFy8niFD"
   },
   "source": [
    "Исходные данные (представляют собой обучающую и тестовую выборки со всеми признаками):"
   ]
  },
  {
   "cell_type": "code",
   "execution_count": 6,
   "metadata": {
    "id": "G0unlQz9ntO1"
   },
   "outputs": [],
   "source": [
    "try:\n",
    "    df = pd.read_csv('https://code.s3.yandex.net/datasets/gold_recovery_full_new.csv')\n",
    "except:\n",
    "    df = pd.read_csv('gold_recovery_full_new.csv')"
   ]
  },
  {
   "cell_type": "markdown",
   "metadata": {
    "id": "WNxASg_toByw"
   },
   "source": [
    "Теперь познакомимся с этими данными:"
   ]
  },
  {
   "cell_type": "code",
   "execution_count": 7,
   "metadata": {
    "id": "p8BX_sIen1e3"
   },
   "outputs": [],
   "source": [
    "def info(df: pd.DataFrame):\n",
    "    display(df.head());\n",
    "    df.info();"
   ]
  },
  {
   "cell_type": "markdown",
   "metadata": {
    "id": "-eZKwXg-pkYI"
   },
   "source": [
    "Обучающие данные:"
   ]
  },
  {
   "cell_type": "code",
   "execution_count": 8,
   "metadata": {
    "colab": {
     "base_uri": "https://localhost:8080/",
     "height": 1000
    },
    "id": "Sr2MTegrooJE",
    "outputId": "081f1a06-88b8-4535-da78-8d1119c0bf96",
    "scrolled": false
   },
   "outputs": [
    {
     "data": {
      "text/html": [
       "\n",
       "  <div id=\"df-c07f4323-b4b7-491d-86b8-fa4a768aabf2\">\n",
       "    <div class=\"colab-df-container\">\n",
       "      <div>\n",
       "<style scoped>\n",
       "    .dataframe tbody tr th:only-of-type {\n",
       "        vertical-align: middle;\n",
       "    }\n",
       "\n",
       "    .dataframe tbody tr th {\n",
       "        vertical-align: top;\n",
       "    }\n",
       "\n",
       "    .dataframe thead th {\n",
       "        text-align: right;\n",
       "    }\n",
       "</style>\n",
       "<table border=\"1\" class=\"dataframe\">\n",
       "  <thead>\n",
       "    <tr style=\"text-align: right;\">\n",
       "      <th></th>\n",
       "      <th>date</th>\n",
       "      <th>final.output.concentrate_ag</th>\n",
       "      <th>final.output.concentrate_pb</th>\n",
       "      <th>final.output.concentrate_sol</th>\n",
       "      <th>final.output.concentrate_au</th>\n",
       "      <th>final.output.recovery</th>\n",
       "      <th>final.output.tail_ag</th>\n",
       "      <th>final.output.tail_pb</th>\n",
       "      <th>final.output.tail_sol</th>\n",
       "      <th>final.output.tail_au</th>\n",
       "      <th>...</th>\n",
       "      <th>secondary_cleaner.state.floatbank4_a_air</th>\n",
       "      <th>secondary_cleaner.state.floatbank4_a_level</th>\n",
       "      <th>secondary_cleaner.state.floatbank4_b_air</th>\n",
       "      <th>secondary_cleaner.state.floatbank4_b_level</th>\n",
       "      <th>secondary_cleaner.state.floatbank5_a_air</th>\n",
       "      <th>secondary_cleaner.state.floatbank5_a_level</th>\n",
       "      <th>secondary_cleaner.state.floatbank5_b_air</th>\n",
       "      <th>secondary_cleaner.state.floatbank5_b_level</th>\n",
       "      <th>secondary_cleaner.state.floatbank6_a_air</th>\n",
       "      <th>secondary_cleaner.state.floatbank6_a_level</th>\n",
       "    </tr>\n",
       "  </thead>\n",
       "  <tbody>\n",
       "    <tr>\n",
       "      <th>0</th>\n",
       "      <td>2016-01-15 00:00:00</td>\n",
       "      <td>6.055403</td>\n",
       "      <td>9.889648</td>\n",
       "      <td>5.507324</td>\n",
       "      <td>42.192020</td>\n",
       "      <td>70.541216</td>\n",
       "      <td>10.411962</td>\n",
       "      <td>0.895447</td>\n",
       "      <td>16.904297</td>\n",
       "      <td>2.143149</td>\n",
       "      <td>...</td>\n",
       "      <td>14.016835</td>\n",
       "      <td>-502.488007</td>\n",
       "      <td>12.099931</td>\n",
       "      <td>-504.715942</td>\n",
       "      <td>9.925633</td>\n",
       "      <td>-498.310211</td>\n",
       "      <td>8.079666</td>\n",
       "      <td>-500.470978</td>\n",
       "      <td>14.151341</td>\n",
       "      <td>-605.841980</td>\n",
       "    </tr>\n",
       "    <tr>\n",
       "      <th>1</th>\n",
       "      <td>2016-01-15 01:00:00</td>\n",
       "      <td>6.029369</td>\n",
       "      <td>9.968944</td>\n",
       "      <td>5.257781</td>\n",
       "      <td>42.701629</td>\n",
       "      <td>69.266198</td>\n",
       "      <td>10.462676</td>\n",
       "      <td>0.927452</td>\n",
       "      <td>16.634514</td>\n",
       "      <td>2.224930</td>\n",
       "      <td>...</td>\n",
       "      <td>13.992281</td>\n",
       "      <td>-505.503262</td>\n",
       "      <td>11.950531</td>\n",
       "      <td>-501.331529</td>\n",
       "      <td>10.039245</td>\n",
       "      <td>-500.169983</td>\n",
       "      <td>7.984757</td>\n",
       "      <td>-500.582168</td>\n",
       "      <td>13.998353</td>\n",
       "      <td>-599.787184</td>\n",
       "    </tr>\n",
       "    <tr>\n",
       "      <th>2</th>\n",
       "      <td>2016-01-15 02:00:00</td>\n",
       "      <td>6.055926</td>\n",
       "      <td>10.213995</td>\n",
       "      <td>5.383759</td>\n",
       "      <td>42.657501</td>\n",
       "      <td>68.116445</td>\n",
       "      <td>10.507046</td>\n",
       "      <td>0.953716</td>\n",
       "      <td>16.208849</td>\n",
       "      <td>2.257889</td>\n",
       "      <td>...</td>\n",
       "      <td>14.015015</td>\n",
       "      <td>-502.520901</td>\n",
       "      <td>11.912783</td>\n",
       "      <td>-501.133383</td>\n",
       "      <td>10.070913</td>\n",
       "      <td>-500.129135</td>\n",
       "      <td>8.013877</td>\n",
       "      <td>-500.517572</td>\n",
       "      <td>14.028663</td>\n",
       "      <td>-601.427363</td>\n",
       "    </tr>\n",
       "    <tr>\n",
       "      <th>3</th>\n",
       "      <td>2016-01-15 03:00:00</td>\n",
       "      <td>6.047977</td>\n",
       "      <td>9.977019</td>\n",
       "      <td>4.858634</td>\n",
       "      <td>42.689819</td>\n",
       "      <td>68.347543</td>\n",
       "      <td>10.422762</td>\n",
       "      <td>0.883763</td>\n",
       "      <td>16.532835</td>\n",
       "      <td>2.146849</td>\n",
       "      <td>...</td>\n",
       "      <td>14.036510</td>\n",
       "      <td>-500.857308</td>\n",
       "      <td>11.999550</td>\n",
       "      <td>-501.193686</td>\n",
       "      <td>9.970366</td>\n",
       "      <td>-499.201640</td>\n",
       "      <td>7.977324</td>\n",
       "      <td>-500.255908</td>\n",
       "      <td>14.005551</td>\n",
       "      <td>-599.996129</td>\n",
       "    </tr>\n",
       "    <tr>\n",
       "      <th>4</th>\n",
       "      <td>2016-01-15 04:00:00</td>\n",
       "      <td>6.148599</td>\n",
       "      <td>10.142511</td>\n",
       "      <td>4.939416</td>\n",
       "      <td>42.774141</td>\n",
       "      <td>66.927016</td>\n",
       "      <td>10.360302</td>\n",
       "      <td>0.792826</td>\n",
       "      <td>16.525686</td>\n",
       "      <td>2.055292</td>\n",
       "      <td>...</td>\n",
       "      <td>14.027298</td>\n",
       "      <td>-499.838632</td>\n",
       "      <td>11.953070</td>\n",
       "      <td>-501.053894</td>\n",
       "      <td>9.925709</td>\n",
       "      <td>-501.686727</td>\n",
       "      <td>7.894242</td>\n",
       "      <td>-500.356035</td>\n",
       "      <td>13.996647</td>\n",
       "      <td>-601.496691</td>\n",
       "    </tr>\n",
       "  </tbody>\n",
       "</table>\n",
       "<p>5 rows × 87 columns</p>\n",
       "</div>\n",
       "      <button class=\"colab-df-convert\" onclick=\"convertToInteractive('df-c07f4323-b4b7-491d-86b8-fa4a768aabf2')\"\n",
       "              title=\"Convert this dataframe to an interactive table.\"\n",
       "              style=\"display:none;\">\n",
       "        \n",
       "  <svg xmlns=\"http://www.w3.org/2000/svg\" height=\"24px\"viewBox=\"0 0 24 24\"\n",
       "       width=\"24px\">\n",
       "    <path d=\"M0 0h24v24H0V0z\" fill=\"none\"/>\n",
       "    <path d=\"M18.56 5.44l.94 2.06.94-2.06 2.06-.94-2.06-.94-.94-2.06-.94 2.06-2.06.94zm-11 1L8.5 8.5l.94-2.06 2.06-.94-2.06-.94L8.5 2.5l-.94 2.06-2.06.94zm10 10l.94 2.06.94-2.06 2.06-.94-2.06-.94-.94-2.06-.94 2.06-2.06.94z\"/><path d=\"M17.41 7.96l-1.37-1.37c-.4-.4-.92-.59-1.43-.59-.52 0-1.04.2-1.43.59L10.3 9.45l-7.72 7.72c-.78.78-.78 2.05 0 2.83L4 21.41c.39.39.9.59 1.41.59.51 0 1.02-.2 1.41-.59l7.78-7.78 2.81-2.81c.8-.78.8-2.07 0-2.86zM5.41 20L4 18.59l7.72-7.72 1.47 1.35L5.41 20z\"/>\n",
       "  </svg>\n",
       "      </button>\n",
       "      \n",
       "  <style>\n",
       "    .colab-df-container {\n",
       "      display:flex;\n",
       "      flex-wrap:wrap;\n",
       "      gap: 12px;\n",
       "    }\n",
       "\n",
       "    .colab-df-convert {\n",
       "      background-color: #E8F0FE;\n",
       "      border: none;\n",
       "      border-radius: 50%;\n",
       "      cursor: pointer;\n",
       "      display: none;\n",
       "      fill: #1967D2;\n",
       "      height: 32px;\n",
       "      padding: 0 0 0 0;\n",
       "      width: 32px;\n",
       "    }\n",
       "\n",
       "    .colab-df-convert:hover {\n",
       "      background-color: #E2EBFA;\n",
       "      box-shadow: 0px 1px 2px rgba(60, 64, 67, 0.3), 0px 1px 3px 1px rgba(60, 64, 67, 0.15);\n",
       "      fill: #174EA6;\n",
       "    }\n",
       "\n",
       "    [theme=dark] .colab-df-convert {\n",
       "      background-color: #3B4455;\n",
       "      fill: #D2E3FC;\n",
       "    }\n",
       "\n",
       "    [theme=dark] .colab-df-convert:hover {\n",
       "      background-color: #434B5C;\n",
       "      box-shadow: 0px 1px 3px 1px rgba(0, 0, 0, 0.15);\n",
       "      filter: drop-shadow(0px 1px 2px rgba(0, 0, 0, 0.3));\n",
       "      fill: #FFFFFF;\n",
       "    }\n",
       "  </style>\n",
       "\n",
       "      <script>\n",
       "        const buttonEl =\n",
       "          document.querySelector('#df-c07f4323-b4b7-491d-86b8-fa4a768aabf2 button.colab-df-convert');\n",
       "        buttonEl.style.display =\n",
       "          google.colab.kernel.accessAllowed ? 'block' : 'none';\n",
       "\n",
       "        async function convertToInteractive(key) {\n",
       "          const element = document.querySelector('#df-c07f4323-b4b7-491d-86b8-fa4a768aabf2');\n",
       "          const dataTable =\n",
       "            await google.colab.kernel.invokeFunction('convertToInteractive',\n",
       "                                                     [key], {});\n",
       "          if (!dataTable) return;\n",
       "\n",
       "          const docLinkHtml = 'Like what you see? Visit the ' +\n",
       "            '<a target=\"_blank\" href=https://colab.research.google.com/notebooks/data_table.ipynb>data table notebook</a>'\n",
       "            + ' to learn more about interactive tables.';\n",
       "          element.innerHTML = '';\n",
       "          dataTable['output_type'] = 'display_data';\n",
       "          await google.colab.output.renderOutput(dataTable, element);\n",
       "          const docLink = document.createElement('div');\n",
       "          docLink.innerHTML = docLinkHtml;\n",
       "          element.appendChild(docLink);\n",
       "        }\n",
       "      </script>\n",
       "    </div>\n",
       "  </div>\n",
       "  "
      ],
      "text/plain": [
       "                  date  final.output.concentrate_ag  \\\n",
       "0  2016-01-15 00:00:00                     6.055403   \n",
       "1  2016-01-15 01:00:00                     6.029369   \n",
       "2  2016-01-15 02:00:00                     6.055926   \n",
       "3  2016-01-15 03:00:00                     6.047977   \n",
       "4  2016-01-15 04:00:00                     6.148599   \n",
       "\n",
       "   final.output.concentrate_pb  final.output.concentrate_sol  \\\n",
       "0                     9.889648                      5.507324   \n",
       "1                     9.968944                      5.257781   \n",
       "2                    10.213995                      5.383759   \n",
       "3                     9.977019                      4.858634   \n",
       "4                    10.142511                      4.939416   \n",
       "\n",
       "   final.output.concentrate_au  final.output.recovery  final.output.tail_ag  \\\n",
       "0                    42.192020              70.541216             10.411962   \n",
       "1                    42.701629              69.266198             10.462676   \n",
       "2                    42.657501              68.116445             10.507046   \n",
       "3                    42.689819              68.347543             10.422762   \n",
       "4                    42.774141              66.927016             10.360302   \n",
       "\n",
       "   final.output.tail_pb  final.output.tail_sol  final.output.tail_au  ...  \\\n",
       "0              0.895447              16.904297              2.143149  ...   \n",
       "1              0.927452              16.634514              2.224930  ...   \n",
       "2              0.953716              16.208849              2.257889  ...   \n",
       "3              0.883763              16.532835              2.146849  ...   \n",
       "4              0.792826              16.525686              2.055292  ...   \n",
       "\n",
       "   secondary_cleaner.state.floatbank4_a_air  \\\n",
       "0                                 14.016835   \n",
       "1                                 13.992281   \n",
       "2                                 14.015015   \n",
       "3                                 14.036510   \n",
       "4                                 14.027298   \n",
       "\n",
       "   secondary_cleaner.state.floatbank4_a_level  \\\n",
       "0                                 -502.488007   \n",
       "1                                 -505.503262   \n",
       "2                                 -502.520901   \n",
       "3                                 -500.857308   \n",
       "4                                 -499.838632   \n",
       "\n",
       "   secondary_cleaner.state.floatbank4_b_air  \\\n",
       "0                                 12.099931   \n",
       "1                                 11.950531   \n",
       "2                                 11.912783   \n",
       "3                                 11.999550   \n",
       "4                                 11.953070   \n",
       "\n",
       "   secondary_cleaner.state.floatbank4_b_level  \\\n",
       "0                                 -504.715942   \n",
       "1                                 -501.331529   \n",
       "2                                 -501.133383   \n",
       "3                                 -501.193686   \n",
       "4                                 -501.053894   \n",
       "\n",
       "   secondary_cleaner.state.floatbank5_a_air  \\\n",
       "0                                  9.925633   \n",
       "1                                 10.039245   \n",
       "2                                 10.070913   \n",
       "3                                  9.970366   \n",
       "4                                  9.925709   \n",
       "\n",
       "   secondary_cleaner.state.floatbank5_a_level  \\\n",
       "0                                 -498.310211   \n",
       "1                                 -500.169983   \n",
       "2                                 -500.129135   \n",
       "3                                 -499.201640   \n",
       "4                                 -501.686727   \n",
       "\n",
       "   secondary_cleaner.state.floatbank5_b_air  \\\n",
       "0                                  8.079666   \n",
       "1                                  7.984757   \n",
       "2                                  8.013877   \n",
       "3                                  7.977324   \n",
       "4                                  7.894242   \n",
       "\n",
       "   secondary_cleaner.state.floatbank5_b_level  \\\n",
       "0                                 -500.470978   \n",
       "1                                 -500.582168   \n",
       "2                                 -500.517572   \n",
       "3                                 -500.255908   \n",
       "4                                 -500.356035   \n",
       "\n",
       "   secondary_cleaner.state.floatbank6_a_air  \\\n",
       "0                                 14.151341   \n",
       "1                                 13.998353   \n",
       "2                                 14.028663   \n",
       "3                                 14.005551   \n",
       "4                                 13.996647   \n",
       "\n",
       "   secondary_cleaner.state.floatbank6_a_level  \n",
       "0                                 -605.841980  \n",
       "1                                 -599.787184  \n",
       "2                                 -601.427363  \n",
       "3                                 -599.996129  \n",
       "4                                 -601.496691  \n",
       "\n",
       "[5 rows x 87 columns]"
      ]
     },
     "metadata": {},
     "output_type": "display_data"
    },
    {
     "name": "stdout",
     "output_type": "stream",
     "text": [
      "<class 'pandas.core.frame.DataFrame'>\n",
      "RangeIndex: 14149 entries, 0 to 14148\n",
      "Data columns (total 87 columns):\n",
      " #   Column                                              Non-Null Count  Dtype  \n",
      "---  ------                                              --------------  -----  \n",
      " 0   date                                                14149 non-null  object \n",
      " 1   final.output.concentrate_ag                         14148 non-null  float64\n",
      " 2   final.output.concentrate_pb                         14148 non-null  float64\n",
      " 3   final.output.concentrate_sol                        13938 non-null  float64\n",
      " 4   final.output.concentrate_au                         14149 non-null  float64\n",
      " 5   final.output.recovery                               14149 non-null  float64\n",
      " 6   final.output.tail_ag                                14149 non-null  float64\n",
      " 7   final.output.tail_pb                                14049 non-null  float64\n",
      " 8   final.output.tail_sol                               14144 non-null  float64\n",
      " 9   final.output.tail_au                                14149 non-null  float64\n",
      " 10  primary_cleaner.input.sulfate                       14129 non-null  float64\n",
      " 11  primary_cleaner.input.depressant                    14117 non-null  float64\n",
      " 12  primary_cleaner.input.feed_size                     14149 non-null  float64\n",
      " 13  primary_cleaner.input.xanthate                      14049 non-null  float64\n",
      " 14  primary_cleaner.output.concentrate_ag               14149 non-null  float64\n",
      " 15  primary_cleaner.output.concentrate_pb               14063 non-null  float64\n",
      " 16  primary_cleaner.output.concentrate_sol              13863 non-null  float64\n",
      " 17  primary_cleaner.output.concentrate_au               14149 non-null  float64\n",
      " 18  primary_cleaner.output.tail_ag                      14148 non-null  float64\n",
      " 19  primary_cleaner.output.tail_pb                      14134 non-null  float64\n",
      " 20  primary_cleaner.output.tail_sol                     14103 non-null  float64\n",
      " 21  primary_cleaner.output.tail_au                      14149 non-null  float64\n",
      " 22  primary_cleaner.state.floatbank8_a_air              14145 non-null  float64\n",
      " 23  primary_cleaner.state.floatbank8_a_level            14148 non-null  float64\n",
      " 24  primary_cleaner.state.floatbank8_b_air              14145 non-null  float64\n",
      " 25  primary_cleaner.state.floatbank8_b_level            14148 non-null  float64\n",
      " 26  primary_cleaner.state.floatbank8_c_air              14147 non-null  float64\n",
      " 27  primary_cleaner.state.floatbank8_c_level            14148 non-null  float64\n",
      " 28  primary_cleaner.state.floatbank8_d_air              14146 non-null  float64\n",
      " 29  primary_cleaner.state.floatbank8_d_level            14148 non-null  float64\n",
      " 30  rougher.calculation.sulfate_to_au_concentrate       14148 non-null  float64\n",
      " 31  rougher.calculation.floatbank10_sulfate_to_au_feed  14148 non-null  float64\n",
      " 32  rougher.calculation.floatbank11_sulfate_to_au_feed  14148 non-null  float64\n",
      " 33  rougher.calculation.au_pb_ratio                     14149 non-null  float64\n",
      " 34  rougher.input.feed_ag                               14149 non-null  float64\n",
      " 35  rougher.input.feed_pb                               14049 non-null  float64\n",
      " 36  rougher.input.feed_rate                             14141 non-null  float64\n",
      " 37  rougher.input.feed_size                             14005 non-null  float64\n",
      " 38  rougher.input.feed_sol                              14071 non-null  float64\n",
      " 39  rougher.input.feed_au                               14149 non-null  float64\n",
      " 40  rougher.input.floatbank10_sulfate                   14120 non-null  float64\n",
      " 41  rougher.input.floatbank10_xanthate                  14141 non-null  float64\n",
      " 42  rougher.input.floatbank11_sulfate                   14113 non-null  float64\n",
      " 43  rougher.input.floatbank11_xanthate                  13721 non-null  float64\n",
      " 44  rougher.output.concentrate_ag                       14149 non-null  float64\n",
      " 45  rougher.output.concentrate_pb                       14149 non-null  float64\n",
      " 46  rougher.output.concentrate_sol                      14127 non-null  float64\n",
      " 47  rougher.output.concentrate_au                       14149 non-null  float64\n",
      " 48  rougher.output.recovery                             14149 non-null  float64\n",
      " 49  rougher.output.tail_ag                              14148 non-null  float64\n",
      " 50  rougher.output.tail_pb                              14149 non-null  float64\n",
      " 51  rougher.output.tail_sol                             14149 non-null  float64\n",
      " 52  rougher.output.tail_au                              14149 non-null  float64\n",
      " 53  rougher.state.floatbank10_a_air                     14148 non-null  float64\n",
      " 54  rougher.state.floatbank10_a_level                   14148 non-null  float64\n",
      " 55  rougher.state.floatbank10_b_air                     14148 non-null  float64\n",
      " 56  rougher.state.floatbank10_b_level                   14148 non-null  float64\n",
      " 57  rougher.state.floatbank10_c_air                     14148 non-null  float64\n",
      " 58  rougher.state.floatbank10_c_level                   14148 non-null  float64\n",
      " 59  rougher.state.floatbank10_d_air                     14149 non-null  float64\n",
      " 60  rougher.state.floatbank10_d_level                   14149 non-null  float64\n",
      " 61  rougher.state.floatbank10_e_air                     13713 non-null  float64\n",
      " 62  rougher.state.floatbank10_e_level                   14149 non-null  float64\n",
      " 63  rougher.state.floatbank10_f_air                     14149 non-null  float64\n",
      " 64  rougher.state.floatbank10_f_level                   14149 non-null  float64\n",
      " 65  secondary_cleaner.output.tail_ag                    14147 non-null  float64\n",
      " 66  secondary_cleaner.output.tail_pb                    14139 non-null  float64\n",
      " 67  secondary_cleaner.output.tail_sol                   12544 non-null  float64\n",
      " 68  secondary_cleaner.output.tail_au                    14149 non-null  float64\n",
      " 69  secondary_cleaner.state.floatbank2_a_air            13932 non-null  float64\n",
      " 70  secondary_cleaner.state.floatbank2_a_level          14148 non-null  float64\n",
      " 71  secondary_cleaner.state.floatbank2_b_air            14128 non-null  float64\n",
      " 72  secondary_cleaner.state.floatbank2_b_level          14148 non-null  float64\n",
      " 73  secondary_cleaner.state.floatbank3_a_air            14145 non-null  float64\n",
      " 74  secondary_cleaner.state.floatbank3_a_level          14148 non-null  float64\n",
      " 75  secondary_cleaner.state.floatbank3_b_air            14148 non-null  float64\n",
      " 76  secondary_cleaner.state.floatbank3_b_level          14148 non-null  float64\n",
      " 77  secondary_cleaner.state.floatbank4_a_air            14143 non-null  float64\n",
      " 78  secondary_cleaner.state.floatbank4_a_level          14148 non-null  float64\n",
      " 79  secondary_cleaner.state.floatbank4_b_air            14148 non-null  float64\n",
      " 80  secondary_cleaner.state.floatbank4_b_level          14148 non-null  float64\n",
      " 81  secondary_cleaner.state.floatbank5_a_air            14148 non-null  float64\n",
      " 82  secondary_cleaner.state.floatbank5_a_level          14148 non-null  float64\n",
      " 83  secondary_cleaner.state.floatbank5_b_air            14148 non-null  float64\n",
      " 84  secondary_cleaner.state.floatbank5_b_level          14148 non-null  float64\n",
      " 85  secondary_cleaner.state.floatbank6_a_air            14147 non-null  float64\n",
      " 86  secondary_cleaner.state.floatbank6_a_level          14148 non-null  float64\n",
      "dtypes: float64(86), object(1)\n",
      "memory usage: 9.4+ MB\n"
     ]
    }
   ],
   "source": [
    "info(train)"
   ]
  },
  {
   "cell_type": "markdown",
   "metadata": {
    "id": "dgH5lauqpoN1"
   },
   "source": [
    "Тестовые данные:"
   ]
  },
  {
   "cell_type": "code",
   "execution_count": 9,
   "metadata": {
    "colab": {
     "base_uri": "https://localhost:8080/",
     "height": 1000
    },
    "id": "oh8DLcJVoprD",
    "outputId": "2e7e0d39-fdb4-4cfa-ffcd-ecbdca7849f2"
   },
   "outputs": [
    {
     "data": {
      "text/html": [
       "\n",
       "  <div id=\"df-1cbfe985-9217-4308-8301-93034121311d\">\n",
       "    <div class=\"colab-df-container\">\n",
       "      <div>\n",
       "<style scoped>\n",
       "    .dataframe tbody tr th:only-of-type {\n",
       "        vertical-align: middle;\n",
       "    }\n",
       "\n",
       "    .dataframe tbody tr th {\n",
       "        vertical-align: top;\n",
       "    }\n",
       "\n",
       "    .dataframe thead th {\n",
       "        text-align: right;\n",
       "    }\n",
       "</style>\n",
       "<table border=\"1\" class=\"dataframe\">\n",
       "  <thead>\n",
       "    <tr style=\"text-align: right;\">\n",
       "      <th></th>\n",
       "      <th>date</th>\n",
       "      <th>primary_cleaner.input.sulfate</th>\n",
       "      <th>primary_cleaner.input.depressant</th>\n",
       "      <th>primary_cleaner.input.feed_size</th>\n",
       "      <th>primary_cleaner.input.xanthate</th>\n",
       "      <th>primary_cleaner.state.floatbank8_a_air</th>\n",
       "      <th>primary_cleaner.state.floatbank8_a_level</th>\n",
       "      <th>primary_cleaner.state.floatbank8_b_air</th>\n",
       "      <th>primary_cleaner.state.floatbank8_b_level</th>\n",
       "      <th>primary_cleaner.state.floatbank8_c_air</th>\n",
       "      <th>...</th>\n",
       "      <th>secondary_cleaner.state.floatbank4_a_air</th>\n",
       "      <th>secondary_cleaner.state.floatbank4_a_level</th>\n",
       "      <th>secondary_cleaner.state.floatbank4_b_air</th>\n",
       "      <th>secondary_cleaner.state.floatbank4_b_level</th>\n",
       "      <th>secondary_cleaner.state.floatbank5_a_air</th>\n",
       "      <th>secondary_cleaner.state.floatbank5_a_level</th>\n",
       "      <th>secondary_cleaner.state.floatbank5_b_air</th>\n",
       "      <th>secondary_cleaner.state.floatbank5_b_level</th>\n",
       "      <th>secondary_cleaner.state.floatbank6_a_air</th>\n",
       "      <th>secondary_cleaner.state.floatbank6_a_level</th>\n",
       "    </tr>\n",
       "  </thead>\n",
       "  <tbody>\n",
       "    <tr>\n",
       "      <th>0</th>\n",
       "      <td>2016-09-01 00:59:59</td>\n",
       "      <td>210.800909</td>\n",
       "      <td>14.993118</td>\n",
       "      <td>8.080000</td>\n",
       "      <td>1.005021</td>\n",
       "      <td>1398.981301</td>\n",
       "      <td>-500.225577</td>\n",
       "      <td>1399.144926</td>\n",
       "      <td>-499.919735</td>\n",
       "      <td>1400.102998</td>\n",
       "      <td>...</td>\n",
       "      <td>12.023554</td>\n",
       "      <td>-497.795834</td>\n",
       "      <td>8.016656</td>\n",
       "      <td>-501.289139</td>\n",
       "      <td>7.946562</td>\n",
       "      <td>-432.317850</td>\n",
       "      <td>4.872511</td>\n",
       "      <td>-500.037437</td>\n",
       "      <td>26.705889</td>\n",
       "      <td>-499.709414</td>\n",
       "    </tr>\n",
       "    <tr>\n",
       "      <th>1</th>\n",
       "      <td>2016-09-01 01:59:59</td>\n",
       "      <td>215.392455</td>\n",
       "      <td>14.987471</td>\n",
       "      <td>8.080000</td>\n",
       "      <td>0.990469</td>\n",
       "      <td>1398.777912</td>\n",
       "      <td>-500.057435</td>\n",
       "      <td>1398.055362</td>\n",
       "      <td>-499.778182</td>\n",
       "      <td>1396.151033</td>\n",
       "      <td>...</td>\n",
       "      <td>12.058140</td>\n",
       "      <td>-498.695773</td>\n",
       "      <td>8.130979</td>\n",
       "      <td>-499.634209</td>\n",
       "      <td>7.958270</td>\n",
       "      <td>-525.839648</td>\n",
       "      <td>4.878850</td>\n",
       "      <td>-500.162375</td>\n",
       "      <td>25.019940</td>\n",
       "      <td>-499.819438</td>\n",
       "    </tr>\n",
       "    <tr>\n",
       "      <th>2</th>\n",
       "      <td>2016-09-01 02:59:59</td>\n",
       "      <td>215.259946</td>\n",
       "      <td>12.884934</td>\n",
       "      <td>7.786667</td>\n",
       "      <td>0.996043</td>\n",
       "      <td>1398.493666</td>\n",
       "      <td>-500.868360</td>\n",
       "      <td>1398.860436</td>\n",
       "      <td>-499.764529</td>\n",
       "      <td>1398.075709</td>\n",
       "      <td>...</td>\n",
       "      <td>11.962366</td>\n",
       "      <td>-498.767484</td>\n",
       "      <td>8.096893</td>\n",
       "      <td>-500.827423</td>\n",
       "      <td>8.071056</td>\n",
       "      <td>-500.801673</td>\n",
       "      <td>4.905125</td>\n",
       "      <td>-499.828510</td>\n",
       "      <td>24.994862</td>\n",
       "      <td>-500.622559</td>\n",
       "    </tr>\n",
       "    <tr>\n",
       "      <th>3</th>\n",
       "      <td>2016-09-01 03:59:59</td>\n",
       "      <td>215.336236</td>\n",
       "      <td>12.006805</td>\n",
       "      <td>7.640000</td>\n",
       "      <td>0.863514</td>\n",
       "      <td>1399.618111</td>\n",
       "      <td>-498.863574</td>\n",
       "      <td>1397.440120</td>\n",
       "      <td>-499.211024</td>\n",
       "      <td>1400.129303</td>\n",
       "      <td>...</td>\n",
       "      <td>12.033091</td>\n",
       "      <td>-498.350935</td>\n",
       "      <td>8.074946</td>\n",
       "      <td>-499.474407</td>\n",
       "      <td>7.897085</td>\n",
       "      <td>-500.868509</td>\n",
       "      <td>4.931400</td>\n",
       "      <td>-499.963623</td>\n",
       "      <td>24.948919</td>\n",
       "      <td>-498.709987</td>\n",
       "    </tr>\n",
       "    <tr>\n",
       "      <th>4</th>\n",
       "      <td>2016-09-01 04:59:59</td>\n",
       "      <td>199.099327</td>\n",
       "      <td>10.682530</td>\n",
       "      <td>7.530000</td>\n",
       "      <td>0.805575</td>\n",
       "      <td>1401.268123</td>\n",
       "      <td>-500.808305</td>\n",
       "      <td>1398.128818</td>\n",
       "      <td>-499.504543</td>\n",
       "      <td>1402.172226</td>\n",
       "      <td>...</td>\n",
       "      <td>12.025367</td>\n",
       "      <td>-500.786497</td>\n",
       "      <td>8.054678</td>\n",
       "      <td>-500.397500</td>\n",
       "      <td>8.107890</td>\n",
       "      <td>-509.526725</td>\n",
       "      <td>4.957674</td>\n",
       "      <td>-500.360026</td>\n",
       "      <td>25.003331</td>\n",
       "      <td>-500.856333</td>\n",
       "    </tr>\n",
       "  </tbody>\n",
       "</table>\n",
       "<p>5 rows × 53 columns</p>\n",
       "</div>\n",
       "      <button class=\"colab-df-convert\" onclick=\"convertToInteractive('df-1cbfe985-9217-4308-8301-93034121311d')\"\n",
       "              title=\"Convert this dataframe to an interactive table.\"\n",
       "              style=\"display:none;\">\n",
       "        \n",
       "  <svg xmlns=\"http://www.w3.org/2000/svg\" height=\"24px\"viewBox=\"0 0 24 24\"\n",
       "       width=\"24px\">\n",
       "    <path d=\"M0 0h24v24H0V0z\" fill=\"none\"/>\n",
       "    <path d=\"M18.56 5.44l.94 2.06.94-2.06 2.06-.94-2.06-.94-.94-2.06-.94 2.06-2.06.94zm-11 1L8.5 8.5l.94-2.06 2.06-.94-2.06-.94L8.5 2.5l-.94 2.06-2.06.94zm10 10l.94 2.06.94-2.06 2.06-.94-2.06-.94-.94-2.06-.94 2.06-2.06.94z\"/><path d=\"M17.41 7.96l-1.37-1.37c-.4-.4-.92-.59-1.43-.59-.52 0-1.04.2-1.43.59L10.3 9.45l-7.72 7.72c-.78.78-.78 2.05 0 2.83L4 21.41c.39.39.9.59 1.41.59.51 0 1.02-.2 1.41-.59l7.78-7.78 2.81-2.81c.8-.78.8-2.07 0-2.86zM5.41 20L4 18.59l7.72-7.72 1.47 1.35L5.41 20z\"/>\n",
       "  </svg>\n",
       "      </button>\n",
       "      \n",
       "  <style>\n",
       "    .colab-df-container {\n",
       "      display:flex;\n",
       "      flex-wrap:wrap;\n",
       "      gap: 12px;\n",
       "    }\n",
       "\n",
       "    .colab-df-convert {\n",
       "      background-color: #E8F0FE;\n",
       "      border: none;\n",
       "      border-radius: 50%;\n",
       "      cursor: pointer;\n",
       "      display: none;\n",
       "      fill: #1967D2;\n",
       "      height: 32px;\n",
       "      padding: 0 0 0 0;\n",
       "      width: 32px;\n",
       "    }\n",
       "\n",
       "    .colab-df-convert:hover {\n",
       "      background-color: #E2EBFA;\n",
       "      box-shadow: 0px 1px 2px rgba(60, 64, 67, 0.3), 0px 1px 3px 1px rgba(60, 64, 67, 0.15);\n",
       "      fill: #174EA6;\n",
       "    }\n",
       "\n",
       "    [theme=dark] .colab-df-convert {\n",
       "      background-color: #3B4455;\n",
       "      fill: #D2E3FC;\n",
       "    }\n",
       "\n",
       "    [theme=dark] .colab-df-convert:hover {\n",
       "      background-color: #434B5C;\n",
       "      box-shadow: 0px 1px 3px 1px rgba(0, 0, 0, 0.15);\n",
       "      filter: drop-shadow(0px 1px 2px rgba(0, 0, 0, 0.3));\n",
       "      fill: #FFFFFF;\n",
       "    }\n",
       "  </style>\n",
       "\n",
       "      <script>\n",
       "        const buttonEl =\n",
       "          document.querySelector('#df-1cbfe985-9217-4308-8301-93034121311d button.colab-df-convert');\n",
       "        buttonEl.style.display =\n",
       "          google.colab.kernel.accessAllowed ? 'block' : 'none';\n",
       "\n",
       "        async function convertToInteractive(key) {\n",
       "          const element = document.querySelector('#df-1cbfe985-9217-4308-8301-93034121311d');\n",
       "          const dataTable =\n",
       "            await google.colab.kernel.invokeFunction('convertToInteractive',\n",
       "                                                     [key], {});\n",
       "          if (!dataTable) return;\n",
       "\n",
       "          const docLinkHtml = 'Like what you see? Visit the ' +\n",
       "            '<a target=\"_blank\" href=https://colab.research.google.com/notebooks/data_table.ipynb>data table notebook</a>'\n",
       "            + ' to learn more about interactive tables.';\n",
       "          element.innerHTML = '';\n",
       "          dataTable['output_type'] = 'display_data';\n",
       "          await google.colab.output.renderOutput(dataTable, element);\n",
       "          const docLink = document.createElement('div');\n",
       "          docLink.innerHTML = docLinkHtml;\n",
       "          element.appendChild(docLink);\n",
       "        }\n",
       "      </script>\n",
       "    </div>\n",
       "  </div>\n",
       "  "
      ],
      "text/plain": [
       "                  date  primary_cleaner.input.sulfate  \\\n",
       "0  2016-09-01 00:59:59                     210.800909   \n",
       "1  2016-09-01 01:59:59                     215.392455   \n",
       "2  2016-09-01 02:59:59                     215.259946   \n",
       "3  2016-09-01 03:59:59                     215.336236   \n",
       "4  2016-09-01 04:59:59                     199.099327   \n",
       "\n",
       "   primary_cleaner.input.depressant  primary_cleaner.input.feed_size  \\\n",
       "0                         14.993118                         8.080000   \n",
       "1                         14.987471                         8.080000   \n",
       "2                         12.884934                         7.786667   \n",
       "3                         12.006805                         7.640000   \n",
       "4                         10.682530                         7.530000   \n",
       "\n",
       "   primary_cleaner.input.xanthate  primary_cleaner.state.floatbank8_a_air  \\\n",
       "0                        1.005021                             1398.981301   \n",
       "1                        0.990469                             1398.777912   \n",
       "2                        0.996043                             1398.493666   \n",
       "3                        0.863514                             1399.618111   \n",
       "4                        0.805575                             1401.268123   \n",
       "\n",
       "   primary_cleaner.state.floatbank8_a_level  \\\n",
       "0                               -500.225577   \n",
       "1                               -500.057435   \n",
       "2                               -500.868360   \n",
       "3                               -498.863574   \n",
       "4                               -500.808305   \n",
       "\n",
       "   primary_cleaner.state.floatbank8_b_air  \\\n",
       "0                             1399.144926   \n",
       "1                             1398.055362   \n",
       "2                             1398.860436   \n",
       "3                             1397.440120   \n",
       "4                             1398.128818   \n",
       "\n",
       "   primary_cleaner.state.floatbank8_b_level  \\\n",
       "0                               -499.919735   \n",
       "1                               -499.778182   \n",
       "2                               -499.764529   \n",
       "3                               -499.211024   \n",
       "4                               -499.504543   \n",
       "\n",
       "   primary_cleaner.state.floatbank8_c_air  ...  \\\n",
       "0                             1400.102998  ...   \n",
       "1                             1396.151033  ...   \n",
       "2                             1398.075709  ...   \n",
       "3                             1400.129303  ...   \n",
       "4                             1402.172226  ...   \n",
       "\n",
       "   secondary_cleaner.state.floatbank4_a_air  \\\n",
       "0                                 12.023554   \n",
       "1                                 12.058140   \n",
       "2                                 11.962366   \n",
       "3                                 12.033091   \n",
       "4                                 12.025367   \n",
       "\n",
       "   secondary_cleaner.state.floatbank4_a_level  \\\n",
       "0                                 -497.795834   \n",
       "1                                 -498.695773   \n",
       "2                                 -498.767484   \n",
       "3                                 -498.350935   \n",
       "4                                 -500.786497   \n",
       "\n",
       "   secondary_cleaner.state.floatbank4_b_air  \\\n",
       "0                                  8.016656   \n",
       "1                                  8.130979   \n",
       "2                                  8.096893   \n",
       "3                                  8.074946   \n",
       "4                                  8.054678   \n",
       "\n",
       "   secondary_cleaner.state.floatbank4_b_level  \\\n",
       "0                                 -501.289139   \n",
       "1                                 -499.634209   \n",
       "2                                 -500.827423   \n",
       "3                                 -499.474407   \n",
       "4                                 -500.397500   \n",
       "\n",
       "   secondary_cleaner.state.floatbank5_a_air  \\\n",
       "0                                  7.946562   \n",
       "1                                  7.958270   \n",
       "2                                  8.071056   \n",
       "3                                  7.897085   \n",
       "4                                  8.107890   \n",
       "\n",
       "   secondary_cleaner.state.floatbank5_a_level  \\\n",
       "0                                 -432.317850   \n",
       "1                                 -525.839648   \n",
       "2                                 -500.801673   \n",
       "3                                 -500.868509   \n",
       "4                                 -509.526725   \n",
       "\n",
       "   secondary_cleaner.state.floatbank5_b_air  \\\n",
       "0                                  4.872511   \n",
       "1                                  4.878850   \n",
       "2                                  4.905125   \n",
       "3                                  4.931400   \n",
       "4                                  4.957674   \n",
       "\n",
       "   secondary_cleaner.state.floatbank5_b_level  \\\n",
       "0                                 -500.037437   \n",
       "1                                 -500.162375   \n",
       "2                                 -499.828510   \n",
       "3                                 -499.963623   \n",
       "4                                 -500.360026   \n",
       "\n",
       "   secondary_cleaner.state.floatbank6_a_air  \\\n",
       "0                                 26.705889   \n",
       "1                                 25.019940   \n",
       "2                                 24.994862   \n",
       "3                                 24.948919   \n",
       "4                                 25.003331   \n",
       "\n",
       "   secondary_cleaner.state.floatbank6_a_level  \n",
       "0                                 -499.709414  \n",
       "1                                 -499.819438  \n",
       "2                                 -500.622559  \n",
       "3                                 -498.709987  \n",
       "4                                 -500.856333  \n",
       "\n",
       "[5 rows x 53 columns]"
      ]
     },
     "metadata": {},
     "output_type": "display_data"
    },
    {
     "name": "stdout",
     "output_type": "stream",
     "text": [
      "<class 'pandas.core.frame.DataFrame'>\n",
      "RangeIndex: 5290 entries, 0 to 5289\n",
      "Data columns (total 53 columns):\n",
      " #   Column                                      Non-Null Count  Dtype  \n",
      "---  ------                                      --------------  -----  \n",
      " 0   date                                        5290 non-null   object \n",
      " 1   primary_cleaner.input.sulfate               5286 non-null   float64\n",
      " 2   primary_cleaner.input.depressant            5285 non-null   float64\n",
      " 3   primary_cleaner.input.feed_size             5290 non-null   float64\n",
      " 4   primary_cleaner.input.xanthate              5286 non-null   float64\n",
      " 5   primary_cleaner.state.floatbank8_a_air      5290 non-null   float64\n",
      " 6   primary_cleaner.state.floatbank8_a_level    5290 non-null   float64\n",
      " 7   primary_cleaner.state.floatbank8_b_air      5290 non-null   float64\n",
      " 8   primary_cleaner.state.floatbank8_b_level    5290 non-null   float64\n",
      " 9   primary_cleaner.state.floatbank8_c_air      5290 non-null   float64\n",
      " 10  primary_cleaner.state.floatbank8_c_level    5290 non-null   float64\n",
      " 11  primary_cleaner.state.floatbank8_d_air      5290 non-null   float64\n",
      " 12  primary_cleaner.state.floatbank8_d_level    5290 non-null   float64\n",
      " 13  rougher.input.feed_ag                       5290 non-null   float64\n",
      " 14  rougher.input.feed_pb                       5290 non-null   float64\n",
      " 15  rougher.input.feed_rate                     5287 non-null   float64\n",
      " 16  rougher.input.feed_size                     5289 non-null   float64\n",
      " 17  rougher.input.feed_sol                      5269 non-null   float64\n",
      " 18  rougher.input.feed_au                       5290 non-null   float64\n",
      " 19  rougher.input.floatbank10_sulfate           5285 non-null   float64\n",
      " 20  rougher.input.floatbank10_xanthate          5290 non-null   float64\n",
      " 21  rougher.input.floatbank11_sulfate           5282 non-null   float64\n",
      " 22  rougher.input.floatbank11_xanthate          5265 non-null   float64\n",
      " 23  rougher.state.floatbank10_a_air             5290 non-null   float64\n",
      " 24  rougher.state.floatbank10_a_level           5290 non-null   float64\n",
      " 25  rougher.state.floatbank10_b_air             5290 non-null   float64\n",
      " 26  rougher.state.floatbank10_b_level           5290 non-null   float64\n",
      " 27  rougher.state.floatbank10_c_air             5290 non-null   float64\n",
      " 28  rougher.state.floatbank10_c_level           5290 non-null   float64\n",
      " 29  rougher.state.floatbank10_d_air             5290 non-null   float64\n",
      " 30  rougher.state.floatbank10_d_level           5290 non-null   float64\n",
      " 31  rougher.state.floatbank10_e_air             5290 non-null   float64\n",
      " 32  rougher.state.floatbank10_e_level           5290 non-null   float64\n",
      " 33  rougher.state.floatbank10_f_air             5290 non-null   float64\n",
      " 34  rougher.state.floatbank10_f_level           5290 non-null   float64\n",
      " 35  secondary_cleaner.state.floatbank2_a_air    5287 non-null   float64\n",
      " 36  secondary_cleaner.state.floatbank2_a_level  5290 non-null   float64\n",
      " 37  secondary_cleaner.state.floatbank2_b_air    5288 non-null   float64\n",
      " 38  secondary_cleaner.state.floatbank2_b_level  5290 non-null   float64\n",
      " 39  secondary_cleaner.state.floatbank3_a_air    5281 non-null   float64\n",
      " 40  secondary_cleaner.state.floatbank3_a_level  5290 non-null   float64\n",
      " 41  secondary_cleaner.state.floatbank3_b_air    5290 non-null   float64\n",
      " 42  secondary_cleaner.state.floatbank3_b_level  5290 non-null   float64\n",
      " 43  secondary_cleaner.state.floatbank4_a_air    5290 non-null   float64\n",
      " 44  secondary_cleaner.state.floatbank4_a_level  5290 non-null   float64\n",
      " 45  secondary_cleaner.state.floatbank4_b_air    5290 non-null   float64\n",
      " 46  secondary_cleaner.state.floatbank4_b_level  5290 non-null   float64\n",
      " 47  secondary_cleaner.state.floatbank5_a_air    5290 non-null   float64\n",
      " 48  secondary_cleaner.state.floatbank5_a_level  5290 non-null   float64\n",
      " 49  secondary_cleaner.state.floatbank5_b_air    5290 non-null   float64\n",
      " 50  secondary_cleaner.state.floatbank5_b_level  5290 non-null   float64\n",
      " 51  secondary_cleaner.state.floatbank6_a_air    5290 non-null   float64\n",
      " 52  secondary_cleaner.state.floatbank6_a_level  5290 non-null   float64\n",
      "dtypes: float64(52), object(1)\n",
      "memory usage: 2.1+ MB\n"
     ]
    }
   ],
   "source": [
    "info(test)"
   ]
  },
  {
   "cell_type": "markdown",
   "metadata": {
    "id": "vPUVPVvYp5lz"
   },
   "source": [
    "Исходные данные:"
   ]
  },
  {
   "cell_type": "code",
   "execution_count": 10,
   "metadata": {
    "colab": {
     "base_uri": "https://localhost:8080/",
     "height": 1000
    },
    "id": "lnl-zWWBpuFg",
    "outputId": "d87006c0-6f0d-49f9-acc6-862107ab6d78",
    "scrolled": false
   },
   "outputs": [
    {
     "data": {
      "text/html": [
       "\n",
       "  <div id=\"df-e52bb198-3fd0-4f20-a2d3-584b8f564d9a\">\n",
       "    <div class=\"colab-df-container\">\n",
       "      <div>\n",
       "<style scoped>\n",
       "    .dataframe tbody tr th:only-of-type {\n",
       "        vertical-align: middle;\n",
       "    }\n",
       "\n",
       "    .dataframe tbody tr th {\n",
       "        vertical-align: top;\n",
       "    }\n",
       "\n",
       "    .dataframe thead th {\n",
       "        text-align: right;\n",
       "    }\n",
       "</style>\n",
       "<table border=\"1\" class=\"dataframe\">\n",
       "  <thead>\n",
       "    <tr style=\"text-align: right;\">\n",
       "      <th></th>\n",
       "      <th>date</th>\n",
       "      <th>final.output.concentrate_ag</th>\n",
       "      <th>final.output.concentrate_pb</th>\n",
       "      <th>final.output.concentrate_sol</th>\n",
       "      <th>final.output.concentrate_au</th>\n",
       "      <th>final.output.recovery</th>\n",
       "      <th>final.output.tail_ag</th>\n",
       "      <th>final.output.tail_pb</th>\n",
       "      <th>final.output.tail_sol</th>\n",
       "      <th>final.output.tail_au</th>\n",
       "      <th>...</th>\n",
       "      <th>secondary_cleaner.state.floatbank4_a_air</th>\n",
       "      <th>secondary_cleaner.state.floatbank4_a_level</th>\n",
       "      <th>secondary_cleaner.state.floatbank4_b_air</th>\n",
       "      <th>secondary_cleaner.state.floatbank4_b_level</th>\n",
       "      <th>secondary_cleaner.state.floatbank5_a_air</th>\n",
       "      <th>secondary_cleaner.state.floatbank5_a_level</th>\n",
       "      <th>secondary_cleaner.state.floatbank5_b_air</th>\n",
       "      <th>secondary_cleaner.state.floatbank5_b_level</th>\n",
       "      <th>secondary_cleaner.state.floatbank6_a_air</th>\n",
       "      <th>secondary_cleaner.state.floatbank6_a_level</th>\n",
       "    </tr>\n",
       "  </thead>\n",
       "  <tbody>\n",
       "    <tr>\n",
       "      <th>0</th>\n",
       "      <td>2016-01-15 00:00:00</td>\n",
       "      <td>6.055403</td>\n",
       "      <td>9.889648</td>\n",
       "      <td>5.507324</td>\n",
       "      <td>42.192020</td>\n",
       "      <td>70.541216</td>\n",
       "      <td>10.411962</td>\n",
       "      <td>0.895447</td>\n",
       "      <td>16.904297</td>\n",
       "      <td>2.143149</td>\n",
       "      <td>...</td>\n",
       "      <td>14.016835</td>\n",
       "      <td>-502.488007</td>\n",
       "      <td>12.099931</td>\n",
       "      <td>-504.715942</td>\n",
       "      <td>9.925633</td>\n",
       "      <td>-498.310211</td>\n",
       "      <td>8.079666</td>\n",
       "      <td>-500.470978</td>\n",
       "      <td>14.151341</td>\n",
       "      <td>-605.841980</td>\n",
       "    </tr>\n",
       "    <tr>\n",
       "      <th>1</th>\n",
       "      <td>2016-01-15 01:00:00</td>\n",
       "      <td>6.029369</td>\n",
       "      <td>9.968944</td>\n",
       "      <td>5.257781</td>\n",
       "      <td>42.701629</td>\n",
       "      <td>69.266198</td>\n",
       "      <td>10.462676</td>\n",
       "      <td>0.927452</td>\n",
       "      <td>16.634514</td>\n",
       "      <td>2.224930</td>\n",
       "      <td>...</td>\n",
       "      <td>13.992281</td>\n",
       "      <td>-505.503262</td>\n",
       "      <td>11.950531</td>\n",
       "      <td>-501.331529</td>\n",
       "      <td>10.039245</td>\n",
       "      <td>-500.169983</td>\n",
       "      <td>7.984757</td>\n",
       "      <td>-500.582168</td>\n",
       "      <td>13.998353</td>\n",
       "      <td>-599.787184</td>\n",
       "    </tr>\n",
       "    <tr>\n",
       "      <th>2</th>\n",
       "      <td>2016-01-15 02:00:00</td>\n",
       "      <td>6.055926</td>\n",
       "      <td>10.213995</td>\n",
       "      <td>5.383759</td>\n",
       "      <td>42.657501</td>\n",
       "      <td>68.116445</td>\n",
       "      <td>10.507046</td>\n",
       "      <td>0.953716</td>\n",
       "      <td>16.208849</td>\n",
       "      <td>2.257889</td>\n",
       "      <td>...</td>\n",
       "      <td>14.015015</td>\n",
       "      <td>-502.520901</td>\n",
       "      <td>11.912783</td>\n",
       "      <td>-501.133383</td>\n",
       "      <td>10.070913</td>\n",
       "      <td>-500.129135</td>\n",
       "      <td>8.013877</td>\n",
       "      <td>-500.517572</td>\n",
       "      <td>14.028663</td>\n",
       "      <td>-601.427363</td>\n",
       "    </tr>\n",
       "    <tr>\n",
       "      <th>3</th>\n",
       "      <td>2016-01-15 03:00:00</td>\n",
       "      <td>6.047977</td>\n",
       "      <td>9.977019</td>\n",
       "      <td>4.858634</td>\n",
       "      <td>42.689819</td>\n",
       "      <td>68.347543</td>\n",
       "      <td>10.422762</td>\n",
       "      <td>0.883763</td>\n",
       "      <td>16.532835</td>\n",
       "      <td>2.146849</td>\n",
       "      <td>...</td>\n",
       "      <td>14.036510</td>\n",
       "      <td>-500.857308</td>\n",
       "      <td>11.999550</td>\n",
       "      <td>-501.193686</td>\n",
       "      <td>9.970366</td>\n",
       "      <td>-499.201640</td>\n",
       "      <td>7.977324</td>\n",
       "      <td>-500.255908</td>\n",
       "      <td>14.005551</td>\n",
       "      <td>-599.996129</td>\n",
       "    </tr>\n",
       "    <tr>\n",
       "      <th>4</th>\n",
       "      <td>2016-01-15 04:00:00</td>\n",
       "      <td>6.148599</td>\n",
       "      <td>10.142511</td>\n",
       "      <td>4.939416</td>\n",
       "      <td>42.774141</td>\n",
       "      <td>66.927016</td>\n",
       "      <td>10.360302</td>\n",
       "      <td>0.792826</td>\n",
       "      <td>16.525686</td>\n",
       "      <td>2.055292</td>\n",
       "      <td>...</td>\n",
       "      <td>14.027298</td>\n",
       "      <td>-499.838632</td>\n",
       "      <td>11.953070</td>\n",
       "      <td>-501.053894</td>\n",
       "      <td>9.925709</td>\n",
       "      <td>-501.686727</td>\n",
       "      <td>7.894242</td>\n",
       "      <td>-500.356035</td>\n",
       "      <td>13.996647</td>\n",
       "      <td>-601.496691</td>\n",
       "    </tr>\n",
       "  </tbody>\n",
       "</table>\n",
       "<p>5 rows × 87 columns</p>\n",
       "</div>\n",
       "      <button class=\"colab-df-convert\" onclick=\"convertToInteractive('df-e52bb198-3fd0-4f20-a2d3-584b8f564d9a')\"\n",
       "              title=\"Convert this dataframe to an interactive table.\"\n",
       "              style=\"display:none;\">\n",
       "        \n",
       "  <svg xmlns=\"http://www.w3.org/2000/svg\" height=\"24px\"viewBox=\"0 0 24 24\"\n",
       "       width=\"24px\">\n",
       "    <path d=\"M0 0h24v24H0V0z\" fill=\"none\"/>\n",
       "    <path d=\"M18.56 5.44l.94 2.06.94-2.06 2.06-.94-2.06-.94-.94-2.06-.94 2.06-2.06.94zm-11 1L8.5 8.5l.94-2.06 2.06-.94-2.06-.94L8.5 2.5l-.94 2.06-2.06.94zm10 10l.94 2.06.94-2.06 2.06-.94-2.06-.94-.94-2.06-.94 2.06-2.06.94z\"/><path d=\"M17.41 7.96l-1.37-1.37c-.4-.4-.92-.59-1.43-.59-.52 0-1.04.2-1.43.59L10.3 9.45l-7.72 7.72c-.78.78-.78 2.05 0 2.83L4 21.41c.39.39.9.59 1.41.59.51 0 1.02-.2 1.41-.59l7.78-7.78 2.81-2.81c.8-.78.8-2.07 0-2.86zM5.41 20L4 18.59l7.72-7.72 1.47 1.35L5.41 20z\"/>\n",
       "  </svg>\n",
       "      </button>\n",
       "      \n",
       "  <style>\n",
       "    .colab-df-container {\n",
       "      display:flex;\n",
       "      flex-wrap:wrap;\n",
       "      gap: 12px;\n",
       "    }\n",
       "\n",
       "    .colab-df-convert {\n",
       "      background-color: #E8F0FE;\n",
       "      border: none;\n",
       "      border-radius: 50%;\n",
       "      cursor: pointer;\n",
       "      display: none;\n",
       "      fill: #1967D2;\n",
       "      height: 32px;\n",
       "      padding: 0 0 0 0;\n",
       "      width: 32px;\n",
       "    }\n",
       "\n",
       "    .colab-df-convert:hover {\n",
       "      background-color: #E2EBFA;\n",
       "      box-shadow: 0px 1px 2px rgba(60, 64, 67, 0.3), 0px 1px 3px 1px rgba(60, 64, 67, 0.15);\n",
       "      fill: #174EA6;\n",
       "    }\n",
       "\n",
       "    [theme=dark] .colab-df-convert {\n",
       "      background-color: #3B4455;\n",
       "      fill: #D2E3FC;\n",
       "    }\n",
       "\n",
       "    [theme=dark] .colab-df-convert:hover {\n",
       "      background-color: #434B5C;\n",
       "      box-shadow: 0px 1px 3px 1px rgba(0, 0, 0, 0.15);\n",
       "      filter: drop-shadow(0px 1px 2px rgba(0, 0, 0, 0.3));\n",
       "      fill: #FFFFFF;\n",
       "    }\n",
       "  </style>\n",
       "\n",
       "      <script>\n",
       "        const buttonEl =\n",
       "          document.querySelector('#df-e52bb198-3fd0-4f20-a2d3-584b8f564d9a button.colab-df-convert');\n",
       "        buttonEl.style.display =\n",
       "          google.colab.kernel.accessAllowed ? 'block' : 'none';\n",
       "\n",
       "        async function convertToInteractive(key) {\n",
       "          const element = document.querySelector('#df-e52bb198-3fd0-4f20-a2d3-584b8f564d9a');\n",
       "          const dataTable =\n",
       "            await google.colab.kernel.invokeFunction('convertToInteractive',\n",
       "                                                     [key], {});\n",
       "          if (!dataTable) return;\n",
       "\n",
       "          const docLinkHtml = 'Like what you see? Visit the ' +\n",
       "            '<a target=\"_blank\" href=https://colab.research.google.com/notebooks/data_table.ipynb>data table notebook</a>'\n",
       "            + ' to learn more about interactive tables.';\n",
       "          element.innerHTML = '';\n",
       "          dataTable['output_type'] = 'display_data';\n",
       "          await google.colab.output.renderOutput(dataTable, element);\n",
       "          const docLink = document.createElement('div');\n",
       "          docLink.innerHTML = docLinkHtml;\n",
       "          element.appendChild(docLink);\n",
       "        }\n",
       "      </script>\n",
       "    </div>\n",
       "  </div>\n",
       "  "
      ],
      "text/plain": [
       "                  date  final.output.concentrate_ag  \\\n",
       "0  2016-01-15 00:00:00                     6.055403   \n",
       "1  2016-01-15 01:00:00                     6.029369   \n",
       "2  2016-01-15 02:00:00                     6.055926   \n",
       "3  2016-01-15 03:00:00                     6.047977   \n",
       "4  2016-01-15 04:00:00                     6.148599   \n",
       "\n",
       "   final.output.concentrate_pb  final.output.concentrate_sol  \\\n",
       "0                     9.889648                      5.507324   \n",
       "1                     9.968944                      5.257781   \n",
       "2                    10.213995                      5.383759   \n",
       "3                     9.977019                      4.858634   \n",
       "4                    10.142511                      4.939416   \n",
       "\n",
       "   final.output.concentrate_au  final.output.recovery  final.output.tail_ag  \\\n",
       "0                    42.192020              70.541216             10.411962   \n",
       "1                    42.701629              69.266198             10.462676   \n",
       "2                    42.657501              68.116445             10.507046   \n",
       "3                    42.689819              68.347543             10.422762   \n",
       "4                    42.774141              66.927016             10.360302   \n",
       "\n",
       "   final.output.tail_pb  final.output.tail_sol  final.output.tail_au  ...  \\\n",
       "0              0.895447              16.904297              2.143149  ...   \n",
       "1              0.927452              16.634514              2.224930  ...   \n",
       "2              0.953716              16.208849              2.257889  ...   \n",
       "3              0.883763              16.532835              2.146849  ...   \n",
       "4              0.792826              16.525686              2.055292  ...   \n",
       "\n",
       "   secondary_cleaner.state.floatbank4_a_air  \\\n",
       "0                                 14.016835   \n",
       "1                                 13.992281   \n",
       "2                                 14.015015   \n",
       "3                                 14.036510   \n",
       "4                                 14.027298   \n",
       "\n",
       "   secondary_cleaner.state.floatbank4_a_level  \\\n",
       "0                                 -502.488007   \n",
       "1                                 -505.503262   \n",
       "2                                 -502.520901   \n",
       "3                                 -500.857308   \n",
       "4                                 -499.838632   \n",
       "\n",
       "   secondary_cleaner.state.floatbank4_b_air  \\\n",
       "0                                 12.099931   \n",
       "1                                 11.950531   \n",
       "2                                 11.912783   \n",
       "3                                 11.999550   \n",
       "4                                 11.953070   \n",
       "\n",
       "   secondary_cleaner.state.floatbank4_b_level  \\\n",
       "0                                 -504.715942   \n",
       "1                                 -501.331529   \n",
       "2                                 -501.133383   \n",
       "3                                 -501.193686   \n",
       "4                                 -501.053894   \n",
       "\n",
       "   secondary_cleaner.state.floatbank5_a_air  \\\n",
       "0                                  9.925633   \n",
       "1                                 10.039245   \n",
       "2                                 10.070913   \n",
       "3                                  9.970366   \n",
       "4                                  9.925709   \n",
       "\n",
       "   secondary_cleaner.state.floatbank5_a_level  \\\n",
       "0                                 -498.310211   \n",
       "1                                 -500.169983   \n",
       "2                                 -500.129135   \n",
       "3                                 -499.201640   \n",
       "4                                 -501.686727   \n",
       "\n",
       "   secondary_cleaner.state.floatbank5_b_air  \\\n",
       "0                                  8.079666   \n",
       "1                                  7.984757   \n",
       "2                                  8.013877   \n",
       "3                                  7.977324   \n",
       "4                                  7.894242   \n",
       "\n",
       "   secondary_cleaner.state.floatbank5_b_level  \\\n",
       "0                                 -500.470978   \n",
       "1                                 -500.582168   \n",
       "2                                 -500.517572   \n",
       "3                                 -500.255908   \n",
       "4                                 -500.356035   \n",
       "\n",
       "   secondary_cleaner.state.floatbank6_a_air  \\\n",
       "0                                 14.151341   \n",
       "1                                 13.998353   \n",
       "2                                 14.028663   \n",
       "3                                 14.005551   \n",
       "4                                 13.996647   \n",
       "\n",
       "   secondary_cleaner.state.floatbank6_a_level  \n",
       "0                                 -605.841980  \n",
       "1                                 -599.787184  \n",
       "2                                 -601.427363  \n",
       "3                                 -599.996129  \n",
       "4                                 -601.496691  \n",
       "\n",
       "[5 rows x 87 columns]"
      ]
     },
     "metadata": {},
     "output_type": "display_data"
    },
    {
     "name": "stdout",
     "output_type": "stream",
     "text": [
      "<class 'pandas.core.frame.DataFrame'>\n",
      "RangeIndex: 19439 entries, 0 to 19438\n",
      "Data columns (total 87 columns):\n",
      " #   Column                                              Non-Null Count  Dtype  \n",
      "---  ------                                              --------------  -----  \n",
      " 0   date                                                19439 non-null  object \n",
      " 1   final.output.concentrate_ag                         19438 non-null  float64\n",
      " 2   final.output.concentrate_pb                         19438 non-null  float64\n",
      " 3   final.output.concentrate_sol                        19228 non-null  float64\n",
      " 4   final.output.concentrate_au                         19439 non-null  float64\n",
      " 5   final.output.recovery                               19439 non-null  float64\n",
      " 6   final.output.tail_ag                                19438 non-null  float64\n",
      " 7   final.output.tail_pb                                19338 non-null  float64\n",
      " 8   final.output.tail_sol                               19433 non-null  float64\n",
      " 9   final.output.tail_au                                19439 non-null  float64\n",
      " 10  primary_cleaner.input.sulfate                       19415 non-null  float64\n",
      " 11  primary_cleaner.input.depressant                    19402 non-null  float64\n",
      " 12  primary_cleaner.input.feed_size                     19439 non-null  float64\n",
      " 13  primary_cleaner.input.xanthate                      19335 non-null  float64\n",
      " 14  primary_cleaner.output.concentrate_ag               19439 non-null  float64\n",
      " 15  primary_cleaner.output.concentrate_pb               19323 non-null  float64\n",
      " 16  primary_cleaner.output.concentrate_sol              19069 non-null  float64\n",
      " 17  primary_cleaner.output.concentrate_au               19439 non-null  float64\n",
      " 18  primary_cleaner.output.tail_ag                      19435 non-null  float64\n",
      " 19  primary_cleaner.output.tail_pb                      19418 non-null  float64\n",
      " 20  primary_cleaner.output.tail_sol                     19377 non-null  float64\n",
      " 21  primary_cleaner.output.tail_au                      19439 non-null  float64\n",
      " 22  primary_cleaner.state.floatbank8_a_air              19435 non-null  float64\n",
      " 23  primary_cleaner.state.floatbank8_a_level            19438 non-null  float64\n",
      " 24  primary_cleaner.state.floatbank8_b_air              19435 non-null  float64\n",
      " 25  primary_cleaner.state.floatbank8_b_level            19438 non-null  float64\n",
      " 26  primary_cleaner.state.floatbank8_c_air              19437 non-null  float64\n",
      " 27  primary_cleaner.state.floatbank8_c_level            19438 non-null  float64\n",
      " 28  primary_cleaner.state.floatbank8_d_air              19436 non-null  float64\n",
      " 29  primary_cleaner.state.floatbank8_d_level            19438 non-null  float64\n",
      " 30  rougher.calculation.sulfate_to_au_concentrate       19437 non-null  float64\n",
      " 31  rougher.calculation.floatbank10_sulfate_to_au_feed  19437 non-null  float64\n",
      " 32  rougher.calculation.floatbank11_sulfate_to_au_feed  19437 non-null  float64\n",
      " 33  rougher.calculation.au_pb_ratio                     19439 non-null  float64\n",
      " 34  rougher.input.feed_ag                               19439 non-null  float64\n",
      " 35  rougher.input.feed_pb                               19339 non-null  float64\n",
      " 36  rougher.input.feed_rate                             19428 non-null  float64\n",
      " 37  rougher.input.feed_size                             19294 non-null  float64\n",
      " 38  rougher.input.feed_sol                              19340 non-null  float64\n",
      " 39  rougher.input.feed_au                               19439 non-null  float64\n",
      " 40  rougher.input.floatbank10_sulfate                   19405 non-null  float64\n",
      " 41  rougher.input.floatbank10_xanthate                  19431 non-null  float64\n",
      " 42  rougher.input.floatbank11_sulfate                   19395 non-null  float64\n",
      " 43  rougher.input.floatbank11_xanthate                  18986 non-null  float64\n",
      " 44  rougher.output.concentrate_ag                       19439 non-null  float64\n",
      " 45  rougher.output.concentrate_pb                       19439 non-null  float64\n",
      " 46  rougher.output.concentrate_sol                      19416 non-null  float64\n",
      " 47  rougher.output.concentrate_au                       19439 non-null  float64\n",
      " 48  rougher.output.recovery                             19439 non-null  float64\n",
      " 49  rougher.output.tail_ag                              19438 non-null  float64\n",
      " 50  rougher.output.tail_pb                              19439 non-null  float64\n",
      " 51  rougher.output.tail_sol                             19439 non-null  float64\n",
      " 52  rougher.output.tail_au                              19439 non-null  float64\n",
      " 53  rougher.state.floatbank10_a_air                     19438 non-null  float64\n",
      " 54  rougher.state.floatbank10_a_level                   19438 non-null  float64\n",
      " 55  rougher.state.floatbank10_b_air                     19438 non-null  float64\n",
      " 56  rougher.state.floatbank10_b_level                   19438 non-null  float64\n",
      " 57  rougher.state.floatbank10_c_air                     19438 non-null  float64\n",
      " 58  rougher.state.floatbank10_c_level                   19438 non-null  float64\n",
      " 59  rougher.state.floatbank10_d_air                     19439 non-null  float64\n",
      " 60  rougher.state.floatbank10_d_level                   19439 non-null  float64\n",
      " 61  rougher.state.floatbank10_e_air                     19003 non-null  float64\n",
      " 62  rougher.state.floatbank10_e_level                   19439 non-null  float64\n",
      " 63  rougher.state.floatbank10_f_air                     19439 non-null  float64\n",
      " 64  rougher.state.floatbank10_f_level                   19439 non-null  float64\n",
      " 65  secondary_cleaner.output.tail_ag                    19437 non-null  float64\n",
      " 66  secondary_cleaner.output.tail_pb                    19427 non-null  float64\n",
      " 67  secondary_cleaner.output.tail_sol                   17691 non-null  float64\n",
      " 68  secondary_cleaner.output.tail_au                    19439 non-null  float64\n",
      " 69  secondary_cleaner.state.floatbank2_a_air            19219 non-null  float64\n",
      " 70  secondary_cleaner.state.floatbank2_a_level          19438 non-null  float64\n",
      " 71  secondary_cleaner.state.floatbank2_b_air            19416 non-null  float64\n",
      " 72  secondary_cleaner.state.floatbank2_b_level          19438 non-null  float64\n",
      " 73  secondary_cleaner.state.floatbank3_a_air            19426 non-null  float64\n",
      " 74  secondary_cleaner.state.floatbank3_a_level          19438 non-null  float64\n",
      " 75  secondary_cleaner.state.floatbank3_b_air            19438 non-null  float64\n",
      " 76  secondary_cleaner.state.floatbank3_b_level          19438 non-null  float64\n",
      " 77  secondary_cleaner.state.floatbank4_a_air            19433 non-null  float64\n",
      " 78  secondary_cleaner.state.floatbank4_a_level          19438 non-null  float64\n",
      " 79  secondary_cleaner.state.floatbank4_b_air            19438 non-null  float64\n",
      " 80  secondary_cleaner.state.floatbank4_b_level          19438 non-null  float64\n",
      " 81  secondary_cleaner.state.floatbank5_a_air            19438 non-null  float64\n",
      " 82  secondary_cleaner.state.floatbank5_a_level          19438 non-null  float64\n",
      " 83  secondary_cleaner.state.floatbank5_b_air            19438 non-null  float64\n",
      " 84  secondary_cleaner.state.floatbank5_b_level          19438 non-null  float64\n",
      " 85  secondary_cleaner.state.floatbank6_a_air            19437 non-null  float64\n",
      " 86  secondary_cleaner.state.floatbank6_a_level          19438 non-null  float64\n",
      "dtypes: float64(86), object(1)\n",
      "memory usage: 12.9+ MB\n"
     ]
    }
   ],
   "source": [
    "info(df)"
   ]
  },
  {
   "cell_type": "markdown",
   "metadata": {
    "id": "KAbLxn0BqIwC"
   },
   "source": [
    "Видим, что признаков у нас много, при этом видим, что у нас данные представляют из себя определенные этапы, процессы и параметры при обработке руды. \n",
    "\n",
    "Для того, чтобы понять суть этих признаков рассмотрим дополнительную информацию от заказчика:"
   ]
  },
  {
   "cell_type": "markdown",
   "metadata": {
    "id": "g-umkJrTqzol"
   },
   "source": [
    "![Схема очистки.png](data:image/png;base64,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)"
   ]
  },
  {
   "cell_type": "markdown",
   "metadata": {
    "id": "H4GNFIgxreJl"
   },
   "source": [
    "На рисунке представлены стадии процесса получения золота из руды.\n",
    "\n",
    "Руда проходит первичную обработку, получается дроблёная смесь. Её отправляют на флотацию (обогащение) и двухэтапную очистку.\n",
    "\n",
    "* **Флотация**:\n",
    "во флотационную установку подаётся смесь золотосодержащей руды. После обогащения получается черновой концентрат и «отвальные хвосты», то есть остатки продукта с низкой концентрацией ценных металлов. \n",
    "\n",
    "* **Очистка**: \n",
    "черновой концентрат проходит две очистки. На выходе получается финальный концентрат и новые отвальные хвосты."
   ]
  },
  {
   "cell_type": "markdown",
   "metadata": {
    "id": "R5CoZWNWsjPm"
   },
   "source": [
    "Из дополнительной информации заказчика известно, что данные заполняются в следующей форме:\n",
    "\n",
    "`[этап].[тип параметра].[название параметра]`\n",
    "\n",
    "Составим таблицу из предполагаемых значений в наших данных.\n",
    "\n",
    "|**`[этап].`**|**`[тип параметра].`**|**`[название параметра]`**|\n",
    "|--------|-----------------|----------------------|\n",
    "|||**Параметры этапов (относится к `state`)**|\n",
    "|`rougher ` - флотация|`input` - параметры сырья|`air amount` - объем воздуха|\n",
    "|`primary_cleaner` - первичная очистка|`output` - параметры продукта|`fluid levels` - объем жидкости|\n",
    "|`secondary_cleaner` - вторичная очистка|`state` - параметры, хар-ие текущее состояние этапа|`feed size` - размер зерна|\n",
    "|`final` - финальные характеристики|`calculation` - расчетные характеристики|`feed rate` - скорость подачи|\n",
    "|||**Технологический процесс(дополнительная расшифровка):**|\n",
    "|||`Rougher feed` - исходное сырье|\n",
    "|||**флотационные реагенты (Xanthate, Sulphate, Depressant):**|\n",
    "|||`Xanthate` - ксантогенат|\n",
    "|||`Sulphate` - сульфат|\n",
    "|||`Depressant` - депрессант|\n",
    "|||`Rougher process` - флотация|\n",
    "|||`Rougher tails` - отвальные хвосты|\n",
    "|||`Float banks` - флотационная установка|\n",
    "|||`Cleaner process` - очистка|\n",
    "|||`Rougher Au` - черновой концентрат золота|\n",
    "|||`Final Au` - финальный концентрат золота|"
   ]
  },
  {
   "cell_type": "markdown",
   "metadata": {
    "id": "hItS7Wkv2LIX"
   },
   "source": [
    "Из дополнительной информации заказчика известна схема индексации данных:"
   ]
  },
  {
   "cell_type": "markdown",
   "metadata": {
    "id": "KN2ZGdMs9EDq"
   },
   "source": [
    "![Документ1.png](data:image/png;base64,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)"
   ]
  },
  {
   "cell_type": "markdown",
   "metadata": {
    "id": "BHYqHD9P7smV"
   },
   "source": [
    "## Вывод\n",
    "\n",
    "В процессе знакомства с данными сделали следующее:\n",
    "\n",
    "\n",
    "*   Познакомились с обучающими, тестовыми и исходными данными;\n",
    "*   Определили основные этапы процесса добычи золота из руды;\n",
    "*   Из дополнительной информации определили, какие данные предоставил заказчик и из чего состоят эти данные;\n",
    "* Как индексируются предоставленные наборы данных.\n",
    "\n",
    "Однако в результате наблюдения за данными обнаружили следующие проблемы:\n",
    "\n",
    "* Имеются пропуски во всех наборах данных. Небходимо выбрать подходящий метод для заполнения пропусков в наблюдениях;\n",
    "* Количество признаков в тестовой и обучающей выборках отличаются. Количество признаков в тестовой выборке - 52, количество признаков в обучающей - 86. Необходимо разобраться, каки данные отсутствуют в тестовой выборке, сравнив с обучающей, а также понять, что делать в такой ситуации;\n",
    "* Во всех данных имеется некорректный тип данных столбца `date`. Необходимо привести его к соответствующему типу.\n",
    "\n",
    "\n"
   ]
  },
  {
   "cell_type": "markdown",
   "metadata": {
    "id": "wL2nPSinC6lz"
   },
   "source": [
    "После того, как познакомились с данными, проверим корректность предоставленных данных."
   ]
  },
  {
   "cell_type": "markdown",
   "metadata": {},
   "source": [
    "<div class=\"alert alert-block alert-success\">\n",
    "<b>Комментарий ревьюера👍:</b> Всё очень последовательно и наглядно\n",
    "</div>\n",
    "    "
   ]
  },
  {
   "cell_type": "markdown",
   "metadata": {
    "id": "M3TnEhNTDbGb"
   },
   "source": [
    "## Проверка корректности расчета эффективности обогащения <a id=\"2\"></a>"
   ]
  },
  {
   "cell_type": "markdown",
   "metadata": {
    "id": "JDdCR0GKFVkC"
   },
   "source": [
    "Эффективность обогащения расчитывается по формуле:"
   ]
  },
  {
   "cell_type": "markdown",
   "metadata": {
    "id": "pQX0M73BD6lO"
   },
   "source": [
    "$$Recovery = \\frac{C \\cdot (F - T)}{F \\cdot (C - T)} \\cdot 100\\% $$"
   ]
  },
  {
   "cell_type": "markdown",
   "metadata": {
    "id": "2vs5Xu3-FjmJ"
   },
   "source": [
    "Где:\n",
    "\n",
    "$C$ - доля золота в концентрате после флотации/очистки;\n",
    "\n",
    "$F$ - доля золота в сырье/концентрате до флотации/очистки;\n",
    "\n",
    "$T$ - доля золота в отвальных хвостах после флотации/очистки\n"
   ]
  },
  {
   "cell_type": "markdown",
   "metadata": {
    "id": "EQDtWKjuHZvD"
   },
   "source": [
    "Теперь определим, какие признаки будем использовать для расчета. Важно учесть следующее: у нас есть два целевых признака, которые необходимо спрогнозировать:\n",
    "\n",
    "* Эффективность обогащения чернового концентрата;\n",
    "* Эффективность обогащения финального концентрата.\n",
    "\n",
    "Поэтому чтобы убедиться в том, что модель будет корректно прогнозировать эффективности обогащения, нужно убедиться в том, что полученные данные от заказчика представлены верно. Для этого нужно посчитать по полученным от заказчика признакам посчитать значение $Recovery$. А затем посчитать, насколько полученное значение отличается от того, что заказчик передал.\n",
    "\n",
    "При это важно определить, что нужно использовать для расчета. \n",
    "\n",
    "Рассмотрим данные подробнее.\n",
    "\n",
    "Доля золота в концентрате после флотации/очистки - это то, что мы получаем в результате флотации (`Rougher output` / `Final output`) т.е. черновой концентрат. Для этого подойдет параметр `rougher.output.concentrate_au` (черновой концентрат). А для финального концентрата возьмем параметр `final.output.concentrate_au`\n",
    "\n",
    "Доля золота в сырье/концентрате до флотации/очистки - то, что мы подаем на вход флотации (`Rougher input`). Для этого возьмем признак `rougher.input.feed_au`.\n",
    "\n",
    "Доля золота в отвальных хвостах после флотации/очистки - то, что мы отфильтровали в результате флотации (`Rougher output tail` / `Final output tail`). Для этого подойдет параметр `rougher.output.tail_au` (черновой концентрат). А для финального концентрата - `final.output.tail_au`\n",
    "\n",
    "Таким образом, определили следующие признаки, которые будем использовать при расчете коэффициента эффективности:\n",
    "\n",
    "|**Черновой концентрат**|**Финальный концентрат**|\n",
    "|-----------------------|------------------------|\n",
    "|$C_{rougher}$ - `rougher.output.concentrate_au`|$C_{final}$ - `final.output.concentrate_au`|\n",
    "|$F_{rougher}$ - `rougher.input.feed_au`|$F_{final}$ - `rougher.input.feed_au`|\n",
    "|$T_{rougher}$ - `rougher.output.tail_au`|$T_{final}$ - `final.output.tail_au`|\n",
    "\n",
    "Теперь приступим к расчету коэффициента эффективности. Сначала посмотрим на результаты, полученные для чернового концентрата, а затем - для итоговой (после того, как сырье прошло все этапы очистки)"
   ]
  },
  {
   "cell_type": "code",
   "execution_count": 11,
   "metadata": {
    "id": "Mn2nbfjqp-dp"
   },
   "outputs": [],
   "source": [
    "def mae(df: pd.DataFrame,\n",
    "        res : str):\n",
    "    if res == 'rougher':\n",
    "        df_recovery = df[['rougher.output.concentrate_au', \n",
    "                     'rougher.input.feed_au', \n",
    "                     'rougher.output.tail_au', \n",
    "                     'rougher.output.recovery']].copy()\n",
    "        check_value = df_recovery['rougher.output.recovery']\n",
    "        C = df_recovery['rougher.output.concentrate_au']\n",
    "        F = df_recovery['rougher.input.feed_au']\n",
    "        T = df_recovery['rougher.output.tail_au']\n",
    "    elif res == 'final':\n",
    "        df_recovery = df[['final.output.concentrate_au', \n",
    "                     'rougher.input.feed_au', \n",
    "                     'final.output.tail_au',\n",
    "                     'final.output.recovery']].copy()\n",
    "        check_value = df_recovery['final.output.recovery'] \n",
    "        C = df_recovery['final.output.concentrate_au']\n",
    "        F = df_recovery['rougher.input.feed_au']\n",
    "        T = df_recovery['final.output.tail_au']\n",
    "    print_res(C,F,T, check_value, res)\n",
    "               "
   ]
  },
  {
   "cell_type": "code",
   "execution_count": 12,
   "metadata": {
    "id": "URy59NI0TN-U"
   },
   "outputs": [],
   "source": [
    "def print_res(C: pd.Series, \n",
    "              F: pd.Series, \n",
    "              T: pd.Series,\n",
    "              s_check: pd.Series, \n",
    "              res: str):\n",
    "    result = pd.Series((C*(F - T)) / (F*(C - T)) * 100)\n",
    "    mae = mean_absolute_error(result, s_check)\n",
    "    if res == 'rougher':\n",
    "        res = 'черновой концентрации'\n",
    "    elif res == 'final':\n",
    "        res = 'финальной концентрации'\n",
    "    print(f'MAE {res}: {mae}')"
   ]
  },
  {
   "cell_type": "markdown",
   "metadata": {
    "id": "-3u7rq07Zs7y"
   },
   "source": [
    "Для чернового концентрата:"
   ]
  },
  {
   "cell_type": "code",
   "execution_count": 13,
   "metadata": {
    "colab": {
     "base_uri": "https://localhost:8080/"
    },
    "id": "0itghBOiND4Z",
    "outputId": "687fdacf-0d18-4981-adda-7f05bf739940"
   },
   "outputs": [
    {
     "name": "stdout",
     "output_type": "stream",
     "text": [
      "MAE черновой концентрации: 9.73512347450521e-15\n"
     ]
    }
   ],
   "source": [
    "mae(train, 'rougher')"
   ]
  },
  {
   "cell_type": "markdown",
   "metadata": {
    "id": "_LOdmtdTZwyL"
   },
   "source": [
    "Для финального концентрата:"
   ]
  },
  {
   "cell_type": "code",
   "execution_count": 14,
   "metadata": {
    "colab": {
     "base_uri": "https://localhost:8080/"
    },
    "id": "q0-0n85HV0Kg",
    "outputId": "4d57c6ea-0878-4de1-c01b-2fdefaf9b486"
   },
   "outputs": [
    {
     "name": "stdout",
     "output_type": "stream",
     "text": [
      "MAE финальной концентрации: 8.538049763979541e-15\n"
     ]
    }
   ],
   "source": [
    "mae(train, 'final')"
   ]
  },
  {
   "cell_type": "markdown",
   "metadata": {},
   "source": [
    "<div class=\"alert alert-block alert-success\">\n",
    "<b>Комментарий ревьюера👍:</b> Верно, полученное значение оказалось в достаточной степени маленьким, чтобы можно было утверждать о правильности расчёта\n",
    "</div>\n"
   ]
  },
  {
   "cell_type": "markdown",
   "metadata": {
    "id": "h5ujuR2RZ0qM"
   },
   "source": [
    "Как видим, среднее абсолютное отклонение для чернового и финального концентраций практически равны нулю. Это означает, что предоставленные расчет от заказчика значения $Recovery$ верны.\n",
    "\n",
    "Теперь посмотрим на дисбаланс признаков для каждой выборки. "
   ]
  },
  {
   "cell_type": "markdown",
   "metadata": {
    "id": "_c1acl_rcCHL"
   },
   "source": [
    "## Определение признаков, недоступных в тестовой выборке. <a id=\"3\"></a>"
   ]
  },
  {
   "cell_type": "markdown",
   "metadata": {
    "id": "FQ0e5XtJcOf_"
   },
   "source": [
    "Из знакомства с данными заметили, что количество признаков в тестовой выборке меньше, чем вы обучающей.\n",
    "\n",
    "Напомним:\n",
    "\n",
    "* Тестовая выборка - 52 признака;\n",
    "* Обучающая выборка - 86 признаков.\n",
    "\n",
    "Определим, какие признаки оказались недоступными для тестовой выборки."
   ]
  },
  {
   "cell_type": "code",
   "execution_count": 15,
   "metadata": {
    "id": "cK23OYhCV8xr"
   },
   "outputs": [],
   "source": [
    "# можно посчитать так:\n",
    "#train.columns[~train.columns.isin(test.columns)]\n",
    "# а можно через множества (результат преобразовываем в список)\n",
    "missed_columns = list(set(train) - set(test))"
   ]
  },
  {
   "cell_type": "code",
   "execution_count": 16,
   "metadata": {
    "id": "taJ7qsxec-Jb"
   },
   "outputs": [],
   "source": [
    "# для удобства отсортируем полученные результаты\n",
    "# сортировка по возрастанию по первой букве элемента списка\n",
    "missed_columns = sorted(missed_columns, key = lambda x: x[0])"
   ]
  },
  {
   "cell_type": "code",
   "execution_count": 17,
   "metadata": {
    "colab": {
     "base_uri": "https://localhost:8080/"
    },
    "id": "5gWhhshAeK7h",
    "outputId": "f3131573-7652-4717-eb4b-e0f994bffcb6"
   },
   "outputs": [
    {
     "data": {
      "text/plain": [
       "['final.output.concentrate_au',\n",
       " 'final.output.tail_ag',\n",
       " 'final.output.tail_pb',\n",
       " 'final.output.tail_sol',\n",
       " 'final.output.concentrate_pb']"
      ]
     },
     "execution_count": 17,
     "metadata": {},
     "output_type": "execute_result"
    }
   ],
   "source": [
    "# вывел всего 5 элемента из сформированного списка\n",
    "# для красоты\n",
    "missed_columns[:5]"
   ]
  },
  {
   "cell_type": "markdown",
   "metadata": {
    "id": "izp37yB7wI-H"
   },
   "source": [
    "Посмотрим, к каким типам относятся признаки, недоступные в тестовой выборке:"
   ]
  },
  {
   "cell_type": "code",
   "execution_count": 18,
   "metadata": {
    "colab": {
     "base_uri": "https://localhost:8080/"
    },
    "id": "CmxdohuGeiC-",
    "outputId": "2ebba322-c5ac-4d99-b76c-76e4bccab30c"
   },
   "outputs": [
    {
     "name": "stdout",
     "output_type": "stream",
     "text": [
      "<class 'pandas.core.frame.DataFrame'>\n",
      "RangeIndex: 14149 entries, 0 to 14148\n",
      "Data columns (total 34 columns):\n",
      " #   Column                                              Non-Null Count  Dtype  \n",
      "---  ------                                              --------------  -----  \n",
      " 0   final.output.concentrate_au                         14149 non-null  float64\n",
      " 1   final.output.tail_ag                                14149 non-null  float64\n",
      " 2   final.output.tail_pb                                14049 non-null  float64\n",
      " 3   final.output.tail_sol                               14144 non-null  float64\n",
      " 4   final.output.concentrate_pb                         14148 non-null  float64\n",
      " 5   final.output.concentrate_sol                        13938 non-null  float64\n",
      " 6   final.output.tail_au                                14149 non-null  float64\n",
      " 7   final.output.recovery                               14149 non-null  float64\n",
      " 8   final.output.concentrate_ag                         14148 non-null  float64\n",
      " 9   primary_cleaner.output.tail_sol                     14103 non-null  float64\n",
      " 10  primary_cleaner.output.tail_au                      14149 non-null  float64\n",
      " 11  primary_cleaner.output.tail_pb                      14134 non-null  float64\n",
      " 12  primary_cleaner.output.concentrate_ag               14149 non-null  float64\n",
      " 13  primary_cleaner.output.concentrate_pb               14063 non-null  float64\n",
      " 14  primary_cleaner.output.concentrate_sol              13863 non-null  float64\n",
      " 15  primary_cleaner.output.concentrate_au               14149 non-null  float64\n",
      " 16  primary_cleaner.output.tail_ag                      14148 non-null  float64\n",
      " 17  rougher.output.tail_ag                              14148 non-null  float64\n",
      " 18  rougher.output.tail_pb                              14149 non-null  float64\n",
      " 19  rougher.calculation.floatbank11_sulfate_to_au_feed  14148 non-null  float64\n",
      " 20  rougher.calculation.floatbank10_sulfate_to_au_feed  14148 non-null  float64\n",
      " 21  rougher.output.tail_sol                             14149 non-null  float64\n",
      " 22  rougher.output.concentrate_au                       14149 non-null  float64\n",
      " 23  rougher.calculation.au_pb_ratio                     14149 non-null  float64\n",
      " 24  rougher.output.tail_au                              14149 non-null  float64\n",
      " 25  rougher.output.concentrate_pb                       14149 non-null  float64\n",
      " 26  rougher.calculation.sulfate_to_au_concentrate       14148 non-null  float64\n",
      " 27  rougher.output.concentrate_sol                      14127 non-null  float64\n",
      " 28  rougher.output.concentrate_ag                       14149 non-null  float64\n",
      " 29  rougher.output.recovery                             14149 non-null  float64\n",
      " 30  secondary_cleaner.output.tail_au                    14149 non-null  float64\n",
      " 31  secondary_cleaner.output.tail_ag                    14147 non-null  float64\n",
      " 32  secondary_cleaner.output.tail_sol                   12544 non-null  float64\n",
      " 33  secondary_cleaner.output.tail_pb                    14139 non-null  float64\n",
      "dtypes: float64(34)\n",
      "memory usage: 3.7 MB\n"
     ]
    }
   ],
   "source": [
    "train[missed_columns].info()"
   ]
  },
  {
   "cell_type": "markdown",
   "metadata": {
    "id": "sbsFPWbLwI-J"
   },
   "source": [
    "Видим, что признаки, недоступные в тестовой выборке это:\n",
    "\n",
    "* расчетные характеристики `calculation`;\n",
    "* параметры продукта на всех этапах процесса `output`.\n",
    "\n",
    "Все признаки, недоступные в тестовой выборке имеют тип `float` - с плавающей точкой. Эти признаки недоступны в данном наборке данных, так как эти параметры замеряются или расчитываются позже. Также в тестовой выборке отсутствуют целевые признаки:\n",
    "\n",
    "* эффективность обогащения чернового концентрата `rougher.output.recovery`;\n",
    "* эффективность обогащения итогового концентрата `final.output.recovery`.\n"
   ]
  },
  {
   "cell_type": "markdown",
   "metadata": {
    "id": "nRtOpBznwI-J"
   },
   "source": [
    "## Вывод\n",
    "\n",
    "В процессе проверки наборов данных определили следующее:\n",
    "\n",
    "* Расчеты эффективности для чернового и финального концентратов расчитаны корректно: среднее абсолютное отклонение очень мало, чтобы говорить, что разница между расчетными и полученными данными значительны.\n",
    "* В тестовом наборе данных отсутствуют расчетные характеристики и параметры продукта на всех этапах процесса. Все признаки имеют тип `float`.\n",
    "* В тестовом наборе данных нет целевых признаков, по которым будем обучать наши модели.\n",
    "* Во всех наборах данных имеются пропуски.\n",
    "* Тип данных столбца `date` представлен некорректно, необходимо привести к соответствующему типу.\n",
    "\n",
    "В итоге, представленные данные не готовы для дальнейшего исследования и обучения моделей. Необходимо провести предобработку данных."
   ]
  },
  {
   "cell_type": "markdown",
   "metadata": {},
   "source": [
    "<div class=\"alert alert-block alert-success\">\n",
    "<b>Комментарий ревьюера👍:</b> Абсолютно верно =)\n",
    "</div>\n",
    "    "
   ]
  },
  {
   "cell_type": "markdown",
   "metadata": {
    "id": "nNgIGWFHwI-K"
   },
   "source": [
    "## Предобработка данных <a id=\"4\"></a>"
   ]
  },
  {
   "cell_type": "markdown",
   "metadata": {
    "id": "9A32vzaGwI-K"
   },
   "source": [
    "### Формирование необходимых признаков для работы с моделями <a id=\"4_1\"></a>"
   ]
  },
  {
   "cell_type": "markdown",
   "metadata": {
    "id": "zVxdF4XJwI-K"
   },
   "source": [
    "Прежде всего, в тестовой выборке отсутствуют целевые признаки, по которым предстоит сделать финальное тестирование выбранной модели. При этом в обучающей выборке имеются лишние для обучения признаки, которые отсутсвуют в тестовом наборе данных.\n",
    "\n",
    "Напомним следующую информацию:\n",
    "\n",
    "* Целевые признаки:\n",
    "    * эффективность обогащения чернового концентрата `rougher.output.recovery`;\n",
    "    * эффективность обогащения финального концентрата `final.output.recovery`.\n",
    "* Объем данных:\n",
    "    * количество признаков в исходной тестовой выборке: 53;\n",
    "    * количество признаков в исходной обучающей выборке: 87.\n",
    "    \n",
    "Схема индексации данных:\n",
    "\n",
    "![Документ1.png](data:image/png;base64,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)\n",
    "\n",
    "Для этого возьмем из исходных данных значения целевых признаков и добавим их в тестовую выборку. А в обучающей выборке удалим все признаки, которых нет в тестовой выборке."
   ]
  },
  {
   "cell_type": "code",
   "execution_count": 19,
   "metadata": {
    "id": "kLi0o71kwI-K"
   },
   "outputs": [],
   "source": [
    "# Добавление целевых признаков \n",
    "# В тестовую выборку\n",
    "# Ключ - столбец date\n",
    "# соединение left - берем только те значения date, которые есть в тестовой выборке\n",
    "test = test.merge(df[['rougher.output.recovery', 'final.output.recovery','date']], on = 'date', how = 'left')"
   ]
  },
  {
   "cell_type": "code",
   "execution_count": 20,
   "metadata": {
    "colab": {
     "base_uri": "https://localhost:8080/",
     "height": 206
    },
    "id": "grOxwOZXwI-L",
    "outputId": "3bf3f010-e9cc-4204-a77f-9a99b4a4aaee",
    "scrolled": false
   },
   "outputs": [
    {
     "data": {
      "text/html": [
       "\n",
       "  <div id=\"df-b0137a8d-40ac-4441-95f0-d5c0a52417ca\">\n",
       "    <div class=\"colab-df-container\">\n",
       "      <div>\n",
       "<style scoped>\n",
       "    .dataframe tbody tr th:only-of-type {\n",
       "        vertical-align: middle;\n",
       "    }\n",
       "\n",
       "    .dataframe tbody tr th {\n",
       "        vertical-align: top;\n",
       "    }\n",
       "\n",
       "    .dataframe thead th {\n",
       "        text-align: right;\n",
       "    }\n",
       "</style>\n",
       "<table border=\"1\" class=\"dataframe\">\n",
       "  <thead>\n",
       "    <tr style=\"text-align: right;\">\n",
       "      <th></th>\n",
       "      <th>rougher.output.recovery</th>\n",
       "      <th>final.output.recovery</th>\n",
       "      <th>date</th>\n",
       "    </tr>\n",
       "  </thead>\n",
       "  <tbody>\n",
       "    <tr>\n",
       "      <th>0</th>\n",
       "      <td>89.993421</td>\n",
       "      <td>70.273583</td>\n",
       "      <td>2016-09-01 00:59:59</td>\n",
       "    </tr>\n",
       "    <tr>\n",
       "      <th>1</th>\n",
       "      <td>88.089657</td>\n",
       "      <td>68.910432</td>\n",
       "      <td>2016-09-01 01:59:59</td>\n",
       "    </tr>\n",
       "    <tr>\n",
       "      <th>2</th>\n",
       "      <td>88.412756</td>\n",
       "      <td>68.143213</td>\n",
       "      <td>2016-09-01 02:59:59</td>\n",
       "    </tr>\n",
       "    <tr>\n",
       "      <th>3</th>\n",
       "      <td>87.360133</td>\n",
       "      <td>67.776393</td>\n",
       "      <td>2016-09-01 03:59:59</td>\n",
       "    </tr>\n",
       "    <tr>\n",
       "      <th>4</th>\n",
       "      <td>83.236367</td>\n",
       "      <td>61.467078</td>\n",
       "      <td>2016-09-01 04:59:59</td>\n",
       "    </tr>\n",
       "  </tbody>\n",
       "</table>\n",
       "</div>\n",
       "      <button class=\"colab-df-convert\" onclick=\"convertToInteractive('df-b0137a8d-40ac-4441-95f0-d5c0a52417ca')\"\n",
       "              title=\"Convert this dataframe to an interactive table.\"\n",
       "              style=\"display:none;\">\n",
       "        \n",
       "  <svg xmlns=\"http://www.w3.org/2000/svg\" height=\"24px\"viewBox=\"0 0 24 24\"\n",
       "       width=\"24px\">\n",
       "    <path d=\"M0 0h24v24H0V0z\" fill=\"none\"/>\n",
       "    <path d=\"M18.56 5.44l.94 2.06.94-2.06 2.06-.94-2.06-.94-.94-2.06-.94 2.06-2.06.94zm-11 1L8.5 8.5l.94-2.06 2.06-.94-2.06-.94L8.5 2.5l-.94 2.06-2.06.94zm10 10l.94 2.06.94-2.06 2.06-.94-2.06-.94-.94-2.06-.94 2.06-2.06.94z\"/><path d=\"M17.41 7.96l-1.37-1.37c-.4-.4-.92-.59-1.43-.59-.52 0-1.04.2-1.43.59L10.3 9.45l-7.72 7.72c-.78.78-.78 2.05 0 2.83L4 21.41c.39.39.9.59 1.41.59.51 0 1.02-.2 1.41-.59l7.78-7.78 2.81-2.81c.8-.78.8-2.07 0-2.86zM5.41 20L4 18.59l7.72-7.72 1.47 1.35L5.41 20z\"/>\n",
       "  </svg>\n",
       "      </button>\n",
       "      \n",
       "  <style>\n",
       "    .colab-df-container {\n",
       "      display:flex;\n",
       "      flex-wrap:wrap;\n",
       "      gap: 12px;\n",
       "    }\n",
       "\n",
       "    .colab-df-convert {\n",
       "      background-color: #E8F0FE;\n",
       "      border: none;\n",
       "      border-radius: 50%;\n",
       "      cursor: pointer;\n",
       "      display: none;\n",
       "      fill: #1967D2;\n",
       "      height: 32px;\n",
       "      padding: 0 0 0 0;\n",
       "      width: 32px;\n",
       "    }\n",
       "\n",
       "    .colab-df-convert:hover {\n",
       "      background-color: #E2EBFA;\n",
       "      box-shadow: 0px 1px 2px rgba(60, 64, 67, 0.3), 0px 1px 3px 1px rgba(60, 64, 67, 0.15);\n",
       "      fill: #174EA6;\n",
       "    }\n",
       "\n",
       "    [theme=dark] .colab-df-convert {\n",
       "      background-color: #3B4455;\n",
       "      fill: #D2E3FC;\n",
       "    }\n",
       "\n",
       "    [theme=dark] .colab-df-convert:hover {\n",
       "      background-color: #434B5C;\n",
       "      box-shadow: 0px 1px 3px 1px rgba(0, 0, 0, 0.15);\n",
       "      filter: drop-shadow(0px 1px 2px rgba(0, 0, 0, 0.3));\n",
       "      fill: #FFFFFF;\n",
       "    }\n",
       "  </style>\n",
       "\n",
       "      <script>\n",
       "        const buttonEl =\n",
       "          document.querySelector('#df-b0137a8d-40ac-4441-95f0-d5c0a52417ca button.colab-df-convert');\n",
       "        buttonEl.style.display =\n",
       "          google.colab.kernel.accessAllowed ? 'block' : 'none';\n",
       "\n",
       "        async function convertToInteractive(key) {\n",
       "          const element = document.querySelector('#df-b0137a8d-40ac-4441-95f0-d5c0a52417ca');\n",
       "          const dataTable =\n",
       "            await google.colab.kernel.invokeFunction('convertToInteractive',\n",
       "                                                     [key], {});\n",
       "          if (!dataTable) return;\n",
       "\n",
       "          const docLinkHtml = 'Like what you see? Visit the ' +\n",
       "            '<a target=\"_blank\" href=https://colab.research.google.com/notebooks/data_table.ipynb>data table notebook</a>'\n",
       "            + ' to learn more about interactive tables.';\n",
       "          element.innerHTML = '';\n",
       "          dataTable['output_type'] = 'display_data';\n",
       "          await google.colab.output.renderOutput(dataTable, element);\n",
       "          const docLink = document.createElement('div');\n",
       "          docLink.innerHTML = docLinkHtml;\n",
       "          element.appendChild(docLink);\n",
       "        }\n",
       "      </script>\n",
       "    </div>\n",
       "  </div>\n",
       "  "
      ],
      "text/plain": [
       "   rougher.output.recovery  final.output.recovery                 date\n",
       "0                89.993421              70.273583  2016-09-01 00:59:59\n",
       "1                88.089657              68.910432  2016-09-01 01:59:59\n",
       "2                88.412756              68.143213  2016-09-01 02:59:59\n",
       "3                87.360133              67.776393  2016-09-01 03:59:59\n",
       "4                83.236367              61.467078  2016-09-01 04:59:59"
      ]
     },
     "execution_count": 20,
     "metadata": {},
     "output_type": "execute_result"
    }
   ],
   "source": [
    "test[['rougher.output.recovery', 'final.output.recovery', 'date']].head()"
   ]
  },
  {
   "cell_type": "markdown",
   "metadata": {
    "id": "fwmMu2b3wI-L"
   },
   "source": [
    "Целевые признаки добавлены в тестовую выборку. Теперь избавимся от лишних признаков в обучающей выборке:"
   ]
  },
  {
   "cell_type": "code",
   "execution_count": 21,
   "metadata": {
    "id": "mWMwxowgwI-L"
   },
   "outputs": [],
   "source": [
    "train = train[test.columns]"
   ]
  },
  {
   "cell_type": "code",
   "execution_count": 22,
   "metadata": {
    "colab": {
     "base_uri": "https://localhost:8080/",
     "height": 473
    },
    "id": "NTVgmU4qwI-L",
    "outputId": "9be7d6de-7cf9-45fd-d9d4-8b3610040bed"
   },
   "outputs": [
    {
     "data": {
      "text/html": [
       "\n",
       "  <div id=\"df-9baf7f37-8ca7-41d7-ba78-6e1ba5c5ba02\">\n",
       "    <div class=\"colab-df-container\">\n",
       "      <div>\n",
       "<style scoped>\n",
       "    .dataframe tbody tr th:only-of-type {\n",
       "        vertical-align: middle;\n",
       "    }\n",
       "\n",
       "    .dataframe tbody tr th {\n",
       "        vertical-align: top;\n",
       "    }\n",
       "\n",
       "    .dataframe thead th {\n",
       "        text-align: right;\n",
       "    }\n",
       "</style>\n",
       "<table border=\"1\" class=\"dataframe\">\n",
       "  <thead>\n",
       "    <tr style=\"text-align: right;\">\n",
       "      <th></th>\n",
       "      <th>date</th>\n",
       "      <th>primary_cleaner.input.sulfate</th>\n",
       "      <th>primary_cleaner.input.depressant</th>\n",
       "      <th>primary_cleaner.input.feed_size</th>\n",
       "      <th>primary_cleaner.input.xanthate</th>\n",
       "      <th>primary_cleaner.state.floatbank8_a_air</th>\n",
       "      <th>primary_cleaner.state.floatbank8_a_level</th>\n",
       "      <th>primary_cleaner.state.floatbank8_b_air</th>\n",
       "      <th>primary_cleaner.state.floatbank8_b_level</th>\n",
       "      <th>primary_cleaner.state.floatbank8_c_air</th>\n",
       "      <th>...</th>\n",
       "      <th>secondary_cleaner.state.floatbank4_b_air</th>\n",
       "      <th>secondary_cleaner.state.floatbank4_b_level</th>\n",
       "      <th>secondary_cleaner.state.floatbank5_a_air</th>\n",
       "      <th>secondary_cleaner.state.floatbank5_a_level</th>\n",
       "      <th>secondary_cleaner.state.floatbank5_b_air</th>\n",
       "      <th>secondary_cleaner.state.floatbank5_b_level</th>\n",
       "      <th>secondary_cleaner.state.floatbank6_a_air</th>\n",
       "      <th>secondary_cleaner.state.floatbank6_a_level</th>\n",
       "      <th>rougher.output.recovery</th>\n",
       "      <th>final.output.recovery</th>\n",
       "    </tr>\n",
       "  </thead>\n",
       "  <tbody>\n",
       "    <tr>\n",
       "      <th>0</th>\n",
       "      <td>2016-01-15 00:00:00</td>\n",
       "      <td>127.092003</td>\n",
       "      <td>10.128295</td>\n",
       "      <td>7.25</td>\n",
       "      <td>0.988759</td>\n",
       "      <td>1549.775757</td>\n",
       "      <td>-498.912140</td>\n",
       "      <td>1551.434204</td>\n",
       "      <td>-516.403442</td>\n",
       "      <td>1549.873901</td>\n",
       "      <td>...</td>\n",
       "      <td>12.099931</td>\n",
       "      <td>-504.715942</td>\n",
       "      <td>9.925633</td>\n",
       "      <td>-498.310211</td>\n",
       "      <td>8.079666</td>\n",
       "      <td>-500.470978</td>\n",
       "      <td>14.151341</td>\n",
       "      <td>-605.841980</td>\n",
       "      <td>87.107763</td>\n",
       "      <td>70.541216</td>\n",
       "    </tr>\n",
       "    <tr>\n",
       "      <th>1</th>\n",
       "      <td>2016-01-15 01:00:00</td>\n",
       "      <td>125.629232</td>\n",
       "      <td>10.296251</td>\n",
       "      <td>7.25</td>\n",
       "      <td>1.002663</td>\n",
       "      <td>1576.166671</td>\n",
       "      <td>-500.904965</td>\n",
       "      <td>1575.950626</td>\n",
       "      <td>-499.865889</td>\n",
       "      <td>1575.994189</td>\n",
       "      <td>...</td>\n",
       "      <td>11.950531</td>\n",
       "      <td>-501.331529</td>\n",
       "      <td>10.039245</td>\n",
       "      <td>-500.169983</td>\n",
       "      <td>7.984757</td>\n",
       "      <td>-500.582168</td>\n",
       "      <td>13.998353</td>\n",
       "      <td>-599.787184</td>\n",
       "      <td>86.843261</td>\n",
       "      <td>69.266198</td>\n",
       "    </tr>\n",
       "    <tr>\n",
       "      <th>2</th>\n",
       "      <td>2016-01-15 02:00:00</td>\n",
       "      <td>123.819808</td>\n",
       "      <td>11.316280</td>\n",
       "      <td>7.25</td>\n",
       "      <td>0.991265</td>\n",
       "      <td>1601.556163</td>\n",
       "      <td>-499.997791</td>\n",
       "      <td>1600.386685</td>\n",
       "      <td>-500.607762</td>\n",
       "      <td>1602.003542</td>\n",
       "      <td>...</td>\n",
       "      <td>11.912783</td>\n",
       "      <td>-501.133383</td>\n",
       "      <td>10.070913</td>\n",
       "      <td>-500.129135</td>\n",
       "      <td>8.013877</td>\n",
       "      <td>-500.517572</td>\n",
       "      <td>14.028663</td>\n",
       "      <td>-601.427363</td>\n",
       "      <td>86.842308</td>\n",
       "      <td>68.116445</td>\n",
       "    </tr>\n",
       "    <tr>\n",
       "      <th>3</th>\n",
       "      <td>2016-01-15 03:00:00</td>\n",
       "      <td>122.270188</td>\n",
       "      <td>11.322140</td>\n",
       "      <td>7.25</td>\n",
       "      <td>0.996739</td>\n",
       "      <td>1599.968720</td>\n",
       "      <td>-500.951778</td>\n",
       "      <td>1600.659236</td>\n",
       "      <td>-499.677094</td>\n",
       "      <td>1600.304144</td>\n",
       "      <td>...</td>\n",
       "      <td>11.999550</td>\n",
       "      <td>-501.193686</td>\n",
       "      <td>9.970366</td>\n",
       "      <td>-499.201640</td>\n",
       "      <td>7.977324</td>\n",
       "      <td>-500.255908</td>\n",
       "      <td>14.005551</td>\n",
       "      <td>-599.996129</td>\n",
       "      <td>87.226430</td>\n",
       "      <td>68.347543</td>\n",
       "    </tr>\n",
       "    <tr>\n",
       "      <th>4</th>\n",
       "      <td>2016-01-15 04:00:00</td>\n",
       "      <td>117.988169</td>\n",
       "      <td>11.913613</td>\n",
       "      <td>7.25</td>\n",
       "      <td>1.009869</td>\n",
       "      <td>1601.339707</td>\n",
       "      <td>-498.975456</td>\n",
       "      <td>1601.437854</td>\n",
       "      <td>-500.323246</td>\n",
       "      <td>1599.581894</td>\n",
       "      <td>...</td>\n",
       "      <td>11.953070</td>\n",
       "      <td>-501.053894</td>\n",
       "      <td>9.925709</td>\n",
       "      <td>-501.686727</td>\n",
       "      <td>7.894242</td>\n",
       "      <td>-500.356035</td>\n",
       "      <td>13.996647</td>\n",
       "      <td>-601.496691</td>\n",
       "      <td>86.688794</td>\n",
       "      <td>66.927016</td>\n",
       "    </tr>\n",
       "  </tbody>\n",
       "</table>\n",
       "<p>5 rows × 55 columns</p>\n",
       "</div>\n",
       "      <button class=\"colab-df-convert\" onclick=\"convertToInteractive('df-9baf7f37-8ca7-41d7-ba78-6e1ba5c5ba02')\"\n",
       "              title=\"Convert this dataframe to an interactive table.\"\n",
       "              style=\"display:none;\">\n",
       "        \n",
       "  <svg xmlns=\"http://www.w3.org/2000/svg\" height=\"24px\"viewBox=\"0 0 24 24\"\n",
       "       width=\"24px\">\n",
       "    <path d=\"M0 0h24v24H0V0z\" fill=\"none\"/>\n",
       "    <path d=\"M18.56 5.44l.94 2.06.94-2.06 2.06-.94-2.06-.94-.94-2.06-.94 2.06-2.06.94zm-11 1L8.5 8.5l.94-2.06 2.06-.94-2.06-.94L8.5 2.5l-.94 2.06-2.06.94zm10 10l.94 2.06.94-2.06 2.06-.94-2.06-.94-.94-2.06-.94 2.06-2.06.94z\"/><path d=\"M17.41 7.96l-1.37-1.37c-.4-.4-.92-.59-1.43-.59-.52 0-1.04.2-1.43.59L10.3 9.45l-7.72 7.72c-.78.78-.78 2.05 0 2.83L4 21.41c.39.39.9.59 1.41.59.51 0 1.02-.2 1.41-.59l7.78-7.78 2.81-2.81c.8-.78.8-2.07 0-2.86zM5.41 20L4 18.59l7.72-7.72 1.47 1.35L5.41 20z\"/>\n",
       "  </svg>\n",
       "      </button>\n",
       "      \n",
       "  <style>\n",
       "    .colab-df-container {\n",
       "      display:flex;\n",
       "      flex-wrap:wrap;\n",
       "      gap: 12px;\n",
       "    }\n",
       "\n",
       "    .colab-df-convert {\n",
       "      background-color: #E8F0FE;\n",
       "      border: none;\n",
       "      border-radius: 50%;\n",
       "      cursor: pointer;\n",
       "      display: none;\n",
       "      fill: #1967D2;\n",
       "      height: 32px;\n",
       "      padding: 0 0 0 0;\n",
       "      width: 32px;\n",
       "    }\n",
       "\n",
       "    .colab-df-convert:hover {\n",
       "      background-color: #E2EBFA;\n",
       "      box-shadow: 0px 1px 2px rgba(60, 64, 67, 0.3), 0px 1px 3px 1px rgba(60, 64, 67, 0.15);\n",
       "      fill: #174EA6;\n",
       "    }\n",
       "\n",
       "    [theme=dark] .colab-df-convert {\n",
       "      background-color: #3B4455;\n",
       "      fill: #D2E3FC;\n",
       "    }\n",
       "\n",
       "    [theme=dark] .colab-df-convert:hover {\n",
       "      background-color: #434B5C;\n",
       "      box-shadow: 0px 1px 3px 1px rgba(0, 0, 0, 0.15);\n",
       "      filter: drop-shadow(0px 1px 2px rgba(0, 0, 0, 0.3));\n",
       "      fill: #FFFFFF;\n",
       "    }\n",
       "  </style>\n",
       "\n",
       "      <script>\n",
       "        const buttonEl =\n",
       "          document.querySelector('#df-9baf7f37-8ca7-41d7-ba78-6e1ba5c5ba02 button.colab-df-convert');\n",
       "        buttonEl.style.display =\n",
       "          google.colab.kernel.accessAllowed ? 'block' : 'none';\n",
       "\n",
       "        async function convertToInteractive(key) {\n",
       "          const element = document.querySelector('#df-9baf7f37-8ca7-41d7-ba78-6e1ba5c5ba02');\n",
       "          const dataTable =\n",
       "            await google.colab.kernel.invokeFunction('convertToInteractive',\n",
       "                                                     [key], {});\n",
       "          if (!dataTable) return;\n",
       "\n",
       "          const docLinkHtml = 'Like what you see? Visit the ' +\n",
       "            '<a target=\"_blank\" href=https://colab.research.google.com/notebooks/data_table.ipynb>data table notebook</a>'\n",
       "            + ' to learn more about interactive tables.';\n",
       "          element.innerHTML = '';\n",
       "          dataTable['output_type'] = 'display_data';\n",
       "          await google.colab.output.renderOutput(dataTable, element);\n",
       "          const docLink = document.createElement('div');\n",
       "          docLink.innerHTML = docLinkHtml;\n",
       "          element.appendChild(docLink);\n",
       "        }\n",
       "      </script>\n",
       "    </div>\n",
       "  </div>\n",
       "  "
      ],
      "text/plain": [
       "                  date  primary_cleaner.input.sulfate  \\\n",
       "0  2016-01-15 00:00:00                     127.092003   \n",
       "1  2016-01-15 01:00:00                     125.629232   \n",
       "2  2016-01-15 02:00:00                     123.819808   \n",
       "3  2016-01-15 03:00:00                     122.270188   \n",
       "4  2016-01-15 04:00:00                     117.988169   \n",
       "\n",
       "   primary_cleaner.input.depressant  primary_cleaner.input.feed_size  \\\n",
       "0                         10.128295                             7.25   \n",
       "1                         10.296251                             7.25   \n",
       "2                         11.316280                             7.25   \n",
       "3                         11.322140                             7.25   \n",
       "4                         11.913613                             7.25   \n",
       "\n",
       "   primary_cleaner.input.xanthate  primary_cleaner.state.floatbank8_a_air  \\\n",
       "0                        0.988759                             1549.775757   \n",
       "1                        1.002663                             1576.166671   \n",
       "2                        0.991265                             1601.556163   \n",
       "3                        0.996739                             1599.968720   \n",
       "4                        1.009869                             1601.339707   \n",
       "\n",
       "   primary_cleaner.state.floatbank8_a_level  \\\n",
       "0                               -498.912140   \n",
       "1                               -500.904965   \n",
       "2                               -499.997791   \n",
       "3                               -500.951778   \n",
       "4                               -498.975456   \n",
       "\n",
       "   primary_cleaner.state.floatbank8_b_air  \\\n",
       "0                             1551.434204   \n",
       "1                             1575.950626   \n",
       "2                             1600.386685   \n",
       "3                             1600.659236   \n",
       "4                             1601.437854   \n",
       "\n",
       "   primary_cleaner.state.floatbank8_b_level  \\\n",
       "0                               -516.403442   \n",
       "1                               -499.865889   \n",
       "2                               -500.607762   \n",
       "3                               -499.677094   \n",
       "4                               -500.323246   \n",
       "\n",
       "   primary_cleaner.state.floatbank8_c_air  ...  \\\n",
       "0                             1549.873901  ...   \n",
       "1                             1575.994189  ...   \n",
       "2                             1602.003542  ...   \n",
       "3                             1600.304144  ...   \n",
       "4                             1599.581894  ...   \n",
       "\n",
       "   secondary_cleaner.state.floatbank4_b_air  \\\n",
       "0                                 12.099931   \n",
       "1                                 11.950531   \n",
       "2                                 11.912783   \n",
       "3                                 11.999550   \n",
       "4                                 11.953070   \n",
       "\n",
       "   secondary_cleaner.state.floatbank4_b_level  \\\n",
       "0                                 -504.715942   \n",
       "1                                 -501.331529   \n",
       "2                                 -501.133383   \n",
       "3                                 -501.193686   \n",
       "4                                 -501.053894   \n",
       "\n",
       "   secondary_cleaner.state.floatbank5_a_air  \\\n",
       "0                                  9.925633   \n",
       "1                                 10.039245   \n",
       "2                                 10.070913   \n",
       "3                                  9.970366   \n",
       "4                                  9.925709   \n",
       "\n",
       "   secondary_cleaner.state.floatbank5_a_level  \\\n",
       "0                                 -498.310211   \n",
       "1                                 -500.169983   \n",
       "2                                 -500.129135   \n",
       "3                                 -499.201640   \n",
       "4                                 -501.686727   \n",
       "\n",
       "   secondary_cleaner.state.floatbank5_b_air  \\\n",
       "0                                  8.079666   \n",
       "1                                  7.984757   \n",
       "2                                  8.013877   \n",
       "3                                  7.977324   \n",
       "4                                  7.894242   \n",
       "\n",
       "   secondary_cleaner.state.floatbank5_b_level  \\\n",
       "0                                 -500.470978   \n",
       "1                                 -500.582168   \n",
       "2                                 -500.517572   \n",
       "3                                 -500.255908   \n",
       "4                                 -500.356035   \n",
       "\n",
       "   secondary_cleaner.state.floatbank6_a_air  \\\n",
       "0                                 14.151341   \n",
       "1                                 13.998353   \n",
       "2                                 14.028663   \n",
       "3                                 14.005551   \n",
       "4                                 13.996647   \n",
       "\n",
       "   secondary_cleaner.state.floatbank6_a_level  rougher.output.recovery  \\\n",
       "0                                 -605.841980                87.107763   \n",
       "1                                 -599.787184                86.843261   \n",
       "2                                 -601.427363                86.842308   \n",
       "3                                 -599.996129                87.226430   \n",
       "4                                 -601.496691                86.688794   \n",
       "\n",
       "   final.output.recovery  \n",
       "0              70.541216  \n",
       "1              69.266198  \n",
       "2              68.116445  \n",
       "3              68.347543  \n",
       "4              66.927016  \n",
       "\n",
       "[5 rows x 55 columns]"
      ]
     },
     "execution_count": 22,
     "metadata": {},
     "output_type": "execute_result"
    }
   ],
   "source": [
    "train.head()"
   ]
  },
  {
   "cell_type": "markdown",
   "metadata": {
    "id": "TalBhfgWwI-M"
   },
   "source": [
    "Посмотрим на итоговый набор данных для наших выборок (количество строк и столбцов):"
   ]
  },
  {
   "cell_type": "code",
   "execution_count": 23,
   "metadata": {
    "colab": {
     "base_uri": "https://localhost:8080/"
    },
    "id": "7SOEU_3swI-M",
    "outputId": "ad033402-8515-40ae-9e88-bb58e82fd46c"
   },
   "outputs": [
    {
     "name": "stdout",
     "output_type": "stream",
     "text": [
      "Test size: (5290, 55)\n",
      "Train size: (14149, 55)\n"
     ]
    }
   ],
   "source": [
    "print(f'Test size: {test.shape}')\n",
    "print(f'Train size: {train.shape}')"
   ]
  },
  {
   "cell_type": "markdown",
   "metadata": {
    "id": "jkhwdaBbwI-M"
   },
   "source": [
    "В тестовую выборку добавили целевые признаки, а в обучающем наборе данных избавились от лишних данных (те, которые отсутствовали в тестовой выборке изначально). \n",
    "\n",
    "Продолжим дальнейшую предобработку данных."
   ]
  },
  {
   "cell_type": "markdown",
   "metadata": {
    "id": "R5NG0hFDwI-M"
   },
   "source": [
    "### Исправление некорректного типа данных <a id=\"4_2\"></a>"
   ]
  },
  {
   "cell_type": "markdown",
   "metadata": {
    "id": "u21WEYS9wI-M"
   },
   "source": [
    "Для начала приведем столбцы `date` к соответствующему типу (`DateTime`)."
   ]
  },
  {
   "cell_type": "code",
   "execution_count": 24,
   "metadata": {
    "colab": {
     "base_uri": "https://localhost:8080/"
    },
    "id": "4oTf_nshwI-M",
    "outputId": "4ff23b33-07c9-4ab4-bced-236d997790fa"
   },
   "outputs": [
    {
     "name": "stderr",
     "output_type": "stream",
     "text": [
      "/usr/local/lib/python3.7/dist-packages/pandas/core/generic.py:5516: SettingWithCopyWarning: \n",
      "A value is trying to be set on a copy of a slice from a DataFrame.\n",
      "Try using .loc[row_indexer,col_indexer] = value instead\n",
      "\n",
      "See the caveats in the documentation: https://pandas.pydata.org/pandas-docs/stable/user_guide/indexing.html#returning-a-view-versus-a-copy\n",
      "  self[name] = value\n"
     ]
    }
   ],
   "source": [
    "# обучающая выборка\n",
    "train.date = pd.to_datetime(train.date, format = '%Y-%m-%d %H:%M:%S')\n",
    "# тестовая выборка\n",
    "test.date = pd.to_datetime(test.date, format = '%Y-%m-%d %H:%M:%S')\n",
    "# исходные данные\n",
    "df.date = pd.to_datetime(df.date, format = '%Y-%m-%d %H:%M:%S')"
   ]
  },
  {
   "cell_type": "markdown",
   "metadata": {
    "id": "xJ8aXqGGwI-N"
   },
   "source": [
    "Проверим корректность выполнения преобразования типа данных:"
   ]
  },
  {
   "cell_type": "code",
   "execution_count": 25,
   "metadata": {
    "colab": {
     "base_uri": "https://localhost:8080/"
    },
    "id": "GA6mNFXLwI-N",
    "outputId": "dbcc7625-cc54-46f0-9280-1aaad663518c"
   },
   "outputs": [
    {
     "name": "stdout",
     "output_type": "stream",
     "text": [
      "Train date type: datetime64[ns]\n",
      "Test date type: datetime64[ns]\n",
      "Df date type: datetime64[ns]\n"
     ]
    }
   ],
   "source": [
    "# обучающая выборка\n",
    "print(f'Train date type: {train.date.dtype}')\n",
    "# тестовая выборка\n",
    "print(f'Test date type: {test.date.dtype}')\n",
    "# исходные данные\n",
    "print(f'Df date type: {df.date.dtype}')"
   ]
  },
  {
   "cell_type": "markdown",
   "metadata": {
    "id": "kYMcgIXDwI-N"
   },
   "source": [
    "Тип данных приведен корректно. Приступим к обработке пропусков."
   ]
  },
  {
   "cell_type": "markdown",
   "metadata": {
    "id": "AYYQhZaSwI-N"
   },
   "source": [
    "### Обработка пропусков <a id=\"4_3\"></a>"
   ]
  },
  {
   "cell_type": "markdown",
   "metadata": {
    "id": "wMDp1MRcwI-N"
   },
   "source": [
    "Посмотрим на доли пропусков в каждом наборе данных, а также выведем максимальную долю пропусков в каждом наборе данных:"
   ]
  },
  {
   "cell_type": "code",
   "execution_count": 26,
   "metadata": {
    "colab": {
     "base_uri": "https://localhost:8080/"
    },
    "id": "vjbc6jVtwI-N",
    "outputId": "5b90c991-d8c8-42ae-d1d0-15fa5febae52"
   },
   "outputs": [
    {
     "name": "stdout",
     "output_type": "stream",
     "text": [
      "date                                          0.000000\n",
      "primary_cleaner.input.sulfate                 0.001414\n",
      "primary_cleaner.input.depressant              0.002262\n",
      "primary_cleaner.input.feed_size               0.000000\n",
      "primary_cleaner.input.xanthate                0.007068\n",
      "primary_cleaner.state.floatbank8_a_air        0.000283\n",
      "primary_cleaner.state.floatbank8_a_level      0.000071\n",
      "primary_cleaner.state.floatbank8_b_air        0.000283\n",
      "primary_cleaner.state.floatbank8_b_level      0.000071\n",
      "primary_cleaner.state.floatbank8_c_air        0.000141\n",
      "primary_cleaner.state.floatbank8_c_level      0.000071\n",
      "primary_cleaner.state.floatbank8_d_air        0.000212\n",
      "primary_cleaner.state.floatbank8_d_level      0.000071\n",
      "rougher.input.feed_ag                         0.000000\n",
      "rougher.input.feed_pb                         0.007068\n",
      "rougher.input.feed_rate                       0.000565\n",
      "rougher.input.feed_size                       0.010177\n",
      "rougher.input.feed_sol                        0.005513\n",
      "rougher.input.feed_au                         0.000000\n",
      "rougher.input.floatbank10_sulfate             0.002050\n",
      "rougher.input.floatbank10_xanthate            0.000565\n",
      "rougher.input.floatbank11_sulfate             0.002544\n",
      "rougher.input.floatbank11_xanthate            0.030249\n",
      "rougher.state.floatbank10_a_air               0.000071\n",
      "rougher.state.floatbank10_a_level             0.000071\n",
      "rougher.state.floatbank10_b_air               0.000071\n",
      "rougher.state.floatbank10_b_level             0.000071\n",
      "rougher.state.floatbank10_c_air               0.000071\n",
      "rougher.state.floatbank10_c_level             0.000071\n",
      "rougher.state.floatbank10_d_air               0.000000\n",
      "rougher.state.floatbank10_d_level             0.000000\n",
      "rougher.state.floatbank10_e_air               0.030815\n",
      "rougher.state.floatbank10_e_level             0.000000\n",
      "rougher.state.floatbank10_f_air               0.000000\n",
      "rougher.state.floatbank10_f_level             0.000000\n",
      "secondary_cleaner.state.floatbank2_a_air      0.015337\n",
      "secondary_cleaner.state.floatbank2_a_level    0.000071\n",
      "secondary_cleaner.state.floatbank2_b_air      0.001484\n",
      "secondary_cleaner.state.floatbank2_b_level    0.000071\n",
      "secondary_cleaner.state.floatbank3_a_air      0.000283\n",
      "secondary_cleaner.state.floatbank3_a_level    0.000071\n",
      "secondary_cleaner.state.floatbank3_b_air      0.000071\n",
      "secondary_cleaner.state.floatbank3_b_level    0.000071\n",
      "secondary_cleaner.state.floatbank4_a_air      0.000424\n",
      "secondary_cleaner.state.floatbank4_a_level    0.000071\n",
      "secondary_cleaner.state.floatbank4_b_air      0.000071\n",
      "secondary_cleaner.state.floatbank4_b_level    0.000071\n",
      "secondary_cleaner.state.floatbank5_a_air      0.000071\n",
      "secondary_cleaner.state.floatbank5_a_level    0.000071\n",
      "secondary_cleaner.state.floatbank5_b_air      0.000071\n",
      "secondary_cleaner.state.floatbank5_b_level    0.000071\n",
      "secondary_cleaner.state.floatbank6_a_air      0.000141\n",
      "secondary_cleaner.state.floatbank6_a_level    0.000071\n",
      "rougher.output.recovery                       0.000000\n",
      "final.output.recovery                         0.000000\n",
      "dtype: float64\n",
      "isna() max: 0.030814898579404906\n"
     ]
    }
   ],
   "source": [
    "# обучающая выборка\n",
    "print(train.isna().mean())\n",
    "print(f'isna() max: {train.isna().mean().max()}')"
   ]
  },
  {
   "cell_type": "code",
   "execution_count": 27,
   "metadata": {
    "colab": {
     "base_uri": "https://localhost:8080/"
    },
    "id": "QFhjhXzIwI-O",
    "outputId": "0c697dae-ec36-4537-976e-fedfc8784b95"
   },
   "outputs": [
    {
     "name": "stdout",
     "output_type": "stream",
     "text": [
      "date                                          0.000000\n",
      "primary_cleaner.input.sulfate                 0.000756\n",
      "primary_cleaner.input.depressant              0.000945\n",
      "primary_cleaner.input.feed_size               0.000000\n",
      "primary_cleaner.input.xanthate                0.000756\n",
      "primary_cleaner.state.floatbank8_a_air        0.000000\n",
      "primary_cleaner.state.floatbank8_a_level      0.000000\n",
      "primary_cleaner.state.floatbank8_b_air        0.000000\n",
      "primary_cleaner.state.floatbank8_b_level      0.000000\n",
      "primary_cleaner.state.floatbank8_c_air        0.000000\n",
      "primary_cleaner.state.floatbank8_c_level      0.000000\n",
      "primary_cleaner.state.floatbank8_d_air        0.000000\n",
      "primary_cleaner.state.floatbank8_d_level      0.000000\n",
      "rougher.input.feed_ag                         0.000000\n",
      "rougher.input.feed_pb                         0.000000\n",
      "rougher.input.feed_rate                       0.000567\n",
      "rougher.input.feed_size                       0.000189\n",
      "rougher.input.feed_sol                        0.003970\n",
      "rougher.input.feed_au                         0.000000\n",
      "rougher.input.floatbank10_sulfate             0.000945\n",
      "rougher.input.floatbank10_xanthate            0.000000\n",
      "rougher.input.floatbank11_sulfate             0.001512\n",
      "rougher.input.floatbank11_xanthate            0.004726\n",
      "rougher.state.floatbank10_a_air               0.000000\n",
      "rougher.state.floatbank10_a_level             0.000000\n",
      "rougher.state.floatbank10_b_air               0.000000\n",
      "rougher.state.floatbank10_b_level             0.000000\n",
      "rougher.state.floatbank10_c_air               0.000000\n",
      "rougher.state.floatbank10_c_level             0.000000\n",
      "rougher.state.floatbank10_d_air               0.000000\n",
      "rougher.state.floatbank10_d_level             0.000000\n",
      "rougher.state.floatbank10_e_air               0.000000\n",
      "rougher.state.floatbank10_e_level             0.000000\n",
      "rougher.state.floatbank10_f_air               0.000000\n",
      "rougher.state.floatbank10_f_level             0.000000\n",
      "secondary_cleaner.state.floatbank2_a_air      0.000567\n",
      "secondary_cleaner.state.floatbank2_a_level    0.000000\n",
      "secondary_cleaner.state.floatbank2_b_air      0.000378\n",
      "secondary_cleaner.state.floatbank2_b_level    0.000000\n",
      "secondary_cleaner.state.floatbank3_a_air      0.001701\n",
      "secondary_cleaner.state.floatbank3_a_level    0.000000\n",
      "secondary_cleaner.state.floatbank3_b_air      0.000000\n",
      "secondary_cleaner.state.floatbank3_b_level    0.000000\n",
      "secondary_cleaner.state.floatbank4_a_air      0.000000\n",
      "secondary_cleaner.state.floatbank4_a_level    0.000000\n",
      "secondary_cleaner.state.floatbank4_b_air      0.000000\n",
      "secondary_cleaner.state.floatbank4_b_level    0.000000\n",
      "secondary_cleaner.state.floatbank5_a_air      0.000000\n",
      "secondary_cleaner.state.floatbank5_a_level    0.000000\n",
      "secondary_cleaner.state.floatbank5_b_air      0.000000\n",
      "secondary_cleaner.state.floatbank5_b_level    0.000000\n",
      "secondary_cleaner.state.floatbank6_a_air      0.000000\n",
      "secondary_cleaner.state.floatbank6_a_level    0.000000\n",
      "rougher.output.recovery                       0.000000\n",
      "final.output.recovery                         0.000000\n",
      "dtype: float64\n",
      "isna() max: 0.004725897920604915\n"
     ]
    }
   ],
   "source": [
    "# тестовая выборка\n",
    "print(test.isna().mean())\n",
    "print(f'isna() max: {test.isna().mean().max()}')"
   ]
  },
  {
   "cell_type": "code",
   "execution_count": 28,
   "metadata": {
    "colab": {
     "base_uri": "https://localhost:8080/"
    },
    "id": "A6KbMC3twI-O",
    "outputId": "1a3efe9e-ff2b-4443-e9a9-5f3d5e45acea"
   },
   "outputs": [
    {
     "name": "stdout",
     "output_type": "stream",
     "text": [
      "date                                                  0.000000\n",
      "final.output.concentrate_ag                           0.000051\n",
      "final.output.concentrate_pb                           0.000051\n",
      "final.output.concentrate_sol                          0.010854\n",
      "final.output.concentrate_au                           0.000000\n",
      "final.output.recovery                                 0.000000\n",
      "final.output.tail_ag                                  0.000051\n",
      "final.output.tail_pb                                  0.005196\n",
      "final.output.tail_sol                                 0.000309\n",
      "final.output.tail_au                                  0.000000\n",
      "primary_cleaner.input.sulfate                         0.001235\n",
      "primary_cleaner.input.depressant                      0.001903\n",
      "primary_cleaner.input.feed_size                       0.000000\n",
      "primary_cleaner.input.xanthate                        0.005350\n",
      "primary_cleaner.output.concentrate_ag                 0.000000\n",
      "primary_cleaner.output.concentrate_pb                 0.005967\n",
      "primary_cleaner.output.concentrate_sol                0.019034\n",
      "primary_cleaner.output.concentrate_au                 0.000000\n",
      "primary_cleaner.output.tail_ag                        0.000206\n",
      "primary_cleaner.output.tail_pb                        0.001080\n",
      "primary_cleaner.output.tail_sol                       0.003189\n",
      "primary_cleaner.output.tail_au                        0.000000\n",
      "primary_cleaner.state.floatbank8_a_air                0.000206\n",
      "primary_cleaner.state.floatbank8_a_level              0.000051\n",
      "primary_cleaner.state.floatbank8_b_air                0.000206\n",
      "primary_cleaner.state.floatbank8_b_level              0.000051\n",
      "primary_cleaner.state.floatbank8_c_air                0.000103\n",
      "primary_cleaner.state.floatbank8_c_level              0.000051\n",
      "primary_cleaner.state.floatbank8_d_air                0.000154\n",
      "primary_cleaner.state.floatbank8_d_level              0.000051\n",
      "rougher.calculation.sulfate_to_au_concentrate         0.000103\n",
      "rougher.calculation.floatbank10_sulfate_to_au_feed    0.000103\n",
      "rougher.calculation.floatbank11_sulfate_to_au_feed    0.000103\n",
      "rougher.calculation.au_pb_ratio                       0.000000\n",
      "rougher.input.feed_ag                                 0.000000\n",
      "rougher.input.feed_pb                                 0.005144\n",
      "rougher.input.feed_rate                               0.000566\n",
      "rougher.input.feed_size                               0.007459\n",
      "rougher.input.feed_sol                                0.005093\n",
      "rougher.input.feed_au                                 0.000000\n",
      "rougher.input.floatbank10_sulfate                     0.001749\n",
      "rougher.input.floatbank10_xanthate                    0.000412\n",
      "rougher.input.floatbank11_sulfate                     0.002263\n",
      "rougher.input.floatbank11_xanthate                    0.023304\n",
      "rougher.output.concentrate_ag                         0.000000\n",
      "rougher.output.concentrate_pb                         0.000000\n",
      "rougher.output.concentrate_sol                        0.001183\n",
      "rougher.output.concentrate_au                         0.000000\n",
      "rougher.output.recovery                               0.000000\n",
      "rougher.output.tail_ag                                0.000051\n",
      "rougher.output.tail_pb                                0.000000\n",
      "rougher.output.tail_sol                               0.000000\n",
      "rougher.output.tail_au                                0.000000\n",
      "rougher.state.floatbank10_a_air                       0.000051\n",
      "rougher.state.floatbank10_a_level                     0.000051\n",
      "rougher.state.floatbank10_b_air                       0.000051\n",
      "rougher.state.floatbank10_b_level                     0.000051\n",
      "rougher.state.floatbank10_c_air                       0.000051\n",
      "rougher.state.floatbank10_c_level                     0.000051\n",
      "rougher.state.floatbank10_d_air                       0.000000\n",
      "rougher.state.floatbank10_d_level                     0.000000\n",
      "rougher.state.floatbank10_e_air                       0.022429\n",
      "rougher.state.floatbank10_e_level                     0.000000\n",
      "rougher.state.floatbank10_f_air                       0.000000\n",
      "rougher.state.floatbank10_f_level                     0.000000\n",
      "secondary_cleaner.output.tail_ag                      0.000103\n",
      "secondary_cleaner.output.tail_pb                      0.000617\n",
      "secondary_cleaner.output.tail_sol                     0.089922\n",
      "secondary_cleaner.output.tail_au                      0.000000\n",
      "secondary_cleaner.state.floatbank2_a_air              0.011317\n",
      "secondary_cleaner.state.floatbank2_a_level            0.000051\n",
      "secondary_cleaner.state.floatbank2_b_air              0.001183\n",
      "secondary_cleaner.state.floatbank2_b_level            0.000051\n",
      "secondary_cleaner.state.floatbank3_a_air              0.000669\n",
      "secondary_cleaner.state.floatbank3_a_level            0.000051\n",
      "secondary_cleaner.state.floatbank3_b_air              0.000051\n",
      "secondary_cleaner.state.floatbank3_b_level            0.000051\n",
      "secondary_cleaner.state.floatbank4_a_air              0.000309\n",
      "secondary_cleaner.state.floatbank4_a_level            0.000051\n",
      "secondary_cleaner.state.floatbank4_b_air              0.000051\n",
      "secondary_cleaner.state.floatbank4_b_level            0.000051\n",
      "secondary_cleaner.state.floatbank5_a_air              0.000051\n",
      "secondary_cleaner.state.floatbank5_a_level            0.000051\n",
      "secondary_cleaner.state.floatbank5_b_air              0.000051\n",
      "secondary_cleaner.state.floatbank5_b_level            0.000051\n",
      "secondary_cleaner.state.floatbank6_a_air              0.000103\n",
      "secondary_cleaner.state.floatbank6_a_level            0.000051\n",
      "dtype: float64\n",
      "isna() max: 0.08992232110705284\n"
     ]
    }
   ],
   "source": [
    "# исходные данные\n",
    "print(df.isna().mean())\n",
    "print(f'isna() max: {df.isna().mean().max()}')"
   ]
  },
  {
   "cell_type": "markdown",
   "metadata": {
    "id": "esD2qt1KwI-O"
   },
   "source": [
    "Видим, что у нас есть пропуски, чья доля меньше 1%, а есть признаки, где доля пропусков представляет собой приблизительно 10% значений. Наибольшая доля пропусков из набора данных представлена в исходных данных. В этом наборе есть признак, у которого доля пропусков равна 8%. \n",
    "\n",
    "Возможны следующие способы борьбы с пропусками:\n",
    "\n",
    "* Заполнение нестандартным значением;\n",
    "* Удалить эти пропуски, так как доля пропусков в необходимых для машинного обучения представляет собой приблизительно 3%. И это незначительно исказит предоставленные результаты;\n",
    "* Заполнить ближайшим значением\n",
    "\n",
    "Из дополнительной информации заказчка:\n",
    "> Соседние по времени параметры часто похожи.\n",
    "\n",
    "Отсюда, можно предположить, что заполнение пропуска ближайшим к пропуску значением - наиболее оптимальный способ устранения пропусков. Так мы не потеряем данные, а модель не исказит прогнозы целевого признака.\n",
    "\n",
    "Выбрали: **заполнение ближайшим значением**"
   ]
  },
  {
   "cell_type": "markdown",
   "metadata": {
    "id": "kyeXkpKgwI-O"
   },
   "source": [
    "Обучающая выборка:"
   ]
  },
  {
   "cell_type": "code",
   "execution_count": 29,
   "metadata": {
    "id": "EPbnU4dAwI-O"
   },
   "outputs": [],
   "source": [
    "# заполняем ближайшее значение по индексу (строки)\n",
    "train = train.ffill(axis = 0)"
   ]
  },
  {
   "cell_type": "code",
   "execution_count": 30,
   "metadata": {
    "colab": {
     "base_uri": "https://localhost:8080/"
    },
    "id": "zZWaVGLiwI-O",
    "outputId": "dabee4ad-fa2b-43d3-c82d-f6a605e2915b"
   },
   "outputs": [
    {
     "data": {
      "text/plain": [
       "date                                          0.0\n",
       "primary_cleaner.input.sulfate                 0.0\n",
       "primary_cleaner.input.depressant              0.0\n",
       "primary_cleaner.input.feed_size               0.0\n",
       "primary_cleaner.input.xanthate                0.0\n",
       "primary_cleaner.state.floatbank8_a_air        0.0\n",
       "primary_cleaner.state.floatbank8_a_level      0.0\n",
       "primary_cleaner.state.floatbank8_b_air        0.0\n",
       "primary_cleaner.state.floatbank8_b_level      0.0\n",
       "primary_cleaner.state.floatbank8_c_air        0.0\n",
       "primary_cleaner.state.floatbank8_c_level      0.0\n",
       "primary_cleaner.state.floatbank8_d_air        0.0\n",
       "primary_cleaner.state.floatbank8_d_level      0.0\n",
       "rougher.input.feed_ag                         0.0\n",
       "rougher.input.feed_pb                         0.0\n",
       "rougher.input.feed_rate                       0.0\n",
       "rougher.input.feed_size                       0.0\n",
       "rougher.input.feed_sol                        0.0\n",
       "rougher.input.feed_au                         0.0\n",
       "rougher.input.floatbank10_sulfate             0.0\n",
       "rougher.input.floatbank10_xanthate            0.0\n",
       "rougher.input.floatbank11_sulfate             0.0\n",
       "rougher.input.floatbank11_xanthate            0.0\n",
       "rougher.state.floatbank10_a_air               0.0\n",
       "rougher.state.floatbank10_a_level             0.0\n",
       "rougher.state.floatbank10_b_air               0.0\n",
       "rougher.state.floatbank10_b_level             0.0\n",
       "rougher.state.floatbank10_c_air               0.0\n",
       "rougher.state.floatbank10_c_level             0.0\n",
       "rougher.state.floatbank10_d_air               0.0\n",
       "rougher.state.floatbank10_d_level             0.0\n",
       "rougher.state.floatbank10_e_air               0.0\n",
       "rougher.state.floatbank10_e_level             0.0\n",
       "rougher.state.floatbank10_f_air               0.0\n",
       "rougher.state.floatbank10_f_level             0.0\n",
       "secondary_cleaner.state.floatbank2_a_air      0.0\n",
       "secondary_cleaner.state.floatbank2_a_level    0.0\n",
       "secondary_cleaner.state.floatbank2_b_air      0.0\n",
       "secondary_cleaner.state.floatbank2_b_level    0.0\n",
       "secondary_cleaner.state.floatbank3_a_air      0.0\n",
       "secondary_cleaner.state.floatbank3_a_level    0.0\n",
       "secondary_cleaner.state.floatbank3_b_air      0.0\n",
       "secondary_cleaner.state.floatbank3_b_level    0.0\n",
       "secondary_cleaner.state.floatbank4_a_air      0.0\n",
       "secondary_cleaner.state.floatbank4_a_level    0.0\n",
       "secondary_cleaner.state.floatbank4_b_air      0.0\n",
       "secondary_cleaner.state.floatbank4_b_level    0.0\n",
       "secondary_cleaner.state.floatbank5_a_air      0.0\n",
       "secondary_cleaner.state.floatbank5_a_level    0.0\n",
       "secondary_cleaner.state.floatbank5_b_air      0.0\n",
       "secondary_cleaner.state.floatbank5_b_level    0.0\n",
       "secondary_cleaner.state.floatbank6_a_air      0.0\n",
       "secondary_cleaner.state.floatbank6_a_level    0.0\n",
       "rougher.output.recovery                       0.0\n",
       "final.output.recovery                         0.0\n",
       "dtype: float64"
      ]
     },
     "execution_count": 30,
     "metadata": {},
     "output_type": "execute_result"
    }
   ],
   "source": [
    "train.isna().mean()"
   ]
  },
  {
   "cell_type": "markdown",
   "metadata": {
    "id": "eQaFjBa0wI-P"
   },
   "source": [
    "Тестовая выборка:"
   ]
  },
  {
   "cell_type": "code",
   "execution_count": 31,
   "metadata": {
    "colab": {
     "base_uri": "https://localhost:8080/"
    },
    "id": "Fbg8bfQYwI-Q",
    "outputId": "fea87b25-3222-4957-a54b-2c02ea6ea0b9"
   },
   "outputs": [
    {
     "data": {
      "text/plain": [
       "date                                          0.0\n",
       "primary_cleaner.input.sulfate                 0.0\n",
       "primary_cleaner.input.depressant              0.0\n",
       "primary_cleaner.input.feed_size               0.0\n",
       "primary_cleaner.input.xanthate                0.0\n",
       "primary_cleaner.state.floatbank8_a_air        0.0\n",
       "primary_cleaner.state.floatbank8_a_level      0.0\n",
       "primary_cleaner.state.floatbank8_b_air        0.0\n",
       "primary_cleaner.state.floatbank8_b_level      0.0\n",
       "primary_cleaner.state.floatbank8_c_air        0.0\n",
       "primary_cleaner.state.floatbank8_c_level      0.0\n",
       "primary_cleaner.state.floatbank8_d_air        0.0\n",
       "primary_cleaner.state.floatbank8_d_level      0.0\n",
       "rougher.input.feed_ag                         0.0\n",
       "rougher.input.feed_pb                         0.0\n",
       "rougher.input.feed_rate                       0.0\n",
       "rougher.input.feed_size                       0.0\n",
       "rougher.input.feed_sol                        0.0\n",
       "rougher.input.feed_au                         0.0\n",
       "rougher.input.floatbank10_sulfate             0.0\n",
       "rougher.input.floatbank10_xanthate            0.0\n",
       "rougher.input.floatbank11_sulfate             0.0\n",
       "rougher.input.floatbank11_xanthate            0.0\n",
       "rougher.state.floatbank10_a_air               0.0\n",
       "rougher.state.floatbank10_a_level             0.0\n",
       "rougher.state.floatbank10_b_air               0.0\n",
       "rougher.state.floatbank10_b_level             0.0\n",
       "rougher.state.floatbank10_c_air               0.0\n",
       "rougher.state.floatbank10_c_level             0.0\n",
       "rougher.state.floatbank10_d_air               0.0\n",
       "rougher.state.floatbank10_d_level             0.0\n",
       "rougher.state.floatbank10_e_air               0.0\n",
       "rougher.state.floatbank10_e_level             0.0\n",
       "rougher.state.floatbank10_f_air               0.0\n",
       "rougher.state.floatbank10_f_level             0.0\n",
       "secondary_cleaner.state.floatbank2_a_air      0.0\n",
       "secondary_cleaner.state.floatbank2_a_level    0.0\n",
       "secondary_cleaner.state.floatbank2_b_air      0.0\n",
       "secondary_cleaner.state.floatbank2_b_level    0.0\n",
       "secondary_cleaner.state.floatbank3_a_air      0.0\n",
       "secondary_cleaner.state.floatbank3_a_level    0.0\n",
       "secondary_cleaner.state.floatbank3_b_air      0.0\n",
       "secondary_cleaner.state.floatbank3_b_level    0.0\n",
       "secondary_cleaner.state.floatbank4_a_air      0.0\n",
       "secondary_cleaner.state.floatbank4_a_level    0.0\n",
       "secondary_cleaner.state.floatbank4_b_air      0.0\n",
       "secondary_cleaner.state.floatbank4_b_level    0.0\n",
       "secondary_cleaner.state.floatbank5_a_air      0.0\n",
       "secondary_cleaner.state.floatbank5_a_level    0.0\n",
       "secondary_cleaner.state.floatbank5_b_air      0.0\n",
       "secondary_cleaner.state.floatbank5_b_level    0.0\n",
       "secondary_cleaner.state.floatbank6_a_air      0.0\n",
       "secondary_cleaner.state.floatbank6_a_level    0.0\n",
       "rougher.output.recovery                       0.0\n",
       "final.output.recovery                         0.0\n",
       "dtype: float64"
      ]
     },
     "execution_count": 31,
     "metadata": {},
     "output_type": "execute_result"
    }
   ],
   "source": [
    "test = test.ffill(axis = 0)\n",
    "test.isna().mean()"
   ]
  },
  {
   "cell_type": "markdown",
   "metadata": {
    "id": "eM0jDF9GwI-Q"
   },
   "source": [
    "Исходные данные:"
   ]
  },
  {
   "cell_type": "code",
   "execution_count": 32,
   "metadata": {
    "colab": {
     "base_uri": "https://localhost:8080/"
    },
    "id": "K7vc1aClwI-Q",
    "outputId": "293a6bf3-d5a0-46c0-ad37-793ecc0854bd"
   },
   "outputs": [
    {
     "data": {
      "text/plain": [
       "date                                                  0.0\n",
       "final.output.concentrate_ag                           0.0\n",
       "final.output.concentrate_pb                           0.0\n",
       "final.output.concentrate_sol                          0.0\n",
       "final.output.concentrate_au                           0.0\n",
       "final.output.recovery                                 0.0\n",
       "final.output.tail_ag                                  0.0\n",
       "final.output.tail_pb                                  0.0\n",
       "final.output.tail_sol                                 0.0\n",
       "final.output.tail_au                                  0.0\n",
       "primary_cleaner.input.sulfate                         0.0\n",
       "primary_cleaner.input.depressant                      0.0\n",
       "primary_cleaner.input.feed_size                       0.0\n",
       "primary_cleaner.input.xanthate                        0.0\n",
       "primary_cleaner.output.concentrate_ag                 0.0\n",
       "primary_cleaner.output.concentrate_pb                 0.0\n",
       "primary_cleaner.output.concentrate_sol                0.0\n",
       "primary_cleaner.output.concentrate_au                 0.0\n",
       "primary_cleaner.output.tail_ag                        0.0\n",
       "primary_cleaner.output.tail_pb                        0.0\n",
       "primary_cleaner.output.tail_sol                       0.0\n",
       "primary_cleaner.output.tail_au                        0.0\n",
       "primary_cleaner.state.floatbank8_a_air                0.0\n",
       "primary_cleaner.state.floatbank8_a_level              0.0\n",
       "primary_cleaner.state.floatbank8_b_air                0.0\n",
       "primary_cleaner.state.floatbank8_b_level              0.0\n",
       "primary_cleaner.state.floatbank8_c_air                0.0\n",
       "primary_cleaner.state.floatbank8_c_level              0.0\n",
       "primary_cleaner.state.floatbank8_d_air                0.0\n",
       "primary_cleaner.state.floatbank8_d_level              0.0\n",
       "rougher.calculation.sulfate_to_au_concentrate         0.0\n",
       "rougher.calculation.floatbank10_sulfate_to_au_feed    0.0\n",
       "rougher.calculation.floatbank11_sulfate_to_au_feed    0.0\n",
       "rougher.calculation.au_pb_ratio                       0.0\n",
       "rougher.input.feed_ag                                 0.0\n",
       "rougher.input.feed_pb                                 0.0\n",
       "rougher.input.feed_rate                               0.0\n",
       "rougher.input.feed_size                               0.0\n",
       "rougher.input.feed_sol                                0.0\n",
       "rougher.input.feed_au                                 0.0\n",
       "rougher.input.floatbank10_sulfate                     0.0\n",
       "rougher.input.floatbank10_xanthate                    0.0\n",
       "rougher.input.floatbank11_sulfate                     0.0\n",
       "rougher.input.floatbank11_xanthate                    0.0\n",
       "rougher.output.concentrate_ag                         0.0\n",
       "rougher.output.concentrate_pb                         0.0\n",
       "rougher.output.concentrate_sol                        0.0\n",
       "rougher.output.concentrate_au                         0.0\n",
       "rougher.output.recovery                               0.0\n",
       "rougher.output.tail_ag                                0.0\n",
       "rougher.output.tail_pb                                0.0\n",
       "rougher.output.tail_sol                               0.0\n",
       "rougher.output.tail_au                                0.0\n",
       "rougher.state.floatbank10_a_air                       0.0\n",
       "rougher.state.floatbank10_a_level                     0.0\n",
       "rougher.state.floatbank10_b_air                       0.0\n",
       "rougher.state.floatbank10_b_level                     0.0\n",
       "rougher.state.floatbank10_c_air                       0.0\n",
       "rougher.state.floatbank10_c_level                     0.0\n",
       "rougher.state.floatbank10_d_air                       0.0\n",
       "rougher.state.floatbank10_d_level                     0.0\n",
       "rougher.state.floatbank10_e_air                       0.0\n",
       "rougher.state.floatbank10_e_level                     0.0\n",
       "rougher.state.floatbank10_f_air                       0.0\n",
       "rougher.state.floatbank10_f_level                     0.0\n",
       "secondary_cleaner.output.tail_ag                      0.0\n",
       "secondary_cleaner.output.tail_pb                      0.0\n",
       "secondary_cleaner.output.tail_sol                     0.0\n",
       "secondary_cleaner.output.tail_au                      0.0\n",
       "secondary_cleaner.state.floatbank2_a_air              0.0\n",
       "secondary_cleaner.state.floatbank2_a_level            0.0\n",
       "secondary_cleaner.state.floatbank2_b_air              0.0\n",
       "secondary_cleaner.state.floatbank2_b_level            0.0\n",
       "secondary_cleaner.state.floatbank3_a_air              0.0\n",
       "secondary_cleaner.state.floatbank3_a_level            0.0\n",
       "secondary_cleaner.state.floatbank3_b_air              0.0\n",
       "secondary_cleaner.state.floatbank3_b_level            0.0\n",
       "secondary_cleaner.state.floatbank4_a_air              0.0\n",
       "secondary_cleaner.state.floatbank4_a_level            0.0\n",
       "secondary_cleaner.state.floatbank4_b_air              0.0\n",
       "secondary_cleaner.state.floatbank4_b_level            0.0\n",
       "secondary_cleaner.state.floatbank5_a_air              0.0\n",
       "secondary_cleaner.state.floatbank5_a_level            0.0\n",
       "secondary_cleaner.state.floatbank5_b_air              0.0\n",
       "secondary_cleaner.state.floatbank5_b_level            0.0\n",
       "secondary_cleaner.state.floatbank6_a_air              0.0\n",
       "secondary_cleaner.state.floatbank6_a_level            0.0\n",
       "dtype: float64"
      ]
     },
     "execution_count": 32,
     "metadata": {},
     "output_type": "execute_result"
    }
   ],
   "source": [
    "df = df.ffill(axis = 0)\n",
    "df.isna().mean()"
   ]
  },
  {
   "cell_type": "markdown",
   "metadata": {
    "id": "YVPj0Ed0wI-Q"
   },
   "source": [
    "Пропуски во всех данных устранены."
   ]
  },
  {
   "cell_type": "markdown",
   "metadata": {
    "id": "30LeOZEVwI-Q"
   },
   "source": [
    "## Вывод\n",
    "\n",
    "В процессе предобработки данных исправили следующие проблемы в данных:\n",
    "\n",
    "* Добавлены целевые признаки для тестовой выборки;\n",
    "* Убраны лишние для обучения признаки в обучающей выборке;\n",
    "* Тип данных `date` приведен к соответствующему типу;\n",
    "* Пропуски обработаны с помощью заполения ближайшим значением по индексу.\n",
    "\n",
    "Данные предобработаны. Приступим к исследовательской части проекта."
   ]
  },
  {
   "cell_type": "markdown",
   "metadata": {},
   "source": [
    "<div class=\"alert alert-block alert-success\">\n",
    "<b>Комментарий ревьюера👍:</b> Отлично, двигаемся дальше!\n",
    "</div>\n",
    "    "
   ]
  },
  {
   "cell_type": "markdown",
   "metadata": {
    "id": "CNjxznmHwI-Q"
   },
   "source": [
    "## Исследовательская часть <a id=\"5\"></a>"
   ]
  },
  {
   "cell_type": "markdown",
   "metadata": {
    "id": "qGI0NvMiwI-R"
   },
   "source": [
    "### Как меняется концентрация металлов (Au, Ag, Pb) на различных этапах очистки  <a id=\"5_1\"></a>"
   ]
  },
  {
   "cell_type": "markdown",
   "metadata": {
    "id": "kqWAXB56wI-R"
   },
   "source": [
    "Посмотрим на исходный набор данных, определим, какие параметры нам понадобятся для этого пункта:"
   ]
  },
  {
   "cell_type": "code",
   "execution_count": 33,
   "metadata": {
    "colab": {
     "base_uri": "https://localhost:8080/"
    },
    "id": "0B2_idO8wI-R",
    "outputId": "b31e2b57-0709-4308-834a-235014b03d36"
   },
   "outputs": [
    {
     "name": "stdout",
     "output_type": "stream",
     "text": [
      "<class 'pandas.core.frame.DataFrame'>\n",
      "RangeIndex: 19439 entries, 0 to 19438\n",
      "Data columns (total 87 columns):\n",
      " #   Column                                              Non-Null Count  Dtype         \n",
      "---  ------                                              --------------  -----         \n",
      " 0   date                                                19439 non-null  datetime64[ns]\n",
      " 1   final.output.concentrate_ag                         19439 non-null  float64       \n",
      " 2   final.output.concentrate_pb                         19439 non-null  float64       \n",
      " 3   final.output.concentrate_sol                        19439 non-null  float64       \n",
      " 4   final.output.concentrate_au                         19439 non-null  float64       \n",
      " 5   final.output.recovery                               19439 non-null  float64       \n",
      " 6   final.output.tail_ag                                19439 non-null  float64       \n",
      " 7   final.output.tail_pb                                19439 non-null  float64       \n",
      " 8   final.output.tail_sol                               19439 non-null  float64       \n",
      " 9   final.output.tail_au                                19439 non-null  float64       \n",
      " 10  primary_cleaner.input.sulfate                       19439 non-null  float64       \n",
      " 11  primary_cleaner.input.depressant                    19439 non-null  float64       \n",
      " 12  primary_cleaner.input.feed_size                     19439 non-null  float64       \n",
      " 13  primary_cleaner.input.xanthate                      19439 non-null  float64       \n",
      " 14  primary_cleaner.output.concentrate_ag               19439 non-null  float64       \n",
      " 15  primary_cleaner.output.concentrate_pb               19439 non-null  float64       \n",
      " 16  primary_cleaner.output.concentrate_sol              19439 non-null  float64       \n",
      " 17  primary_cleaner.output.concentrate_au               19439 non-null  float64       \n",
      " 18  primary_cleaner.output.tail_ag                      19439 non-null  float64       \n",
      " 19  primary_cleaner.output.tail_pb                      19439 non-null  float64       \n",
      " 20  primary_cleaner.output.tail_sol                     19439 non-null  float64       \n",
      " 21  primary_cleaner.output.tail_au                      19439 non-null  float64       \n",
      " 22  primary_cleaner.state.floatbank8_a_air              19439 non-null  float64       \n",
      " 23  primary_cleaner.state.floatbank8_a_level            19439 non-null  float64       \n",
      " 24  primary_cleaner.state.floatbank8_b_air              19439 non-null  float64       \n",
      " 25  primary_cleaner.state.floatbank8_b_level            19439 non-null  float64       \n",
      " 26  primary_cleaner.state.floatbank8_c_air              19439 non-null  float64       \n",
      " 27  primary_cleaner.state.floatbank8_c_level            19439 non-null  float64       \n",
      " 28  primary_cleaner.state.floatbank8_d_air              19439 non-null  float64       \n",
      " 29  primary_cleaner.state.floatbank8_d_level            19439 non-null  float64       \n",
      " 30  rougher.calculation.sulfate_to_au_concentrate       19439 non-null  float64       \n",
      " 31  rougher.calculation.floatbank10_sulfate_to_au_feed  19439 non-null  float64       \n",
      " 32  rougher.calculation.floatbank11_sulfate_to_au_feed  19439 non-null  float64       \n",
      " 33  rougher.calculation.au_pb_ratio                     19439 non-null  float64       \n",
      " 34  rougher.input.feed_ag                               19439 non-null  float64       \n",
      " 35  rougher.input.feed_pb                               19439 non-null  float64       \n",
      " 36  rougher.input.feed_rate                             19439 non-null  float64       \n",
      " 37  rougher.input.feed_size                             19439 non-null  float64       \n",
      " 38  rougher.input.feed_sol                              19439 non-null  float64       \n",
      " 39  rougher.input.feed_au                               19439 non-null  float64       \n",
      " 40  rougher.input.floatbank10_sulfate                   19439 non-null  float64       \n",
      " 41  rougher.input.floatbank10_xanthate                  19439 non-null  float64       \n",
      " 42  rougher.input.floatbank11_sulfate                   19439 non-null  float64       \n",
      " 43  rougher.input.floatbank11_xanthate                  19439 non-null  float64       \n",
      " 44  rougher.output.concentrate_ag                       19439 non-null  float64       \n",
      " 45  rougher.output.concentrate_pb                       19439 non-null  float64       \n",
      " 46  rougher.output.concentrate_sol                      19439 non-null  float64       \n",
      " 47  rougher.output.concentrate_au                       19439 non-null  float64       \n",
      " 48  rougher.output.recovery                             19439 non-null  float64       \n",
      " 49  rougher.output.tail_ag                              19439 non-null  float64       \n",
      " 50  rougher.output.tail_pb                              19439 non-null  float64       \n",
      " 51  rougher.output.tail_sol                             19439 non-null  float64       \n",
      " 52  rougher.output.tail_au                              19439 non-null  float64       \n",
      " 53  rougher.state.floatbank10_a_air                     19439 non-null  float64       \n",
      " 54  rougher.state.floatbank10_a_level                   19439 non-null  float64       \n",
      " 55  rougher.state.floatbank10_b_air                     19439 non-null  float64       \n",
      " 56  rougher.state.floatbank10_b_level                   19439 non-null  float64       \n",
      " 57  rougher.state.floatbank10_c_air                     19439 non-null  float64       \n",
      " 58  rougher.state.floatbank10_c_level                   19439 non-null  float64       \n",
      " 59  rougher.state.floatbank10_d_air                     19439 non-null  float64       \n",
      " 60  rougher.state.floatbank10_d_level                   19439 non-null  float64       \n",
      " 61  rougher.state.floatbank10_e_air                     19439 non-null  float64       \n",
      " 62  rougher.state.floatbank10_e_level                   19439 non-null  float64       \n",
      " 63  rougher.state.floatbank10_f_air                     19439 non-null  float64       \n",
      " 64  rougher.state.floatbank10_f_level                   19439 non-null  float64       \n",
      " 65  secondary_cleaner.output.tail_ag                    19439 non-null  float64       \n",
      " 66  secondary_cleaner.output.tail_pb                    19439 non-null  float64       \n",
      " 67  secondary_cleaner.output.tail_sol                   19439 non-null  float64       \n",
      " 68  secondary_cleaner.output.tail_au                    19439 non-null  float64       \n",
      " 69  secondary_cleaner.state.floatbank2_a_air            19439 non-null  float64       \n",
      " 70  secondary_cleaner.state.floatbank2_a_level          19439 non-null  float64       \n",
      " 71  secondary_cleaner.state.floatbank2_b_air            19439 non-null  float64       \n",
      " 72  secondary_cleaner.state.floatbank2_b_level          19439 non-null  float64       \n",
      " 73  secondary_cleaner.state.floatbank3_a_air            19439 non-null  float64       \n",
      " 74  secondary_cleaner.state.floatbank3_a_level          19439 non-null  float64       \n",
      " 75  secondary_cleaner.state.floatbank3_b_air            19439 non-null  float64       \n",
      " 76  secondary_cleaner.state.floatbank3_b_level          19439 non-null  float64       \n",
      " 77  secondary_cleaner.state.floatbank4_a_air            19439 non-null  float64       \n",
      " 78  secondary_cleaner.state.floatbank4_a_level          19439 non-null  float64       \n",
      " 79  secondary_cleaner.state.floatbank4_b_air            19439 non-null  float64       \n",
      " 80  secondary_cleaner.state.floatbank4_b_level          19439 non-null  float64       \n",
      " 81  secondary_cleaner.state.floatbank5_a_air            19439 non-null  float64       \n",
      " 82  secondary_cleaner.state.floatbank5_a_level          19439 non-null  float64       \n",
      " 83  secondary_cleaner.state.floatbank5_b_air            19439 non-null  float64       \n",
      " 84  secondary_cleaner.state.floatbank5_b_level          19439 non-null  float64       \n",
      " 85  secondary_cleaner.state.floatbank6_a_air            19439 non-null  float64       \n",
      " 86  secondary_cleaner.state.floatbank6_a_level          19439 non-null  float64       \n",
      "dtypes: datetime64[ns](1), float64(86)\n",
      "memory usage: 12.9 MB\n"
     ]
    }
   ],
   "source": [
    "df.info()"
   ]
  },
  {
   "cell_type": "markdown",
   "metadata": {
    "id": "oMmyWitnwI-R"
   },
   "source": [
    "Видим, что из всех признаков нам подойдут следующие:\n",
    "* После флотации:\n",
    "    * `rougher.output.concentrate_ag` - концентрация серебра;\n",
    "    * `rougher.output.concentrate_au` - концентрация золота;\n",
    "    * `rougher.output.concentrate_pb` - концентрация свинца;\n",
    "* После первичной очистки:\n",
    "    * `primary_cleaner.output.concentrate_ag` - концентрация серебра;\n",
    "    * `primary_cleaner.output.concentrate_au` - концентрация золота;\n",
    "    * `primary_cleaner.output.concentrate_pb` - концентрация свинца;\n",
    "* После вторичной очистки (финальный концентрат):\n",
    "    * `final.output.concentrate_ag` - концентрация серебра;\n",
    "    * `final.output.concentrate_au` - концентрация золота;\n",
    "    * `final.output.concentrate_pb` - концентрация свинца;\n",
    "    \n",
    "На основе выбранных параметров, построим распределения концентрации для каждого вещества."
   ]
  },
  {
   "cell_type": "code",
   "execution_count": 34,
   "metadata": {
    "colab": {
     "base_uri": "https://localhost:8080/",
     "height": 990
    },
    "id": "FSaashGewI-R",
    "outputId": "15625833-0d6e-4c80-c401-6b71e959d788",
    "scrolled": false
   },
   "outputs": [
    {
     "data": {
      "image/png": "[encoded data removed]",
      "text/plain": [
       "<Figure size 1800x1080 with 3 Axes>"
      ]
     },
     "metadata": {
      "needs_background": "light"
     },
     "output_type": "display_data"
    }
   ],
   "source": [
    "# список для перебора необходимых параметров\n",
    "list_to_draw = ['au', 'ag', 'pb']\n",
    "# список для названий\n",
    "names = ['золота', 'серебра', 'свинца']\n",
    "# Список для легенды\n",
    "lab_list = ['После флотации', 'После первичной фильтрации', 'После вторичной фильтрации']\n",
    "# название графика\n",
    "title_name = 'Концентрация '\n",
    "col, row = 3, 1 \n",
    "fig, axes = plt.subplots(row, col, figsize = (25,15))\n",
    "for i in range(col):\n",
    "    # формируем необходимую выборку по веществу:\n",
    "    df_test = df[['rougher.output.concentrate_'+list_to_draw[i],\n",
    "                 'primary_cleaner.output.concentrate_'+list_to_draw[i],\n",
    "                 'final.output.concentrate_'+list_to_draw[i]]]\n",
    "    # строим совмещенные графики\n",
    "    for j in range(len(list_to_draw)):\n",
    "        df_test[df_test.columns[j]].plot(kind = 'hist',\n",
    "                                        ax = axes[i], \n",
    "                                        alpha = .5,\n",
    "                                        ec = 'red',\n",
    "                                        grid = True,\n",
    "                                        title = title_name + names[i])\n",
    "        axes[i].set_xlabel('Концентрация')\n",
    "fig.legend(loc = 'lower center', prop = {'size' : 15}, labels = lab_list, ncol = 3);"
   ]
  },
  {
   "cell_type": "markdown",
   "metadata": {
    "id": "VOt0qdrSwI-R"
   },
   "source": [
    "Как видно из графиков, с каждым этапом очистки сырья, у нас растет концентрация золота (Au), концентрация серебра (Ag) уменьшается с каждым этап процесса обработки руды. А концентрация свинца практически не меняется на каждом этапе процесса обработки сырья. Скорее всего, это связано с самими процессами фильтрации и химическими процессами, которые протекают во время обработки руды. Важно следующее: концентрация золота растет с каждым этапом. Производственный процесс проходит корректно."
   ]
  },
  {
   "cell_type": "markdown",
   "metadata": {},
   "source": [
    "<div class=\"alert alert-block alert-success\">\n",
    "<b>Комментарий ревьюера👍:</b> Верно\n",
    "</div>\n",
    "    "
   ]
  },
  {
   "cell_type": "markdown",
   "metadata": {
    "id": "ULEGRw57wI-S"
   },
   "source": [
    "### Сравнение распределения размеров гранул сырья на обучающей и тестовой выборках <a id=\"5_2\"></a>"
   ]
  },
  {
   "cell_type": "markdown",
   "metadata": {
    "id": "MO6ukgJlwI-S"
   },
   "source": [
    "Теперь посмотрим на распределения размеров гранул сырья, для обучающей и тестовой выборок. Нужно убедиться в том, что данные, которые мы будем передавать модели имеют идентичное распределение, чтобы не было некорректных прогнозов.\n",
    "\n",
    "Для этого посмотрим, какие данные необходимо использовать при анализе."
   ]
  },
  {
   "cell_type": "code",
   "execution_count": 35,
   "metadata": {
    "colab": {
     "base_uri": "https://localhost:8080/"
    },
    "id": "oVqtDQ2twI-S",
    "outputId": "6a8d70d5-ffef-40e2-cce1-ebc7f1489706"
   },
   "outputs": [
    {
     "name": "stdout",
     "output_type": "stream",
     "text": [
      "<class 'pandas.core.frame.DataFrame'>\n",
      "Int64Index: 5290 entries, 0 to 5289\n",
      "Data columns (total 55 columns):\n",
      " #   Column                                      Non-Null Count  Dtype         \n",
      "---  ------                                      --------------  -----         \n",
      " 0   date                                        5290 non-null   datetime64[ns]\n",
      " 1   primary_cleaner.input.sulfate               5290 non-null   float64       \n",
      " 2   primary_cleaner.input.depressant            5290 non-null   float64       \n",
      " 3   primary_cleaner.input.feed_size             5290 non-null   float64       \n",
      " 4   primary_cleaner.input.xanthate              5290 non-null   float64       \n",
      " 5   primary_cleaner.state.floatbank8_a_air      5290 non-null   float64       \n",
      " 6   primary_cleaner.state.floatbank8_a_level    5290 non-null   float64       \n",
      " 7   primary_cleaner.state.floatbank8_b_air      5290 non-null   float64       \n",
      " 8   primary_cleaner.state.floatbank8_b_level    5290 non-null   float64       \n",
      " 9   primary_cleaner.state.floatbank8_c_air      5290 non-null   float64       \n",
      " 10  primary_cleaner.state.floatbank8_c_level    5290 non-null   float64       \n",
      " 11  primary_cleaner.state.floatbank8_d_air      5290 non-null   float64       \n",
      " 12  primary_cleaner.state.floatbank8_d_level    5290 non-null   float64       \n",
      " 13  rougher.input.feed_ag                       5290 non-null   float64       \n",
      " 14  rougher.input.feed_pb                       5290 non-null   float64       \n",
      " 15  rougher.input.feed_rate                     5290 non-null   float64       \n",
      " 16  rougher.input.feed_size                     5290 non-null   float64       \n",
      " 17  rougher.input.feed_sol                      5290 non-null   float64       \n",
      " 18  rougher.input.feed_au                       5290 non-null   float64       \n",
      " 19  rougher.input.floatbank10_sulfate           5290 non-null   float64       \n",
      " 20  rougher.input.floatbank10_xanthate          5290 non-null   float64       \n",
      " 21  rougher.input.floatbank11_sulfate           5290 non-null   float64       \n",
      " 22  rougher.input.floatbank11_xanthate          5290 non-null   float64       \n",
      " 23  rougher.state.floatbank10_a_air             5290 non-null   float64       \n",
      " 24  rougher.state.floatbank10_a_level           5290 non-null   float64       \n",
      " 25  rougher.state.floatbank10_b_air             5290 non-null   float64       \n",
      " 26  rougher.state.floatbank10_b_level           5290 non-null   float64       \n",
      " 27  rougher.state.floatbank10_c_air             5290 non-null   float64       \n",
      " 28  rougher.state.floatbank10_c_level           5290 non-null   float64       \n",
      " 29  rougher.state.floatbank10_d_air             5290 non-null   float64       \n",
      " 30  rougher.state.floatbank10_d_level           5290 non-null   float64       \n",
      " 31  rougher.state.floatbank10_e_air             5290 non-null   float64       \n",
      " 32  rougher.state.floatbank10_e_level           5290 non-null   float64       \n",
      " 33  rougher.state.floatbank10_f_air             5290 non-null   float64       \n",
      " 34  rougher.state.floatbank10_f_level           5290 non-null   float64       \n",
      " 35  secondary_cleaner.state.floatbank2_a_air    5290 non-null   float64       \n",
      " 36  secondary_cleaner.state.floatbank2_a_level  5290 non-null   float64       \n",
      " 37  secondary_cleaner.state.floatbank2_b_air    5290 non-null   float64       \n",
      " 38  secondary_cleaner.state.floatbank2_b_level  5290 non-null   float64       \n",
      " 39  secondary_cleaner.state.floatbank3_a_air    5290 non-null   float64       \n",
      " 40  secondary_cleaner.state.floatbank3_a_level  5290 non-null   float64       \n",
      " 41  secondary_cleaner.state.floatbank3_b_air    5290 non-null   float64       \n",
      " 42  secondary_cleaner.state.floatbank3_b_level  5290 non-null   float64       \n",
      " 43  secondary_cleaner.state.floatbank4_a_air    5290 non-null   float64       \n",
      " 44  secondary_cleaner.state.floatbank4_a_level  5290 non-null   float64       \n",
      " 45  secondary_cleaner.state.floatbank4_b_air    5290 non-null   float64       \n",
      " 46  secondary_cleaner.state.floatbank4_b_level  5290 non-null   float64       \n",
      " 47  secondary_cleaner.state.floatbank5_a_air    5290 non-null   float64       \n",
      " 48  secondary_cleaner.state.floatbank5_a_level  5290 non-null   float64       \n",
      " 49  secondary_cleaner.state.floatbank5_b_air    5290 non-null   float64       \n",
      " 50  secondary_cleaner.state.floatbank5_b_level  5290 non-null   float64       \n",
      " 51  secondary_cleaner.state.floatbank6_a_air    5290 non-null   float64       \n",
      " 52  secondary_cleaner.state.floatbank6_a_level  5290 non-null   float64       \n",
      " 53  rougher.output.recovery                     5290 non-null   float64       \n",
      " 54  final.output.recovery                       5290 non-null   float64       \n",
      "dtypes: datetime64[ns](1), float64(54)\n",
      "memory usage: 2.3 MB\n"
     ]
    }
   ],
   "source": [
    "test.info()"
   ]
  },
  {
   "cell_type": "markdown",
   "metadata": {
    "id": "9KYTB4t0wI-S"
   },
   "source": [
    "Из всего набора данных подойдут только два признака:\n",
    "\n",
    "* размер гранул сырья перед флотацией - `rougher.input.feed_size`;\n",
    "* размер граунл сырья перед первичной фильтрацией - `primary_cleaner.input.feed_size`.\n",
    "\n",
    "Их и будем рассматривать для данного исследования.\n",
    "\n",
    "Для начала рассмотрим распределения выборок перед флотацией"
   ]
  },
  {
   "cell_type": "code",
   "execution_count": 36,
   "metadata": {
    "id": "ez-CjnIkwI-S"
   },
   "outputs": [],
   "source": [
    "def seed_check(df1: pd.DataFrame,\n",
    "              df2: pd.DataFrame,\n",
    "              seed: str):\n",
    "    if seed == 'rougher':\n",
    "        title = 'Распределение гранул сырья перед флотацией'\n",
    "        xlim = (0,150)\n",
    "    elif seed == 'primary_cleaner':\n",
    "        title = 'Распределение гранул сырья перед первичной фильтрацией'\n",
    "        xlim = (0,15)\n",
    "    seed_df = pd.concat([df1[seed + '.input.feed_size'], df2[seed + '.input.feed_size']], axis = 1)\n",
    "    seed_df.columns = ['Обучающая выборка', 'Тестовая выборка']\n",
    "    seed_df.boxplot(figsize = (20,10))\n",
    "    plt.title(title)\n",
    "    plt.ylim(xlim)\n",
    "    seed_df.plot(kind = 'hist',\n",
    "                figsize = (20,10),\n",
    "                alpha = .5,\n",
    "                ec = 'red',\n",
    "                xlim = xlim,\n",
    "                bins = 200,\n",
    "                grid = True,\n",
    "                title = title)\n",
    "    plt.xlabel('Размер гранул')\n",
    "    return seed_df.describe()"
   ]
  },
  {
   "cell_type": "code",
   "execution_count": 37,
   "metadata": {
    "colab": {
     "base_uri": "https://localhost:8080/",
     "height": 1000
    },
    "id": "EF6v0zxqwI-S",
    "outputId": "5fab9039-cdc6-48d7-9d9c-dec98041c422",
    "scrolled": false
   },
   "outputs": [
    {
     "name": "stderr",
     "output_type": "stream",
     "text": [
      "/usr/local/lib/python3.7/dist-packages/matplotlib/cbook/__init__.py:1376: VisibleDeprecationWarning: Creating an ndarray from ragged nested sequences (which is a list-or-tuple of lists-or-tuples-or ndarrays with different lengths or shapes) is deprecated. If you meant to do this, you must specify 'dtype=object' when creating the ndarray.\n",
      "  X = np.atleast_1d(X.T if isinstance(X, np.ndarray) else np.asarray(X))\n"
     ]
    },
    {
     "data": {
      "text/html": [
       "\n",
       "  <div id=\"df-d0400f64-2f00-4ab7-bc99-fb0915ffa0b9\">\n",
       "    <div class=\"colab-df-container\">\n",
       "      <div>\n",
       "<style scoped>\n",
       "    .dataframe tbody tr th:only-of-type {\n",
       "        vertical-align: middle;\n",
       "    }\n",
       "\n",
       "    .dataframe tbody tr th {\n",
       "        vertical-align: top;\n",
       "    }\n",
       "\n",
       "    .dataframe thead th {\n",
       "        text-align: right;\n",
       "    }\n",
       "</style>\n",
       "<table border=\"1\" class=\"dataframe\">\n",
       "  <thead>\n",
       "    <tr style=\"text-align: right;\">\n",
       "      <th></th>\n",
       "      <th>Обучающая выборка</th>\n",
       "      <th>Тестовая выборка</th>\n",
       "    </tr>\n",
       "  </thead>\n",
       "  <tbody>\n",
       "    <tr>\n",
       "      <th>count</th>\n",
       "      <td>14149.000000</td>\n",
       "      <td>5290.000000</td>\n",
       "    </tr>\n",
       "    <tr>\n",
       "      <th>mean</th>\n",
       "      <td>60.239856</td>\n",
       "      <td>55.952754</td>\n",
       "    </tr>\n",
       "    <tr>\n",
       "      <th>std</th>\n",
       "      <td>23.005310</td>\n",
       "      <td>19.080334</td>\n",
       "    </tr>\n",
       "    <tr>\n",
       "      <th>min</th>\n",
       "      <td>9.659576</td>\n",
       "      <td>0.046369</td>\n",
       "    </tr>\n",
       "    <tr>\n",
       "      <th>25%</th>\n",
       "      <td>48.966751</td>\n",
       "      <td>43.906504</td>\n",
       "    </tr>\n",
       "    <tr>\n",
       "      <th>50%</th>\n",
       "      <td>55.269784</td>\n",
       "      <td>50.846843</td>\n",
       "    </tr>\n",
       "    <tr>\n",
       "      <th>75%</th>\n",
       "      <td>66.007526</td>\n",
       "      <td>62.451165</td>\n",
       "    </tr>\n",
       "    <tr>\n",
       "      <th>max</th>\n",
       "      <td>484.967466</td>\n",
       "      <td>392.494040</td>\n",
       "    </tr>\n",
       "  </tbody>\n",
       "</table>\n",
       "</div>\n",
       "      <button class=\"colab-df-convert\" onclick=\"convertToInteractive('df-d0400f64-2f00-4ab7-bc99-fb0915ffa0b9')\"\n",
       "              title=\"Convert this dataframe to an interactive table.\"\n",
       "              style=\"display:none;\">\n",
       "        \n",
       "  <svg xmlns=\"http://www.w3.org/2000/svg\" height=\"24px\"viewBox=\"0 0 24 24\"\n",
       "       width=\"24px\">\n",
       "    <path d=\"M0 0h24v24H0V0z\" fill=\"none\"/>\n",
       "    <path d=\"M18.56 5.44l.94 2.06.94-2.06 2.06-.94-2.06-.94-.94-2.06-.94 2.06-2.06.94zm-11 1L8.5 8.5l.94-2.06 2.06-.94-2.06-.94L8.5 2.5l-.94 2.06-2.06.94zm10 10l.94 2.06.94-2.06 2.06-.94-2.06-.94-.94-2.06-.94 2.06-2.06.94z\"/><path d=\"M17.41 7.96l-1.37-1.37c-.4-.4-.92-.59-1.43-.59-.52 0-1.04.2-1.43.59L10.3 9.45l-7.72 7.72c-.78.78-.78 2.05 0 2.83L4 21.41c.39.39.9.59 1.41.59.51 0 1.02-.2 1.41-.59l7.78-7.78 2.81-2.81c.8-.78.8-2.07 0-2.86zM5.41 20L4 18.59l7.72-7.72 1.47 1.35L5.41 20z\"/>\n",
       "  </svg>\n",
       "      </button>\n",
       "      \n",
       "  <style>\n",
       "    .colab-df-container {\n",
       "      display:flex;\n",
       "      flex-wrap:wrap;\n",
       "      gap: 12px;\n",
       "    }\n",
       "\n",
       "    .colab-df-convert {\n",
       "      background-color: #E8F0FE;\n",
       "      border: none;\n",
       "      border-radius: 50%;\n",
       "      cursor: pointer;\n",
       "      display: none;\n",
       "      fill: #1967D2;\n",
       "      height: 32px;\n",
       "      padding: 0 0 0 0;\n",
       "      width: 32px;\n",
       "    }\n",
       "\n",
       "    .colab-df-convert:hover {\n",
       "      background-color: #E2EBFA;\n",
       "      box-shadow: 0px 1px 2px rgba(60, 64, 67, 0.3), 0px 1px 3px 1px rgba(60, 64, 67, 0.15);\n",
       "      fill: #174EA6;\n",
       "    }\n",
       "\n",
       "    [theme=dark] .colab-df-convert {\n",
       "      background-color: #3B4455;\n",
       "      fill: #D2E3FC;\n",
       "    }\n",
       "\n",
       "    [theme=dark] .colab-df-convert:hover {\n",
       "      background-color: #434B5C;\n",
       "      box-shadow: 0px 1px 3px 1px rgba(0, 0, 0, 0.15);\n",
       "      filter: drop-shadow(0px 1px 2px rgba(0, 0, 0, 0.3));\n",
       "      fill: #FFFFFF;\n",
       "    }\n",
       "  </style>\n",
       "\n",
       "      <script>\n",
       "        const buttonEl =\n",
       "          document.querySelector('#df-d0400f64-2f00-4ab7-bc99-fb0915ffa0b9 button.colab-df-convert');\n",
       "        buttonEl.style.display =\n",
       "          google.colab.kernel.accessAllowed ? 'block' : 'none';\n",
       "\n",
       "        async function convertToInteractive(key) {\n",
       "          const element = document.querySelector('#df-d0400f64-2f00-4ab7-bc99-fb0915ffa0b9');\n",
       "          const dataTable =\n",
       "            await google.colab.kernel.invokeFunction('convertToInteractive',\n",
       "                                                     [key], {});\n",
       "          if (!dataTable) return;\n",
       "\n",
       "          const docLinkHtml = 'Like what you see? Visit the ' +\n",
       "            '<a target=\"_blank\" href=https://colab.research.google.com/notebooks/data_table.ipynb>data table notebook</a>'\n",
       "            + ' to learn more about interactive tables.';\n",
       "          element.innerHTML = '';\n",
       "          dataTable['output_type'] = 'display_data';\n",
       "          await google.colab.output.renderOutput(dataTable, element);\n",
       "          const docLink = document.createElement('div');\n",
       "          docLink.innerHTML = docLinkHtml;\n",
       "          element.appendChild(docLink);\n",
       "        }\n",
       "      </script>\n",
       "    </div>\n",
       "  </div>\n",
       "  "
      ],
      "text/plain": [
       "       Обучающая выборка  Тестовая выборка\n",
       "count       14149.000000       5290.000000\n",
       "mean           60.239856         55.952754\n",
       "std            23.005310         19.080334\n",
       "min             9.659576          0.046369\n",
       "25%            48.966751         43.906504\n",
       "50%            55.269784         50.846843\n",
       "75%            66.007526         62.451165\n",
       "max           484.967466        392.494040"
      ]
     },
     "execution_count": 37,
     "metadata": {},
     "output_type": "execute_result"
    },
    {
     "data": {
      "image/png": "[encoded data removed]",
      "text/plain": [
       "<Figure size 1440x720 with 1 Axes>"
      ]
     },
     "metadata": {
      "needs_background": "light"
     },
     "output_type": "display_data"
    },
    {
     "data": {
      "image/png": "[encoded data removed]",
      "text/plain": [
       "<Figure size 1440x720 with 1 Axes>"
      ]
     },
     "metadata": {
      "needs_background": "light"
     },
     "output_type": "display_data"
    }
   ],
   "source": [
    "seed_check(train, test, 'rougher')"
   ]
  },
  {
   "cell_type": "markdown",
   "metadata": {
    "id": "uAaiesfKwI-S"
   },
   "source": [
    "Видим, что разница между распределениями признака \"размер гранул сырья\" перед флотацией для тестовой и обучающей выборок несущественно различна.\n",
    "Это можно увидеть на диаграмме размаха и гистограммах выборок. При этом по численным характеристикам видим, что станданртное отклонение, среднее, медиана и IQR отличаются несильно.\n",
    "\n",
    "Теперь посмотрим для сырья перед первичной фильтрацией:"
   ]
  },
  {
   "cell_type": "code",
   "execution_count": 38,
   "metadata": {
    "colab": {
     "base_uri": "https://localhost:8080/",
     "height": 1000
    },
    "id": "3kyANjr5wI-T",
    "outputId": "9fb91960-b9fc-4492-e7d9-7f671ecaf9e1"
   },
   "outputs": [
    {
     "name": "stderr",
     "output_type": "stream",
     "text": [
      "/usr/local/lib/python3.7/dist-packages/matplotlib/cbook/__init__.py:1376: VisibleDeprecationWarning: Creating an ndarray from ragged nested sequences (which is a list-or-tuple of lists-or-tuples-or ndarrays with different lengths or shapes) is deprecated. If you meant to do this, you must specify 'dtype=object' when creating the ndarray.\n",
      "  X = np.atleast_1d(X.T if isinstance(X, np.ndarray) else np.asarray(X))\n"
     ]
    },
    {
     "data": {
      "text/html": [
       "\n",
       "  <div id=\"df-3736088e-b4c2-4281-ab89-da06a4b2537b\">\n",
       "    <div class=\"colab-df-container\">\n",
       "      <div>\n",
       "<style scoped>\n",
       "    .dataframe tbody tr th:only-of-type {\n",
       "        vertical-align: middle;\n",
       "    }\n",
       "\n",
       "    .dataframe tbody tr th {\n",
       "        vertical-align: top;\n",
       "    }\n",
       "\n",
       "    .dataframe thead th {\n",
       "        text-align: right;\n",
       "    }\n",
       "</style>\n",
       "<table border=\"1\" class=\"dataframe\">\n",
       "  <thead>\n",
       "    <tr style=\"text-align: right;\">\n",
       "      <th></th>\n",
       "      <th>Обучающая выборка</th>\n",
       "      <th>Тестовая выборка</th>\n",
       "    </tr>\n",
       "  </thead>\n",
       "  <tbody>\n",
       "    <tr>\n",
       "      <th>count</th>\n",
       "      <td>14149.000000</td>\n",
       "      <td>5290.000000</td>\n",
       "    </tr>\n",
       "    <tr>\n",
       "      <th>mean</th>\n",
       "      <td>7.322310</td>\n",
       "      <td>7.266339</td>\n",
       "    </tr>\n",
       "    <tr>\n",
       "      <th>std</th>\n",
       "      <td>0.614062</td>\n",
       "      <td>0.610219</td>\n",
       "    </tr>\n",
       "    <tr>\n",
       "      <th>min</th>\n",
       "      <td>1.080000</td>\n",
       "      <td>5.650000</td>\n",
       "    </tr>\n",
       "    <tr>\n",
       "      <th>25%</th>\n",
       "      <td>6.960000</td>\n",
       "      <td>6.890000</td>\n",
       "    </tr>\n",
       "    <tr>\n",
       "      <th>50%</th>\n",
       "      <td>7.290000</td>\n",
       "      <td>7.250000</td>\n",
       "    </tr>\n",
       "    <tr>\n",
       "      <th>75%</th>\n",
       "      <td>7.700000</td>\n",
       "      <td>7.600000</td>\n",
       "    </tr>\n",
       "    <tr>\n",
       "      <th>max</th>\n",
       "      <td>10.470000</td>\n",
       "      <td>15.500000</td>\n",
       "    </tr>\n",
       "  </tbody>\n",
       "</table>\n",
       "</div>\n",
       "      <button class=\"colab-df-convert\" onclick=\"convertToInteractive('df-3736088e-b4c2-4281-ab89-da06a4b2537b')\"\n",
       "              title=\"Convert this dataframe to an interactive table.\"\n",
       "              style=\"display:none;\">\n",
       "        \n",
       "  <svg xmlns=\"http://www.w3.org/2000/svg\" height=\"24px\"viewBox=\"0 0 24 24\"\n",
       "       width=\"24px\">\n",
       "    <path d=\"M0 0h24v24H0V0z\" fill=\"none\"/>\n",
       "    <path d=\"M18.56 5.44l.94 2.06.94-2.06 2.06-.94-2.06-.94-.94-2.06-.94 2.06-2.06.94zm-11 1L8.5 8.5l.94-2.06 2.06-.94-2.06-.94L8.5 2.5l-.94 2.06-2.06.94zm10 10l.94 2.06.94-2.06 2.06-.94-2.06-.94-.94-2.06-.94 2.06-2.06.94z\"/><path d=\"M17.41 7.96l-1.37-1.37c-.4-.4-.92-.59-1.43-.59-.52 0-1.04.2-1.43.59L10.3 9.45l-7.72 7.72c-.78.78-.78 2.05 0 2.83L4 21.41c.39.39.9.59 1.41.59.51 0 1.02-.2 1.41-.59l7.78-7.78 2.81-2.81c.8-.78.8-2.07 0-2.86zM5.41 20L4 18.59l7.72-7.72 1.47 1.35L5.41 20z\"/>\n",
       "  </svg>\n",
       "      </button>\n",
       "      \n",
       "  <style>\n",
       "    .colab-df-container {\n",
       "      display:flex;\n",
       "      flex-wrap:wrap;\n",
       "      gap: 12px;\n",
       "    }\n",
       "\n",
       "    .colab-df-convert {\n",
       "      background-color: #E8F0FE;\n",
       "      border: none;\n",
       "      border-radius: 50%;\n",
       "      cursor: pointer;\n",
       "      display: none;\n",
       "      fill: #1967D2;\n",
       "      height: 32px;\n",
       "      padding: 0 0 0 0;\n",
       "      width: 32px;\n",
       "    }\n",
       "\n",
       "    .colab-df-convert:hover {\n",
       "      background-color: #E2EBFA;\n",
       "      box-shadow: 0px 1px 2px rgba(60, 64, 67, 0.3), 0px 1px 3px 1px rgba(60, 64, 67, 0.15);\n",
       "      fill: #174EA6;\n",
       "    }\n",
       "\n",
       "    [theme=dark] .colab-df-convert {\n",
       "      background-color: #3B4455;\n",
       "      fill: #D2E3FC;\n",
       "    }\n",
       "\n",
       "    [theme=dark] .colab-df-convert:hover {\n",
       "      background-color: #434B5C;\n",
       "      box-shadow: 0px 1px 3px 1px rgba(0, 0, 0, 0.15);\n",
       "      filter: drop-shadow(0px 1px 2px rgba(0, 0, 0, 0.3));\n",
       "      fill: #FFFFFF;\n",
       "    }\n",
       "  </style>\n",
       "\n",
       "      <script>\n",
       "        const buttonEl =\n",
       "          document.querySelector('#df-3736088e-b4c2-4281-ab89-da06a4b2537b button.colab-df-convert');\n",
       "        buttonEl.style.display =\n",
       "          google.colab.kernel.accessAllowed ? 'block' : 'none';\n",
       "\n",
       "        async function convertToInteractive(key) {\n",
       "          const element = document.querySelector('#df-3736088e-b4c2-4281-ab89-da06a4b2537b');\n",
       "          const dataTable =\n",
       "            await google.colab.kernel.invokeFunction('convertToInteractive',\n",
       "                                                     [key], {});\n",
       "          if (!dataTable) return;\n",
       "\n",
       "          const docLinkHtml = 'Like what you see? Visit the ' +\n",
       "            '<a target=\"_blank\" href=https://colab.research.google.com/notebooks/data_table.ipynb>data table notebook</a>'\n",
       "            + ' to learn more about interactive tables.';\n",
       "          element.innerHTML = '';\n",
       "          dataTable['output_type'] = 'display_data';\n",
       "          await google.colab.output.renderOutput(dataTable, element);\n",
       "          const docLink = document.createElement('div');\n",
       "          docLink.innerHTML = docLinkHtml;\n",
       "          element.appendChild(docLink);\n",
       "        }\n",
       "      </script>\n",
       "    </div>\n",
       "  </div>\n",
       "  "
      ],
      "text/plain": [
       "       Обучающая выборка  Тестовая выборка\n",
       "count       14149.000000       5290.000000\n",
       "mean            7.322310          7.266339\n",
       "std             0.614062          0.610219\n",
       "min             1.080000          5.650000\n",
       "25%             6.960000          6.890000\n",
       "50%             7.290000          7.250000\n",
       "75%             7.700000          7.600000\n",
       "max            10.470000         15.500000"
      ]
     },
     "execution_count": 38,
     "metadata": {},
     "output_type": "execute_result"
    },
    {
     "data": {
      "image/png": "[encoded data removed]",
      "text/plain": [
       "<Figure size 1440x720 with 1 Axes>"
      ]
     },
     "metadata": {
      "needs_background": "light"
     },
     "output_type": "display_data"
    },
    {
     "data": {
      "image/png": "[encoded data removed]",
      "text/plain": [
       "<Figure size 1440x720 with 1 Axes>"
      ]
     },
     "metadata": {
      "needs_background": "light"
     },
     "output_type": "display_data"
    }
   ],
   "source": [
    "seed_check(train, test, 'primary_cleaner')"
   ]
  },
  {
   "cell_type": "markdown",
   "metadata": {
    "id": "yeKhHpIjwI-T"
   },
   "source": [
    "Аналогичную ситуацию видим и с распределениями признака перед первичной фильтрацией для тестовой и обучающей выборками. По численным характеристикам видим, что станданртное отклонение, среднее, медиана и IQR отличаются несильно.\n",
    "\n",
    "Распределения признака \"размер гранул сырья\" для каждой выборки несильно отличаются друг от друга."
   ]
  },
  {
   "cell_type": "markdown",
   "metadata": {},
   "source": [
    "<div class=\"alert alert-block alert-success\">\n",
    "<b>Комментарий ревьюера👍:</b> Между обучающей и тестовой выборками есть небольшое различие в размерах гранул сырья на этапе флотации: в обучающей выборке превалируют гранулы от 50 до 100 единиц, а также встречаются очень крупные гранулы в небольшом объёме, тогда как в тестовой выборке размер гранул распределён более равномерно.\n",
    "    \n",
    "Тем не менее после этапа флотации в обоих выборках остаются примерно одинаковые гранулы от 5 до 10 единиц. Таким образом, предсказательная способность модели не должна сильно ухудщаться из-за различий в выборках.\n",
    "</div>\n"
   ]
  },
  {
   "cell_type": "markdown",
   "metadata": {},
   "source": [
    "<div class=\"alert alert-block alert-info\">\n",
    "<b>Комментарий студента:</b> Спасибо за более корректный вывод!)\n",
    "</div>"
   ]
  },
  {
   "cell_type": "markdown",
   "metadata": {
    "id": "lMed-cZfwI-T"
   },
   "source": [
    "### Исследование суммарной концентрации всех веществ на разных стадиях очистки <a id=\"5_3\"></a>"
   ]
  },
  {
   "cell_type": "markdown",
   "metadata": {
    "id": "tabEnkRdwI-T"
   },
   "source": [
    "Теперь проведем анализ суммарной концентрации всех веществ на разных стадиях. Посмотрим на признаки исходных данных:"
   ]
  },
  {
   "cell_type": "code",
   "execution_count": 39,
   "metadata": {
    "colab": {
     "base_uri": "https://localhost:8080/"
    },
    "id": "X3aDQjAywI-T",
    "outputId": "d6eb3350-06c9-4d36-b4cb-b7ecf02c6004"
   },
   "outputs": [
    {
     "name": "stdout",
     "output_type": "stream",
     "text": [
      "<class 'pandas.core.frame.DataFrame'>\n",
      "RangeIndex: 19439 entries, 0 to 19438\n",
      "Data columns (total 87 columns):\n",
      " #   Column                                              Non-Null Count  Dtype         \n",
      "---  ------                                              --------------  -----         \n",
      " 0   date                                                19439 non-null  datetime64[ns]\n",
      " 1   final.output.concentrate_ag                         19439 non-null  float64       \n",
      " 2   final.output.concentrate_pb                         19439 non-null  float64       \n",
      " 3   final.output.concentrate_sol                        19439 non-null  float64       \n",
      " 4   final.output.concentrate_au                         19439 non-null  float64       \n",
      " 5   final.output.recovery                               19439 non-null  float64       \n",
      " 6   final.output.tail_ag                                19439 non-null  float64       \n",
      " 7   final.output.tail_pb                                19439 non-null  float64       \n",
      " 8   final.output.tail_sol                               19439 non-null  float64       \n",
      " 9   final.output.tail_au                                19439 non-null  float64       \n",
      " 10  primary_cleaner.input.sulfate                       19439 non-null  float64       \n",
      " 11  primary_cleaner.input.depressant                    19439 non-null  float64       \n",
      " 12  primary_cleaner.input.feed_size                     19439 non-null  float64       \n",
      " 13  primary_cleaner.input.xanthate                      19439 non-null  float64       \n",
      " 14  primary_cleaner.output.concentrate_ag               19439 non-null  float64       \n",
      " 15  primary_cleaner.output.concentrate_pb               19439 non-null  float64       \n",
      " 16  primary_cleaner.output.concentrate_sol              19439 non-null  float64       \n",
      " 17  primary_cleaner.output.concentrate_au               19439 non-null  float64       \n",
      " 18  primary_cleaner.output.tail_ag                      19439 non-null  float64       \n",
      " 19  primary_cleaner.output.tail_pb                      19439 non-null  float64       \n",
      " 20  primary_cleaner.output.tail_sol                     19439 non-null  float64       \n",
      " 21  primary_cleaner.output.tail_au                      19439 non-null  float64       \n",
      " 22  primary_cleaner.state.floatbank8_a_air              19439 non-null  float64       \n",
      " 23  primary_cleaner.state.floatbank8_a_level            19439 non-null  float64       \n",
      " 24  primary_cleaner.state.floatbank8_b_air              19439 non-null  float64       \n",
      " 25  primary_cleaner.state.floatbank8_b_level            19439 non-null  float64       \n",
      " 26  primary_cleaner.state.floatbank8_c_air              19439 non-null  float64       \n",
      " 27  primary_cleaner.state.floatbank8_c_level            19439 non-null  float64       \n",
      " 28  primary_cleaner.state.floatbank8_d_air              19439 non-null  float64       \n",
      " 29  primary_cleaner.state.floatbank8_d_level            19439 non-null  float64       \n",
      " 30  rougher.calculation.sulfate_to_au_concentrate       19439 non-null  float64       \n",
      " 31  rougher.calculation.floatbank10_sulfate_to_au_feed  19439 non-null  float64       \n",
      " 32  rougher.calculation.floatbank11_sulfate_to_au_feed  19439 non-null  float64       \n",
      " 33  rougher.calculation.au_pb_ratio                     19439 non-null  float64       \n",
      " 34  rougher.input.feed_ag                               19439 non-null  float64       \n",
      " 35  rougher.input.feed_pb                               19439 non-null  float64       \n",
      " 36  rougher.input.feed_rate                             19439 non-null  float64       \n",
      " 37  rougher.input.feed_size                             19439 non-null  float64       \n",
      " 38  rougher.input.feed_sol                              19439 non-null  float64       \n",
      " 39  rougher.input.feed_au                               19439 non-null  float64       \n",
      " 40  rougher.input.floatbank10_sulfate                   19439 non-null  float64       \n",
      " 41  rougher.input.floatbank10_xanthate                  19439 non-null  float64       \n",
      " 42  rougher.input.floatbank11_sulfate                   19439 non-null  float64       \n",
      " 43  rougher.input.floatbank11_xanthate                  19439 non-null  float64       \n",
      " 44  rougher.output.concentrate_ag                       19439 non-null  float64       \n",
      " 45  rougher.output.concentrate_pb                       19439 non-null  float64       \n",
      " 46  rougher.output.concentrate_sol                      19439 non-null  float64       \n",
      " 47  rougher.output.concentrate_au                       19439 non-null  float64       \n",
      " 48  rougher.output.recovery                             19439 non-null  float64       \n",
      " 49  rougher.output.tail_ag                              19439 non-null  float64       \n",
      " 50  rougher.output.tail_pb                              19439 non-null  float64       \n",
      " 51  rougher.output.tail_sol                             19439 non-null  float64       \n",
      " 52  rougher.output.tail_au                              19439 non-null  float64       \n",
      " 53  rougher.state.floatbank10_a_air                     19439 non-null  float64       \n",
      " 54  rougher.state.floatbank10_a_level                   19439 non-null  float64       \n",
      " 55  rougher.state.floatbank10_b_air                     19439 non-null  float64       \n",
      " 56  rougher.state.floatbank10_b_level                   19439 non-null  float64       \n",
      " 57  rougher.state.floatbank10_c_air                     19439 non-null  float64       \n",
      " 58  rougher.state.floatbank10_c_level                   19439 non-null  float64       \n",
      " 59  rougher.state.floatbank10_d_air                     19439 non-null  float64       \n",
      " 60  rougher.state.floatbank10_d_level                   19439 non-null  float64       \n",
      " 61  rougher.state.floatbank10_e_air                     19439 non-null  float64       \n",
      " 62  rougher.state.floatbank10_e_level                   19439 non-null  float64       \n",
      " 63  rougher.state.floatbank10_f_air                     19439 non-null  float64       \n",
      " 64  rougher.state.floatbank10_f_level                   19439 non-null  float64       \n",
      " 65  secondary_cleaner.output.tail_ag                    19439 non-null  float64       \n",
      " 66  secondary_cleaner.output.tail_pb                    19439 non-null  float64       \n",
      " 67  secondary_cleaner.output.tail_sol                   19439 non-null  float64       \n",
      " 68  secondary_cleaner.output.tail_au                    19439 non-null  float64       \n",
      " 69  secondary_cleaner.state.floatbank2_a_air            19439 non-null  float64       \n",
      " 70  secondary_cleaner.state.floatbank2_a_level          19439 non-null  float64       \n",
      " 71  secondary_cleaner.state.floatbank2_b_air            19439 non-null  float64       \n",
      " 72  secondary_cleaner.state.floatbank2_b_level          19439 non-null  float64       \n",
      " 73  secondary_cleaner.state.floatbank3_a_air            19439 non-null  float64       \n",
      " 74  secondary_cleaner.state.floatbank3_a_level          19439 non-null  float64       \n",
      " 75  secondary_cleaner.state.floatbank3_b_air            19439 non-null  float64       \n",
      " 76  secondary_cleaner.state.floatbank3_b_level          19439 non-null  float64       \n",
      " 77  secondary_cleaner.state.floatbank4_a_air            19439 non-null  float64       \n",
      " 78  secondary_cleaner.state.floatbank4_a_level          19439 non-null  float64       \n",
      " 79  secondary_cleaner.state.floatbank4_b_air            19439 non-null  float64       \n",
      " 80  secondary_cleaner.state.floatbank4_b_level          19439 non-null  float64       \n",
      " 81  secondary_cleaner.state.floatbank5_a_air            19439 non-null  float64       \n",
      " 82  secondary_cleaner.state.floatbank5_a_level          19439 non-null  float64       \n",
      " 83  secondary_cleaner.state.floatbank5_b_air            19439 non-null  float64       \n",
      " 84  secondary_cleaner.state.floatbank5_b_level          19439 non-null  float64       \n",
      " 85  secondary_cleaner.state.floatbank6_a_air            19439 non-null  float64       \n",
      " 86  secondary_cleaner.state.floatbank6_a_level          19439 non-null  float64       \n",
      "dtypes: datetime64[ns](1), float64(86)\n",
      "memory usage: 12.9 MB\n"
     ]
    }
   ],
   "source": [
    "df.info()"
   ]
  },
  {
   "cell_type": "markdown",
   "metadata": {
    "id": "8N7Tqa1uwI-T"
   },
   "source": [
    "Выберем признаки, которые нам подойдут для исследования:\n",
    "\n",
    "* Для сырья:\n",
    "    * `rougher.input.feed_ag`;\n",
    "    * `rougher.input.feed_pb`;\n",
    "    * `rougher.input.feed_sol`;\n",
    "    * `rougher.input.feed_au`.\n",
    "* Для чернового концентрата:\n",
    "    * `rougher.output.concentrate_ag`;\n",
    "    * `rougher.output.concentrate_pb`;\n",
    "    * `rougher.output.concentrate_sol`;\n",
    "    * `rougher.output.concentrate_au`.\n",
    "* После первичной фильтрации:\n",
    "    * `primary_cleaner.output.concentrate_ag`;\n",
    "    * `primary_cleaner.output.concentrate_pb`;\n",
    "    * `primary_cleaner.output.concentrate_sol`;\n",
    "    * `primary_cleaner.output.concentrate_au`.\n",
    "* После вторичной фильтрации:\n",
    "    * `final.output.concentrate_ag`;\n",
    "    * `final.output.concentrate_pb`;\n",
    "    * `final.output.concentrate_sol`;\n",
    "    * `final.output.concentrate_au`;\n",
    "    \n",
    "Теперь соберем датафрейм из этих признаков и построим распредления"
   ]
  },
  {
   "cell_type": "code",
   "execution_count": 40,
   "metadata": {
    "id": "p2RdSoGqwI-U"
   },
   "outputs": [],
   "source": [
    "df['Сырье'] = (\n",
    "    df['rougher.input.feed_ag'] +\n",
    "    df['rougher.input.feed_pb'] +\n",
    "    df['rougher.input.feed_sol'] +\n",
    "    df['rougher.input.feed_au']\n",
    ")\n",
    "df['Черновой концентрат'] = (\n",
    "    df['rougher.output.concentrate_ag'] +\n",
    "    df['rougher.output.concentrate_pb'] +\n",
    "    df['rougher.output.concentrate_sol'] +\n",
    "    df['rougher.output.concentrate_au']\n",
    ")\n",
    "df['Первичная фильтрация'] = (\n",
    "    df['primary_cleaner.output.concentrate_ag'] +\n",
    "    df['primary_cleaner.output.concentrate_pb'] +\n",
    "    df['primary_cleaner.output.concentrate_sol'] +\n",
    "    df['primary_cleaner.output.concentrate_au']\n",
    ")\n",
    "df['Вторичная фильтрация'] = (\n",
    "    df['final.output.concentrate_ag'] +\n",
    "    df['final.output.concentrate_pb'] +\n",
    "    df['final.output.concentrate_sol'] +\n",
    "    df['final.output.concentrate_au']\n",
    ")"
   ]
  },
  {
   "cell_type": "code",
   "execution_count": 41,
   "metadata": {
    "colab": {
     "base_uri": "https://localhost:8080/",
     "height": 621
    },
    "id": "5xsRx1TwwI-U",
    "outputId": "62fa914b-c025-4950-fd4b-28a7d2de67f8"
   },
   "outputs": [
    {
     "data": {
      "image/png": "[encoded data removed]",
      "text/plain": [
       "<Figure size 1440x720 with 1 Axes>"
      ]
     },
     "metadata": {
      "needs_background": "light"
     },
     "output_type": "display_data"
    }
   ],
   "source": [
    "df[['Сырье', \n",
    "    'Черновой концентрат',\n",
    "   'Первичная фильтрация',\n",
    "    'Вторичная фильтрация']].plot(kind = 'hist',\n",
    "                                 figsize = (20,10),\n",
    "                                 grid = True,\n",
    "                                 ec = 'red',\n",
    "                                 bins = 100,\n",
    "                                 alpha = .5)\n",
    "plt.title('Распределение суммарных концентраций веществ')\n",
    "plt.legend(loc = 'upper left');\n",
    "plt.xlabel('Суммарная концентрация');"
   ]
  },
  {
   "cell_type": "markdown",
   "metadata": {
    "id": "gng7HfO2wI-U"
   },
   "source": [
    "На основе графика распределений суммарных концентраций веществ можно сказать, что в среднем суммарная концентрация веществ меньше всего в сырье. При этом, больше всего в черновом концентрате и во вторичной фильтрации. Это говорит нам о том, что в зависимости от фильтрации и ее способа суммарная концентрация веществ может изменяться. Учитывая исследование \"как меняется концентрация металлов от стадии фильтрации\", можно сказать, что такие результаты получили из-за того, что в этом исследовании учитывали дополнительную концентрацию раствора `sol`, которая могла дать такие результаты.\n",
    "\n",
    "Из распределений видим аномальные значения около нуля, посмотрим на числовые характеристики распределений:"
   ]
  },
  {
   "cell_type": "code",
   "execution_count": 42,
   "metadata": {
    "colab": {
     "base_uri": "https://localhost:8080/",
     "height": 300
    },
    "id": "WyuhDyHxwI-U",
    "outputId": "87d768f6-eb9e-4c03-de2e-167fdcc98148"
   },
   "outputs": [
    {
     "data": {
      "text/html": [
       "\n",
       "  <div id=\"df-b31410ba-1e35-4632-800c-a287ae026f5c\">\n",
       "    <div class=\"colab-df-container\">\n",
       "      <div>\n",
       "<style scoped>\n",
       "    .dataframe tbody tr th:only-of-type {\n",
       "        vertical-align: middle;\n",
       "    }\n",
       "\n",
       "    .dataframe tbody tr th {\n",
       "        vertical-align: top;\n",
       "    }\n",
       "\n",
       "    .dataframe thead th {\n",
       "        text-align: right;\n",
       "    }\n",
       "</style>\n",
       "<table border=\"1\" class=\"dataframe\">\n",
       "  <thead>\n",
       "    <tr style=\"text-align: right;\">\n",
       "      <th></th>\n",
       "      <th>Сырье</th>\n",
       "      <th>Черновой концентрат</th>\n",
       "      <th>Первичная фильтрация</th>\n",
       "      <th>Вторичная фильтрация</th>\n",
       "    </tr>\n",
       "  </thead>\n",
       "  <tbody>\n",
       "    <tr>\n",
       "      <th>count</th>\n",
       "      <td>19439.000000</td>\n",
       "      <td>19439.000000</td>\n",
       "      <td>19439.000000</td>\n",
       "      <td>19439.000000</td>\n",
       "    </tr>\n",
       "    <tr>\n",
       "      <th>mean</th>\n",
       "      <td>57.320789</td>\n",
       "      <td>68.170865</td>\n",
       "      <td>60.764731</td>\n",
       "      <td>68.653624</td>\n",
       "    </tr>\n",
       "    <tr>\n",
       "      <th>std</th>\n",
       "      <td>7.212680</td>\n",
       "      <td>12.491279</td>\n",
       "      <td>10.017271</td>\n",
       "      <td>7.427536</td>\n",
       "    </tr>\n",
       "    <tr>\n",
       "      <th>min</th>\n",
       "      <td>0.040000</td>\n",
       "      <td>0.000000</td>\n",
       "      <td>0.000000</td>\n",
       "      <td>0.000000</td>\n",
       "    </tr>\n",
       "    <tr>\n",
       "      <th>25%</th>\n",
       "      <td>53.557679</td>\n",
       "      <td>66.012495</td>\n",
       "      <td>58.929364</td>\n",
       "      <td>67.932362</td>\n",
       "    </tr>\n",
       "    <tr>\n",
       "      <th>50%</th>\n",
       "      <td>57.594391</td>\n",
       "      <td>70.181495</td>\n",
       "      <td>62.497674</td>\n",
       "      <td>69.598444</td>\n",
       "    </tr>\n",
       "    <tr>\n",
       "      <th>75%</th>\n",
       "      <td>61.953459</td>\n",
       "      <td>74.356904</td>\n",
       "      <td>65.667336</td>\n",
       "      <td>71.368472</td>\n",
       "    </tr>\n",
       "    <tr>\n",
       "      <th>max</th>\n",
       "      <td>76.978947</td>\n",
       "      <td>88.140119</td>\n",
       "      <td>80.749343</td>\n",
       "      <td>80.210644</td>\n",
       "    </tr>\n",
       "  </tbody>\n",
       "</table>\n",
       "</div>\n",
       "      <button class=\"colab-df-convert\" onclick=\"convertToInteractive('df-b31410ba-1e35-4632-800c-a287ae026f5c')\"\n",
       "              title=\"Convert this dataframe to an interactive table.\"\n",
       "              style=\"display:none;\">\n",
       "        \n",
       "  <svg xmlns=\"http://www.w3.org/2000/svg\" height=\"24px\"viewBox=\"0 0 24 24\"\n",
       "       width=\"24px\">\n",
       "    <path d=\"M0 0h24v24H0V0z\" fill=\"none\"/>\n",
       "    <path d=\"M18.56 5.44l.94 2.06.94-2.06 2.06-.94-2.06-.94-.94-2.06-.94 2.06-2.06.94zm-11 1L8.5 8.5l.94-2.06 2.06-.94-2.06-.94L8.5 2.5l-.94 2.06-2.06.94zm10 10l.94 2.06.94-2.06 2.06-.94-2.06-.94-.94-2.06-.94 2.06-2.06.94z\"/><path d=\"M17.41 7.96l-1.37-1.37c-.4-.4-.92-.59-1.43-.59-.52 0-1.04.2-1.43.59L10.3 9.45l-7.72 7.72c-.78.78-.78 2.05 0 2.83L4 21.41c.39.39.9.59 1.41.59.51 0 1.02-.2 1.41-.59l7.78-7.78 2.81-2.81c.8-.78.8-2.07 0-2.86zM5.41 20L4 18.59l7.72-7.72 1.47 1.35L5.41 20z\"/>\n",
       "  </svg>\n",
       "      </button>\n",
       "      \n",
       "  <style>\n",
       "    .colab-df-container {\n",
       "      display:flex;\n",
       "      flex-wrap:wrap;\n",
       "      gap: 12px;\n",
       "    }\n",
       "\n",
       "    .colab-df-convert {\n",
       "      background-color: #E8F0FE;\n",
       "      border: none;\n",
       "      border-radius: 50%;\n",
       "      cursor: pointer;\n",
       "      display: none;\n",
       "      fill: #1967D2;\n",
       "      height: 32px;\n",
       "      padding: 0 0 0 0;\n",
       "      width: 32px;\n",
       "    }\n",
       "\n",
       "    .colab-df-convert:hover {\n",
       "      background-color: #E2EBFA;\n",
       "      box-shadow: 0px 1px 2px rgba(60, 64, 67, 0.3), 0px 1px 3px 1px rgba(60, 64, 67, 0.15);\n",
       "      fill: #174EA6;\n",
       "    }\n",
       "\n",
       "    [theme=dark] .colab-df-convert {\n",
       "      background-color: #3B4455;\n",
       "      fill: #D2E3FC;\n",
       "    }\n",
       "\n",
       "    [theme=dark] .colab-df-convert:hover {\n",
       "      background-color: #434B5C;\n",
       "      box-shadow: 0px 1px 3px 1px rgba(0, 0, 0, 0.15);\n",
       "      filter: drop-shadow(0px 1px 2px rgba(0, 0, 0, 0.3));\n",
       "      fill: #FFFFFF;\n",
       "    }\n",
       "  </style>\n",
       "\n",
       "      <script>\n",
       "        const buttonEl =\n",
       "          document.querySelector('#df-b31410ba-1e35-4632-800c-a287ae026f5c button.colab-df-convert');\n",
       "        buttonEl.style.display =\n",
       "          google.colab.kernel.accessAllowed ? 'block' : 'none';\n",
       "\n",
       "        async function convertToInteractive(key) {\n",
       "          const element = document.querySelector('#df-b31410ba-1e35-4632-800c-a287ae026f5c');\n",
       "          const dataTable =\n",
       "            await google.colab.kernel.invokeFunction('convertToInteractive',\n",
       "                                                     [key], {});\n",
       "          if (!dataTable) return;\n",
       "\n",
       "          const docLinkHtml = 'Like what you see? Visit the ' +\n",
       "            '<a target=\"_blank\" href=https://colab.research.google.com/notebooks/data_table.ipynb>data table notebook</a>'\n",
       "            + ' to learn more about interactive tables.';\n",
       "          element.innerHTML = '';\n",
       "          dataTable['output_type'] = 'display_data';\n",
       "          await google.colab.output.renderOutput(dataTable, element);\n",
       "          const docLink = document.createElement('div');\n",
       "          docLink.innerHTML = docLinkHtml;\n",
       "          element.appendChild(docLink);\n",
       "        }\n",
       "      </script>\n",
       "    </div>\n",
       "  </div>\n",
       "  "
      ],
      "text/plain": [
       "              Сырье  Черновой концентрат  Первичная фильтрация  \\\n",
       "count  19439.000000         19439.000000          19439.000000   \n",
       "mean      57.320789            68.170865             60.764731   \n",
       "std        7.212680            12.491279             10.017271   \n",
       "min        0.040000             0.000000              0.000000   \n",
       "25%       53.557679            66.012495             58.929364   \n",
       "50%       57.594391            70.181495             62.497674   \n",
       "75%       61.953459            74.356904             65.667336   \n",
       "max       76.978947            88.140119             80.749343   \n",
       "\n",
       "       Вторичная фильтрация  \n",
       "count          19439.000000  \n",
       "mean              68.653624  \n",
       "std                7.427536  \n",
       "min                0.000000  \n",
       "25%               67.932362  \n",
       "50%               69.598444  \n",
       "75%               71.368472  \n",
       "max               80.210644  "
      ]
     },
     "execution_count": 42,
     "metadata": {},
     "output_type": "execute_result"
    }
   ],
   "source": [
    "df[['Сырье', \n",
    "    'Черновой концентрат',\n",
    "   'Первичная фильтрация',\n",
    "    'Вторичная фильтрация']].describe()"
   ]
  },
  {
   "cell_type": "markdown",
   "metadata": {
    "id": "2ozvPcoUwI-U"
   },
   "source": [
    "Видим, что у нас есть значения, равные нулю. При этом их количество меньше 500 (приблизительно 400 значений). Это означает, что были моменты, когда после фильтрации мы получили ничего в прямом смысле. Такие значения исказаят обучение модели и нужно отфильтровать."
   ]
  },
  {
   "cell_type": "code",
   "execution_count": 43,
   "metadata": {
    "id": "veN_QJR_wI-V"
   },
   "outputs": [],
   "source": [
    "df = df[(df['Сырье'] >= 1) &\n",
    "        (df['Черновой концентрат'] >= 1) &\n",
    "       (df['Первичная фильтрация'] >= 1) &\n",
    "       (df['Вторичная фильтрация'] >= 1)]"
   ]
  },
  {
   "cell_type": "markdown",
   "metadata": {
    "id": "6oWcYDeawI-V"
   },
   "source": [
    "Посмотрим, что у нас получилось:"
   ]
  },
  {
   "cell_type": "code",
   "execution_count": 44,
   "metadata": {
    "colab": {
     "base_uri": "https://localhost:8080/",
     "height": 300
    },
    "id": "3LcQOr96wI-V",
    "outputId": "20d6b5b3-0f00-4298-cbbd-58ab22cfede9"
   },
   "outputs": [
    {
     "data": {
      "text/html": [
       "\n",
       "  <div id=\"df-cafcf2d8-9882-4743-bd41-71de87b1b765\">\n",
       "    <div class=\"colab-df-container\">\n",
       "      <div>\n",
       "<style scoped>\n",
       "    .dataframe tbody tr th:only-of-type {\n",
       "        vertical-align: middle;\n",
       "    }\n",
       "\n",
       "    .dataframe tbody tr th {\n",
       "        vertical-align: top;\n",
       "    }\n",
       "\n",
       "    .dataframe thead th {\n",
       "        text-align: right;\n",
       "    }\n",
       "</style>\n",
       "<table border=\"1\" class=\"dataframe\">\n",
       "  <thead>\n",
       "    <tr style=\"text-align: right;\">\n",
       "      <th></th>\n",
       "      <th>Сырье</th>\n",
       "      <th>Черновой концентрат</th>\n",
       "      <th>Первичная фильтрация</th>\n",
       "      <th>Вторичная фильтрация</th>\n",
       "    </tr>\n",
       "  </thead>\n",
       "  <tbody>\n",
       "    <tr>\n",
       "      <th>count</th>\n",
       "      <td>18722.000000</td>\n",
       "      <td>18722.000000</td>\n",
       "      <td>18722.000000</td>\n",
       "      <td>18722.000000</td>\n",
       "    </tr>\n",
       "    <tr>\n",
       "      <th>mean</th>\n",
       "      <td>57.350936</td>\n",
       "      <td>69.633481</td>\n",
       "      <td>61.467680</td>\n",
       "      <td>69.035859</td>\n",
       "    </tr>\n",
       "    <tr>\n",
       "      <th>std</th>\n",
       "      <td>7.089930</td>\n",
       "      <td>7.651370</td>\n",
       "      <td>7.445848</td>\n",
       "      <td>5.458724</td>\n",
       "    </tr>\n",
       "    <tr>\n",
       "      <th>min</th>\n",
       "      <td>8.072476</td>\n",
       "      <td>2.016647</td>\n",
       "      <td>1.083422</td>\n",
       "      <td>1.976540</td>\n",
       "    </tr>\n",
       "    <tr>\n",
       "      <th>25%</th>\n",
       "      <td>53.552246</td>\n",
       "      <td>66.389891</td>\n",
       "      <td>59.094492</td>\n",
       "      <td>67.946259</td>\n",
       "    </tr>\n",
       "    <tr>\n",
       "      <th>50%</th>\n",
       "      <td>57.600880</td>\n",
       "      <td>70.345534</td>\n",
       "      <td>62.533581</td>\n",
       "      <td>69.609421</td>\n",
       "    </tr>\n",
       "    <tr>\n",
       "      <th>75%</th>\n",
       "      <td>61.956159</td>\n",
       "      <td>74.460165</td>\n",
       "      <td>65.658261</td>\n",
       "      <td>71.388643</td>\n",
       "    </tr>\n",
       "    <tr>\n",
       "      <th>max</th>\n",
       "      <td>76.978947</td>\n",
       "      <td>88.140119</td>\n",
       "      <td>80.749343</td>\n",
       "      <td>80.210644</td>\n",
       "    </tr>\n",
       "  </tbody>\n",
       "</table>\n",
       "</div>\n",
       "      <button class=\"colab-df-convert\" onclick=\"convertToInteractive('df-cafcf2d8-9882-4743-bd41-71de87b1b765')\"\n",
       "              title=\"Convert this dataframe to an interactive table.\"\n",
       "              style=\"display:none;\">\n",
       "        \n",
       "  <svg xmlns=\"http://www.w3.org/2000/svg\" height=\"24px\"viewBox=\"0 0 24 24\"\n",
       "       width=\"24px\">\n",
       "    <path d=\"M0 0h24v24H0V0z\" fill=\"none\"/>\n",
       "    <path d=\"M18.56 5.44l.94 2.06.94-2.06 2.06-.94-2.06-.94-.94-2.06-.94 2.06-2.06.94zm-11 1L8.5 8.5l.94-2.06 2.06-.94-2.06-.94L8.5 2.5l-.94 2.06-2.06.94zm10 10l.94 2.06.94-2.06 2.06-.94-2.06-.94-.94-2.06-.94 2.06-2.06.94z\"/><path d=\"M17.41 7.96l-1.37-1.37c-.4-.4-.92-.59-1.43-.59-.52 0-1.04.2-1.43.59L10.3 9.45l-7.72 7.72c-.78.78-.78 2.05 0 2.83L4 21.41c.39.39.9.59 1.41.59.51 0 1.02-.2 1.41-.59l7.78-7.78 2.81-2.81c.8-.78.8-2.07 0-2.86zM5.41 20L4 18.59l7.72-7.72 1.47 1.35L5.41 20z\"/>\n",
       "  </svg>\n",
       "      </button>\n",
       "      \n",
       "  <style>\n",
       "    .colab-df-container {\n",
       "      display:flex;\n",
       "      flex-wrap:wrap;\n",
       "      gap: 12px;\n",
       "    }\n",
       "\n",
       "    .colab-df-convert {\n",
       "      background-color: #E8F0FE;\n",
       "      border: none;\n",
       "      border-radius: 50%;\n",
       "      cursor: pointer;\n",
       "      display: none;\n",
       "      fill: #1967D2;\n",
       "      height: 32px;\n",
       "      padding: 0 0 0 0;\n",
       "      width: 32px;\n",
       "    }\n",
       "\n",
       "    .colab-df-convert:hover {\n",
       "      background-color: #E2EBFA;\n",
       "      box-shadow: 0px 1px 2px rgba(60, 64, 67, 0.3), 0px 1px 3px 1px rgba(60, 64, 67, 0.15);\n",
       "      fill: #174EA6;\n",
       "    }\n",
       "\n",
       "    [theme=dark] .colab-df-convert {\n",
       "      background-color: #3B4455;\n",
       "      fill: #D2E3FC;\n",
       "    }\n",
       "\n",
       "    [theme=dark] .colab-df-convert:hover {\n",
       "      background-color: #434B5C;\n",
       "      box-shadow: 0px 1px 3px 1px rgba(0, 0, 0, 0.15);\n",
       "      filter: drop-shadow(0px 1px 2px rgba(0, 0, 0, 0.3));\n",
       "      fill: #FFFFFF;\n",
       "    }\n",
       "  </style>\n",
       "\n",
       "      <script>\n",
       "        const buttonEl =\n",
       "          document.querySelector('#df-cafcf2d8-9882-4743-bd41-71de87b1b765 button.colab-df-convert');\n",
       "        buttonEl.style.display =\n",
       "          google.colab.kernel.accessAllowed ? 'block' : 'none';\n",
       "\n",
       "        async function convertToInteractive(key) {\n",
       "          const element = document.querySelector('#df-cafcf2d8-9882-4743-bd41-71de87b1b765');\n",
       "          const dataTable =\n",
       "            await google.colab.kernel.invokeFunction('convertToInteractive',\n",
       "                                                     [key], {});\n",
       "          if (!dataTable) return;\n",
       "\n",
       "          const docLinkHtml = 'Like what you see? Visit the ' +\n",
       "            '<a target=\"_blank\" href=https://colab.research.google.com/notebooks/data_table.ipynb>data table notebook</a>'\n",
       "            + ' to learn more about interactive tables.';\n",
       "          element.innerHTML = '';\n",
       "          dataTable['output_type'] = 'display_data';\n",
       "          await google.colab.output.renderOutput(dataTable, element);\n",
       "          const docLink = document.createElement('div');\n",
       "          docLink.innerHTML = docLinkHtml;\n",
       "          element.appendChild(docLink);\n",
       "        }\n",
       "      </script>\n",
       "    </div>\n",
       "  </div>\n",
       "  "
      ],
      "text/plain": [
       "              Сырье  Черновой концентрат  Первичная фильтрация  \\\n",
       "count  18722.000000         18722.000000          18722.000000   \n",
       "mean      57.350936            69.633481             61.467680   \n",
       "std        7.089930             7.651370              7.445848   \n",
       "min        8.072476             2.016647              1.083422   \n",
       "25%       53.552246            66.389891             59.094492   \n",
       "50%       57.600880            70.345534             62.533581   \n",
       "75%       61.956159            74.460165             65.658261   \n",
       "max       76.978947            88.140119             80.749343   \n",
       "\n",
       "       Вторичная фильтрация  \n",
       "count          18722.000000  \n",
       "mean              69.035859  \n",
       "std                5.458724  \n",
       "min                1.976540  \n",
       "25%               67.946259  \n",
       "50%               69.609421  \n",
       "75%               71.388643  \n",
       "max               80.210644  "
      ]
     },
     "execution_count": 44,
     "metadata": {},
     "output_type": "execute_result"
    }
   ],
   "source": [
    "df[['Сырье', \n",
    "    'Черновой концентрат',\n",
    "   'Первичная фильтрация',\n",
    "    'Вторичная фильтрация']].describe()"
   ]
  },
  {
   "cell_type": "code",
   "execution_count": 45,
   "metadata": {
    "colab": {
     "base_uri": "https://localhost:8080/",
     "height": 621
    },
    "id": "LEayeMOkwI-V",
    "outputId": "7eed08b2-0410-4f81-8ca6-31b0d7842b6e"
   },
   "outputs": [
    {
     "data": {
      "image/png": "[encoded data removed]",
      "text/plain": [
       "<Figure size 1440x720 with 1 Axes>"
      ]
     },
     "metadata": {
      "needs_background": "light"
     },
     "output_type": "display_data"
    }
   ],
   "source": [
    "df[['Сырье', \n",
    "    'Черновой концентрат',\n",
    "   'Первичная фильтрация',\n",
    "    'Вторичная фильтрация']].plot(kind = 'hist',\n",
    "                                 figsize = (20,10),\n",
    "                                 grid = True,\n",
    "                                 ec = 'red',\n",
    "                                 bins = 100,\n",
    "                                 alpha = .5)\n",
    "plt.title('Распределение суммарных концентраций веществ после очистки от аномалий')\n",
    "plt.legend(loc = 'upper left');\n",
    "plt.xlabel('Суммарная концентрация');"
   ]
  },
  {
   "cell_type": "markdown",
   "metadata": {
    "id": "fJg8eEyXwI-V"
   },
   "source": [
    "Видим, что от аномальных значений мы избавились. Теперь осталось отфильтровать обучающую и тестовые выборки от аномальных значений."
   ]
  },
  {
   "cell_type": "code",
   "execution_count": 46,
   "metadata": {
    "id": "Ofy5xSiwwI-V"
   },
   "outputs": [],
   "source": [
    "test = test[test['date'].isin(df['date'])]"
   ]
  },
  {
   "cell_type": "code",
   "execution_count": 47,
   "metadata": {
    "id": "z7VytyLWwI-W"
   },
   "outputs": [],
   "source": [
    "train = train[train['date'].isin(df['date'])]"
   ]
  },
  {
   "cell_type": "markdown",
   "metadata": {
    "id": "l1X7DSlSwI-W"
   },
   "source": [
    "Убедимся, что пропусков нет"
   ]
  },
  {
   "cell_type": "code",
   "execution_count": 48,
   "metadata": {
    "colab": {
     "base_uri": "https://localhost:8080/"
    },
    "id": "hhyX4bIVwI-W",
    "outputId": "01fdaeab-83b0-48a2-bbfa-fc46243d7372"
   },
   "outputs": [
    {
     "data": {
      "text/plain": [
       "date                                          0.0\n",
       "primary_cleaner.input.sulfate                 0.0\n",
       "primary_cleaner.input.depressant              0.0\n",
       "primary_cleaner.input.feed_size               0.0\n",
       "primary_cleaner.input.xanthate                0.0\n",
       "primary_cleaner.state.floatbank8_a_air        0.0\n",
       "primary_cleaner.state.floatbank8_a_level      0.0\n",
       "primary_cleaner.state.floatbank8_b_air        0.0\n",
       "primary_cleaner.state.floatbank8_b_level      0.0\n",
       "primary_cleaner.state.floatbank8_c_air        0.0\n",
       "primary_cleaner.state.floatbank8_c_level      0.0\n",
       "primary_cleaner.state.floatbank8_d_air        0.0\n",
       "primary_cleaner.state.floatbank8_d_level      0.0\n",
       "rougher.input.feed_ag                         0.0\n",
       "rougher.input.feed_pb                         0.0\n",
       "rougher.input.feed_rate                       0.0\n",
       "rougher.input.feed_size                       0.0\n",
       "rougher.input.feed_sol                        0.0\n",
       "rougher.input.feed_au                         0.0\n",
       "rougher.input.floatbank10_sulfate             0.0\n",
       "rougher.input.floatbank10_xanthate            0.0\n",
       "rougher.input.floatbank11_sulfate             0.0\n",
       "rougher.input.floatbank11_xanthate            0.0\n",
       "rougher.state.floatbank10_a_air               0.0\n",
       "rougher.state.floatbank10_a_level             0.0\n",
       "rougher.state.floatbank10_b_air               0.0\n",
       "rougher.state.floatbank10_b_level             0.0\n",
       "rougher.state.floatbank10_c_air               0.0\n",
       "rougher.state.floatbank10_c_level             0.0\n",
       "rougher.state.floatbank10_d_air               0.0\n",
       "rougher.state.floatbank10_d_level             0.0\n",
       "rougher.state.floatbank10_e_air               0.0\n",
       "rougher.state.floatbank10_e_level             0.0\n",
       "rougher.state.floatbank10_f_air               0.0\n",
       "rougher.state.floatbank10_f_level             0.0\n",
       "secondary_cleaner.state.floatbank2_a_air      0.0\n",
       "secondary_cleaner.state.floatbank2_a_level    0.0\n",
       "secondary_cleaner.state.floatbank2_b_air      0.0\n",
       "secondary_cleaner.state.floatbank2_b_level    0.0\n",
       "secondary_cleaner.state.floatbank3_a_air      0.0\n",
       "secondary_cleaner.state.floatbank3_a_level    0.0\n",
       "secondary_cleaner.state.floatbank3_b_air      0.0\n",
       "secondary_cleaner.state.floatbank3_b_level    0.0\n",
       "secondary_cleaner.state.floatbank4_a_air      0.0\n",
       "secondary_cleaner.state.floatbank4_a_level    0.0\n",
       "secondary_cleaner.state.floatbank4_b_air      0.0\n",
       "secondary_cleaner.state.floatbank4_b_level    0.0\n",
       "secondary_cleaner.state.floatbank5_a_air      0.0\n",
       "secondary_cleaner.state.floatbank5_a_level    0.0\n",
       "secondary_cleaner.state.floatbank5_b_air      0.0\n",
       "secondary_cleaner.state.floatbank5_b_level    0.0\n",
       "secondary_cleaner.state.floatbank6_a_air      0.0\n",
       "secondary_cleaner.state.floatbank6_a_level    0.0\n",
       "rougher.output.recovery                       0.0\n",
       "final.output.recovery                         0.0\n",
       "dtype: float64"
      ]
     },
     "execution_count": 48,
     "metadata": {},
     "output_type": "execute_result"
    }
   ],
   "source": [
    "test.isna().mean()"
   ]
  },
  {
   "cell_type": "code",
   "execution_count": 49,
   "metadata": {
    "colab": {
     "base_uri": "https://localhost:8080/"
    },
    "id": "FXhgTJC4wI-W",
    "outputId": "8650fd79-475f-4ab1-ecab-922da53d271e"
   },
   "outputs": [
    {
     "data": {
      "text/plain": [
       "date                                          0.0\n",
       "primary_cleaner.input.sulfate                 0.0\n",
       "primary_cleaner.input.depressant              0.0\n",
       "primary_cleaner.input.feed_size               0.0\n",
       "primary_cleaner.input.xanthate                0.0\n",
       "primary_cleaner.state.floatbank8_a_air        0.0\n",
       "primary_cleaner.state.floatbank8_a_level      0.0\n",
       "primary_cleaner.state.floatbank8_b_air        0.0\n",
       "primary_cleaner.state.floatbank8_b_level      0.0\n",
       "primary_cleaner.state.floatbank8_c_air        0.0\n",
       "primary_cleaner.state.floatbank8_c_level      0.0\n",
       "primary_cleaner.state.floatbank8_d_air        0.0\n",
       "primary_cleaner.state.floatbank8_d_level      0.0\n",
       "rougher.input.feed_ag                         0.0\n",
       "rougher.input.feed_pb                         0.0\n",
       "rougher.input.feed_rate                       0.0\n",
       "rougher.input.feed_size                       0.0\n",
       "rougher.input.feed_sol                        0.0\n",
       "rougher.input.feed_au                         0.0\n",
       "rougher.input.floatbank10_sulfate             0.0\n",
       "rougher.input.floatbank10_xanthate            0.0\n",
       "rougher.input.floatbank11_sulfate             0.0\n",
       "rougher.input.floatbank11_xanthate            0.0\n",
       "rougher.state.floatbank10_a_air               0.0\n",
       "rougher.state.floatbank10_a_level             0.0\n",
       "rougher.state.floatbank10_b_air               0.0\n",
       "rougher.state.floatbank10_b_level             0.0\n",
       "rougher.state.floatbank10_c_air               0.0\n",
       "rougher.state.floatbank10_c_level             0.0\n",
       "rougher.state.floatbank10_d_air               0.0\n",
       "rougher.state.floatbank10_d_level             0.0\n",
       "rougher.state.floatbank10_e_air               0.0\n",
       "rougher.state.floatbank10_e_level             0.0\n",
       "rougher.state.floatbank10_f_air               0.0\n",
       "rougher.state.floatbank10_f_level             0.0\n",
       "secondary_cleaner.state.floatbank2_a_air      0.0\n",
       "secondary_cleaner.state.floatbank2_a_level    0.0\n",
       "secondary_cleaner.state.floatbank2_b_air      0.0\n",
       "secondary_cleaner.state.floatbank2_b_level    0.0\n",
       "secondary_cleaner.state.floatbank3_a_air      0.0\n",
       "secondary_cleaner.state.floatbank3_a_level    0.0\n",
       "secondary_cleaner.state.floatbank3_b_air      0.0\n",
       "secondary_cleaner.state.floatbank3_b_level    0.0\n",
       "secondary_cleaner.state.floatbank4_a_air      0.0\n",
       "secondary_cleaner.state.floatbank4_a_level    0.0\n",
       "secondary_cleaner.state.floatbank4_b_air      0.0\n",
       "secondary_cleaner.state.floatbank4_b_level    0.0\n",
       "secondary_cleaner.state.floatbank5_a_air      0.0\n",
       "secondary_cleaner.state.floatbank5_a_level    0.0\n",
       "secondary_cleaner.state.floatbank5_b_air      0.0\n",
       "secondary_cleaner.state.floatbank5_b_level    0.0\n",
       "secondary_cleaner.state.floatbank6_a_air      0.0\n",
       "secondary_cleaner.state.floatbank6_a_level    0.0\n",
       "rougher.output.recovery                       0.0\n",
       "final.output.recovery                         0.0\n",
       "dtype: float64"
      ]
     },
     "execution_count": 49,
     "metadata": {},
     "output_type": "execute_result"
    }
   ],
   "source": [
    "train.isna().mean()"
   ]
  },
  {
   "cell_type": "markdown",
   "metadata": {
    "id": "-qYTratfwI-W"
   },
   "source": [
    "Сбросим индексы в обучающей и тестовой выборках:"
   ]
  },
  {
   "cell_type": "code",
   "execution_count": 50,
   "metadata": {
    "id": "SJmIzJhSwI-W"
   },
   "outputs": [],
   "source": [
    "test = test.reset_index(drop = True)\n",
    "train = train.reset_index(drop = True)"
   ]
  },
  {
   "cell_type": "markdown",
   "metadata": {},
   "source": [
    "<div class=\"alert alert-block alert-success\">\n",
    "<b>Комментарий ревьюера👍:</b> Молодец, что \"убил\" нулевые аномалии. Дело в том, что хоть грамм чего-нибудь но есть в \"суммарной руде\"- соль+золото+серебро+свинец - точно что-то должно быть.. А если мы имеем ноль, значит большая вероятность неточности измерений. Общая идея какая с суммарной концентрацией: отдельно по каждой руде нуль может быть (взяли лопату руды - и нет там золота - не всегда же есть крупинки..). А вот нуль суммарно - это уже вряд ли (в этой лопате хоть что-то но будет).\n",
    "</div>\n"
   ]
  },
  {
   "cell_type": "markdown",
   "metadata": {
    "id": "iuuP8cDjwI-W"
   },
   "source": [
    "### Вывод\n",
    "\n",
    "Провели исследовательский анализ данных, в результате которого установили:\n",
    "\n",
    "* С каждым этапом очистки сырья, у нас растет концентрация золота (Au), концентрация серебра (Ag) уменьшается с каждым этап процесса обработки руды. А концентрация свинца практически не меняется на каждом этапе процесса обработки сырья.\n",
    "* Распределения признака \"размер гранул сырья\" для каждой выборки несильно отличаются друг от друга.\n",
    "* Провели исследование распределений суммарных концентраций веществ. Обнаружили аномальные нулевые значения и избавились от них.\n",
    "\n",
    "После того, как провели исследование данных. Приступим к обучению модели."
   ]
  },
  {
   "cell_type": "markdown",
   "metadata": {
    "id": "daicWF05wI-X"
   },
   "source": [
    "## Обучение моделей <a id=\"6\"></a>"
   ]
  },
  {
   "cell_type": "markdown",
   "metadata": {
    "id": "V6fNokpMwI-X"
   },
   "source": [
    "Для начала сформируем признаки (features) и целевые признаки (target) для обучающей и тестовой выборок. А также удалим лишние для обучения признаки (столбец `date`).\n",
    "\n",
    "Напомним:\n",
    "* Целевые признаки:\n",
    "    * эффективность обогащения чернового концентрата `rougher.output.recovery`;\n",
    "    * эффективность обогащения финального концентрата `final.output.recovery`.\n",
    "* Обучающие признаки - все остальное"
   ]
  },
  {
   "cell_type": "code",
   "execution_count": 51,
   "metadata": {
    "id": "bGwAxyTvwI-X"
   },
   "outputs": [],
   "source": [
    "# формируем параметры из обучающей выборки для машинного обучения\n",
    "train_features = train.drop(['date', 'rougher.output.recovery', 'final.output.recovery'], axis = 1)\n",
    "train_target_rougher = train['rougher.output.recovery']\n",
    "train_target_final = train['final.output.recovery']"
   ]
  },
  {
   "cell_type": "code",
   "execution_count": 52,
   "metadata": {
    "id": "xZWSLhlX11Tz"
   },
   "outputs": [],
   "source": [
    "# формируем параметры из тестовой выборки для машинного обучения\n",
    "test_features = test.drop(['date', 'rougher.output.recovery', 'final.output.recovery'], axis = 1)\n",
    "test_target_rougher = test['rougher.output.recovery']\n",
    "test_target_final = test['final.output.recovery']"
   ]
  },
  {
   "cell_type": "markdown",
   "metadata": {
    "id": "Vf2Qwk-K3bNB"
   },
   "source": [
    "Проверим корректность полученных параметров:"
   ]
  },
  {
   "cell_type": "code",
   "execution_count": 53,
   "metadata": {
    "colab": {
     "base_uri": "https://localhost:8080/"
    },
    "id": "sZPXL_yK2CsH",
    "outputId": "c9263517-9336-4706-bade-239d41c16753"
   },
   "outputs": [
    {
     "name": "stdout",
     "output_type": "stream",
     "text": [
      "Train:\n",
      "(13599, 52)\n",
      "(13599,)\n",
      "(13599,)\n"
     ]
    }
   ],
   "source": [
    "print('Train:', train_features.shape, \n",
    "      train_target_rougher.shape,\n",
    "      train_target_final.shape, sep = '\\n')"
   ]
  },
  {
   "cell_type": "code",
   "execution_count": 54,
   "metadata": {
    "colab": {
     "base_uri": "https://localhost:8080/"
    },
    "id": "hJp-LN_W31Vc",
    "outputId": "27c09e26-542a-4ac9-b150-7306fdbdc05d"
   },
   "outputs": [
    {
     "name": "stdout",
     "output_type": "stream",
     "text": [
      "Test:\n",
      "(5123, 52)\n",
      "(5123,)\n",
      "(5123,)\n"
     ]
    }
   ],
   "source": [
    "print('Test:', test_features.shape, \n",
    "      test_target_rougher.shape,\n",
    "      test_target_final.shape, sep = '\\n')"
   ]
  },
  {
   "cell_type": "markdown",
   "metadata": {
    "id": "Moennqha3_fZ"
   },
   "source": [
    "Получили необходимые параметры."
   ]
  },
  {
   "cell_type": "markdown",
   "metadata": {
    "id": "KwTvIW434EIB"
   },
   "source": [
    "### Реализация метрики sMAPE <a id=\"6_1\"></a>"
   ]
  },
  {
   "cell_type": "markdown",
   "metadata": {
    "id": "BZ7BW0344LY0"
   },
   "source": [
    "Для начала рассмотрим, что такое метрика sMAPE:\n",
    "\n",
    "$$sMAPE =  \\frac{1}{N}\\sum_{i = 1}^{N}\\frac{\\left| y_{i} - \\hat{y}_{i} \\right|}{\\frac{\\left| y_{i}\\right|+\\left| \\hat{y}_{i}\\right|}{2}}\\cdot 100\\%$$\n",
    "\n",
    "Где:\n",
    "\n",
    "$y_{i}$ - значение целевого признака;\n",
    "\n",
    "$\\hat{y}_{i}$ - значение предсказания:\n",
    "\n",
    "Итоговое $sMAPE$ представляет собой:\n",
    "\n",
    "$$sMAPE_{total} = 0.25\\% \\cdot sMAPE_{rougher} + 0.75 \\% \\cdot sMAPE_{final}$$ \n",
    "\n",
    "Где:\n",
    "\n",
    "$sMAPE_{rougher}$ - значение метрики $sMAPE$ для чернового концентрата;\n",
    "\n",
    "$sMAPE_{final}$ - значение метрики $sMAPE$ после очистки.\n",
    "\n",
    "Теперь реализуем нашу функцию $sMAPE$ и $sMAPE_{total}$"
   ]
  },
  {
   "cell_type": "code",
   "execution_count": 55,
   "metadata": {
    "id": "UX7PyOrl39g-"
   },
   "outputs": [],
   "source": [
    "def smape(target: pd. Series, predictions: pd.Series):\n",
    "    # числитель:\n",
    "    num = abs(target - predictions)\n",
    "    # знаменатель:\n",
    "    denum = (abs(target) + abs(predictions)) / 2\n",
    "    # сумма\n",
    "    sum = (num/denum).sum()\n",
    "    # общий результат\n",
    "    result = (1/len(target)) * sum * 100\n",
    "    return result"
   ]
  },
  {
   "cell_type": "code",
   "execution_count": 56,
   "metadata": {
    "id": "VJUo3x6L9fW2"
   },
   "outputs": [],
   "source": [
    "def smape_total(smape_rougher : float , smape_final: float):\n",
    "    return  .25 * smape_rougher + .75 * smape_final"
   ]
  },
  {
   "cell_type": "markdown",
   "metadata": {
    "id": "t3OjCnPeAyvw"
   },
   "source": [
    "После того, как написали функцию подсчета метрики, перейдем к обучению моделей.\n",
    "\n",
    "Для задачи регресии выбрали две лучшие модели:\n",
    "\n",
    "* Модель случайного леса;\n",
    "* Модель линейной регрессии."
   ]
  },
  {
   "cell_type": "markdown",
   "metadata": {
    "id": "hPceopgoBJPL"
   },
   "source": [
    "### Обучение модели <a id=\"6_2\"></a>"
   ]
  },
  {
   "cell_type": "markdown",
   "metadata": {
    "id": "OcQjq2DfBRxX"
   },
   "source": [
    "Прежде всего подберем наилучшие гиперпараметры."
   ]
  },
  {
   "cell_type": "code",
   "execution_count": 57,
   "metadata": {
    "id": "1GY9zNiiBZGh"
   },
   "outputs": [],
   "source": [
    "# формируем метрику\n",
    "# которую будем использовать \n",
    "# на кросс-валидации и поиске гипепараметров\n",
    "scorer = make_scorer(smape, greater_is_better=False)"
   ]
  },
  {
   "cell_type": "markdown",
   "metadata": {},
   "source": [
    "<div class=\"alert alert-block alert-success\">\n",
    "<b>Комментарий ревьюера👍:</b> Абсолютно верно, молодец, что использовал greater_is_better=False, так как по умолчанию функция make_scorer максимизирует\n",
    "</div>\n"
   ]
  },
  {
   "cell_type": "code",
   "execution_count": 58,
   "metadata": {
    "id": "NoHOOPF7-YaS"
   },
   "outputs": [],
   "source": [
    "# параметры, которые мы перебираем\n",
    "parameters = {\n",
    "    'n_estimators': range(10, 51,10),\n",
    "    'max_depth': range(1,7,2)\n",
    "}"
   ]
  },
  {
   "cell_type": "code",
   "execution_count": 59,
   "metadata": {
    "colab": {
     "base_uri": "https://localhost:8080/"
    },
    "id": "i3CKHQ8XC899",
    "outputId": "c83e25f4-83d4-4297-dc61-16a639977a90"
   },
   "outputs": [
    {
     "data": {
      "text/plain": [
       "GridSearchCV(cv=5, estimator=RandomForestRegressor(random_state=12345),\n",
       "             param_grid={'max_depth': range(1, 7, 2),\n",
       "                         'n_estimators': range(10, 51, 10)},\n",
       "             scoring=make_scorer(smape, greater_is_better=False))"
      ]
     },
     "execution_count": 59,
     "metadata": {},
     "output_type": "execute_result"
    }
   ],
   "source": [
    "# гиперпараметры, когда целевой признак - черновой концентрат\n",
    "model = RandomForestRegressor(random_state=12345)\n",
    "grid_rougher = GridSearchCV(model, parameters, cv = 5, scoring = scorer)\n",
    "grid_rougher.fit(train_features, train_target_rougher)"
   ]
  },
  {
   "cell_type": "code",
   "execution_count": 60,
   "metadata": {
    "colab": {
     "base_uri": "https://localhost:8080/"
    },
    "id": "lda484mYEBUt",
    "outputId": "2e8fde96-c5a2-466a-fe2c-7dfd02a0ff92"
   },
   "outputs": [
    {
     "data": {
      "text/plain": [
       "GridSearchCV(cv=5, estimator=RandomForestRegressor(random_state=12345),\n",
       "             param_grid={'max_depth': range(1, 7, 2),\n",
       "                         'n_estimators': range(10, 51, 10)},\n",
       "             scoring=make_scorer(smape, greater_is_better=False))"
      ]
     },
     "execution_count": 60,
     "metadata": {},
     "output_type": "execute_result"
    }
   ],
   "source": [
    "# гиперпараметры, когда целевой признак - финальный концентрат\n",
    "grid_final = GridSearchCV(model, parameters, cv = 5, scoring = scorer)\n",
    "grid_final.fit(train_features, train_target_final)"
   ]
  },
  {
   "cell_type": "markdown",
   "metadata": {
    "id": "oOnAnnR7PEER"
   },
   "source": [
    "**Для ревьюера:** поиск гиперпараметров занимает суммарно 10 минут (5 минут на каждый)"
   ]
  },
  {
   "cell_type": "markdown",
   "metadata": {},
   "source": [
    "\n",
    "<div class=\"alert alert-block alert-success\">\n",
    "<b>Комментарий ревьюера👍:</b>  Ускоренная версия GridsearchCV https://towardsdatascience.com/20x-times-faster-grid-search-cross-validation-19ef01409b7c. Обьемная статья с огромным количеством библиотек для подбора гиперпараметров: https://neptune.ai/blog/hyperparameter-tuning-in-python-complete-guide/.\n",
    "</div>\n"
   ]
  },
  {
   "cell_type": "markdown",
   "metadata": {},
   "source": [
    "<div class=\"alert alert-block alert-info\">\n",
    "<b>Комментарий студента:</b> Ого, спасибо большое! Посмотрел на бенчмарк из первой ссылки - результаты впечатляют.\n",
    "</div>"
   ]
  },
  {
   "cell_type": "markdown",
   "metadata": {
    "id": "sldiwl9wLQrd"
   },
   "source": [
    "После того, как определили наилучшие гиперпараметры модели машинного обучения, обученими наши модели и посчитаем нашу метрику на кросс-валидации."
   ]
  },
  {
   "cell_type": "markdown",
   "metadata": {
    "id": "Pw4RjqwiLjJL"
   },
   "source": [
    "Модель линейной регрессии:"
   ]
  },
  {
   "cell_type": "code",
   "execution_count": 61,
   "metadata": {
    "colab": {
     "base_uri": "https://localhost:8080/"
    },
    "id": "0AuwbCdbKCSk",
    "outputId": "11acc7db-5555-4ebc-db30-3e28758f2d50"
   },
   "outputs": [
    {
     "name": "stdout",
     "output_type": "stream",
     "text": [
      "sMAPE total LinearRegression: -10.0911\n"
     ]
    }
   ],
   "source": [
    "model = LinearRegression()\n",
    "# процедура кросс-валидации\n",
    "# когда целевой признак - черновой концентрат\n",
    "linear_cross_rougher = cross_val_score(model, \n",
    "                                       train_features, \n",
    "                                       train_target_rougher,\n",
    "                                       scoring = scorer,\n",
    "                                       cv = 5)\n",
    "smape_rougher = linear_cross_rougher.mean()\n",
    "\n",
    "# когда целевой признак - финальный концентрат\n",
    "linear_cross_final = cross_val_score(model, \n",
    "                                       train_features, \n",
    "                                       train_target_final,\n",
    "                                       scoring = scorer,\n",
    "                                       cv = 5)\n",
    "smape_final = linear_cross_final.mean()\n",
    "# считаем sMAPE total\n",
    "smape_t = smape_total(smape_rougher, smape_final)\n",
    "print(f'sMAPE total LinearRegression: {smape_t:.4f}')"
   ]
  },
  {
   "cell_type": "markdown",
   "metadata": {
    "id": "_EDr7wtmNHE2"
   },
   "source": [
    "Модель случайного леса:"
   ]
  },
  {
   "cell_type": "code",
   "execution_count": 62,
   "metadata": {
    "colab": {
     "base_uri": "https://localhost:8080/"
    },
    "id": "JC0V9p3WM-XD",
    "outputId": "66406cc9-086a-4541-cf0f-ef04cdeabccc"
   },
   "outputs": [
    {
     "name": "stdout",
     "output_type": "stream",
     "text": [
      "sMAPE total RandomForest: -8.3250\n"
     ]
    }
   ],
   "source": [
    "# модель которую получили на основе перебора гиперпараметров\n",
    "# данная модель - для чернового концентрата\n",
    "model_rougher = grid_rougher.best_estimator_\n",
    "# процедура кросс-валидации\n",
    "# когда целевой признак - черновой концентрат\n",
    "r_f_cross_rougher = cross_val_score(model_rougher,\n",
    "                                    train_features,\n",
    "                                    train_target_rougher,\n",
    "                                    scoring = scorer,\n",
    "                                    cv = 5)\n",
    "smape_rougher = r_f_cross_rougher.mean()\n",
    "\n",
    "# модель которую получили на основе перебора гиперпараметров\n",
    "# данная модель - для финального концентрата\n",
    "model_final = grid_final.best_estimator_\n",
    "# процедура кросс-валидации\n",
    "# когда целевой признак - финальный концентрат\n",
    "r_f_cross_final = cross_val_score(model_final,\n",
    "                                    train_features,\n",
    "                                    train_target_final,\n",
    "                                    scoring = scorer,\n",
    "                                    cv = 5)\n",
    "smape_final = r_f_cross_final.mean()\n",
    "smape_t = smape_total(smape_rougher, smape_final)\n",
    "print(f'sMAPE total RandomForest: {smape_t:.4f}')"
   ]
  },
  {
   "cell_type": "markdown",
   "metadata": {
    "id": "fstdSV1CWw_q"
   },
   "source": [
    "Видим, что полученное значение метрики $sMAPE_{total}$ при кросс-валидации лучше всего у модели Случайного Леса. \n",
    "\n",
    "Ее мы и будем использовать при финальном тестировании модели."
   ]
  },
  {
   "cell_type": "markdown",
   "metadata": {
    "id": "Rs7rDGzVXdRy"
   },
   "source": [
    "### Финальное тестирование модели <a id=\"6_3\"></a>"
   ]
  },
  {
   "cell_type": "code",
   "execution_count": 63,
   "metadata": {
    "colab": {
     "base_uri": "https://localhost:8080/"
    },
    "id": "g2kIv32kVrYh",
    "outputId": "3bfa8ab1-e29b-463a-8db8-0af51660fb88"
   },
   "outputs": [
    {
     "name": "stdout",
     "output_type": "stream",
     "text": [
      "sMAPE total on тестовой выборке: 7.3063\n"
     ]
    }
   ],
   "source": [
    "# модель которую получили на основе перебора гиперпараметров\n",
    "# данная модель - для чернового концентрата\n",
    "model_rougher = grid_rougher.best_estimator_\n",
    "model_rougher.fit(train_features, train_target_rougher)\n",
    "prediction_rougher = model_rougher.predict(test_features)\n",
    "smape_rougher = smape(test_target_rougher, prediction_rougher)\n",
    "\n",
    "# модель которую получили на основе перебора гиперпараметров\n",
    "# данная модель - для финального концентрата\n",
    "model_final = grid_final.best_estimator_\n",
    "model_final.fit(train_features, train_target_final)\n",
    "prediction_final = model_final.predict(test_features)\n",
    "smape_final = smape(test_target_final, prediction_final)\n",
    "\n",
    "smape_t = smape_total(smape_rougher, smape_final)\n",
    "print(f'sMAPE total on тестовой выборке: {smape_t:.4f}')"
   ]
  },
  {
   "cell_type": "markdown",
   "metadata": {
    "id": "fn8LqFIPgAqG"
   },
   "source": [
    "Получили итоговое значение метрики $sMAPE$ для тестовой выборки. Но как понять, какой результат мы получили? Проверим модель на адекватность."
   ]
  },
  {
   "cell_type": "markdown",
   "metadata": {
    "id": "qzJfd3O4gR1u"
   },
   "source": [
    "### Проверка модели на адекватность <a id=\"6_4\"></a>"
   ]
  },
  {
   "cell_type": "code",
   "execution_count": 64,
   "metadata": {
    "colab": {
     "base_uri": "https://localhost:8080/"
    },
    "id": "qMLU1qcdZJ8M",
    "outputId": "8f07869b-d89d-4535-bc22-508eb7382b1b"
   },
   "outputs": [
    {
     "name": "stdout",
     "output_type": "stream",
     "text": [
      "sMAPE total dummy: 7.779\n"
     ]
    }
   ],
   "source": [
    "# выбралы самую простую модель, которая предсказыввает среднее значение целевого признака\n",
    "model_rougher = DummyRegressor(strategy = 'mean')\n",
    "model_rougher.fit(train_features, train_target_rougher)\n",
    "prediction_rougher = model_rougher.predict(test_features)\n",
    "smape_rougher = smape(test_target_rougher, prediction_rougher)\n",
    "\n",
    "model_final = DummyRegressor(strategy = 'mean')\n",
    "model_final.fit(train_features, train_target_final)\n",
    "prediction_final = model_final.predict(test_features)\n",
    "smape_final = smape(test_target_final, prediction_final)\n",
    "\n",
    "smape_t = smape_total(smape_rougher, smape_final)\n",
    "print(f'sMAPE total dummy: {smape_t:.4}')"
   ]
  },
  {
   "cell_type": "markdown",
   "metadata": {
    "id": "mYnQmV4_jKKv"
   },
   "source": [
    "Видим, что метрика sMAPE для тестовой выборке лучше показателя sMAPE модели, которая прогнозирует среднее значение целевого признака.\n",
    "Модель предсказывает лучше константной модели - проверка на адекватность пройдена."
   ]
  },
  {
   "cell_type": "markdown",
   "metadata": {
    "id": "nEzKTP8Fj_ya"
   },
   "source": [
    "## Общий вывод\n",
    "\n",
    "Была дана задача: \n",
    "\n",
    "---\n",
    "\n",
    "Необходимо подготовить прототип модели машинного обучения для «Цифры». Компания разрабатывает решения для эффективной работы промышленных предприятий.\n",
    "\n",
    "Модель должна предсказать коэффициент восстановления золота из золотосодержащей руды. \n",
    "\n",
    "---\n",
    "\n",
    "Для выполнения задания заказчиком были предоставлены данные с параметрами добычи и очистки. \n",
    "\n",
    "В процессе знакомства с данными выполнили следующие пункты:\n",
    "\n",
    "*   Познакомились с обучающими, тестовыми и исходными данными;\n",
    "*   Определили основные этапы процесса добычи золота из руды;\n",
    "*   Из дополнительной информации определили, какие данные предоставил заказчик и из чего состоят эти данные;\n",
    "* Как индексируются предоставленные наборы данных.\n",
    "\n",
    "После знакомства с данными оценили корректность представленных данных. Для этого самостоятельно посчитали коэффициенты эффективности обогащения и установили, что данные заказчика верны.\n",
    "\n",
    "Далее ознакомились с тестовой выборкой и определили, что в ней отстутствуют целевые признаки, имеются пропуски в данных, а также один из признаков имел некорректный тип данных. Сделали вывод о том, что данные для проведения исследования и обучения модели не готовы. После этого приступили к предобработке данных.\n",
    "\n",
    "В процессе предобработки данных исправили следующие проблемы:\n",
    "\n",
    "* Добавлены целевые признаки для тестовой выборки;\n",
    "* Убраны лишние для обучения признаки в обучающей выборке;\n",
    "* Тип данных `date` приведен к соответствующему типу;\n",
    "* Пропуски обработаны с помощью заполения ближайшим значением по индексу.\n",
    "\n",
    "Далее приступили к исследованию данных, в результате которого сделали следующие выводы:\n",
    "\n",
    "* С каждым этапом очистки сырья, у нас растет концентрация золота (Au), концентрация серебра (Ag) уменьшается с каждым этап процесса обработки руды. А концентрация свинца практически не меняется на каждом этапе процесса обработки сырья.\n",
    "* Распределения признака \"размер гранул сырья\" для каждой выборки несильно отличаются друг от друга.\n",
    "* Провели исследование распределений суммарных концентраций веществ. Обнаружили аномальные нулевые значения и избавились от них.\n",
    "\n",
    "После проведения исследования приступили к обучению моделей машинного обучения.\n",
    "В процессе обучения выполнили следующие задачи:\n",
    "\n",
    "* Реализовали метрику sMAPE;\n",
    "* Получили все необходимые параметры моделей машинного обучения;\n",
    "* Определили наилучшие гиперпараметры модели;\n",
    "* Посчитали необходимую метрику с помощью кросс-валидации;\n",
    "* Выбрали наиболее подходящую модель;\n",
    "* Провели финальное тестирование модели;\n",
    "* Сделали проверку на адекватность.\n",
    "\n",
    "В результате проверки на адекватность определили, что выбранная модель - адекватна, так как она предсказывает результаты лучше константной модели."
   ]
  },
  {
   "cell_type": "markdown",
   "metadata": {
    "id": "wZUtpHzfiaY2"
   },
   "source": [
    "<div class=\"alert alert-block alert-success\">\n",
    "<b>Комментарий ревьюера👍:</b> Спасибо тебе за проделанную работу! Мне ОЧЕНЬ понравился твой проект. Полностью описан ход решения, даны все необходимые пояснения, выводы полные и логичные. Ещё хочу отметить качественную визуализацию. \n",
    "    \n",
    "Естественно работа зачтена, отправляю обратно, чтобы ты мог прочитать мои комментарии и задать какие-то вопросы, может хочешь какую-то подборку статей.\n",
    "    \n",
    "</div>\n"
   ]
  },
  {
   "cell_type": "markdown",
   "metadata": {},
   "source": [
    "<div class=\"alert alert-block alert-info\">\n",
    "<b>Комментарий студента:</b> Вика, большое спасибо за фидбек! Да есть несколько вопросов:\n",
    "</div>"
   ]
  },
  {
   "cell_type": "markdown",
   "metadata": {},
   "source": [
    "<div class=\"alert alert-block alert-info\">\n",
    "<b>Комментарий студента:</b> Первый вопрос: GridSearchCV и cross_val_score уместно ли использовать вместе? Так как уже с помощью GridSearch мы определяем наилучшие гиперпараметры, и нам попросту остается оценить качество модели с помощью определенной метрики (тот же sMAPE).\n",
    "Но вопрос: что же лучше использовать? GridSearch или cross_val_score? \n",
    "</div>"
   ]
  },
  {
   "cell_type": "markdown",
   "metadata": {},
   "source": [
    "<div class=\"alert alert-block alert-success\">\n",
    "<b>Комментарий ревьюера V.2👍:</b> Внутри GridSearchCV уже встроена кросс-валидация, поэтому мне кажется целесообразным использовать gridsearch на обучающей выборке и провести тестирование с помощью полученных параметров на тестовой.\n",
    "</div>"
   ]
  },
  {
   "cell_type": "markdown",
   "metadata": {},
   "source": [
    "<div class=\"alert alert-block alert-info\">\n",
    "<b>Комментарий студента:</b> Второй вопрос: спасибо тебе за рекомендации по оптимизации процесса обучения) Можно посоветовать что-нибудь дополнительно касаемо оптимазции?\n",
    "</div>"
   ]
  },
  {
   "cell_type": "markdown",
   "metadata": {},
   "source": [
    "<div class=\"alert alert-block alert-success\">\n",
    "<b>Комментарий ревьюера V.2👍:</b> На этот вопрос к сожалению не могу ответить, так как не совсем поняла о какой именно оптимизации идёт речь\n",
    "</div>"
   ]
  },
  {
   "cell_type": "markdown",
   "metadata": {},
   "source": [
    "<div class=\"alert alert-block alert-info\">\n",
    "<b>Комментарий студента:</b> Третий вопрос: как часто на практике приходится реализовывать свои метрки? Где их можно найти на языке математики?\n",
    "</div>"
   ]
  },
  {
   "cell_type": "markdown",
   "metadata": {},
   "source": [
    "<div class=\"alert alert-block alert-success\">\n",
    "<b>Комментарий ревьюера V.2👍:</b> Мне кажется, что чаще всего всё-таки используются стандартные метрики, например для оценки регрессии они следующие: https://www.analyticsvidhya.com/blog/2021/05/know-the-best-evaluation-metrics-for-your-regression-model/ (ссылка работает через VPN). \n",
    "</div>"
   ]
  },
  {
   "cell_type": "markdown",
   "metadata": {},
   "source": [
    "<div class=\"alert alert-block alert-info\">\n",
    "<b>Комментарий студента:</b> Четвертый вопрос: можешь посоветовать какую-нибудь интересную литературу/статьи/видеоролики/ноутбуки по машинному обучению? \n",
    "</div>"
   ]
  },
  {
   "cell_type": "markdown",
   "metadata": {},
   "source": [
    "<div class=\"alert alert-block alert-success\">\n",
    "<b>Комментарий ревьюера V.2👍:</b> Очень рекомендую следующие блоги:\n",
    "    \n",
    "https://www.analyticsvidhya.com/blog/\n",
    "    \n",
    "https://towardsdatascience.com/\n",
    "    \n",
    "https://machinelearningmastery.com/ \n",
    "    \n",
    "Мне очень понравился курс от IBM на курсере https://ru.coursera.org/professional-certificates/ibm-machine-learning, но в связи с нынешними событиями курсера закрыта для студентов из России.\n",
    "</div>"
   ]
  },
  {
   "cell_type": "markdown",
   "metadata": {},
   "source": [
    "<div class=\"alert alert-block alert-info\">\n",
    "<b>Комментарий студента:</b> Пятый вопрос: чтобы бы ты хотела бы еще посоветовать из статей для практики?\n",
    "</div>"
   ]
  },
  {
   "cell_type": "markdown",
   "metadata": {},
   "source": [
    "<div class=\"alert alert-block alert-success\">\n",
    "<b>Комментарий ревьюера V.2👍:</b> \n",
    "    \n",
    "https://towardsdatascience.com/manipulating-machine-learning-results-with-random-state-2a6f49b31081\n",
    "    \n",
    "https://www.analyticsvidhya.com/blog/2020/10/overcoming-class-imbalance-using-smote-techniques/.\n",
    "    \n",
    "https://www.analyticsvidhya.com/blog/2021/05/dealing-with-missing-values-in-python-a-complete-guide/\n",
    "    \n",
    "https://towardsdatascience.com/whats-the-best-way-to-handle-nan-values-62d50f738fc\n",
    "\n",
    "https://machinelearningmastery.com/feature-selection-machine-learning-python/\n",
    "    \n",
    "https://towardsdatascience.com/7-considerations-before-pushing-machine-learning-models-to-production-efab64c4d433\n",
    "    \n",
    "https://rukshanpramoditha.medium.com/top-trending-machine-learning-algorithms-in-2022-96199ef210c3\n",
    "    \n",
    "    \n",
    "</div>"
   ]
  },
  {
   "cell_type": "markdown",
   "metadata": {},
   "source": [
    "<div class=\"alert alert-block alert-info\">\n",
    "<b>Комментарий студента:</b> Шестой вопрос: какие pet-projects посоветуешь реализовать, чтобы можно было их приложить в портфолио? Kaggle тоже можно, но можешь, пожалуйста, поделиться своим опытом? \n",
    "</div>"
   ]
  },
  {
   "cell_type": "markdown",
   "metadata": {},
   "source": [
    "<div class=\"alert alert-block alert-success\">\n",
    "<b>Комментарий ревьюера V.2👍:</b> Я бы тут в первую очередь отталкивалась от твоих интересов, т.е. в каком направлении ты хотел бы работать. Чтобы портфолио было релевантно позиции. Например, на свою текущую работу я во многом устроилась из-за своей магистерской работы. Я работаю в американской криптовалютной фирме, магистерская работа у меня была исследование влияния масс и сошиал медиа на колебания курсов криптовалют. Поэтому я бы не рекомендовала использовать какие-то проекты, которые вот прям надо реализовать, а ориентировалась на себя. Поэтому выбираешь направление, смотришь какие проблемы есть в этой сфере, и пытаешься их решить. \n",
    "</div>"
   ]
  },
  {
   "cell_type": "markdown",
   "metadata": {},
   "source": [
    "<div class=\"alert alert-block alert-info\">\n",
    "<b>Комментарий студента:</b> Седьмой вопрос: может, не по теме, но хотелось бы узнать актуальные критерии/знания/проекты для junior/junior+ позиций.\n",
    "</div>"
   ]
  },
  {
   "cell_type": "markdown",
   "metadata": {},
   "source": [
    "<div class=\"alert alert-block alert-success\">\n",
    "<b>Комментарий ревьюера V.2👍:</b> развитые soft skills, это правда ничуть не менее важно, чем техника, английский язык, стремление и желание постоянно учиться. Технические требования напрямую зависят от фирмы, потому что под должностью data scientist может скрываться что угодно =) \n",
    "</div>"
   ]
  },
  {
   "cell_type": "markdown",
   "metadata": {},
   "source": [
    "<div class=\"alert alert-block alert-success\">\n",
    "<b>Комментарий ревьюера V.2👍:</b> Удачи в будущих проектах и работе =)\n",
    "</div>"
   ]
  }
 ],
 "metadata": {
  "colab": {
   "collapsed_sections": [],
   "name": "pushkar_complex_research_gold.ipynb",
   "provenance": []
  },
  "kernelspec": {
   "display_name": "Python 3 (ipykernel)",
   "language": "python",
   "name": "python3"
  },
  "language_info": {
   "codemirror_mode": {
    "name": "ipython",
    "version": 3
   },
   "file_extension": ".py",
   "mimetype": "text/x-python",
   "name": "python",
   "nbconvert_exporter": "python",
   "pygments_lexer": "ipython3",
   "version": "3.9.5"
  },
  "toc": {
   "base_numbering": 1,
   "nav_menu": {},
   "number_sections": true,
   "sideBar": true,
   "skip_h1_title": true,
   "title_cell": "Table of Contents",
   "title_sidebar": "Contents",
   "toc_cell": false,
   "toc_position": {},
   "toc_section_display": true,
   "toc_window_display": false
  }
 },
 "nbformat": 4,
 "nbformat_minor": 1
}
