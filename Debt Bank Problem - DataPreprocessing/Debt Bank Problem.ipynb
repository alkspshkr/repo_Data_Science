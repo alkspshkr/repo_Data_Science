{
 "cells": [
  {
   "cell_type": "markdown",
   "metadata": {},
   "source": [
    "# Исследование надёжности заёмщиков <a id='begin'></a>\n",
    "\n",
    "Заказчик — кредитный отдел банка. Нужно разобраться, влияет ли семейное положение и количество детей клиента на факт погашения кредита в срок. Входные данные от банка — статистика о платёжеспособности клиентов.\n",
    "\n",
    "Результаты исследования будут учтены при построении модели **кредитного скоринга** — специальной системы, которая оценивает способность потенциального заёмщика вернуть кредит банку.\n",
    "\n",
    "**Содержание отчета:** \n",
    "1. [Знакомство с датасетом](#intro)\n",
    "2. [Предобработка данных](#fix)\n",
    "   * [Обработка пропусков](#empty)\n",
    "   * [Замена типа данных](#type)\n",
    "   * [Обработка дубликатов](#dup)\n",
    "   * [Лемматизация](#lem)\n",
    "   * [Категоризация данных](#cat)\n",
    "3. [Ответы на вопросы](#qs)\n",
    "   * [Есть ли зависимость между наличием детей и возвратом кредита в срок?](#q1)\n",
    "   * [Есть ли зависимость между семейным положением и возвратом кредита в срок?](#q2)\n",
    "   * [Есть ли зависимость между уровнем дохода и возвратом кредита в срок?](#q3)\n",
    "   * [Как разные цели кредита влияют на его возврат в срок?](#q4)\n",
    "4. [Общий вывод](#total)\n"
   ]
  },
  {
   "cell_type": "markdown",
   "metadata": {},
   "source": [
    "## Знакомтсво с датасетом\n",
    "<a id='intro'></a>\n",
    "[в начало](#begin)"
   ]
  },
  {
   "cell_type": "markdown",
   "metadata": {},
   "source": [
    "Расмотрим датасет: Статистика платежоспособности клиентов - `data.csv`"
   ]
  },
  {
   "cell_type": "code",
   "execution_count": 1,
   "metadata": {},
   "outputs": [],
   "source": [
    "# Ячейка для включения дополнительных модулей (будет дополняться по мере необходимости)\n",
    "import pandas as pd\n",
    "from pymystem3 import Mystem\n",
    "m = Mystem()"
   ]
  },
  {
   "cell_type": "code",
   "execution_count": 2,
   "metadata": {},
   "outputs": [],
   "source": [
    "data = pd.read_csv('/datasets/data.csv')"
   ]
  },
  {
   "cell_type": "markdown",
   "metadata": {},
   "source": [
    "Для того, чтобы описать данные, используемые в датасете, выведем первые пять строк сформированного Датафрейма."
   ]
  },
  {
   "cell_type": "code",
   "execution_count": 3,
   "metadata": {
    "scrolled": true
   },
   "outputs": [
    {
     "data": {
      "text/html": [
       "<div>\n",
       "<style scoped>\n",
       "    .dataframe tbody tr th:only-of-type {\n",
       "        vertical-align: middle;\n",
       "    }\n",
       "\n",
       "    .dataframe tbody tr th {\n",
       "        vertical-align: top;\n",
       "    }\n",
       "\n",
       "    .dataframe thead th {\n",
       "        text-align: right;\n",
       "    }\n",
       "</style>\n",
       "<table border=\"1\" class=\"dataframe\">\n",
       "  <thead>\n",
       "    <tr style=\"text-align: right;\">\n",
       "      <th></th>\n",
       "      <th>children</th>\n",
       "      <th>days_employed</th>\n",
       "      <th>dob_years</th>\n",
       "      <th>education</th>\n",
       "      <th>education_id</th>\n",
       "      <th>family_status</th>\n",
       "      <th>family_status_id</th>\n",
       "      <th>gender</th>\n",
       "      <th>income_type</th>\n",
       "      <th>debt</th>\n",
       "      <th>total_income</th>\n",
       "      <th>purpose</th>\n",
       "    </tr>\n",
       "  </thead>\n",
       "  <tbody>\n",
       "    <tr>\n",
       "      <td>0</td>\n",
       "      <td>1</td>\n",
       "      <td>-8437.673028</td>\n",
       "      <td>42</td>\n",
       "      <td>высшее</td>\n",
       "      <td>0</td>\n",
       "      <td>женат / замужем</td>\n",
       "      <td>0</td>\n",
       "      <td>F</td>\n",
       "      <td>сотрудник</td>\n",
       "      <td>0</td>\n",
       "      <td>253875.639453</td>\n",
       "      <td>покупка жилья</td>\n",
       "    </tr>\n",
       "    <tr>\n",
       "      <td>1</td>\n",
       "      <td>1</td>\n",
       "      <td>-4024.803754</td>\n",
       "      <td>36</td>\n",
       "      <td>среднее</td>\n",
       "      <td>1</td>\n",
       "      <td>женат / замужем</td>\n",
       "      <td>0</td>\n",
       "      <td>F</td>\n",
       "      <td>сотрудник</td>\n",
       "      <td>0</td>\n",
       "      <td>112080.014102</td>\n",
       "      <td>приобретение автомобиля</td>\n",
       "    </tr>\n",
       "    <tr>\n",
       "      <td>2</td>\n",
       "      <td>0</td>\n",
       "      <td>-5623.422610</td>\n",
       "      <td>33</td>\n",
       "      <td>Среднее</td>\n",
       "      <td>1</td>\n",
       "      <td>женат / замужем</td>\n",
       "      <td>0</td>\n",
       "      <td>M</td>\n",
       "      <td>сотрудник</td>\n",
       "      <td>0</td>\n",
       "      <td>145885.952297</td>\n",
       "      <td>покупка жилья</td>\n",
       "    </tr>\n",
       "    <tr>\n",
       "      <td>3</td>\n",
       "      <td>3</td>\n",
       "      <td>-4124.747207</td>\n",
       "      <td>32</td>\n",
       "      <td>среднее</td>\n",
       "      <td>1</td>\n",
       "      <td>женат / замужем</td>\n",
       "      <td>0</td>\n",
       "      <td>M</td>\n",
       "      <td>сотрудник</td>\n",
       "      <td>0</td>\n",
       "      <td>267628.550329</td>\n",
       "      <td>дополнительное образование</td>\n",
       "    </tr>\n",
       "    <tr>\n",
       "      <td>4</td>\n",
       "      <td>0</td>\n",
       "      <td>340266.072047</td>\n",
       "      <td>53</td>\n",
       "      <td>среднее</td>\n",
       "      <td>1</td>\n",
       "      <td>гражданский брак</td>\n",
       "      <td>1</td>\n",
       "      <td>F</td>\n",
       "      <td>пенсионер</td>\n",
       "      <td>0</td>\n",
       "      <td>158616.077870</td>\n",
       "      <td>сыграть свадьбу</td>\n",
       "    </tr>\n",
       "  </tbody>\n",
       "</table>\n",
       "</div>"
      ],
      "text/plain": [
       "   children  days_employed  dob_years education  education_id  \\\n",
       "0         1   -8437.673028         42    высшее             0   \n",
       "1         1   -4024.803754         36   среднее             1   \n",
       "2         0   -5623.422610         33   Среднее             1   \n",
       "3         3   -4124.747207         32   среднее             1   \n",
       "4         0  340266.072047         53   среднее             1   \n",
       "\n",
       "      family_status  family_status_id gender income_type  debt   total_income  \\\n",
       "0   женат / замужем                 0      F   сотрудник     0  253875.639453   \n",
       "1   женат / замужем                 0      F   сотрудник     0  112080.014102   \n",
       "2   женат / замужем                 0      M   сотрудник     0  145885.952297   \n",
       "3   женат / замужем                 0      M   сотрудник     0  267628.550329   \n",
       "4  гражданский брак                 1      F   пенсионер     0  158616.077870   \n",
       "\n",
       "                      purpose  \n",
       "0               покупка жилья  \n",
       "1     приобретение автомобиля  \n",
       "2               покупка жилья  \n",
       "3  дополнительное образование  \n",
       "4             сыграть свадьбу  "
      ]
     },
     "execution_count": 3,
     "metadata": {},
     "output_type": "execute_result"
    }
   ],
   "source": [
    "# Вывод первых пять строк датафрейма data\n",
    "# Выполним с помощью атрибута head()\n",
    "data.head()"
   ]
  },
  {
   "cell_type": "markdown",
   "metadata": {},
   "source": [
    "**Описание данных:**\n",
    "* **children** - количество детей в семье\n",
    "* **days_employed** - трудовой стаж в днях\n",
    "* **dob_years** - возраст клиента в годах\n",
    "* **education** - уровень образования клиента\n",
    "* **education_id** - идентификатор уровня образования\n",
    "* **family_status** - семейное положение\n",
    "* **family_status_id** - идентификатор семейного положения\n",
    "* **gender** - пол клиента (**F** - женский / **M** - мужской)\n",
    "* **income_type** - тип занятости\n",
    "* **debt** - имел ли задолженность по возврату кредитов\n",
    "* **total_income** - ежемесячный доход\n",
    "* **purpose** - цель кредита\n",
    "\n",
    "**Предварительный вывод**: \n",
    "- наименования столбцов стилистически составлены корректно\n",
    "- для некоторых столбцов, например, **family_status_id**, **education_id** отсутствует информация, которая раскрывает смысл значений в этих столбцах.\n",
    "- некорректное значение в столбце **total_income**, значения в этом столбце имеет шесть знаков после запятой \n",
    "- некорректное значение в столбце **days_employed**, значения есть как положительные, так и отрицательные; непонятен механизм расчета трудового стажа в днях\n",
    "- некорреткное представление значений в группе **education**, так как используется прописные/строчные буквы в уровнях образования\n",
    "- в столбце **family_status** имеются одинаковые по смыслу значения, но представлены они как разные элементы категории. Например: гражданский брак - женат/замужем\n",
    "\n",
    "**Предварительное решение проблемы:**\n",
    "- обратиться к тому, кто сформировал этот датасет и узнать смысл значений в столбцах, где не хватает расшифровки значений;\n",
    "- разобраться самому: найти закономерность между значениями некоторых столбцов и убедиться в их взаимосвязи\n",
    "- разобраться с размерностью в столбце **total_income** в каких единицах измерения представлен объект, привести данное значение к целочисленному типу\n",
    "- разобраться с размерностью в столбце **days_employed** как считается подсчет дней, определить закономерность между положительным и отрицательным значениями в столбце, определить: применяется ли этот столбец в исследовании?"
   ]
  },
  {
   "cell_type": "markdown",
   "metadata": {},
   "source": [
    "Рассмотрим общую информацию о полученной таблице."
   ]
  },
  {
   "cell_type": "code",
   "execution_count": 4,
   "metadata": {},
   "outputs": [
    {
     "name": "stdout",
     "output_type": "stream",
     "text": [
      "<class 'pandas.core.frame.DataFrame'>\n",
      "RangeIndex: 21525 entries, 0 to 21524\n",
      "Data columns (total 12 columns):\n",
      "children            21525 non-null int64\n",
      "days_employed       19351 non-null float64\n",
      "dob_years           21525 non-null int64\n",
      "education           21525 non-null object\n",
      "education_id        21525 non-null int64\n",
      "family_status       21525 non-null object\n",
      "family_status_id    21525 non-null int64\n",
      "gender              21525 non-null object\n",
      "income_type         21525 non-null object\n",
      "debt                21525 non-null int64\n",
      "total_income        19351 non-null float64\n",
      "purpose             21525 non-null object\n",
      "dtypes: float64(2), int64(5), object(5)\n",
      "memory usage: 2.0+ MB\n"
     ]
    }
   ],
   "source": [
    "data.info()"
   ]
  },
  {
   "cell_type": "markdown",
   "metadata": {},
   "source": [
    "**Предварительный вывод:** в столбцах **days_employed**, **total_income** присутствуют явные пропуски в данных.\n",
    "\n",
    "**Предварительное решение:** необходимо провести обработку пропусков"
   ]
  },
  {
   "cell_type": "markdown",
   "metadata": {},
   "source": [
    "**Вывод:** после знакомства с общей информацией датафрейма можно заметить следующее:\n",
    "* имеются явные пропуски в столбцах (**days_employed**, **total_income**)\n",
    "* отсутствует дополнительная информация по некоторым столбцам (**family_status_id**, **education_id**) \n",
    "* имеются неявные дубликаты в столбце **education** \n",
    "* данные в столбцах **days_employed** и **total_income** заполнены некорректно\n",
    "* данные в столбце **family_status** представляют одну категорию, но названы по-разному\n",
    "\n",
    "Данный набор данных не готов для проведения анализа и решения поставленных задач.\n",
    "\n",
    "**Решение:** необходимо провести предварительную обработку данных (убрать дубликаты, привести к соответсвтующему типу, заполнить или устранить пропуски в данных, провести объединение )"
   ]
  },
  {
   "cell_type": "markdown",
   "metadata": {},
   "source": [
    "## Предобработка данных <a id='fix'></a>\n",
    "[в начало](#begin)"
   ]
  },
  {
   "cell_type": "markdown",
   "metadata": {},
   "source": [
    "### Обработка пропусков <a id='empty'></a>\n",
    "[в начало](#begin)"
   ]
  },
  {
   "cell_type": "markdown",
   "metadata": {},
   "source": [
    "Прежде чем начать обрабатывать пропуски в данных, мы должны определить следующее:\n",
    "* к какой категории относится признак, в котором присутствует пропуск? \n",
    "* какой метод обработки пропуска использовать для признаков?\n",
    "\n",
    "Прежде чем начать обработку данных, рассмотрим уникальные значения в **категориальных** переменных. К ним относятся следующие признаки:\n",
    "* **education**\n",
    "* **education_id**\n",
    "* **family_status**\n",
    "* **family_status_id**\n",
    "* **gender**\n",
    "* **income_type**\n",
    "* **debt**\n",
    "* **purpose**\n",
    "* **"
   ]
  },
  {
   "cell_type": "markdown",
   "metadata": {},
   "source": [
    "Для столбца **gender:**"
   ]
  },
  {
   "cell_type": "code",
   "execution_count": 5,
   "metadata": {},
   "outputs": [
    {
     "data": {
      "text/plain": [
       "array(['F', 'M', 'XNA'], dtype=object)"
      ]
     },
     "metadata": {},
     "output_type": "display_data"
    }
   ],
   "source": [
    "display(data['gender'].unique())"
   ]
  },
  {
   "cell_type": "markdown",
   "metadata": {},
   "source": [
    "Как оказалось, в столбце **gender** есть три значения. Посчитаем количество упоминаний каждого из них."
   ]
  },
  {
   "cell_type": "code",
   "execution_count": 6,
   "metadata": {},
   "outputs": [
    {
     "data": {
      "text/plain": [
       "F      14236\n",
       "M       7288\n",
       "XNA        1\n",
       "Name: gender, dtype: int64"
      ]
     },
     "metadata": {},
     "output_type": "display_data"
    }
   ],
   "source": [
    "display(data['gender'].value_counts())"
   ]
  },
  {
   "cell_type": "markdown",
   "metadata": {},
   "source": [
    "А теперь выведем строку, где значение в столбце **gender** является пустым:"
   ]
  },
  {
   "cell_type": "code",
   "execution_count": 7,
   "metadata": {
    "scrolled": true
   },
   "outputs": [
    {
     "data": {
      "text/html": [
       "<div>\n",
       "<style scoped>\n",
       "    .dataframe tbody tr th:only-of-type {\n",
       "        vertical-align: middle;\n",
       "    }\n",
       "\n",
       "    .dataframe tbody tr th {\n",
       "        vertical-align: top;\n",
       "    }\n",
       "\n",
       "    .dataframe thead th {\n",
       "        text-align: right;\n",
       "    }\n",
       "</style>\n",
       "<table border=\"1\" class=\"dataframe\">\n",
       "  <thead>\n",
       "    <tr style=\"text-align: right;\">\n",
       "      <th></th>\n",
       "      <th>children</th>\n",
       "      <th>days_employed</th>\n",
       "      <th>dob_years</th>\n",
       "      <th>education</th>\n",
       "      <th>education_id</th>\n",
       "      <th>family_status</th>\n",
       "      <th>family_status_id</th>\n",
       "      <th>gender</th>\n",
       "      <th>income_type</th>\n",
       "      <th>debt</th>\n",
       "      <th>total_income</th>\n",
       "      <th>purpose</th>\n",
       "    </tr>\n",
       "  </thead>\n",
       "  <tbody>\n",
       "    <tr>\n",
       "      <td>10701</td>\n",
       "      <td>0</td>\n",
       "      <td>-2358.600502</td>\n",
       "      <td>24</td>\n",
       "      <td>неоконченное высшее</td>\n",
       "      <td>2</td>\n",
       "      <td>гражданский брак</td>\n",
       "      <td>1</td>\n",
       "      <td>XNA</td>\n",
       "      <td>компаньон</td>\n",
       "      <td>0</td>\n",
       "      <td>203905.157261</td>\n",
       "      <td>покупка недвижимости</td>\n",
       "    </tr>\n",
       "  </tbody>\n",
       "</table>\n",
       "</div>"
      ],
      "text/plain": [
       "       children  days_employed  dob_years            education  education_id  \\\n",
       "10701         0   -2358.600502         24  неоконченное высшее             2   \n",
       "\n",
       "          family_status  family_status_id gender income_type  debt  \\\n",
       "10701  гражданский брак                 1    XNA   компаньон     0   \n",
       "\n",
       "        total_income               purpose  \n",
       "10701  203905.157261  покупка недвижимости  "
      ]
     },
     "metadata": {},
     "output_type": "display_data"
    }
   ],
   "source": [
    "display(data[data['gender'] == 'XNA'])"
   ]
  },
  {
   "cell_type": "markdown",
   "metadata": {},
   "source": [
    "**Предвариательный вывод:** Данный пропуск можно считать полностью случайным, так как возникновение этого пропуска не зависит от каких-либо других значений. \n",
    "\n",
    "Возможные причины, по которой появился данный пропуск:\n",
    "* **Человеческий фактор:** сотрудник банка забыл дописать значение \"пол\" в данных клиента банка; клиент банка забыл указать о себе эту информацию при заполнении заявки.\n",
    "\n",
    "**Возможное решение:** удалить строку с пропуском с изменением порядка индексов. Так как один результат из 21525 наблюдений представляет собой 1 /21525 = 0.00004 * 100% = 0.004%. Исключение столбца из этого наблюдения существенно не исказит результаты исследования "
   ]
  },
  {
   "cell_type": "code",
   "execution_count": 8,
   "metadata": {},
   "outputs": [],
   "source": [
    "# Присваиваем строке со значением XNA значение None\n",
    "# Удаляем строку с этим значением из исходной таблицы \n",
    "# изменяем порядок индекса\n",
    "data.loc[data['gender'] == 'XNA', 'gender'] = None\n",
    "data = data.dropna(subset = ['gender']).reset_index(drop = True)"
   ]
  },
  {
   "cell_type": "markdown",
   "metadata": {},
   "source": [
    "Убедимся в том, что удалили строку с пропуском в столбце **gender**:"
   ]
  },
  {
   "cell_type": "code",
   "execution_count": 9,
   "metadata": {},
   "outputs": [
    {
     "data": {
      "text/plain": [
       "F    14236\n",
       "M     7288\n",
       "Name: gender, dtype: int64"
      ]
     },
     "metadata": {},
     "output_type": "display_data"
    }
   ],
   "source": [
    "# Проверка удаления строки \n",
    "display(data['gender'].value_counts())"
   ]
  },
  {
   "cell_type": "markdown",
   "metadata": {},
   "source": [
    "**Предварительный вывод:** строка с пропуском в признаке **gender** удалена, порядок индексов был изменен. Работа с пропусками в категориальных переменных заврешена."
   ]
  },
  {
   "cell_type": "markdown",
   "metadata": {},
   "source": [
    "Теперь перейдем к **количественным** переменным. К ним относятся следующие признаки:\n",
    "* **chidren**\n",
    "* **days_employed**\n",
    "* **dob_years**\n",
    "* **total_income**"
   ]
  },
  {
   "cell_type": "markdown",
   "metadata": {},
   "source": [
    "Рассмотрим еще раз общую информацию о данных в датафремйе:"
   ]
  },
  {
   "cell_type": "code",
   "execution_count": 10,
   "metadata": {},
   "outputs": [
    {
     "name": "stdout",
     "output_type": "stream",
     "text": [
      "<class 'pandas.core.frame.DataFrame'>\n",
      "RangeIndex: 21524 entries, 0 to 21523\n",
      "Data columns (total 12 columns):\n",
      "children            21524 non-null int64\n",
      "days_employed       19350 non-null float64\n",
      "dob_years           21524 non-null int64\n",
      "education           21524 non-null object\n",
      "education_id        21524 non-null int64\n",
      "family_status       21524 non-null object\n",
      "family_status_id    21524 non-null int64\n",
      "gender              21524 non-null object\n",
      "income_type         21524 non-null object\n",
      "debt                21524 non-null int64\n",
      "total_income        19350 non-null float64\n",
      "purpose             21524 non-null object\n",
      "dtypes: float64(2), int64(5), object(5)\n",
      "memory usage: 2.0+ MB\n"
     ]
    }
   ],
   "source": [
    "data.info()"
   ]
  },
  {
   "cell_type": "markdown",
   "metadata": {},
   "source": [
    "Явные пропуски присутствуют в следующих признаках: **days_employed** и **total_income**.\n",
    "Однако предполагаем, что в данных присутствуют неявные пропуски.\n",
    "\n",
    "Рассмотрим признак **dob_years**. Для этого выведем список сортированных по возрастанию уникальных значений этого признака."
   ]
  },
  {
   "cell_type": "code",
   "execution_count": 11,
   "metadata": {},
   "outputs": [
    {
     "data": {
      "text/plain": [
       "array([ 0, 19, 20, 21, 22, 23, 24, 25, 26, 27, 28, 29, 30, 31, 32, 33, 34,\n",
       "       35, 36, 37, 38, 39, 40, 41, 42, 43, 44, 45, 46, 47, 48, 49, 50, 51,\n",
       "       52, 53, 54, 55, 56, 57, 58, 59, 60, 61, 62, 63, 64, 65, 66, 67, 68,\n",
       "       69, 70, 71, 72, 73, 74, 75])"
      ]
     },
     "metadata": {},
     "output_type": "display_data"
    }
   ],
   "source": [
    "# Сортируем значение столбца dob_years по возрастанию и выбираем уникальные отсортированные значения этого столбца\n",
    "years_list = data.sort_values(by = 'dob_years', ascending = True)['dob_years'].unique()\n",
    "display(years_list)"
   ]
  },
  {
   "cell_type": "markdown",
   "metadata": {},
   "source": [
    "Выведем количество строк в таблице, где значение **age** равен нулю:\n"
   ]
  },
  {
   "cell_type": "code",
   "execution_count": 12,
   "metadata": {},
   "outputs": [
    {
     "data": {
      "text/plain": [
       "101"
      ]
     },
     "metadata": {},
     "output_type": "display_data"
    }
   ],
   "source": [
    "display(data[data['dob_years'] == 0]['children'].count())"
   ]
  },
  {
   "cell_type": "markdown",
   "metadata": {},
   "source": [
    "Выведем первые пять строк таблицы, где значение **age** равен нулю для поиска закономерности:"
   ]
  },
  {
   "cell_type": "code",
   "execution_count": 13,
   "metadata": {},
   "outputs": [
    {
     "data": {
      "text/html": [
       "<div>\n",
       "<style scoped>\n",
       "    .dataframe tbody tr th:only-of-type {\n",
       "        vertical-align: middle;\n",
       "    }\n",
       "\n",
       "    .dataframe tbody tr th {\n",
       "        vertical-align: top;\n",
       "    }\n",
       "\n",
       "    .dataframe thead th {\n",
       "        text-align: right;\n",
       "    }\n",
       "</style>\n",
       "<table border=\"1\" class=\"dataframe\">\n",
       "  <thead>\n",
       "    <tr style=\"text-align: right;\">\n",
       "      <th></th>\n",
       "      <th>children</th>\n",
       "      <th>days_employed</th>\n",
       "      <th>dob_years</th>\n",
       "      <th>education</th>\n",
       "      <th>education_id</th>\n",
       "      <th>family_status</th>\n",
       "      <th>family_status_id</th>\n",
       "      <th>gender</th>\n",
       "      <th>income_type</th>\n",
       "      <th>debt</th>\n",
       "      <th>total_income</th>\n",
       "      <th>purpose</th>\n",
       "    </tr>\n",
       "  </thead>\n",
       "  <tbody>\n",
       "    <tr>\n",
       "      <td>99</td>\n",
       "      <td>0</td>\n",
       "      <td>346541.618895</td>\n",
       "      <td>0</td>\n",
       "      <td>Среднее</td>\n",
       "      <td>1</td>\n",
       "      <td>женат / замужем</td>\n",
       "      <td>0</td>\n",
       "      <td>F</td>\n",
       "      <td>пенсионер</td>\n",
       "      <td>0</td>\n",
       "      <td>71291.522491</td>\n",
       "      <td>автомобиль</td>\n",
       "    </tr>\n",
       "    <tr>\n",
       "      <td>149</td>\n",
       "      <td>0</td>\n",
       "      <td>-2664.273168</td>\n",
       "      <td>0</td>\n",
       "      <td>среднее</td>\n",
       "      <td>1</td>\n",
       "      <td>в разводе</td>\n",
       "      <td>3</td>\n",
       "      <td>F</td>\n",
       "      <td>сотрудник</td>\n",
       "      <td>0</td>\n",
       "      <td>70176.435951</td>\n",
       "      <td>операции с жильем</td>\n",
       "    </tr>\n",
       "    <tr>\n",
       "      <td>270</td>\n",
       "      <td>3</td>\n",
       "      <td>-1872.663186</td>\n",
       "      <td>0</td>\n",
       "      <td>среднее</td>\n",
       "      <td>1</td>\n",
       "      <td>женат / замужем</td>\n",
       "      <td>0</td>\n",
       "      <td>F</td>\n",
       "      <td>сотрудник</td>\n",
       "      <td>0</td>\n",
       "      <td>102166.458894</td>\n",
       "      <td>ремонт жилью</td>\n",
       "    </tr>\n",
       "    <tr>\n",
       "      <td>578</td>\n",
       "      <td>0</td>\n",
       "      <td>397856.565013</td>\n",
       "      <td>0</td>\n",
       "      <td>среднее</td>\n",
       "      <td>1</td>\n",
       "      <td>женат / замужем</td>\n",
       "      <td>0</td>\n",
       "      <td>F</td>\n",
       "      <td>пенсионер</td>\n",
       "      <td>0</td>\n",
       "      <td>97620.687042</td>\n",
       "      <td>строительство собственной недвижимости</td>\n",
       "    </tr>\n",
       "    <tr>\n",
       "      <td>1040</td>\n",
       "      <td>0</td>\n",
       "      <td>-1158.029561</td>\n",
       "      <td>0</td>\n",
       "      <td>высшее</td>\n",
       "      <td>0</td>\n",
       "      <td>в разводе</td>\n",
       "      <td>3</td>\n",
       "      <td>F</td>\n",
       "      <td>компаньон</td>\n",
       "      <td>0</td>\n",
       "      <td>303994.134987</td>\n",
       "      <td>свой автомобиль</td>\n",
       "    </tr>\n",
       "  </tbody>\n",
       "</table>\n",
       "</div>"
      ],
      "text/plain": [
       "      children  days_employed  dob_years education  education_id  \\\n",
       "99           0  346541.618895          0   Среднее             1   \n",
       "149          0   -2664.273168          0   среднее             1   \n",
       "270          3   -1872.663186          0   среднее             1   \n",
       "578          0  397856.565013          0   среднее             1   \n",
       "1040         0   -1158.029561          0    высшее             0   \n",
       "\n",
       "        family_status  family_status_id gender income_type  debt  \\\n",
       "99    женат / замужем                 0      F   пенсионер     0   \n",
       "149         в разводе                 3      F   сотрудник     0   \n",
       "270   женат / замужем                 0      F   сотрудник     0   \n",
       "578   женат / замужем                 0      F   пенсионер     0   \n",
       "1040        в разводе                 3      F   компаньон     0   \n",
       "\n",
       "       total_income                                 purpose  \n",
       "99     71291.522491                              автомобиль  \n",
       "149    70176.435951                       операции с жильем  \n",
       "270   102166.458894                            ремонт жилью  \n",
       "578    97620.687042  строительство собственной недвижимости  \n",
       "1040  303994.134987                         свой автомобиль  "
      ]
     },
     "metadata": {},
     "output_type": "display_data"
    }
   ],
   "source": [
    "display(data[data['dob_years'] == 0].head())"
   ]
  },
  {
   "cell_type": "markdown",
   "metadata": {},
   "source": [
    "**Предварительный вывод:** в столбце **age** есть значения, которые, предположительно, являются неявными пропусками. Так как человек не может брать кредит с возрастом в 0 лет. Закономерность в связи между неявным пропуском в возрасте клиента и остальными признакми отсутствует.\n",
    "\n",
    "Возможные причины, по которой появился данный пропуск:\n",
    "\n",
    "* **Человеческий фактор:** клиент банка забыл указать или намеренно скрыл о себе эту информацию при заполнении заявки; специалист, случайно пропустил данный пункт про оформлении заявки.\n",
    "* **Техничский фактор:** система сбора данных при обработке значений могла дать сбой и заполнила некоторые строки столбца **age** нулями; произошла фильтрация пользователей, возраст которых равен 18. Однако, если сопоставить возраст с должностью, то можно заметить, что есть наблюдения, где возраст равен нулю, а должность - пенсионер. Поэтому предположим, что с точки зрения технического фактора, причина пропуска была связана с ошибкой заполнения нужного столбца\n",
    "\n",
    "**Предварительное решение:** \n",
    "* **консультация** с разработчиком для уточнения причины заполнения пропуска нулями\n",
    "* **фильтрация** исходной таблицы по возрасту (т.е. исключить из исходной таблицы строки с нулевым значением), так как количество полей с неявным пропуском равно 101, а для выборки в 21454 строк данная фильтрация не исказит результаты исследования (101 / 21454 = 0.004 * 100% = 0.4%) данное количество значений существенно мало.\n",
    "* **заполнение пропуска средним арифметическим значением возраста клиентов**, значения, которые нам понадобятся для исследования не будут утеряны и можно составить более точный анализ, так как в вопросах исследования не учитывается возраст при проведении анализа.\n",
    "\n",
    "Остановимся на третьем варианте решения проблемы.\n"
   ]
  },
  {
   "cell_type": "markdown",
   "metadata": {},
   "source": [
    "Посчитаем среднее арифметическое значение по возрасту без учета количества клиентов, возвраст которых равен нулю."
   ]
  },
  {
   "cell_type": "code",
   "execution_count": 14,
   "metadata": {},
   "outputs": [],
   "source": [
    "#avg_age_filtered - переменная содержит в себе среднее арифметическое значение возраста клиентов без учета неявного пропуска\n",
    "avg_age_filtered = int(data[data['dob_years'] != 0 ]['dob_years'].mean())"
   ]
  },
  {
   "cell_type": "markdown",
   "metadata": {},
   "source": [
    "Теперь заменим \"нулевой\" возраст клиентов на посчитанное среднее арифметическое значение возраста."
   ]
  },
  {
   "cell_type": "code",
   "execution_count": 15,
   "metadata": {},
   "outputs": [],
   "source": [
    "data.loc[data['dob_years'] == 0, 'dob_years'] = avg_age_filtered"
   ]
  },
  {
   "cell_type": "markdown",
   "metadata": {},
   "source": [
    "Удостоверимся в изменении нашей таблицы. Выведем список уникальных значений столбца **age**."
   ]
  },
  {
   "cell_type": "code",
   "execution_count": 16,
   "metadata": {},
   "outputs": [
    {
     "data": {
      "text/plain": [
       "array([19, 20, 21, 22, 23, 24, 25, 26, 27, 28, 29, 30, 31, 32, 33, 34, 35,\n",
       "       36, 37, 38, 39, 40, 41, 42, 43, 44, 45, 46, 47, 48, 49, 50, 51, 52,\n",
       "       53, 54, 55, 56, 57, 58, 59, 60, 61, 62, 63, 64, 65, 66, 67, 68, 69,\n",
       "       70, 71, 72, 73, 74, 75])"
      ]
     },
     "metadata": {},
     "output_type": "display_data"
    }
   ],
   "source": [
    "display(data.sort_values(by = 'dob_years', ascending = True)['dob_years'].unique())"
   ]
  },
  {
   "cell_type": "markdown",
   "metadata": {},
   "source": [
    "**Предварительный вывод:** неявные пропуски в столбце **gender** были заменены на средний арифметический возраст клиентов. 101 наблюдение, которые могли повлиять на окончательный результат исследования сохранены."
   ]
  },
  {
   "cell_type": "markdown",
   "metadata": {},
   "source": [
    "Проверим столбец **debt**."
   ]
  },
  {
   "cell_type": "code",
   "execution_count": 17,
   "metadata": {},
   "outputs": [
    {
     "data": {
      "text/plain": [
       "0    19783\n",
       "1     1741\n",
       "Name: debt, dtype: int64"
      ]
     },
     "metadata": {},
     "output_type": "display_data"
    }
   ],
   "source": [
    "display(data['debt'].value_counts())"
   ]
  },
  {
   "cell_type": "markdown",
   "metadata": {},
   "source": [
    "Здесь все хорошо, идем дальше."
   ]
  },
  {
   "cell_type": "markdown",
   "metadata": {},
   "source": [
    "Проверим столбец **children**:"
   ]
  },
  {
   "cell_type": "code",
   "execution_count": 18,
   "metadata": {},
   "outputs": [
    {
     "data": {
      "text/plain": [
       " 0     14148\n",
       " 1      4818\n",
       " 2      2055\n",
       " 3       330\n",
       " 20       76\n",
       "-1        47\n",
       " 4        41\n",
       " 5         9\n",
       "Name: children, dtype: int64"
      ]
     },
     "metadata": {},
     "output_type": "display_data"
    }
   ],
   "source": [
    "display(data['children'].value_counts())"
   ]
  },
  {
   "cell_type": "markdown",
   "metadata": {},
   "source": [
    "Здесь мы видим два аномальных значения: -1 и 20. Выведем сроки для каждого аномального случая для выявления закономерности, а также сгруппируем их по разынм признакам и посчитаем количество строк.\n",
    "\n",
    "Для `-1`:"
   ]
  },
  {
   "cell_type": "code",
   "execution_count": 19,
   "metadata": {},
   "outputs": [
    {
     "data": {
      "text/html": [
       "<div>\n",
       "<style scoped>\n",
       "    .dataframe tbody tr th:only-of-type {\n",
       "        vertical-align: middle;\n",
       "    }\n",
       "\n",
       "    .dataframe tbody tr th {\n",
       "        vertical-align: top;\n",
       "    }\n",
       "\n",
       "    .dataframe thead th {\n",
       "        text-align: right;\n",
       "    }\n",
       "</style>\n",
       "<table border=\"1\" class=\"dataframe\">\n",
       "  <thead>\n",
       "    <tr style=\"text-align: right;\">\n",
       "      <th></th>\n",
       "      <th>children</th>\n",
       "      <th>days_employed</th>\n",
       "      <th>dob_years</th>\n",
       "      <th>education</th>\n",
       "      <th>education_id</th>\n",
       "      <th>family_status</th>\n",
       "      <th>family_status_id</th>\n",
       "      <th>gender</th>\n",
       "      <th>income_type</th>\n",
       "      <th>debt</th>\n",
       "      <th>total_income</th>\n",
       "      <th>purpose</th>\n",
       "    </tr>\n",
       "  </thead>\n",
       "  <tbody>\n",
       "    <tr>\n",
       "      <td>291</td>\n",
       "      <td>-1</td>\n",
       "      <td>-4417.703588</td>\n",
       "      <td>46</td>\n",
       "      <td>среднее</td>\n",
       "      <td>1</td>\n",
       "      <td>гражданский брак</td>\n",
       "      <td>1</td>\n",
       "      <td>F</td>\n",
       "      <td>сотрудник</td>\n",
       "      <td>0</td>\n",
       "      <td>102816.346412</td>\n",
       "      <td>профильное образование</td>\n",
       "    </tr>\n",
       "    <tr>\n",
       "      <td>705</td>\n",
       "      <td>-1</td>\n",
       "      <td>-902.084528</td>\n",
       "      <td>50</td>\n",
       "      <td>среднее</td>\n",
       "      <td>1</td>\n",
       "      <td>женат / замужем</td>\n",
       "      <td>0</td>\n",
       "      <td>F</td>\n",
       "      <td>госслужащий</td>\n",
       "      <td>0</td>\n",
       "      <td>137882.899271</td>\n",
       "      <td>приобретение автомобиля</td>\n",
       "    </tr>\n",
       "    <tr>\n",
       "      <td>742</td>\n",
       "      <td>-1</td>\n",
       "      <td>-3174.456205</td>\n",
       "      <td>57</td>\n",
       "      <td>среднее</td>\n",
       "      <td>1</td>\n",
       "      <td>женат / замужем</td>\n",
       "      <td>0</td>\n",
       "      <td>F</td>\n",
       "      <td>сотрудник</td>\n",
       "      <td>0</td>\n",
       "      <td>64268.044444</td>\n",
       "      <td>дополнительное образование</td>\n",
       "    </tr>\n",
       "    <tr>\n",
       "      <td>800</td>\n",
       "      <td>-1</td>\n",
       "      <td>349987.852217</td>\n",
       "      <td>54</td>\n",
       "      <td>среднее</td>\n",
       "      <td>1</td>\n",
       "      <td>Не женат / не замужем</td>\n",
       "      <td>4</td>\n",
       "      <td>F</td>\n",
       "      <td>пенсионер</td>\n",
       "      <td>0</td>\n",
       "      <td>86293.724153</td>\n",
       "      <td>дополнительное образование</td>\n",
       "    </tr>\n",
       "    <tr>\n",
       "      <td>941</td>\n",
       "      <td>-1</td>\n",
       "      <td>NaN</td>\n",
       "      <td>57</td>\n",
       "      <td>Среднее</td>\n",
       "      <td>1</td>\n",
       "      <td>женат / замужем</td>\n",
       "      <td>0</td>\n",
       "      <td>F</td>\n",
       "      <td>пенсионер</td>\n",
       "      <td>0</td>\n",
       "      <td>NaN</td>\n",
       "      <td>на покупку своего автомобиля</td>\n",
       "    </tr>\n",
       "  </tbody>\n",
       "</table>\n",
       "</div>"
      ],
      "text/plain": [
       "     children  days_employed  dob_years education  education_id  \\\n",
       "291        -1   -4417.703588         46   среднее             1   \n",
       "705        -1    -902.084528         50   среднее             1   \n",
       "742        -1   -3174.456205         57   среднее             1   \n",
       "800        -1  349987.852217         54   среднее             1   \n",
       "941        -1            NaN         57   Среднее             1   \n",
       "\n",
       "             family_status  family_status_id gender  income_type  debt  \\\n",
       "291       гражданский брак                 1      F    сотрудник     0   \n",
       "705        женат / замужем                 0      F  госслужащий     0   \n",
       "742        женат / замужем                 0      F    сотрудник     0   \n",
       "800  Не женат / не замужем                 4      F    пенсионер     0   \n",
       "941        женат / замужем                 0      F    пенсионер     0   \n",
       "\n",
       "      total_income                       purpose  \n",
       "291  102816.346412        профильное образование  \n",
       "705  137882.899271       приобретение автомобиля  \n",
       "742   64268.044444    дополнительное образование  \n",
       "800   86293.724153    дополнительное образование  \n",
       "941            NaN  на покупку своего автомобиля  "
      ]
     },
     "execution_count": 19,
     "metadata": {},
     "output_type": "execute_result"
    }
   ],
   "source": [
    "data_1 = data[data['children'] == -1]\n",
    "data_1.head()"
   ]
  },
  {
   "cell_type": "code",
   "execution_count": 20,
   "metadata": {},
   "outputs": [
    {
     "data": {
      "text/plain": [
       "income_type\n",
       "сотрудник      26\n",
       "компаньон       9\n",
       "пенсионер       8\n",
       "госслужащий     4\n",
       "Name: children, dtype: int64"
      ]
     },
     "metadata": {},
     "output_type": "display_data"
    }
   ],
   "source": [
    "display(data_1.groupby('income_type')['children'].count().sort_values(ascending = False))"
   ]
  },
  {
   "cell_type": "code",
   "execution_count": 21,
   "metadata": {},
   "outputs": [
    {
     "data": {
      "text/plain": [
       "gender\n",
       "F    35\n",
       "M    12\n",
       "Name: children, dtype: int64"
      ]
     },
     "metadata": {},
     "output_type": "display_data"
    }
   ],
   "source": [
    "display(data_1.groupby('gender')['children'].count())"
   ]
  },
  {
   "cell_type": "code",
   "execution_count": 22,
   "metadata": {},
   "outputs": [
    {
     "data": {
      "text/plain": [
       "education\n",
       "среднее                31\n",
       "высшее                  8\n",
       "СРЕДНЕЕ                 4\n",
       "Среднее                 2\n",
       "неоконченное высшее     1\n",
       "ВЫСШЕЕ                  1\n",
       "Name: children, dtype: int64"
      ]
     },
     "metadata": {},
     "output_type": "display_data"
    }
   ],
   "source": [
    "display(data_1.groupby('education')['children'].count().sort_values(ascending = False))"
   ]
  },
  {
   "cell_type": "code",
   "execution_count": 23,
   "metadata": {},
   "outputs": [
    {
     "data": {
      "text/plain": [
       "family_status\n",
       "женат / замужем          29\n",
       "гражданский брак          5\n",
       "Не женат / не замужем     5\n",
       "вдовец / вдова            4\n",
       "в разводе                 4\n",
       "Name: children, dtype: int64"
      ]
     },
     "metadata": {},
     "output_type": "display_data"
    }
   ],
   "source": [
    "display(data_1.groupby('family_status')['children'].count().sort_values(ascending = False))"
   ]
  },
  {
   "cell_type": "markdown",
   "metadata": {},
   "source": [
    "Теперь для `20`:"
   ]
  },
  {
   "cell_type": "code",
   "execution_count": 24,
   "metadata": {},
   "outputs": [
    {
     "data": {
      "text/html": [
       "<div>\n",
       "<style scoped>\n",
       "    .dataframe tbody tr th:only-of-type {\n",
       "        vertical-align: middle;\n",
       "    }\n",
       "\n",
       "    .dataframe tbody tr th {\n",
       "        vertical-align: top;\n",
       "    }\n",
       "\n",
       "    .dataframe thead th {\n",
       "        text-align: right;\n",
       "    }\n",
       "</style>\n",
       "<table border=\"1\" class=\"dataframe\">\n",
       "  <thead>\n",
       "    <tr style=\"text-align: right;\">\n",
       "      <th></th>\n",
       "      <th>children</th>\n",
       "      <th>days_employed</th>\n",
       "      <th>dob_years</th>\n",
       "      <th>education</th>\n",
       "      <th>education_id</th>\n",
       "      <th>family_status</th>\n",
       "      <th>family_status_id</th>\n",
       "      <th>gender</th>\n",
       "      <th>income_type</th>\n",
       "      <th>debt</th>\n",
       "      <th>total_income</th>\n",
       "      <th>purpose</th>\n",
       "    </tr>\n",
       "  </thead>\n",
       "  <tbody>\n",
       "    <tr>\n",
       "      <td>606</td>\n",
       "      <td>20</td>\n",
       "      <td>-880.221113</td>\n",
       "      <td>21</td>\n",
       "      <td>среднее</td>\n",
       "      <td>1</td>\n",
       "      <td>женат / замужем</td>\n",
       "      <td>0</td>\n",
       "      <td>M</td>\n",
       "      <td>компаньон</td>\n",
       "      <td>0</td>\n",
       "      <td>145334.865002</td>\n",
       "      <td>покупка жилья</td>\n",
       "    </tr>\n",
       "    <tr>\n",
       "      <td>720</td>\n",
       "      <td>20</td>\n",
       "      <td>-855.595512</td>\n",
       "      <td>44</td>\n",
       "      <td>среднее</td>\n",
       "      <td>1</td>\n",
       "      <td>женат / замужем</td>\n",
       "      <td>0</td>\n",
       "      <td>F</td>\n",
       "      <td>компаньон</td>\n",
       "      <td>0</td>\n",
       "      <td>112998.738649</td>\n",
       "      <td>покупка недвижимости</td>\n",
       "    </tr>\n",
       "    <tr>\n",
       "      <td>1074</td>\n",
       "      <td>20</td>\n",
       "      <td>-3310.411598</td>\n",
       "      <td>56</td>\n",
       "      <td>среднее</td>\n",
       "      <td>1</td>\n",
       "      <td>женат / замужем</td>\n",
       "      <td>0</td>\n",
       "      <td>F</td>\n",
       "      <td>сотрудник</td>\n",
       "      <td>1</td>\n",
       "      <td>229518.537004</td>\n",
       "      <td>получение образования</td>\n",
       "    </tr>\n",
       "    <tr>\n",
       "      <td>2510</td>\n",
       "      <td>20</td>\n",
       "      <td>-2714.161249</td>\n",
       "      <td>59</td>\n",
       "      <td>высшее</td>\n",
       "      <td>0</td>\n",
       "      <td>вдовец / вдова</td>\n",
       "      <td>2</td>\n",
       "      <td>F</td>\n",
       "      <td>сотрудник</td>\n",
       "      <td>0</td>\n",
       "      <td>264474.835577</td>\n",
       "      <td>операции с коммерческой недвижимостью</td>\n",
       "    </tr>\n",
       "    <tr>\n",
       "      <td>2941</td>\n",
       "      <td>20</td>\n",
       "      <td>-2161.591519</td>\n",
       "      <td>43</td>\n",
       "      <td>среднее</td>\n",
       "      <td>1</td>\n",
       "      <td>женат / замужем</td>\n",
       "      <td>0</td>\n",
       "      <td>F</td>\n",
       "      <td>сотрудник</td>\n",
       "      <td>0</td>\n",
       "      <td>199739.941398</td>\n",
       "      <td>на покупку автомобиля</td>\n",
       "    </tr>\n",
       "  </tbody>\n",
       "</table>\n",
       "</div>"
      ],
      "text/plain": [
       "      children  days_employed  dob_years education  education_id  \\\n",
       "606         20    -880.221113         21   среднее             1   \n",
       "720         20    -855.595512         44   среднее             1   \n",
       "1074        20   -3310.411598         56   среднее             1   \n",
       "2510        20   -2714.161249         59    высшее             0   \n",
       "2941        20   -2161.591519         43   среднее             1   \n",
       "\n",
       "        family_status  family_status_id gender income_type  debt  \\\n",
       "606   женат / замужем                 0      M   компаньон     0   \n",
       "720   женат / замужем                 0      F   компаньон     0   \n",
       "1074  женат / замужем                 0      F   сотрудник     1   \n",
       "2510   вдовец / вдова                 2      F   сотрудник     0   \n",
       "2941  женат / замужем                 0      F   сотрудник     0   \n",
       "\n",
       "       total_income                                purpose  \n",
       "606   145334.865002                          покупка жилья  \n",
       "720   112998.738649                   покупка недвижимости  \n",
       "1074  229518.537004                  получение образования  \n",
       "2510  264474.835577  операции с коммерческой недвижимостью  \n",
       "2941  199739.941398                  на покупку автомобиля  "
      ]
     },
     "execution_count": 24,
     "metadata": {},
     "output_type": "execute_result"
    }
   ],
   "source": [
    "data_20 = data[data['children'] == 20]\n",
    "data_20.head()"
   ]
  },
  {
   "cell_type": "code",
   "execution_count": 25,
   "metadata": {},
   "outputs": [
    {
     "data": {
      "text/plain": [
       "income_type\n",
       "сотрудник      43\n",
       "компаньон      22\n",
       "пенсионер       9\n",
       "госслужащий     2\n",
       "Name: children, dtype: int64"
      ]
     },
     "metadata": {},
     "output_type": "display_data"
    }
   ],
   "source": [
    "display(data_20.groupby('income_type')['children'].count().sort_values(ascending = False))"
   ]
  },
  {
   "cell_type": "code",
   "execution_count": 26,
   "metadata": {},
   "outputs": [
    {
     "data": {
      "text/plain": [
       "gender\n",
       "F    47\n",
       "M    29\n",
       "Name: children, dtype: int64"
      ]
     },
     "metadata": {},
     "output_type": "display_data"
    }
   ],
   "source": [
    "display(data_20.groupby('gender')['children'].count())"
   ]
  },
  {
   "cell_type": "code",
   "execution_count": 27,
   "metadata": {},
   "outputs": [
    {
     "data": {
      "text/plain": [
       "education\n",
       "среднее                31\n",
       "высшее                  8\n",
       "СРЕДНЕЕ                 4\n",
       "Среднее                 2\n",
       "неоконченное высшее     1\n",
       "ВЫСШЕЕ                  1\n",
       "Name: children, dtype: int64"
      ]
     },
     "metadata": {},
     "output_type": "display_data"
    }
   ],
   "source": [
    "display(data_1.groupby('education')['children'].count().sort_values(ascending = False))"
   ]
  },
  {
   "cell_type": "code",
   "execution_count": 28,
   "metadata": {},
   "outputs": [
    {
     "data": {
      "text/plain": [
       "family_status\n",
       "женат / замужем          29\n",
       "гражданский брак          5\n",
       "Не женат / не замужем     5\n",
       "вдовец / вдова            4\n",
       "в разводе                 4\n",
       "Name: children, dtype: int64"
      ]
     },
     "metadata": {},
     "output_type": "display_data"
    }
   ],
   "source": [
    "display(data_1.groupby('family_status')['children'].count().sort_values(ascending = False))"
   ]
  },
  {
   "cell_type": "markdown",
   "metadata": {},
   "source": [
    "**Предварительный вывод**: аномальные значения в этом столбце не имеют закономерности, однако имеют схожую частоту заполнения. В большинстве случаев, этим значениями заполняются наблюдения, связанные с сотрудниками, людьми женского пола, людьми со средним образованием, замужем/женат. Подобный пропуск может быть связан со следующим фактором:\n",
    "* **Технический фактор**: пропуск заполняется -1, если пункт был проигнорирован клиентов или написан в форме (нет детей), значение 20 - когда клиент при оформлении заявки написал: \"есть дети\", и не совсем ясно, какое количество детей имелось в ввиду.\n",
    "\n",
    "**Предварительное решение**\n",
    "* для случая -1: заменить значение на 0, так можно убедить в том, что мы корректно представляем наши данные в таблице.\n",
    "* для случая 20: посчитать с учетом замены -1 на медианное значение количество детей, чтобы отбросить аномальное количество детей.\n",
    "* проконсультироваться с разработчиком о корректности заполнения данных.\n",
    "* проигнорировать строчки, где есть есть значения -1 и 20, так как эти значения вместе представляют собой существенно малую выборку (123 строчки) и их исключение несущественно исказит результаты исследования.\n",
    "\n",
    "Выберем последний вариант."
   ]
  },
  {
   "cell_type": "code",
   "execution_count": 29,
   "metadata": {},
   "outputs": [],
   "source": [
    "data = data[(data['children'] != -1) & (data['children'] != 20)]"
   ]
  },
  {
   "cell_type": "markdown",
   "metadata": {},
   "source": [
    "Проверим полученные изменения в таблице:"
   ]
  },
  {
   "cell_type": "code",
   "execution_count": 30,
   "metadata": {},
   "outputs": [
    {
     "name": "stdout",
     "output_type": "stream",
     "text": [
      "0    14148\n",
      "1     4818\n",
      "2     2055\n",
      "3      330\n",
      "4       41\n",
      "5        9\n",
      "Name: children, dtype: int64\n"
     ]
    }
   ],
   "source": [
    "print(data['children'].value_counts())"
   ]
  },
  {
   "cell_type": "markdown",
   "metadata": {},
   "source": [
    "Аномальные значения проигнорированы, идем дальше. "
   ]
  },
  {
   "cell_type": "markdown",
   "metadata": {},
   "source": [
    "Вернемся к явным пропускам в столбцах **days_employed** и **total_income**. \n",
    "\n",
    "Посчитаем количество пропусков в столбцах и выведем таблицу, в котором данные столбцы заполнены пропусками для определения причины возникновения пропуска."
   ]
  },
  {
   "cell_type": "code",
   "execution_count": 31,
   "metadata": {},
   "outputs": [
    {
     "name": "stdout",
     "output_type": "stream",
     "text": [
      "Количество пропусков в столбце days_employed: 2162\n"
     ]
    }
   ],
   "source": [
    "print('Количество пропусков в столбце days_employed:', data['days_employed'].isna().sum())"
   ]
  },
  {
   "cell_type": "code",
   "execution_count": 32,
   "metadata": {},
   "outputs": [
    {
     "name": "stdout",
     "output_type": "stream",
     "text": [
      "Количество пропусков в столбце total_income: 2162\n"
     ]
    }
   ],
   "source": [
    "print('Количество пропусков в столбце total_income:', data['total_income'].isna().sum())"
   ]
  },
  {
   "cell_type": "code",
   "execution_count": 33,
   "metadata": {},
   "outputs": [
    {
     "data": {
      "text/html": [
       "<div>\n",
       "<style scoped>\n",
       "    .dataframe tbody tr th:only-of-type {\n",
       "        vertical-align: middle;\n",
       "    }\n",
       "\n",
       "    .dataframe tbody tr th {\n",
       "        vertical-align: top;\n",
       "    }\n",
       "\n",
       "    .dataframe thead th {\n",
       "        text-align: right;\n",
       "    }\n",
       "</style>\n",
       "<table border=\"1\" class=\"dataframe\">\n",
       "  <thead>\n",
       "    <tr style=\"text-align: right;\">\n",
       "      <th></th>\n",
       "      <th>children</th>\n",
       "      <th>days_employed</th>\n",
       "      <th>dob_years</th>\n",
       "      <th>education</th>\n",
       "      <th>education_id</th>\n",
       "      <th>family_status</th>\n",
       "      <th>family_status_id</th>\n",
       "      <th>gender</th>\n",
       "      <th>income_type</th>\n",
       "      <th>debt</th>\n",
       "      <th>total_income</th>\n",
       "      <th>purpose</th>\n",
       "    </tr>\n",
       "  </thead>\n",
       "  <tbody>\n",
       "    <tr>\n",
       "      <td>12</td>\n",
       "      <td>0</td>\n",
       "      <td>NaN</td>\n",
       "      <td>65</td>\n",
       "      <td>среднее</td>\n",
       "      <td>1</td>\n",
       "      <td>гражданский брак</td>\n",
       "      <td>1</td>\n",
       "      <td>M</td>\n",
       "      <td>пенсионер</td>\n",
       "      <td>0</td>\n",
       "      <td>NaN</td>\n",
       "      <td>сыграть свадьбу</td>\n",
       "    </tr>\n",
       "    <tr>\n",
       "      <td>26</td>\n",
       "      <td>0</td>\n",
       "      <td>NaN</td>\n",
       "      <td>41</td>\n",
       "      <td>среднее</td>\n",
       "      <td>1</td>\n",
       "      <td>женат / замужем</td>\n",
       "      <td>0</td>\n",
       "      <td>M</td>\n",
       "      <td>госслужащий</td>\n",
       "      <td>0</td>\n",
       "      <td>NaN</td>\n",
       "      <td>образование</td>\n",
       "    </tr>\n",
       "    <tr>\n",
       "      <td>29</td>\n",
       "      <td>0</td>\n",
       "      <td>NaN</td>\n",
       "      <td>63</td>\n",
       "      <td>среднее</td>\n",
       "      <td>1</td>\n",
       "      <td>Не женат / не замужем</td>\n",
       "      <td>4</td>\n",
       "      <td>F</td>\n",
       "      <td>пенсионер</td>\n",
       "      <td>0</td>\n",
       "      <td>NaN</td>\n",
       "      <td>строительство жилой недвижимости</td>\n",
       "    </tr>\n",
       "    <tr>\n",
       "      <td>41</td>\n",
       "      <td>0</td>\n",
       "      <td>NaN</td>\n",
       "      <td>50</td>\n",
       "      <td>среднее</td>\n",
       "      <td>1</td>\n",
       "      <td>женат / замужем</td>\n",
       "      <td>0</td>\n",
       "      <td>F</td>\n",
       "      <td>госслужащий</td>\n",
       "      <td>0</td>\n",
       "      <td>NaN</td>\n",
       "      <td>сделка с подержанным автомобилем</td>\n",
       "    </tr>\n",
       "    <tr>\n",
       "      <td>55</td>\n",
       "      <td>0</td>\n",
       "      <td>NaN</td>\n",
       "      <td>54</td>\n",
       "      <td>среднее</td>\n",
       "      <td>1</td>\n",
       "      <td>гражданский брак</td>\n",
       "      <td>1</td>\n",
       "      <td>F</td>\n",
       "      <td>пенсионер</td>\n",
       "      <td>1</td>\n",
       "      <td>NaN</td>\n",
       "      <td>сыграть свадьбу</td>\n",
       "    </tr>\n",
       "  </tbody>\n",
       "</table>\n",
       "</div>"
      ],
      "text/plain": [
       "    children  days_employed  dob_years education  education_id  \\\n",
       "12         0            NaN         65   среднее             1   \n",
       "26         0            NaN         41   среднее             1   \n",
       "29         0            NaN         63   среднее             1   \n",
       "41         0            NaN         50   среднее             1   \n",
       "55         0            NaN         54   среднее             1   \n",
       "\n",
       "            family_status  family_status_id gender  income_type  debt  \\\n",
       "12       гражданский брак                 1      M    пенсионер     0   \n",
       "26        женат / замужем                 0      M  госслужащий     0   \n",
       "29  Не женат / не замужем                 4      F    пенсионер     0   \n",
       "41        женат / замужем                 0      F  госслужащий     0   \n",
       "55       гражданский брак                 1      F    пенсионер     1   \n",
       "\n",
       "    total_income                           purpose  \n",
       "12           NaN                   сыграть свадьбу  \n",
       "26           NaN                       образование  \n",
       "29           NaN  строительство жилой недвижимости  \n",
       "41           NaN  сделка с подержанным автомобилем  \n",
       "55           NaN                   сыграть свадьбу  "
      ]
     },
     "execution_count": 33,
     "metadata": {},
     "output_type": "execute_result"
    }
   ],
   "source": [
    "data[ (data['days_employed'].isna()) &  (data['total_income'].isna())].head()"
   ]
  },
  {
   "cell_type": "code",
   "execution_count": 34,
   "metadata": {},
   "outputs": [
    {
     "name": "stdout",
     "output_type": "stream",
     "text": [
      "Количество \"пустых\" строк: 2162\n"
     ]
    }
   ],
   "source": [
    "# Подсчет количества строк, в которых столбцы total_income и days_employed одновременно пусты\n",
    "print('Количество \"пустых\" строк:', data[ (data['days_employed'].isna()) &  (data['total_income'].isna())]['dob_years'].count())"
   ]
  },
  {
   "cell_type": "code",
   "execution_count": 35,
   "metadata": {},
   "outputs": [
    {
     "data": {
      "text/plain": [
       "education\n",
       "среднее                1400\n",
       "высшее                  493\n",
       "СРЕДНЕЕ                  67\n",
       "Среднее                  64\n",
       "неоконченное высшее      55\n",
       "Высшее                   25\n",
       "ВЫСШЕЕ                   23\n",
       "начальное                19\n",
       "Неоконченное высшее       7\n",
       "НЕОКОНЧЕННОЕ ВЫСШЕЕ       7\n",
       "Начальное                 1\n",
       "НАЧАЛЬНОЕ                 1\n",
       "Name: dob_years, dtype: int64"
      ]
     },
     "metadata": {},
     "output_type": "display_data"
    }
   ],
   "source": [
    "data_nan_values = data[ (data['days_employed'].isna()) &  (data['total_income'].isna())]\n",
    "display(data_nan_values.groupby('education')['dob_years'].count().sort_values(ascending = False))"
   ]
  },
  {
   "cell_type": "markdown",
   "metadata": {},
   "source": [
    "**Предварительный вывод:** обнаружена закономерность: пропуски в столбцах **days_employed** и **total_income** присутствуют одновременно. Большинство пропусков связана со средним и высшим образованиями. Пропуски можно считать случайными.\n",
    "* **Человеческий фактор:** люди со средним и высшим образованиями склонны скрывать информацию о своем стаже и ежемесячном доходе; возможна ситуация, когда сотруник банка некорректно заполнял данные клиентов (и такое бывает, наверное).\n",
    "\n",
    "**Предвариательное решение:**\n",
    "* **Исключить** строки, где присутствуют пропуски в значениях. Это может повлиять на окончательный результаты исследования, так как пропуски представляют собой 2164 / 21524 = 0.1 * 100 % = 10% выборки. Удалять строки с пропусками нельзя.\n",
    "* **Исключить** столбец **days_employed**. Так как этот столбец для проведения исследования не нужен, а его удаление никак не повлияет на результаты исследования. А также **заменить** пропуски в столбце **total_income** на медианное значение ежемесячного дохода выборки. \n",
    "* **Уточнить** у разработчика: корректно ли заполняются значения в этих столбцах.\n",
    "\n",
    "Выберем второй вариант решения проблемы."
   ]
  },
  {
   "cell_type": "markdown",
   "metadata": {},
   "source": [
    "Для начала заполним значения столбца **total_income** медианным значением."
   ]
  },
  {
   "cell_type": "code",
   "execution_count": 36,
   "metadata": {},
   "outputs": [],
   "source": [
    "total_income_median = data['total_income'].median()\n",
    "try:\n",
    "    data['total_income'] = data['total_income'].fillna(total_income_median)\n",
    "except:\n",
    "    print(\"Что-то пошло не так!\")"
   ]
  },
  {
   "cell_type": "markdown",
   "metadata": {},
   "source": [
    "Проверим, заполинились ли пропуски в этом столбце. Для этого посмотрим общую информацю о таблице."
   ]
  },
  {
   "cell_type": "code",
   "execution_count": 37,
   "metadata": {},
   "outputs": [
    {
     "name": "stdout",
     "output_type": "stream",
     "text": [
      "<class 'pandas.core.frame.DataFrame'>\n",
      "Int64Index: 21401 entries, 0 to 21523\n",
      "Data columns (total 12 columns):\n",
      "children            21401 non-null int64\n",
      "days_employed       19239 non-null float64\n",
      "dob_years           21401 non-null int64\n",
      "education           21401 non-null object\n",
      "education_id        21401 non-null int64\n",
      "family_status       21401 non-null object\n",
      "family_status_id    21401 non-null int64\n",
      "gender              21401 non-null object\n",
      "income_type         21401 non-null object\n",
      "debt                21401 non-null int64\n",
      "total_income        21401 non-null float64\n",
      "purpose             21401 non-null object\n",
      "dtypes: float64(2), int64(5), object(5)\n",
      "memory usage: 2.1+ MB\n"
     ]
    }
   ],
   "source": [
    "data.info()"
   ]
  },
  {
   "cell_type": "markdown",
   "metadata": {},
   "source": [
    "Явные пропуски в столбце **total_income** устранены.\n",
    "Теперь удалим столбец **days_employed**."
   ]
  },
  {
   "cell_type": "code",
   "execution_count": 38,
   "metadata": {},
   "outputs": [],
   "source": [
    "data = data.dropna(axis = 'columns')"
   ]
  },
  {
   "cell_type": "markdown",
   "metadata": {},
   "source": [
    "Проверим, удалился ли столбец с **days_employed**:"
   ]
  },
  {
   "cell_type": "code",
   "execution_count": 39,
   "metadata": {},
   "outputs": [
    {
     "name": "stdout",
     "output_type": "stream",
     "text": [
      "<class 'pandas.core.frame.DataFrame'>\n",
      "Int64Index: 21401 entries, 0 to 21523\n",
      "Data columns (total 11 columns):\n",
      "children            21401 non-null int64\n",
      "dob_years           21401 non-null int64\n",
      "education           21401 non-null object\n",
      "education_id        21401 non-null int64\n",
      "family_status       21401 non-null object\n",
      "family_status_id    21401 non-null int64\n",
      "gender              21401 non-null object\n",
      "income_type         21401 non-null object\n",
      "debt                21401 non-null int64\n",
      "total_income        21401 non-null float64\n",
      "purpose             21401 non-null object\n",
      "dtypes: float64(1), int64(5), object(5)\n",
      "memory usage: 2.0+ MB\n"
     ]
    }
   ],
   "source": [
    "data.info()"
   ]
  },
  {
   "cell_type": "markdown",
   "metadata": {},
   "source": [
    "Столбец удален, пропуски устранены.\n",
    "\n",
    "**Вывод:** в исходных данных присутствовали пропуски (явные и неявные), как в категориальных, так и в количественных переменных. Причины возникновения этих пропусков связаны как с человеческим фактором (преднамеренное сокрытие данных, ошибка при заполнении заявки клиента), так и техническим фактором (некорректная обработка значений). Были рассмотрены возможные причины их возникновения, а также возможные варианты решения сформированных проблем. Таблица готова для дальнейшей предварительной обработки данных."
   ]
  },
  {
   "cell_type": "markdown",
   "metadata": {},
   "source": [
    "### Замена типа данных <a id='type'></a>\n",
    "[в начало](#begin)"
   ]
  },
  {
   "cell_type": "markdown",
   "metadata": {},
   "source": [
    "Прежде чем заменить данные, рассмотрим какой тип данных используется к каждому признаку."
   ]
  },
  {
   "cell_type": "code",
   "execution_count": 40,
   "metadata": {
    "scrolled": true
   },
   "outputs": [
    {
     "data": {
      "text/plain": [
       "children              int64\n",
       "dob_years             int64\n",
       "education            object\n",
       "education_id          int64\n",
       "family_status        object\n",
       "family_status_id      int64\n",
       "gender               object\n",
       "income_type          object\n",
       "debt                  int64\n",
       "total_income        float64\n",
       "purpose              object\n",
       "dtype: object"
      ]
     },
     "execution_count": 40,
     "metadata": {},
     "output_type": "execute_result"
    }
   ],
   "source": [
    "data.dtypes"
   ]
  },
  {
   "cell_type": "markdown",
   "metadata": {},
   "source": [
    "Рассмотрим первые пять строк таблицы, чтобы понять, какие значения имеет столбец **total_income**."
   ]
  },
  {
   "cell_type": "code",
   "execution_count": 41,
   "metadata": {},
   "outputs": [
    {
     "data": {
      "text/html": [
       "<div>\n",
       "<style scoped>\n",
       "    .dataframe tbody tr th:only-of-type {\n",
       "        vertical-align: middle;\n",
       "    }\n",
       "\n",
       "    .dataframe tbody tr th {\n",
       "        vertical-align: top;\n",
       "    }\n",
       "\n",
       "    .dataframe thead th {\n",
       "        text-align: right;\n",
       "    }\n",
       "</style>\n",
       "<table border=\"1\" class=\"dataframe\">\n",
       "  <thead>\n",
       "    <tr style=\"text-align: right;\">\n",
       "      <th></th>\n",
       "      <th>children</th>\n",
       "      <th>dob_years</th>\n",
       "      <th>education</th>\n",
       "      <th>education_id</th>\n",
       "      <th>family_status</th>\n",
       "      <th>family_status_id</th>\n",
       "      <th>gender</th>\n",
       "      <th>income_type</th>\n",
       "      <th>debt</th>\n",
       "      <th>total_income</th>\n",
       "      <th>purpose</th>\n",
       "    </tr>\n",
       "  </thead>\n",
       "  <tbody>\n",
       "    <tr>\n",
       "      <td>0</td>\n",
       "      <td>1</td>\n",
       "      <td>42</td>\n",
       "      <td>высшее</td>\n",
       "      <td>0</td>\n",
       "      <td>женат / замужем</td>\n",
       "      <td>0</td>\n",
       "      <td>F</td>\n",
       "      <td>сотрудник</td>\n",
       "      <td>0</td>\n",
       "      <td>253875.639453</td>\n",
       "      <td>покупка жилья</td>\n",
       "    </tr>\n",
       "    <tr>\n",
       "      <td>1</td>\n",
       "      <td>1</td>\n",
       "      <td>36</td>\n",
       "      <td>среднее</td>\n",
       "      <td>1</td>\n",
       "      <td>женат / замужем</td>\n",
       "      <td>0</td>\n",
       "      <td>F</td>\n",
       "      <td>сотрудник</td>\n",
       "      <td>0</td>\n",
       "      <td>112080.014102</td>\n",
       "      <td>приобретение автомобиля</td>\n",
       "    </tr>\n",
       "    <tr>\n",
       "      <td>2</td>\n",
       "      <td>0</td>\n",
       "      <td>33</td>\n",
       "      <td>Среднее</td>\n",
       "      <td>1</td>\n",
       "      <td>женат / замужем</td>\n",
       "      <td>0</td>\n",
       "      <td>M</td>\n",
       "      <td>сотрудник</td>\n",
       "      <td>0</td>\n",
       "      <td>145885.952297</td>\n",
       "      <td>покупка жилья</td>\n",
       "    </tr>\n",
       "    <tr>\n",
       "      <td>3</td>\n",
       "      <td>3</td>\n",
       "      <td>32</td>\n",
       "      <td>среднее</td>\n",
       "      <td>1</td>\n",
       "      <td>женат / замужем</td>\n",
       "      <td>0</td>\n",
       "      <td>M</td>\n",
       "      <td>сотрудник</td>\n",
       "      <td>0</td>\n",
       "      <td>267628.550329</td>\n",
       "      <td>дополнительное образование</td>\n",
       "    </tr>\n",
       "    <tr>\n",
       "      <td>4</td>\n",
       "      <td>0</td>\n",
       "      <td>53</td>\n",
       "      <td>среднее</td>\n",
       "      <td>1</td>\n",
       "      <td>гражданский брак</td>\n",
       "      <td>1</td>\n",
       "      <td>F</td>\n",
       "      <td>пенсионер</td>\n",
       "      <td>0</td>\n",
       "      <td>158616.077870</td>\n",
       "      <td>сыграть свадьбу</td>\n",
       "    </tr>\n",
       "  </tbody>\n",
       "</table>\n",
       "</div>"
      ],
      "text/plain": [
       "   children  dob_years education  education_id     family_status  \\\n",
       "0         1         42    высшее             0   женат / замужем   \n",
       "1         1         36   среднее             1   женат / замужем   \n",
       "2         0         33   Среднее             1   женат / замужем   \n",
       "3         3         32   среднее             1   женат / замужем   \n",
       "4         0         53   среднее             1  гражданский брак   \n",
       "\n",
       "   family_status_id gender income_type  debt   total_income  \\\n",
       "0                 0      F   сотрудник     0  253875.639453   \n",
       "1                 0      F   сотрудник     0  112080.014102   \n",
       "2                 0      M   сотрудник     0  145885.952297   \n",
       "3                 0      M   сотрудник     0  267628.550329   \n",
       "4                 1      F   пенсионер     0  158616.077870   \n",
       "\n",
       "                      purpose  \n",
       "0               покупка жилья  \n",
       "1     приобретение автомобиля  \n",
       "2               покупка жилья  \n",
       "3  дополнительное образование  \n",
       "4             сыграть свадьбу  "
      ]
     },
     "execution_count": 41,
     "metadata": {},
     "output_type": "execute_result"
    }
   ],
   "source": [
    "data.head()"
   ]
  },
  {
   "cell_type": "markdown",
   "metadata": {},
   "source": [
    "**Предварительный вывод:** нас интересует столбец **total_income** - ежемесячный доход. Значения этого столбца имеют тип \"с плавающей точкой\", т.е. `float64`. Сами значения имеют шесть и более знаков после деления, что делает представление о ежемесячном доходе каждого клиента некорректным. Определить как, почему и откуда заполняются в такой форме данные невозможно, так как не хватает информации. Возможная причина некорректного заполнения столбца:\n",
    "* **Технический фактор:** Разработчик некорректно заполняет столбец. Не существует миллионой доли денежного эквивалента (только до второго знака после запятой). Более того, пункт денежнего дохода в контексте решения задачи представляет собой доход без учета копеек.\n",
    "\n",
    "**Возможное решение:** \n",
    "* заменить тип столбца **total_income** на `int`\n",
    "* уточнить у разработка корректность заполнения значений в этот признак"
   ]
  },
  {
   "cell_type": "markdown",
   "metadata": {},
   "source": [
    "Проведем замену типа значений столбца **total_income** на `int`. Для этого воспользуемся методом `astype()` для преобразования типа в столбце на целочисленный:"
   ]
  },
  {
   "cell_type": "code",
   "execution_count": 42,
   "metadata": {},
   "outputs": [
    {
     "data": {
      "text/html": [
       "<div>\n",
       "<style scoped>\n",
       "    .dataframe tbody tr th:only-of-type {\n",
       "        vertical-align: middle;\n",
       "    }\n",
       "\n",
       "    .dataframe tbody tr th {\n",
       "        vertical-align: top;\n",
       "    }\n",
       "\n",
       "    .dataframe thead th {\n",
       "        text-align: right;\n",
       "    }\n",
       "</style>\n",
       "<table border=\"1\" class=\"dataframe\">\n",
       "  <thead>\n",
       "    <tr style=\"text-align: right;\">\n",
       "      <th></th>\n",
       "      <th>children</th>\n",
       "      <th>dob_years</th>\n",
       "      <th>education</th>\n",
       "      <th>education_id</th>\n",
       "      <th>family_status</th>\n",
       "      <th>family_status_id</th>\n",
       "      <th>gender</th>\n",
       "      <th>income_type</th>\n",
       "      <th>debt</th>\n",
       "      <th>total_income</th>\n",
       "      <th>purpose</th>\n",
       "    </tr>\n",
       "  </thead>\n",
       "  <tbody>\n",
       "    <tr>\n",
       "      <td>0</td>\n",
       "      <td>1</td>\n",
       "      <td>42</td>\n",
       "      <td>высшее</td>\n",
       "      <td>0</td>\n",
       "      <td>женат / замужем</td>\n",
       "      <td>0</td>\n",
       "      <td>F</td>\n",
       "      <td>сотрудник</td>\n",
       "      <td>0</td>\n",
       "      <td>253875</td>\n",
       "      <td>покупка жилья</td>\n",
       "    </tr>\n",
       "    <tr>\n",
       "      <td>1</td>\n",
       "      <td>1</td>\n",
       "      <td>36</td>\n",
       "      <td>среднее</td>\n",
       "      <td>1</td>\n",
       "      <td>женат / замужем</td>\n",
       "      <td>0</td>\n",
       "      <td>F</td>\n",
       "      <td>сотрудник</td>\n",
       "      <td>0</td>\n",
       "      <td>112080</td>\n",
       "      <td>приобретение автомобиля</td>\n",
       "    </tr>\n",
       "    <tr>\n",
       "      <td>2</td>\n",
       "      <td>0</td>\n",
       "      <td>33</td>\n",
       "      <td>Среднее</td>\n",
       "      <td>1</td>\n",
       "      <td>женат / замужем</td>\n",
       "      <td>0</td>\n",
       "      <td>M</td>\n",
       "      <td>сотрудник</td>\n",
       "      <td>0</td>\n",
       "      <td>145885</td>\n",
       "      <td>покупка жилья</td>\n",
       "    </tr>\n",
       "    <tr>\n",
       "      <td>3</td>\n",
       "      <td>3</td>\n",
       "      <td>32</td>\n",
       "      <td>среднее</td>\n",
       "      <td>1</td>\n",
       "      <td>женат / замужем</td>\n",
       "      <td>0</td>\n",
       "      <td>M</td>\n",
       "      <td>сотрудник</td>\n",
       "      <td>0</td>\n",
       "      <td>267628</td>\n",
       "      <td>дополнительное образование</td>\n",
       "    </tr>\n",
       "    <tr>\n",
       "      <td>4</td>\n",
       "      <td>0</td>\n",
       "      <td>53</td>\n",
       "      <td>среднее</td>\n",
       "      <td>1</td>\n",
       "      <td>гражданский брак</td>\n",
       "      <td>1</td>\n",
       "      <td>F</td>\n",
       "      <td>пенсионер</td>\n",
       "      <td>0</td>\n",
       "      <td>158616</td>\n",
       "      <td>сыграть свадьбу</td>\n",
       "    </tr>\n",
       "  </tbody>\n",
       "</table>\n",
       "</div>"
      ],
      "text/plain": [
       "   children  dob_years education  education_id     family_status  \\\n",
       "0         1         42    высшее             0   женат / замужем   \n",
       "1         1         36   среднее             1   женат / замужем   \n",
       "2         0         33   Среднее             1   женат / замужем   \n",
       "3         3         32   среднее             1   женат / замужем   \n",
       "4         0         53   среднее             1  гражданский брак   \n",
       "\n",
       "   family_status_id gender income_type  debt  total_income  \\\n",
       "0                 0      F   сотрудник     0        253875   \n",
       "1                 0      F   сотрудник     0        112080   \n",
       "2                 0      M   сотрудник     0        145885   \n",
       "3                 0      M   сотрудник     0        267628   \n",
       "4                 1      F   пенсионер     0        158616   \n",
       "\n",
       "                      purpose  \n",
       "0               покупка жилья  \n",
       "1     приобретение автомобиля  \n",
       "2               покупка жилья  \n",
       "3  дополнительное образование  \n",
       "4             сыграть свадьбу  "
      ]
     },
     "execution_count": 42,
     "metadata": {},
     "output_type": "execute_result"
    }
   ],
   "source": [
    "try:\n",
    "    data['total_income'] = data['total_income'].astype('int')\n",
    "except:\n",
    "    print('Error!')\n",
    "data.head()"
   ]
  },
  {
   "cell_type": "markdown",
   "metadata": {},
   "source": [
    "Выведем общую информацию о типах данных в таблице:"
   ]
  },
  {
   "cell_type": "code",
   "execution_count": 43,
   "metadata": {},
   "outputs": [
    {
     "data": {
      "text/plain": [
       "children             int64\n",
       "dob_years            int64\n",
       "education           object\n",
       "education_id         int64\n",
       "family_status       object\n",
       "family_status_id     int64\n",
       "gender              object\n",
       "income_type         object\n",
       "debt                 int64\n",
       "total_income         int64\n",
       "purpose             object\n",
       "dtype: object"
      ]
     },
     "execution_count": 43,
     "metadata": {},
     "output_type": "execute_result"
    }
   ],
   "source": [
    "data.dtypes"
   ]
  },
  {
   "cell_type": "markdown",
   "metadata": {},
   "source": [
    "Тип данных в столбце **total_income** заменен на целочисленный тип."
   ]
  },
  {
   "cell_type": "markdown",
   "metadata": {},
   "source": [
    "**Вывод:** провели замену типа данных с `float` на `int` в столбце **total_income**. Некорректный к применению тип данных этого признака исказал представления ежемеячного дохода каждого клиента."
   ]
  },
  {
   "cell_type": "markdown",
   "metadata": {},
   "source": [
    "### Обработка дубликатов <a id='dup'></a>\n",
    "[в начало](#begin)"
   ]
  },
  {
   "cell_type": "markdown",
   "metadata": {},
   "source": [
    "Прежде чем начать обработку дубликатов, посчитаем общее количество дубликатов в таблице:"
   ]
  },
  {
   "cell_type": "code",
   "execution_count": 44,
   "metadata": {},
   "outputs": [
    {
     "name": "stdout",
     "output_type": "stream",
     "text": [
      "Количество дубликатов: 54\n"
     ]
    }
   ],
   "source": [
    "print('Количество дубликатов:', data.duplicated().sum())"
   ]
  },
  {
   "cell_type": "markdown",
   "metadata": {},
   "source": [
    "Выведем таблицу, строки которые являются явными дубликатами:"
   ]
  },
  {
   "cell_type": "code",
   "execution_count": 45,
   "metadata": {},
   "outputs": [
    {
     "data": {
      "text/html": [
       "<div>\n",
       "<style scoped>\n",
       "    .dataframe tbody tr th:only-of-type {\n",
       "        vertical-align: middle;\n",
       "    }\n",
       "\n",
       "    .dataframe tbody tr th {\n",
       "        vertical-align: top;\n",
       "    }\n",
       "\n",
       "    .dataframe thead th {\n",
       "        text-align: right;\n",
       "    }\n",
       "</style>\n",
       "<table border=\"1\" class=\"dataframe\">\n",
       "  <thead>\n",
       "    <tr style=\"text-align: right;\">\n",
       "      <th></th>\n",
       "      <th>children</th>\n",
       "      <th>dob_years</th>\n",
       "      <th>education</th>\n",
       "      <th>education_id</th>\n",
       "      <th>family_status</th>\n",
       "      <th>family_status_id</th>\n",
       "      <th>gender</th>\n",
       "      <th>income_type</th>\n",
       "      <th>debt</th>\n",
       "      <th>total_income</th>\n",
       "      <th>purpose</th>\n",
       "    </tr>\n",
       "  </thead>\n",
       "  <tbody>\n",
       "    <tr>\n",
       "      <td>2849</td>\n",
       "      <td>0</td>\n",
       "      <td>41</td>\n",
       "      <td>среднее</td>\n",
       "      <td>1</td>\n",
       "      <td>женат / замужем</td>\n",
       "      <td>0</td>\n",
       "      <td>F</td>\n",
       "      <td>сотрудник</td>\n",
       "      <td>0</td>\n",
       "      <td>145017</td>\n",
       "      <td>покупка жилья для семьи</td>\n",
       "    </tr>\n",
       "    <tr>\n",
       "      <td>4182</td>\n",
       "      <td>1</td>\n",
       "      <td>34</td>\n",
       "      <td>ВЫСШЕЕ</td>\n",
       "      <td>0</td>\n",
       "      <td>гражданский брак</td>\n",
       "      <td>1</td>\n",
       "      <td>F</td>\n",
       "      <td>сотрудник</td>\n",
       "      <td>0</td>\n",
       "      <td>145017</td>\n",
       "      <td>свадьба</td>\n",
       "    </tr>\n",
       "    <tr>\n",
       "      <td>4851</td>\n",
       "      <td>0</td>\n",
       "      <td>60</td>\n",
       "      <td>среднее</td>\n",
       "      <td>1</td>\n",
       "      <td>гражданский брак</td>\n",
       "      <td>1</td>\n",
       "      <td>F</td>\n",
       "      <td>пенсионер</td>\n",
       "      <td>0</td>\n",
       "      <td>145017</td>\n",
       "      <td>свадьба</td>\n",
       "    </tr>\n",
       "    <tr>\n",
       "      <td>5557</td>\n",
       "      <td>0</td>\n",
       "      <td>58</td>\n",
       "      <td>среднее</td>\n",
       "      <td>1</td>\n",
       "      <td>гражданский брак</td>\n",
       "      <td>1</td>\n",
       "      <td>F</td>\n",
       "      <td>пенсионер</td>\n",
       "      <td>0</td>\n",
       "      <td>145017</td>\n",
       "      <td>сыграть свадьбу</td>\n",
       "    </tr>\n",
       "    <tr>\n",
       "      <td>7808</td>\n",
       "      <td>0</td>\n",
       "      <td>57</td>\n",
       "      <td>среднее</td>\n",
       "      <td>1</td>\n",
       "      <td>гражданский брак</td>\n",
       "      <td>1</td>\n",
       "      <td>F</td>\n",
       "      <td>пенсионер</td>\n",
       "      <td>0</td>\n",
       "      <td>145017</td>\n",
       "      <td>на проведение свадьбы</td>\n",
       "    </tr>\n",
       "  </tbody>\n",
       "</table>\n",
       "</div>"
      ],
      "text/plain": [
       "      children  dob_years education  education_id     family_status  \\\n",
       "2849         0         41   среднее             1   женат / замужем   \n",
       "4182         1         34    ВЫСШЕЕ             0  гражданский брак   \n",
       "4851         0         60   среднее             1  гражданский брак   \n",
       "5557         0         58   среднее             1  гражданский брак   \n",
       "7808         0         57   среднее             1  гражданский брак   \n",
       "\n",
       "      family_status_id gender income_type  debt  total_income  \\\n",
       "2849                 0      F   сотрудник     0        145017   \n",
       "4182                 1      F   сотрудник     0        145017   \n",
       "4851                 1      F   пенсионер     0        145017   \n",
       "5557                 1      F   пенсионер     0        145017   \n",
       "7808                 1      F   пенсионер     0        145017   \n",
       "\n",
       "                      purpose  \n",
       "2849  покупка жилья для семьи  \n",
       "4182                  свадьба  \n",
       "4851                  свадьба  \n",
       "5557          сыграть свадьбу  \n",
       "7808    на проведение свадьбы  "
      ]
     },
     "execution_count": 45,
     "metadata": {},
     "output_type": "execute_result"
    }
   ],
   "source": [
    "data_duplicated = data[data.duplicated()]\n",
    "data_duplicated.head()"
   ]
  },
  {
   "cell_type": "markdown",
   "metadata": {},
   "source": [
    "Выведем наименования уникальных значений столбца **total_income** и количество их упоминаний."
   ]
  },
  {
   "cell_type": "code",
   "execution_count": 46,
   "metadata": {},
   "outputs": [
    {
     "data": {
      "text/plain": [
       "145017    2163\n",
       "177986       3\n",
       "145603       3\n",
       "133122       3\n",
       "244123       3\n",
       "          ... \n",
       "60407        1\n",
       "156662       1\n",
       "130037       1\n",
       "379891       1\n",
       "264193       1\n",
       "Name: total_income, Length: 18501, dtype: int64"
      ]
     },
     "metadata": {},
     "output_type": "display_data"
    }
   ],
   "source": [
    "display(data['total_income'].value_counts())"
   ]
  },
  {
   "cell_type": "markdown",
   "metadata": {},
   "source": [
    "Значение `145017` - это резльутат заполнения пропуска медианным значением ежемесячного дохода клиентов."
   ]
  },
  {
   "cell_type": "markdown",
   "metadata": {},
   "source": [
    "Прежде всего обратим внимание на столбец **education**.\n",
    "- в первом случае: столбец содержит в себе значения строкового типа разного регистра (верхний/нижний)\n",
    "\n",
    "Рассмотрим уникальные значения этих столбцов."
   ]
  },
  {
   "cell_type": "markdown",
   "metadata": {},
   "source": [
    "Для столбца **education**:"
   ]
  },
  {
   "cell_type": "code",
   "execution_count": 47,
   "metadata": {},
   "outputs": [
    {
     "data": {
      "text/plain": [
       "array(['высшее', 'среднее', 'Среднее', 'СРЕДНЕЕ', 'ВЫСШЕЕ',\n",
       "       'неоконченное высшее', 'начальное', 'Высшее',\n",
       "       'НЕОКОНЧЕННОЕ ВЫСШЕЕ', 'Неоконченное высшее', 'НАЧАЛЬНОЕ',\n",
       "       'Начальное', 'Ученая степень', 'УЧЕНАЯ СТЕПЕНЬ', 'ученая степень'],\n",
       "      dtype=object)"
      ]
     },
     "metadata": {},
     "output_type": "display_data"
    }
   ],
   "source": [
    "display(data['education'].unique())"
   ]
  },
  {
   "cell_type": "markdown",
   "metadata": {},
   "source": [
    "Для столбца **family_status**:"
   ]
  },
  {
   "cell_type": "code",
   "execution_count": 48,
   "metadata": {},
   "outputs": [
    {
     "data": {
      "text/plain": [
       "array(['женат / замужем', 'гражданский брак', 'вдовец / вдова',\n",
       "       'в разводе', 'Не женат / не замужем'], dtype=object)"
      ]
     },
     "metadata": {},
     "output_type": "display_data"
    }
   ],
   "source": [
    "display(data['family_status'].unique())"
   ]
  },
  {
   "cell_type": "markdown",
   "metadata": {},
   "source": [
    "**Предварительный вывод:** в исходных данных содержится 54 дубликат. Кроме того, в значениях столбца **education** содержатся значения строкого типа разного регистра. Возможные причины возникновения дубликатов:\n",
    "* **Технический фактор**: Заполнение пропуска медианным значением в таблице, предположительно, дал такой результат. Однако наблюдения, указанные в таблице с дубликатами, явным дубликатом считать нельзя, так как есть показатели, по которым отличаются наблюдения: возраст, образование, пол, цели кредита клиента. \n",
    "\n",
    "**Предварительное решение:**\n",
    "* **education**: приведение значений столбцов к нижнему регистру. Таким образом, мы избавимся от дубликатов, написанные разными регистрами, затем провести удаление дубликатов в исходной таблице, так как дубликатов в таблице всего 54, а их удаление несущественно повлияет на результаты исследования."
   ]
  },
  {
   "cell_type": "markdown",
   "metadata": {},
   "source": [
    "Приведем значения столбцов **education** к нижнему регистру:"
   ]
  },
  {
   "cell_type": "code",
   "execution_count": 49,
   "metadata": {},
   "outputs": [],
   "source": [
    " data['education'] = data['education'].str.lower()"
   ]
  },
  {
   "cell_type": "markdown",
   "metadata": {},
   "source": [
    "Теперь посмотрим на количество дубликатов после приведения к нижнему регистру значений:"
   ]
  },
  {
   "cell_type": "code",
   "execution_count": 50,
   "metadata": {},
   "outputs": [
    {
     "name": "stdout",
     "output_type": "stream",
     "text": [
      "71\n"
     ]
    }
   ],
   "source": [
    "print(data.duplicated().sum())"
   ]
  },
  {
   "cell_type": "markdown",
   "metadata": {},
   "source": [
    "Количество дубликатов в исходной таблице увеличилось стало равны 71. Это связано с тем, что некоторые, значения, имеющие другой регистр, объединились с другими значениями, которые могли быть дубликатом. Удаление 71 строки существенно не повлияет на результаты исследования."
   ]
  },
  {
   "cell_type": "markdown",
   "metadata": {},
   "source": [
    "Выведем список уникальных значений столбца, чтобы убедиться, что все значения приведены к нижнему регистру: "
   ]
  },
  {
   "cell_type": "code",
   "execution_count": 51,
   "metadata": {},
   "outputs": [
    {
     "data": {
      "text/plain": [
       "array(['высшее', 'среднее', 'неоконченное высшее', 'начальное',\n",
       "       'ученая степень'], dtype=object)"
      ]
     },
     "metadata": {},
     "output_type": "display_data"
    }
   ],
   "source": [
    "display(data['education'].unique())"
   ]
  },
  {
   "cell_type": "markdown",
   "metadata": {},
   "source": [
    "Значения столбца **education** приведены к общему виду. Теперь удалим дубликаты из исходной таблицы."
   ]
  },
  {
   "cell_type": "code",
   "execution_count": 52,
   "metadata": {},
   "outputs": [],
   "source": [
    "data = data.drop_duplicates().reset_index(drop = True)"
   ]
  },
  {
   "cell_type": "markdown",
   "metadata": {},
   "source": [
    "Убедимся в том, что все дубликаты из исходной таблицы были удалены."
   ]
  },
  {
   "cell_type": "code",
   "execution_count": 53,
   "metadata": {},
   "outputs": [
    {
     "name": "stdout",
     "output_type": "stream",
     "text": [
      "Все дубликаты удалены, значение: 0\n"
     ]
    }
   ],
   "source": [
    "if data.duplicated().sum() == 0:\n",
    "    print('Все дубликаты удалены, значение:', data.duplicated().sum())\n",
    "else:\n",
    "    print('Остались дубликаты! Значение:', data.duplicated().sum())"
   ]
  },
  {
   "cell_type": "markdown",
   "metadata": {},
   "source": [
    "**Вывод:** из-за того, что пропуски в столбце **total_income** были заполнены медианным значением, появилось 54 дубликата в исходной таблице. После приведения к нижнему регистру значений признака **education**, появилось еще 14 дубликата. Все дубликаты были удалены из исходной таблицы, поскольку их удаление существенно не повлияет на результат исследования."
   ]
  },
  {
   "cell_type": "markdown",
   "metadata": {},
   "source": [
    "### Лемматизация <a id='lem'></a>\n",
    "[в начало](#begin)"
   ]
  },
  {
   "cell_type": "markdown",
   "metadata": {},
   "source": [
    "Расмотрим первые 15 строк датафрейма `data`:"
   ]
  },
  {
   "cell_type": "code",
   "execution_count": 54,
   "metadata": {},
   "outputs": [
    {
     "data": {
      "text/html": [
       "<div>\n",
       "<style scoped>\n",
       "    .dataframe tbody tr th:only-of-type {\n",
       "        vertical-align: middle;\n",
       "    }\n",
       "\n",
       "    .dataframe tbody tr th {\n",
       "        vertical-align: top;\n",
       "    }\n",
       "\n",
       "    .dataframe thead th {\n",
       "        text-align: right;\n",
       "    }\n",
       "</style>\n",
       "<table border=\"1\" class=\"dataframe\">\n",
       "  <thead>\n",
       "    <tr style=\"text-align: right;\">\n",
       "      <th></th>\n",
       "      <th>children</th>\n",
       "      <th>dob_years</th>\n",
       "      <th>education</th>\n",
       "      <th>education_id</th>\n",
       "      <th>family_status</th>\n",
       "      <th>family_status_id</th>\n",
       "      <th>gender</th>\n",
       "      <th>income_type</th>\n",
       "      <th>debt</th>\n",
       "      <th>total_income</th>\n",
       "      <th>purpose</th>\n",
       "    </tr>\n",
       "  </thead>\n",
       "  <tbody>\n",
       "    <tr>\n",
       "      <td>0</td>\n",
       "      <td>1</td>\n",
       "      <td>42</td>\n",
       "      <td>высшее</td>\n",
       "      <td>0</td>\n",
       "      <td>женат / замужем</td>\n",
       "      <td>0</td>\n",
       "      <td>F</td>\n",
       "      <td>сотрудник</td>\n",
       "      <td>0</td>\n",
       "      <td>253875</td>\n",
       "      <td>покупка жилья</td>\n",
       "    </tr>\n",
       "    <tr>\n",
       "      <td>1</td>\n",
       "      <td>1</td>\n",
       "      <td>36</td>\n",
       "      <td>среднее</td>\n",
       "      <td>1</td>\n",
       "      <td>женат / замужем</td>\n",
       "      <td>0</td>\n",
       "      <td>F</td>\n",
       "      <td>сотрудник</td>\n",
       "      <td>0</td>\n",
       "      <td>112080</td>\n",
       "      <td>приобретение автомобиля</td>\n",
       "    </tr>\n",
       "    <tr>\n",
       "      <td>2</td>\n",
       "      <td>0</td>\n",
       "      <td>33</td>\n",
       "      <td>среднее</td>\n",
       "      <td>1</td>\n",
       "      <td>женат / замужем</td>\n",
       "      <td>0</td>\n",
       "      <td>M</td>\n",
       "      <td>сотрудник</td>\n",
       "      <td>0</td>\n",
       "      <td>145885</td>\n",
       "      <td>покупка жилья</td>\n",
       "    </tr>\n",
       "    <tr>\n",
       "      <td>3</td>\n",
       "      <td>3</td>\n",
       "      <td>32</td>\n",
       "      <td>среднее</td>\n",
       "      <td>1</td>\n",
       "      <td>женат / замужем</td>\n",
       "      <td>0</td>\n",
       "      <td>M</td>\n",
       "      <td>сотрудник</td>\n",
       "      <td>0</td>\n",
       "      <td>267628</td>\n",
       "      <td>дополнительное образование</td>\n",
       "    </tr>\n",
       "    <tr>\n",
       "      <td>4</td>\n",
       "      <td>0</td>\n",
       "      <td>53</td>\n",
       "      <td>среднее</td>\n",
       "      <td>1</td>\n",
       "      <td>гражданский брак</td>\n",
       "      <td>1</td>\n",
       "      <td>F</td>\n",
       "      <td>пенсионер</td>\n",
       "      <td>0</td>\n",
       "      <td>158616</td>\n",
       "      <td>сыграть свадьбу</td>\n",
       "    </tr>\n",
       "    <tr>\n",
       "      <td>5</td>\n",
       "      <td>0</td>\n",
       "      <td>27</td>\n",
       "      <td>высшее</td>\n",
       "      <td>0</td>\n",
       "      <td>гражданский брак</td>\n",
       "      <td>1</td>\n",
       "      <td>M</td>\n",
       "      <td>компаньон</td>\n",
       "      <td>0</td>\n",
       "      <td>255763</td>\n",
       "      <td>покупка жилья</td>\n",
       "    </tr>\n",
       "    <tr>\n",
       "      <td>6</td>\n",
       "      <td>0</td>\n",
       "      <td>43</td>\n",
       "      <td>высшее</td>\n",
       "      <td>0</td>\n",
       "      <td>женат / замужем</td>\n",
       "      <td>0</td>\n",
       "      <td>F</td>\n",
       "      <td>компаньон</td>\n",
       "      <td>0</td>\n",
       "      <td>240525</td>\n",
       "      <td>операции с жильем</td>\n",
       "    </tr>\n",
       "    <tr>\n",
       "      <td>7</td>\n",
       "      <td>0</td>\n",
       "      <td>50</td>\n",
       "      <td>среднее</td>\n",
       "      <td>1</td>\n",
       "      <td>женат / замужем</td>\n",
       "      <td>0</td>\n",
       "      <td>M</td>\n",
       "      <td>сотрудник</td>\n",
       "      <td>0</td>\n",
       "      <td>135823</td>\n",
       "      <td>образование</td>\n",
       "    </tr>\n",
       "    <tr>\n",
       "      <td>8</td>\n",
       "      <td>2</td>\n",
       "      <td>35</td>\n",
       "      <td>высшее</td>\n",
       "      <td>0</td>\n",
       "      <td>гражданский брак</td>\n",
       "      <td>1</td>\n",
       "      <td>F</td>\n",
       "      <td>сотрудник</td>\n",
       "      <td>0</td>\n",
       "      <td>95856</td>\n",
       "      <td>на проведение свадьбы</td>\n",
       "    </tr>\n",
       "    <tr>\n",
       "      <td>9</td>\n",
       "      <td>0</td>\n",
       "      <td>41</td>\n",
       "      <td>среднее</td>\n",
       "      <td>1</td>\n",
       "      <td>женат / замужем</td>\n",
       "      <td>0</td>\n",
       "      <td>M</td>\n",
       "      <td>сотрудник</td>\n",
       "      <td>0</td>\n",
       "      <td>144425</td>\n",
       "      <td>покупка жилья для семьи</td>\n",
       "    </tr>\n",
       "    <tr>\n",
       "      <td>10</td>\n",
       "      <td>2</td>\n",
       "      <td>36</td>\n",
       "      <td>высшее</td>\n",
       "      <td>0</td>\n",
       "      <td>женат / замужем</td>\n",
       "      <td>0</td>\n",
       "      <td>M</td>\n",
       "      <td>компаньон</td>\n",
       "      <td>0</td>\n",
       "      <td>113943</td>\n",
       "      <td>покупка недвижимости</td>\n",
       "    </tr>\n",
       "    <tr>\n",
       "      <td>11</td>\n",
       "      <td>0</td>\n",
       "      <td>40</td>\n",
       "      <td>среднее</td>\n",
       "      <td>1</td>\n",
       "      <td>женат / замужем</td>\n",
       "      <td>0</td>\n",
       "      <td>F</td>\n",
       "      <td>сотрудник</td>\n",
       "      <td>0</td>\n",
       "      <td>77069</td>\n",
       "      <td>покупка коммерческой недвижимости</td>\n",
       "    </tr>\n",
       "    <tr>\n",
       "      <td>12</td>\n",
       "      <td>0</td>\n",
       "      <td>65</td>\n",
       "      <td>среднее</td>\n",
       "      <td>1</td>\n",
       "      <td>гражданский брак</td>\n",
       "      <td>1</td>\n",
       "      <td>M</td>\n",
       "      <td>пенсионер</td>\n",
       "      <td>0</td>\n",
       "      <td>145017</td>\n",
       "      <td>сыграть свадьбу</td>\n",
       "    </tr>\n",
       "    <tr>\n",
       "      <td>13</td>\n",
       "      <td>0</td>\n",
       "      <td>54</td>\n",
       "      <td>неоконченное высшее</td>\n",
       "      <td>2</td>\n",
       "      <td>женат / замужем</td>\n",
       "      <td>0</td>\n",
       "      <td>F</td>\n",
       "      <td>сотрудник</td>\n",
       "      <td>0</td>\n",
       "      <td>130458</td>\n",
       "      <td>приобретение автомобиля</td>\n",
       "    </tr>\n",
       "    <tr>\n",
       "      <td>14</td>\n",
       "      <td>0</td>\n",
       "      <td>56</td>\n",
       "      <td>высшее</td>\n",
       "      <td>0</td>\n",
       "      <td>гражданский брак</td>\n",
       "      <td>1</td>\n",
       "      <td>F</td>\n",
       "      <td>компаньон</td>\n",
       "      <td>1</td>\n",
       "      <td>165127</td>\n",
       "      <td>покупка жилой недвижимости</td>\n",
       "    </tr>\n",
       "  </tbody>\n",
       "</table>\n",
       "</div>"
      ],
      "text/plain": [
       "    children  dob_years            education  education_id     family_status  \\\n",
       "0          1         42               высшее             0   женат / замужем   \n",
       "1          1         36              среднее             1   женат / замужем   \n",
       "2          0         33              среднее             1   женат / замужем   \n",
       "3          3         32              среднее             1   женат / замужем   \n",
       "4          0         53              среднее             1  гражданский брак   \n",
       "5          0         27               высшее             0  гражданский брак   \n",
       "6          0         43               высшее             0   женат / замужем   \n",
       "7          0         50              среднее             1   женат / замужем   \n",
       "8          2         35               высшее             0  гражданский брак   \n",
       "9          0         41              среднее             1   женат / замужем   \n",
       "10         2         36               высшее             0   женат / замужем   \n",
       "11         0         40              среднее             1   женат / замужем   \n",
       "12         0         65              среднее             1  гражданский брак   \n",
       "13         0         54  неоконченное высшее             2   женат / замужем   \n",
       "14         0         56               высшее             0  гражданский брак   \n",
       "\n",
       "    family_status_id gender income_type  debt  total_income  \\\n",
       "0                  0      F   сотрудник     0        253875   \n",
       "1                  0      F   сотрудник     0        112080   \n",
       "2                  0      M   сотрудник     0        145885   \n",
       "3                  0      M   сотрудник     0        267628   \n",
       "4                  1      F   пенсионер     0        158616   \n",
       "5                  1      M   компаньон     0        255763   \n",
       "6                  0      F   компаньон     0        240525   \n",
       "7                  0      M   сотрудник     0        135823   \n",
       "8                  1      F   сотрудник     0         95856   \n",
       "9                  0      M   сотрудник     0        144425   \n",
       "10                 0      M   компаньон     0        113943   \n",
       "11                 0      F   сотрудник     0         77069   \n",
       "12                 1      M   пенсионер     0        145017   \n",
       "13                 0      F   сотрудник     0        130458   \n",
       "14                 1      F   компаньон     1        165127   \n",
       "\n",
       "                              purpose  \n",
       "0                       покупка жилья  \n",
       "1             приобретение автомобиля  \n",
       "2                       покупка жилья  \n",
       "3          дополнительное образование  \n",
       "4                     сыграть свадьбу  \n",
       "5                       покупка жилья  \n",
       "6                   операции с жильем  \n",
       "7                         образование  \n",
       "8               на проведение свадьбы  \n",
       "9             покупка жилья для семьи  \n",
       "10               покупка недвижимости  \n",
       "11  покупка коммерческой недвижимости  \n",
       "12                    сыграть свадьбу  \n",
       "13            приобретение автомобиля  \n",
       "14         покупка жилой недвижимости  "
      ]
     },
     "execution_count": 54,
     "metadata": {},
     "output_type": "execute_result"
    }
   ],
   "source": [
    "data.head(15)"
   ]
  },
  {
   "cell_type": "markdown",
   "metadata": {},
   "source": [
    "В разделе \"Лемматизация\" нас интересует столбец **purpose**. \n",
    "\n",
    "Рассмотрим уникальные значения этого столбца."
   ]
  },
  {
   "cell_type": "code",
   "execution_count": 55,
   "metadata": {},
   "outputs": [
    {
     "data": {
      "text/plain": [
       "array(['покупка жилья', 'приобретение автомобиля',\n",
       "       'дополнительное образование', 'сыграть свадьбу',\n",
       "       'операции с жильем', 'образование', 'на проведение свадьбы',\n",
       "       'покупка жилья для семьи', 'покупка недвижимости',\n",
       "       'покупка коммерческой недвижимости', 'покупка жилой недвижимости',\n",
       "       'строительство собственной недвижимости', 'недвижимость',\n",
       "       'строительство недвижимости', 'на покупку подержанного автомобиля',\n",
       "       'на покупку своего автомобиля',\n",
       "       'операции с коммерческой недвижимостью',\n",
       "       'строительство жилой недвижимости', 'жилье',\n",
       "       'операции со своей недвижимостью', 'автомобили',\n",
       "       'заняться образованием', 'сделка с подержанным автомобилем',\n",
       "       'получение образования', 'автомобиль', 'свадьба',\n",
       "       'получение дополнительного образования', 'покупка своего жилья',\n",
       "       'операции с недвижимостью', 'получение высшего образования',\n",
       "       'свой автомобиль', 'сделка с автомобилем',\n",
       "       'профильное образование', 'высшее образование',\n",
       "       'покупка жилья для сдачи', 'на покупку автомобиля', 'ремонт жилью',\n",
       "       'заняться высшим образованием'], dtype=object)"
      ]
     },
     "metadata": {},
     "output_type": "display_data"
    }
   ],
   "source": [
    "display(data['purpose'].unique()) "
   ]
  },
  {
   "cell_type": "markdown",
   "metadata": {},
   "source": [
    "**Предварительный вывод:** Как видно из списка уникальных значений, цели кредита у всех клиентов одинаковые, но формулировка причины - разные.\n",
    "Для того, чтобы не искать клиентов с разной формулировкой цели кредита, рекомендуется провести лемматизацию каждого значения столбца **lemmas**, т.е. привести каждое значение к лемме. Далее эти леммы можно использовать в разделе [категоризация данных](#category) , чтобы сгруппировать разные формулировки клиентов на категории запроса.\n",
    "\n",
    "**Предварительное решение:** написать функцию, которая на вход будет получать значения столбца **purpose**, каждое значение которого будет добавляться в виде леммы. Затем с помощью сформированных лемм создать новый столбец с категорией заявок клиента. В данном разделе решения задачи, принял решение показать разбор значений каждого столбца на леммы. Для более подробной реализации категоризации с применением лемматизации будет рассмотрена в разделе \"категоризация данных\"."
   ]
  },
  {
   "cell_type": "code",
   "execution_count": 56,
   "metadata": {},
   "outputs": [],
   "source": [
    "purpose_list = [] #создаем список, куда будем добавлять наши леммы построчно\n",
    "for elem in data['purpose']: #делаем пробег по элементам \n",
    "    purpose_lemma = m.lemmatize(elem) #разбираем строку на леммы\n",
    "    purpose_list.append(purpose_lemma) #добавляем в список"
   ]
  },
  {
   "cell_type": "markdown",
   "metadata": {},
   "source": [
    "Выведем полученный результат лемматизации."
   ]
  },
  {
   "cell_type": "code",
   "execution_count": 57,
   "metadata": {},
   "outputs": [
    {
     "data": {
      "text/plain": [
       "[['покупка', ' ', 'жилье', '\\n'],\n",
       " ['приобретение', ' ', 'автомобиль', '\\n'],\n",
       " ['покупка', ' ', 'жилье', '\\n'],\n",
       " ['дополнительный', ' ', 'образование', '\\n'],\n",
       " ['сыграть', ' ', 'свадьба', '\\n'],\n",
       " ['покупка', ' ', 'жилье', '\\n'],\n",
       " ['операция', ' ', 'с', ' ', 'жилье', '\\n'],\n",
       " ['образование', '\\n'],\n",
       " ['на', ' ', 'проведение', ' ', 'свадьба', '\\n'],\n",
       " ['покупка', ' ', 'жилье', ' ', 'для', ' ', 'семья', '\\n'],\n",
       " ['покупка', ' ', 'недвижимость', '\\n'],\n",
       " ['покупка', ' ', 'коммерческий', ' ', 'недвижимость', '\\n'],\n",
       " ['сыграть', ' ', 'свадьба', '\\n'],\n",
       " ['приобретение', ' ', 'автомобиль', '\\n'],\n",
       " ['покупка', ' ', 'жилой', ' ', 'недвижимость', '\\n'],\n",
       " ['строительство', ' ', 'собственный', ' ', 'недвижимость', '\\n'],\n",
       " ['недвижимость', '\\n'],\n",
       " ['строительство', ' ', 'недвижимость', '\\n'],\n",
       " ['на', ' ', 'покупка', ' ', 'подержать', ' ', 'автомобиль', '\\n'],\n",
       " ['на', ' ', 'покупка', ' ', 'свой', ' ', 'автомобиль', '\\n'],\n",
       " ['недвижимость', '\\n'],\n",
       " ['приобретение', ' ', 'автомобиль', '\\n'],\n",
       " ['на', ' ', 'покупка', ' ', 'подержать', ' ', 'автомобиль', '\\n'],\n",
       " ['сыграть', ' ', 'свадьба', '\\n'],\n",
       " ['операция', ' ', 'с', ' ', 'коммерческий', ' ', 'недвижимость', '\\n'],\n",
       " ['покупка', ' ', 'недвижимость', '\\n'],\n",
       " ['образование', '\\n'],\n",
       " ['строительство', ' ', 'собственный', ' ', 'недвижимость', '\\n'],\n",
       " ['строительство', ' ', 'собственный', ' ', 'недвижимость', '\\n'],\n",
       " ['строительство', ' ', 'жилой', ' ', 'недвижимость', '\\n'],\n",
       " ['операция', ' ', 'с', ' ', 'коммерческий', ' ', 'недвижимость', '\\n'],\n",
       " ['жилье', '\\n'],\n",
       " ['на', ' ', 'проведение', ' ', 'свадьба', '\\n'],\n",
       " ['покупка', ' ', 'жилье', '\\n'],\n",
       " ['операция', ' ', 'со', ' ', 'свой', ' ', 'недвижимость', '\\n'],\n",
       " ['на', ' ', 'проведение', ' ', 'свадьба', '\\n'],\n",
       " ['автомобиль', '\\n'],\n",
       " ['приобретение', ' ', 'автомобиль', '\\n'],\n",
       " ['образование', '\\n'],\n",
       " ['заниматься', ' ', 'образование', '\\n'],\n",
       " ['покупка', ' ', 'недвижимость', '\\n'],\n",
       " ['сделка', ' ', 'с', ' ', 'подержанный', ' ', 'автомобиль', '\\n'],\n",
       " ['получение', ' ', 'образование', '\\n'],\n",
       " ['приобретение', ' ', 'автомобиль', '\\n'],\n",
       " ['на', ' ', 'покупка', ' ', 'свой', ' ', 'автомобиль', '\\n'],\n",
       " ['заниматься', ' ', 'образование', '\\n'],\n",
       " ['сделка', ' ', 'с', ' ', 'подержанный', ' ', 'автомобиль', '\\n'],\n",
       " ['на', ' ', 'проведение', ' ', 'свадьба', '\\n'],\n",
       " ['строительство', ' ', 'собственный', ' ', 'недвижимость', '\\n'],\n",
       " ['автомобиль', '\\n'],\n",
       " ['автомобиль', '\\n'],\n",
       " ['свадьба', '\\n'],\n",
       " ['получение', ' ', 'дополнительный', ' ', 'образование', '\\n'],\n",
       " ['покупка', ' ', 'свой', ' ', 'жилье', '\\n'],\n",
       " ['автомобиль', '\\n'],\n",
       " ['сыграть', ' ', 'свадьба', '\\n'],\n",
       " ['образование', '\\n'],\n",
       " ['образование', '\\n'],\n",
       " ['недвижимость', '\\n'],\n",
       " ['операция', ' ', 'с', ' ', 'недвижимость', '\\n'],\n",
       " ['заниматься', ' ', 'образование', '\\n'],\n",
       " ['покупка', ' ', 'недвижимость', '\\n'],\n",
       " ['получение', ' ', 'высокий', ' ', 'образование', '\\n'],\n",
       " ['операция', ' ', 'с', ' ', 'жилье', '\\n'],\n",
       " ['сделка', ' ', 'с', ' ', 'подержанный', ' ', 'автомобиль', '\\n'],\n",
       " ['операция', ' ', 'с', ' ', 'коммерческий', ' ', 'недвижимость', '\\n'],\n",
       " ['заниматься', ' ', 'образование', '\\n'],\n",
       " ['покупка', ' ', 'жилье', ' ', 'для', ' ', 'семья', '\\n'],\n",
       " ['операция', ' ', 'с', ' ', 'коммерческий', ' ', 'недвижимость', '\\n'],\n",
       " ['покупка', ' ', 'свой', ' ', 'жилье', '\\n'],\n",
       " ['покупка', ' ', 'коммерческий', ' ', 'недвижимость', '\\n'],\n",
       " ['автомобиль', '\\n'],\n",
       " ['операция', ' ', 'с', ' ', 'коммерческий', ' ', 'недвижимость', '\\n'],\n",
       " ['заниматься', ' ', 'образование', '\\n'],\n",
       " ['покупка', ' ', 'жилье', ' ', 'для', ' ', 'семья', '\\n'],\n",
       " ['операция', ' ', 'с', ' ', 'недвижимость', '\\n'],\n",
       " ['на', ' ', 'покупка', ' ', 'подержать', ' ', 'автомобиль', '\\n'],\n",
       " ['свой', ' ', 'автомобиль', '\\n'],\n",
       " ['сделка', ' ', 'с', ' ', 'автомобиль', '\\n'],\n",
       " ['автомобиль', '\\n'],\n",
       " ['сделка', ' ', 'с', ' ', 'автомобиль', '\\n'],\n",
       " ['профильный', ' ', 'образование', '\\n'],\n",
       " ['жилье', '\\n'],\n",
       " ['жилье', '\\n'],\n",
       " ['операция', ' ', 'со', ' ', 'свой', ' ', 'недвижимость', '\\n'],\n",
       " ['высокий', ' ', 'образование', '\\n'],\n",
       " ['свадьба', '\\n'],\n",
       " ['покупка', ' ', 'жилье', ' ', 'для', ' ', 'сдача', '\\n'],\n",
       " ['на', ' ', 'проведение', ' ', 'свадьба', '\\n'],\n",
       " ['сделка', ' ', 'с', ' ', 'подержанный', ' ', 'автомобиль', '\\n'],\n",
       " ['операция', ' ', 'с', ' ', 'жилье', '\\n'],\n",
       " ['покупка', ' ', 'недвижимость', '\\n'],\n",
       " ['сыграть', ' ', 'свадьба', '\\n'],\n",
       " ['сделка', ' ', 'с', ' ', 'автомобиль', '\\n'],\n",
       " ['на', ' ', 'проведение', ' ', 'свадьба', '\\n'],\n",
       " ['автомобиль', '\\n'],\n",
       " ['покупка', ' ', 'жилой', ' ', 'недвижимость', '\\n'],\n",
       " ['профильный', ' ', 'образование', '\\n'],\n",
       " ['покупка', ' ', 'жилье', ' ', 'для', ' ', 'сдача', '\\n'],\n",
       " ['автомобиль', '\\n'],\n",
       " ['операция', ' ', 'с', ' ', 'недвижимость', '\\n'],\n",
       " ['на', ' ', 'покупка', ' ', 'свой', ' ', 'автомобиль', '\\n'],\n",
       " ['на', ' ', 'покупка', ' ', 'подержать', ' ', 'автомобиль', '\\n'],\n",
       " ['строительство', ' ', 'недвижимость', '\\n'],\n",
       " ['покупка', ' ', 'жилье', ' ', 'для', ' ', 'сдача', '\\n'],\n",
       " ['строительство', ' ', 'собственный', ' ', 'недвижимость', '\\n'],\n",
       " ['образование', '\\n'],\n",
       " ['строительство', ' ', 'собственный', ' ', 'недвижимость', '\\n'],\n",
       " ['сделка', ' ', 'с', ' ', 'подержанный', ' ', 'автомобиль', '\\n'],\n",
       " ['образование', '\\n'],\n",
       " ['покупка', ' ', 'жилье', '\\n'],\n",
       " ['недвижимость', '\\n'],\n",
       " ['недвижимость', '\\n'],\n",
       " ['образование', '\\n'],\n",
       " ['операция', ' ', 'со', ' ', 'свой', ' ', 'недвижимость', '\\n'],\n",
       " ['операция', ' ', 'с', ' ', 'коммерческий', ' ', 'недвижимость', '\\n'],\n",
       " ['покупка', ' ', 'жилой', ' ', 'недвижимость', '\\n'],\n",
       " ['на', ' ', 'покупка', ' ', 'автомобиль', '\\n'],\n",
       " ['на', ' ', 'проведение', ' ', 'свадьба', '\\n'],\n",
       " ['покупка', ' ', 'коммерческий', ' ', 'недвижимость', '\\n'],\n",
       " ['высокий', ' ', 'образование', '\\n'],\n",
       " ['автомобиль', '\\n'],\n",
       " ['автомобиль', '\\n'],\n",
       " ['покупка', ' ', 'жилье', ' ', 'для', ' ', 'сдача', '\\n'],\n",
       " ['операция', ' ', 'с', ' ', 'коммерческий', ' ', 'недвижимость', '\\n'],\n",
       " ['свадьба', '\\n'],\n",
       " ['строительство', ' ', 'собственный', ' ', 'недвижимость', '\\n'],\n",
       " ['строительство', ' ', 'жилой', ' ', 'недвижимость', '\\n'],\n",
       " ['сделка', ' ', 'с', ' ', 'автомобиль', '\\n'],\n",
       " ['автомобиль', '\\n'],\n",
       " ['операция', ' ', 'со', ' ', 'свой', ' ', 'недвижимость', '\\n'],\n",
       " ['получение', ' ', 'дополнительный', ' ', 'образование', '\\n'],\n",
       " ['автомобиль', '\\n'],\n",
       " ['образование', '\\n'],\n",
       " ['покупка', ' ', 'жилой', ' ', 'недвижимость', '\\n'],\n",
       " ['жилье', '\\n'],\n",
       " ['операция', ' ', 'со', ' ', 'свой', ' ', 'недвижимость', '\\n'],\n",
       " ['сыграть', ' ', 'свадьба', '\\n'],\n",
       " ['покупка', ' ', 'свой', ' ', 'жилье', '\\n'],\n",
       " ['ремонт', ' ', 'жилье', '\\n'],\n",
       " ['покупка', ' ', 'коммерческий', ' ', 'недвижимость', '\\n'],\n",
       " ['свадьба', '\\n'],\n",
       " ['сделка', ' ', 'с', ' ', 'подержанный', ' ', 'автомобиль', '\\n'],\n",
       " ['строительство', ' ', 'собственный', ' ', 'недвижимость', '\\n'],\n",
       " ['свой', ' ', 'автомобиль', '\\n'],\n",
       " ['строительство', ' ', 'недвижимость', '\\n'],\n",
       " ['покупка', ' ', 'жилье', '\\n'],\n",
       " ['операция', ' ', 'с', ' ', 'недвижимость', '\\n'],\n",
       " ['на', ' ', 'покупка', ' ', 'свой', ' ', 'автомобиль', '\\n'],\n",
       " ['операция', ' ', 'с', ' ', 'жилье', '\\n'],\n",
       " ['сыграть', ' ', 'свадьба', '\\n'],\n",
       " ['сыграть', ' ', 'свадьба', '\\n'],\n",
       " ['покупка', ' ', 'свой', ' ', 'жилье', '\\n'],\n",
       " ['жилье', '\\n'],\n",
       " ['операция', ' ', 'с', ' ', 'коммерческий', ' ', 'недвижимость', '\\n'],\n",
       " ['дополнительный', ' ', 'образование', '\\n'],\n",
       " ['получение', ' ', 'дополнительный', ' ', 'образование', '\\n'],\n",
       " ['сделка', ' ', 'с', ' ', 'автомобиль', '\\n'],\n",
       " ['образование', '\\n'],\n",
       " ['на', ' ', 'покупка', ' ', 'свой', ' ', 'автомобиль', '\\n'],\n",
       " ['покупка', ' ', 'жилье', ' ', 'для', ' ', 'сдача', '\\n'],\n",
       " ['приобретение', ' ', 'автомобиль', '\\n'],\n",
       " ['получение', ' ', 'дополнительный', ' ', 'образование', '\\n'],\n",
       " ['ремонт', ' ', 'жилье', '\\n'],\n",
       " ['на', ' ', 'покупка', ' ', 'свой', ' ', 'автомобиль', '\\n'],\n",
       " ['покупка', ' ', 'жилье', '\\n'],\n",
       " ['операция', ' ', 'с', ' ', 'жилье', '\\n'],\n",
       " ['на', ' ', 'проведение', ' ', 'свадьба', '\\n'],\n",
       " ['покупка', ' ', 'свой', ' ', 'жилье', '\\n'],\n",
       " ['приобретение', ' ', 'автомобиль', '\\n'],\n",
       " ['жилье', '\\n'],\n",
       " ['на', ' ', 'проведение', ' ', 'свадьба', '\\n'],\n",
       " ['строительство', ' ', 'недвижимость', '\\n'],\n",
       " ['покупка', ' ', 'коммерческий', ' ', 'недвижимость', '\\n'],\n",
       " ['свой', ' ', 'автомобиль', '\\n'],\n",
       " ['строительство', ' ', 'недвижимость', '\\n'],\n",
       " ['заниматься', ' ', 'высокий', ' ', 'образование', '\\n'],\n",
       " ['сделка', ' ', 'с', ' ', 'подержанный', ' ', 'автомобиль', '\\n'],\n",
       " ['приобретение', ' ', 'автомобиль', '\\n'],\n",
       " ['покупка', ' ', 'свой', ' ', 'жилье', '\\n'],\n",
       " ['сыграть', ' ', 'свадьба', '\\n'],\n",
       " ['покупка', ' ', 'жилье', ' ', 'для', ' ', 'семья', '\\n'],\n",
       " ['свадьба', '\\n'],\n",
       " ['получение', ' ', 'дополнительный', ' ', 'образование', '\\n'],\n",
       " ['покупка', ' ', 'жилье', ' ', 'для', ' ', 'сдача', '\\n'],\n",
       " ['получение', ' ', 'дополнительный', ' ', 'образование', '\\n'],\n",
       " ['операция', ' ', 'с', ' ', 'коммерческий', ' ', 'недвижимость', '\\n'],\n",
       " ['высокий', ' ', 'образование', '\\n'],\n",
       " ['покупка', ' ', 'свой', ' ', 'жилье', '\\n'],\n",
       " ['свой', ' ', 'автомобиль', '\\n'],\n",
       " ['на', ' ', 'проведение', ' ', 'свадьба', '\\n'],\n",
       " ['высокий', ' ', 'образование', '\\n'],\n",
       " ['свой', ' ', 'автомобиль', '\\n'],\n",
       " ['на', ' ', 'покупка', ' ', 'подержать', ' ', 'автомобиль', '\\n'],\n",
       " ['получение', ' ', 'образование', '\\n'],\n",
       " ['дополнительный', ' ', 'образование', '\\n'],\n",
       " ['покупка', ' ', 'свой', ' ', 'жилье', '\\n'],\n",
       " ['покупка', ' ', 'недвижимость', '\\n'],\n",
       " ['на', ' ', 'покупка', ' ', 'свой', ' ', 'автомобиль', '\\n'],\n",
       " ['сделка', ' ', 'с', ' ', 'подержанный', ' ', 'автомобиль', '\\n'],\n",
       " ['строительство', ' ', 'недвижимость', '\\n'],\n",
       " ['покупка', ' ', 'жилой', ' ', 'недвижимость', '\\n'],\n",
       " ['покупка', ' ', 'жилой', ' ', 'недвижимость', '\\n'],\n",
       " ['строительство', ' ', 'собственный', ' ', 'недвижимость', '\\n'],\n",
       " ['строительство', ' ', 'жилой', ' ', 'недвижимость', '\\n'],\n",
       " ['на', ' ', 'покупка', ' ', 'подержать', ' ', 'автомобиль', '\\n'],\n",
       " ['получение', ' ', 'образование', '\\n'],\n",
       " ['покупка', ' ', 'свой', ' ', 'жилье', '\\n'],\n",
       " ['профильный', ' ', 'образование', '\\n'],\n",
       " ['операция', ' ', 'с', ' ', 'коммерческий', ' ', 'недвижимость', '\\n'],\n",
       " ['строительство', ' ', 'жилой', ' ', 'недвижимость', '\\n'],\n",
       " ['сделка', ' ', 'с', ' ', 'подержанный', ' ', 'автомобиль', '\\n'],\n",
       " ['приобретение', ' ', 'автомобиль', '\\n'],\n",
       " ['на', ' ', 'покупка', ' ', 'автомобиль', '\\n'],\n",
       " ['покупка', ' ', 'жилье', ' ', 'для', ' ', 'семья', '\\n'],\n",
       " ['операция', ' ', 'с', ' ', 'недвижимость', '\\n'],\n",
       " ['образование', '\\n'],\n",
       " ['строительство', ' ', 'собственный', ' ', 'недвижимость', '\\n'],\n",
       " ['на', ' ', 'покупка', ' ', 'свой', ' ', 'автомобиль', '\\n'],\n",
       " ['операция', ' ', 'с', ' ', 'коммерческий', ' ', 'недвижимость', '\\n'],\n",
       " ['сыграть', ' ', 'свадьба', '\\n'],\n",
       " ['автомобиль', '\\n'],\n",
       " ['покупка', ' ', 'жилой', ' ', 'недвижимость', '\\n'],\n",
       " ['операция', ' ', 'с', ' ', 'коммерческий', ' ', 'недвижимость', '\\n'],\n",
       " ['покупка', ' ', 'свой', ' ', 'жилье', '\\n'],\n",
       " ['строительство', ' ', 'недвижимость', '\\n'],\n",
       " ['получение', ' ', 'высокий', ' ', 'образование', '\\n'],\n",
       " ['жилье', '\\n'],\n",
       " ['ремонт', ' ', 'жилье', '\\n'],\n",
       " ['сделка', ' ', 'с', ' ', 'подержанный', ' ', 'автомобиль', '\\n'],\n",
       " ['свадьба', '\\n'],\n",
       " ['покупка', ' ', 'жилье', ' ', 'для', ' ', 'семья', '\\n'],\n",
       " ['свадьба', '\\n'],\n",
       " ['на', ' ', 'покупка', ' ', 'автомобиль', '\\n'],\n",
       " ['профильный', ' ', 'образование', '\\n'],\n",
       " ['жилье', '\\n'],\n",
       " ['на', ' ', 'покупка', ' ', 'автомобиль', '\\n'],\n",
       " ['покупка', ' ', 'недвижимость', '\\n'],\n",
       " ['на', ' ', 'проведение', ' ', 'свадьба', '\\n'],\n",
       " ['операция', ' ', 'с', ' ', 'недвижимость', '\\n'],\n",
       " ['покупка', ' ', 'коммерческий', ' ', 'недвижимость', '\\n'],\n",
       " ['строительство', ' ', 'собственный', ' ', 'недвижимость', '\\n'],\n",
       " ['покупка', ' ', 'свой', ' ', 'жилье', '\\n'],\n",
       " ['свадьба', '\\n'],\n",
       " ['высокий', ' ', 'образование', '\\n'],\n",
       " ['покупка', ' ', 'жилой', ' ', 'недвижимость', '\\n'],\n",
       " ['строительство', ' ', 'недвижимость', '\\n'],\n",
       " ['заниматься', ' ', 'высокий', ' ', 'образование', '\\n'],\n",
       " ['покупка', ' ', 'жилой', ' ', 'недвижимость', '\\n'],\n",
       " ['получение', ' ', 'высокий', ' ', 'образование', '\\n'],\n",
       " ['сделка', ' ', 'с', ' ', 'подержанный', ' ', 'автомобиль', '\\n'],\n",
       " ['покупка', ' ', 'коммерческий', ' ', 'недвижимость', '\\n'],\n",
       " ['покупка', ' ', 'жилье', '\\n'],\n",
       " ['получение', ' ', 'высокий', ' ', 'образование', '\\n'],\n",
       " ['жилье', '\\n'],\n",
       " ['покупка', ' ', 'жилье', '\\n'],\n",
       " ['дополнительный', ' ', 'образование', '\\n'],\n",
       " ['операция', ' ', 'с', ' ', 'жилье', '\\n'],\n",
       " ['свадьба', '\\n'],\n",
       " ['свадьба', '\\n'],\n",
       " ['покупка', ' ', 'жилье', ' ', 'для', ' ', 'семья', '\\n'],\n",
       " ['операция', ' ', 'с', ' ', 'жилье', '\\n'],\n",
       " ['покупка', ' ', 'недвижимость', '\\n'],\n",
       " ['строительство', ' ', 'жилой', ' ', 'недвижимость', '\\n'],\n",
       " ['недвижимость', '\\n'],\n",
       " ['строительство', ' ', 'недвижимость', '\\n'],\n",
       " ['недвижимость', '\\n'],\n",
       " ['операция', ' ', 'с', ' ', 'коммерческий', ' ', 'недвижимость', '\\n'],\n",
       " ['покупка', ' ', 'жилье', '\\n'],\n",
       " ['на', ' ', 'покупка', ' ', 'подержать', ' ', 'автомобиль', '\\n'],\n",
       " ['ремонт', ' ', 'жилье', '\\n'],\n",
       " ['автомобиль', '\\n'],\n",
       " ['заниматься', ' ', 'образование', '\\n'],\n",
       " ['заниматься', ' ', 'высокий', ' ', 'образование', '\\n'],\n",
       " ['сыграть', ' ', 'свадьба', '\\n'],\n",
       " ['покупка', ' ', 'коммерческий', ' ', 'недвижимость', '\\n'],\n",
       " ['ремонт', ' ', 'жилье', '\\n'],\n",
       " ['сыграть', ' ', 'свадьба', '\\n'],\n",
       " ['автомобиль', '\\n'],\n",
       " ['операция', ' ', 'со', ' ', 'свой', ' ', 'недвижимость', '\\n'],\n",
       " ['операция', ' ', 'с', ' ', 'жилье', '\\n'],\n",
       " ['ремонт', ' ', 'жилье', '\\n'],\n",
       " ['покупка', ' ', 'жилье', '\\n'],\n",
       " ['на', ' ', 'покупка', ' ', 'свой', ' ', 'автомобиль', '\\n'],\n",
       " ['автомобиль', '\\n'],\n",
       " ['заниматься', ' ', 'высокий', ' ', 'образование', '\\n'],\n",
       " ['на', ' ', 'покупка', ' ', 'подержать', ' ', 'автомобиль', '\\n'],\n",
       " ['покупка', ' ', 'свой', ' ', 'жилье', '\\n'],\n",
       " ['строительство', ' ', 'собственный', ' ', 'недвижимость', '\\n'],\n",
       " ['ремонт', ' ', 'жилье', '\\n'],\n",
       " ['получение', ' ', 'дополнительный', ' ', 'образование', '\\n'],\n",
       " ['недвижимость', '\\n'],\n",
       " ['недвижимость', '\\n'],\n",
       " ['свадьба', '\\n'],\n",
       " ['на', ' ', 'покупка', ' ', 'подержать', ' ', 'автомобиль', '\\n'],\n",
       " ['покупка', ' ', 'жилье', ' ', 'для', ' ', 'сдача', '\\n'],\n",
       " ['строительство', ' ', 'недвижимость', '\\n'],\n",
       " ['сделка', ' ', 'с', ' ', 'подержанный', ' ', 'автомобиль', '\\n'],\n",
       " ['операция', ' ', 'с', ' ', 'коммерческий', ' ', 'недвижимость', '\\n'],\n",
       " ['на', ' ', 'проведение', ' ', 'свадьба', '\\n'],\n",
       " ['строительство', ' ', 'недвижимость', '\\n'],\n",
       " ['покупка', ' ', 'коммерческий', ' ', 'недвижимость', '\\n'],\n",
       " ['дополнительный', ' ', 'образование', '\\n'],\n",
       " ['операция', ' ', 'с', ' ', 'коммерческий', ' ', 'недвижимость', '\\n'],\n",
       " ['недвижимость', '\\n'],\n",
       " ['строительство', ' ', 'жилой', ' ', 'недвижимость', '\\n'],\n",
       " ['операция', ' ', 'с', ' ', 'коммерческий', ' ', 'недвижимость', '\\n'],\n",
       " ['ремонт', ' ', 'жилье', '\\n'],\n",
       " ['недвижимость', '\\n'],\n",
       " ['покупка', ' ', 'жилой', ' ', 'недвижимость', '\\n'],\n",
       " ['заниматься', ' ', 'высокий', ' ', 'образование', '\\n'],\n",
       " ['покупка', ' ', 'жилье', ' ', 'для', ' ', 'сдача', '\\n'],\n",
       " ['дополнительный', ' ', 'образование', '\\n'],\n",
       " ['покупка', ' ', 'недвижимость', '\\n'],\n",
       " ['образование', '\\n'],\n",
       " ['покупка', ' ', 'жилье', ' ', 'для', ' ', 'семья', '\\n'],\n",
       " ['сделка', ' ', 'с', ' ', 'автомобиль', '\\n'],\n",
       " ['свой', ' ', 'автомобиль', '\\n'],\n",
       " ['строительство', ' ', 'жилой', ' ', 'недвижимость', '\\n'],\n",
       " ['на', ' ', 'покупка', ' ', 'подержать', ' ', 'автомобиль', '\\n'],\n",
       " ['на', ' ', 'проведение', ' ', 'свадьба', '\\n'],\n",
       " ['сыграть', ' ', 'свадьба', '\\n'],\n",
       " ['покупка', ' ', 'жилье', ' ', 'для', ' ', 'сдача', '\\n'],\n",
       " ['операция', ' ', 'с', ' ', 'коммерческий', ' ', 'недвижимость', '\\n'],\n",
       " ['покупка', ' ', 'жилой', ' ', 'недвижимость', '\\n'],\n",
       " ['покупка', ' ', 'недвижимость', '\\n'],\n",
       " ['покупка', ' ', 'коммерческий', ' ', 'недвижимость', '\\n'],\n",
       " ['приобретение', ' ', 'автомобиль', '\\n'],\n",
       " ['покупка', ' ', 'жилой', ' ', 'недвижимость', '\\n'],\n",
       " ['покупка', ' ', 'жилье', '\\n'],\n",
       " ['свой', ' ', 'автомобиль', '\\n'],\n",
       " ['высокий', ' ', 'образование', '\\n'],\n",
       " ['на', ' ', 'покупка', ' ', 'подержать', ' ', 'автомобиль', '\\n'],\n",
       " ['свой', ' ', 'автомобиль', '\\n'],\n",
       " ['операция', ' ', 'с', ' ', 'недвижимость', '\\n'],\n",
       " ['строительство', ' ', 'недвижимость', '\\n'],\n",
       " ['автомобиль', '\\n'],\n",
       " ['операция', ' ', 'с', ' ', 'коммерческий', ' ', 'недвижимость', '\\n'],\n",
       " ['сделка', ' ', 'с', ' ', 'подержанный', ' ', 'автомобиль', '\\n'],\n",
       " ['покупка', ' ', 'коммерческий', ' ', 'недвижимость', '\\n'],\n",
       " ['сделка', ' ', 'с', ' ', 'автомобиль', '\\n'],\n",
       " ['сделка', ' ', 'с', ' ', 'автомобиль', '\\n'],\n",
       " ['покупка', ' ', 'жилье', '\\n'],\n",
       " ['операция', ' ', 'с', ' ', 'коммерческий', ' ', 'недвижимость', '\\n'],\n",
       " ['получение', ' ', 'образование', '\\n'],\n",
       " ['заниматься', ' ', 'высокий', ' ', 'образование', '\\n'],\n",
       " ['покупка', ' ', 'жилой', ' ', 'недвижимость', '\\n'],\n",
       " ['операция', ' ', 'с', ' ', 'жилье', '\\n'],\n",
       " ['на', ' ', 'проведение', ' ', 'свадьба', '\\n'],\n",
       " ['покупка', ' ', 'жилье', ' ', 'для', ' ', 'семья', '\\n'],\n",
       " ['покупка', ' ', 'коммерческий', ' ', 'недвижимость', '\\n'],\n",
       " ['автомобиль', '\\n'],\n",
       " ['строительство', ' ', 'собственный', ' ', 'недвижимость', '\\n'],\n",
       " ['покупка', ' ', 'жилой', ' ', 'недвижимость', '\\n'],\n",
       " ['приобретение', ' ', 'автомобиль', '\\n'],\n",
       " ['строительство', ' ', 'жилой', ' ', 'недвижимость', '\\n'],\n",
       " ['свадьба', '\\n'],\n",
       " ['жилье', '\\n'],\n",
       " ['покупка', ' ', 'жилье', ' ', 'для', ' ', 'сдача', '\\n'],\n",
       " ['покупка', ' ', 'жилье', ' ', 'для', ' ', 'сдача', '\\n'],\n",
       " ['жилье', '\\n'],\n",
       " ['покупка', ' ', 'жилье', ' ', 'для', ' ', 'сдача', '\\n'],\n",
       " ['получение', ' ', 'высокий', ' ', 'образование', '\\n'],\n",
       " ['заниматься', ' ', 'высокий', ' ', 'образование', '\\n'],\n",
       " ['покупка', ' ', 'жилой', ' ', 'недвижимость', '\\n'],\n",
       " ['свадьба', '\\n'],\n",
       " ['на', ' ', 'покупка', ' ', 'подержать', ' ', 'автомобиль', '\\n'],\n",
       " ['недвижимость', '\\n'],\n",
       " ['операция', ' ', 'с', ' ', 'недвижимость', '\\n'],\n",
       " ['автомобиль', '\\n'],\n",
       " ['недвижимость', '\\n'],\n",
       " ['получение', ' ', 'образование', '\\n'],\n",
       " ['покупка', ' ', 'недвижимость', '\\n'],\n",
       " ['приобретение', ' ', 'автомобиль', '\\n'],\n",
       " ['на', ' ', 'покупка', ' ', 'подержать', ' ', 'автомобиль', '\\n'],\n",
       " ['получение', ' ', 'высокий', ' ', 'образование', '\\n'],\n",
       " ['жилье', '\\n'],\n",
       " ['ремонт', ' ', 'жилье', '\\n'],\n",
       " ['жилье', '\\n'],\n",
       " ['на', ' ', 'проведение', ' ', 'свадьба', '\\n'],\n",
       " ['покупка', ' ', 'жилье', '\\n'],\n",
       " ['сделка', ' ', 'с', ' ', 'подержанный', ' ', 'автомобиль', '\\n'],\n",
       " ['сыграть', ' ', 'свадьба', '\\n'],\n",
       " ['недвижимость', '\\n'],\n",
       " ['получение', ' ', 'образование', '\\n'],\n",
       " ['покупка', ' ', 'жилье', '\\n'],\n",
       " ['операция', ' ', 'с', ' ', 'жилье', '\\n'],\n",
       " ['автомобиль', '\\n'],\n",
       " ['дополнительный', ' ', 'образование', '\\n'],\n",
       " ['покупка', ' ', 'недвижимость', '\\n'],\n",
       " ['получение', ' ', 'образование', '\\n'],\n",
       " ['высокий', ' ', 'образование', '\\n'],\n",
       " ['покупка', ' ', 'свой', ' ', 'жилье', '\\n'],\n",
       " ['покупка', ' ', 'коммерческий', ' ', 'недвижимость', '\\n'],\n",
       " ['заниматься', ' ', 'высокий', ' ', 'образование', '\\n'],\n",
       " ['на', ' ', 'покупка', ' ', 'свой', ' ', 'автомобиль', '\\n'],\n",
       " ['недвижимость', '\\n'],\n",
       " ['жилье', '\\n'],\n",
       " ['образование', '\\n'],\n",
       " ['ремонт', ' ', 'жилье', '\\n'],\n",
       " ['операция', ' ', 'с', ' ', 'недвижимость', '\\n'],\n",
       " ['строительство', ' ', 'жилой', ' ', 'недвижимость', '\\n'],\n",
       " ['на', ' ', 'проведение', ' ', 'свадьба', '\\n'],\n",
       " ['на', ' ', 'проведение', ' ', 'свадьба', '\\n'],\n",
       " ['получение', ' ', 'высокий', ' ', 'образование', '\\n'],\n",
       " ['высокий', ' ', 'образование', '\\n'],\n",
       " ['сделка', ' ', 'с', ' ', 'подержанный', ' ', 'автомобиль', '\\n'],\n",
       " ['операция', ' ', 'со', ' ', 'свой', ' ', 'недвижимость', '\\n'],\n",
       " ['свадьба', '\\n'],\n",
       " ['операция', ' ', 'со', ' ', 'свой', ' ', 'недвижимость', '\\n'],\n",
       " ['свадьба', '\\n'],\n",
       " ['сыграть', ' ', 'свадьба', '\\n'],\n",
       " ['автомобиль', '\\n'],\n",
       " ['ремонт', ' ', 'жилье', '\\n'],\n",
       " ['жилье', '\\n'],\n",
       " ['профильный', ' ', 'образование', '\\n'],\n",
       " ['покупка', ' ', 'жилье', ' ', 'для', ' ', 'сдача', '\\n'],\n",
       " ['ремонт', ' ', 'жилье', '\\n'],\n",
       " ['свадьба', '\\n'],\n",
       " ['приобретение', ' ', 'автомобиль', '\\n'],\n",
       " ['профильный', ' ', 'образование', '\\n'],\n",
       " ['покупка', ' ', 'недвижимость', '\\n'],\n",
       " ['автомобиль', '\\n'],\n",
       " ['операция', ' ', 'со', ' ', 'свой', ' ', 'недвижимость', '\\n'],\n",
       " ['покупка', ' ', 'коммерческий', ' ', 'недвижимость', '\\n'],\n",
       " ['получение', ' ', 'высокий', ' ', 'образование', '\\n'],\n",
       " ['строительство', ' ', 'недвижимость', '\\n'],\n",
       " ['операция', ' ', 'с', ' ', 'жилье', '\\n'],\n",
       " ['операция', ' ', 'с', ' ', 'жилье', '\\n'],\n",
       " ['сыграть', ' ', 'свадьба', '\\n'],\n",
       " ['покупка', ' ', 'жилье', ' ', 'для', ' ', 'семья', '\\n'],\n",
       " ['покупка', ' ', 'жилье', ' ', 'для', ' ', 'семья', '\\n'],\n",
       " ['сыграть', ' ', 'свадьба', '\\n'],\n",
       " ['дополнительный', ' ', 'образование', '\\n'],\n",
       " ['на', ' ', 'покупка', ' ', 'подержать', ' ', 'автомобиль', '\\n'],\n",
       " ['покупка', ' ', 'жилье', ' ', 'для', ' ', 'сдача', '\\n'],\n",
       " ['покупка', ' ', 'жилой', ' ', 'недвижимость', '\\n'],\n",
       " ['сделка', ' ', 'с', ' ', 'подержанный', ' ', 'автомобиль', '\\n'],\n",
       " ['заниматься', ' ', 'высокий', ' ', 'образование', '\\n'],\n",
       " ['заниматься', ' ', 'высокий', ' ', 'образование', '\\n'],\n",
       " ['жилье', '\\n'],\n",
       " ['на', ' ', 'покупка', ' ', 'подержать', ' ', 'автомобиль', '\\n'],\n",
       " ['операция', ' ', 'с', ' ', 'недвижимость', '\\n'],\n",
       " ['свой', ' ', 'автомобиль', '\\n'],\n",
       " ['свадьба', '\\n'],\n",
       " ['профильный', ' ', 'образование', '\\n'],\n",
       " ['получение', ' ', 'дополнительный', ' ', 'образование', '\\n'],\n",
       " ['покупка', ' ', 'жилье', '\\n'],\n",
       " ['автомобиль', '\\n'],\n",
       " ['на', ' ', 'проведение', ' ', 'свадьба', '\\n'],\n",
       " ['покупка', ' ', 'свой', ' ', 'жилье', '\\n'],\n",
       " ['недвижимость', '\\n'],\n",
       " ['жилье', '\\n'],\n",
       " ['строительство', ' ', 'жилой', ' ', 'недвижимость', '\\n'],\n",
       " ['на', ' ', 'покупка', ' ', 'автомобиль', '\\n'],\n",
       " ['на', ' ', 'проведение', ' ', 'свадьба', '\\n'],\n",
       " ['автомобиль', '\\n'],\n",
       " ['свадьба', '\\n'],\n",
       " ['операция', ' ', 'с', ' ', 'коммерческий', ' ', 'недвижимость', '\\n'],\n",
       " ['строительство', ' ', 'собственный', ' ', 'недвижимость', '\\n'],\n",
       " ['профильный', ' ', 'образование', '\\n'],\n",
       " ['сыграть', ' ', 'свадьба', '\\n'],\n",
       " ['высокий', ' ', 'образование', '\\n'],\n",
       " ['покупка', ' ', 'жилье', ' ', 'для', ' ', 'семья', '\\n'],\n",
       " ['на', ' ', 'проведение', ' ', 'свадьба', '\\n'],\n",
       " ['дополнительный', ' ', 'образование', '\\n'],\n",
       " ['строительство', ' ', 'собственный', ' ', 'недвижимость', '\\n'],\n",
       " ['покупка', ' ', 'недвижимость', '\\n'],\n",
       " ['операция', ' ', 'со', ' ', 'свой', ' ', 'недвижимость', '\\n'],\n",
       " ['на', ' ', 'покупка', ' ', 'свой', ' ', 'автомобиль', '\\n'],\n",
       " ['высокий', ' ', 'образование', '\\n'],\n",
       " ['получение', ' ', 'дополнительный', ' ', 'образование', '\\n'],\n",
       " ['на', ' ', 'покупка', ' ', 'подержать', ' ', 'автомобиль', '\\n'],\n",
       " ['недвижимость', '\\n'],\n",
       " ['недвижимость', '\\n'],\n",
       " ['свадьба', '\\n'],\n",
       " ['жилье', '\\n'],\n",
       " ['свой', ' ', 'автомобиль', '\\n'],\n",
       " ['жилье', '\\n'],\n",
       " ['недвижимость', '\\n'],\n",
       " ['сделка', ' ', 'с', ' ', 'подержанный', ' ', 'автомобиль', '\\n'],\n",
       " ['покупка', ' ', 'жилой', ' ', 'недвижимость', '\\n'],\n",
       " ['на', ' ', 'покупка', ' ', 'автомобиль', '\\n'],\n",
       " ['автомобиль', '\\n'],\n",
       " ['строительство', ' ', 'недвижимость', '\\n'],\n",
       " ['на', ' ', 'проведение', ' ', 'свадьба', '\\n'],\n",
       " ['покупка', ' ', 'свой', ' ', 'жилье', '\\n'],\n",
       " ['строительство', ' ', 'жилой', ' ', 'недвижимость', '\\n'],\n",
       " ['заниматься', ' ', 'высокий', ' ', 'образование', '\\n'],\n",
       " ['на', ' ', 'покупка', ' ', 'автомобиль', '\\n'],\n",
       " ['покупка', ' ', 'недвижимость', '\\n'],\n",
       " ['на', ' ', 'проведение', ' ', 'свадьба', '\\n'],\n",
       " ['покупка', ' ', 'жилой', ' ', 'недвижимость', '\\n'],\n",
       " ['приобретение', ' ', 'автомобиль', '\\n'],\n",
       " ['ремонт', ' ', 'жилье', '\\n'],\n",
       " ['образование', '\\n'],\n",
       " ['на', ' ', 'проведение', ' ', 'свадьба', '\\n'],\n",
       " ['строительство', ' ', 'жилой', ' ', 'недвижимость', '\\n'],\n",
       " ['покупка', ' ', 'недвижимость', '\\n'],\n",
       " ['покупка', ' ', 'жилой', ' ', 'недвижимость', '\\n'],\n",
       " ['профильный', ' ', 'образование', '\\n'],\n",
       " ['покупка', ' ', 'жилье', ' ', 'для', ' ', 'семья', '\\n'],\n",
       " ['сыграть', ' ', 'свадьба', '\\n'],\n",
       " ['свадьба', '\\n'],\n",
       " ['приобретение', ' ', 'автомобиль', '\\n'],\n",
       " ['высокий', ' ', 'образование', '\\n'],\n",
       " ['сыграть', ' ', 'свадьба', '\\n'],\n",
       " ['строительство', ' ', 'недвижимость', '\\n'],\n",
       " ['операция', ' ', 'со', ' ', 'свой', ' ', 'недвижимость', '\\n'],\n",
       " ['операция', ' ', 'с', ' ', 'коммерческий', ' ', 'недвижимость', '\\n'],\n",
       " ['автомобиль', '\\n'],\n",
       " ['операция', ' ', 'с', ' ', 'жилье', '\\n'],\n",
       " ['строительство', ' ', 'жилой', ' ', 'недвижимость', '\\n'],\n",
       " ['на', ' ', 'проведение', ' ', 'свадьба', '\\n'],\n",
       " ['автомобиль', '\\n'],\n",
       " ['операция', ' ', 'с', ' ', 'коммерческий', ' ', 'недвижимость', '\\n'],\n",
       " ['покупка', ' ', 'свой', ' ', 'жилье', '\\n'],\n",
       " ['покупка', ' ', 'коммерческий', ' ', 'недвижимость', '\\n'],\n",
       " ['автомобиль', '\\n'],\n",
       " ['сыграть', ' ', 'свадьба', '\\n'],\n",
       " ['операция', ' ', 'с', ' ', 'жилье', '\\n'],\n",
       " ['автомобиль', '\\n'],\n",
       " ['покупка', ' ', 'жилье', '\\n'],\n",
       " ['на', ' ', 'покупка', ' ', 'подержать', ' ', 'автомобиль', '\\n'],\n",
       " ['покупка', ' ', 'коммерческий', ' ', 'недвижимость', '\\n'],\n",
       " ['недвижимость', '\\n'],\n",
       " ['свадьба', '\\n'],\n",
       " ['сыграть', ' ', 'свадьба', '\\n'],\n",
       " ['строительство', ' ', 'недвижимость', '\\n'],\n",
       " ['строительство', ' ', 'недвижимость', '\\n'],\n",
       " ['сыграть', ' ', 'свадьба', '\\n'],\n",
       " ['сыграть', ' ', 'свадьба', '\\n'],\n",
       " ['сделка', ' ', 'с', ' ', 'подержанный', ' ', 'автомобиль', '\\n'],\n",
       " ['операция', ' ', 'с', ' ', 'коммерческий', ' ', 'недвижимость', '\\n'],\n",
       " ['операция', ' ', 'с', ' ', 'недвижимость', '\\n'],\n",
       " ['покупка', ' ', 'недвижимость', '\\n'],\n",
       " ['операция', ' ', 'с', ' ', 'коммерческий', ' ', 'недвижимость', '\\n'],\n",
       " ['строительство', ' ', 'жилой', ' ', 'недвижимость', '\\n'],\n",
       " ['строительство', ' ', 'недвижимость', '\\n'],\n",
       " ['получение', ' ', 'высокий', ' ', 'образование', '\\n'],\n",
       " ['сделка', ' ', 'с', ' ', 'подержанный', ' ', 'автомобиль', '\\n'],\n",
       " ['операция', ' ', 'с', ' ', 'жилье', '\\n'],\n",
       " ['сыграть', ' ', 'свадьба', '\\n'],\n",
       " ['образование', '\\n'],\n",
       " ['образование', '\\n'],\n",
       " ['на', ' ', 'покупка', ' ', 'автомобиль', '\\n'],\n",
       " ['высокий', ' ', 'образование', '\\n'],\n",
       " ['операция', ' ', 'с', ' ', 'жилье', '\\n'],\n",
       " ['приобретение', ' ', 'автомобиль', '\\n'],\n",
       " ['заниматься', ' ', 'высокий', ' ', 'образование', '\\n'],\n",
       " ['сыграть', ' ', 'свадьба', '\\n'],\n",
       " ['на', ' ', 'покупка', ' ', 'свой', ' ', 'автомобиль', '\\n'],\n",
       " ['покупка', ' ', 'жилой', ' ', 'недвижимость', '\\n'],\n",
       " ['покупка', ' ', 'недвижимость', '\\n'],\n",
       " ['покупка', ' ', 'жилье', '\\n'],\n",
       " ['операция', ' ', 'с', ' ', 'жилье', '\\n'],\n",
       " ['ремонт', ' ', 'жилье', '\\n'],\n",
       " ['недвижимость', '\\n'],\n",
       " ['жилье', '\\n'],\n",
       " ['покупка', ' ', 'коммерческий', ' ', 'недвижимость', '\\n'],\n",
       " ['сделка', ' ', 'с', ' ', 'автомобиль', '\\n'],\n",
       " ['на', ' ', 'покупка', ' ', 'автомобиль', '\\n'],\n",
       " ['покупка', ' ', 'недвижимость', '\\n'],\n",
       " ['на', ' ', 'покупка', ' ', 'подержать', ' ', 'автомобиль', '\\n'],\n",
       " ['покупка', ' ', 'жилье', '\\n'],\n",
       " ['покупка', ' ', 'коммерческий', ' ', 'недвижимость', '\\n'],\n",
       " ['сыграть', ' ', 'свадьба', '\\n'],\n",
       " ['на', ' ', 'проведение', ' ', 'свадьба', '\\n'],\n",
       " ['дополнительный', ' ', 'образование', '\\n'],\n",
       " ['строительство', ' ', 'жилой', ' ', 'недвижимость', '\\n'],\n",
       " ['операция', ' ', 'с', ' ', 'жилье', '\\n'],\n",
       " ['операция', ' ', 'с', ' ', 'жилье', '\\n'],\n",
       " ['на', ' ', 'проведение', ' ', 'свадьба', '\\n'],\n",
       " ['на', ' ', 'проведение', ' ', 'свадьба', '\\n'],\n",
       " ['профильный', ' ', 'образование', '\\n'],\n",
       " ['сделка', ' ', 'с', ' ', 'подержанный', ' ', 'автомобиль', '\\n'],\n",
       " ['образование', '\\n'],\n",
       " ['строительство', ' ', 'собственный', ' ', 'недвижимость', '\\n'],\n",
       " ['образование', '\\n'],\n",
       " ['дополнительный', ' ', 'образование', '\\n'],\n",
       " ['на', ' ', 'покупка', ' ', 'свой', ' ', 'автомобиль', '\\n'],\n",
       " ['на', ' ', 'проведение', ' ', 'свадьба', '\\n'],\n",
       " ['покупка', ' ', 'жилье', '\\n'],\n",
       " ['операция', ' ', 'со', ' ', 'свой', ' ', 'недвижимость', '\\n'],\n",
       " ['операция', ' ', 'с', ' ', 'недвижимость', '\\n'],\n",
       " ['строительство', ' ', 'недвижимость', '\\n'],\n",
       " ['на', ' ', 'покупка', ' ', 'автомобиль', '\\n'],\n",
       " ['операция', ' ', 'с', ' ', 'коммерческий', ' ', 'недвижимость', '\\n'],\n",
       " ['строительство', ' ', 'собственный', ' ', 'недвижимость', '\\n'],\n",
       " ['на', ' ', 'покупка', ' ', 'подержать', ' ', 'автомобиль', '\\n'],\n",
       " ['на', ' ', 'покупка', ' ', 'свой', ' ', 'автомобиль', '\\n'],\n",
       " ['сыграть', ' ', 'свадьба', '\\n'],\n",
       " ['сделка', ' ', 'с', ' ', 'подержанный', ' ', 'автомобиль', '\\n'],\n",
       " ['покупка', ' ', 'жилье', ' ', 'для', ' ', 'семья', '\\n'],\n",
       " ['покупка', ' ', 'жилье', '\\n'],\n",
       " ['покупка', ' ', 'жилье', ' ', 'для', ' ', 'семья', '\\n'],\n",
       " ['ремонт', ' ', 'жилье', '\\n'],\n",
       " ['строительство', ' ', 'недвижимость', '\\n'],\n",
       " ['покупка', ' ', 'жилье', ' ', 'для', ' ', 'семья', '\\n'],\n",
       " ['сыграть', ' ', 'свадьба', '\\n'],\n",
       " ['покупка', ' ', 'недвижимость', '\\n'],\n",
       " ['строительство', ' ', 'недвижимость', '\\n'],\n",
       " ['свой', ' ', 'автомобиль', '\\n'],\n",
       " ['сделка', ' ', 'с', ' ', 'автомобиль', '\\n'],\n",
       " ['операция', ' ', 'с', ' ', 'жилье', '\\n'],\n",
       " ['жилье', '\\n'],\n",
       " ['операция', ' ', 'с', ' ', 'коммерческий', ' ', 'недвижимость', '\\n'],\n",
       " ['операция', ' ', 'с', ' ', 'коммерческий', ' ', 'недвижимость', '\\n'],\n",
       " ['на', ' ', 'покупка', ' ', 'подержать', ' ', 'автомобиль', '\\n'],\n",
       " ['строительство', ' ', 'недвижимость', '\\n'],\n",
       " ['жилье', '\\n'],\n",
       " ['высокий', ' ', 'образование', '\\n'],\n",
       " ['операция', ' ', 'со', ' ', 'свой', ' ', 'недвижимость', '\\n'],\n",
       " ['строительство', ' ', 'жилой', ' ', 'недвижимость', '\\n'],\n",
       " ['покупка', ' ', 'жилье', ' ', 'для', ' ', 'сдача', '\\n'],\n",
       " ['заниматься', ' ', 'образование', '\\n'],\n",
       " ['на', ' ', 'покупка', ' ', 'подержать', ' ', 'автомобиль', '\\n'],\n",
       " ['свадьба', '\\n'],\n",
       " ['дополнительный', ' ', 'образование', '\\n'],\n",
       " ['сыграть', ' ', 'свадьба', '\\n'],\n",
       " ['на', ' ', 'покупка', ' ', 'свой', ' ', 'автомобиль', '\\n'],\n",
       " ['приобретение', ' ', 'автомобиль', '\\n'],\n",
       " ['сыграть', ' ', 'свадьба', '\\n'],\n",
       " ['на', ' ', 'покупка', ' ', 'автомобиль', '\\n'],\n",
       " ['покупка', ' ', 'жилье', ' ', 'для', ' ', 'семья', '\\n'],\n",
       " ['сыграть', ' ', 'свадьба', '\\n'],\n",
       " ['профильный', ' ', 'образование', '\\n'],\n",
       " ['получение', ' ', 'образование', '\\n'],\n",
       " ['профильный', ' ', 'образование', '\\n'],\n",
       " ['покупка', ' ', 'свой', ' ', 'жилье', '\\n'],\n",
       " ['покупка', ' ', 'жилье', ' ', 'для', ' ', 'сдача', '\\n'],\n",
       " ['покупка', ' ', 'свой', ' ', 'жилье', '\\n'],\n",
       " ['сделка', ' ', 'с', ' ', 'подержанный', ' ', 'автомобиль', '\\n'],\n",
       " ['операция', ' ', 'со', ' ', 'свой', ' ', 'недвижимость', '\\n'],\n",
       " ['строительство', ' ', 'жилой', ' ', 'недвижимость', '\\n'],\n",
       " ['покупка', ' ', 'жилье', ' ', 'для', ' ', 'семья', '\\n'],\n",
       " ['операция', ' ', 'с', ' ', 'недвижимость', '\\n'],\n",
       " ['образование', '\\n'],\n",
       " ['строительство', ' ', 'жилой', ' ', 'недвижимость', '\\n'],\n",
       " ['заниматься', ' ', 'образование', '\\n'],\n",
       " ['на', ' ', 'покупка', ' ', 'автомобиль', '\\n'],\n",
       " ['на', ' ', 'проведение', ' ', 'свадьба', '\\n'],\n",
       " ['ремонт', ' ', 'жилье', '\\n'],\n",
       " ['недвижимость', '\\n'],\n",
       " ['покупка', ' ', 'жилой', ' ', 'недвижимость', '\\n'],\n",
       " ['приобретение', ' ', 'автомобиль', '\\n'],\n",
       " ['приобретение', ' ', 'автомобиль', '\\n'],\n",
       " ['покупка', ' ', 'недвижимость', '\\n'],\n",
       " ['ремонт', ' ', 'жилье', '\\n'],\n",
       " ['операция', ' ', 'с', ' ', 'коммерческий', ' ', 'недвижимость', '\\n'],\n",
       " ['на', ' ', 'покупка', ' ', 'подержать', ' ', 'автомобиль', '\\n'],\n",
       " ['покупка', ' ', 'жилой', ' ', 'недвижимость', '\\n'],\n",
       " ['недвижимость', '\\n'],\n",
       " ['операция', ' ', 'с', ' ', 'жилье', '\\n'],\n",
       " ['покупка', ' ', 'жилье', '\\n'],\n",
       " ['автомобиль', '\\n'],\n",
       " ['профильный', ' ', 'образование', '\\n'],\n",
       " ['заниматься', ' ', 'образование', '\\n'],\n",
       " ['покупка', ' ', 'жилье', ' ', 'для', ' ', 'семья', '\\n'],\n",
       " ['строительство', ' ', 'недвижимость', '\\n'],\n",
       " ['покупка', ' ', 'жилье', ' ', 'для', ' ', 'сдача', '\\n'],\n",
       " ['операция', ' ', 'с', ' ', 'коммерческий', ' ', 'недвижимость', '\\n'],\n",
       " ['операция', ' ', 'с', ' ', 'недвижимость', '\\n'],\n",
       " ['получение', ' ', 'высокий', ' ', 'образование', '\\n'],\n",
       " ['приобретение', ' ', 'автомобиль', '\\n'],\n",
       " ['операция', ' ', 'с', ' ', 'жилье', '\\n'],\n",
       " ['на', ' ', 'покупка', ' ', 'подержать', ' ', 'автомобиль', '\\n'],\n",
       " ['на', ' ', 'покупка', ' ', 'свой', ' ', 'автомобиль', '\\n'],\n",
       " ['покупка', ' ', 'коммерческий', ' ', 'недвижимость', '\\n'],\n",
       " ['на', ' ', 'проведение', ' ', 'свадьба', '\\n'],\n",
       " ['операция', ' ', 'с', ' ', 'жилье', '\\n'],\n",
       " ['недвижимость', '\\n'],\n",
       " ['сыграть', ' ', 'свадьба', '\\n'],\n",
       " ['получение', ' ', 'образование', '\\n'],\n",
       " ['заниматься', ' ', 'образование', '\\n'],\n",
       " ['недвижимость', '\\n'],\n",
       " ['покупка', ' ', 'жилье', ' ', 'для', ' ', 'семья', '\\n'],\n",
       " ['заниматься', ' ', 'высокий', ' ', 'образование', '\\n'],\n",
       " ['покупка', ' ', 'жилье', ' ', 'для', ' ', 'семья', '\\n'],\n",
       " ['покупка', ' ', 'жилой', ' ', 'недвижимость', '\\n'],\n",
       " ['сыграть', ' ', 'свадьба', '\\n'],\n",
       " ['сделка', ' ', 'с', ' ', 'автомобиль', '\\n'],\n",
       " ['покупка', ' ', 'жилье', '\\n'],\n",
       " ['высокий', ' ', 'образование', '\\n'],\n",
       " ['строительство', ' ', 'собственный', ' ', 'недвижимость', '\\n'],\n",
       " ['образование', '\\n'],\n",
       " ['покупка', ' ', 'свой', ' ', 'жилье', '\\n'],\n",
       " ['на', ' ', 'проведение', ' ', 'свадьба', '\\n'],\n",
       " ['ремонт', ' ', 'жилье', '\\n'],\n",
       " ['свой', ' ', 'автомобиль', '\\n'],\n",
       " ['ремонт', ' ', 'жилье', '\\n'],\n",
       " ['покупка', ' ', 'жилье', ' ', 'для', ' ', 'сдача', '\\n'],\n",
       " ['свой', ' ', 'автомобиль', '\\n'],\n",
       " ['на', ' ', 'покупка', ' ', 'подержать', ' ', 'автомобиль', '\\n'],\n",
       " ['покупка', ' ', 'коммерческий', ' ', 'недвижимость', '\\n'],\n",
       " ['на', ' ', 'покупка', ' ', 'автомобиль', '\\n'],\n",
       " ['сделка', ' ', 'с', ' ', 'подержанный', ' ', 'автомобиль', '\\n'],\n",
       " ['сыграть', ' ', 'свадьба', '\\n'],\n",
       " ['получение', ' ', 'образование', '\\n'],\n",
       " ['покупка', ' ', 'жилье', ' ', 'для', ' ', 'сдача', '\\n'],\n",
       " ['высокий', ' ', 'образование', '\\n'],\n",
       " ['сделка', ' ', 'с', ' ', 'подержанный', ' ', 'автомобиль', '\\n'],\n",
       " ['покупка', ' ', 'жилье', '\\n'],\n",
       " ['строительство', ' ', 'собственный', ' ', 'недвижимость', '\\n'],\n",
       " ['строительство', ' ', 'недвижимость', '\\n'],\n",
       " ['покупка', ' ', 'свой', ' ', 'жилье', '\\n'],\n",
       " ['получение', ' ', 'дополнительный', ' ', 'образование', '\\n'],\n",
       " ['операция', ' ', 'с', ' ', 'недвижимость', '\\n'],\n",
       " ['на', ' ', 'покупка', ' ', 'автомобиль', '\\n'],\n",
       " ['покупка', ' ', 'жилье', ' ', 'для', ' ', 'сдача', '\\n'],\n",
       " ['покупка', ' ', 'недвижимость', '\\n'],\n",
       " ['операция', ' ', 'с', ' ', 'жилье', '\\n'],\n",
       " ['покупка', ' ', 'жилье', '\\n'],\n",
       " ['покупка', ' ', 'коммерческий', ' ', 'недвижимость', '\\n'],\n",
       " ['операция', ' ', 'с', ' ', 'недвижимость', '\\n'],\n",
       " ['автомобиль', '\\n'],\n",
       " ['покупка', ' ', 'жилой', ' ', 'недвижимость', '\\n'],\n",
       " ['недвижимость', '\\n'],\n",
       " ['сделка', ' ', 'с', ' ', 'автомобиль', '\\n'],\n",
       " ['сделка', ' ', 'с', ' ', 'подержанный', ' ', 'автомобиль', '\\n'],\n",
       " ['автомобиль', '\\n'],\n",
       " ['заниматься', ' ', 'высокий', ' ', 'образование', '\\n'],\n",
       " ['покупка', ' ', 'жилой', ' ', 'недвижимость', '\\n'],\n",
       " ['свадьба', '\\n'],\n",
       " ['ремонт', ' ', 'жилье', '\\n'],\n",
       " ['заниматься', ' ', 'высокий', ' ', 'образование', '\\n'],\n",
       " ['получение', ' ', 'образование', '\\n'],\n",
       " ['операция', ' ', 'со', ' ', 'свой', ' ', 'недвижимость', '\\n'],\n",
       " ['заниматься', ' ', 'высокий', ' ', 'образование', '\\n'],\n",
       " ['недвижимость', '\\n'],\n",
       " ['операция', ' ', 'с', ' ', 'жилье', '\\n'],\n",
       " ['покупка', ' ', 'жилье', ' ', 'для', ' ', 'сдача', '\\n'],\n",
       " ['покупка', ' ', 'жилье', ' ', 'для', ' ', 'сдача', '\\n'],\n",
       " ['операция', ' ', 'с', ' ', 'жилье', '\\n'],\n",
       " ['покупка', ' ', 'жилье', '\\n'],\n",
       " ['образование', '\\n'],\n",
       " ['на', ' ', 'проведение', ' ', 'свадьба', '\\n'],\n",
       " ['автомобиль', '\\n'],\n",
       " ['операция', ' ', 'со', ' ', 'свой', ' ', 'недвижимость', '\\n'],\n",
       " ['строительство', ' ', 'собственный', ' ', 'недвижимость', '\\n'],\n",
       " ['покупка', ' ', 'недвижимость', '\\n'],\n",
       " ['операция', ' ', 'с', ' ', 'жилье', '\\n'],\n",
       " ['покупка', ' ', 'жилье', '\\n'],\n",
       " ['операция', ' ', 'с', ' ', 'недвижимость', '\\n'],\n",
       " ['операция', ' ', 'с', ' ', 'коммерческий', ' ', 'недвижимость', '\\n'],\n",
       " ['заниматься', ' ', 'высокий', ' ', 'образование', '\\n'],\n",
       " ['операция', ' ', 'со', ' ', 'свой', ' ', 'недвижимость', '\\n'],\n",
       " ['свадьба', '\\n'],\n",
       " ['дополнительный', ' ', 'образование', '\\n'],\n",
       " ['покупка', ' ', 'недвижимость', '\\n'],\n",
       " ['покупка', ' ', 'жилой', ' ', 'недвижимость', '\\n'],\n",
       " ['свой', ' ', 'автомобиль', '\\n'],\n",
       " ['строительство', ' ', 'собственный', ' ', 'недвижимость', '\\n'],\n",
       " ['операция', ' ', 'со', ' ', 'свой', ' ', 'недвижимость', '\\n'],\n",
       " ['операция', ' ', 'с', ' ', 'коммерческий', ' ', 'недвижимость', '\\n'],\n",
       " ['сыграть', ' ', 'свадьба', '\\n'],\n",
       " ['свадьба', '\\n'],\n",
       " ['покупка', ' ', 'жилье', ' ', 'для', ' ', 'сдача', '\\n'],\n",
       " ['покупка', ' ', 'жилье', '\\n'],\n",
       " ['заниматься', ' ', 'высокий', ' ', 'образование', '\\n'],\n",
       " ['на', ' ', 'покупка', ' ', 'свой', ' ', 'автомобиль', '\\n'],\n",
       " ['покупка', ' ', 'жилье', ' ', 'для', ' ', 'сдача', '\\n'],\n",
       " ['жилье', '\\n'],\n",
       " ['ремонт', ' ', 'жилье', '\\n'],\n",
       " ['покупка', ' ', 'свой', ' ', 'жилье', '\\n'],\n",
       " ['операция', ' ', 'с', ' ', 'недвижимость', '\\n'],\n",
       " ['покупка', ' ', 'жилье', '\\n'],\n",
       " ['получение', ' ', 'дополнительный', ' ', 'образование', '\\n'],\n",
       " ['свой', ' ', 'автомобиль', '\\n'],\n",
       " ['профильный', ' ', 'образование', '\\n'],\n",
       " ['недвижимость', '\\n'],\n",
       " ['покупка', ' ', 'недвижимость', '\\n'],\n",
       " ['операция', ' ', 'с', ' ', 'недвижимость', '\\n'],\n",
       " ['высокий', ' ', 'образование', '\\n'],\n",
       " ['покупка', ' ', 'недвижимость', '\\n'],\n",
       " ['покупка', ' ', 'жилье', ' ', 'для', ' ', 'сдача', '\\n'],\n",
       " ['строительство', ' ', 'жилой', ' ', 'недвижимость', '\\n'],\n",
       " ['ремонт', ' ', 'жилье', '\\n'],\n",
       " ['покупка', ' ', 'жилье', ' ', 'для', ' ', 'сдача', '\\n'],\n",
       " ['покупка', ' ', 'жилой', ' ', 'недвижимость', '\\n'],\n",
       " ['приобретение', ' ', 'автомобиль', '\\n'],\n",
       " ['автомобиль', '\\n'],\n",
       " ['покупка', ' ', 'жилой', ' ', 'недвижимость', '\\n'],\n",
       " ['строительство', ' ', 'недвижимость', '\\n'],\n",
       " ['операция', ' ', 'со', ' ', 'свой', ' ', 'недвижимость', '\\n'],\n",
       " ['заниматься', ' ', 'образование', '\\n'],\n",
       " ['высокий', ' ', 'образование', '\\n'],\n",
       " ['операция', ' ', 'с', ' ', 'недвижимость', '\\n'],\n",
       " ['свой', ' ', 'автомобиль', '\\n'],\n",
       " ['операция', ' ', 'со', ' ', 'свой', ' ', 'недвижимость', '\\n'],\n",
       " ['получение', ' ', 'дополнительный', ' ', 'образование', '\\n'],\n",
       " ['на', ' ', 'проведение', ' ', 'свадьба', '\\n'],\n",
       " ['получение', ' ', 'дополнительный', ' ', 'образование', '\\n'],\n",
       " ['свадьба', '\\n'],\n",
       " ['дополнительный', ' ', 'образование', '\\n'],\n",
       " ['операция', ' ', 'с', ' ', 'коммерческий', ' ', 'недвижимость', '\\n'],\n",
       " ['получение', ' ', 'образование', '\\n'],\n",
       " ['строительство', ' ', 'собственный', ' ', 'недвижимость', '\\n'],\n",
       " ['покупка', ' ', 'коммерческий', ' ', 'недвижимость', '\\n'],\n",
       " ['получение', ' ', 'дополнительный', ' ', 'образование', '\\n'],\n",
       " ['операция', ' ', 'с', ' ', 'недвижимость', '\\n'],\n",
       " ['жилье', '\\n'],\n",
       " ['автомобиль', '\\n'],\n",
       " ['покупка', ' ', 'коммерческий', ' ', 'недвижимость', '\\n'],\n",
       " ['автомобиль', '\\n'],\n",
       " ['автомобиль', '\\n'],\n",
       " ['на', ' ', 'покупка', ' ', 'автомобиль', '\\n'],\n",
       " ['сыграть', ' ', 'свадьба', '\\n'],\n",
       " ['ремонт', ' ', 'жилье', '\\n'],\n",
       " ['ремонт', ' ', 'жилье', '\\n'],\n",
       " ['получение', ' ', 'высокий', ' ', 'образование', '\\n'],\n",
       " ['автомобиль', '\\n'],\n",
       " ['на', ' ', 'проведение', ' ', 'свадьба', '\\n'],\n",
       " ['профильный', ' ', 'образование', '\\n'],\n",
       " ['свадьба', '\\n'],\n",
       " ['строительство', ' ', 'жилой', ' ', 'недвижимость', '\\n'],\n",
       " ['покупка', ' ', 'коммерческий', ' ', 'недвижимость', '\\n'],\n",
       " ['операция', ' ', 'с', ' ', 'недвижимость', '\\n'],\n",
       " ['покупка', ' ', 'жилье', ' ', 'для', ' ', 'семья', '\\n'],\n",
       " ['строительство', ' ', 'собственный', ' ', 'недвижимость', '\\n'],\n",
       " ['получение', ' ', 'образование', '\\n'],\n",
       " ['автомобиль', '\\n'],\n",
       " ['покупка', ' ', 'жилье', '\\n'],\n",
       " ['получение', ' ', 'образование', '\\n'],\n",
       " ['покупка', ' ', 'жилье', '\\n'],\n",
       " ['строительство', ' ', 'жилой', ' ', 'недвижимость', '\\n'],\n",
       " ['высокий', ' ', 'образование', '\\n'],\n",
       " ['покупка', ' ', 'жилье', ' ', 'для', ' ', 'семья', '\\n'],\n",
       " ['покупка', ' ', 'жилье', '\\n'],\n",
       " ['покупка', ' ', 'жилье', '\\n'],\n",
       " ['строительство', ' ', 'недвижимость', '\\n'],\n",
       " ['заниматься', ' ', 'высокий', ' ', 'образование', '\\n'],\n",
       " ['операция', ' ', 'с', ' ', 'жилье', '\\n'],\n",
       " ['на', ' ', 'проведение', ' ', 'свадьба', '\\n'],\n",
       " ['жилье', '\\n'],\n",
       " ['недвижимость', '\\n'],\n",
       " ['на', ' ', 'покупка', ' ', 'автомобиль', '\\n'],\n",
       " ['приобретение', ' ', 'автомобиль', '\\n'],\n",
       " ['строительство', ' ', 'недвижимость', '\\n'],\n",
       " ['покупка', ' ', 'коммерческий', ' ', 'недвижимость', '\\n'],\n",
       " ['сыграть', ' ', 'свадьба', '\\n'],\n",
       " ['жилье', '\\n'],\n",
       " ['на', ' ', 'покупка', ' ', 'подержать', ' ', 'автомобиль', '\\n'],\n",
       " ['свадьба', '\\n'],\n",
       " ['строительство', ' ', 'недвижимость', '\\n'],\n",
       " ['дополнительный', ' ', 'образование', '\\n'],\n",
       " ['получение', ' ', 'дополнительный', ' ', 'образование', '\\n'],\n",
       " ['операция', ' ', 'с', ' ', 'жилье', '\\n'],\n",
       " ['операция', ' ', 'с', ' ', 'недвижимость', '\\n'],\n",
       " ['строительство', ' ', 'жилой', ' ', 'недвижимость', '\\n'],\n",
       " ['строительство', ' ', 'жилой', ' ', 'недвижимость', '\\n'],\n",
       " ['покупка', ' ', 'жилье', ' ', 'для', ' ', 'семья', '\\n'],\n",
       " ['покупка', ' ', 'свой', ' ', 'жилье', '\\n'],\n",
       " ['операция', ' ', 'с', ' ', 'коммерческий', ' ', 'недвижимость', '\\n'],\n",
       " ['на', ' ', 'покупка', ' ', 'автомобиль', '\\n'],\n",
       " ['операция', ' ', 'с', ' ', 'жилье', '\\n'],\n",
       " ['недвижимость', '\\n'],\n",
       " ['ремонт', ' ', 'жилье', '\\n'],\n",
       " ['операция', ' ', 'с', ' ', 'недвижимость', '\\n'],\n",
       " ['покупка', ' ', 'жилой', ' ', 'недвижимость', '\\n'],\n",
       " ['покупка', ' ', 'жилой', ' ', 'недвижимость', '\\n'],\n",
       " ['приобретение', ' ', 'автомобиль', '\\n'],\n",
       " ['ремонт', ' ', 'жилье', '\\n'],\n",
       " ['высокий', ' ', 'образование', '\\n'],\n",
       " ['на', ' ', 'покупка', ' ', 'свой', ' ', 'автомобиль', '\\n'],\n",
       " ['профильный', ' ', 'образование', '\\n'],\n",
       " ['покупка', ' ', 'жилой', ' ', 'недвижимость', '\\n'],\n",
       " ['сделка', ' ', 'с', ' ', 'подержанный', ' ', 'автомобиль', '\\n'],\n",
       " ['заниматься', ' ', 'высокий', ' ', 'образование', '\\n'],\n",
       " ['жилье', '\\n'],\n",
       " ['строительство', ' ', 'недвижимость', '\\n'],\n",
       " ['ремонт', ' ', 'жилье', '\\n'],\n",
       " ['покупка', ' ', 'жилье', '\\n'],\n",
       " ['получение', ' ', 'дополнительный', ' ', 'образование', '\\n'],\n",
       " ['на', ' ', 'покупка', ' ', 'подержать', ' ', 'автомобиль', '\\n'],\n",
       " ['сделка', ' ', 'с', ' ', 'подержанный', ' ', 'автомобиль', '\\n'],\n",
       " ['строительство', ' ', 'жилой', ' ', 'недвижимость', '\\n'],\n",
       " ['получение', ' ', 'высокий', ' ', 'образование', '\\n'],\n",
       " ['на', ' ', 'покупка', ' ', 'свой', ' ', 'автомобиль', '\\n'],\n",
       " ['операция', ' ', 'с', ' ', 'недвижимость', '\\n'],\n",
       " ['свадьба', '\\n'],\n",
       " ['операция', ' ', 'с', ' ', 'коммерческий', ' ', 'недвижимость', '\\n'],\n",
       " ['ремонт', ' ', 'жилье', '\\n'],\n",
       " ['покупка', ' ', 'коммерческий', ' ', 'недвижимость', '\\n'],\n",
       " ['покупка', ' ', 'коммерческий', ' ', 'недвижимость', '\\n'],\n",
       " ['операция', ' ', 'с', ' ', 'недвижимость', '\\n'],\n",
       " ['операция', ' ', 'с', ' ', 'недвижимость', '\\n'],\n",
       " ['на', ' ', 'покупка', ' ', 'автомобиль', '\\n'],\n",
       " ['строительство', ' ', 'жилой', ' ', 'недвижимость', '\\n'],\n",
       " ['получение', ' ', 'образование', '\\n'],\n",
       " ['покупка', ' ', 'жилье', ' ', 'для', ' ', 'сдача', '\\n'],\n",
       " ['строительство', ' ', 'жилой', ' ', 'недвижимость', '\\n'],\n",
       " ['автомобиль', '\\n'],\n",
       " ['на', ' ', 'покупка', ' ', 'подержать', ' ', 'автомобиль', '\\n'],\n",
       " ['сыграть', ' ', 'свадьба', '\\n'],\n",
       " ['получение', ' ', 'образование', '\\n'],\n",
       " ['покупка', ' ', 'жилье', '\\n'],\n",
       " ['на', ' ', 'покупка', ' ', 'свой', ' ', 'автомобиль', '\\n'],\n",
       " ['свадьба', '\\n'],\n",
       " ['получение', ' ', 'образование', '\\n'],\n",
       " ['сыграть', ' ', 'свадьба', '\\n'],\n",
       " ['ремонт', ' ', 'жилье', '\\n'],\n",
       " ['автомобиль', '\\n'],\n",
       " ['строительство', ' ', 'жилой', ' ', 'недвижимость', '\\n'],\n",
       " ['на', ' ', 'проведение', ' ', 'свадьба', '\\n'],\n",
       " ['покупка', ' ', 'недвижимость', '\\n'],\n",
       " ['сделка', ' ', 'с', ' ', 'автомобиль', '\\n'],\n",
       " ['на', ' ', 'покупка', ' ', 'свой', ' ', 'автомобиль', '\\n'],\n",
       " ['покупка', ' ', 'свой', ' ', 'жилье', '\\n'],\n",
       " ['на', ' ', 'покупка', ' ', 'свой', ' ', 'автомобиль', '\\n'],\n",
       " ['заниматься', ' ', 'образование', '\\n'],\n",
       " ['операция', ' ', 'с', ' ', 'жилье', '\\n'],\n",
       " ['получение', ' ', 'дополнительный', ' ', 'образование', '\\n'],\n",
       " ['покупка', ' ', 'жилье', ' ', 'для', ' ', 'сдача', '\\n'],\n",
       " ['покупка', ' ', 'недвижимость', '\\n'],\n",
       " ['свадьба', '\\n'],\n",
       " ['на', ' ', 'покупка', ' ', 'свой', ' ', 'автомобиль', '\\n'],\n",
       " ['строительство', ' ', 'недвижимость', '\\n'],\n",
       " ['покупка', ' ', 'недвижимость', '\\n'],\n",
       " ['свадьба', '\\n'],\n",
       " ['заниматься', ' ', 'образование', '\\n'],\n",
       " ['покупка', ' ', 'коммерческий', ' ', 'недвижимость', '\\n'],\n",
       " ['на', ' ', 'покупка', ' ', 'автомобиль', '\\n'],\n",
       " ['сыграть', ' ', 'свадьба', '\\n'],\n",
       " ['образование', '\\n'],\n",
       " ['дополнительный', ' ', 'образование', '\\n'],\n",
       " ['строительство', ' ', 'недвижимость', '\\n'],\n",
       " ['операция', ' ', 'с', ' ', 'жилье', '\\n'],\n",
       " ['недвижимость', '\\n'],\n",
       " ['заниматься', ' ', 'образование', '\\n'],\n",
       " ['свадьба', '\\n'],\n",
       " ['получение', ' ', 'дополнительный', ' ', 'образование', '\\n'],\n",
       " ['сделка', ' ', 'с', ' ', 'подержанный', ' ', 'автомобиль', '\\n'],\n",
       " ['на', ' ', 'проведение', ' ', 'свадьба', '\\n'],\n",
       " ['сыграть', ' ', 'свадьба', '\\n'],\n",
       " ['покупка', ' ', 'жилье', '\\n'],\n",
       " ['покупка', ' ', 'жилье', ' ', 'для', ' ', 'семья', '\\n'],\n",
       " ['автомобиль', '\\n'],\n",
       " ['операция', ' ', 'с', ' ', 'коммерческий', ' ', 'недвижимость', '\\n'],\n",
       " ['приобретение', ' ', 'автомобиль', '\\n'],\n",
       " ['профильный', ' ', 'образование', '\\n'],\n",
       " ['высокий', ' ', 'образование', '\\n'],\n",
       " ['свадьба', '\\n'],\n",
       " ['автомобиль', '\\n'],\n",
       " ['строительство', ' ', 'собственный', ' ', 'недвижимость', '\\n'],\n",
       " ['на', ' ', 'покупка', ' ', 'свой', ' ', 'автомобиль', '\\n'],\n",
       " ['покупка', ' ', 'жилье', '\\n'],\n",
       " ['ремонт', ' ', 'жилье', '\\n'],\n",
       " ['приобретение', ' ', 'автомобиль', '\\n'],\n",
       " ['приобретение', ' ', 'автомобиль', '\\n'],\n",
       " ['жилье', '\\n'],\n",
       " ['покупка', ' ', 'коммерческий', ' ', 'недвижимость', '\\n'],\n",
       " ['образование', '\\n'],\n",
       " ['получение', ' ', 'высокий', ' ', 'образование', '\\n'],\n",
       " ['операция', ' ', 'со', ' ', 'свой', ' ', 'недвижимость', '\\n'],\n",
       " ['строительство', ' ', 'жилой', ' ', 'недвижимость', '\\n'],\n",
       " ['покупка', ' ', 'жилье', ' ', 'для', ' ', 'семья', '\\n'],\n",
       " ['покупка', ' ', 'недвижимость', '\\n'],\n",
       " ['автомобиль', '\\n'],\n",
       " ['операция', ' ', 'с', ' ', 'жилье', '\\n'],\n",
       " ['автомобиль', '\\n'],\n",
       " ['сделка', ' ', 'с', ' ', 'подержанный', ' ', 'автомобиль', '\\n'],\n",
       " ['покупка', ' ', 'жилье', ' ', 'для', ' ', 'сдача', '\\n'],\n",
       " ['строительство', ' ', 'недвижимость', '\\n'],\n",
       " ['сделка', ' ', 'с', ' ', 'автомобиль', '\\n'],\n",
       " ['приобретение', ' ', 'автомобиль', '\\n'],\n",
       " ['операция', ' ', 'с', ' ', 'жилье', '\\n'],\n",
       " ['высокий', ' ', 'образование', '\\n'],\n",
       " ['свой', ' ', 'автомобиль', '\\n'],\n",
       " ['заниматься', ' ', 'образование', '\\n'],\n",
       " ['на', ' ', 'проведение', ' ', 'свадьба', '\\n'],\n",
       " ['ремонт', ' ', 'жилье', '\\n'],\n",
       " ['покупка', ' ', 'недвижимость', '\\n'],\n",
       " ['получение', ' ', 'образование', '\\n'],\n",
       " ['жилье', '\\n'],\n",
       " ['на', ' ', 'покупка', ' ', 'автомобиль', '\\n'],\n",
       " ['покупка', ' ', 'недвижимость', '\\n'],\n",
       " ['ремонт', ' ', 'жилье', '\\n'],\n",
       " ['профильный', ' ', 'образование', '\\n'],\n",
       " ['профильный', ' ', 'образование', '\\n'],\n",
       " ['покупка', ' ', 'жилье', '\\n'],\n",
       " ['операция', ' ', 'с', ' ', 'жилье', '\\n'],\n",
       " ['получение', ' ', 'дополнительный', ' ', 'образование', '\\n'],\n",
       " ['на', ' ', 'проведение', ' ', 'свадьба', '\\n'],\n",
       " ['получение', ' ', 'образование', '\\n'],\n",
       " ['сделка', ' ', 'с', ' ', 'автомобиль', '\\n'],\n",
       " ['сыграть', ' ', 'свадьба', '\\n'],\n",
       " ['заниматься', ' ', 'образование', '\\n'],\n",
       " ['покупка', ' ', 'коммерческий', ' ', 'недвижимость', '\\n'],\n",
       " ['получение', ' ', 'высокий', ' ', 'образование', '\\n'],\n",
       " ['операция', ' ', 'с', ' ', 'недвижимость', '\\n'],\n",
       " ['получение', ' ', 'дополнительный', ' ', 'образование', '\\n'],\n",
       " ['покупка', ' ', 'жилье', ' ', 'для', ' ', 'сдача', '\\n'],\n",
       " ['ремонт', ' ', 'жилье', '\\n'],\n",
       " ['операция', ' ', 'со', ' ', 'свой', ' ', 'недвижимость', '\\n'],\n",
       " ['операция', ' ', 'с', ' ', 'недвижимость', '\\n'],\n",
       " ['покупка', ' ', 'жилье', ' ', 'для', ' ', 'семья', '\\n'],\n",
       " ['свой', ' ', 'автомобиль', '\\n'],\n",
       " ['ремонт', ' ', 'жилье', '\\n'],\n",
       " ['операция', ' ', 'с', ' ', 'жилье', '\\n'],\n",
       " ...]"
      ]
     },
     "metadata": {},
     "output_type": "display_data"
    }
   ],
   "source": [
    "display(purpose_list)"
   ]
  },
  {
   "cell_type": "markdown",
   "metadata": {},
   "source": [
    "Выглядит результат объемным и излишне наглядным, но так постарался показать сам процесс лемматизации - получиили список списков, каждый список - это строка, разобранная на леммы. В качестве более простого решения задачи лемматизация и категоризация данных предлагается следующее: \n",
    "* написать функцию, которая будет принимать столбец из датафрейма (в нашем случае - **purpose**)\n",
    "* далее проводим лемматизацию переданного в функцию столбца\n",
    "* затем проводим сравнение элементов: если есть лемма в этой строке, то возвращаем новую категорию\n",
    "\n",
    "Проведем реализацию в следующем разделе исследования."
   ]
  },
  {
   "cell_type": "markdown",
   "metadata": {},
   "source": [
    "**Вывод**: в качестве объекта для проведения лемматизации выбрали столбец **purpose**. Клиенты имеют разные цели кредита, а также разные формулировки своих целей. После разбора каждого запроса на леммы, можно перейти к разделу \"категоризация данных\"\""
   ]
  },
  {
   "cell_type": "markdown",
   "metadata": {},
   "source": [
    "### Категоризация данных <a id='cat'></a>\n",
    "[в начало](#begin)"
   ]
  },
  {
   "cell_type": "markdown",
   "metadata": {},
   "source": [
    "Прежде чем провести категоризацию данных, нужно ответить на следующие вопросы:\n",
    "* Зачем проводить категоризацию? \n",
    "\n",
    "Для того, чтобы проще работать с данными, которые мы хотим использовать в исследовании, при этом более наглядно визуализировать результаты.\n",
    "* Какими значениями заполнить категорию? \n",
    "\n",
    "Все зависит от того, что именно мы хотим категоризировать.\n",
    "* На какие данные опираться при реализации категоризации? \n",
    "\n",
    "Рассмотрим решение нашей задачи и по нашим исходным данным.\n",
    "\n",
    "У нас есть следующие столбцы, которые необходимо использовать в исследовательской части проекта: \n",
    "* **children**: используется в решении задачи: есть ли зависимость между **наличием детей** и возвратом кредита в срок? Нам не так важно количество детей, интересует только их наличие (есть/нет). Значения из этого столбца можно категоризировать.\n",
    "* **family_status**: используется в решении задачи: есть ли зависимость между **семейным положением** и возвратом кредита в срок? Эти данные уже есть в данном столбце, однако у нас есть столбец **family_status_id**, значения которого мы еще не связали с нашим столбцом, это нужно сделать, чтобы проще визуализировать свои результаты.\n",
    "* **total_income**: используется в решении задачи: есть ли зависимость между **уровнем дохода** и возвратом кредита в срок? В данном случае нужно провести категоризацию диапазонно: то есть, определить каждый элемент категории в виде диапазона значений (от и до)\n",
    "* **purpose**: используется в решении задачи: как **разные цели** кредита влияют на его возврат в срок? Здесь как раз нам и понадобится наша лемматизация. Дело в том, что благодаря тому, что мы привели каждое значение столбца к лемме, можно составить нужную категоризацию по целям, т.е. объединить схожие по смыслу формулировки в одну категорию.\n",
    "* **debt**: ключевой критерий, по которому проводят исследования в данном проекте. Для начала нужно определить: какие значения имеет этот столбец? Количество их упоминаний? И составить категоризацию по полученным данным."
   ]
  },
  {
   "cell_type": "markdown",
   "metadata": {},
   "source": [
    "Начнем с столбца **children**. Посчитаем уникальные значения и их упоминание:"
   ]
  },
  {
   "cell_type": "code",
   "execution_count": 58,
   "metadata": {},
   "outputs": [
    {
     "data": {
      "text/plain": [
       "0    14090\n",
       "1     4808\n",
       "2     2052\n",
       "3      330\n",
       "4       41\n",
       "5        9\n",
       "Name: children, dtype: int64"
      ]
     },
     "metadata": {},
     "output_type": "display_data"
    }
   ],
   "source": [
    "display(data['children'].value_counts())"
   ]
  },
  {
   "cell_type": "markdown",
   "metadata": {},
   "source": [
    "Здесь мы видим количество детей: от 1 до 5. Однако в исследовании необходимо учесть только лишь факт наличия детей. Поэтому мы проведем следующую категоризацию по наличию детей:\n",
    "* **нет детей** - количество детей равно нулю\n",
    "* **есть дети** - количество детей больше нуля\n",
    "\n",
    "Для формирования нового столбца для категоризации, составим новый столбец."
   ]
  },
  {
   "cell_type": "code",
   "execution_count": 59,
   "metadata": {
    "scrolled": true
   },
   "outputs": [
    {
     "data": {
      "text/html": [
       "<div>\n",
       "<style scoped>\n",
       "    .dataframe tbody tr th:only-of-type {\n",
       "        vertical-align: middle;\n",
       "    }\n",
       "\n",
       "    .dataframe tbody tr th {\n",
       "        vertical-align: top;\n",
       "    }\n",
       "\n",
       "    .dataframe thead th {\n",
       "        text-align: right;\n",
       "    }\n",
       "</style>\n",
       "<table border=\"1\" class=\"dataframe\">\n",
       "  <thead>\n",
       "    <tr style=\"text-align: right;\">\n",
       "      <th></th>\n",
       "      <th>children</th>\n",
       "      <th>dob_years</th>\n",
       "      <th>education</th>\n",
       "      <th>education_id</th>\n",
       "      <th>family_status</th>\n",
       "      <th>family_status_id</th>\n",
       "      <th>gender</th>\n",
       "      <th>income_type</th>\n",
       "      <th>debt</th>\n",
       "      <th>total_income</th>\n",
       "      <th>purpose</th>\n",
       "      <th>have_children</th>\n",
       "    </tr>\n",
       "  </thead>\n",
       "  <tbody>\n",
       "    <tr>\n",
       "      <td>0</td>\n",
       "      <td>1</td>\n",
       "      <td>42</td>\n",
       "      <td>высшее</td>\n",
       "      <td>0</td>\n",
       "      <td>женат / замужем</td>\n",
       "      <td>0</td>\n",
       "      <td>F</td>\n",
       "      <td>сотрудник</td>\n",
       "      <td>0</td>\n",
       "      <td>253875</td>\n",
       "      <td>покупка жилья</td>\n",
       "      <td>есть дети</td>\n",
       "    </tr>\n",
       "    <tr>\n",
       "      <td>1</td>\n",
       "      <td>1</td>\n",
       "      <td>36</td>\n",
       "      <td>среднее</td>\n",
       "      <td>1</td>\n",
       "      <td>женат / замужем</td>\n",
       "      <td>0</td>\n",
       "      <td>F</td>\n",
       "      <td>сотрудник</td>\n",
       "      <td>0</td>\n",
       "      <td>112080</td>\n",
       "      <td>приобретение автомобиля</td>\n",
       "      <td>есть дети</td>\n",
       "    </tr>\n",
       "    <tr>\n",
       "      <td>2</td>\n",
       "      <td>0</td>\n",
       "      <td>33</td>\n",
       "      <td>среднее</td>\n",
       "      <td>1</td>\n",
       "      <td>женат / замужем</td>\n",
       "      <td>0</td>\n",
       "      <td>M</td>\n",
       "      <td>сотрудник</td>\n",
       "      <td>0</td>\n",
       "      <td>145885</td>\n",
       "      <td>покупка жилья</td>\n",
       "      <td>нет детей</td>\n",
       "    </tr>\n",
       "    <tr>\n",
       "      <td>3</td>\n",
       "      <td>3</td>\n",
       "      <td>32</td>\n",
       "      <td>среднее</td>\n",
       "      <td>1</td>\n",
       "      <td>женат / замужем</td>\n",
       "      <td>0</td>\n",
       "      <td>M</td>\n",
       "      <td>сотрудник</td>\n",
       "      <td>0</td>\n",
       "      <td>267628</td>\n",
       "      <td>дополнительное образование</td>\n",
       "      <td>есть дети</td>\n",
       "    </tr>\n",
       "    <tr>\n",
       "      <td>4</td>\n",
       "      <td>0</td>\n",
       "      <td>53</td>\n",
       "      <td>среднее</td>\n",
       "      <td>1</td>\n",
       "      <td>гражданский брак</td>\n",
       "      <td>1</td>\n",
       "      <td>F</td>\n",
       "      <td>пенсионер</td>\n",
       "      <td>0</td>\n",
       "      <td>158616</td>\n",
       "      <td>сыграть свадьбу</td>\n",
       "      <td>нет детей</td>\n",
       "    </tr>\n",
       "  </tbody>\n",
       "</table>\n",
       "</div>"
      ],
      "text/plain": [
       "   children  dob_years education  education_id     family_status  \\\n",
       "0         1         42    высшее             0   женат / замужем   \n",
       "1         1         36   среднее             1   женат / замужем   \n",
       "2         0         33   среднее             1   женат / замужем   \n",
       "3         3         32   среднее             1   женат / замужем   \n",
       "4         0         53   среднее             1  гражданский брак   \n",
       "\n",
       "   family_status_id gender income_type  debt  total_income  \\\n",
       "0                 0      F   сотрудник     0        253875   \n",
       "1                 0      F   сотрудник     0        112080   \n",
       "2                 0      M   сотрудник     0        145885   \n",
       "3                 0      M   сотрудник     0        267628   \n",
       "4                 1      F   пенсионер     0        158616   \n",
       "\n",
       "                      purpose have_children  \n",
       "0               покупка жилья     есть дети  \n",
       "1     приобретение автомобиля     есть дети  \n",
       "2               покупка жилья     нет детей  \n",
       "3  дополнительное образование     есть дети  \n",
       "4             сыграть свадьбу     нет детей  "
      ]
     },
     "metadata": {},
     "output_type": "display_data"
    }
   ],
   "source": [
    "def have_children(children):\n",
    "    if children == 0:\n",
    "        return 'нет детей'\n",
    "    else:\n",
    "        return 'есть дети'\n",
    "# создаем новый столбец в таблице, и добавляем в него значения из функции have_children  \n",
    "data['have_children'] = data['children'].apply(have_children)\n",
    "# проверка выполненной функции:\n",
    "display(data.head())"
   ]
  },
  {
   "cell_type": "markdown",
   "metadata": {},
   "source": [
    "Категоризацию по наличию детей добавили, идем дальше."
   ]
  },
  {
   "cell_type": "markdown",
   "metadata": {},
   "source": [
    "Рассмотрим столбцы **family_status** и **family_status_id**. В данном случае, нам необходимо определить их взаимосвязь между собой. Для этого посомтрим количество упоминаний каждого из них. "
   ]
  },
  {
   "cell_type": "code",
   "execution_count": 60,
   "metadata": {},
   "outputs": [
    {
     "data": {
      "text/plain": [
       "женат / замужем          12261\n",
       "гражданский брак          4133\n",
       "Не женат / не замужем     2796\n",
       "в разводе                 1189\n",
       "вдовец / вдова             951\n",
       "Name: family_status, dtype: int64"
      ]
     },
     "metadata": {},
     "output_type": "display_data"
    }
   ],
   "source": [
    "display(data['family_status'].value_counts())"
   ]
  },
  {
   "cell_type": "code",
   "execution_count": 61,
   "metadata": {},
   "outputs": [
    {
     "data": {
      "text/plain": [
       "0    12261\n",
       "1     4133\n",
       "4     2796\n",
       "3     1189\n",
       "2      951\n",
       "Name: family_status_id, dtype: int64"
      ]
     },
     "metadata": {},
     "output_type": "display_data"
    }
   ],
   "source": [
    "display(data['family_status_id'].value_counts())"
   ]
  },
  {
   "cell_type": "markdown",
   "metadata": {},
   "source": [
    "Для проверки выведем количество строк, которые будут объединять оба условия."
   ]
  },
  {
   "cell_type": "code",
   "execution_count": 62,
   "metadata": {},
   "outputs": [
    {
     "name": "stdout",
     "output_type": "stream",
     "text": [
      "женат / замужем и 0 вместе: 12261\n",
      "гражданский брак и 1 вместе: 4133\n",
      "вдовец / вдова и 2 вместе: 951\n",
      "в разводе и 3 вместе: 1189\n",
      "Не женат / не замужем и 4 вместе: 2796\n"
     ]
    }
   ],
   "source": [
    "family_status_list = data['family_status'].unique()\n",
    "family_status_id_list = data['family_status_id'].unique()\n",
    "\n",
    "for elem in range(len(family_status_list)):\n",
    "    print(f'{family_status_list[elem]} и {family_status_id_list[elem]} вместе:', data[(data['family_status'] == family_status_list[elem]) & (data['family_status_id'] == family_status_id_list[elem])]['children'].count())"
   ]
  },
  {
   "cell_type": "markdown",
   "metadata": {},
   "source": [
    "Таким образом, можно сказать следующее: столбцы **family_status** и **family_status_id** связаны между собой по следующим значениям:\n",
    "* `0` - женат/замужем\n",
    "* `1` - гражданский брак\n",
    "* `2` - вдовец/вдова\n",
    "* `3` - в разводе\n",
    "* `4` - не женат/не замужем \n",
    "\n",
    "По этим двум значениям, зная их смысл можно теперь проводить исследование, идем дальше"
   ]
  },
  {
   "cell_type": "markdown",
   "metadata": {},
   "source": [
    "Теперь для категоризации возьмем столбец **total_income**. Для того, чтобы категоризировать по уровню дохода клиентов, воспользуемся [статьей](https://zen.yandex.ru/media/dogecrypto/kak-poschitat-k-kakomu-klassu-vy-otnosites-po-urovniu-dohoda-5b150b5aea0fe700a848e1b1) и категоризируем по указанным в статье доходы клиентов на следующие категории:\n",
    "* **беднейшие** - меньше 15 т.р.\n",
    "* **бедные** - от 15 до 18 т.р\n",
    "* **выше бедности** - от 18 до 36 т.р.\n",
    "* **нижний средний класс** - от 36 до 100 т.р\n",
    "* **предсредний класс** - от 100 до 150 т.р.\n",
    "* **средний класс** - от 150 до 250 т.р.\n",
    "* **верхний средний класс** - от 250 до 500 т.р.\n",
    "* **состоятельные** - от 500 т.р до 1 млн.р.\n",
    "* **богатые** - от 1 млн. р. и выше"
   ]
  },
  {
   "cell_type": "code",
   "execution_count": 63,
   "metadata": {
    "scrolled": true
   },
   "outputs": [
    {
     "data": {
      "text/html": [
       "<div>\n",
       "<style scoped>\n",
       "    .dataframe tbody tr th:only-of-type {\n",
       "        vertical-align: middle;\n",
       "    }\n",
       "\n",
       "    .dataframe tbody tr th {\n",
       "        vertical-align: top;\n",
       "    }\n",
       "\n",
       "    .dataframe thead th {\n",
       "        text-align: right;\n",
       "    }\n",
       "</style>\n",
       "<table border=\"1\" class=\"dataframe\">\n",
       "  <thead>\n",
       "    <tr style=\"text-align: right;\">\n",
       "      <th></th>\n",
       "      <th>children</th>\n",
       "      <th>dob_years</th>\n",
       "      <th>education</th>\n",
       "      <th>education_id</th>\n",
       "      <th>family_status</th>\n",
       "      <th>family_status_id</th>\n",
       "      <th>gender</th>\n",
       "      <th>income_type</th>\n",
       "      <th>debt</th>\n",
       "      <th>total_income</th>\n",
       "      <th>purpose</th>\n",
       "      <th>have_children</th>\n",
       "      <th>total_income_category</th>\n",
       "    </tr>\n",
       "  </thead>\n",
       "  <tbody>\n",
       "    <tr>\n",
       "      <td>0</td>\n",
       "      <td>1</td>\n",
       "      <td>42</td>\n",
       "      <td>высшее</td>\n",
       "      <td>0</td>\n",
       "      <td>женат / замужем</td>\n",
       "      <td>0</td>\n",
       "      <td>F</td>\n",
       "      <td>сотрудник</td>\n",
       "      <td>0</td>\n",
       "      <td>253875</td>\n",
       "      <td>покупка жилья</td>\n",
       "      <td>есть дети</td>\n",
       "      <td>верхний средний класс</td>\n",
       "    </tr>\n",
       "    <tr>\n",
       "      <td>1</td>\n",
       "      <td>1</td>\n",
       "      <td>36</td>\n",
       "      <td>среднее</td>\n",
       "      <td>1</td>\n",
       "      <td>женат / замужем</td>\n",
       "      <td>0</td>\n",
       "      <td>F</td>\n",
       "      <td>сотрудник</td>\n",
       "      <td>0</td>\n",
       "      <td>112080</td>\n",
       "      <td>приобретение автомобиля</td>\n",
       "      <td>есть дети</td>\n",
       "      <td>предсредний класс</td>\n",
       "    </tr>\n",
       "    <tr>\n",
       "      <td>2</td>\n",
       "      <td>0</td>\n",
       "      <td>33</td>\n",
       "      <td>среднее</td>\n",
       "      <td>1</td>\n",
       "      <td>женат / замужем</td>\n",
       "      <td>0</td>\n",
       "      <td>M</td>\n",
       "      <td>сотрудник</td>\n",
       "      <td>0</td>\n",
       "      <td>145885</td>\n",
       "      <td>покупка жилья</td>\n",
       "      <td>нет детей</td>\n",
       "      <td>предсредний класс</td>\n",
       "    </tr>\n",
       "    <tr>\n",
       "      <td>3</td>\n",
       "      <td>3</td>\n",
       "      <td>32</td>\n",
       "      <td>среднее</td>\n",
       "      <td>1</td>\n",
       "      <td>женат / замужем</td>\n",
       "      <td>0</td>\n",
       "      <td>M</td>\n",
       "      <td>сотрудник</td>\n",
       "      <td>0</td>\n",
       "      <td>267628</td>\n",
       "      <td>дополнительное образование</td>\n",
       "      <td>есть дети</td>\n",
       "      <td>верхний средний класс</td>\n",
       "    </tr>\n",
       "    <tr>\n",
       "      <td>4</td>\n",
       "      <td>0</td>\n",
       "      <td>53</td>\n",
       "      <td>среднее</td>\n",
       "      <td>1</td>\n",
       "      <td>гражданский брак</td>\n",
       "      <td>1</td>\n",
       "      <td>F</td>\n",
       "      <td>пенсионер</td>\n",
       "      <td>0</td>\n",
       "      <td>158616</td>\n",
       "      <td>сыграть свадьбу</td>\n",
       "      <td>нет детей</td>\n",
       "      <td>средний класс</td>\n",
       "    </tr>\n",
       "  </tbody>\n",
       "</table>\n",
       "</div>"
      ],
      "text/plain": [
       "   children  dob_years education  education_id     family_status  \\\n",
       "0         1         42    высшее             0   женат / замужем   \n",
       "1         1         36   среднее             1   женат / замужем   \n",
       "2         0         33   среднее             1   женат / замужем   \n",
       "3         3         32   среднее             1   женат / замужем   \n",
       "4         0         53   среднее             1  гражданский брак   \n",
       "\n",
       "   family_status_id gender income_type  debt  total_income  \\\n",
       "0                 0      F   сотрудник     0        253875   \n",
       "1                 0      F   сотрудник     0        112080   \n",
       "2                 0      M   сотрудник     0        145885   \n",
       "3                 0      M   сотрудник     0        267628   \n",
       "4                 1      F   пенсионер     0        158616   \n",
       "\n",
       "                      purpose have_children  total_income_category  \n",
       "0               покупка жилья     есть дети  верхний средний класс  \n",
       "1     приобретение автомобиля     есть дети      предсредний класс  \n",
       "2               покупка жилья     нет детей      предсредний класс  \n",
       "3  дополнительное образование     есть дети  верхний средний класс  \n",
       "4             сыграть свадьбу     нет детей          средний класс  "
      ]
     },
     "metadata": {},
     "output_type": "display_data"
    }
   ],
   "source": [
    "# функция на вход принимает значения из столбца total_income и сравнивает их\n",
    "def take_total_income_category(total_income):\n",
    "    if total_income <= 15000:\n",
    "        return 'беднейшие'\n",
    "    elif total_income in range(15001, 18001):\n",
    "        return 'бедные'\n",
    "    elif total_income in range(18001, 36001):\n",
    "        return 'выше бедности'\n",
    "    elif total_income in range(36001, 100001):\n",
    "        return 'нижний средний класс'\n",
    "    elif total_income in range(100001, 150001):\n",
    "        return 'предсредний класс'\n",
    "    elif total_income in range(150001, 250001):\n",
    "        return 'средний класс'\n",
    "    elif total_income in range(250001, 500001):\n",
    "        return 'верхний средний класс'\n",
    "    elif total_income in range(500001, 1000001):\n",
    "        return 'состоятельные'\n",
    "    else:\n",
    "        return 'богатые'\n",
    "# заполняем новый столбец с помощью метода apply\n",
    "data['total_income_category'] = data['total_income'].apply(take_total_income_category) \n",
    "# проверка на вывод \n",
    "display(data.head())"
   ]
  },
  {
   "cell_type": "markdown",
   "metadata": {},
   "source": [
    "Столбец с категориями заполнен, можно идти дальше. "
   ]
  },
  {
   "cell_type": "markdown",
   "metadata": {},
   "source": [
    "Теперь рассмотрим столбец **purpose** как было описано в [лемматизации](#lem). Люди формируют одинаковые цели кредита, но по-разному. Для этого предлагается сделать функцию, которая сделает лемматизацию каждого значения, а затем вернет категорию как результат нахождения леммы в лемматизированной цели каждого клиента."
   ]
  },
  {
   "cell_type": "code",
   "execution_count": 64,
   "metadata": {
    "scrolled": false
   },
   "outputs": [
    {
     "data": {
      "text/html": [
       "<div>\n",
       "<style scoped>\n",
       "    .dataframe tbody tr th:only-of-type {\n",
       "        vertical-align: middle;\n",
       "    }\n",
       "\n",
       "    .dataframe tbody tr th {\n",
       "        vertical-align: top;\n",
       "    }\n",
       "\n",
       "    .dataframe thead th {\n",
       "        text-align: right;\n",
       "    }\n",
       "</style>\n",
       "<table border=\"1\" class=\"dataframe\">\n",
       "  <thead>\n",
       "    <tr style=\"text-align: right;\">\n",
       "      <th></th>\n",
       "      <th>children</th>\n",
       "      <th>dob_years</th>\n",
       "      <th>education</th>\n",
       "      <th>education_id</th>\n",
       "      <th>family_status</th>\n",
       "      <th>family_status_id</th>\n",
       "      <th>gender</th>\n",
       "      <th>income_type</th>\n",
       "      <th>debt</th>\n",
       "      <th>total_income</th>\n",
       "      <th>purpose</th>\n",
       "      <th>have_children</th>\n",
       "      <th>total_income_category</th>\n",
       "      <th>purpose_category</th>\n",
       "    </tr>\n",
       "  </thead>\n",
       "  <tbody>\n",
       "    <tr>\n",
       "      <td>0</td>\n",
       "      <td>1</td>\n",
       "      <td>42</td>\n",
       "      <td>высшее</td>\n",
       "      <td>0</td>\n",
       "      <td>женат / замужем</td>\n",
       "      <td>0</td>\n",
       "      <td>F</td>\n",
       "      <td>сотрудник</td>\n",
       "      <td>0</td>\n",
       "      <td>253875</td>\n",
       "      <td>покупка жилья</td>\n",
       "      <td>есть дети</td>\n",
       "      <td>верхний средний класс</td>\n",
       "      <td>недвижимость</td>\n",
       "    </tr>\n",
       "    <tr>\n",
       "      <td>1</td>\n",
       "      <td>1</td>\n",
       "      <td>36</td>\n",
       "      <td>среднее</td>\n",
       "      <td>1</td>\n",
       "      <td>женат / замужем</td>\n",
       "      <td>0</td>\n",
       "      <td>F</td>\n",
       "      <td>сотрудник</td>\n",
       "      <td>0</td>\n",
       "      <td>112080</td>\n",
       "      <td>приобретение автомобиля</td>\n",
       "      <td>есть дети</td>\n",
       "      <td>предсредний класс</td>\n",
       "      <td>автомобиль</td>\n",
       "    </tr>\n",
       "    <tr>\n",
       "      <td>2</td>\n",
       "      <td>0</td>\n",
       "      <td>33</td>\n",
       "      <td>среднее</td>\n",
       "      <td>1</td>\n",
       "      <td>женат / замужем</td>\n",
       "      <td>0</td>\n",
       "      <td>M</td>\n",
       "      <td>сотрудник</td>\n",
       "      <td>0</td>\n",
       "      <td>145885</td>\n",
       "      <td>покупка жилья</td>\n",
       "      <td>нет детей</td>\n",
       "      <td>предсредний класс</td>\n",
       "      <td>недвижимость</td>\n",
       "    </tr>\n",
       "    <tr>\n",
       "      <td>3</td>\n",
       "      <td>3</td>\n",
       "      <td>32</td>\n",
       "      <td>среднее</td>\n",
       "      <td>1</td>\n",
       "      <td>женат / замужем</td>\n",
       "      <td>0</td>\n",
       "      <td>M</td>\n",
       "      <td>сотрудник</td>\n",
       "      <td>0</td>\n",
       "      <td>267628</td>\n",
       "      <td>дополнительное образование</td>\n",
       "      <td>есть дети</td>\n",
       "      <td>верхний средний класс</td>\n",
       "      <td>образование</td>\n",
       "    </tr>\n",
       "    <tr>\n",
       "      <td>4</td>\n",
       "      <td>0</td>\n",
       "      <td>53</td>\n",
       "      <td>среднее</td>\n",
       "      <td>1</td>\n",
       "      <td>гражданский брак</td>\n",
       "      <td>1</td>\n",
       "      <td>F</td>\n",
       "      <td>пенсионер</td>\n",
       "      <td>0</td>\n",
       "      <td>158616</td>\n",
       "      <td>сыграть свадьбу</td>\n",
       "      <td>нет детей</td>\n",
       "      <td>средний класс</td>\n",
       "      <td>свадьба</td>\n",
       "    </tr>\n",
       "  </tbody>\n",
       "</table>\n",
       "</div>"
      ],
      "text/plain": [
       "   children  dob_years education  education_id     family_status  \\\n",
       "0         1         42    высшее             0   женат / замужем   \n",
       "1         1         36   среднее             1   женат / замужем   \n",
       "2         0         33   среднее             1   женат / замужем   \n",
       "3         3         32   среднее             1   женат / замужем   \n",
       "4         0         53   среднее             1  гражданский брак   \n",
       "\n",
       "   family_status_id gender income_type  debt  total_income  \\\n",
       "0                 0      F   сотрудник     0        253875   \n",
       "1                 0      F   сотрудник     0        112080   \n",
       "2                 0      M   сотрудник     0        145885   \n",
       "3                 0      M   сотрудник     0        267628   \n",
       "4                 1      F   пенсионер     0        158616   \n",
       "\n",
       "                      purpose have_children  total_income_category  \\\n",
       "0               покупка жилья     есть дети  верхний средний класс   \n",
       "1     приобретение автомобиля     есть дети      предсредний класс   \n",
       "2               покупка жилья     нет детей      предсредний класс   \n",
       "3  дополнительное образование     есть дети  верхний средний класс   \n",
       "4             сыграть свадьбу     нет детей          средний класс   \n",
       "\n",
       "  purpose_category  \n",
       "0     недвижимость  \n",
       "1       автомобиль  \n",
       "2     недвижимость  \n",
       "3      образование  \n",
       "4          свадьба  "
      ]
     },
     "execution_count": 64,
     "metadata": {},
     "output_type": "execute_result"
    }
   ],
   "source": [
    "def purpose_category(row):\n",
    "# лемматизирую каждую строку столбца purpose\n",
    "    lemma_purpose = m.lemmatize(row['purpose'])\n",
    "    # проверка слова в лемме и в случае наличия слова - возвращаем категорию\n",
    "    if 'автомобиль' in lemma_purpose:\n",
    "        return 'автомобиль'\n",
    "    elif ('жилье' in lemma_purpose) or ('недвижимость' in lemma_purpose):\n",
    "        return 'недвижимость'\n",
    "    elif 'свадьба' in lemma_purpose:\n",
    "        return 'свадьба'\n",
    "    elif 'образование' in lemma_purpose:\n",
    "        return 'образование'\n",
    "    elif 'ремонт' and 'жилье' in lemma_purpose:\n",
    "        return 'ремонт'\n",
    "    else:\n",
    "        return 'другое'\n",
    "# применяем к ДФ функцию, чтобы получить новый столбец с категориями\n",
    "# axis = 1 - передаем строки\n",
    "data['purpose_category'] = data.apply(purpose_category, axis = 1)\n",
    "\n",
    "data.head()"
   ]
  },
  {
   "cell_type": "markdown",
   "metadata": {},
   "source": [
    "Столбец с категорией по целям добавлен, идем дальше."
   ]
  },
  {
   "cell_type": "markdown",
   "metadata": {},
   "source": [
    "Теперь рассмотрим столбец **debt**. Определим уникальные значения и их количество."
   ]
  },
  {
   "cell_type": "code",
   "execution_count": 65,
   "metadata": {},
   "outputs": [
    {
     "data": {
      "text/plain": [
       "0    19598\n",
       "1     1732\n",
       "Name: debt, dtype: int64"
      ]
     },
     "metadata": {},
     "output_type": "display_data"
    }
   ],
   "source": [
    "display(data['debt'].value_counts())"
   ]
  },
  {
   "cell_type": "markdown",
   "metadata": {},
   "source": [
    "Выведем сгруппированное количество строк по категории ежемесячного дохода, когда значение **debt** равно 1:"
   ]
  },
  {
   "cell_type": "code",
   "execution_count": 66,
   "metadata": {},
   "outputs": [
    {
     "data": {
      "text/plain": [
       "total_income_category\n",
       "предсредний класс        656\n",
       "средний класс            528\n",
       "нижний средний класс     350\n",
       "верхний средний класс    180\n",
       "состоятельные             12\n",
       "выше бедности              4\n",
       "богатые                    2\n",
       "Name: debt, dtype: int64"
      ]
     },
     "execution_count": 66,
     "metadata": {},
     "output_type": "execute_result"
    }
   ],
   "source": [
    "data[data['debt'] == 1].groupby('total_income_category')['debt'].count().sort_values(ascending = False)"
   ]
  },
  {
   "cell_type": "markdown",
   "metadata": {},
   "source": [
    "Теперь когда **debt** равен 0:"
   ]
  },
  {
   "cell_type": "code",
   "execution_count": 67,
   "metadata": {},
   "outputs": [
    {
     "data": {
      "text/plain": [
       "total_income_category\n",
       "предсредний класс        7096\n",
       "средний класс            5810\n",
       "нижний средний класс     4019\n",
       "верхний средний класс    2394\n",
       "состоятельные             185\n",
       "выше бедности              71\n",
       "богатые                    23\n",
       "Name: debt, dtype: int64"
      ]
     },
     "execution_count": 67,
     "metadata": {},
     "output_type": "execute_result"
    }
   ],
   "source": [
    "data[data['debt'] == 0].groupby('total_income_category')['debt'].count().sort_values(ascending = False)"
   ]
  },
  {
   "cell_type": "markdown",
   "metadata": {},
   "source": [
    "Из нашей сформулированной категории ежемесячного дохода, количество богатых (доход выше 1 млн. р.) составляет всего два человека при значении 1. В то время, как среди богатых при значении 0 составляет 23 человека. Более того, количество клиентов, у которых значение столбца 0 больше приблизительно в 10 раз по сравнению со значению 1.\n",
    "Отсюда сформулируется следующее обозначение столбца **debt**:\n",
    "* `0` - не имел задолженность\n",
    "* `1` - имел задолженность\n",
    "\n",
    "Теперь создадим новый столбец с категорией наличия задолженности через метод apply, создав заранее функцию, которая будет возвращать категориальную переменную в зависимости от значения **debt**."
   ]
  },
  {
   "cell_type": "code",
   "execution_count": 68,
   "metadata": {},
   "outputs": [
    {
     "data": {
      "text/html": [
       "<div>\n",
       "<style scoped>\n",
       "    .dataframe tbody tr th:only-of-type {\n",
       "        vertical-align: middle;\n",
       "    }\n",
       "\n",
       "    .dataframe tbody tr th {\n",
       "        vertical-align: top;\n",
       "    }\n",
       "\n",
       "    .dataframe thead th {\n",
       "        text-align: right;\n",
       "    }\n",
       "</style>\n",
       "<table border=\"1\" class=\"dataframe\">\n",
       "  <thead>\n",
       "    <tr style=\"text-align: right;\">\n",
       "      <th></th>\n",
       "      <th>children</th>\n",
       "      <th>dob_years</th>\n",
       "      <th>education</th>\n",
       "      <th>education_id</th>\n",
       "      <th>family_status</th>\n",
       "      <th>family_status_id</th>\n",
       "      <th>gender</th>\n",
       "      <th>income_type</th>\n",
       "      <th>debt</th>\n",
       "      <th>total_income</th>\n",
       "      <th>purpose</th>\n",
       "      <th>have_children</th>\n",
       "      <th>total_income_category</th>\n",
       "      <th>purpose_category</th>\n",
       "      <th>debt_category</th>\n",
       "    </tr>\n",
       "  </thead>\n",
       "  <tbody>\n",
       "    <tr>\n",
       "      <td>0</td>\n",
       "      <td>1</td>\n",
       "      <td>42</td>\n",
       "      <td>высшее</td>\n",
       "      <td>0</td>\n",
       "      <td>женат / замужем</td>\n",
       "      <td>0</td>\n",
       "      <td>F</td>\n",
       "      <td>сотрудник</td>\n",
       "      <td>0</td>\n",
       "      <td>253875</td>\n",
       "      <td>покупка жилья</td>\n",
       "      <td>есть дети</td>\n",
       "      <td>верхний средний класс</td>\n",
       "      <td>недвижимость</td>\n",
       "      <td>не имел задолженность</td>\n",
       "    </tr>\n",
       "    <tr>\n",
       "      <td>1</td>\n",
       "      <td>1</td>\n",
       "      <td>36</td>\n",
       "      <td>среднее</td>\n",
       "      <td>1</td>\n",
       "      <td>женат / замужем</td>\n",
       "      <td>0</td>\n",
       "      <td>F</td>\n",
       "      <td>сотрудник</td>\n",
       "      <td>0</td>\n",
       "      <td>112080</td>\n",
       "      <td>приобретение автомобиля</td>\n",
       "      <td>есть дети</td>\n",
       "      <td>предсредний класс</td>\n",
       "      <td>автомобиль</td>\n",
       "      <td>не имел задолженность</td>\n",
       "    </tr>\n",
       "    <tr>\n",
       "      <td>2</td>\n",
       "      <td>0</td>\n",
       "      <td>33</td>\n",
       "      <td>среднее</td>\n",
       "      <td>1</td>\n",
       "      <td>женат / замужем</td>\n",
       "      <td>0</td>\n",
       "      <td>M</td>\n",
       "      <td>сотрудник</td>\n",
       "      <td>0</td>\n",
       "      <td>145885</td>\n",
       "      <td>покупка жилья</td>\n",
       "      <td>нет детей</td>\n",
       "      <td>предсредний класс</td>\n",
       "      <td>недвижимость</td>\n",
       "      <td>не имел задолженность</td>\n",
       "    </tr>\n",
       "    <tr>\n",
       "      <td>3</td>\n",
       "      <td>3</td>\n",
       "      <td>32</td>\n",
       "      <td>среднее</td>\n",
       "      <td>1</td>\n",
       "      <td>женат / замужем</td>\n",
       "      <td>0</td>\n",
       "      <td>M</td>\n",
       "      <td>сотрудник</td>\n",
       "      <td>0</td>\n",
       "      <td>267628</td>\n",
       "      <td>дополнительное образование</td>\n",
       "      <td>есть дети</td>\n",
       "      <td>верхний средний класс</td>\n",
       "      <td>образование</td>\n",
       "      <td>не имел задолженность</td>\n",
       "    </tr>\n",
       "    <tr>\n",
       "      <td>4</td>\n",
       "      <td>0</td>\n",
       "      <td>53</td>\n",
       "      <td>среднее</td>\n",
       "      <td>1</td>\n",
       "      <td>гражданский брак</td>\n",
       "      <td>1</td>\n",
       "      <td>F</td>\n",
       "      <td>пенсионер</td>\n",
       "      <td>0</td>\n",
       "      <td>158616</td>\n",
       "      <td>сыграть свадьбу</td>\n",
       "      <td>нет детей</td>\n",
       "      <td>средний класс</td>\n",
       "      <td>свадьба</td>\n",
       "      <td>не имел задолженность</td>\n",
       "    </tr>\n",
       "  </tbody>\n",
       "</table>\n",
       "</div>"
      ],
      "text/plain": [
       "   children  dob_years education  education_id     family_status  \\\n",
       "0         1         42    высшее             0   женат / замужем   \n",
       "1         1         36   среднее             1   женат / замужем   \n",
       "2         0         33   среднее             1   женат / замужем   \n",
       "3         3         32   среднее             1   женат / замужем   \n",
       "4         0         53   среднее             1  гражданский брак   \n",
       "\n",
       "   family_status_id gender income_type  debt  total_income  \\\n",
       "0                 0      F   сотрудник     0        253875   \n",
       "1                 0      F   сотрудник     0        112080   \n",
       "2                 0      M   сотрудник     0        145885   \n",
       "3                 0      M   сотрудник     0        267628   \n",
       "4                 1      F   пенсионер     0        158616   \n",
       "\n",
       "                      purpose have_children  total_income_category  \\\n",
       "0               покупка жилья     есть дети  верхний средний класс   \n",
       "1     приобретение автомобиля     есть дети      предсредний класс   \n",
       "2               покупка жилья     нет детей      предсредний класс   \n",
       "3  дополнительное образование     есть дети  верхний средний класс   \n",
       "4             сыграть свадьбу     нет детей          средний класс   \n",
       "\n",
       "  purpose_category          debt_category  \n",
       "0     недвижимость  не имел задолженность  \n",
       "1       автомобиль  не имел задолженность  \n",
       "2     недвижимость  не имел задолженность  \n",
       "3      образование  не имел задолженность  \n",
       "4          свадьба  не имел задолженность  "
      ]
     },
     "execution_count": 68,
     "metadata": {},
     "output_type": "execute_result"
    }
   ],
   "source": [
    "def debt_category(debt):\n",
    "    if debt == 0:\n",
    "        return 'не имел задолженность'\n",
    "    else:\n",
    "        return 'имел задолженность'\n",
    "data['debt_category'] = data['debt'].apply(debt_category)\n",
    "data.head()"
   ]
  },
  {
   "cell_type": "markdown",
   "metadata": {},
   "source": [
    "**Вывод**: в данном разделе определили на какие категории будем разделять наши полученные значения и добавили их в основную таблицу."
   ]
  },
  {
   "cell_type": "markdown",
   "metadata": {},
   "source": [
    "## Ответы на вопросы <a id='qs'></a>\n",
    "[в начало](#begin)"
   ]
  },
  {
   "cell_type": "markdown",
   "metadata": {},
   "source": [
    "- Есть ли зависимость между наличием детей и возвратом кредита в срок? <a id='q1'></a>\n",
    "[в начало](#begin)\n",
    "\n",
    "Для того, чтобы определить зависимость между наличием детей и возвратом кредита в срок необходимо составить сводную таблицу из наших сформированных категориальных переменных.\n",
    "\n",
    "В качестве строк, по которым будем группировать наши значения возьмем столбец с категорией **debt_category**. Столбец, по значениям которого будет производиться группировка будет столбец **have_children**, в качестве значений будем брать столбец **debt**."
   ]
  },
  {
   "cell_type": "code",
   "execution_count": 69,
   "metadata": {},
   "outputs": [
    {
     "data": {
      "text/html": [
       "<div>\n",
       "<style scoped>\n",
       "    .dataframe tbody tr th:only-of-type {\n",
       "        vertical-align: middle;\n",
       "    }\n",
       "\n",
       "    .dataframe tbody tr th {\n",
       "        vertical-align: top;\n",
       "    }\n",
       "\n",
       "    .dataframe thead th {\n",
       "        text-align: right;\n",
       "    }\n",
       "</style>\n",
       "<table border=\"1\" class=\"dataframe\">\n",
       "  <thead>\n",
       "    <tr style=\"text-align: right;\">\n",
       "      <th>have_children</th>\n",
       "      <th>есть дети</th>\n",
       "      <th>нет детей</th>\n",
       "    </tr>\n",
       "    <tr>\n",
       "      <th>debt_category</th>\n",
       "      <th></th>\n",
       "      <th></th>\n",
       "    </tr>\n",
       "  </thead>\n",
       "  <tbody>\n",
       "    <tr>\n",
       "      <td>имел задолженность</td>\n",
       "      <td>669</td>\n",
       "      <td>1063</td>\n",
       "    </tr>\n",
       "    <tr>\n",
       "      <td>не имел задолженность</td>\n",
       "      <td>6571</td>\n",
       "      <td>13027</td>\n",
       "    </tr>\n",
       "  </tbody>\n",
       "</table>\n",
       "</div>"
      ],
      "text/plain": [
       "have_children          есть дети  нет детей\n",
       "debt_category                              \n",
       "имел задолженность           669       1063\n",
       "не имел задолженность       6571      13027"
      ]
     },
     "metadata": {},
     "output_type": "display_data"
    }
   ],
   "source": [
    "data_children_debt = data.pivot_table(index = 'debt_category', columns = 'have_children', values = 'debt', aggfunc = 'count')\n",
    "display(data_children_debt)"
   ]
  },
  {
   "cell_type": "markdown",
   "metadata": {},
   "source": [
    "Посчитаем долю должников, у которых есть дети. "
   ]
  },
  {
   "cell_type": "code",
   "execution_count": 70,
   "metadata": {},
   "outputs": [
    {
     "name": "stdout",
     "output_type": "stream",
     "text": [
      "Доля должников с детьми: 9.24\n",
      "Доля людей без долгов с детьми: 90.76\n"
     ]
    }
   ],
   "source": [
    "debt_1_children_yes = round(data_children_debt['есть дети'][0] / (data_children_debt['есть дети'][0] + data_children_debt['есть дети'][1])*100,2)\n",
    "print('Доля должников с детьми:', debt_1_children_yes)\n",
    "debt_0_children_yes = round(data_children_debt['есть дети'][1] / (data_children_debt['есть дети'][0] + data_children_debt['есть дети'][1])*100,2)\n",
    "print('Доля людей без долгов с детьми:', debt_0_children_yes)"
   ]
  },
  {
   "cell_type": "markdown",
   "metadata": {},
   "source": [
    "Теперь посчитаем долю должников, у которых нет детей."
   ]
  },
  {
   "cell_type": "code",
   "execution_count": 71,
   "metadata": {},
   "outputs": [
    {
     "name": "stdout",
     "output_type": "stream",
     "text": [
      "Доля должников без детей: 7.54\n",
      "Доля людей без долгов и без детей: 92.46\n"
     ]
    }
   ],
   "source": [
    "debt_1_children_no = round(data_children_debt['нет детей'][0] / (data_children_debt['нет детей'][0] + data_children_debt['нет детей'][1])*100,2)\n",
    "print('Доля должников без детей:', debt_1_children_no)\n",
    "debt_0_children_no = round(data_children_debt['нет детей'][1] / (data_children_debt['нет детей'][0] + data_children_debt['нет детей'][1])*100,2)\n",
    "print('Доля людей без долгов и без детей:', debt_0_children_no)"
   ]
  },
  {
   "cell_type": "markdown",
   "metadata": {},
   "source": [
    "**Вывод**\n",
    "На основе сводной таблицы и расчетов можно сказать:\n",
    "\n",
    "* Клиенты с детьми реже берут кредиты\n",
    "* Клиенты с детьми чаще не имеют задолженности среди должников"
   ]
  },
  {
   "cell_type": "markdown",
   "metadata": {},
   "source": [
    "- Есть ли зависимость между семейным положением и возвратом кредита в срок? <a id='q2'></a>\n",
    "[в начало](#begin)"
   ]
  },
  {
   "cell_type": "markdown",
   "metadata": {},
   "source": [
    "Для того, чтобы определить зависимость между семейным статусом и возвратом кредита в срок необходимо составить сводную таблицу из наших сформированных категориальных переменных."
   ]
  },
  {
   "cell_type": "code",
   "execution_count": 72,
   "metadata": {},
   "outputs": [
    {
     "data": {
      "text/html": [
       "<div>\n",
       "<style scoped>\n",
       "    .dataframe tbody tr th:only-of-type {\n",
       "        vertical-align: middle;\n",
       "    }\n",
       "\n",
       "    .dataframe tbody tr th {\n",
       "        vertical-align: top;\n",
       "    }\n",
       "\n",
       "    .dataframe thead th {\n",
       "        text-align: right;\n",
       "    }\n",
       "</style>\n",
       "<table border=\"1\" class=\"dataframe\">\n",
       "  <thead>\n",
       "    <tr style=\"text-align: right;\">\n",
       "      <th></th>\n",
       "      <th>debt_category</th>\n",
       "      <th>имел задолженность</th>\n",
       "      <th>не имел задолженность</th>\n",
       "    </tr>\n",
       "    <tr>\n",
       "      <th>family_status_id</th>\n",
       "      <th>family_status</th>\n",
       "      <th></th>\n",
       "      <th></th>\n",
       "    </tr>\n",
       "  </thead>\n",
       "  <tbody>\n",
       "    <tr>\n",
       "      <td>0</td>\n",
       "      <td>женат / замужем</td>\n",
       "      <td>927</td>\n",
       "      <td>11334</td>\n",
       "    </tr>\n",
       "    <tr>\n",
       "      <td>1</td>\n",
       "      <td>гражданский брак</td>\n",
       "      <td>385</td>\n",
       "      <td>3748</td>\n",
       "    </tr>\n",
       "    <tr>\n",
       "      <td>2</td>\n",
       "      <td>вдовец / вдова</td>\n",
       "      <td>63</td>\n",
       "      <td>888</td>\n",
       "    </tr>\n",
       "    <tr>\n",
       "      <td>3</td>\n",
       "      <td>в разводе</td>\n",
       "      <td>84</td>\n",
       "      <td>1105</td>\n",
       "    </tr>\n",
       "    <tr>\n",
       "      <td>4</td>\n",
       "      <td>Не женат / не замужем</td>\n",
       "      <td>273</td>\n",
       "      <td>2523</td>\n",
       "    </tr>\n",
       "  </tbody>\n",
       "</table>\n",
       "</div>"
      ],
      "text/plain": [
       "debt_category                           имел задолженность  \\\n",
       "family_status_id family_status                               \n",
       "0                женат / замужем                       927   \n",
       "1                гражданский брак                      385   \n",
       "2                вдовец / вдова                         63   \n",
       "3                в разводе                              84   \n",
       "4                Не женат / не замужем                 273   \n",
       "\n",
       "debt_category                           не имел задолженность  \n",
       "family_status_id family_status                                 \n",
       "0                женат / замужем                        11334  \n",
       "1                гражданский брак                        3748  \n",
       "2                вдовец / вдова                           888  \n",
       "3                в разводе                               1105  \n",
       "4                Не женат / не замужем                   2523  "
      ]
     },
     "metadata": {},
     "output_type": "display_data"
    }
   ],
   "source": [
    "data_family_debt = data.pivot_table(index = ['family_status_id', 'family_status'], columns = 'debt_category', values = 'debt', aggfunc = 'count')\n",
    "display(data_family_debt)"
   ]
  },
  {
   "cell_type": "markdown",
   "metadata": {},
   "source": [
    "Посчитаем долю клиентов-должников в каждой семейной категории."
   ]
  },
  {
   "cell_type": "code",
   "execution_count": 73,
   "metadata": {},
   "outputs": [
    {
     "name": "stdout",
     "output_type": "stream",
     "text": [
      "Доля должников из общего количества клиентов в категории: family_status\n",
      "женат / замужем    7.56\n",
      "dtype: float64\n",
      "Доля должников из общего количества клиентов в категории: family_status\n",
      "гражданский брак    9.32\n",
      "dtype: float64\n",
      "Доля должников из общего количества клиентов в категории: family_status\n",
      "вдовец / вдова    6.62\n",
      "dtype: float64\n",
      "Доля должников из общего количества клиентов в категории: family_status\n",
      "в разводе    7.06\n",
      "dtype: float64\n",
      "Доля должников из общего количества клиентов в категории: family_status\n",
      "Не женат / не замужем    9.76\n",
      "dtype: float64\n"
     ]
    }
   ],
   "source": [
    "for elem in range(0, 5):\n",
    "    count = 0 \n",
    "    count =  round(data_family_debt['имел задолженность'][elem] / \n",
    "                   (data_family_debt['имел задолженность'][elem] + \n",
    "                    data_family_debt['не имел задолженность'][elem])*100 ,2)\n",
    "    print('Доля должников из общего количества клиентов в категории:', count)"
   ]
  },
  {
   "cell_type": "markdown",
   "metadata": {},
   "source": [
    "**Вывод**\n",
    "На основе сводной таблицы и расчетов можно сказать следующее: \n",
    "* Наибольшую долю кредитов берут клиенты с семейным положением \"женат/замужем\"\n",
    "* Наименьшую долю кредитов берут клиенты с семейным положением \"вдовец/вдова\"\n",
    "* Люди с семейным статусом \"Не жентат / не замужем\" больше всех склонны не платить по кредиту вовремя\n",
    "* Наибольшую долю из всех должников представляют клиенты с семейным статусом \"женат/замужем\""
   ]
  },
  {
   "cell_type": "markdown",
   "metadata": {},
   "source": [
    "- Есть ли зависимость между уровнем дохода и возвратом кредита в срок? <a id='q3'></a>\n",
    "[в начало](#begin)"
   ]
  },
  {
   "cell_type": "markdown",
   "metadata": {},
   "source": [
    "Для того, чтобы определить зависимость между уровнем дохода и возвратом кредита в срок необходимо составить сводную таблицу из наших сформированных категориальных переменных."
   ]
  },
  {
   "cell_type": "code",
   "execution_count": 74,
   "metadata": {},
   "outputs": [
    {
     "data": {
      "text/html": [
       "<div>\n",
       "<style scoped>\n",
       "    .dataframe tbody tr th:only-of-type {\n",
       "        vertical-align: middle;\n",
       "    }\n",
       "\n",
       "    .dataframe tbody tr th {\n",
       "        vertical-align: top;\n",
       "    }\n",
       "\n",
       "    .dataframe thead th {\n",
       "        text-align: right;\n",
       "    }\n",
       "</style>\n",
       "<table border=\"1\" class=\"dataframe\">\n",
       "  <thead>\n",
       "    <tr style=\"text-align: right;\">\n",
       "      <th>debt_category</th>\n",
       "      <th>имел задолженность</th>\n",
       "      <th>не имел задолженность</th>\n",
       "    </tr>\n",
       "    <tr>\n",
       "      <th>total_income_category</th>\n",
       "      <th></th>\n",
       "      <th></th>\n",
       "    </tr>\n",
       "  </thead>\n",
       "  <tbody>\n",
       "    <tr>\n",
       "      <td>богатые</td>\n",
       "      <td>2</td>\n",
       "      <td>23</td>\n",
       "    </tr>\n",
       "    <tr>\n",
       "      <td>верхний средний класс</td>\n",
       "      <td>180</td>\n",
       "      <td>2394</td>\n",
       "    </tr>\n",
       "    <tr>\n",
       "      <td>выше бедности</td>\n",
       "      <td>4</td>\n",
       "      <td>71</td>\n",
       "    </tr>\n",
       "    <tr>\n",
       "      <td>нижний средний класс</td>\n",
       "      <td>350</td>\n",
       "      <td>4019</td>\n",
       "    </tr>\n",
       "    <tr>\n",
       "      <td>предсредний класс</td>\n",
       "      <td>656</td>\n",
       "      <td>7096</td>\n",
       "    </tr>\n",
       "    <tr>\n",
       "      <td>состоятельные</td>\n",
       "      <td>12</td>\n",
       "      <td>185</td>\n",
       "    </tr>\n",
       "    <tr>\n",
       "      <td>средний класс</td>\n",
       "      <td>528</td>\n",
       "      <td>5810</td>\n",
       "    </tr>\n",
       "  </tbody>\n",
       "</table>\n",
       "</div>"
      ],
      "text/plain": [
       "debt_category          имел задолженность  не имел задолженность\n",
       "total_income_category                                           \n",
       "богатые                                 2                     23\n",
       "верхний средний класс                 180                   2394\n",
       "выше бедности                           4                     71\n",
       "нижний средний класс                  350                   4019\n",
       "предсредний класс                     656                   7096\n",
       "состоятельные                          12                    185\n",
       "средний класс                         528                   5810"
      ]
     },
     "metadata": {},
     "output_type": "display_data"
    }
   ],
   "source": [
    "data_income_debt = data.pivot_table(index = 'total_income_category', columns = 'debt_category', values = 'debt', aggfunc = 'count')\n",
    "display(data_income_debt)"
   ]
  },
  {
   "cell_type": "markdown",
   "metadata": {},
   "source": [
    "Посчитаем долю клиентов-должников из всего количества клиентов в категории."
   ]
  },
  {
   "cell_type": "code",
   "execution_count": 75,
   "metadata": {},
   "outputs": [
    {
     "name": "stdout",
     "output_type": "stream",
     "text": [
      "Доля должников из общего количества клиентов в категории: 8.0\n",
      "Доля должников из общего количества клиентов в категории: 6.99\n",
      "Доля должников из общего количества клиентов в категории: 5.33\n",
      "Доля должников из общего количества клиентов в категории: 8.01\n",
      "Доля должников из общего количества клиентов в категории: 8.46\n",
      "Доля должников из общего количества клиентов в категории: 6.09\n",
      "Доля должников из общего количества клиентов в категории: 8.33\n"
     ]
    }
   ],
   "source": [
    "for elem in range(0, 7):\n",
    "    count = 0 \n",
    "    count =  round(data_income_debt['имел задолженность'][elem] / \n",
    "                   (data_income_debt['имел задолженность'][elem] + \n",
    "                    data_income_debt['не имел задолженность'][elem])*100 ,2)\n",
    "    print('Доля должников из общего количества клиентов в категории:', count)"
   ]
  },
  {
   "cell_type": "markdown",
   "metadata": {},
   "source": [
    "**Вывод**\n",
    "\n",
    "На основе сводной таблицы и расчетов можно сказать следующее: \n",
    "* Больше всего кредиты берут клиенты предсреднего класса\n",
    "* Меньше всего кредиты берут богатые клиенты\n",
    "* Среди всех должников больше всего клиентов из предсреднего класса\n",
    "* Среди всех должников меньше всего клиентов из богатого класса\n",
    "* Люди предсреднего класса больше всех из категории не платят за кредит вовремя\n",
    "* Люди класса выше бедности стараются оплачивать кредит вовремя лучше всех"
   ]
  },
  {
   "cell_type": "markdown",
   "metadata": {},
   "source": [
    "- Как разные цели кредита влияют на его возврат в срок? <a id='q4'></a>\n",
    "[в начало](#begin)"
   ]
  },
  {
   "cell_type": "markdown",
   "metadata": {},
   "source": [
    "Для того, чтобы определить зависимость между целями кредита и его возвратом в срок необходимо составить сводную таблицу из наших сформированных категориальных переменных."
   ]
  },
  {
   "cell_type": "code",
   "execution_count": 76,
   "metadata": {},
   "outputs": [
    {
     "data": {
      "text/html": [
       "<div>\n",
       "<style scoped>\n",
       "    .dataframe tbody tr th:only-of-type {\n",
       "        vertical-align: middle;\n",
       "    }\n",
       "\n",
       "    .dataframe tbody tr th {\n",
       "        vertical-align: top;\n",
       "    }\n",
       "\n",
       "    .dataframe thead th {\n",
       "        text-align: right;\n",
       "    }\n",
       "</style>\n",
       "<table border=\"1\" class=\"dataframe\">\n",
       "  <thead>\n",
       "    <tr style=\"text-align: right;\">\n",
       "      <th>debt_category</th>\n",
       "      <th>имел задолженность</th>\n",
       "      <th>не имел задолженность</th>\n",
       "    </tr>\n",
       "    <tr>\n",
       "      <th>purpose_category</th>\n",
       "      <th></th>\n",
       "      <th></th>\n",
       "    </tr>\n",
       "  </thead>\n",
       "  <tbody>\n",
       "    <tr>\n",
       "      <td>автомобиль</td>\n",
       "      <td>400</td>\n",
       "      <td>3879</td>\n",
       "    </tr>\n",
       "    <tr>\n",
       "      <td>недвижимость</td>\n",
       "      <td>780</td>\n",
       "      <td>9970</td>\n",
       "    </tr>\n",
       "    <tr>\n",
       "      <td>образование</td>\n",
       "      <td>369</td>\n",
       "      <td>3619</td>\n",
       "    </tr>\n",
       "    <tr>\n",
       "      <td>свадьба</td>\n",
       "      <td>183</td>\n",
       "      <td>2130</td>\n",
       "    </tr>\n",
       "  </tbody>\n",
       "</table>\n",
       "</div>"
      ],
      "text/plain": [
       "debt_category     имел задолженность  не имел задолженность\n",
       "purpose_category                                           \n",
       "автомобиль                       400                   3879\n",
       "недвижимость                     780                   9970\n",
       "образование                      369                   3619\n",
       "свадьба                          183                   2130"
      ]
     },
     "metadata": {},
     "output_type": "display_data"
    }
   ],
   "source": [
    "data_purpose_debt = data.pivot_table(index = 'purpose_category', columns = 'debt_category', values = 'debt', aggfunc = 'count')\n",
    "display(data_purpose_debt)"
   ]
  },
  {
   "cell_type": "markdown",
   "metadata": {},
   "source": [
    "Определим долю должников-клиентов по каждой цели."
   ]
  },
  {
   "cell_type": "code",
   "execution_count": 77,
   "metadata": {},
   "outputs": [
    {
     "name": "stdout",
     "output_type": "stream",
     "text": [
      "Доля должников из общего количества клиентов в категории автомобиль: 9.35\n",
      "Доля должников из общего количества клиентов в категории недвижимость: 7.26\n",
      "Доля должников из общего количества клиентов в категории образование: 9.25\n",
      "Доля должников из общего количества клиентов в категории свадьба: 7.91\n"
     ]
    }
   ],
   "source": [
    "purpose_list = ['автомобиль', 'недвижимость', 'образование', 'свадьба']\n",
    "for elem in range(0, 4):\n",
    "    count = 0 \n",
    "    count =  round(data_purpose_debt['имел задолженность'][elem] / \n",
    "                   (data_purpose_debt['имел задолженность'][elem] + \n",
    "                    data_purpose_debt['не имел задолженность'][elem])*100 ,2)\n",
    "    print(f'Доля должников из общего количества клиентов в категории {purpose_list[elem]}:', count)"
   ]
  },
  {
   "cell_type": "markdown",
   "metadata": {},
   "source": [
    "**Вывод**\n",
    "\n",
    "На основе расчетов и сводной таблицы можно сказать следующее:\n",
    "* Больше всего кредитов берут на недвижиомость\n",
    "* Среди всех должников, доля долгов за недвижимость больше всех\n",
    "* Меньше всего кредиты берут на свадьбу\n",
    "* Меньше всего должников в своей категории относятся клиенты, которые берут кредит на недвижимость."
   ]
  },
  {
   "cell_type": "markdown",
   "metadata": {},
   "source": [
    "## Общий вывод <a id='total'></a>\n",
    "[в начало](#begin)"
   ]
  },
  {
   "cell_type": "markdown",
   "metadata": {},
   "source": [
    "В процессе знакомства с данными - **статистика плтажеспособности клиентов**. Были выявлены следующие проблемы в данных:\n",
    "* **явные** пропуски в количественных переменных (**days_employed** , **total_income**);\n",
    "* отсутствие дополнительной информации, раскрывающий смысл значений, содержащихся в них (**education_id**, **family_status_id**, **debt**);\n",
    "* наличие в столбцах аномальных значений, искажающих представление о них для тех, кто работает с ними (**days_employed**, **children**, **dob_years**, **total_income**, **age**);\n",
    "* наличие дубликатов в виде значений столбца **education** разного регистра (верхний/нижний/вместе).\n",
    "\n",
    "В процессе предобработки данных было проведено следующее:\n",
    "* Некоторые столбцы были убраны, так как для проведения исследования они не нужны (**days_employed**)\n",
    "* явные пропуски были заполнены соответствующими значениями (**total_income** - медианным значением дохода клиентов)\n",
    "* неявный пропуск в столбце **gender** был удален\n",
    "* аномальные значения в некоторых столбцах были удалены (**children**, **age**)\n",
    "* дубликаты в исходных данных были удалены\n",
    "* значения столбца **education** были приведены к общему виду;\n",
    "* в процессе категоризации провели разбор значений, смысл которых был неизвестен (**family_status_id**).\n",
    "\n",
    "После предобработки данных в исходную таблицу с клиентами были добавлены столбцы, значения которых представляют собой категории клиентов в зависимости от предмета исследования.\n",
    "* для столбца **children** была добавлена категория **have_children**, показывающая наличие детей у клиента;\n",
    "* для столбца **total_income** была добавлена категория **total_income_category**, демонстрирующая доход клиентов по категориям;\n",
    "* для столбца **debt** была добавлена категория **debt_category**, характеризующая наличие долга у клиента\n",
    "* для семейного статус клиента в исходной таблице были данные в виде признаков **family_status**, **family_status_id**, значения которых привели к единому соответствию\n",
    "* для столбца **purpose** был добавлен столбец **purpose_category**, которая содержит в себе цели кредита клиентов по категориям.\n",
    "\n",
    "Кроме того, в процессе категоризации была проведена операция лемматизации, позволяющая привести разные формулировки целей кредита клиента к общей категории.\n",
    "\n",
    "В процессе исследования были сделаны сводные таблицы, которые объединили в себе необходимые для анализа признаки. На основе полученных данных из сводных таблиц были выявлены следующие закономерности: \n",
    "* наличие детей влияет на оплату кредита в срок\n",
    "* семейного статус влияет на оплату кредита в срок\n",
    "* финансовое положение (статус) влияет на оплату кредита в срок\n",
    "* в зависимости от целей кредита люди по-разному относятся к своим долгам.\n",
    "\n",
    "**Рекомендации заказчику**:\n",
    "1. привести заполнение пропусков к общему виду, например к значению \"неизвестно\";\n",
    "2. Добавить дополинительную информацию к исходной таблице данных к категориальным переменным, чтобы было понятно, с чем мы работаем;\n",
    "4. доработать систему сбора статистики в части корректности заполнения столбцов **total_income** и **days_employed**, добавить дополнительную информацию о том, в каких единицах измерения представлены эти признаки;\n",
    "3. привести заполнение значений столбцов разного регистра к общему виду.\n",
    "\n",
    "**К исследовательской части проекта:**\n",
    "* среди клиентов в категории **наличие детей** клиенты **с детьми** чаще всего не имеют задолженности по кредиту, однако такие клиенты реже берут кредиты;\n",
    "* среди клиентов в категории **семейный статус** клиенты **заммужем/женат** больше всех берут кредиты, однако среди должников это самая большая группа людей;\n",
    "* среди клиентов в категории **доход**  клиенты **предсреднего класса** с ежемесячным доходом **от 100 до 150 т.р** больше всех берут кредиты, однако их доля среди всех должников больше всего.\n",
    "* среди клиентов в категории **цель кредита** клиенты обращаются в банк за кредитом, связанным с **недвижимостью**, среди всех должников клиентов с такой целью кредита больше всего."
   ]
  }
 ],
 "metadata": {
  "ExecuteTimeLog": [
   {
    "duration": 664,
    "start_time": "2021-12-25T09:37:25.537Z"
   },
   {
    "duration": 50,
    "start_time": "2021-12-25T09:37:45.881Z"
   },
   {
    "duration": 20,
    "start_time": "2021-12-25T09:42:00.478Z"
   },
   {
    "duration": 11,
    "start_time": "2021-12-25T09:43:57.775Z"
   },
   {
    "duration": 2,
    "start_time": "2021-12-25T09:44:27.406Z"
   },
   {
    "duration": 49,
    "start_time": "2021-12-25T09:44:27.410Z"
   },
   {
    "duration": 11,
    "start_time": "2021-12-25T09:44:27.461Z"
   },
   {
    "duration": 11,
    "start_time": "2021-12-25T09:44:27.473Z"
   },
   {
    "duration": 12,
    "start_time": "2021-12-25T09:56:50.637Z"
   },
   {
    "duration": 5,
    "start_time": "2021-12-25T09:58:01.837Z"
   },
   {
    "duration": 11,
    "start_time": "2021-12-25T10:00:51.554Z"
   },
   {
    "duration": 4,
    "start_time": "2021-12-25T10:01:24.918Z"
   },
   {
    "duration": 14,
    "start_time": "2021-12-25T10:02:03.387Z"
   },
   {
    "duration": 7,
    "start_time": "2021-12-25T10:02:15.866Z"
   },
   {
    "duration": 12,
    "start_time": "2021-12-25T10:02:47.566Z"
   },
   {
    "duration": 17,
    "start_time": "2021-12-25T10:12:27.508Z"
   },
   {
    "duration": 14,
    "start_time": "2021-12-25T10:12:49.407Z"
   },
   {
    "duration": 6,
    "start_time": "2021-12-25T10:12:51.407Z"
   },
   {
    "duration": 13,
    "start_time": "2021-12-25T10:14:02.287Z"
   },
   {
    "duration": 7,
    "start_time": "2021-12-25T10:14:05.088Z"
   },
   {
    "duration": 14,
    "start_time": "2021-12-25T10:16:59.870Z"
   },
   {
    "duration": 7,
    "start_time": "2021-12-25T10:17:01.856Z"
   },
   {
    "duration": 15,
    "start_time": "2021-12-25T10:18:17.107Z"
   },
   {
    "duration": 22,
    "start_time": "2021-12-25T10:18:29.027Z"
   },
   {
    "duration": 6,
    "start_time": "2021-12-25T10:18:38.507Z"
   },
   {
    "duration": 11,
    "start_time": "2021-12-25T10:27:12.687Z"
   },
   {
    "duration": 8,
    "start_time": "2021-12-25T10:39:13.871Z"
   },
   {
    "duration": 5,
    "start_time": "2021-12-25T10:41:13.270Z"
   },
   {
    "duration": 13,
    "start_time": "2021-12-25T10:43:17.621Z"
   },
   {
    "duration": 13,
    "start_time": "2021-12-25T10:43:22.968Z"
   },
   {
    "duration": 795,
    "start_time": "2021-12-25T18:29:09.137Z"
   },
   {
    "duration": 67,
    "start_time": "2021-12-25T18:29:09.935Z"
   },
   {
    "duration": 28,
    "start_time": "2021-12-25T18:29:10.005Z"
   },
   {
    "duration": 34,
    "start_time": "2021-12-25T18:29:10.036Z"
   },
   {
    "duration": 7,
    "start_time": "2021-12-25T18:29:10.072Z"
   },
   {
    "duration": 11,
    "start_time": "2021-12-25T18:29:10.082Z"
   },
   {
    "duration": 21,
    "start_time": "2021-12-25T18:29:10.096Z"
   },
   {
    "duration": 61,
    "start_time": "2021-12-25T18:29:10.120Z"
   },
   {
    "duration": 9,
    "start_time": "2021-12-25T18:29:10.185Z"
   },
   {
    "duration": 15,
    "start_time": "2021-12-25T18:29:10.197Z"
   },
   {
    "duration": 15,
    "start_time": "2021-12-25T18:29:10.214Z"
   },
   {
    "duration": 7,
    "start_time": "2021-12-25T18:29:10.267Z"
   },
   {
    "duration": 19,
    "start_time": "2021-12-25T18:29:10.277Z"
   },
   {
    "duration": 10,
    "start_time": "2021-12-25T18:29:10.298Z"
   },
   {
    "duration": 10,
    "start_time": "2021-12-25T18:29:30.745Z"
   },
   {
    "duration": 12,
    "start_time": "2021-12-25T18:29:39.488Z"
   },
   {
    "duration": 14,
    "start_time": "2021-12-25T18:30:30.399Z"
   },
   {
    "duration": 25,
    "start_time": "2021-12-25T18:30:41.010Z"
   },
   {
    "duration": 10,
    "start_time": "2021-12-25T18:30:50.529Z"
   },
   {
    "duration": 10,
    "start_time": "2021-12-25T18:31:44.118Z"
   },
   {
    "duration": 9,
    "start_time": "2021-12-25T18:33:21.037Z"
   },
   {
    "duration": 9,
    "start_time": "2021-12-25T18:36:08.529Z"
   },
   {
    "duration": 18,
    "start_time": "2021-12-25T18:41:11.015Z"
   },
   {
    "duration": 5,
    "start_time": "2021-12-25T18:47:28.607Z"
   },
   {
    "duration": 6,
    "start_time": "2021-12-25T18:47:49.719Z"
   },
   {
    "duration": 6,
    "start_time": "2021-12-25T18:48:34.608Z"
   },
   {
    "duration": 6,
    "start_time": "2021-12-25T18:49:02.877Z"
   },
   {
    "duration": 102,
    "start_time": "2021-12-25T18:50:43.967Z"
   },
   {
    "duration": 112,
    "start_time": "2021-12-25T18:51:45.135Z"
   },
   {
    "duration": 101,
    "start_time": "2021-12-25T18:51:48.536Z"
   },
   {
    "duration": 35,
    "start_time": "2021-12-25T18:52:59.247Z"
   },
   {
    "duration": 22,
    "start_time": "2021-12-25T18:53:17.921Z"
   },
   {
    "duration": 11,
    "start_time": "2021-12-25T18:56:19.988Z"
   },
   {
    "duration": 11,
    "start_time": "2021-12-25T18:56:38.998Z"
   },
   {
    "duration": 8,
    "start_time": "2021-12-25T18:57:18.190Z"
   },
   {
    "duration": 479,
    "start_time": "2021-12-25T18:58:12.287Z"
   },
   {
    "duration": 10,
    "start_time": "2021-12-25T18:58:19.775Z"
   },
   {
    "duration": 40,
    "start_time": "2021-12-25T18:58:25.557Z"
   },
   {
    "duration": 12,
    "start_time": "2021-12-25T18:58:51.038Z"
   },
   {
    "duration": 14,
    "start_time": "2021-12-25T18:59:23.390Z"
   },
   {
    "duration": 320,
    "start_time": "2021-12-25T19:00:20.523Z"
   },
   {
    "duration": 13,
    "start_time": "2021-12-25T19:00:37.855Z"
   },
   {
    "duration": 13,
    "start_time": "2021-12-25T19:07:47.344Z"
   },
   {
    "duration": 321,
    "start_time": "2021-12-25T19:37:47.766Z"
   },
   {
    "duration": 297,
    "start_time": "2021-12-25T19:40:15.235Z"
   },
   {
    "duration": 5,
    "start_time": "2021-12-25T19:40:21.310Z"
   },
   {
    "duration": 8,
    "start_time": "2021-12-25T19:41:20.673Z"
   },
   {
    "duration": 14,
    "start_time": "2021-12-25T19:42:36.044Z"
   },
   {
    "duration": 11,
    "start_time": "2021-12-25T19:43:45.937Z"
   },
   {
    "duration": 16,
    "start_time": "2021-12-25T19:43:48.615Z"
   },
   {
    "duration": 6,
    "start_time": "2021-12-25T19:44:26.296Z"
   },
   {
    "duration": 292,
    "start_time": "2021-12-25T19:44:29.073Z"
   },
   {
    "duration": 4846,
    "start_time": "2021-12-25T19:44:46.129Z"
   },
   {
    "duration": 4095,
    "start_time": "2021-12-25T19:45:06.711Z"
   },
   {
    "duration": 4,
    "start_time": "2021-12-25T19:45:16.390Z"
   },
   {
    "duration": 76,
    "start_time": "2021-12-25T19:45:16.397Z"
   },
   {
    "duration": 19,
    "start_time": "2021-12-25T19:45:16.475Z"
   },
   {
    "duration": 18,
    "start_time": "2021-12-25T19:45:16.497Z"
   },
   {
    "duration": 10,
    "start_time": "2021-12-25T19:45:16.517Z"
   },
   {
    "duration": 46,
    "start_time": "2021-12-25T19:45:16.530Z"
   },
   {
    "duration": 18,
    "start_time": "2021-12-25T19:45:16.580Z"
   },
   {
    "duration": 27,
    "start_time": "2021-12-25T19:45:16.601Z"
   },
   {
    "duration": 12,
    "start_time": "2021-12-25T19:45:16.669Z"
   },
   {
    "duration": 19,
    "start_time": "2021-12-25T19:45:16.684Z"
   },
   {
    "duration": 14,
    "start_time": "2021-12-25T19:45:16.705Z"
   },
   {
    "duration": 47,
    "start_time": "2021-12-25T19:45:16.722Z"
   },
   {
    "duration": 23,
    "start_time": "2021-12-25T19:45:16.772Z"
   },
   {
    "duration": 12,
    "start_time": "2021-12-25T19:45:16.798Z"
   },
   {
    "duration": 7,
    "start_time": "2021-12-25T19:45:16.813Z"
   },
   {
    "duration": 50,
    "start_time": "2021-12-25T19:45:16.822Z"
   },
   {
    "duration": 6,
    "start_time": "2021-12-25T19:45:16.875Z"
   },
   {
    "duration": 8,
    "start_time": "2021-12-25T19:45:16.884Z"
   },
   {
    "duration": 24,
    "start_time": "2021-12-25T19:45:16.896Z"
   },
   {
    "duration": 51,
    "start_time": "2021-12-25T19:45:16.922Z"
   },
   {
    "duration": 12,
    "start_time": "2021-12-25T19:45:16.976Z"
   },
   {
    "duration": 6,
    "start_time": "2021-12-25T19:45:16.991Z"
   },
   {
    "duration": 15,
    "start_time": "2021-12-25T19:45:17.000Z"
   },
   {
    "duration": 6,
    "start_time": "2021-12-25T19:45:59.082Z"
   },
   {
    "duration": 15,
    "start_time": "2021-12-25T19:46:01.388Z"
   },
   {
    "duration": 18,
    "start_time": "2021-12-25T19:48:48.566Z"
   },
   {
    "duration": 15,
    "start_time": "2021-12-25T19:50:08.056Z"
   },
   {
    "duration": 6,
    "start_time": "2021-12-25T19:52:43.233Z"
   },
   {
    "duration": 7,
    "start_time": "2021-12-25T20:00:07.617Z"
   },
   {
    "duration": 17,
    "start_time": "2021-12-25T20:04:12.645Z"
   },
   {
    "duration": 5,
    "start_time": "2021-12-25T20:28:53.944Z"
   },
   {
    "duration": 7,
    "start_time": "2021-12-25T20:29:57.685Z"
   },
   {
    "duration": 4188,
    "start_time": "2021-12-25T20:32:06.010Z"
   },
   {
    "duration": 18,
    "start_time": "2021-12-25T20:32:35.429Z"
   },
   {
    "duration": 4157,
    "start_time": "2021-12-25T20:32:53.343Z"
   },
   {
    "duration": 4,
    "start_time": "2021-12-25T20:32:58.625Z"
   },
   {
    "duration": 71,
    "start_time": "2021-12-25T20:32:58.631Z"
   },
   {
    "duration": 18,
    "start_time": "2021-12-25T20:32:58.705Z"
   },
   {
    "duration": 18,
    "start_time": "2021-12-25T20:32:58.725Z"
   },
   {
    "duration": 6,
    "start_time": "2021-12-25T20:32:58.767Z"
   },
   {
    "duration": 11,
    "start_time": "2021-12-25T20:32:58.776Z"
   },
   {
    "duration": 18,
    "start_time": "2021-12-25T20:32:58.790Z"
   },
   {
    "duration": 54,
    "start_time": "2021-12-25T20:32:58.813Z"
   },
   {
    "duration": 10,
    "start_time": "2021-12-25T20:32:58.871Z"
   },
   {
    "duration": 21,
    "start_time": "2021-12-25T20:32:58.884Z"
   },
   {
    "duration": 15,
    "start_time": "2021-12-25T20:32:58.908Z"
   },
   {
    "duration": 9,
    "start_time": "2021-12-25T20:32:58.968Z"
   },
   {
    "duration": 22,
    "start_time": "2021-12-25T20:32:58.980Z"
   },
   {
    "duration": 11,
    "start_time": "2021-12-25T20:32:59.004Z"
   },
   {
    "duration": 9,
    "start_time": "2021-12-25T20:32:59.068Z"
   },
   {
    "duration": 15,
    "start_time": "2021-12-25T20:32:59.081Z"
   },
   {
    "duration": 6,
    "start_time": "2021-12-25T20:32:59.099Z"
   },
   {
    "duration": 6,
    "start_time": "2021-12-25T20:32:59.108Z"
   },
   {
    "duration": 68,
    "start_time": "2021-12-25T20:32:59.117Z"
   },
   {
    "duration": 10,
    "start_time": "2021-12-25T20:32:59.188Z"
   },
   {
    "duration": 15,
    "start_time": "2021-12-25T20:32:59.201Z"
   },
   {
    "duration": 52,
    "start_time": "2021-12-25T20:32:59.219Z"
   },
   {
    "duration": 16,
    "start_time": "2021-12-25T20:32:59.274Z"
   },
   {
    "duration": 13,
    "start_time": "2021-12-25T20:32:59.292Z"
   },
   {
    "duration": 14,
    "start_time": "2021-12-25T20:32:59.307Z"
   },
   {
    "duration": 50,
    "start_time": "2021-12-25T20:32:59.323Z"
   },
   {
    "duration": 17,
    "start_time": "2021-12-25T20:32:59.377Z"
   },
   {
    "duration": 3940,
    "start_time": "2021-12-25T20:32:59.396Z"
   },
   {
    "duration": 32,
    "start_time": "2021-12-25T20:33:03.341Z"
   },
   {
    "duration": 352,
    "start_time": "2021-12-25T20:33:03.375Z"
   },
   {
    "duration": 4567,
    "start_time": "2021-12-25T20:33:45.023Z"
   },
   {
    "duration": 4377,
    "start_time": "2021-12-25T20:34:51.323Z"
   },
   {
    "duration": 7,
    "start_time": "2021-12-25T20:34:59.601Z"
   },
   {
    "duration": 3,
    "start_time": "2021-12-25T20:35:23.325Z"
   },
   {
    "duration": 103,
    "start_time": "2021-12-25T20:35:23.332Z"
   },
   {
    "duration": 20,
    "start_time": "2021-12-25T20:35:23.438Z"
   },
   {
    "duration": 18,
    "start_time": "2021-12-25T20:35:23.470Z"
   },
   {
    "duration": 7,
    "start_time": "2021-12-25T20:35:23.490Z"
   },
   {
    "duration": 13,
    "start_time": "2021-12-25T20:35:23.500Z"
   },
   {
    "duration": 63,
    "start_time": "2021-12-25T20:35:23.519Z"
   },
   {
    "duration": 19,
    "start_time": "2021-12-25T20:35:23.586Z"
   },
   {
    "duration": 11,
    "start_time": "2021-12-25T20:35:23.608Z"
   },
   {
    "duration": 49,
    "start_time": "2021-12-25T20:35:23.621Z"
   },
   {
    "duration": 15,
    "start_time": "2021-12-25T20:35:23.673Z"
   },
   {
    "duration": 10,
    "start_time": "2021-12-25T20:35:23.691Z"
   },
   {
    "duration": 67,
    "start_time": "2021-12-25T20:35:23.704Z"
   },
   {
    "duration": 10,
    "start_time": "2021-12-25T20:35:23.774Z"
   },
   {
    "duration": 9,
    "start_time": "2021-12-25T20:35:23.787Z"
   },
   {
    "duration": 16,
    "start_time": "2021-12-25T20:35:23.798Z"
   },
   {
    "duration": 48,
    "start_time": "2021-12-25T20:35:23.818Z"
   },
   {
    "duration": 7,
    "start_time": "2021-12-25T20:35:23.870Z"
   },
   {
    "duration": 21,
    "start_time": "2021-12-25T20:35:23.880Z"
   },
   {
    "duration": 8,
    "start_time": "2021-12-25T20:35:23.903Z"
   },
   {
    "duration": 58,
    "start_time": "2021-12-25T20:35:23.913Z"
   },
   {
    "duration": 6,
    "start_time": "2021-12-25T20:35:23.976Z"
   },
   {
    "duration": 18,
    "start_time": "2021-12-25T20:35:23.984Z"
   },
   {
    "duration": 16,
    "start_time": "2021-12-25T20:35:24.005Z"
   },
   {
    "duration": 53,
    "start_time": "2021-12-25T20:35:24.024Z"
   },
   {
    "duration": 6,
    "start_time": "2021-12-25T20:35:24.079Z"
   },
   {
    "duration": 17,
    "start_time": "2021-12-25T20:35:24.088Z"
   },
   {
    "duration": 3908,
    "start_time": "2021-12-25T20:35:24.107Z"
   },
   {
    "duration": 7,
    "start_time": "2021-12-25T20:35:28.018Z"
   },
   {
    "duration": 5,
    "start_time": "2021-12-25T20:36:45.432Z"
   },
   {
    "duration": 4091,
    "start_time": "2021-12-25T20:40:08.093Z"
   },
   {
    "duration": 5,
    "start_time": "2021-12-25T20:40:39.971Z"
   },
   {
    "duration": 149,
    "start_time": "2021-12-25T20:41:56.895Z"
   },
   {
    "duration": 13,
    "start_time": "2021-12-25T20:42:25.614Z"
   },
   {
    "duration": 7,
    "start_time": "2021-12-25T20:42:39.385Z"
   },
   {
    "duration": 786,
    "start_time": "2021-12-25T20:43:05.885Z"
   },
   {
    "duration": 69,
    "start_time": "2021-12-25T20:43:06.673Z"
   },
   {
    "duration": 33,
    "start_time": "2021-12-25T20:43:06.745Z"
   },
   {
    "duration": 20,
    "start_time": "2021-12-25T20:43:06.781Z"
   },
   {
    "duration": 7,
    "start_time": "2021-12-25T20:43:06.805Z"
   },
   {
    "duration": 54,
    "start_time": "2021-12-25T20:43:06.815Z"
   },
   {
    "duration": 28,
    "start_time": "2021-12-25T20:43:06.871Z"
   },
   {
    "duration": 20,
    "start_time": "2021-12-25T20:43:06.902Z"
   },
   {
    "duration": 10,
    "start_time": "2021-12-25T20:43:06.927Z"
   },
   {
    "duration": 55,
    "start_time": "2021-12-25T20:43:06.940Z"
   },
   {
    "duration": 15,
    "start_time": "2021-12-25T20:43:06.998Z"
   },
   {
    "duration": 9,
    "start_time": "2021-12-25T20:43:07.016Z"
   },
   {
    "duration": 22,
    "start_time": "2021-12-25T20:43:07.067Z"
   },
   {
    "duration": 10,
    "start_time": "2021-12-25T20:43:07.092Z"
   },
   {
    "duration": 8,
    "start_time": "2021-12-25T20:43:07.105Z"
   },
   {
    "duration": 15,
    "start_time": "2021-12-25T20:43:07.115Z"
   },
   {
    "duration": 44,
    "start_time": "2021-12-25T20:43:07.132Z"
   },
   {
    "duration": 6,
    "start_time": "2021-12-25T20:43:07.179Z"
   },
   {
    "duration": 26,
    "start_time": "2021-12-25T20:43:07.188Z"
   },
   {
    "duration": 9,
    "start_time": "2021-12-25T20:43:07.216Z"
   },
   {
    "duration": 49,
    "start_time": "2021-12-25T20:43:07.227Z"
   },
   {
    "duration": 14,
    "start_time": "2021-12-25T20:43:07.280Z"
   },
   {
    "duration": 15,
    "start_time": "2021-12-25T20:43:07.300Z"
   },
   {
    "duration": 50,
    "start_time": "2021-12-25T20:43:07.318Z"
   },
   {
    "duration": 20,
    "start_time": "2021-12-25T20:43:07.372Z"
   },
   {
    "duration": 7,
    "start_time": "2021-12-25T20:43:07.395Z"
   },
   {
    "duration": 18,
    "start_time": "2021-12-25T20:43:07.407Z"
   },
   {
    "duration": 17,
    "start_time": "2021-12-25T20:43:07.469Z"
   },
   {
    "duration": 8,
    "start_time": "2021-12-25T20:43:07.489Z"
   },
   {
    "duration": 7,
    "start_time": "2021-12-25T20:47:21.624Z"
   },
   {
    "duration": 13,
    "start_time": "2021-12-25T20:47:26.086Z"
   },
   {
    "duration": 8,
    "start_time": "2021-12-25T20:47:28.613Z"
   },
   {
    "duration": 9794,
    "start_time": "2021-12-25T20:47:58.400Z"
   },
   {
    "duration": 5,
    "start_time": "2021-12-25T20:49:24.834Z"
   },
   {
    "duration": 7,
    "start_time": "2021-12-25T20:49:27.654Z"
   },
   {
    "duration": 784,
    "start_time": "2021-12-27T19:11:18.586Z"
   },
   {
    "duration": 3,
    "start_time": "2021-12-27T19:11:30.425Z"
   },
   {
    "duration": 379,
    "start_time": "2021-12-27T19:14:51.085Z"
   },
   {
    "duration": 4,
    "start_time": "2021-12-27T19:14:59.415Z"
   },
   {
    "duration": 66,
    "start_time": "2021-12-27T19:14:59.422Z"
   },
   {
    "duration": 45,
    "start_time": "2021-12-27T19:14:59.491Z"
   },
   {
    "duration": 15,
    "start_time": "2021-12-27T19:14:59.539Z"
   },
   {
    "duration": 8,
    "start_time": "2021-12-27T19:14:59.557Z"
   },
   {
    "duration": 54,
    "start_time": "2021-12-27T19:14:59.568Z"
   },
   {
    "duration": 19,
    "start_time": "2021-12-27T19:14:59.628Z"
   },
   {
    "duration": 22,
    "start_time": "2021-12-27T19:14:59.651Z"
   },
   {
    "duration": 47,
    "start_time": "2021-12-27T19:14:59.676Z"
   },
   {
    "duration": 17,
    "start_time": "2021-12-27T19:14:59.726Z"
   },
   {
    "duration": 16,
    "start_time": "2021-12-27T19:14:59.745Z"
   },
   {
    "duration": 8,
    "start_time": "2021-12-27T19:14:59.764Z"
   },
   {
    "duration": 21,
    "start_time": "2021-12-27T19:14:59.818Z"
   },
   {
    "duration": 8,
    "start_time": "2021-12-27T19:14:59.842Z"
   },
   {
    "duration": 8,
    "start_time": "2021-12-27T19:14:59.852Z"
   },
   {
    "duration": 54,
    "start_time": "2021-12-27T19:14:59.862Z"
   },
   {
    "duration": 6,
    "start_time": "2021-12-27T19:14:59.919Z"
   },
   {
    "duration": 9,
    "start_time": "2021-12-27T19:14:59.927Z"
   },
   {
    "duration": 20,
    "start_time": "2021-12-27T19:14:59.940Z"
   },
   {
    "duration": 7,
    "start_time": "2021-12-27T19:14:59.963Z"
   },
   {
    "duration": 53,
    "start_time": "2021-12-27T19:14:59.973Z"
   },
   {
    "duration": 13,
    "start_time": "2021-12-27T19:15:00.028Z"
   },
   {
    "duration": 16,
    "start_time": "2021-12-27T19:15:00.043Z"
   },
   {
    "duration": 14,
    "start_time": "2021-12-27T19:15:00.062Z"
   },
   {
    "duration": 46,
    "start_time": "2021-12-27T19:15:00.078Z"
   },
   {
    "duration": 8,
    "start_time": "2021-12-27T19:15:00.127Z"
   },
   {
    "duration": 19,
    "start_time": "2021-12-27T19:15:00.137Z"
   },
   {
    "duration": 7,
    "start_time": "2021-12-27T19:15:00.158Z"
   },
   {
    "duration": 14,
    "start_time": "2021-12-27T19:15:00.167Z"
   },
   {
    "duration": 21,
    "start_time": "2021-12-27T19:15:00.217Z"
   },
   {
    "duration": 3,
    "start_time": "2021-12-27T19:21:45.783Z"
   },
   {
    "duration": 62,
    "start_time": "2021-12-27T19:21:45.789Z"
   },
   {
    "duration": 20,
    "start_time": "2021-12-27T19:21:45.854Z"
   },
   {
    "duration": 47,
    "start_time": "2021-12-27T19:21:45.876Z"
   },
   {
    "duration": 6,
    "start_time": "2021-12-27T19:21:45.925Z"
   },
   {
    "duration": 9,
    "start_time": "2021-12-27T19:21:45.934Z"
   },
   {
    "duration": 17,
    "start_time": "2021-12-27T19:21:45.946Z"
   },
   {
    "duration": 61,
    "start_time": "2021-12-27T19:21:45.966Z"
   },
   {
    "duration": 10,
    "start_time": "2021-12-27T19:21:46.030Z"
   },
   {
    "duration": 15,
    "start_time": "2021-12-27T19:21:46.043Z"
   },
   {
    "duration": 13,
    "start_time": "2021-12-27T19:21:46.060Z"
   },
   {
    "duration": 48,
    "start_time": "2021-12-27T19:21:46.075Z"
   },
   {
    "duration": 19,
    "start_time": "2021-12-27T19:21:46.126Z"
   },
   {
    "duration": 9,
    "start_time": "2021-12-27T19:21:46.147Z"
   },
   {
    "duration": 7,
    "start_time": "2021-12-27T19:21:46.158Z"
   },
   {
    "duration": 55,
    "start_time": "2021-12-27T19:21:46.168Z"
   },
   {
    "duration": 6,
    "start_time": "2021-12-27T19:21:46.225Z"
   },
   {
    "duration": 6,
    "start_time": "2021-12-27T19:21:46.233Z"
   },
   {
    "duration": 19,
    "start_time": "2021-12-27T19:21:46.244Z"
   },
   {
    "duration": 53,
    "start_time": "2021-12-27T19:21:46.266Z"
   },
   {
    "duration": 12,
    "start_time": "2021-12-27T19:21:46.321Z"
   },
   {
    "duration": 6,
    "start_time": "2021-12-27T19:21:46.335Z"
   },
   {
    "duration": 19,
    "start_time": "2021-12-27T19:21:46.343Z"
   },
   {
    "duration": 13,
    "start_time": "2021-12-27T19:21:46.364Z"
   },
   {
    "duration": 48,
    "start_time": "2021-12-27T19:21:46.379Z"
   },
   {
    "duration": 8,
    "start_time": "2021-12-27T19:21:46.430Z"
   },
   {
    "duration": 19,
    "start_time": "2021-12-27T19:21:46.441Z"
   },
   {
    "duration": 54,
    "start_time": "2021-12-27T19:21:46.463Z"
   },
   {
    "duration": 8,
    "start_time": "2021-12-27T19:21:46.520Z"
   },
   {
    "duration": 22,
    "start_time": "2021-12-27T19:21:46.530Z"
   },
   {
    "duration": 63,
    "start_time": "2021-12-27T19:21:46.555Z"
   },
   {
    "duration": 10,
    "start_time": "2021-12-27T19:21:46.621Z"
   },
   {
    "duration": 7,
    "start_time": "2021-12-27T19:21:46.633Z"
   },
   {
    "duration": 7,
    "start_time": "2021-12-27T19:21:46.643Z"
   },
   {
    "duration": 16,
    "start_time": "2021-12-27T19:21:46.652Z"
   },
   {
    "duration": 60,
    "start_time": "2021-12-27T19:21:46.672Z"
   },
   {
    "duration": 7,
    "start_time": "2021-12-27T19:21:46.734Z"
   },
   {
    "duration": 95,
    "start_time": "2021-12-27T19:21:46.743Z"
   },
   {
    "duration": -4700,
    "start_time": "2021-12-27T19:21:51.541Z"
   },
   {
    "duration": 33,
    "start_time": "2021-12-27T19:22:09.051Z"
   },
   {
    "duration": 132,
    "start_time": "2021-12-27T19:23:57.456Z"
   },
   {
    "duration": 96,
    "start_time": "2021-12-27T19:24:17.676Z"
   },
   {
    "duration": 4552,
    "start_time": "2021-12-27T19:24:27.886Z"
   },
   {
    "duration": 6,
    "start_time": "2021-12-27T19:25:41.735Z"
   },
   {
    "duration": 3472,
    "start_time": "2021-12-27T19:27:05.833Z"
   },
   {
    "duration": 5,
    "start_time": "2021-12-27T19:27:13.033Z"
   },
   {
    "duration": 132,
    "start_time": "2021-12-27T19:27:20.603Z"
   },
   {
    "duration": 9,
    "start_time": "2021-12-27T20:20:18.229Z"
   },
   {
    "duration": 36,
    "start_time": "2021-12-27T20:21:47.790Z"
   },
   {
    "duration": 24,
    "start_time": "2021-12-27T20:22:25.313Z"
   },
   {
    "duration": 8,
    "start_time": "2021-12-27T20:22:45.056Z"
   },
   {
    "duration": 8,
    "start_time": "2021-12-27T20:23:00.591Z"
   },
   {
    "duration": 7,
    "start_time": "2021-12-27T20:24:51.709Z"
   },
   {
    "duration": 18,
    "start_time": "2021-12-27T20:26:41.423Z"
   },
   {
    "duration": 304,
    "start_time": "2021-12-27T20:27:21.560Z"
   },
   {
    "duration": 8,
    "start_time": "2021-12-27T20:27:55.203Z"
   },
   {
    "duration": 288,
    "start_time": "2021-12-27T20:28:13.927Z"
   },
   {
    "duration": 10,
    "start_time": "2021-12-27T20:28:35.261Z"
   },
   {
    "duration": 20,
    "start_time": "2021-12-27T20:28:47.400Z"
   },
   {
    "duration": 10,
    "start_time": "2021-12-27T20:30:06.618Z"
   },
   {
    "duration": 299,
    "start_time": "2021-12-27T20:30:35.669Z"
   },
   {
    "duration": 9,
    "start_time": "2021-12-27T20:30:47.276Z"
   },
   {
    "duration": 10,
    "start_time": "2021-12-27T20:31:20.214Z"
   },
   {
    "duration": 10,
    "start_time": "2021-12-27T20:31:56.645Z"
   },
   {
    "duration": 18,
    "start_time": "2021-12-27T20:43:59.844Z"
   },
   {
    "duration": 5,
    "start_time": "2021-12-27T20:46:45.763Z"
   },
   {
    "duration": 17,
    "start_time": "2021-12-27T20:48:53.066Z"
   },
   {
    "duration": 16,
    "start_time": "2021-12-27T20:49:05.843Z"
   },
   {
    "duration": 9,
    "start_time": "2021-12-27T20:49:18.097Z"
   },
   {
    "duration": 15,
    "start_time": "2021-12-27T20:49:56.136Z"
   },
   {
    "duration": 18,
    "start_time": "2021-12-27T20:50:08.052Z"
   },
   {
    "duration": 26,
    "start_time": "2021-12-27T20:50:14.599Z"
   },
   {
    "duration": 92,
    "start_time": "2021-12-27T20:50:14.628Z"
   },
   {
    "duration": 24,
    "start_time": "2021-12-27T20:50:14.724Z"
   },
   {
    "duration": 19,
    "start_time": "2021-12-27T20:50:14.752Z"
   },
   {
    "duration": 7,
    "start_time": "2021-12-27T20:50:14.817Z"
   },
   {
    "duration": 11,
    "start_time": "2021-12-27T20:50:14.827Z"
   },
   {
    "duration": 18,
    "start_time": "2021-12-27T20:50:14.840Z"
   },
   {
    "duration": 60,
    "start_time": "2021-12-27T20:50:14.861Z"
   },
   {
    "duration": 9,
    "start_time": "2021-12-27T20:50:14.925Z"
   },
   {
    "duration": 14,
    "start_time": "2021-12-27T20:50:14.938Z"
   },
   {
    "duration": 13,
    "start_time": "2021-12-27T20:50:14.955Z"
   },
   {
    "duration": 51,
    "start_time": "2021-12-27T20:50:14.971Z"
   },
   {
    "duration": 29,
    "start_time": "2021-12-27T20:50:15.025Z"
   },
   {
    "duration": 12,
    "start_time": "2021-12-27T20:50:15.057Z"
   },
   {
    "duration": 8,
    "start_time": "2021-12-27T20:50:15.072Z"
   },
   {
    "duration": 40,
    "start_time": "2021-12-27T20:50:15.083Z"
   },
   {
    "duration": 8,
    "start_time": "2021-12-27T20:50:15.125Z"
   },
   {
    "duration": 25,
    "start_time": "2021-12-27T20:50:15.136Z"
   },
   {
    "duration": 55,
    "start_time": "2021-12-27T20:50:15.164Z"
   },
   {
    "duration": 110,
    "start_time": "2021-12-27T20:50:15.221Z"
   },
   {
    "duration": -4855,
    "start_time": "2021-12-27T20:50:20.190Z"
   },
   {
    "duration": -4858,
    "start_time": "2021-12-27T20:50:20.194Z"
   },
   {
    "duration": -4859,
    "start_time": "2021-12-27T20:50:20.198Z"
   },
   {
    "duration": -4862,
    "start_time": "2021-12-27T20:50:20.202Z"
   },
   {
    "duration": -4863,
    "start_time": "2021-12-27T20:50:20.205Z"
   },
   {
    "duration": -4866,
    "start_time": "2021-12-27T20:50:20.209Z"
   },
   {
    "duration": -4868,
    "start_time": "2021-12-27T20:50:20.212Z"
   },
   {
    "duration": -4871,
    "start_time": "2021-12-27T20:50:20.216Z"
   },
   {
    "duration": -4873,
    "start_time": "2021-12-27T20:50:20.220Z"
   },
   {
    "duration": -4875,
    "start_time": "2021-12-27T20:50:20.223Z"
   },
   {
    "duration": -4878,
    "start_time": "2021-12-27T20:50:20.227Z"
   },
   {
    "duration": -4879,
    "start_time": "2021-12-27T20:50:20.230Z"
   },
   {
    "duration": -4881,
    "start_time": "2021-12-27T20:50:20.235Z"
   },
   {
    "duration": -4883,
    "start_time": "2021-12-27T20:50:20.238Z"
   },
   {
    "duration": -4885,
    "start_time": "2021-12-27T20:50:20.242Z"
   },
   {
    "duration": -4886,
    "start_time": "2021-12-27T20:50:20.245Z"
   },
   {
    "duration": -4889,
    "start_time": "2021-12-27T20:50:20.249Z"
   },
   {
    "duration": -4892,
    "start_time": "2021-12-27T20:50:20.254Z"
   },
   {
    "duration": -4896,
    "start_time": "2021-12-27T20:50:20.260Z"
   },
   {
    "duration": -4896,
    "start_time": "2021-12-27T20:50:20.263Z"
   },
   {
    "duration": -4899,
    "start_time": "2021-12-27T20:50:20.267Z"
   },
   {
    "duration": -4898,
    "start_time": "2021-12-27T20:50:20.270Z"
   },
   {
    "duration": -4909,
    "start_time": "2021-12-27T20:50:20.283Z"
   },
   {
    "duration": -4912,
    "start_time": "2021-12-27T20:50:20.287Z"
   },
   {
    "duration": -4914,
    "start_time": "2021-12-27T20:50:20.291Z"
   },
   {
    "duration": -4916,
    "start_time": "2021-12-27T20:50:20.294Z"
   },
   {
    "duration": -4919,
    "start_time": "2021-12-27T20:50:20.298Z"
   },
   {
    "duration": -4886,
    "start_time": "2021-12-27T20:50:20.302Z"
   },
   {
    "duration": -4888,
    "start_time": "2021-12-27T20:50:20.306Z"
   },
   {
    "duration": -4891,
    "start_time": "2021-12-27T20:50:20.310Z"
   },
   {
    "duration": 3,
    "start_time": "2021-12-27T20:50:35.899Z"
   },
   {
    "duration": 67,
    "start_time": "2021-12-27T20:50:35.905Z"
   },
   {
    "duration": 16,
    "start_time": "2021-12-27T20:50:35.975Z"
   },
   {
    "duration": 15,
    "start_time": "2021-12-27T20:50:36.017Z"
   },
   {
    "duration": 7,
    "start_time": "2021-12-27T20:50:36.036Z"
   },
   {
    "duration": 18,
    "start_time": "2021-12-27T20:50:36.045Z"
   },
   {
    "duration": 57,
    "start_time": "2021-12-27T20:50:36.066Z"
   },
   {
    "duration": 23,
    "start_time": "2021-12-27T20:50:36.126Z"
   },
   {
    "duration": 9,
    "start_time": "2021-12-27T20:50:36.153Z"
   },
   {
    "duration": 17,
    "start_time": "2021-12-27T20:50:36.166Z"
   },
   {
    "duration": 38,
    "start_time": "2021-12-27T20:50:36.186Z"
   },
   {
    "duration": 8,
    "start_time": "2021-12-27T20:50:36.227Z"
   },
   {
    "duration": 21,
    "start_time": "2021-12-27T20:50:36.237Z"
   },
   {
    "duration": 10,
    "start_time": "2021-12-27T20:50:36.260Z"
   },
   {
    "duration": 49,
    "start_time": "2021-12-27T20:50:36.273Z"
   },
   {
    "duration": 17,
    "start_time": "2021-12-27T20:50:36.326Z"
   },
   {
    "duration": 10,
    "start_time": "2021-12-27T20:50:36.346Z"
   },
   {
    "duration": 60,
    "start_time": "2021-12-27T20:50:36.359Z"
   },
   {
    "duration": 13,
    "start_time": "2021-12-27T20:50:36.422Z"
   },
   {
    "duration": 12,
    "start_time": "2021-12-27T20:50:36.438Z"
   },
   {
    "duration": 9,
    "start_time": "2021-12-27T20:50:36.452Z"
   },
   {
    "duration": 55,
    "start_time": "2021-12-27T20:50:36.464Z"
   },
   {
    "duration": 5,
    "start_time": "2021-12-27T20:50:36.522Z"
   },
   {
    "duration": 7,
    "start_time": "2021-12-27T20:50:36.530Z"
   },
   {
    "duration": 23,
    "start_time": "2021-12-27T20:50:36.539Z"
   },
   {
    "duration": 53,
    "start_time": "2021-12-27T20:50:36.564Z"
   },
   {
    "duration": 13,
    "start_time": "2021-12-27T20:50:36.623Z"
   },
   {
    "duration": 6,
    "start_time": "2021-12-27T20:50:36.639Z"
   },
   {
    "duration": 14,
    "start_time": "2021-12-27T20:50:36.648Z"
   },
   {
    "duration": 53,
    "start_time": "2021-12-27T20:50:36.664Z"
   },
   {
    "duration": 14,
    "start_time": "2021-12-27T20:50:36.720Z"
   },
   {
    "duration": 6,
    "start_time": "2021-12-27T20:50:36.736Z"
   },
   {
    "duration": 20,
    "start_time": "2021-12-27T20:50:36.744Z"
   },
   {
    "duration": 6,
    "start_time": "2021-12-27T20:50:36.766Z"
   },
   {
    "duration": 45,
    "start_time": "2021-12-27T20:50:36.774Z"
   },
   {
    "duration": 26,
    "start_time": "2021-12-27T20:50:36.821Z"
   },
   {
    "duration": 33,
    "start_time": "2021-12-27T20:50:36.850Z"
   },
   {
    "duration": 39,
    "start_time": "2021-12-27T20:50:36.886Z"
   },
   {
    "duration": 6,
    "start_time": "2021-12-27T20:50:36.928Z"
   },
   {
    "duration": 18,
    "start_time": "2021-12-27T20:50:36.937Z"
   },
   {
    "duration": 17,
    "start_time": "2021-12-27T20:50:36.957Z"
   },
   {
    "duration": 53,
    "start_time": "2021-12-27T20:50:36.976Z"
   },
   {
    "duration": 6,
    "start_time": "2021-12-27T20:50:37.032Z"
   },
   {
    "duration": 34,
    "start_time": "2021-12-27T20:50:37.040Z"
   },
   {
    "duration": 48,
    "start_time": "2021-12-27T20:50:37.077Z"
   },
   {
    "duration": 14,
    "start_time": "2021-12-27T20:50:37.128Z"
   },
   {
    "duration": 4451,
    "start_time": "2021-12-27T20:50:37.145Z"
   },
   {
    "duration": 158,
    "start_time": "2021-12-27T20:50:41.598Z"
   },
   {
    "duration": 11,
    "start_time": "2021-12-27T20:50:41.758Z"
   },
   {
    "duration": 13,
    "start_time": "2021-12-27T20:50:41.772Z"
   },
   {
    "duration": 14,
    "start_time": "2021-12-27T20:51:09.961Z"
   },
   {
    "duration": 14,
    "start_time": "2021-12-27T20:52:19.697Z"
   },
   {
    "duration": 364,
    "start_time": "2021-12-27T20:53:03.344Z"
   },
   {
    "duration": 13,
    "start_time": "2021-12-27T20:54:45.018Z"
   },
   {
    "duration": 13,
    "start_time": "2021-12-27T20:55:59.713Z"
   },
   {
    "duration": 11,
    "start_time": "2021-12-27T20:56:06.115Z"
   },
   {
    "duration": 5,
    "start_time": "2021-12-27T20:56:13.318Z"
   },
   {
    "duration": 6,
    "start_time": "2021-12-27T20:56:19.893Z"
   },
   {
    "duration": 5,
    "start_time": "2021-12-27T20:56:36.816Z"
   },
   {
    "duration": 6,
    "start_time": "2021-12-27T20:56:44.932Z"
   },
   {
    "duration": 12,
    "start_time": "2021-12-27T20:57:47.803Z"
   },
   {
    "duration": 14,
    "start_time": "2021-12-27T20:57:55.316Z"
   },
   {
    "duration": 12,
    "start_time": "2021-12-27T20:58:02.101Z"
   },
   {
    "duration": 13,
    "start_time": "2021-12-27T20:58:10.381Z"
   },
   {
    "duration": 11,
    "start_time": "2021-12-27T20:58:17.491Z"
   },
   {
    "duration": 12,
    "start_time": "2021-12-27T20:58:21.872Z"
   },
   {
    "duration": 27,
    "start_time": "2021-12-27T21:01:22.938Z"
   },
   {
    "duration": 860,
    "start_time": "2021-12-27T21:01:34.684Z"
   },
   {
    "duration": 64,
    "start_time": "2021-12-27T21:01:35.546Z"
   },
   {
    "duration": 32,
    "start_time": "2021-12-27T21:01:35.613Z"
   },
   {
    "duration": 16,
    "start_time": "2021-12-27T21:01:35.648Z"
   },
   {
    "duration": 7,
    "start_time": "2021-12-27T21:01:35.667Z"
   },
   {
    "duration": 9,
    "start_time": "2021-12-27T21:01:35.676Z"
   },
   {
    "duration": 18,
    "start_time": "2021-12-27T21:01:35.718Z"
   },
   {
    "duration": 20,
    "start_time": "2021-12-27T21:01:35.740Z"
   },
   {
    "duration": 9,
    "start_time": "2021-12-27T21:01:35.763Z"
   },
   {
    "duration": 57,
    "start_time": "2021-12-27T21:01:35.775Z"
   },
   {
    "duration": 15,
    "start_time": "2021-12-27T21:01:35.835Z"
   },
   {
    "duration": 9,
    "start_time": "2021-12-27T21:01:35.853Z"
   },
   {
    "duration": 60,
    "start_time": "2021-12-27T21:01:35.865Z"
   },
   {
    "duration": 18,
    "start_time": "2021-12-27T21:01:35.929Z"
   },
   {
    "duration": 11,
    "start_time": "2021-12-27T21:01:35.951Z"
   },
   {
    "duration": 18,
    "start_time": "2021-12-27T21:01:35.965Z"
   },
   {
    "duration": 39,
    "start_time": "2021-12-27T21:01:35.985Z"
   },
   {
    "duration": 22,
    "start_time": "2021-12-27T21:01:36.027Z"
   },
   {
    "duration": 15,
    "start_time": "2021-12-27T21:01:36.053Z"
   },
   {
    "duration": 51,
    "start_time": "2021-12-27T21:01:36.070Z"
   },
   {
    "duration": 15,
    "start_time": "2021-12-27T21:01:36.124Z"
   },
   {
    "duration": 23,
    "start_time": "2021-12-27T21:01:36.142Z"
   },
   {
    "duration": 49,
    "start_time": "2021-12-27T21:01:36.170Z"
   },
   {
    "duration": 7,
    "start_time": "2021-12-27T21:01:36.222Z"
   },
   {
    "duration": 24,
    "start_time": "2021-12-27T21:01:36.232Z"
   },
   {
    "duration": 11,
    "start_time": "2021-12-27T21:01:36.259Z"
   },
   {
    "duration": 50,
    "start_time": "2021-12-27T21:01:36.272Z"
   },
   {
    "duration": 8,
    "start_time": "2021-12-27T21:01:36.325Z"
   },
   {
    "duration": 16,
    "start_time": "2021-12-27T21:01:36.335Z"
   },
   {
    "duration": 13,
    "start_time": "2021-12-27T21:01:36.353Z"
   },
   {
    "duration": 54,
    "start_time": "2021-12-27T21:01:36.369Z"
   },
   {
    "duration": 6,
    "start_time": "2021-12-27T21:01:36.426Z"
   },
   {
    "duration": 16,
    "start_time": "2021-12-27T21:01:36.435Z"
   },
   {
    "duration": 5,
    "start_time": "2021-12-27T21:01:36.454Z"
   },
   {
    "duration": 8,
    "start_time": "2021-12-27T21:01:36.462Z"
   },
   {
    "duration": 61,
    "start_time": "2021-12-27T21:01:36.472Z"
   },
   {
    "duration": 30,
    "start_time": "2021-12-27T21:01:36.536Z"
   },
   {
    "duration": 11,
    "start_time": "2021-12-27T21:01:36.568Z"
   },
   {
    "duration": 7,
    "start_time": "2021-12-27T21:01:36.617Z"
   },
   {
    "duration": 7,
    "start_time": "2021-12-27T21:01:36.627Z"
   },
   {
    "duration": 21,
    "start_time": "2021-12-27T21:01:36.637Z"
   },
   {
    "duration": 56,
    "start_time": "2021-12-27T21:01:36.661Z"
   },
   {
    "duration": 6,
    "start_time": "2021-12-27T21:01:36.720Z"
   },
   {
    "duration": 31,
    "start_time": "2021-12-27T21:01:36.729Z"
   },
   {
    "duration": 19,
    "start_time": "2021-12-27T21:01:36.762Z"
   },
   {
    "duration": 36,
    "start_time": "2021-12-27T21:01:36.783Z"
   },
   {
    "duration": 1399,
    "start_time": "2021-12-27T21:01:36.821Z"
   },
   {
    "duration": -4646,
    "start_time": "2021-12-27T21:01:42.869Z"
   },
   {
    "duration": -4650,
    "start_time": "2021-12-27T21:01:42.875Z"
   },
   {
    "duration": -4652,
    "start_time": "2021-12-27T21:01:42.878Z"
   },
   {
    "duration": 9,
    "start_time": "2021-12-27T21:03:59.739Z"
   },
   {
    "duration": 562,
    "start_time": "2021-12-27T21:04:43.971Z"
   },
   {
    "duration": 4,
    "start_time": "2021-12-27T21:04:56.004Z"
   },
   {
    "duration": 62,
    "start_time": "2021-12-27T21:04:56.012Z"
   },
   {
    "duration": 18,
    "start_time": "2021-12-27T21:04:56.078Z"
   },
   {
    "duration": 23,
    "start_time": "2021-12-27T21:04:56.100Z"
   },
   {
    "duration": 5,
    "start_time": "2021-12-27T21:04:56.126Z"
   },
   {
    "duration": 10,
    "start_time": "2021-12-27T21:04:56.133Z"
   },
   {
    "duration": 20,
    "start_time": "2021-12-27T21:04:56.145Z"
   },
   {
    "duration": 60,
    "start_time": "2021-12-27T21:04:56.167Z"
   },
   {
    "duration": 10,
    "start_time": "2021-12-27T21:04:56.230Z"
   },
   {
    "duration": 14,
    "start_time": "2021-12-27T21:04:56.243Z"
   },
   {
    "duration": 13,
    "start_time": "2021-12-27T21:04:56.260Z"
   },
   {
    "duration": 46,
    "start_time": "2021-12-27T21:04:56.275Z"
   },
   {
    "duration": 20,
    "start_time": "2021-12-27T21:04:56.323Z"
   },
   {
    "duration": 8,
    "start_time": "2021-12-27T21:04:56.345Z"
   },
   {
    "duration": 8,
    "start_time": "2021-12-27T21:04:56.355Z"
   },
   {
    "duration": 53,
    "start_time": "2021-12-27T21:04:56.366Z"
   },
   {
    "duration": 8,
    "start_time": "2021-12-27T21:04:56.421Z"
   },
   {
    "duration": 21,
    "start_time": "2021-12-27T21:04:56.431Z"
   },
   {
    "duration": 13,
    "start_time": "2021-12-27T21:04:56.455Z"
   },
   {
    "duration": 54,
    "start_time": "2021-12-27T21:04:56.470Z"
   },
   {
    "duration": 12,
    "start_time": "2021-12-27T21:04:56.527Z"
   },
   {
    "duration": 23,
    "start_time": "2021-12-27T21:04:56.541Z"
   },
   {
    "duration": 8,
    "start_time": "2021-12-27T21:04:56.567Z"
   },
   {
    "duration": 41,
    "start_time": "2021-12-27T21:04:56.578Z"
   },
   {
    "duration": 7,
    "start_time": "2021-12-27T21:04:56.622Z"
   },
   {
    "duration": 23,
    "start_time": "2021-12-27T21:04:56.632Z"
   },
   {
    "duration": 55,
    "start_time": "2021-12-27T21:04:56.662Z"
   },
   {
    "duration": 13,
    "start_time": "2021-12-27T21:04:56.720Z"
   },
   {
    "duration": 6,
    "start_time": "2021-12-27T21:04:56.735Z"
   },
   {
    "duration": 16,
    "start_time": "2021-12-27T21:04:56.743Z"
   },
   {
    "duration": 14,
    "start_time": "2021-12-27T21:04:56.762Z"
   },
   {
    "duration": 55,
    "start_time": "2021-12-27T21:04:56.778Z"
   },
   {
    "duration": 8,
    "start_time": "2021-12-27T21:04:56.835Z"
   },
   {
    "duration": 22,
    "start_time": "2021-12-27T21:04:56.845Z"
   },
   {
    "duration": 48,
    "start_time": "2021-12-27T21:04:56.870Z"
   },
   {
    "duration": 9,
    "start_time": "2021-12-27T21:04:56.921Z"
   },
   {
    "duration": 24,
    "start_time": "2021-12-27T21:04:56.933Z"
   },
   {
    "duration": 82,
    "start_time": "2021-12-27T21:04:56.960Z"
   },
   {
    "duration": 13,
    "start_time": "2021-12-27T21:04:57.045Z"
   },
   {
    "duration": 7,
    "start_time": "2021-12-27T21:04:57.061Z"
   },
   {
    "duration": 8,
    "start_time": "2021-12-27T21:04:57.081Z"
   },
   {
    "duration": 47,
    "start_time": "2021-12-27T21:04:57.092Z"
   },
   {
    "duration": 20,
    "start_time": "2021-12-27T21:04:57.142Z"
   },
   {
    "duration": 7,
    "start_time": "2021-12-27T21:04:57.164Z"
   },
   {
    "duration": 58,
    "start_time": "2021-12-27T21:04:57.173Z"
   },
   {
    "duration": 19,
    "start_time": "2021-12-27T21:04:57.233Z"
   },
   {
    "duration": 6,
    "start_time": "2021-12-27T21:04:57.254Z"
   },
   {
    "duration": 1375,
    "start_time": "2021-12-27T21:04:57.262Z"
   },
   {
    "duration": -4721,
    "start_time": "2021-12-27T21:05:03.361Z"
   },
   {
    "duration": -4733,
    "start_time": "2021-12-27T21:05:03.374Z"
   },
   {
    "duration": -4736,
    "start_time": "2021-12-27T21:05:03.378Z"
   },
   {
    "duration": 712,
    "start_time": "2021-12-27T21:06:36.564Z"
   },
   {
    "duration": 64,
    "start_time": "2021-12-27T21:06:37.279Z"
   },
   {
    "duration": 26,
    "start_time": "2021-12-27T21:06:37.346Z"
   },
   {
    "duration": 16,
    "start_time": "2021-12-27T21:06:37.375Z"
   },
   {
    "duration": 26,
    "start_time": "2021-12-27T21:06:37.393Z"
   },
   {
    "duration": 9,
    "start_time": "2021-12-27T21:06:37.422Z"
   },
   {
    "duration": 19,
    "start_time": "2021-12-27T21:06:37.433Z"
   },
   {
    "duration": 19,
    "start_time": "2021-12-27T21:06:37.456Z"
   },
   {
    "duration": 46,
    "start_time": "2021-12-27T21:06:37.478Z"
   },
   {
    "duration": 15,
    "start_time": "2021-12-27T21:06:37.526Z"
   },
   {
    "duration": 15,
    "start_time": "2021-12-27T21:06:37.544Z"
   },
   {
    "duration": 7,
    "start_time": "2021-12-27T21:06:37.562Z"
   },
   {
    "duration": 58,
    "start_time": "2021-12-27T21:06:37.571Z"
   },
   {
    "duration": 9,
    "start_time": "2021-12-27T21:06:37.632Z"
   },
   {
    "duration": 8,
    "start_time": "2021-12-27T21:06:37.643Z"
   },
   {
    "duration": 13,
    "start_time": "2021-12-27T21:06:37.654Z"
   },
   {
    "duration": 50,
    "start_time": "2021-12-27T21:06:37.669Z"
   },
   {
    "duration": 20,
    "start_time": "2021-12-27T21:06:37.721Z"
   },
   {
    "duration": 10,
    "start_time": "2021-12-27T21:06:37.743Z"
   },
   {
    "duration": 11,
    "start_time": "2021-12-27T21:06:37.755Z"
   },
   {
    "duration": 9,
    "start_time": "2021-12-27T21:06:37.768Z"
   },
   {
    "duration": 26,
    "start_time": "2021-12-27T21:06:37.818Z"
   },
   {
    "duration": 8,
    "start_time": "2021-12-27T21:06:37.851Z"
   },
   {
    "duration": 6,
    "start_time": "2021-12-27T21:06:37.862Z"
   },
   {
    "duration": 50,
    "start_time": "2021-12-27T21:06:37.870Z"
   },
   {
    "duration": 21,
    "start_time": "2021-12-27T21:06:37.922Z"
   },
   {
    "duration": 8,
    "start_time": "2021-12-27T21:06:37.945Z"
   },
   {
    "duration": 12,
    "start_time": "2021-12-27T21:06:37.955Z"
   },
   {
    "duration": 6,
    "start_time": "2021-12-27T21:06:37.969Z"
   },
   {
    "duration": 14,
    "start_time": "2021-12-27T21:06:38.017Z"
   },
   {
    "duration": 12,
    "start_time": "2021-12-27T21:06:38.034Z"
   },
   {
    "duration": 15,
    "start_time": "2021-12-27T21:06:38.049Z"
   },
   {
    "duration": 7,
    "start_time": "2021-12-27T21:06:38.066Z"
   },
   {
    "duration": 57,
    "start_time": "2021-12-27T21:06:38.075Z"
   },
   {
    "duration": 6,
    "start_time": "2021-12-27T21:06:38.135Z"
   },
   {
    "duration": 7,
    "start_time": "2021-12-27T21:06:38.144Z"
   },
   {
    "duration": 19,
    "start_time": "2021-12-27T21:06:38.154Z"
   },
   {
    "duration": 32,
    "start_time": "2021-12-27T21:06:38.218Z"
   },
   {
    "duration": 11,
    "start_time": "2021-12-27T21:06:38.253Z"
   },
   {
    "duration": 5,
    "start_time": "2021-12-27T21:06:38.267Z"
   },
   {
    "duration": 44,
    "start_time": "2021-12-27T21:06:38.274Z"
   },
   {
    "duration": 18,
    "start_time": "2021-12-27T21:06:38.321Z"
   },
   {
    "duration": 24,
    "start_time": "2021-12-27T21:06:38.341Z"
   },
   {
    "duration": 8,
    "start_time": "2021-12-27T21:06:38.368Z"
   },
   {
    "duration": 63,
    "start_time": "2021-12-27T21:06:38.378Z"
   },
   {
    "duration": 18,
    "start_time": "2021-12-27T21:06:38.443Z"
   },
   {
    "duration": 7,
    "start_time": "2021-12-27T21:06:38.463Z"
   },
   {
    "duration": 1393,
    "start_time": "2021-12-27T21:06:38.472Z"
   },
   {
    "duration": -4598,
    "start_time": "2021-12-27T21:06:44.466Z"
   },
   {
    "duration": -4608,
    "start_time": "2021-12-27T21:06:44.477Z"
   },
   {
    "duration": -4609,
    "start_time": "2021-12-27T21:06:44.480Z"
   },
   {
    "duration": 33,
    "start_time": "2021-12-27T21:07:28.214Z"
   },
   {
    "duration": 16,
    "start_time": "2021-12-27T21:07:37.506Z"
   },
   {
    "duration": 7,
    "start_time": "2021-12-27T21:07:57.038Z"
   },
   {
    "duration": 765,
    "start_time": "2021-12-27T21:08:09.620Z"
   },
   {
    "duration": 64,
    "start_time": "2021-12-27T21:08:10.388Z"
   },
   {
    "duration": 28,
    "start_time": "2021-12-27T21:08:10.455Z"
   },
   {
    "duration": 33,
    "start_time": "2021-12-27T21:08:10.485Z"
   },
   {
    "duration": 7,
    "start_time": "2021-12-27T21:08:10.520Z"
   },
   {
    "duration": 10,
    "start_time": "2021-12-27T21:08:10.529Z"
   },
   {
    "duration": 26,
    "start_time": "2021-12-27T21:08:10.542Z"
   },
   {
    "duration": 61,
    "start_time": "2021-12-27T21:08:10.572Z"
   },
   {
    "duration": 9,
    "start_time": "2021-12-27T21:08:10.637Z"
   },
   {
    "duration": 17,
    "start_time": "2021-12-27T21:08:10.648Z"
   },
   {
    "duration": 13,
    "start_time": "2021-12-27T21:08:10.668Z"
   },
   {
    "duration": 9,
    "start_time": "2021-12-27T21:08:10.717Z"
   },
   {
    "duration": 25,
    "start_time": "2021-12-27T21:08:10.729Z"
   },
   {
    "duration": 11,
    "start_time": "2021-12-27T21:08:10.756Z"
   },
   {
    "duration": 8,
    "start_time": "2021-12-27T21:08:10.770Z"
   },
   {
    "duration": 15,
    "start_time": "2021-12-27T21:08:10.818Z"
   },
   {
    "duration": 9,
    "start_time": "2021-12-27T21:08:10.835Z"
   },
   {
    "duration": 20,
    "start_time": "2021-12-27T21:08:10.846Z"
   },
   {
    "duration": 48,
    "start_time": "2021-12-27T21:08:10.870Z"
   },
   {
    "duration": 13,
    "start_time": "2021-12-27T21:08:10.921Z"
   },
   {
    "duration": 10,
    "start_time": "2021-12-27T21:08:10.937Z"
   },
   {
    "duration": 23,
    "start_time": "2021-12-27T21:08:10.950Z"
   },
   {
    "duration": 9,
    "start_time": "2021-12-27T21:08:11.018Z"
   },
   {
    "duration": 5,
    "start_time": "2021-12-27T21:08:11.030Z"
   },
   {
    "duration": 8,
    "start_time": "2021-12-27T21:08:11.037Z"
   },
   {
    "duration": 20,
    "start_time": "2021-12-27T21:08:11.048Z"
   },
   {
    "duration": 49,
    "start_time": "2021-12-27T21:08:11.070Z"
   },
   {
    "duration": 12,
    "start_time": "2021-12-27T21:08:11.122Z"
   },
   {
    "duration": 6,
    "start_time": "2021-12-27T21:08:11.137Z"
   },
   {
    "duration": 17,
    "start_time": "2021-12-27T21:08:11.146Z"
   },
   {
    "duration": 61,
    "start_time": "2021-12-27T21:08:11.165Z"
   },
   {
    "duration": 15,
    "start_time": "2021-12-27T21:08:11.229Z"
   },
   {
    "duration": 7,
    "start_time": "2021-12-27T21:08:11.246Z"
   },
   {
    "duration": 32,
    "start_time": "2021-12-27T21:08:11.256Z"
   },
   {
    "duration": 6,
    "start_time": "2021-12-27T21:08:11.317Z"
   },
   {
    "duration": 10,
    "start_time": "2021-12-27T21:08:11.325Z"
   },
   {
    "duration": 18,
    "start_time": "2021-12-27T21:08:11.338Z"
   },
   {
    "duration": 71,
    "start_time": "2021-12-27T21:08:11.359Z"
   },
   {
    "duration": 12,
    "start_time": "2021-12-27T21:08:11.433Z"
   },
   {
    "duration": 6,
    "start_time": "2021-12-27T21:08:11.448Z"
   },
   {
    "duration": 18,
    "start_time": "2021-12-27T21:08:11.458Z"
   },
   {
    "duration": 55,
    "start_time": "2021-12-27T21:08:11.478Z"
   },
   {
    "duration": 28,
    "start_time": "2021-12-27T21:08:11.536Z"
   },
   {
    "duration": 8,
    "start_time": "2021-12-27T21:08:11.567Z"
   },
   {
    "duration": 65,
    "start_time": "2021-12-27T21:08:11.578Z"
   },
   {
    "duration": 19,
    "start_time": "2021-12-27T21:08:11.646Z"
   },
   {
    "duration": 7,
    "start_time": "2021-12-27T21:08:11.667Z"
   },
   {
    "duration": 1722,
    "start_time": "2021-12-27T21:08:11.677Z"
   },
   {
    "duration": -4598,
    "start_time": "2021-12-27T21:08:18.000Z"
   },
   {
    "duration": -4601,
    "start_time": "2021-12-27T21:08:18.004Z"
   },
   {
    "duration": -4602,
    "start_time": "2021-12-27T21:08:18.007Z"
   },
   {
    "duration": 7,
    "start_time": "2021-12-27T21:08:20.604Z"
   },
   {
    "duration": 16,
    "start_time": "2021-12-27T21:08:23.681Z"
   },
   {
    "duration": 14,
    "start_time": "2021-12-27T21:08:28.271Z"
   },
   {
    "duration": 16,
    "start_time": "2021-12-27T21:08:31.268Z"
   },
   {
    "duration": 10,
    "start_time": "2021-12-27T21:08:36.076Z"
   },
   {
    "duration": 16,
    "start_time": "2021-12-27T21:08:43.991Z"
   },
   {
    "duration": 6,
    "start_time": "2021-12-27T21:08:59.136Z"
   },
   {
    "duration": 8015,
    "start_time": "2021-12-27T21:09:01.401Z"
   },
   {
    "duration": 4,
    "start_time": "2021-12-27T21:09:18.903Z"
   },
   {
    "duration": 63,
    "start_time": "2021-12-27T21:09:21.040Z"
   },
   {
    "duration": 17,
    "start_time": "2021-12-27T21:09:23.142Z"
   },
   {
    "duration": 15,
    "start_time": "2021-12-27T21:09:29.123Z"
   },
   {
    "duration": 32,
    "start_time": "2021-12-27T21:09:35.176Z"
   },
   {
    "duration": 10,
    "start_time": "2021-12-27T21:09:37.286Z"
   },
   {
    "duration": 24,
    "start_time": "2021-12-27T21:09:41.799Z"
   },
   {
    "duration": 11,
    "start_time": "2021-12-27T21:09:44.590Z"
   },
   {
    "duration": 15,
    "start_time": "2021-12-27T21:09:48.212Z"
   },
   {
    "duration": 13,
    "start_time": "2021-12-27T21:09:50.621Z"
   },
   {
    "duration": 8,
    "start_time": "2021-12-27T21:09:53.324Z"
   },
   {
    "duration": 19,
    "start_time": "2021-12-27T21:10:03.472Z"
   },
   {
    "duration": 8,
    "start_time": "2021-12-27T21:10:10.071Z"
   },
   {
    "duration": 8,
    "start_time": "2021-12-27T21:10:12.619Z"
   },
   {
    "duration": 14,
    "start_time": "2021-12-27T21:10:15.673Z"
   },
   {
    "duration": 7,
    "start_time": "2021-12-27T21:10:19.601Z"
   },
   {
    "duration": 21,
    "start_time": "2021-12-27T21:10:23.470Z"
   },
   {
    "duration": 11,
    "start_time": "2021-12-27T21:10:26.475Z"
   },
   {
    "duration": 10,
    "start_time": "2021-12-27T21:10:34.073Z"
   },
   {
    "duration": 23,
    "start_time": "2021-12-27T21:10:40.431Z"
   },
   {
    "duration": 9,
    "start_time": "2021-12-27T21:10:45.766Z"
   },
   {
    "duration": 6,
    "start_time": "2021-12-27T21:10:48.916Z"
   },
   {
    "duration": 6,
    "start_time": "2021-12-27T21:10:51.035Z"
   },
   {
    "duration": 716,
    "start_time": "2021-12-27T21:11:34.361Z"
   },
   {
    "duration": 63,
    "start_time": "2021-12-27T21:11:35.080Z"
   },
   {
    "duration": 28,
    "start_time": "2021-12-27T21:11:36.534Z"
   },
   {
    "duration": 15,
    "start_time": "2021-12-27T21:11:39.453Z"
   },
   {
    "duration": 6,
    "start_time": "2021-12-27T21:11:42.932Z"
   },
   {
    "duration": 10,
    "start_time": "2021-12-27T21:11:43.787Z"
   },
   {
    "duration": 17,
    "start_time": "2021-12-27T21:11:44.613Z"
   },
   {
    "duration": 19,
    "start_time": "2021-12-27T21:11:45.888Z"
   },
   {
    "duration": 9,
    "start_time": "2021-12-27T21:11:46.938Z"
   },
   {
    "duration": 15,
    "start_time": "2021-12-27T21:11:48.767Z"
   },
   {
    "duration": 14,
    "start_time": "2021-12-27T21:11:49.814Z"
   },
   {
    "duration": 7,
    "start_time": "2021-12-27T21:11:50.778Z"
   },
   {
    "duration": 19,
    "start_time": "2021-12-27T21:11:51.724Z"
   },
   {
    "duration": 8,
    "start_time": "2021-12-27T21:11:53.207Z"
   },
   {
    "duration": 8,
    "start_time": "2021-12-27T21:11:54.288Z"
   },
   {
    "duration": 13,
    "start_time": "2021-12-27T21:11:55.196Z"
   },
   {
    "duration": 8,
    "start_time": "2021-12-27T21:11:56.687Z"
   },
   {
    "duration": 19,
    "start_time": "2021-12-27T21:11:58.449Z"
   },
   {
    "duration": 10,
    "start_time": "2021-12-27T21:12:07.263Z"
   },
   {
    "duration": 11,
    "start_time": "2021-12-27T21:12:08.449Z"
   },
   {
    "duration": 10,
    "start_time": "2021-12-27T21:12:08.900Z"
   },
   {
    "duration": 22,
    "start_time": "2021-12-27T21:12:10.360Z"
   },
   {
    "duration": 10,
    "start_time": "2021-12-27T21:12:12.213Z"
   },
   {
    "duration": 5,
    "start_time": "2021-12-27T21:12:13.690Z"
   },
   {
    "duration": 6,
    "start_time": "2021-12-27T21:12:14.336Z"
   },
   {
    "duration": 23,
    "start_time": "2021-12-27T21:12:16.286Z"
   },
   {
    "duration": 8,
    "start_time": "2021-12-27T21:12:18.408Z"
   },
   {
    "duration": 14,
    "start_time": "2021-12-27T21:12:19.826Z"
   },
   {
    "duration": 7,
    "start_time": "2021-12-27T21:12:23.035Z"
   },
   {
    "duration": 16,
    "start_time": "2021-12-27T21:12:24.430Z"
   },
   {
    "duration": 13,
    "start_time": "2021-12-27T21:12:25.623Z"
   },
   {
    "duration": 17,
    "start_time": "2021-12-27T21:12:26.627Z"
   },
   {
    "duration": 7,
    "start_time": "2021-12-27T21:12:31.390Z"
   },
   {
    "duration": 18,
    "start_time": "2021-12-27T21:12:32.500Z"
   },
   {
    "duration": 6,
    "start_time": "2021-12-27T21:12:35.478Z"
   },
   {
    "duration": 6,
    "start_time": "2021-12-27T21:12:36.858Z"
   },
   {
    "duration": 18,
    "start_time": "2021-12-27T21:12:39.296Z"
   },
   {
    "duration": 41,
    "start_time": "2021-12-27T21:12:41.936Z"
   },
   {
    "duration": 18,
    "start_time": "2021-12-27T21:13:06.000Z"
   },
   {
    "duration": 19,
    "start_time": "2021-12-27T21:13:46.957Z"
   },
   {
    "duration": 410,
    "start_time": "2021-12-27T21:14:03.645Z"
   },
   {
    "duration": 29,
    "start_time": "2021-12-27T21:14:08.758Z"
   },
   {
    "duration": 18,
    "start_time": "2021-12-27T21:14:41.965Z"
   },
   {
    "duration": 10,
    "start_time": "2021-12-27T21:14:59.287Z"
   },
   {
    "duration": 735,
    "start_time": "2021-12-27T21:15:36.656Z"
   },
   {
    "duration": 64,
    "start_time": "2021-12-27T21:15:37.394Z"
   },
   {
    "duration": 27,
    "start_time": "2021-12-27T21:15:37.461Z"
   },
   {
    "duration": 34,
    "start_time": "2021-12-27T21:15:37.490Z"
   },
   {
    "duration": 6,
    "start_time": "2021-12-27T21:15:37.527Z"
   },
   {
    "duration": 10,
    "start_time": "2021-12-27T21:15:37.535Z"
   },
   {
    "duration": 20,
    "start_time": "2021-12-27T21:15:37.548Z"
   },
   {
    "duration": 55,
    "start_time": "2021-12-27T21:15:37.572Z"
   },
   {
    "duration": 9,
    "start_time": "2021-12-27T21:15:37.630Z"
   },
   {
    "duration": 16,
    "start_time": "2021-12-27T21:15:37.643Z"
   },
   {
    "duration": 15,
    "start_time": "2021-12-27T21:15:37.662Z"
   },
   {
    "duration": 9,
    "start_time": "2021-12-27T21:15:37.717Z"
   },
   {
    "duration": 20,
    "start_time": "2021-12-27T21:15:37.728Z"
   },
   {
    "duration": 9,
    "start_time": "2021-12-27T21:15:37.750Z"
   },
   {
    "duration": 7,
    "start_time": "2021-12-27T21:15:37.761Z"
   },
   {
    "duration": 54,
    "start_time": "2021-12-27T21:15:37.770Z"
   },
   {
    "duration": 9,
    "start_time": "2021-12-27T21:15:37.826Z"
   },
   {
    "duration": 21,
    "start_time": "2021-12-27T21:15:37.837Z"
   },
   {
    "duration": 12,
    "start_time": "2021-12-27T21:15:37.861Z"
   },
   {
    "duration": 12,
    "start_time": "2021-12-27T21:15:37.916Z"
   },
   {
    "duration": 12,
    "start_time": "2021-12-27T21:15:37.931Z"
   },
   {
    "duration": 7,
    "start_time": "2021-12-27T21:15:37.946Z"
   },
   {
    "duration": 5,
    "start_time": "2021-12-27T21:15:37.959Z"
   },
   {
    "duration": 52,
    "start_time": "2021-12-27T21:15:37.967Z"
   },
   {
    "duration": 21,
    "start_time": "2021-12-27T21:15:38.021Z"
   },
   {
    "duration": 7,
    "start_time": "2021-12-27T21:15:38.044Z"
   },
   {
    "duration": 11,
    "start_time": "2021-12-27T21:15:38.054Z"
   },
   {
    "duration": 51,
    "start_time": "2021-12-27T21:15:38.068Z"
   },
   {
    "duration": 14,
    "start_time": "2021-12-27T21:15:38.121Z"
   },
   {
    "duration": 13,
    "start_time": "2021-12-27T21:15:38.138Z"
   },
   {
    "duration": 14,
    "start_time": "2021-12-27T21:15:38.153Z"
   },
   {
    "duration": 6,
    "start_time": "2021-12-27T21:15:38.170Z"
   },
   {
    "duration": 53,
    "start_time": "2021-12-27T21:15:38.178Z"
   },
   {
    "duration": 19,
    "start_time": "2021-12-27T21:15:38.234Z"
   },
   {
    "duration": 7,
    "start_time": "2021-12-27T21:15:38.255Z"
   },
   {
    "duration": 57,
    "start_time": "2021-12-27T21:15:38.264Z"
   },
   {
    "duration": 34,
    "start_time": "2021-12-27T21:15:38.323Z"
   },
   {
    "duration": 59,
    "start_time": "2021-12-27T21:15:38.360Z"
   },
   {
    "duration": 6,
    "start_time": "2021-12-27T21:15:38.422Z"
   },
   {
    "duration": 7,
    "start_time": "2021-12-27T21:15:38.431Z"
   },
   {
    "duration": 16,
    "start_time": "2021-12-27T21:15:38.441Z"
   },
   {
    "duration": 78,
    "start_time": "2021-12-27T21:15:38.459Z"
   },
   {
    "duration": 7,
    "start_time": "2021-12-27T21:15:38.539Z"
   },
   {
    "duration": 89,
    "start_time": "2021-12-27T21:15:38.548Z"
   },
   {
    "duration": 19,
    "start_time": "2021-12-27T21:15:38.640Z"
   },
   {
    "duration": 62,
    "start_time": "2021-12-27T21:15:38.661Z"
   },
   {
    "duration": 4852,
    "start_time": "2021-12-27T21:15:38.725Z"
   },
   {
    "duration": 143,
    "start_time": "2021-12-27T21:15:43.580Z"
   },
   {
    "duration": 9,
    "start_time": "2021-12-27T21:15:43.725Z"
   },
   {
    "duration": 20,
    "start_time": "2021-12-27T21:15:43.736Z"
   },
   {
    "duration": 21,
    "start_time": "2021-12-27T21:17:21.821Z"
   },
   {
    "duration": 31,
    "start_time": "2021-12-27T21:17:28.219Z"
   },
   {
    "duration": 20,
    "start_time": "2021-12-27T21:19:47.910Z"
   },
   {
    "duration": 3,
    "start_time": "2021-12-27T21:20:41.081Z"
   },
   {
    "duration": 38,
    "start_time": "2021-12-27T21:22:18.545Z"
   },
   {
    "duration": 21,
    "start_time": "2021-12-27T21:22:34.376Z"
   },
   {
    "duration": 8,
    "start_time": "2021-12-27T21:24:55.924Z"
   },
   {
    "duration": 27,
    "start_time": "2021-12-27T21:25:03.146Z"
   },
   {
    "duration": 61,
    "start_time": "2021-12-27T21:25:03.175Z"
   },
   {
    "duration": 17,
    "start_time": "2021-12-27T21:25:03.239Z"
   },
   {
    "duration": 15,
    "start_time": "2021-12-27T21:25:03.258Z"
   },
   {
    "duration": 43,
    "start_time": "2021-12-27T21:25:03.275Z"
   },
   {
    "duration": 9,
    "start_time": "2021-12-27T21:25:03.321Z"
   },
   {
    "duration": 19,
    "start_time": "2021-12-27T21:25:03.332Z"
   },
   {
    "duration": 19,
    "start_time": "2021-12-27T21:25:03.355Z"
   },
   {
    "duration": 10,
    "start_time": "2021-12-27T21:25:03.417Z"
   },
   {
    "duration": 18,
    "start_time": "2021-12-27T21:25:03.429Z"
   },
   {
    "duration": 13,
    "start_time": "2021-12-27T21:25:03.449Z"
   },
   {
    "duration": 52,
    "start_time": "2021-12-27T21:25:03.465Z"
   },
   {
    "duration": 20,
    "start_time": "2021-12-27T21:25:03.519Z"
   },
   {
    "duration": 13,
    "start_time": "2021-12-27T21:25:03.542Z"
   },
   {
    "duration": 8,
    "start_time": "2021-12-27T21:25:03.557Z"
   },
   {
    "duration": 14,
    "start_time": "2021-12-27T21:25:03.568Z"
   },
   {
    "duration": 37,
    "start_time": "2021-12-27T21:25:03.585Z"
   },
   {
    "duration": 20,
    "start_time": "2021-12-27T21:25:03.624Z"
   },
   {
    "duration": 12,
    "start_time": "2021-12-27T21:25:03.646Z"
   },
   {
    "duration": 12,
    "start_time": "2021-12-27T21:25:03.660Z"
   },
   {
    "duration": 50,
    "start_time": "2021-12-27T21:25:03.674Z"
   },
   {
    "duration": 374,
    "start_time": "2021-12-27T21:25:03.727Z"
   },
   {
    "duration": -4558,
    "start_time": "2021-12-27T21:25:08.663Z"
   },
   {
    "duration": -4564,
    "start_time": "2021-12-27T21:25:08.670Z"
   },
   {
    "duration": -4566,
    "start_time": "2021-12-27T21:25:08.674Z"
   },
   {
    "duration": -4582,
    "start_time": "2021-12-27T21:25:08.691Z"
   },
   {
    "duration": -4585,
    "start_time": "2021-12-27T21:25:08.696Z"
   },
   {
    "duration": -4588,
    "start_time": "2021-12-27T21:25:08.700Z"
   },
   {
    "duration": -4591,
    "start_time": "2021-12-27T21:25:08.705Z"
   },
   {
    "duration": -4594,
    "start_time": "2021-12-27T21:25:08.709Z"
   },
   {
    "duration": -4602,
    "start_time": "2021-12-27T21:25:08.719Z"
   },
   {
    "duration": -4606,
    "start_time": "2021-12-27T21:25:08.724Z"
   },
   {
    "duration": -4609,
    "start_time": "2021-12-27T21:25:08.728Z"
   },
   {
    "duration": -4612,
    "start_time": "2021-12-27T21:25:08.733Z"
   },
   {
    "duration": -4614,
    "start_time": "2021-12-27T21:25:08.737Z"
   },
   {
    "duration": -4616,
    "start_time": "2021-12-27T21:25:08.740Z"
   },
   {
    "duration": -4618,
    "start_time": "2021-12-27T21:25:08.744Z"
   },
   {
    "duration": -4621,
    "start_time": "2021-12-27T21:25:08.748Z"
   },
   {
    "duration": -4623,
    "start_time": "2021-12-27T21:25:08.752Z"
   },
   {
    "duration": -4626,
    "start_time": "2021-12-27T21:25:08.756Z"
   },
   {
    "duration": -4628,
    "start_time": "2021-12-27T21:25:08.759Z"
   },
   {
    "duration": -4630,
    "start_time": "2021-12-27T21:25:08.763Z"
   },
   {
    "duration": -4633,
    "start_time": "2021-12-27T21:25:08.767Z"
   },
   {
    "duration": -4635,
    "start_time": "2021-12-27T21:25:08.771Z"
   },
   {
    "duration": -4638,
    "start_time": "2021-12-27T21:25:08.775Z"
   },
   {
    "duration": -4640,
    "start_time": "2021-12-27T21:25:08.779Z"
   },
   {
    "duration": -4643,
    "start_time": "2021-12-27T21:25:08.783Z"
   },
   {
    "duration": -4645,
    "start_time": "2021-12-27T21:25:08.787Z"
   },
   {
    "duration": -4648,
    "start_time": "2021-12-27T21:25:08.791Z"
   },
   {
    "duration": -4650,
    "start_time": "2021-12-27T21:25:08.795Z"
   },
   {
    "duration": 9,
    "start_time": "2021-12-27T21:26:02.520Z"
   },
   {
    "duration": 3,
    "start_time": "2021-12-27T21:26:07.346Z"
   },
   {
    "duration": 62,
    "start_time": "2021-12-27T21:26:07.356Z"
   },
   {
    "duration": 17,
    "start_time": "2021-12-27T21:26:07.421Z"
   },
   {
    "duration": 15,
    "start_time": "2021-12-27T21:26:07.441Z"
   },
   {
    "duration": 6,
    "start_time": "2021-12-27T21:26:07.458Z"
   },
   {
    "duration": 54,
    "start_time": "2021-12-27T21:26:07.467Z"
   },
   {
    "duration": 19,
    "start_time": "2021-12-27T21:26:07.523Z"
   },
   {
    "duration": 18,
    "start_time": "2021-12-27T21:26:07.544Z"
   },
   {
    "duration": 9,
    "start_time": "2021-12-27T21:26:07.565Z"
   },
   {
    "duration": 15,
    "start_time": "2021-12-27T21:26:07.618Z"
   },
   {
    "duration": 13,
    "start_time": "2021-12-27T21:26:07.636Z"
   },
   {
    "duration": 10,
    "start_time": "2021-12-27T21:26:07.652Z"
   },
   {
    "duration": 59,
    "start_time": "2021-12-27T21:26:07.665Z"
   },
   {
    "duration": 9,
    "start_time": "2021-12-27T21:26:07.726Z"
   },
   {
    "duration": 9,
    "start_time": "2021-12-27T21:26:07.738Z"
   },
   {
    "duration": 17,
    "start_time": "2021-12-27T21:26:07.749Z"
   },
   {
    "duration": 8,
    "start_time": "2021-12-27T21:26:07.768Z"
   },
   {
    "duration": 43,
    "start_time": "2021-12-27T21:26:07.779Z"
   },
   {
    "duration": 6,
    "start_time": "2021-12-27T21:26:07.824Z"
   },
   {
    "duration": 22,
    "start_time": "2021-12-27T21:26:07.833Z"
   },
   {
    "duration": 8,
    "start_time": "2021-12-27T21:26:07.857Z"
   },
   {
    "duration": 54,
    "start_time": "2021-12-27T21:26:07.867Z"
   },
   {
    "duration": 9,
    "start_time": "2021-12-27T21:26:07.924Z"
   },
   {
    "duration": 17,
    "start_time": "2021-12-27T21:26:07.935Z"
   },
   {
    "duration": 16,
    "start_time": "2021-12-27T21:26:07.954Z"
   },
   {
    "duration": 17,
    "start_time": "2021-12-27T21:26:08.017Z"
   },
   {
    "duration": 6,
    "start_time": "2021-12-27T21:26:08.037Z"
   },
   {
    "duration": 25,
    "start_time": "2021-12-27T21:26:08.048Z"
   },
   {
    "duration": 50,
    "start_time": "2021-12-27T21:26:08.076Z"
   },
   {
    "duration": 7,
    "start_time": "2021-12-27T21:26:08.129Z"
   },
   {
    "duration": 21,
    "start_time": "2021-12-27T21:26:08.138Z"
   },
   {
    "duration": 72,
    "start_time": "2021-12-27T21:26:08.161Z"
   },
   {
    "duration": 10,
    "start_time": "2021-12-27T21:26:08.236Z"
   },
   {
    "duration": 6,
    "start_time": "2021-12-27T21:26:08.248Z"
   },
   {
    "duration": 7,
    "start_time": "2021-12-27T21:26:08.256Z"
   },
   {
    "duration": 57,
    "start_time": "2021-12-27T21:26:08.266Z"
   },
   {
    "duration": 23,
    "start_time": "2021-12-27T21:26:08.326Z"
   },
   {
    "duration": 7,
    "start_time": "2021-12-27T21:26:08.352Z"
   },
   {
    "duration": 68,
    "start_time": "2021-12-27T21:26:08.361Z"
   },
   {
    "duration": 20,
    "start_time": "2021-12-27T21:26:08.431Z"
   },
   {
    "duration": 8,
    "start_time": "2021-12-27T21:26:08.453Z"
   },
   {
    "duration": 4931,
    "start_time": "2021-12-27T21:26:08.464Z"
   },
   {
    "duration": 146,
    "start_time": "2021-12-27T21:26:13.397Z"
   },
   {
    "duration": 11,
    "start_time": "2021-12-27T21:26:13.546Z"
   },
   {
    "duration": 36,
    "start_time": "2021-12-27T21:26:54.115Z"
   },
   {
    "duration": 25,
    "start_time": "2021-12-27T21:27:41.382Z"
   },
   {
    "duration": 36,
    "start_time": "2021-12-27T21:27:43.752Z"
   },
   {
    "duration": 9,
    "start_time": "2021-12-27T21:31:44.549Z"
   },
   {
    "duration": 19,
    "start_time": "2021-12-27T21:35:35.392Z"
   },
   {
    "duration": 8,
    "start_time": "2021-12-27T21:36:21.742Z"
   },
   {
    "duration": 8,
    "start_time": "2021-12-27T21:36:36.266Z"
   },
   {
    "duration": 7,
    "start_time": "2021-12-27T21:36:47.922Z"
   },
   {
    "duration": 8,
    "start_time": "2021-12-27T21:37:09.907Z"
   },
   {
    "duration": 324,
    "start_time": "2021-12-27T21:38:04.035Z"
   },
   {
    "duration": 21,
    "start_time": "2021-12-27T21:38:09.617Z"
   },
   {
    "duration": 17,
    "start_time": "2021-12-27T21:38:18.933Z"
   },
   {
    "duration": 17,
    "start_time": "2021-12-27T21:39:08.211Z"
   },
   {
    "duration": 8,
    "start_time": "2021-12-27T21:39:28.126Z"
   },
   {
    "duration": 8,
    "start_time": "2021-12-27T21:39:50.214Z"
   },
   {
    "duration": 8,
    "start_time": "2021-12-27T21:39:54.759Z"
   },
   {
    "duration": 9,
    "start_time": "2021-12-27T21:40:09.917Z"
   },
   {
    "duration": 357,
    "start_time": "2021-12-27T21:40:24.483Z"
   },
   {
    "duration": 9,
    "start_time": "2021-12-27T21:40:29.489Z"
   },
   {
    "duration": 9,
    "start_time": "2021-12-27T21:40:52.722Z"
   },
   {
    "duration": 8,
    "start_time": "2021-12-27T21:41:36.616Z"
   },
   {
    "duration": 10,
    "start_time": "2021-12-27T21:41:58.635Z"
   },
   {
    "duration": 9,
    "start_time": "2021-12-27T21:42:40.400Z"
   },
   {
    "duration": 14,
    "start_time": "2021-12-27T21:52:18.982Z"
   },
   {
    "duration": 6,
    "start_time": "2021-12-27T21:53:41.594Z"
   },
   {
    "duration": 5,
    "start_time": "2021-12-27T21:53:50.060Z"
   },
   {
    "duration": 11,
    "start_time": "2021-12-27T21:53:53.976Z"
   },
   {
    "duration": 4,
    "start_time": "2021-12-27T21:54:01.610Z"
   },
   {
    "duration": 5,
    "start_time": "2021-12-27T21:54:10.710Z"
   },
   {
    "duration": 13,
    "start_time": "2021-12-27T21:57:08.922Z"
   },
   {
    "duration": 7626,
    "start_time": "2021-12-27T22:00:12.425Z"
   },
   {
    "duration": 9,
    "start_time": "2021-12-27T22:00:45.306Z"
   },
   {
    "duration": 7,
    "start_time": "2021-12-27T22:01:37.851Z"
   },
   {
    "duration": 7389,
    "start_time": "2021-12-27T22:02:13.184Z"
   },
   {
    "duration": 7752,
    "start_time": "2021-12-27T22:02:34.006Z"
   },
   {
    "duration": 759,
    "start_time": "2021-12-27T22:02:47.342Z"
   },
   {
    "duration": 65,
    "start_time": "2021-12-27T22:02:48.104Z"
   },
   {
    "duration": 28,
    "start_time": "2021-12-27T22:02:48.173Z"
   },
   {
    "duration": 15,
    "start_time": "2021-12-27T22:02:48.218Z"
   },
   {
    "duration": 6,
    "start_time": "2021-12-27T22:02:48.235Z"
   },
   {
    "duration": 9,
    "start_time": "2021-12-27T22:02:48.245Z"
   },
   {
    "duration": 19,
    "start_time": "2021-12-27T22:02:48.256Z"
   },
   {
    "duration": 20,
    "start_time": "2021-12-27T22:02:48.319Z"
   },
   {
    "duration": 10,
    "start_time": "2021-12-27T22:02:48.342Z"
   },
   {
    "duration": 14,
    "start_time": "2021-12-27T22:02:48.355Z"
   },
   {
    "duration": 51,
    "start_time": "2021-12-27T22:02:48.372Z"
   },
   {
    "duration": 7,
    "start_time": "2021-12-27T22:02:48.425Z"
   },
   {
    "duration": 20,
    "start_time": "2021-12-27T22:02:48.434Z"
   },
   {
    "duration": 9,
    "start_time": "2021-12-27T22:02:48.456Z"
   },
   {
    "duration": 8,
    "start_time": "2021-12-27T22:02:48.467Z"
   },
   {
    "duration": 48,
    "start_time": "2021-12-27T22:02:48.477Z"
   },
   {
    "duration": 7,
    "start_time": "2021-12-27T22:02:48.527Z"
   },
   {
    "duration": 9,
    "start_time": "2021-12-27T22:02:48.537Z"
   },
   {
    "duration": 20,
    "start_time": "2021-12-27T22:02:48.548Z"
   },
   {
    "duration": 55,
    "start_time": "2021-12-27T22:02:48.570Z"
   },
   {
    "duration": 8,
    "start_time": "2021-12-27T22:02:48.627Z"
   },
   {
    "duration": 8,
    "start_time": "2021-12-27T22:02:48.637Z"
   },
   {
    "duration": 8,
    "start_time": "2021-12-27T22:02:48.651Z"
   },
   {
    "duration": 58,
    "start_time": "2021-12-27T22:02:48.663Z"
   },
   {
    "duration": 9,
    "start_time": "2021-12-27T22:02:48.723Z"
   },
   {
    "duration": 9,
    "start_time": "2021-12-27T22:02:48.734Z"
   },
   {
    "duration": 11,
    "start_time": "2021-12-27T22:02:48.745Z"
   },
   {
    "duration": 9,
    "start_time": "2021-12-27T22:02:48.759Z"
   },
   {
    "duration": 52,
    "start_time": "2021-12-27T22:02:48.771Z"
   },
   {
    "duration": 7,
    "start_time": "2021-12-27T22:02:48.825Z"
   },
   {
    "duration": 6,
    "start_time": "2021-12-27T22:02:48.834Z"
   },
   {
    "duration": 7,
    "start_time": "2021-12-27T22:02:48.843Z"
   },
   {
    "duration": 26,
    "start_time": "2021-12-27T22:02:48.852Z"
   },
   {
    "duration": 8,
    "start_time": "2021-12-27T22:02:48.917Z"
   },
   {
    "duration": 12,
    "start_time": "2021-12-27T22:02:48.927Z"
   },
   {
    "duration": 6,
    "start_time": "2021-12-27T22:02:48.941Z"
   },
   {
    "duration": 14,
    "start_time": "2021-12-27T22:02:48.949Z"
   },
   {
    "duration": 52,
    "start_time": "2021-12-27T22:02:48.965Z"
   },
   {
    "duration": 15,
    "start_time": "2021-12-27T22:02:49.020Z"
   },
   {
    "duration": 7,
    "start_time": "2021-12-27T22:02:49.037Z"
   },
   {
    "duration": 16,
    "start_time": "2021-12-27T22:02:49.046Z"
   },
   {
    "duration": 66,
    "start_time": "2021-12-27T22:02:49.065Z"
   },
   {
    "duration": 6,
    "start_time": "2021-12-27T22:02:49.134Z"
   },
   {
    "duration": 22,
    "start_time": "2021-12-27T22:02:49.143Z"
   },
   {
    "duration": 52,
    "start_time": "2021-12-27T22:02:49.168Z"
   },
   {
    "duration": 10,
    "start_time": "2021-12-27T22:02:49.222Z"
   },
   {
    "duration": 7,
    "start_time": "2021-12-27T22:02:49.234Z"
   },
   {
    "duration": 7,
    "start_time": "2021-12-27T22:02:49.243Z"
   },
   {
    "duration": 17,
    "start_time": "2021-12-27T22:02:49.252Z"
   },
   {
    "duration": 66,
    "start_time": "2021-12-27T22:02:49.272Z"
   },
   {
    "duration": 7,
    "start_time": "2021-12-27T22:02:49.340Z"
   },
   {
    "duration": 36,
    "start_time": "2021-12-27T22:02:49.350Z"
   },
   {
    "duration": 68,
    "start_time": "2021-12-27T22:02:49.388Z"
   },
   {
    "duration": 19,
    "start_time": "2021-12-27T22:02:49.459Z"
   },
   {
    "duration": 37,
    "start_time": "2021-12-27T22:02:49.480Z"
   },
   {
    "duration": 4544,
    "start_time": "2021-12-27T22:02:49.519Z"
   },
   {
    "duration": 143,
    "start_time": "2021-12-27T22:02:54.066Z"
   },
   {
    "duration": 13,
    "start_time": "2021-12-27T22:02:54.211Z"
   },
   {
    "duration": 128,
    "start_time": "2021-12-27T22:08:20.336Z"
   },
   {
    "duration": 4,
    "start_time": "2021-12-27T22:08:25.478Z"
   },
   {
    "duration": 11,
    "start_time": "2021-12-27T22:09:32.769Z"
   },
   {
    "duration": 24,
    "start_time": "2021-12-27T22:10:52.856Z"
   },
   {
    "duration": 9,
    "start_time": "2021-12-27T22:15:58.683Z"
   },
   {
    "duration": 7,
    "start_time": "2021-12-27T22:16:14.656Z"
   },
   {
    "duration": 139,
    "start_time": "2021-12-27T22:25:25.222Z"
   },
   {
    "duration": 7,
    "start_time": "2021-12-27T22:25:53.672Z"
   },
   {
    "duration": 9,
    "start_time": "2021-12-27T22:26:53.135Z"
   },
   {
    "duration": 94,
    "start_time": "2021-12-27T22:28:00.962Z"
   },
   {
    "duration": 33,
    "start_time": "2021-12-27T22:28:28.015Z"
   },
   {
    "duration": 31,
    "start_time": "2021-12-27T22:28:55.150Z"
   },
   {
    "duration": 32,
    "start_time": "2021-12-27T22:29:19.968Z"
   },
   {
    "duration": 33,
    "start_time": "2021-12-27T22:32:25.588Z"
   },
   {
    "duration": 383,
    "start_time": "2021-12-27T22:32:47.704Z"
   },
   {
    "duration": 34,
    "start_time": "2021-12-27T22:32:55.231Z"
   },
   {
    "duration": 49,
    "start_time": "2021-12-27T22:52:37.228Z"
   },
   {
    "duration": 64,
    "start_time": "2021-12-27T22:52:54.058Z"
   },
   {
    "duration": 63,
    "start_time": "2021-12-27T22:54:44.202Z"
   },
   {
    "duration": 4772,
    "start_time": "2021-12-27T23:20:24.355Z"
   },
   {
    "duration": 4704,
    "start_time": "2021-12-27T23:20:38.984Z"
   },
   {
    "duration": 750,
    "start_time": "2021-12-27T23:33:45.254Z"
   },
   {
    "duration": 64,
    "start_time": "2021-12-27T23:33:46.007Z"
   },
   {
    "duration": 43,
    "start_time": "2021-12-27T23:33:46.074Z"
   },
   {
    "duration": 16,
    "start_time": "2021-12-27T23:33:46.119Z"
   },
   {
    "duration": 6,
    "start_time": "2021-12-27T23:33:46.137Z"
   },
   {
    "duration": 10,
    "start_time": "2021-12-27T23:33:46.145Z"
   },
   {
    "duration": 72,
    "start_time": "2021-12-27T23:33:46.157Z"
   },
   {
    "duration": 20,
    "start_time": "2021-12-27T23:33:46.233Z"
   },
   {
    "duration": 9,
    "start_time": "2021-12-27T23:33:46.256Z"
   },
   {
    "duration": 51,
    "start_time": "2021-12-27T23:33:46.267Z"
   },
   {
    "duration": 13,
    "start_time": "2021-12-27T23:33:46.320Z"
   },
   {
    "duration": 8,
    "start_time": "2021-12-27T23:33:46.336Z"
   },
   {
    "duration": 30,
    "start_time": "2021-12-27T23:33:46.347Z"
   },
   {
    "duration": 47,
    "start_time": "2021-12-27T23:33:46.379Z"
   },
   {
    "duration": 10,
    "start_time": "2021-12-27T23:33:46.429Z"
   },
   {
    "duration": 16,
    "start_time": "2021-12-27T23:33:46.443Z"
   },
   {
    "duration": 9,
    "start_time": "2021-12-27T23:33:46.461Z"
   },
   {
    "duration": 46,
    "start_time": "2021-12-27T23:33:46.473Z"
   },
   {
    "duration": 29,
    "start_time": "2021-12-27T23:33:46.521Z"
   },
   {
    "duration": 15,
    "start_time": "2021-12-27T23:33:46.553Z"
   },
   {
    "duration": 20,
    "start_time": "2021-12-27T23:33:46.570Z"
   },
   {
    "duration": 27,
    "start_time": "2021-12-27T23:33:46.593Z"
   },
   {
    "duration": 14,
    "start_time": "2021-12-27T23:33:46.628Z"
   },
   {
    "duration": 27,
    "start_time": "2021-12-27T23:33:46.646Z"
   },
   {
    "duration": 40,
    "start_time": "2021-12-27T23:33:46.676Z"
   },
   {
    "duration": 9,
    "start_time": "2021-12-27T23:33:46.719Z"
   },
   {
    "duration": 11,
    "start_time": "2021-12-27T23:33:46.731Z"
   },
   {
    "duration": 11,
    "start_time": "2021-12-27T23:33:46.745Z"
   },
   {
    "duration": 23,
    "start_time": "2021-12-27T23:33:46.758Z"
   },
   {
    "duration": 8,
    "start_time": "2021-12-27T23:33:46.817Z"
   },
   {
    "duration": 14,
    "start_time": "2021-12-27T23:33:46.827Z"
   },
   {
    "duration": 22,
    "start_time": "2021-12-27T23:33:46.844Z"
   },
   {
    "duration": 24,
    "start_time": "2021-12-27T23:33:46.868Z"
   },
   {
    "duration": 24,
    "start_time": "2021-12-27T23:33:46.895Z"
   },
   {
    "duration": 21,
    "start_time": "2021-12-27T23:33:46.921Z"
   },
   {
    "duration": 6,
    "start_time": "2021-12-27T23:33:46.944Z"
   },
   {
    "duration": 15,
    "start_time": "2021-12-27T23:33:46.952Z"
   },
   {
    "duration": 14,
    "start_time": "2021-12-27T23:33:46.969Z"
   },
   {
    "duration": 16,
    "start_time": "2021-12-27T23:33:47.018Z"
   },
   {
    "duration": 8,
    "start_time": "2021-12-27T23:33:47.036Z"
   },
   {
    "duration": 23,
    "start_time": "2021-12-27T23:33:47.047Z"
   },
   {
    "duration": 61,
    "start_time": "2021-12-27T23:33:47.072Z"
   },
   {
    "duration": 8,
    "start_time": "2021-12-27T23:33:47.136Z"
   },
   {
    "duration": 27,
    "start_time": "2021-12-27T23:33:47.147Z"
   },
   {
    "duration": 76,
    "start_time": "2021-12-27T23:33:47.177Z"
   },
   {
    "duration": 13,
    "start_time": "2021-12-27T23:33:47.255Z"
   },
   {
    "duration": 8,
    "start_time": "2021-12-27T23:33:47.270Z"
   },
   {
    "duration": 38,
    "start_time": "2021-12-27T23:33:47.281Z"
   },
   {
    "duration": 25,
    "start_time": "2021-12-27T23:33:47.321Z"
   },
   {
    "duration": 34,
    "start_time": "2021-12-27T23:33:47.349Z"
   },
   {
    "duration": 34,
    "start_time": "2021-12-27T23:33:47.385Z"
   },
   {
    "duration": 33,
    "start_time": "2021-12-27T23:33:47.422Z"
   },
   {
    "duration": 75,
    "start_time": "2021-12-27T23:33:47.458Z"
   },
   {
    "duration": 27,
    "start_time": "2021-12-27T23:33:47.536Z"
   },
   {
    "duration": 10,
    "start_time": "2021-12-27T23:33:47.566Z"
   },
   {
    "duration": 4718,
    "start_time": "2021-12-27T23:33:47.579Z"
   },
   {
    "duration": 147,
    "start_time": "2021-12-27T23:33:52.299Z"
   },
   {
    "duration": 9,
    "start_time": "2021-12-27T23:33:52.448Z"
   },
   {
    "duration": 27,
    "start_time": "2021-12-27T23:33:52.459Z"
   },
   {
    "duration": 33,
    "start_time": "2021-12-27T23:33:52.489Z"
   },
   {
    "duration": 8,
    "start_time": "2021-12-27T23:33:52.525Z"
   },
   {
    "duration": 34,
    "start_time": "2021-12-27T23:33:52.536Z"
   },
   {
    "duration": 103,
    "start_time": "2021-12-27T23:33:52.572Z"
   },
   {
    "duration": 4875,
    "start_time": "2021-12-27T23:33:52.677Z"
   },
   {
    "duration": 9,
    "start_time": "2021-12-27T23:38:33.526Z"
   },
   {
    "duration": 26,
    "start_time": "2021-12-27T23:40:04.918Z"
   },
   {
    "duration": 25,
    "start_time": "2021-12-27T23:40:20.611Z"
   },
   {
    "duration": 12,
    "start_time": "2021-12-27T23:41:23.041Z"
   },
   {
    "duration": 13,
    "start_time": "2021-12-27T23:41:37.270Z"
   },
   {
    "duration": 17,
    "start_time": "2021-12-27T23:41:49.349Z"
   },
   {
    "duration": 10,
    "start_time": "2021-12-27T23:42:30.273Z"
   },
   {
    "duration": 7135,
    "start_time": "2021-12-27T23:43:26.978Z"
   },
   {
    "duration": 24,
    "start_time": "2021-12-27T23:43:43.525Z"
   },
   {
    "duration": 8,
    "start_time": "2021-12-27T23:44:48.569Z"
   },
   {
    "duration": 17,
    "start_time": "2021-12-27T23:45:12.231Z"
   },
   {
    "duration": 16,
    "start_time": "2021-12-27T23:45:17.019Z"
   },
   {
    "duration": 12,
    "start_time": "2021-12-27T23:45:30.785Z"
   },
   {
    "duration": 17,
    "start_time": "2021-12-27T23:48:52.238Z"
   },
   {
    "duration": 16,
    "start_time": "2021-12-27T23:51:52.929Z"
   },
   {
    "duration": 792,
    "start_time": "2021-12-27T23:52:02.113Z"
   },
   {
    "duration": 65,
    "start_time": "2021-12-27T23:52:02.907Z"
   },
   {
    "duration": 29,
    "start_time": "2021-12-27T23:52:02.975Z"
   },
   {
    "duration": 16,
    "start_time": "2021-12-27T23:52:03.017Z"
   },
   {
    "duration": 7,
    "start_time": "2021-12-27T23:52:03.035Z"
   },
   {
    "duration": 19,
    "start_time": "2021-12-27T23:52:03.044Z"
   },
   {
    "duration": 51,
    "start_time": "2021-12-27T23:52:03.066Z"
   },
   {
    "duration": 21,
    "start_time": "2021-12-27T23:52:03.121Z"
   },
   {
    "duration": 9,
    "start_time": "2021-12-27T23:52:03.145Z"
   },
   {
    "duration": 14,
    "start_time": "2021-12-27T23:52:03.156Z"
   },
   {
    "duration": 52,
    "start_time": "2021-12-27T23:52:03.172Z"
   },
   {
    "duration": 8,
    "start_time": "2021-12-27T23:52:03.227Z"
   },
   {
    "duration": 20,
    "start_time": "2021-12-27T23:52:03.237Z"
   },
   {
    "duration": 8,
    "start_time": "2021-12-27T23:52:03.259Z"
   },
   {
    "duration": 48,
    "start_time": "2021-12-27T23:52:03.270Z"
   },
   {
    "duration": 14,
    "start_time": "2021-12-27T23:52:03.320Z"
   },
   {
    "duration": 8,
    "start_time": "2021-12-27T23:52:03.336Z"
   },
   {
    "duration": 8,
    "start_time": "2021-12-27T23:52:03.347Z"
   },
   {
    "duration": 19,
    "start_time": "2021-12-27T23:52:03.357Z"
   },
   {
    "duration": 8,
    "start_time": "2021-12-27T23:52:03.417Z"
   },
   {
    "duration": 8,
    "start_time": "2021-12-27T23:52:03.427Z"
   },
   {
    "duration": 8,
    "start_time": "2021-12-27T23:52:03.438Z"
   },
   {
    "duration": 9,
    "start_time": "2021-12-27T23:52:03.452Z"
   },
   {
    "duration": 66,
    "start_time": "2021-12-27T23:52:03.465Z"
   },
   {
    "duration": 11,
    "start_time": "2021-12-27T23:52:03.534Z"
   },
   {
    "duration": 7,
    "start_time": "2021-12-27T23:52:03.548Z"
   },
   {
    "duration": 9,
    "start_time": "2021-12-27T23:52:03.557Z"
   },
   {
    "duration": 37,
    "start_time": "2021-12-27T23:52:03.569Z"
   },
   {
    "duration": 9,
    "start_time": "2021-12-27T23:52:03.617Z"
   },
   {
    "duration": 6,
    "start_time": "2021-12-27T23:52:03.628Z"
   },
   {
    "duration": 5,
    "start_time": "2021-12-27T23:52:03.637Z"
   },
   {
    "duration": 6,
    "start_time": "2021-12-27T23:52:03.644Z"
   },
   {
    "duration": 67,
    "start_time": "2021-12-27T23:52:03.653Z"
   },
   {
    "duration": 8,
    "start_time": "2021-12-27T23:52:03.722Z"
   },
   {
    "duration": 12,
    "start_time": "2021-12-27T23:52:03.733Z"
   },
   {
    "duration": 6,
    "start_time": "2021-12-27T23:52:03.748Z"
   },
   {
    "duration": 14,
    "start_time": "2021-12-27T23:52:03.756Z"
   },
   {
    "duration": 53,
    "start_time": "2021-12-27T23:52:03.773Z"
   },
   {
    "duration": 14,
    "start_time": "2021-12-27T23:52:03.829Z"
   },
   {
    "duration": 6,
    "start_time": "2021-12-27T23:52:03.846Z"
   },
   {
    "duration": 18,
    "start_time": "2021-12-27T23:52:03.855Z"
   },
   {
    "duration": 52,
    "start_time": "2021-12-27T23:52:03.875Z"
   },
   {
    "duration": 7,
    "start_time": "2021-12-27T23:52:03.929Z"
   },
   {
    "duration": 20,
    "start_time": "2021-12-27T23:52:03.939Z"
   },
   {
    "duration": 68,
    "start_time": "2021-12-27T23:52:03.961Z"
   },
   {
    "duration": 9,
    "start_time": "2021-12-27T23:52:04.031Z"
   },
   {
    "duration": 5,
    "start_time": "2021-12-27T23:52:04.042Z"
   },
   {
    "duration": 7,
    "start_time": "2021-12-27T23:52:04.049Z"
   },
   {
    "duration": 15,
    "start_time": "2021-12-27T23:52:04.058Z"
   },
   {
    "duration": 22,
    "start_time": "2021-12-27T23:52:04.117Z"
   },
   {
    "duration": 6,
    "start_time": "2021-12-27T23:52:04.141Z"
   },
   {
    "duration": 24,
    "start_time": "2021-12-27T23:52:04.149Z"
   },
   {
    "duration": 67,
    "start_time": "2021-12-27T23:52:04.175Z"
   },
   {
    "duration": 18,
    "start_time": "2021-12-27T23:52:04.244Z"
   },
   {
    "duration": 10,
    "start_time": "2021-12-27T23:52:04.264Z"
   },
   {
    "duration": 4617,
    "start_time": "2021-12-27T23:52:04.276Z"
   },
   {
    "duration": 150,
    "start_time": "2021-12-27T23:52:08.896Z"
   },
   {
    "duration": 9,
    "start_time": "2021-12-27T23:52:09.048Z"
   },
   {
    "duration": 26,
    "start_time": "2021-12-27T23:52:09.060Z"
   },
   {
    "duration": 34,
    "start_time": "2021-12-27T23:52:09.088Z"
   },
   {
    "duration": 8,
    "start_time": "2021-12-27T23:52:09.125Z"
   },
   {
    "duration": 36,
    "start_time": "2021-12-27T23:52:09.136Z"
   },
   {
    "duration": 99,
    "start_time": "2021-12-27T23:52:09.175Z"
   },
   {
    "duration": 4642,
    "start_time": "2021-12-27T23:52:09.276Z"
   },
   {
    "duration": 8,
    "start_time": "2021-12-27T23:52:13.921Z"
   },
   {
    "duration": 22,
    "start_time": "2021-12-27T23:52:13.932Z"
   },
   {
    "duration": 17,
    "start_time": "2021-12-27T23:52:13.957Z"
   },
   {
    "duration": 9,
    "start_time": "2021-12-27T23:52:29.971Z"
   },
   {
    "duration": 27,
    "start_time": "2021-12-28T00:02:46.602Z"
   },
   {
    "duration": 42,
    "start_time": "2021-12-28T00:05:52.822Z"
   },
   {
    "duration": 26,
    "start_time": "2021-12-28T00:06:06.308Z"
   },
   {
    "duration": 421,
    "start_time": "2021-12-28T00:07:18.937Z"
   },
   {
    "duration": 318,
    "start_time": "2021-12-28T00:07:32.680Z"
   },
   {
    "duration": 22,
    "start_time": "2021-12-28T00:07:46.118Z"
   },
   {
    "duration": 26,
    "start_time": "2021-12-28T00:08:00.226Z"
   },
   {
    "duration": 433,
    "start_time": "2021-12-28T09:14:21.312Z"
   },
   {
    "duration": 1077,
    "start_time": "2021-12-28T09:14:34.664Z"
   },
   {
    "duration": 102,
    "start_time": "2021-12-28T09:14:35.746Z"
   },
   {
    "duration": 44,
    "start_time": "2021-12-28T09:14:35.852Z"
   },
   {
    "duration": 24,
    "start_time": "2021-12-28T09:14:35.916Z"
   },
   {
    "duration": 20,
    "start_time": "2021-12-28T09:14:35.944Z"
   },
   {
    "duration": 21,
    "start_time": "2021-12-28T09:14:35.967Z"
   },
   {
    "duration": 41,
    "start_time": "2021-12-28T09:14:35.991Z"
   },
   {
    "duration": 25,
    "start_time": "2021-12-28T09:14:36.036Z"
   },
   {
    "duration": 12,
    "start_time": "2021-12-28T09:14:36.065Z"
   },
   {
    "duration": 48,
    "start_time": "2021-12-28T09:14:36.080Z"
   },
   {
    "duration": 16,
    "start_time": "2021-12-28T09:14:36.132Z"
   },
   {
    "duration": 11,
    "start_time": "2021-12-28T09:14:36.151Z"
   },
   {
    "duration": 61,
    "start_time": "2021-12-28T09:14:36.165Z"
   },
   {
    "duration": 16,
    "start_time": "2021-12-28T09:14:36.229Z"
   },
   {
    "duration": 12,
    "start_time": "2021-12-28T09:14:36.247Z"
   },
   {
    "duration": 20,
    "start_time": "2021-12-28T09:14:36.262Z"
   },
   {
    "duration": 33,
    "start_time": "2021-12-28T09:14:36.284Z"
   },
   {
    "duration": 9,
    "start_time": "2021-12-28T09:14:36.320Z"
   },
   {
    "duration": 43,
    "start_time": "2021-12-28T09:14:36.333Z"
   },
   {
    "duration": 37,
    "start_time": "2021-12-28T09:14:36.380Z"
   },
   {
    "duration": 11,
    "start_time": "2021-12-28T09:14:36.420Z"
   },
   {
    "duration": 10,
    "start_time": "2021-12-28T09:14:36.433Z"
   },
   {
    "duration": 9,
    "start_time": "2021-12-28T09:14:36.452Z"
   },
   {
    "duration": 78,
    "start_time": "2021-12-28T09:14:36.465Z"
   },
   {
    "duration": 12,
    "start_time": "2021-12-28T09:14:36.546Z"
   },
   {
    "duration": 11,
    "start_time": "2021-12-28T09:14:36.562Z"
   },
   {
    "duration": 13,
    "start_time": "2021-12-28T09:14:36.576Z"
   },
   {
    "duration": 11,
    "start_time": "2021-12-28T09:14:36.617Z"
   },
   {
    "duration": 11,
    "start_time": "2021-12-28T09:14:36.632Z"
   },
   {
    "duration": 9,
    "start_time": "2021-12-28T09:14:36.646Z"
   },
   {
    "duration": 9,
    "start_time": "2021-12-28T09:14:36.658Z"
   },
   {
    "duration": 8,
    "start_time": "2021-12-28T09:14:36.719Z"
   },
   {
    "duration": 23,
    "start_time": "2021-12-28T09:14:36.730Z"
   },
   {
    "duration": 10,
    "start_time": "2021-12-28T09:14:36.755Z"
   },
   {
    "duration": 54,
    "start_time": "2021-12-28T09:14:36.767Z"
   },
   {
    "duration": 6,
    "start_time": "2021-12-28T09:14:36.824Z"
   },
   {
    "duration": 19,
    "start_time": "2021-12-28T09:14:36.834Z"
   },
   {
    "duration": 22,
    "start_time": "2021-12-28T09:14:36.856Z"
   },
   {
    "duration": 52,
    "start_time": "2021-12-28T09:14:36.881Z"
   },
   {
    "duration": 7,
    "start_time": "2021-12-28T09:14:36.935Z"
   },
   {
    "duration": 18,
    "start_time": "2021-12-28T09:14:36.945Z"
   },
   {
    "duration": 75,
    "start_time": "2021-12-28T09:14:36.966Z"
   },
   {
    "duration": 10,
    "start_time": "2021-12-28T09:14:37.044Z"
   },
   {
    "duration": 35,
    "start_time": "2021-12-28T09:14:37.057Z"
   },
   {
    "duration": 69,
    "start_time": "2021-12-28T09:14:37.094Z"
   },
   {
    "duration": 14,
    "start_time": "2021-12-28T09:14:37.166Z"
   },
   {
    "duration": 40,
    "start_time": "2021-12-28T09:14:37.183Z"
   },
   {
    "duration": 7,
    "start_time": "2021-12-28T09:14:37.226Z"
   },
   {
    "duration": 17,
    "start_time": "2021-12-28T09:14:37.236Z"
   },
   {
    "duration": 68,
    "start_time": "2021-12-28T09:14:37.256Z"
   },
   {
    "duration": 6,
    "start_time": "2021-12-28T09:14:37.327Z"
   },
   {
    "duration": 27,
    "start_time": "2021-12-28T09:14:37.336Z"
   },
   {
    "duration": 79,
    "start_time": "2021-12-28T09:14:37.365Z"
   },
   {
    "duration": 20,
    "start_time": "2021-12-28T09:14:37.447Z"
   },
   {
    "duration": 11,
    "start_time": "2021-12-28T09:14:37.470Z"
   },
   {
    "duration": 5535,
    "start_time": "2021-12-28T09:14:37.516Z"
   },
   {
    "duration": 143,
    "start_time": "2021-12-28T09:14:43.054Z"
   },
   {
    "duration": 23,
    "start_time": "2021-12-28T09:14:43.200Z"
   },
   {
    "duration": 26,
    "start_time": "2021-12-28T09:14:43.226Z"
   },
   {
    "duration": 11,
    "start_time": "2021-12-28T09:14:43.255Z"
   },
   {
    "duration": 53,
    "start_time": "2021-12-28T09:14:43.269Z"
   },
   {
    "duration": 37,
    "start_time": "2021-12-28T09:14:43.325Z"
   },
   {
    "duration": 89,
    "start_time": "2021-12-28T09:14:43.365Z"
   },
   {
    "duration": 4987,
    "start_time": "2021-12-28T09:14:43.457Z"
   },
   {
    "duration": 8,
    "start_time": "2021-12-28T09:14:48.447Z"
   },
   {
    "duration": 18,
    "start_time": "2021-12-28T09:14:48.458Z"
   },
   {
    "duration": 53,
    "start_time": "2021-12-28T09:14:48.478Z"
   },
   {
    "duration": 29,
    "start_time": "2021-12-28T09:14:48.537Z"
   },
   {
    "duration": 8239,
    "start_time": "2021-12-28T09:14:48.569Z"
   },
   {
    "duration": 7724,
    "start_time": "2021-12-28T09:16:15.774Z"
   },
   {
    "duration": 7698,
    "start_time": "2021-12-28T09:17:21.992Z"
   },
   {
    "duration": 29,
    "start_time": "2021-12-28T09:18:29.671Z"
   },
   {
    "duration": 35,
    "start_time": "2021-12-28T09:18:42.836Z"
   },
   {
    "duration": 8170,
    "start_time": "2021-12-28T09:19:12.475Z"
   },
   {
    "duration": 28,
    "start_time": "2021-12-28T09:21:37.574Z"
   },
   {
    "duration": 7371,
    "start_time": "2021-12-28T09:22:29.827Z"
   },
   {
    "duration": 96,
    "start_time": "2021-12-28T09:28:08.158Z"
   },
   {
    "duration": 32,
    "start_time": "2021-12-28T09:28:12.516Z"
   },
   {
    "duration": 33,
    "start_time": "2021-12-28T09:28:21.402Z"
   },
   {
    "duration": 7779,
    "start_time": "2021-12-28T09:30:46.746Z"
   },
   {
    "duration": 31,
    "start_time": "2021-12-28T09:31:06.898Z"
   },
   {
    "duration": 31,
    "start_time": "2021-12-28T09:31:49.323Z"
   },
   {
    "duration": 29,
    "start_time": "2021-12-28T09:32:34.199Z"
   },
   {
    "duration": 5,
    "start_time": "2021-12-28T09:36:17.636Z"
   },
   {
    "duration": 28,
    "start_time": "2021-12-28T09:38:54.473Z"
   },
   {
    "duration": 6,
    "start_time": "2021-12-28T09:41:20.904Z"
   },
   {
    "duration": 7,
    "start_time": "2021-12-28T09:43:47.579Z"
   },
   {
    "duration": 7,
    "start_time": "2021-12-28T09:46:00.822Z"
   },
   {
    "duration": 30,
    "start_time": "2021-12-28T09:54:43.814Z"
   },
   {
    "duration": 121,
    "start_time": "2021-12-28T10:04:09.439Z"
   },
   {
    "duration": 16,
    "start_time": "2021-12-28T10:04:15.420Z"
   },
   {
    "duration": 9,
    "start_time": "2021-12-28T10:05:30.084Z"
   },
   {
    "duration": 111,
    "start_time": "2021-12-28T10:25:16.994Z"
   },
   {
    "duration": 106,
    "start_time": "2021-12-28T10:25:27.360Z"
   },
   {
    "duration": 97,
    "start_time": "2021-12-28T10:25:34.956Z"
   },
   {
    "duration": 98,
    "start_time": "2021-12-28T10:28:16.831Z"
   },
   {
    "duration": 9,
    "start_time": "2021-12-28T10:28:24.375Z"
   },
   {
    "duration": 9,
    "start_time": "2021-12-28T10:28:56.478Z"
   },
   {
    "duration": 10,
    "start_time": "2021-12-28T10:29:48.731Z"
   },
   {
    "duration": 9,
    "start_time": "2021-12-28T10:30:07.984Z"
   },
   {
    "duration": 8,
    "start_time": "2021-12-28T10:30:36.712Z"
   },
   {
    "duration": 9,
    "start_time": "2021-12-28T10:31:06.280Z"
   },
   {
    "duration": 22,
    "start_time": "2021-12-28T10:34:32.792Z"
   },
   {
    "duration": 24,
    "start_time": "2021-12-28T10:39:51.965Z"
   },
   {
    "duration": 24,
    "start_time": "2021-12-28T10:44:58.610Z"
   },
   {
    "duration": 25,
    "start_time": "2021-12-28T10:45:04.351Z"
   },
   {
    "duration": 28,
    "start_time": "2021-12-28T10:48:11.853Z"
   },
   {
    "duration": 8,
    "start_time": "2021-12-28T10:49:52.910Z"
   },
   {
    "duration": 7324,
    "start_time": "2021-12-28T10:50:46.870Z"
   },
   {
    "duration": 9471,
    "start_time": "2021-12-28T10:51:03.909Z"
   },
   {
    "duration": 8,
    "start_time": "2021-12-28T10:51:16.426Z"
   },
   {
    "duration": 27,
    "start_time": "2021-12-28T10:59:05.685Z"
   },
   {
    "duration": 6,
    "start_time": "2021-12-28T10:59:40.721Z"
   },
   {
    "duration": 10,
    "start_time": "2021-12-28T11:01:16.900Z"
   },
   {
    "duration": 8319,
    "start_time": "2021-12-28T11:01:31.559Z"
   },
   {
    "duration": 7,
    "start_time": "2021-12-28T11:01:58.993Z"
   },
   {
    "duration": 17,
    "start_time": "2021-12-28T11:03:18.019Z"
   },
   {
    "duration": 7,
    "start_time": "2021-12-28T11:06:03.931Z"
   },
   {
    "duration": 7,
    "start_time": "2021-12-28T11:06:09.610Z"
   },
   {
    "duration": 7,
    "start_time": "2021-12-28T11:06:23.938Z"
   },
   {
    "duration": 852,
    "start_time": "2021-12-28T15:33:59.706Z"
   },
   {
    "duration": 62,
    "start_time": "2021-12-28T15:34:00.560Z"
   },
   {
    "duration": 26,
    "start_time": "2021-12-28T15:34:00.626Z"
   },
   {
    "duration": 14,
    "start_time": "2021-12-28T15:34:00.654Z"
   },
   {
    "duration": 5,
    "start_time": "2021-12-28T15:34:00.671Z"
   },
   {
    "duration": 13,
    "start_time": "2021-12-28T15:34:00.678Z"
   },
   {
    "duration": 20,
    "start_time": "2021-12-28T15:34:00.718Z"
   },
   {
    "duration": 20,
    "start_time": "2021-12-28T15:34:00.742Z"
   },
   {
    "duration": 12,
    "start_time": "2021-12-28T15:34:00.765Z"
   },
   {
    "duration": 42,
    "start_time": "2021-12-28T15:34:00.779Z"
   },
   {
    "duration": 13,
    "start_time": "2021-12-28T15:34:00.823Z"
   },
   {
    "duration": 7,
    "start_time": "2021-12-28T15:34:00.839Z"
   },
   {
    "duration": 26,
    "start_time": "2021-12-28T15:34:00.849Z"
   },
   {
    "duration": 40,
    "start_time": "2021-12-28T15:34:00.878Z"
   },
   {
    "duration": 8,
    "start_time": "2021-12-28T15:34:00.921Z"
   },
   {
    "duration": 20,
    "start_time": "2021-12-28T15:34:00.931Z"
   },
   {
    "duration": 8,
    "start_time": "2021-12-28T15:34:00.953Z"
   },
   {
    "duration": 21,
    "start_time": "2021-12-28T15:34:00.963Z"
   },
   {
    "duration": 43,
    "start_time": "2021-12-28T15:34:00.986Z"
   },
   {
    "duration": 17,
    "start_time": "2021-12-28T15:34:01.031Z"
   },
   {
    "duration": 19,
    "start_time": "2021-12-28T15:34:01.051Z"
   },
   {
    "duration": 10,
    "start_time": "2021-12-28T15:34:01.073Z"
   },
   {
    "duration": 30,
    "start_time": "2021-12-28T15:34:01.089Z"
   },
   {
    "duration": 19,
    "start_time": "2021-12-28T15:34:01.122Z"
   },
   {
    "duration": 16,
    "start_time": "2021-12-28T15:34:01.143Z"
   },
   {
    "duration": 18,
    "start_time": "2021-12-28T15:34:01.161Z"
   },
   {
    "duration": 37,
    "start_time": "2021-12-28T15:34:01.182Z"
   },
   {
    "duration": 16,
    "start_time": "2021-12-28T15:34:01.221Z"
   },
   {
    "duration": 16,
    "start_time": "2021-12-28T15:34:01.240Z"
   },
   {
    "duration": 20,
    "start_time": "2021-12-28T15:34:01.258Z"
   },
   {
    "duration": 8,
    "start_time": "2021-12-28T15:34:01.281Z"
   },
   {
    "duration": 25,
    "start_time": "2021-12-28T15:34:01.292Z"
   },
   {
    "duration": 26,
    "start_time": "2021-12-28T15:34:01.319Z"
   },
   {
    "duration": 8,
    "start_time": "2021-12-28T15:34:01.348Z"
   },
   {
    "duration": 19,
    "start_time": "2021-12-28T15:34:01.359Z"
   },
   {
    "duration": 11,
    "start_time": "2021-12-28T15:34:01.381Z"
   },
   {
    "duration": 26,
    "start_time": "2021-12-28T15:34:01.417Z"
   },
   {
    "duration": 35,
    "start_time": "2021-12-28T15:34:01.446Z"
   },
   {
    "duration": 20,
    "start_time": "2021-12-28T15:34:01.484Z"
   },
   {
    "duration": 9,
    "start_time": "2021-12-28T15:34:01.507Z"
   },
   {
    "duration": 19,
    "start_time": "2021-12-28T15:34:01.519Z"
   },
   {
    "duration": 29,
    "start_time": "2021-12-28T15:34:01.540Z"
   },
   {
    "duration": 7,
    "start_time": "2021-12-28T15:34:01.571Z"
   },
   {
    "duration": 48,
    "start_time": "2021-12-28T15:34:01.580Z"
   },
   {
    "duration": 32,
    "start_time": "2021-12-28T15:34:01.631Z"
   },
   {
    "duration": 10,
    "start_time": "2021-12-28T15:34:01.666Z"
   },
   {
    "duration": 15,
    "start_time": "2021-12-28T15:34:01.678Z"
   },
   {
    "duration": 7,
    "start_time": "2021-12-28T15:34:01.717Z"
   },
   {
    "duration": 22,
    "start_time": "2021-12-28T15:34:01.726Z"
   },
   {
    "duration": 56,
    "start_time": "2021-12-28T15:34:01.751Z"
   },
   {
    "duration": 7,
    "start_time": "2021-12-28T15:34:01.809Z"
   },
   {
    "duration": 30,
    "start_time": "2021-12-28T15:34:01.819Z"
   },
   {
    "duration": 35,
    "start_time": "2021-12-28T15:34:01.851Z"
   },
   {
    "duration": 32,
    "start_time": "2021-12-28T15:34:01.888Z"
   },
   {
    "duration": 20,
    "start_time": "2021-12-28T15:34:01.922Z"
   },
   {
    "duration": 4362,
    "start_time": "2021-12-28T15:34:01.944Z"
   },
   {
    "duration": 146,
    "start_time": "2021-12-28T15:34:06.318Z"
   },
   {
    "duration": 8,
    "start_time": "2021-12-28T15:34:06.466Z"
   },
   {
    "duration": 51,
    "start_time": "2021-12-28T15:34:06.477Z"
   },
   {
    "duration": 10,
    "start_time": "2021-12-28T15:34:06.531Z"
   },
   {
    "duration": 9,
    "start_time": "2021-12-28T15:34:06.543Z"
   },
   {
    "duration": 71,
    "start_time": "2021-12-28T15:34:06.554Z"
   },
   {
    "duration": 64,
    "start_time": "2021-12-28T15:34:06.627Z"
   },
   {
    "duration": 4593,
    "start_time": "2021-12-28T15:34:06.693Z"
   },
   {
    "duration": 7,
    "start_time": "2021-12-28T15:34:11.288Z"
   },
   {
    "duration": 33,
    "start_time": "2021-12-28T15:34:11.298Z"
   },
   {
    "duration": 16,
    "start_time": "2021-12-28T15:34:11.334Z"
   },
   {
    "duration": 60,
    "start_time": "2021-12-28T15:34:11.357Z"
   },
   {
    "duration": 35,
    "start_time": "2021-12-28T15:34:11.420Z"
   },
   {
    "duration": 6,
    "start_time": "2021-12-28T15:34:11.458Z"
   },
   {
    "duration": 15,
    "start_time": "2021-12-28T15:34:11.466Z"
   },
   {
    "duration": 59,
    "start_time": "2021-12-28T15:34:11.483Z"
   },
   {
    "duration": 28,
    "start_time": "2021-12-28T15:34:11.544Z"
   },
   {
    "duration": 52,
    "start_time": "2021-12-28T15:34:11.574Z"
   },
   {
    "duration": 7,
    "start_time": "2021-12-28T15:34:11.629Z"
   },
   {
    "duration": 32,
    "start_time": "2021-12-28T15:34:11.639Z"
   },
   {
    "duration": 12,
    "start_time": "2021-12-28T15:34:11.673Z"
   },
   {
    "duration": 11,
    "start_time": "2021-12-29T12:42:28.820Z"
   }
  ],
  "kernelspec": {
   "display_name": "Python 3.9.7 ('base')",
   "language": "python",
   "name": "python3"
  },
  "language_info": {
   "codemirror_mode": {
    "name": "ipython",
    "version": 3
   },
   "file_extension": ".py",
   "mimetype": "text/x-python",
   "name": "python",
   "nbconvert_exporter": "python",
   "pygments_lexer": "ipython3",
   "version": "3.9.7"
  },
  "toc": {
   "base_numbering": 1,
   "nav_menu": {},
   "number_sections": true,
   "sideBar": true,
   "skip_h1_title": true,
   "title_cell": "Содержание",
   "title_sidebar": "Содержание",
   "toc_cell": false,
   "toc_position": {
    "height": "calc(100% - 180px)",
    "left": "10px",
    "top": "150px",
    "width": "165px"
   },
   "toc_section_display": true,
   "toc_window_display": true
  },
  "vscode": {
   "interpreter": {
    "hash": "5179d32cf6ec497baf3f8a3ef987cc77c5d2dc691fdde20a56316522f61a7323"
   }
  }
 },
 "nbformat": 4,
 "nbformat_minor": 2
}
